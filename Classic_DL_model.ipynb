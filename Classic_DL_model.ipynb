{
  "nbformat": 4,
  "nbformat_minor": 0,
  "metadata": {
    "kernelspec": {
      "display_name": "Python 3",
      "language": "python",
      "name": "python3"
    },
    "language_info": {
      "codemirror_mode": {
        "name": "ipython",
        "version": 3
      },
      "file_extension": ".py",
      "mimetype": "text/x-python",
      "name": "python",
      "nbconvert_exporter": "python",
      "pygments_lexer": "ipython3",
      "version": "3.7.6"
    },
    "colab": {
      "name": "Classic_DL_model.ipynb",
      "provenance": [],
      "collapsed_sections": [],
      "include_colab_link": true
    },
    "accelerator": "GPU"
  },
  "cells": [
    {
      "cell_type": "markdown",
      "metadata": {
        "id": "view-in-github",
        "colab_type": "text"
      },
      "source": [
        "<a href=\"https://colab.research.google.com/github/Jahan2021/UCS-Classification/blob/main/Classic_DL_model.ipynb\" target=\"_parent\"><img src=\"https://colab.research.google.com/assets/colab-badge.svg\" alt=\"Open In Colab\"/></a>"
      ]
    },
    {
      "cell_type": "markdown",
      "source": [
        "The code is reproduced from: https://towardsdatascience.com/nlp-spam-detection-in-sms-text-data-using-deep-learning-b8632db85cc8"
      ],
      "metadata": {
        "id": "ZmVR_n9_-7vM"
      }
    },
    {
      "cell_type": "markdown",
      "metadata": {
        "id": "yEwBMc1e8Ril"
      },
      "source": [
        "## Method\n",
        "We will use Dense text classifier , Long Short Term Memory(LSTM) and Bi-directional LSTM and compare these methods in terms of performance and runtime. \n",
        "\n",
        "The work here is broken down in multiple steps:\n",
        "\n",
        "* Load and explore the data\n",
        "* Prepare train test data\n",
        "* Train the detection model using the three approaches mentioned earlier\n",
        "* Select one as a final model\n",
        "* Use the final trained classifier to classify the text\n"
      ]
    },
    {
      "cell_type": "markdown",
      "metadata": {
        "id": "7TMuyae78Rim"
      },
      "source": [
        "First, let's make sure our tensorflow version is 2. "
      ]
    },
    {
      "cell_type": "code",
      "metadata": {
        "colab": {
          "base_uri": "https://localhost:8080/"
        },
        "id": "5xDIAiCA8Rin",
        "outputId": "a45437af-6638-4164-cc94-f7373ae42f96"
      },
      "source": [
        "import tensorflow as tf\n",
        "print(tf.__version__)"
      ],
      "execution_count": null,
      "outputs": [
        {
          "output_type": "stream",
          "name": "stdout",
          "text": [
            "2.7.0\n"
          ]
        }
      ]
    },
    {
      "cell_type": "markdown",
      "metadata": {
        "id": "XJiGd8U18Rir"
      },
      "source": [
        "Next, let's import packages that we need. It's good practice to keep all the imports at the beginning of the code. In any project, as you work through the analysis and find you need to import a package, make sure to add the import up here at the benginning."
      ]
    },
    {
      "cell_type": "code",
      "metadata": {
        "id": "HTLHuRAF8Rit"
      },
      "source": [
        "# import libarries for reading data, exploring and plotting\n",
        "import numpy as np\n",
        "import pandas as pd\n",
        "import seaborn as sns\n",
        "import matplotlib.pyplot as plt\n",
        "from wordcloud import WordCloud, STOPWORDS, ImageColorGenerator\n",
        "%matplotlib inline\n",
        "\n",
        "# library for train test split\n",
        "from sklearn.model_selection import train_test_split\n",
        "\n",
        "# deep learning libraries for text pre-processing\n",
        "import tensorflow as tf\n",
        "from tensorflow.keras.preprocessing.text import Tokenizer\n",
        "from tensorflow.keras.preprocessing.sequence import pad_sequences\n",
        "\n",
        "# Modeling \n",
        "from tensorflow.keras.callbacks import EarlyStopping\n",
        "from tensorflow.keras.models import Sequential\n",
        "from tensorflow.keras.layers import Embedding, GlobalAveragePooling1D,  Flatten, Dense, Dropout, LSTM, SpatialDropout1D, Bidirectional\n"
      ],
      "execution_count": null,
      "outputs": []
    },
    {
      "cell_type": "markdown",
      "metadata": {
        "id": "HGr-pAMe8Rix"
      },
      "source": [
        "## Load and explore the UCS data\n",
        "\n"
      ]
    },
    {
      "cell_type": "code",
      "metadata": {
        "colab": {
          "base_uri": "https://localhost:8080/"
        },
        "id": "UaMV9rRx2BOr",
        "outputId": "94ba5ccb-84ee-4b2c-9506-b02f990ce873"
      },
      "source": [
        "from google.colab import drive\n",
        "drive.mount('/content/drive')"
      ],
      "execution_count": null,
      "outputs": [
        {
          "output_type": "stream",
          "name": "stdout",
          "text": [
            "Mounted at /content/drive\n"
          ]
        }
      ]
    },
    {
      "cell_type": "code",
      "metadata": {
        "id": "jiNM8C3g1_g4"
      },
      "source": [
        "path=\"/content/drive/MyDrive/Colab Notebooks\""
      ],
      "execution_count": null,
      "outputs": []
    },
    {
      "cell_type": "code",
      "metadata": {
        "colab": {
          "base_uri": "https://localhost:8080/",
          "height": 206
        },
        "id": "pcut_xwI1nfe",
        "outputId": "e1a01642-6b67-4d53-8b27-e61a520f9647"
      },
      "source": [
        "path_data=path+\"/data1/ucsdata.csv\"#\"/content/spamdata_v2.csv\"#\"/content/spamdata_v2.txt\"\n",
        "df = pd.read_csv(path_data)\n",
        "df.head()\n"
      ],
      "execution_count": null,
      "outputs": [
        {
          "output_type": "execute_result",
          "data": {
            "text/html": [
              "\n",
              "  <div id=\"df-cff0d4d1-59d7-4b01-82d6-6ca0d03f6f63\">\n",
              "    <div class=\"colab-df-container\">\n",
              "      <div>\n",
              "<style scoped>\n",
              "    .dataframe tbody tr th:only-of-type {\n",
              "        vertical-align: middle;\n",
              "    }\n",
              "\n",
              "    .dataframe tbody tr th {\n",
              "        vertical-align: top;\n",
              "    }\n",
              "\n",
              "    .dataframe thead th {\n",
              "        text-align: right;\n",
              "    }\n",
              "</style>\n",
              "<table border=\"1\" class=\"dataframe\">\n",
              "  <thead>\n",
              "    <tr style=\"text-align: right;\">\n",
              "      <th></th>\n",
              "      <th>label</th>\n",
              "      <th>text</th>\n",
              "    </tr>\n",
              "  </thead>\n",
              "  <tbody>\n",
              "    <tr>\n",
              "      <th>0</th>\n",
              "      <td>1</td>\n",
              "      <td>the user uses the find filter and select capab...</td>\n",
              "    </tr>\n",
              "    <tr>\n",
              "      <th>1</th>\n",
              "      <td>1</td>\n",
              "      <td>a map based query can be performed.</td>\n",
              "    </tr>\n",
              "    <tr>\n",
              "      <th>2</th>\n",
              "      <td>1</td>\n",
              "      <td>user finds and selects the desired structure s.</td>\n",
              "    </tr>\n",
              "    <tr>\n",
              "      <th>3</th>\n",
              "      <td>1</td>\n",
              "      <td>user views data for the selected structure s.</td>\n",
              "    </tr>\n",
              "    <tr>\n",
              "      <th>4</th>\n",
              "      <td>1</td>\n",
              "      <td>the user uses the find filter and select capab...</td>\n",
              "    </tr>\n",
              "  </tbody>\n",
              "</table>\n",
              "</div>\n",
              "      <button class=\"colab-df-convert\" onclick=\"convertToInteractive('df-cff0d4d1-59d7-4b01-82d6-6ca0d03f6f63')\"\n",
              "              title=\"Convert this dataframe to an interactive table.\"\n",
              "              style=\"display:none;\">\n",
              "        \n",
              "  <svg xmlns=\"http://www.w3.org/2000/svg\" height=\"24px\"viewBox=\"0 0 24 24\"\n",
              "       width=\"24px\">\n",
              "    <path d=\"M0 0h24v24H0V0z\" fill=\"none\"/>\n",
              "    <path d=\"M18.56 5.44l.94 2.06.94-2.06 2.06-.94-2.06-.94-.94-2.06-.94 2.06-2.06.94zm-11 1L8.5 8.5l.94-2.06 2.06-.94-2.06-.94L8.5 2.5l-.94 2.06-2.06.94zm10 10l.94 2.06.94-2.06 2.06-.94-2.06-.94-.94-2.06-.94 2.06-2.06.94z\"/><path d=\"M17.41 7.96l-1.37-1.37c-.4-.4-.92-.59-1.43-.59-.52 0-1.04.2-1.43.59L10.3 9.45l-7.72 7.72c-.78.78-.78 2.05 0 2.83L4 21.41c.39.39.9.59 1.41.59.51 0 1.02-.2 1.41-.59l7.78-7.78 2.81-2.81c.8-.78.8-2.07 0-2.86zM5.41 20L4 18.59l7.72-7.72 1.47 1.35L5.41 20z\"/>\n",
              "  </svg>\n",
              "      </button>\n",
              "      \n",
              "  <style>\n",
              "    .colab-df-container {\n",
              "      display:flex;\n",
              "      flex-wrap:wrap;\n",
              "      gap: 12px;\n",
              "    }\n",
              "\n",
              "    .colab-df-convert {\n",
              "      background-color: #E8F0FE;\n",
              "      border: none;\n",
              "      border-radius: 50%;\n",
              "      cursor: pointer;\n",
              "      display: none;\n",
              "      fill: #1967D2;\n",
              "      height: 32px;\n",
              "      padding: 0 0 0 0;\n",
              "      width: 32px;\n",
              "    }\n",
              "\n",
              "    .colab-df-convert:hover {\n",
              "      background-color: #E2EBFA;\n",
              "      box-shadow: 0px 1px 2px rgba(60, 64, 67, 0.3), 0px 1px 3px 1px rgba(60, 64, 67, 0.15);\n",
              "      fill: #174EA6;\n",
              "    }\n",
              "\n",
              "    [theme=dark] .colab-df-convert {\n",
              "      background-color: #3B4455;\n",
              "      fill: #D2E3FC;\n",
              "    }\n",
              "\n",
              "    [theme=dark] .colab-df-convert:hover {\n",
              "      background-color: #434B5C;\n",
              "      box-shadow: 0px 1px 3px 1px rgba(0, 0, 0, 0.15);\n",
              "      filter: drop-shadow(0px 1px 2px rgba(0, 0, 0, 0.3));\n",
              "      fill: #FFFFFF;\n",
              "    }\n",
              "  </style>\n",
              "\n",
              "      <script>\n",
              "        const buttonEl =\n",
              "          document.querySelector('#df-cff0d4d1-59d7-4b01-82d6-6ca0d03f6f63 button.colab-df-convert');\n",
              "        buttonEl.style.display =\n",
              "          google.colab.kernel.accessAllowed ? 'block' : 'none';\n",
              "\n",
              "        async function convertToInteractive(key) {\n",
              "          const element = document.querySelector('#df-cff0d4d1-59d7-4b01-82d6-6ca0d03f6f63');\n",
              "          const dataTable =\n",
              "            await google.colab.kernel.invokeFunction('convertToInteractive',\n",
              "                                                     [key], {});\n",
              "          if (!dataTable) return;\n",
              "\n",
              "          const docLinkHtml = 'Like what you see? Visit the ' +\n",
              "            '<a target=\"_blank\" href=https://colab.research.google.com/notebooks/data_table.ipynb>data table notebook</a>'\n",
              "            + ' to learn more about interactive tables.';\n",
              "          element.innerHTML = '';\n",
              "          dataTable['output_type'] = 'display_data';\n",
              "          await google.colab.output.renderOutput(dataTable, element);\n",
              "          const docLink = document.createElement('div');\n",
              "          docLink.innerHTML = docLinkHtml;\n",
              "          element.appendChild(docLink);\n",
              "        }\n",
              "      </script>\n",
              "    </div>\n",
              "  </div>\n",
              "  "
            ],
            "text/plain": [
              "   label                                               text\n",
              "0      1  the user uses the find filter and select capab...\n",
              "1      1                a map based query can be performed.\n",
              "2      1    user finds and selects the desired structure s.\n",
              "3      1      user views data for the selected structure s.\n",
              "4      1  the user uses the find filter and select capab..."
            ]
          },
          "metadata": {},
          "execution_count": 4
        }
      ]
    },
    {
      "cell_type": "code",
      "source": [
        "df.shape"
      ],
      "metadata": {
        "colab": {
          "base_uri": "https://localhost:8080/"
        },
        "id": "PhRnGEaESg8n",
        "outputId": "51c26e55-ee2f-4f66-9fad-2b76256d16a3"
      },
      "execution_count": null,
      "outputs": [
        {
          "output_type": "execute_result",
          "data": {
            "text/plain": [
              "(1447, 2)"
            ]
          },
          "metadata": {},
          "execution_count": 5
        }
      ]
    },
    {
      "cell_type": "code",
      "metadata": {
        "id": "e1cC3K3sVfMH"
      },
      "source": [
        "df=df.drop_duplicates(keep='last', ignore_index=True)"
      ],
      "execution_count": null,
      "outputs": []
    },
    {
      "cell_type": "code",
      "metadata": {
        "colab": {
          "base_uri": "https://localhost:8080/",
          "height": 67
        },
        "id": "i2rQHarQVrJb",
        "outputId": "f4c4acd9-b461-4f26-8efb-f0e420c1a271"
      },
      "source": [
        "# Selecting duplicate rows except first \n",
        "# occurrence based on all columns\n",
        "duplicate = df[df.duplicated()]\n",
        "  \n",
        "print(\"Duplicate Rows :\")\n",
        "  \n",
        "# Print the resultant Dataframe\n",
        "duplicate\n",
        "#df.drop_duplicates()"
      ],
      "execution_count": null,
      "outputs": [
        {
          "output_type": "stream",
          "name": "stdout",
          "text": [
            "Duplicate Rows :\n"
          ]
        },
        {
          "output_type": "execute_result",
          "data": {
            "text/html": [
              "\n",
              "  <div id=\"df-1818f292-0b8a-470b-974a-f7ac745cb0cb\">\n",
              "    <div class=\"colab-df-container\">\n",
              "      <div>\n",
              "<style scoped>\n",
              "    .dataframe tbody tr th:only-of-type {\n",
              "        vertical-align: middle;\n",
              "    }\n",
              "\n",
              "    .dataframe tbody tr th {\n",
              "        vertical-align: top;\n",
              "    }\n",
              "\n",
              "    .dataframe thead th {\n",
              "        text-align: right;\n",
              "    }\n",
              "</style>\n",
              "<table border=\"1\" class=\"dataframe\">\n",
              "  <thead>\n",
              "    <tr style=\"text-align: right;\">\n",
              "      <th></th>\n",
              "      <th>label</th>\n",
              "      <th>text</th>\n",
              "    </tr>\n",
              "  </thead>\n",
              "  <tbody>\n",
              "  </tbody>\n",
              "</table>\n",
              "</div>\n",
              "      <button class=\"colab-df-convert\" onclick=\"convertToInteractive('df-1818f292-0b8a-470b-974a-f7ac745cb0cb')\"\n",
              "              title=\"Convert this dataframe to an interactive table.\"\n",
              "              style=\"display:none;\">\n",
              "        \n",
              "  <svg xmlns=\"http://www.w3.org/2000/svg\" height=\"24px\"viewBox=\"0 0 24 24\"\n",
              "       width=\"24px\">\n",
              "    <path d=\"M0 0h24v24H0V0z\" fill=\"none\"/>\n",
              "    <path d=\"M18.56 5.44l.94 2.06.94-2.06 2.06-.94-2.06-.94-.94-2.06-.94 2.06-2.06.94zm-11 1L8.5 8.5l.94-2.06 2.06-.94-2.06-.94L8.5 2.5l-.94 2.06-2.06.94zm10 10l.94 2.06.94-2.06 2.06-.94-2.06-.94-.94-2.06-.94 2.06-2.06.94z\"/><path d=\"M17.41 7.96l-1.37-1.37c-.4-.4-.92-.59-1.43-.59-.52 0-1.04.2-1.43.59L10.3 9.45l-7.72 7.72c-.78.78-.78 2.05 0 2.83L4 21.41c.39.39.9.59 1.41.59.51 0 1.02-.2 1.41-.59l7.78-7.78 2.81-2.81c.8-.78.8-2.07 0-2.86zM5.41 20L4 18.59l7.72-7.72 1.47 1.35L5.41 20z\"/>\n",
              "  </svg>\n",
              "      </button>\n",
              "      \n",
              "  <style>\n",
              "    .colab-df-container {\n",
              "      display:flex;\n",
              "      flex-wrap:wrap;\n",
              "      gap: 12px;\n",
              "    }\n",
              "\n",
              "    .colab-df-convert {\n",
              "      background-color: #E8F0FE;\n",
              "      border: none;\n",
              "      border-radius: 50%;\n",
              "      cursor: pointer;\n",
              "      display: none;\n",
              "      fill: #1967D2;\n",
              "      height: 32px;\n",
              "      padding: 0 0 0 0;\n",
              "      width: 32px;\n",
              "    }\n",
              "\n",
              "    .colab-df-convert:hover {\n",
              "      background-color: #E2EBFA;\n",
              "      box-shadow: 0px 1px 2px rgba(60, 64, 67, 0.3), 0px 1px 3px 1px rgba(60, 64, 67, 0.15);\n",
              "      fill: #174EA6;\n",
              "    }\n",
              "\n",
              "    [theme=dark] .colab-df-convert {\n",
              "      background-color: #3B4455;\n",
              "      fill: #D2E3FC;\n",
              "    }\n",
              "\n",
              "    [theme=dark] .colab-df-convert:hover {\n",
              "      background-color: #434B5C;\n",
              "      box-shadow: 0px 1px 3px 1px rgba(0, 0, 0, 0.15);\n",
              "      filter: drop-shadow(0px 1px 2px rgba(0, 0, 0, 0.3));\n",
              "      fill: #FFFFFF;\n",
              "    }\n",
              "  </style>\n",
              "\n",
              "      <script>\n",
              "        const buttonEl =\n",
              "          document.querySelector('#df-1818f292-0b8a-470b-974a-f7ac745cb0cb button.colab-df-convert');\n",
              "        buttonEl.style.display =\n",
              "          google.colab.kernel.accessAllowed ? 'block' : 'none';\n",
              "\n",
              "        async function convertToInteractive(key) {\n",
              "          const element = document.querySelector('#df-1818f292-0b8a-470b-974a-f7ac745cb0cb');\n",
              "          const dataTable =\n",
              "            await google.colab.kernel.invokeFunction('convertToInteractive',\n",
              "                                                     [key], {});\n",
              "          if (!dataTable) return;\n",
              "\n",
              "          const docLinkHtml = 'Like what you see? Visit the ' +\n",
              "            '<a target=\"_blank\" href=https://colab.research.google.com/notebooks/data_table.ipynb>data table notebook</a>'\n",
              "            + ' to learn more about interactive tables.';\n",
              "          element.innerHTML = '';\n",
              "          dataTable['output_type'] = 'display_data';\n",
              "          await google.colab.output.renderOutput(dataTable, element);\n",
              "          const docLink = document.createElement('div');\n",
              "          docLink.innerHTML = docLinkHtml;\n",
              "          element.appendChild(docLink);\n",
              "        }\n",
              "      </script>\n",
              "    </div>\n",
              "  </div>\n",
              "  "
            ],
            "text/plain": [
              "Empty DataFrame\n",
              "Columns: [label, text]\n",
              "Index: []"
            ]
          },
          "metadata": {},
          "execution_count": 7
        }
      ]
    },
    {
      "cell_type": "code",
      "metadata": {
        "colab": {
          "base_uri": "https://localhost:8080/",
          "height": 206
        },
        "id": "LHrKxTwQ1lBb",
        "outputId": "cb902ab7-de52-488f-b40e-13fb4d954beb"
      },
      "source": [
        "df = df.sample(frac=1).reset_index(drop=True)\n",
        "df.head()"
      ],
      "execution_count": null,
      "outputs": [
        {
          "output_type": "execute_result",
          "data": {
            "text/html": [
              "\n",
              "  <div id=\"df-020c702d-21cc-4f58-973d-1ce18a21eac9\">\n",
              "    <div class=\"colab-df-container\">\n",
              "      <div>\n",
              "<style scoped>\n",
              "    .dataframe tbody tr th:only-of-type {\n",
              "        vertical-align: middle;\n",
              "    }\n",
              "\n",
              "    .dataframe tbody tr th {\n",
              "        vertical-align: top;\n",
              "    }\n",
              "\n",
              "    .dataframe thead th {\n",
              "        text-align: right;\n",
              "    }\n",
              "</style>\n",
              "<table border=\"1\" class=\"dataframe\">\n",
              "  <thead>\n",
              "    <tr style=\"text-align: right;\">\n",
              "      <th></th>\n",
              "      <th>label</th>\n",
              "      <th>text</th>\n",
              "    </tr>\n",
              "  </thead>\n",
              "  <tbody>\n",
              "    <tr>\n",
              "      <th>0</th>\n",
              "      <td>1</td>\n",
              "      <td>user selects to expand selected nodes.</td>\n",
              "    </tr>\n",
              "    <tr>\n",
              "      <th>1</th>\n",
              "      <td>1</td>\n",
              "      <td>system removes the selected nodes from the dis...</td>\n",
              "    </tr>\n",
              "    <tr>\n",
              "      <th>2</th>\n",
              "      <td>0</td>\n",
              "      <td>digitalhomeowner director will provide managem...</td>\n",
              "    </tr>\n",
              "    <tr>\n",
              "      <th>3</th>\n",
              "      <td>1</td>\n",
              "      <td>a new item can be added to the list by cloning...</td>\n",
              "    </tr>\n",
              "    <tr>\n",
              "      <th>4</th>\n",
              "      <td>0</td>\n",
              "      <td>item in the database.</td>\n",
              "    </tr>\n",
              "  </tbody>\n",
              "</table>\n",
              "</div>\n",
              "      <button class=\"colab-df-convert\" onclick=\"convertToInteractive('df-020c702d-21cc-4f58-973d-1ce18a21eac9')\"\n",
              "              title=\"Convert this dataframe to an interactive table.\"\n",
              "              style=\"display:none;\">\n",
              "        \n",
              "  <svg xmlns=\"http://www.w3.org/2000/svg\" height=\"24px\"viewBox=\"0 0 24 24\"\n",
              "       width=\"24px\">\n",
              "    <path d=\"M0 0h24v24H0V0z\" fill=\"none\"/>\n",
              "    <path d=\"M18.56 5.44l.94 2.06.94-2.06 2.06-.94-2.06-.94-.94-2.06-.94 2.06-2.06.94zm-11 1L8.5 8.5l.94-2.06 2.06-.94-2.06-.94L8.5 2.5l-.94 2.06-2.06.94zm10 10l.94 2.06.94-2.06 2.06-.94-2.06-.94-.94-2.06-.94 2.06-2.06.94z\"/><path d=\"M17.41 7.96l-1.37-1.37c-.4-.4-.92-.59-1.43-.59-.52 0-1.04.2-1.43.59L10.3 9.45l-7.72 7.72c-.78.78-.78 2.05 0 2.83L4 21.41c.39.39.9.59 1.41.59.51 0 1.02-.2 1.41-.59l7.78-7.78 2.81-2.81c.8-.78.8-2.07 0-2.86zM5.41 20L4 18.59l7.72-7.72 1.47 1.35L5.41 20z\"/>\n",
              "  </svg>\n",
              "      </button>\n",
              "      \n",
              "  <style>\n",
              "    .colab-df-container {\n",
              "      display:flex;\n",
              "      flex-wrap:wrap;\n",
              "      gap: 12px;\n",
              "    }\n",
              "\n",
              "    .colab-df-convert {\n",
              "      background-color: #E8F0FE;\n",
              "      border: none;\n",
              "      border-radius: 50%;\n",
              "      cursor: pointer;\n",
              "      display: none;\n",
              "      fill: #1967D2;\n",
              "      height: 32px;\n",
              "      padding: 0 0 0 0;\n",
              "      width: 32px;\n",
              "    }\n",
              "\n",
              "    .colab-df-convert:hover {\n",
              "      background-color: #E2EBFA;\n",
              "      box-shadow: 0px 1px 2px rgba(60, 64, 67, 0.3), 0px 1px 3px 1px rgba(60, 64, 67, 0.15);\n",
              "      fill: #174EA6;\n",
              "    }\n",
              "\n",
              "    [theme=dark] .colab-df-convert {\n",
              "      background-color: #3B4455;\n",
              "      fill: #D2E3FC;\n",
              "    }\n",
              "\n",
              "    [theme=dark] .colab-df-convert:hover {\n",
              "      background-color: #434B5C;\n",
              "      box-shadow: 0px 1px 3px 1px rgba(0, 0, 0, 0.15);\n",
              "      filter: drop-shadow(0px 1px 2px rgba(0, 0, 0, 0.3));\n",
              "      fill: #FFFFFF;\n",
              "    }\n",
              "  </style>\n",
              "\n",
              "      <script>\n",
              "        const buttonEl =\n",
              "          document.querySelector('#df-020c702d-21cc-4f58-973d-1ce18a21eac9 button.colab-df-convert');\n",
              "        buttonEl.style.display =\n",
              "          google.colab.kernel.accessAllowed ? 'block' : 'none';\n",
              "\n",
              "        async function convertToInteractive(key) {\n",
              "          const element = document.querySelector('#df-020c702d-21cc-4f58-973d-1ce18a21eac9');\n",
              "          const dataTable =\n",
              "            await google.colab.kernel.invokeFunction('convertToInteractive',\n",
              "                                                     [key], {});\n",
              "          if (!dataTable) return;\n",
              "\n",
              "          const docLinkHtml = 'Like what you see? Visit the ' +\n",
              "            '<a target=\"_blank\" href=https://colab.research.google.com/notebooks/data_table.ipynb>data table notebook</a>'\n",
              "            + ' to learn more about interactive tables.';\n",
              "          element.innerHTML = '';\n",
              "          dataTable['output_type'] = 'display_data';\n",
              "          await google.colab.output.renderOutput(dataTable, element);\n",
              "          const docLink = document.createElement('div');\n",
              "          docLink.innerHTML = docLinkHtml;\n",
              "          element.appendChild(docLink);\n",
              "        }\n",
              "      </script>\n",
              "    </div>\n",
              "  </div>\n",
              "  "
            ],
            "text/plain": [
              "   label                                               text\n",
              "0      1             user selects to expand selected nodes.\n",
              "1      1  system removes the selected nodes from the dis...\n",
              "2      0  digitalhomeowner director will provide managem...\n",
              "3      1  a new item can be added to the list by cloning...\n",
              "4      0                              item in the database."
            ]
          },
          "metadata": {},
          "execution_count": 8
        }
      ]
    },
    {
      "cell_type": "code",
      "metadata": {
        "colab": {
          "base_uri": "https://localhost:8080/"
        },
        "id": "CZUmGca4hrq4",
        "outputId": "40c09793-f96c-458d-d348-884f306fe973"
      },
      "source": [
        "df_not_usecase = df[df['label']==0]\n",
        "df_not_usecase.shape"
      ],
      "execution_count": null,
      "outputs": [
        {
          "output_type": "execute_result",
          "data": {
            "text/plain": [
              "(738, 2)"
            ]
          },
          "metadata": {},
          "execution_count": 9
        }
      ]
    },
    {
      "cell_type": "code",
      "metadata": {
        "colab": {
          "base_uri": "https://localhost:8080/"
        },
        "id": "7Ht7iKAKho58",
        "outputId": "d6b8c218-0cd7-4f5f-a664-5db34d5c5ba0"
      },
      "source": [
        "df_usecase = df[df['label']==1]\n",
        "df_usecase.shape"
      ],
      "execution_count": null,
      "outputs": [
        {
          "output_type": "execute_result",
          "data": {
            "text/plain": [
              "(582, 2)"
            ]
          },
          "metadata": {},
          "execution_count": 11
        }
      ]
    },
    {
      "cell_type": "code",
      "metadata": {
        "colab": {
          "base_uri": "https://localhost:8080/"
        },
        "id": "dxe6UNFUbbZQ",
        "outputId": "e252d43c-6911-4089-c20e-fbc61f236342"
      },
      "source": [
        "#down sample the dataset to make it balanced\n",
        "df_not_usecase_downsampled = df_not_usecase.sample(df_usecase.shape[0])\n",
        "df_not_usecase_downsampled.shape"
      ],
      "execution_count": null,
      "outputs": [
        {
          "output_type": "execute_result",
          "data": {
            "text/plain": [
              "(582, 2)"
            ]
          },
          "metadata": {},
          "execution_count": 12
        }
      ]
    },
    {
      "cell_type": "code",
      "metadata": {
        "colab": {
          "base_uri": "https://localhost:8080/"
        },
        "id": "StQRKWD_llPd",
        "outputId": "ba338697-466d-4bcd-a80d-f47eb70e63da"
      },
      "source": [
        "df_balanced = pd.concat([df_not_usecase_downsampled, df_usecase])\n",
        "df_balanced.shape"
      ],
      "execution_count": null,
      "outputs": [
        {
          "output_type": "execute_result",
          "data": {
            "text/plain": [
              "(1164, 2)"
            ]
          },
          "metadata": {},
          "execution_count": 13
        }
      ]
    },
    {
      "cell_type": "code",
      "metadata": {
        "colab": {
          "base_uri": "https://localhost:8080/"
        },
        "id": "FWP0YOlGltIb",
        "outputId": "7519bdd1-1517-4c3a-93c3-c4a63fde846b"
      },
      "source": [
        "df_balanced['label'].value_counts()"
      ],
      "execution_count": null,
      "outputs": [
        {
          "output_type": "execute_result",
          "data": {
            "text/plain": [
              "1    582\n",
              "0    582\n",
              "Name: label, dtype: int64"
            ]
          },
          "metadata": {},
          "execution_count": 14
        }
      ]
    },
    {
      "cell_type": "code",
      "metadata": {
        "colab": {
          "base_uri": "https://localhost:8080/"
        },
        "id": "Rli6Gx2XszQV",
        "outputId": "c1e33a54-1f86-4439-bae6-9ddfe2c2cc9c"
      },
      "source": [
        "from nltk.corpus import stopwords\n",
        "import nltk\n",
        "nltk.download('stopwords')"
      ],
      "execution_count": null,
      "outputs": [
        {
          "output_type": "stream",
          "name": "stdout",
          "text": [
            "[nltk_data] Downloading package stopwords to /root/nltk_data...\n",
            "[nltk_data]   Unzipping corpora/stopwords.zip.\n"
          ]
        },
        {
          "output_type": "execute_result",
          "data": {
            "text/plain": [
              "True"
            ]
          },
          "metadata": {},
          "execution_count": 15
        }
      ]
    },
    {
      "cell_type": "code",
      "metadata": {
        "id": "2nsFyVXOBQJ5"
      },
      "source": [
        "# turn a doc into clean tokens\n",
        "def clean_doc(doc):\n",
        "  doc = doc.lower()\n",
        "  # split into tokens by white space\n",
        "  tokens = doc.split()\n",
        "  # remove punctuation from each token\n",
        "  table = str.maketrans('', '', string.punctuation)\n",
        "  tokens = [w.translate(table) for w in tokens]\n",
        "  # remove remaining tokens that are not alphabetic\n",
        "  tokens = [word for word in tokens if word.isalpha()]\n",
        "  # filter out stop words\n",
        "  #stop_words = set(stopwords.words('english'))\n",
        "  #tokens = [w for w in tokens if not w in stop_words]\n",
        "  # filter out short tokens\n",
        "  tokens = [word for word in tokens if len(word) > 1]\n",
        "  return  (\" \".join(tokens)).strip()+'.'"
      ],
      "execution_count": null,
      "outputs": []
    },
    {
      "cell_type": "code",
      "metadata": {
        "id": "yvJA_dcDv1cx"
      },
      "source": [
        "import string\n",
        "df_balanced[\"text\"]=df_balanced[\"text\"].apply(lambda x: clean_doc(x))\n",
        "#df[1] = df[1].apply(add_one)"
      ],
      "execution_count": null,
      "outputs": []
    },
    {
      "cell_type": "code",
      "metadata": {
        "colab": {
          "base_uri": "https://localhost:8080/",
          "height": 206
        },
        "id": "Sjk7X9iy0Ok9",
        "outputId": "50199490-3253-4608-82c0-a044bbb790cb"
      },
      "source": [
        "df_balanced.head()"
      ],
      "execution_count": null,
      "outputs": [
        {
          "output_type": "execute_result",
          "data": {
            "text/html": [
              "\n",
              "  <div id=\"df-32ea156c-39cd-41d3-bc09-a24a19c88c69\">\n",
              "    <div class=\"colab-df-container\">\n",
              "      <div>\n",
              "<style scoped>\n",
              "    .dataframe tbody tr th:only-of-type {\n",
              "        vertical-align: middle;\n",
              "    }\n",
              "\n",
              "    .dataframe tbody tr th {\n",
              "        vertical-align: top;\n",
              "    }\n",
              "\n",
              "    .dataframe thead th {\n",
              "        text-align: right;\n",
              "    }\n",
              "</style>\n",
              "<table border=\"1\" class=\"dataframe\">\n",
              "  <thead>\n",
              "    <tr style=\"text-align: right;\">\n",
              "      <th></th>\n",
              "      <th>label</th>\n",
              "      <th>text</th>\n",
              "    </tr>\n",
              "  </thead>\n",
              "  <tbody>\n",
              "    <tr>\n",
              "      <th>1099</th>\n",
              "      <td>0</td>\n",
              "      <td>users shall have high level of sophistication ...</td>\n",
              "    </tr>\n",
              "    <tr>\n",
              "      <th>428</th>\n",
              "      <td>0</td>\n",
              "      <td>net framework and asp.</td>\n",
              "    </tr>\n",
              "    <tr>\n",
              "      <th>286</th>\n",
              "      <td>0</td>\n",
              "      <td>this section of the report outlines the functi...</td>\n",
              "    </tr>\n",
              "    <tr>\n",
              "      <th>533</th>\n",
              "      <td>0</td>\n",
              "      <td>non behavioral requirements which includes per...</td>\n",
              "    </tr>\n",
              "    <tr>\n",
              "      <th>1221</th>\n",
              "      <td>0</td>\n",
              "      <td>the test and verification team can reference t...</td>\n",
              "    </tr>\n",
              "  </tbody>\n",
              "</table>\n",
              "</div>\n",
              "      <button class=\"colab-df-convert\" onclick=\"convertToInteractive('df-32ea156c-39cd-41d3-bc09-a24a19c88c69')\"\n",
              "              title=\"Convert this dataframe to an interactive table.\"\n",
              "              style=\"display:none;\">\n",
              "        \n",
              "  <svg xmlns=\"http://www.w3.org/2000/svg\" height=\"24px\"viewBox=\"0 0 24 24\"\n",
              "       width=\"24px\">\n",
              "    <path d=\"M0 0h24v24H0V0z\" fill=\"none\"/>\n",
              "    <path d=\"M18.56 5.44l.94 2.06.94-2.06 2.06-.94-2.06-.94-.94-2.06-.94 2.06-2.06.94zm-11 1L8.5 8.5l.94-2.06 2.06-.94-2.06-.94L8.5 2.5l-.94 2.06-2.06.94zm10 10l.94 2.06.94-2.06 2.06-.94-2.06-.94-.94-2.06-.94 2.06-2.06.94z\"/><path d=\"M17.41 7.96l-1.37-1.37c-.4-.4-.92-.59-1.43-.59-.52 0-1.04.2-1.43.59L10.3 9.45l-7.72 7.72c-.78.78-.78 2.05 0 2.83L4 21.41c.39.39.9.59 1.41.59.51 0 1.02-.2 1.41-.59l7.78-7.78 2.81-2.81c.8-.78.8-2.07 0-2.86zM5.41 20L4 18.59l7.72-7.72 1.47 1.35L5.41 20z\"/>\n",
              "  </svg>\n",
              "      </button>\n",
              "      \n",
              "  <style>\n",
              "    .colab-df-container {\n",
              "      display:flex;\n",
              "      flex-wrap:wrap;\n",
              "      gap: 12px;\n",
              "    }\n",
              "\n",
              "    .colab-df-convert {\n",
              "      background-color: #E8F0FE;\n",
              "      border: none;\n",
              "      border-radius: 50%;\n",
              "      cursor: pointer;\n",
              "      display: none;\n",
              "      fill: #1967D2;\n",
              "      height: 32px;\n",
              "      padding: 0 0 0 0;\n",
              "      width: 32px;\n",
              "    }\n",
              "\n",
              "    .colab-df-convert:hover {\n",
              "      background-color: #E2EBFA;\n",
              "      box-shadow: 0px 1px 2px rgba(60, 64, 67, 0.3), 0px 1px 3px 1px rgba(60, 64, 67, 0.15);\n",
              "      fill: #174EA6;\n",
              "    }\n",
              "\n",
              "    [theme=dark] .colab-df-convert {\n",
              "      background-color: #3B4455;\n",
              "      fill: #D2E3FC;\n",
              "    }\n",
              "\n",
              "    [theme=dark] .colab-df-convert:hover {\n",
              "      background-color: #434B5C;\n",
              "      box-shadow: 0px 1px 3px 1px rgba(0, 0, 0, 0.15);\n",
              "      filter: drop-shadow(0px 1px 2px rgba(0, 0, 0, 0.3));\n",
              "      fill: #FFFFFF;\n",
              "    }\n",
              "  </style>\n",
              "\n",
              "      <script>\n",
              "        const buttonEl =\n",
              "          document.querySelector('#df-32ea156c-39cd-41d3-bc09-a24a19c88c69 button.colab-df-convert');\n",
              "        buttonEl.style.display =\n",
              "          google.colab.kernel.accessAllowed ? 'block' : 'none';\n",
              "\n",
              "        async function convertToInteractive(key) {\n",
              "          const element = document.querySelector('#df-32ea156c-39cd-41d3-bc09-a24a19c88c69');\n",
              "          const dataTable =\n",
              "            await google.colab.kernel.invokeFunction('convertToInteractive',\n",
              "                                                     [key], {});\n",
              "          if (!dataTable) return;\n",
              "\n",
              "          const docLinkHtml = 'Like what you see? Visit the ' +\n",
              "            '<a target=\"_blank\" href=https://colab.research.google.com/notebooks/data_table.ipynb>data table notebook</a>'\n",
              "            + ' to learn more about interactive tables.';\n",
              "          element.innerHTML = '';\n",
              "          dataTable['output_type'] = 'display_data';\n",
              "          await google.colab.output.renderOutput(dataTable, element);\n",
              "          const docLink = document.createElement('div');\n",
              "          docLink.innerHTML = docLinkHtml;\n",
              "          element.appendChild(docLink);\n",
              "        }\n",
              "      </script>\n",
              "    </div>\n",
              "  </div>\n",
              "  "
            ],
            "text/plain": [
              "      label                                               text\n",
              "1099      0  users shall have high level of sophistication ...\n",
              "428       0                             net framework and asp.\n",
              "286       0  this section of the report outlines the functi...\n",
              "533       0  non behavioral requirements which includes per...\n",
              "1221      0  the test and verification team can reference t..."
            ]
          },
          "metadata": {},
          "execution_count": 18
        }
      ]
    },
    {
      "cell_type": "code",
      "metadata": {
        "id": "yebb4VFiWegn"
      },
      "source": [
        "msg_df=df_balanced"
      ],
      "execution_count": null,
      "outputs": []
    },
    {
      "cell_type": "markdown",
      "metadata": {
        "id": "YXbjqcTT8RjC"
      },
      "source": [
        "## Prepare train test data and pre-processing text\n",
        "First, we need to convert the text label to numeric and split the data into training set and testing set. Also, convert label to numpy arrays to fit deep learning models. 80% of data were used for training and 20% for testing purposes. "
      ]
    },
    {
      "cell_type": "code",
      "metadata": {
        "id": "-OWSZekM8RjD"
      },
      "source": [
        "# Split data into train and test\n",
        "#train_msg, test_msg, train_labels, test_labels = train_test_split(msg_df['message'], msg_label, test_size=0.2, random_state=434)"
      ],
      "execution_count": null,
      "outputs": []
    },
    {
      "cell_type": "code",
      "metadata": {
        "id": "6dflYdxqjWEE"
      },
      "source": [
        "from sklearn.model_selection import train_test_split\n",
        "X_train, X_test, y_train, y_test = train_test_split(df['text'], df['label'], \n",
        "                                                                    random_state=2018, \n",
        "                                                                    test_size=0.3, \n",
        "                                                                    stratify=df['label'])\n",
        "\n",
        "# we will use temp_text and temp_labels to create validation and test set\n",
        "#val_text, test_text, val_labels, test_labels = train_test_split(temp_text, temp_labels, \n",
        "                                                                #random_state=2018, \n",
        "                                                                #test_size=0.5, \n",
        "                                                                #stratify=temp_labels)"
      ],
      "execution_count": null,
      "outputs": []
    },
    {
      "cell_type": "code",
      "metadata": {
        "id": "dCtjbzIA2eJ_"
      },
      "source": [
        "train_msg, test_msg, train_labels, test_labels = train_test_split(msg_df['text'], msg_df['label'], test_size=0.3, random_state=2018,stratify=msg_df['label'])"
      ],
      "execution_count": null,
      "outputs": []
    },
    {
      "cell_type": "code",
      "metadata": {
        "colab": {
          "base_uri": "https://localhost:8080/"
        },
        "id": "DoVlbzip23TT",
        "outputId": "97dc02a3-f5fa-4fa3-cffe-2b448dc4b58a"
      },
      "source": [
        "print(train_msg[:2])"
      ],
      "execution_count": null,
      "outputs": [
        {
          "output_type": "stream",
          "name": "stdout",
          "text": [
            "357     user manages the administration functionalitie...\n",
            "1066    the screens used for the acquisition process s...\n",
            "Name: text, dtype: object\n"
          ]
        }
      ]
    },
    {
      "cell_type": "markdown",
      "metadata": {
        "id": "J_CnDSSw8RjD"
      },
      "source": [
        "Below, define the pre-processing hyperparameters and prepare data for training. Particularly we'll use text pre-processing which include:\n",
        "- Tokenization\n",
        "- Sequencing\n",
        "- Padding\n",
        "\n"
      ]
    },
    {
      "cell_type": "markdown",
      "metadata": {
        "id": "0mQe5OB88RjD"
      },
      "source": [
        "#### Tokenization\n",
        "As deep learning models do not understand text, we need to convert text into numerical representation. For this purpose, a first step is Tokenization. The Tokenizer API from TensorFlow Keras splits sentences into words and encodes these into integers. Tokenizer will do all required pre-processing such as \n",
        "- tokenize into word or charachter - here its at word level\n",
        "- num_words for maximum number of unique tokens hence we can filter out rare words\n",
        "- filter out punctuation terms\n",
        "- convert all words to lower case\n",
        "- convert all words to integer index\n",
        "\n",
        "Below, let's define hyper-parameters used for Tokenization. These hyper-parmaters are briefly discussed as we use these in the code. "
      ]
    },
    {
      "cell_type": "code",
      "metadata": {
        "id": "-_CJQR3c8RjE"
      },
      "source": [
        "# Defining pre-processing hyperparameters\n",
        "max_len = 60 # pad_sequencs parameter, it idicates we are only going to look for 50 words in a sentence\n",
        "trunc_type = \"post\" # pad_sequences parameter\n",
        "padding_type = \"post\" # pad_sequences parameter\n",
        "oov_tok = \"<OOV>\" # out of vocabulary token\n",
        "vocab_size = 500"
      ],
      "execution_count": null,
      "outputs": []
    },
    {
      "cell_type": "code",
      "metadata": {
        "id": "oiAIVBhv8RjF"
      },
      "source": [
        "tokenizer = Tokenizer(num_words = vocab_size, char_level=False, oov_token = oov_tok)\n",
        "tokenizer.fit_on_texts(train_msg)"
      ],
      "execution_count": null,
      "outputs": []
    },
    {
      "cell_type": "markdown",
      "metadata": {
        "id": "jopzBGSw8RjF"
      },
      "source": [
        "Hyper-parameters used in Tokenizer object are: num_words and oov_token. \n",
        "* num_words: indicate how many unique word you want to load in training and testing data. For our purpose, we selected 500 words (vocab_size)\n",
        "* oov_token: When its used, out of vocabulary token will be added to word index in the corpus which is used to build the model. This is used to replace out of vocabulary words (words that are not in our corpus) during text_to_sequence calls (see below)."
      ]
    },
    {
      "cell_type": "code",
      "metadata": {
        "id": "0bvMtx--8RjF"
      },
      "source": [
        "# Get the word_index\n",
        "word_index = tokenizer.word_index\n",
        "word_index"
      ],
      "execution_count": null,
      "outputs": []
    },
    {
      "cell_type": "code",
      "metadata": {
        "scrolled": true,
        "colab": {
          "base_uri": "https://localhost:8080/"
        },
        "id": "AIsJNwYw8RjG",
        "outputId": "0097124d-ce31-4df1-fb1b-f85edb71d8b5"
      },
      "source": [
        "# check how many words \n",
        "tot_words = len(word_index)\n",
        "print('There are %s unique tokens in training data. ' % tot_words)"
      ],
      "execution_count": null,
      "outputs": [
        {
          "output_type": "stream",
          "name": "stdout",
          "text": [
            "There are 1771 unique tokens in training data. \n"
          ]
        }
      ]
    },
    {
      "cell_type": "markdown",
      "metadata": {
        "id": "D3uPttUf8RjG"
      },
      "source": [
        "#### Sequencing and Padding\n",
        "\n",
        "Once tokenization is done, let's represent each sentence by sequences of numbers using texts_to_sequences from tokenizer object. Subsequently, we padded the sequence so that we can have same length of each sequence.  Sequencing and padding are done for both training and testing data."
      ]
    },
    {
      "cell_type": "code",
      "metadata": {
        "id": "t_142Wyw8RjG"
      },
      "source": [
        "# Sequencing and padding on training and testing \n",
        "training_sequences = tokenizer.texts_to_sequences(train_msg)\n",
        "training_padded = pad_sequences (training_sequences, maxlen = max_len, \n",
        "                                 padding = padding_type, truncating = trunc_type )\n",
        "\n",
        "testing_sequences = tokenizer.texts_to_sequences(test_msg)\n",
        "testing_padded = pad_sequences(testing_sequences, maxlen = max_len,\n",
        "                              padding = padding_type, truncating = trunc_type)"
      ],
      "execution_count": null,
      "outputs": []
    },
    {
      "cell_type": "markdown",
      "metadata": {
        "id": "gildwUk98RjH"
      },
      "source": [
        "- padding = 'pre' or 'post (default pre). By using pre, we'll pad before each sequence and post will pad after each sequence.\n",
        "- maxlen = maximum length of all sequences. If not provided, by default it will use the maximum length of the longest sentence.\n",
        "- truncating = 'pre' or 'post' (default 'pre'). If a sequence length is larger than the provided maxlen value then, these values will be truncated to maxlen. 'pre' option will truncate at the beginning where as 'post' will truncate at the end of the sequences."
      ]
    },
    {
      "cell_type": "code",
      "metadata": {
        "colab": {
          "base_uri": "https://localhost:8080/"
        },
        "id": "npQMDBJA8RjH",
        "outputId": "8507e87b-df1d-47d2-8309-68a7d53de4d4"
      },
      "source": [
        "# Shape of train tensor\n",
        "print('Shape of training tensor: ', training_padded.shape)\n",
        "print('Shape of testing tensor: ', testing_padded.shape)"
      ],
      "execution_count": null,
      "outputs": [
        {
          "output_type": "stream",
          "name": "stdout",
          "text": [
            "Shape of training tensor:  (814, 60)\n",
            "Shape of testing tensor:  (350, 60)\n"
          ]
        }
      ]
    },
    {
      "cell_type": "code",
      "metadata": {
        "colab": {
          "base_uri": "https://localhost:8080/"
        },
        "id": "Tn0SXLJX8RjH",
        "outputId": "a0d1f6ac-5161-46dd-d40e-75d3f64d6f7c"
      },
      "source": [
        "# Before padding : first sequence is 27 character long where as second one is 24\n",
        "len(training_sequences[0]), len(training_sequences[1])"
      ],
      "execution_count": null,
      "outputs": [
        {
          "output_type": "execute_result",
          "data": {
            "text/plain": [
              "(9, 30)"
            ]
          },
          "metadata": {},
          "execution_count": 29
        }
      ]
    },
    {
      "cell_type": "code",
      "metadata": {
        "colab": {
          "base_uri": "https://localhost:8080/"
        },
        "id": "QdSUaVKe8RjI",
        "outputId": "7bbd4276-0d81-466f-ceff-d95c2af62a22"
      },
      "source": [
        "# Padded to same length of 50\n",
        "len(training_padded[0]), len(training_padded[1])"
      ],
      "execution_count": null,
      "outputs": [
        {
          "output_type": "execute_result",
          "data": {
            "text/plain": [
              "(60, 60)"
            ]
          },
          "metadata": {},
          "execution_count": 30
        }
      ]
    },
    {
      "cell_type": "code",
      "metadata": {
        "colab": {
          "base_uri": "https://localhost:8080/"
        },
        "id": "_U_cS_qT8RjI",
        "outputId": "71d89347-6485-47f9-c1ac-4ebdbf59afa8"
      },
      "source": [
        "# As can be seen from below, the padded sequence is 50 words long. \n",
        "print(training_padded[0])"
      ],
      "execution_count": null,
      "outputs": [
        {
          "output_type": "stream",
          "name": "stdout",
          "text": [
            "[  7   1   2   1 374  13   1  18 133   0   0   0   0   0   0   0   0   0\n",
            "   0   0   0   0   0   0   0   0   0   0   0   0   0   0   0   0   0   0\n",
            "   0   0   0   0   0   0   0   0   0   0   0   0   0   0   0   0   0   0\n",
            "   0   0   0   0   0   0]\n"
          ]
        }
      ]
    },
    {
      "cell_type": "markdown",
      "metadata": {
        "id": "yofBXprq8RjJ"
      },
      "source": [
        "## Train the Model"
      ]
    },
    {
      "cell_type": "markdown",
      "metadata": {
        "id": "UtNp9RjO8RjJ"
      },
      "source": [
        "#### Dense UCS Detection Architechture\n",
        "\n",
        "Below is a model architecture of dense spam detection model. \n",
        "\n",
        "- Sequential calls for Keras sequential model in which layers are added in a sequence\n",
        "- The first layer i.e. embedding layer maps each word to a N-dimensional vector of real numbers. The embeding_dim is the size of this vector which is 16 in our case. The embeding layer indicates that the two words with similar meaning tend to have very close vectors. Because, the embedding layer is the first hiddne layer in our model network, we need to pass shape of our input layer as defined by input_length (max_len =50).\n",
        "- The pooling layer helps to reduce the number of parameters in the model hence helps to avoid overfitting. We have used average pooling here and coverted layer to 1 dimension.\n",
        "\n",
        "- Next we used a dense layer with activation function 'relu' followed by a dropout layer to avoid overfitting and a final outpout layer with sigmoid activation function. As there are only two classes (ham or spam) to classify, we used only a single output neuron. The sigmoid activation function outputs probabilities between 0 and 1. \n",
        "\n",
        "- Here, we used fairly a shallow neural network architecture, however, you can  make it more dense adding more layers."
      ]
    },
    {
      "cell_type": "code",
      "metadata": {
        "id": "tArhHoIC8RjJ"
      },
      "source": [
        "vocab_size = 500 # Number of words you want to tokenize i.e maximum number of words to keep\n",
        "embeding_dim = 16\n",
        "drop_value = 0.2 # dropout\n",
        "n_dense = 24"
      ],
      "execution_count": null,
      "outputs": []
    },
    {
      "cell_type": "code",
      "metadata": {
        "id": "azl_i4Mg8RjJ"
      },
      "source": [
        "#Dense sentiment model architecture\n",
        "model = Sequential()\n",
        "model.add(Embedding(vocab_size, embeding_dim, input_length=max_len))\n",
        "model.add(GlobalAveragePooling1D())\n",
        "model.add(Dense(24, activation='relu'))\n",
        "model.add(Dropout(drop_value))\n",
        "model.add(Dense(1, activation='sigmoid'))"
      ],
      "execution_count": null,
      "outputs": []
    },
    {
      "cell_type": "markdown",
      "metadata": {
        "id": "gQLP-YyK8RjK"
      },
      "source": [
        "The model.summary() provides the layer, shape and number of parameters used in each layer. In the embedding layer, the 8000 parameter comes from 500 words (vocab_size), each one with a 16 dimensional word-vector space (500 X 16 = 8000). The embedding layer is passed through GlobalAveragePooling1D  and into dense layers have shape of 16 (due to the avereage pooling along 16 embedding dimension). We selected 24 neurons for the dense hidden layer. Each of the 24 neurons in the dense layer gets input from each of the 16 values coming from the GlobalAveragePooling1D layer, for a total of 384 (16 X 24) weights and 24 biases (one for each 24 neurons). Hence the total parameter is 408. Finally, the output layer has 24 weights (one for each neuron) and its bias resulting 25 parameters. "
      ]
    },
    {
      "cell_type": "code",
      "metadata": {
        "id": "Omur7w3uZPbS"
      },
      "source": [
        "dense_model=model"
      ],
      "execution_count": null,
      "outputs": []
    },
    {
      "cell_type": "code",
      "metadata": {
        "colab": {
          "base_uri": "https://localhost:8080/"
        },
        "id": "ha1Uo9qE8RjK",
        "outputId": "ca569bb2-38dd-47c4-c9f3-34c2ed77c54e"
      },
      "source": [
        "dense_model.summary()"
      ],
      "execution_count": null,
      "outputs": [
        {
          "output_type": "stream",
          "name": "stdout",
          "text": [
            "Model: \"sequential_3\"\n",
            "_________________________________________________________________\n",
            " Layer (type)                Output Shape              Param #   \n",
            "=================================================================\n",
            " embedding_3 (Embedding)     (None, 60, 16)            8000      \n",
            "                                                                 \n",
            " global_average_pooling1d_2   (None, 16)               0         \n",
            " (GlobalAveragePooling1D)                                        \n",
            "                                                                 \n",
            " dense_5 (Dense)             (None, 24)                408       \n",
            "                                                                 \n",
            " dropout_2 (Dropout)         (None, 24)                0         \n",
            "                                                                 \n",
            " dense_6 (Dense)             (None, 1)                 25        \n",
            "                                                                 \n",
            "=================================================================\n",
            "Total params: 8,433\n",
            "Trainable params: 8,433\n",
            "Non-trainable params: 0\n",
            "_________________________________________________________________\n"
          ]
        }
      ]
    },
    {
      "cell_type": "markdown",
      "metadata": {
        "id": "RkxoS0md8RjK"
      },
      "source": [
        "Let's compile our dense spam classifier model. We used 'binary_crossentropy' as a loss function because of binary output. We used 'adam' as an optimiser which makes use of  momentum to avoid local minima and 'accuracy' as a measure of model performance. "
      ]
    },
    {
      "cell_type": "code",
      "metadata": {
        "id": "GRdsSjzv8RjK"
      },
      "source": [
        "# Compile model\n",
        "#from tensorflow import keras\n",
        "# Using Adam optimiser which makes use of momentum to avoid local minima\n",
        "#optim = keras.optimizers.Adam(learning_rate=0.00001)"
      ],
      "execution_count": null,
      "outputs": []
    },
    {
      "cell_type": "code",
      "metadata": {
        "id": "MbcM89vt8RjL"
      },
      "source": [
        "dense_model.compile(loss='binary_crossentropy',optimizer='adam' ,metrics=['accuracy'])"
      ],
      "execution_count": null,
      "outputs": []
    },
    {
      "cell_type": "markdown",
      "metadata": {
        "id": "ulkabcJV8RjL"
      },
      "source": [
        "Next let's fit our dense classifier using model.fit argument. It uses padded training data and training labels for training the model and validation data for validating. \n",
        "\n",
        "* Epoch: Number of times the learning algorithm will work through the entire training data set. We set it to be 20. \n",
        "* callbacks: callbacks is used to pass the early stopping parameter. EarlyStopping(monitor='val_loss', patience=2) was used to define that we want to monitor the validation loss and if the validation loss is not improved after two epochs, then the model training is stopped. It helps to avoid overfitting problem and indicates when to stop training before the learner begins over-fit. \n",
        "* verbose =2: lets to print loss and accuracy on each epoch"
      ]
    },
    {
      "cell_type": "code",
      "source": [
        "import time"
      ],
      "metadata": {
        "id": "XnMzOCWp0S6l"
      },
      "execution_count": null,
      "outputs": []
    },
    {
      "cell_type": "code",
      "metadata": {
        "colab": {
          "base_uri": "https://localhost:8080/"
        },
        "id": "IS536mAt8RjL",
        "outputId": "6c29f2c5-a107-4e27-f717-c01521d92f5c"
      },
      "source": [
        "# fitting a dense spam detector model\n",
        "num_epochs = 50\n",
        "early_stop = EarlyStopping(monitor='val_loss', patience=3)\n",
        "start=time.time()\n",
        "dense_history = dense_model.fit(training_padded, train_labels, epochs=num_epochs, \n",
        "                    validation_data=(testing_padded, test_labels),callbacks =[early_stop], verbose=2)\n",
        "end =time.time()\n",
        "print(\"Total time for Dense:\"+str(end-start))"
      ],
      "execution_count": null,
      "outputs": [
        {
          "output_type": "stream",
          "name": "stdout",
          "text": [
            "Epoch 1/50\n",
            "26/26 - 1s - loss: 0.6942 - accuracy: 0.4988 - val_loss: 0.6921 - val_accuracy: 0.5000 - 1s/epoch - 40ms/step\n",
            "Epoch 2/50\n",
            "26/26 - 0s - loss: 0.6913 - accuracy: 0.5663 - val_loss: 0.6891 - val_accuracy: 0.8286 - 206ms/epoch - 8ms/step\n",
            "Epoch 3/50\n",
            "26/26 - 0s - loss: 0.6873 - accuracy: 0.6916 - val_loss: 0.6848 - val_accuracy: 0.8114 - 160ms/epoch - 6ms/step\n",
            "Epoch 4/50\n",
            "26/26 - 0s - loss: 0.6817 - accuracy: 0.7236 - val_loss: 0.6773 - val_accuracy: 0.7971 - 223ms/epoch - 9ms/step\n",
            "Epoch 5/50\n",
            "26/26 - 0s - loss: 0.6712 - accuracy: 0.7641 - val_loss: 0.6645 - val_accuracy: 0.7943 - 199ms/epoch - 8ms/step\n",
            "Epoch 6/50\n",
            "26/26 - 0s - loss: 0.6507 - accuracy: 0.7961 - val_loss: 0.6426 - val_accuracy: 0.8429 - 198ms/epoch - 8ms/step\n",
            "Epoch 7/50\n",
            "26/26 - 0s - loss: 0.6242 - accuracy: 0.8366 - val_loss: 0.6109 - val_accuracy: 0.8457 - 203ms/epoch - 8ms/step\n",
            "Epoch 8/50\n",
            "26/26 - 0s - loss: 0.5887 - accuracy: 0.8428 - val_loss: 0.5751 - val_accuracy: 0.8657 - 199ms/epoch - 8ms/step\n",
            "Epoch 9/50\n",
            "26/26 - 0s - loss: 0.5449 - accuracy: 0.8710 - val_loss: 0.5320 - val_accuracy: 0.8486 - 162ms/epoch - 6ms/step\n",
            "Epoch 10/50\n",
            "26/26 - 0s - loss: 0.4977 - accuracy: 0.8735 - val_loss: 0.4932 - val_accuracy: 0.8571 - 159ms/epoch - 6ms/step\n",
            "Epoch 11/50\n",
            "26/26 - 0s - loss: 0.4544 - accuracy: 0.8771 - val_loss: 0.4506 - val_accuracy: 0.8486 - 177ms/epoch - 7ms/step\n",
            "Epoch 12/50\n",
            "26/26 - 0s - loss: 0.4098 - accuracy: 0.8808 - val_loss: 0.4197 - val_accuracy: 0.8657 - 209ms/epoch - 8ms/step\n",
            "Epoch 13/50\n",
            "26/26 - 0s - loss: 0.3700 - accuracy: 0.8808 - val_loss: 0.3885 - val_accuracy: 0.8657 - 208ms/epoch - 8ms/step\n",
            "Epoch 14/50\n",
            "26/26 - 0s - loss: 0.3339 - accuracy: 0.9091 - val_loss: 0.3689 - val_accuracy: 0.8657 - 174ms/epoch - 7ms/step\n",
            "Epoch 15/50\n",
            "26/26 - 0s - loss: 0.3066 - accuracy: 0.9140 - val_loss: 0.3432 - val_accuracy: 0.8714 - 179ms/epoch - 7ms/step\n",
            "Epoch 16/50\n",
            "26/26 - 0s - loss: 0.2776 - accuracy: 0.9201 - val_loss: 0.3256 - val_accuracy: 0.8771 - 175ms/epoch - 7ms/step\n",
            "Epoch 17/50\n",
            "26/26 - 0s - loss: 0.2625 - accuracy: 0.9152 - val_loss: 0.3087 - val_accuracy: 0.8800 - 207ms/epoch - 8ms/step\n",
            "Epoch 18/50\n",
            "26/26 - 0s - loss: 0.2416 - accuracy: 0.9214 - val_loss: 0.2971 - val_accuracy: 0.8914 - 163ms/epoch - 6ms/step\n",
            "Epoch 19/50\n",
            "26/26 - 0s - loss: 0.2173 - accuracy: 0.9373 - val_loss: 0.2948 - val_accuracy: 0.8914 - 207ms/epoch - 8ms/step\n",
            "Epoch 20/50\n",
            "26/26 - 0s - loss: 0.2062 - accuracy: 0.9447 - val_loss: 0.2765 - val_accuracy: 0.8971 - 193ms/epoch - 7ms/step\n",
            "Epoch 21/50\n",
            "26/26 - 0s - loss: 0.1937 - accuracy: 0.9509 - val_loss: 0.2714 - val_accuracy: 0.8971 - 196ms/epoch - 8ms/step\n",
            "Epoch 22/50\n",
            "26/26 - 0s - loss: 0.1829 - accuracy: 0.9447 - val_loss: 0.2575 - val_accuracy: 0.8971 - 196ms/epoch - 8ms/step\n",
            "Epoch 23/50\n",
            "26/26 - 0s - loss: 0.1676 - accuracy: 0.9558 - val_loss: 0.2512 - val_accuracy: 0.8971 - 195ms/epoch - 7ms/step\n",
            "Epoch 24/50\n",
            "26/26 - 0s - loss: 0.1608 - accuracy: 0.9509 - val_loss: 0.2455 - val_accuracy: 0.9000 - 195ms/epoch - 8ms/step\n",
            "Epoch 25/50\n",
            "26/26 - 0s - loss: 0.1489 - accuracy: 0.9570 - val_loss: 0.2487 - val_accuracy: 0.9000 - 167ms/epoch - 6ms/step\n",
            "Epoch 26/50\n",
            "26/26 - 0s - loss: 0.1399 - accuracy: 0.9595 - val_loss: 0.2362 - val_accuracy: 0.9086 - 172ms/epoch - 7ms/step\n",
            "Epoch 27/50\n",
            "26/26 - 0s - loss: 0.1347 - accuracy: 0.9545 - val_loss: 0.2386 - val_accuracy: 0.9057 - 173ms/epoch - 7ms/step\n",
            "Epoch 28/50\n",
            "26/26 - 0s - loss: 0.1320 - accuracy: 0.9545 - val_loss: 0.2364 - val_accuracy: 0.9029 - 178ms/epoch - 7ms/step\n",
            "Epoch 29/50\n",
            "26/26 - 0s - loss: 0.1226 - accuracy: 0.9656 - val_loss: 0.2282 - val_accuracy: 0.9143 - 205ms/epoch - 8ms/step\n",
            "Epoch 30/50\n",
            "26/26 - 0s - loss: 0.1158 - accuracy: 0.9717 - val_loss: 0.2282 - val_accuracy: 0.9143 - 174ms/epoch - 7ms/step\n",
            "Epoch 31/50\n",
            "26/26 - 0s - loss: 0.1118 - accuracy: 0.9742 - val_loss: 0.2220 - val_accuracy: 0.9171 - 169ms/epoch - 7ms/step\n",
            "Epoch 32/50\n",
            "26/26 - 0s - loss: 0.1117 - accuracy: 0.9705 - val_loss: 0.2209 - val_accuracy: 0.9143 - 168ms/epoch - 6ms/step\n",
            "Epoch 33/50\n",
            "26/26 - 0s - loss: 0.1067 - accuracy: 0.9644 - val_loss: 0.2213 - val_accuracy: 0.9200 - 174ms/epoch - 7ms/step\n",
            "Epoch 34/50\n",
            "26/26 - 0s - loss: 0.0935 - accuracy: 0.9754 - val_loss: 0.2175 - val_accuracy: 0.9229 - 163ms/epoch - 6ms/step\n",
            "Epoch 35/50\n",
            "26/26 - 0s - loss: 0.0948 - accuracy: 0.9754 - val_loss: 0.2182 - val_accuracy: 0.9086 - 204ms/epoch - 8ms/step\n",
            "Epoch 36/50\n",
            "26/26 - 0s - loss: 0.0854 - accuracy: 0.9803 - val_loss: 0.2227 - val_accuracy: 0.9086 - 205ms/epoch - 8ms/step\n",
            "Epoch 37/50\n",
            "26/26 - 0s - loss: 0.0869 - accuracy: 0.9779 - val_loss: 0.2136 - val_accuracy: 0.9200 - 171ms/epoch - 7ms/step\n",
            "Epoch 38/50\n",
            "26/26 - 0s - loss: 0.0825 - accuracy: 0.9754 - val_loss: 0.2193 - val_accuracy: 0.9143 - 176ms/epoch - 7ms/step\n",
            "Epoch 39/50\n",
            "26/26 - 0s - loss: 0.0787 - accuracy: 0.9779 - val_loss: 0.2153 - val_accuracy: 0.9143 - 210ms/epoch - 8ms/step\n",
            "Epoch 40/50\n",
            "26/26 - 0s - loss: 0.0742 - accuracy: 0.9767 - val_loss: 0.2158 - val_accuracy: 0.9143 - 166ms/epoch - 6ms/step\n",
            "Total time for Dense:8.617783308029175\n"
          ]
        }
      ]
    },
    {
      "cell_type": "code",
      "metadata": {
        "colab": {
          "base_uri": "https://localhost:8080/"
        },
        "id": "5U8RqlRN8RjM",
        "outputId": "14a3fb11-3659-4728-9d30-f638f7ab47ab"
      },
      "source": [
        "# Model performermance on test data is about 9465% accuracy with validation loss of 0.11.\n",
        "dense_model.evaluate(testing_padded, test_labels)"
      ],
      "execution_count": null,
      "outputs": [
        {
          "output_type": "stream",
          "name": "stdout",
          "text": [
            "11/11 [==============================] - 0s 5ms/step - loss: 0.2158 - accuracy: 0.9143\n"
          ]
        },
        {
          "output_type": "execute_result",
          "data": {
            "text/plain": [
              "[0.21580331027507782, 0.9142857193946838]"
            ]
          },
          "metadata": {},
          "execution_count": 91
        }
      ]
    },
    {
      "cell_type": "code",
      "metadata": {
        "colab": {
          "base_uri": "https://localhost:8080/",
          "height": 112
        },
        "id": "bcMvYmc58RjM",
        "outputId": "5048d3ea-5959-4850-86b5-14f5c473820a"
      },
      "source": [
        "dense_metrics = pd.DataFrame(dense_history.history)\n",
        "dense_metrics[:2]"
      ],
      "execution_count": null,
      "outputs": [
        {
          "output_type": "execute_result",
          "data": {
            "text/html": [
              "\n",
              "  <div id=\"df-9b3525b3-f463-4091-83e6-f2dc2cd9c62c\">\n",
              "    <div class=\"colab-df-container\">\n",
              "      <div>\n",
              "<style scoped>\n",
              "    .dataframe tbody tr th:only-of-type {\n",
              "        vertical-align: middle;\n",
              "    }\n",
              "\n",
              "    .dataframe tbody tr th {\n",
              "        vertical-align: top;\n",
              "    }\n",
              "\n",
              "    .dataframe thead th {\n",
              "        text-align: right;\n",
              "    }\n",
              "</style>\n",
              "<table border=\"1\" class=\"dataframe\">\n",
              "  <thead>\n",
              "    <tr style=\"text-align: right;\">\n",
              "      <th></th>\n",
              "      <th>loss</th>\n",
              "      <th>accuracy</th>\n",
              "      <th>val_loss</th>\n",
              "      <th>val_accuracy</th>\n",
              "    </tr>\n",
              "  </thead>\n",
              "  <tbody>\n",
              "    <tr>\n",
              "      <th>0</th>\n",
              "      <td>0.694223</td>\n",
              "      <td>0.498771</td>\n",
              "      <td>0.692095</td>\n",
              "      <td>0.500000</td>\n",
              "    </tr>\n",
              "    <tr>\n",
              "      <th>1</th>\n",
              "      <td>0.691264</td>\n",
              "      <td>0.566339</td>\n",
              "      <td>0.689131</td>\n",
              "      <td>0.828571</td>\n",
              "    </tr>\n",
              "  </tbody>\n",
              "</table>\n",
              "</div>\n",
              "      <button class=\"colab-df-convert\" onclick=\"convertToInteractive('df-9b3525b3-f463-4091-83e6-f2dc2cd9c62c')\"\n",
              "              title=\"Convert this dataframe to an interactive table.\"\n",
              "              style=\"display:none;\">\n",
              "        \n",
              "  <svg xmlns=\"http://www.w3.org/2000/svg\" height=\"24px\"viewBox=\"0 0 24 24\"\n",
              "       width=\"24px\">\n",
              "    <path d=\"M0 0h24v24H0V0z\" fill=\"none\"/>\n",
              "    <path d=\"M18.56 5.44l.94 2.06.94-2.06 2.06-.94-2.06-.94-.94-2.06-.94 2.06-2.06.94zm-11 1L8.5 8.5l.94-2.06 2.06-.94-2.06-.94L8.5 2.5l-.94 2.06-2.06.94zm10 10l.94 2.06.94-2.06 2.06-.94-2.06-.94-.94-2.06-.94 2.06-2.06.94z\"/><path d=\"M17.41 7.96l-1.37-1.37c-.4-.4-.92-.59-1.43-.59-.52 0-1.04.2-1.43.59L10.3 9.45l-7.72 7.72c-.78.78-.78 2.05 0 2.83L4 21.41c.39.39.9.59 1.41.59.51 0 1.02-.2 1.41-.59l7.78-7.78 2.81-2.81c.8-.78.8-2.07 0-2.86zM5.41 20L4 18.59l7.72-7.72 1.47 1.35L5.41 20z\"/>\n",
              "  </svg>\n",
              "      </button>\n",
              "      \n",
              "  <style>\n",
              "    .colab-df-container {\n",
              "      display:flex;\n",
              "      flex-wrap:wrap;\n",
              "      gap: 12px;\n",
              "    }\n",
              "\n",
              "    .colab-df-convert {\n",
              "      background-color: #E8F0FE;\n",
              "      border: none;\n",
              "      border-radius: 50%;\n",
              "      cursor: pointer;\n",
              "      display: none;\n",
              "      fill: #1967D2;\n",
              "      height: 32px;\n",
              "      padding: 0 0 0 0;\n",
              "      width: 32px;\n",
              "    }\n",
              "\n",
              "    .colab-df-convert:hover {\n",
              "      background-color: #E2EBFA;\n",
              "      box-shadow: 0px 1px 2px rgba(60, 64, 67, 0.3), 0px 1px 3px 1px rgba(60, 64, 67, 0.15);\n",
              "      fill: #174EA6;\n",
              "    }\n",
              "\n",
              "    [theme=dark] .colab-df-convert {\n",
              "      background-color: #3B4455;\n",
              "      fill: #D2E3FC;\n",
              "    }\n",
              "\n",
              "    [theme=dark] .colab-df-convert:hover {\n",
              "      background-color: #434B5C;\n",
              "      box-shadow: 0px 1px 3px 1px rgba(0, 0, 0, 0.15);\n",
              "      filter: drop-shadow(0px 1px 2px rgba(0, 0, 0, 0.3));\n",
              "      fill: #FFFFFF;\n",
              "    }\n",
              "  </style>\n",
              "\n",
              "      <script>\n",
              "        const buttonEl =\n",
              "          document.querySelector('#df-9b3525b3-f463-4091-83e6-f2dc2cd9c62c button.colab-df-convert');\n",
              "        buttonEl.style.display =\n",
              "          google.colab.kernel.accessAllowed ? 'block' : 'none';\n",
              "\n",
              "        async function convertToInteractive(key) {\n",
              "          const element = document.querySelector('#df-9b3525b3-f463-4091-83e6-f2dc2cd9c62c');\n",
              "          const dataTable =\n",
              "            await google.colab.kernel.invokeFunction('convertToInteractive',\n",
              "                                                     [key], {});\n",
              "          if (!dataTable) return;\n",
              "\n",
              "          const docLinkHtml = 'Like what you see? Visit the ' +\n",
              "            '<a target=\"_blank\" href=https://colab.research.google.com/notebooks/data_table.ipynb>data table notebook</a>'\n",
              "            + ' to learn more about interactive tables.';\n",
              "          element.innerHTML = '';\n",
              "          dataTable['output_type'] = 'display_data';\n",
              "          await google.colab.output.renderOutput(dataTable, element);\n",
              "          const docLink = document.createElement('div');\n",
              "          docLink.innerHTML = docLinkHtml;\n",
              "          element.appendChild(docLink);\n",
              "        }\n",
              "      </script>\n",
              "    </div>\n",
              "  </div>\n",
              "  "
            ],
            "text/plain": [
              "       loss  accuracy  val_loss  val_accuracy\n",
              "0  0.694223  0.498771  0.692095      0.500000\n",
              "1  0.691264  0.566339  0.689131      0.828571"
            ]
          },
          "metadata": {},
          "execution_count": 92
        }
      ]
    },
    {
      "cell_type": "code",
      "metadata": {
        "colab": {
          "base_uri": "https://localhost:8080/",
          "height": 112
        },
        "id": "OHT9QDl38RjM",
        "outputId": "cca2b0a5-8b0b-424b-b39d-c05160c71689"
      },
      "source": [
        "# Rename column\n",
        "dense_metrics.rename(columns = {'loss': 'Training_Loss', 'accuracy': 'Training_Accuracy',\n",
        "                         'val_loss': 'Validation_Loss', 'val_accuracy': 'Validation_Accuracy'}, inplace = True)\n",
        "dense_metrics[:2]"
      ],
      "execution_count": null,
      "outputs": [
        {
          "output_type": "execute_result",
          "data": {
            "text/html": [
              "\n",
              "  <div id=\"df-7cc4bd96-4108-4fc1-ad49-90ed67bafb31\">\n",
              "    <div class=\"colab-df-container\">\n",
              "      <div>\n",
              "<style scoped>\n",
              "    .dataframe tbody tr th:only-of-type {\n",
              "        vertical-align: middle;\n",
              "    }\n",
              "\n",
              "    .dataframe tbody tr th {\n",
              "        vertical-align: top;\n",
              "    }\n",
              "\n",
              "    .dataframe thead th {\n",
              "        text-align: right;\n",
              "    }\n",
              "</style>\n",
              "<table border=\"1\" class=\"dataframe\">\n",
              "  <thead>\n",
              "    <tr style=\"text-align: right;\">\n",
              "      <th></th>\n",
              "      <th>Training_Loss</th>\n",
              "      <th>Training_Accuracy</th>\n",
              "      <th>Validation_Loss</th>\n",
              "      <th>Validation_Accuracy</th>\n",
              "    </tr>\n",
              "  </thead>\n",
              "  <tbody>\n",
              "    <tr>\n",
              "      <th>0</th>\n",
              "      <td>0.694223</td>\n",
              "      <td>0.498771</td>\n",
              "      <td>0.692095</td>\n",
              "      <td>0.500000</td>\n",
              "    </tr>\n",
              "    <tr>\n",
              "      <th>1</th>\n",
              "      <td>0.691264</td>\n",
              "      <td>0.566339</td>\n",
              "      <td>0.689131</td>\n",
              "      <td>0.828571</td>\n",
              "    </tr>\n",
              "  </tbody>\n",
              "</table>\n",
              "</div>\n",
              "      <button class=\"colab-df-convert\" onclick=\"convertToInteractive('df-7cc4bd96-4108-4fc1-ad49-90ed67bafb31')\"\n",
              "              title=\"Convert this dataframe to an interactive table.\"\n",
              "              style=\"display:none;\">\n",
              "        \n",
              "  <svg xmlns=\"http://www.w3.org/2000/svg\" height=\"24px\"viewBox=\"0 0 24 24\"\n",
              "       width=\"24px\">\n",
              "    <path d=\"M0 0h24v24H0V0z\" fill=\"none\"/>\n",
              "    <path d=\"M18.56 5.44l.94 2.06.94-2.06 2.06-.94-2.06-.94-.94-2.06-.94 2.06-2.06.94zm-11 1L8.5 8.5l.94-2.06 2.06-.94-2.06-.94L8.5 2.5l-.94 2.06-2.06.94zm10 10l.94 2.06.94-2.06 2.06-.94-2.06-.94-.94-2.06-.94 2.06-2.06.94z\"/><path d=\"M17.41 7.96l-1.37-1.37c-.4-.4-.92-.59-1.43-.59-.52 0-1.04.2-1.43.59L10.3 9.45l-7.72 7.72c-.78.78-.78 2.05 0 2.83L4 21.41c.39.39.9.59 1.41.59.51 0 1.02-.2 1.41-.59l7.78-7.78 2.81-2.81c.8-.78.8-2.07 0-2.86zM5.41 20L4 18.59l7.72-7.72 1.47 1.35L5.41 20z\"/>\n",
              "  </svg>\n",
              "      </button>\n",
              "      \n",
              "  <style>\n",
              "    .colab-df-container {\n",
              "      display:flex;\n",
              "      flex-wrap:wrap;\n",
              "      gap: 12px;\n",
              "    }\n",
              "\n",
              "    .colab-df-convert {\n",
              "      background-color: #E8F0FE;\n",
              "      border: none;\n",
              "      border-radius: 50%;\n",
              "      cursor: pointer;\n",
              "      display: none;\n",
              "      fill: #1967D2;\n",
              "      height: 32px;\n",
              "      padding: 0 0 0 0;\n",
              "      width: 32px;\n",
              "    }\n",
              "\n",
              "    .colab-df-convert:hover {\n",
              "      background-color: #E2EBFA;\n",
              "      box-shadow: 0px 1px 2px rgba(60, 64, 67, 0.3), 0px 1px 3px 1px rgba(60, 64, 67, 0.15);\n",
              "      fill: #174EA6;\n",
              "    }\n",
              "\n",
              "    [theme=dark] .colab-df-convert {\n",
              "      background-color: #3B4455;\n",
              "      fill: #D2E3FC;\n",
              "    }\n",
              "\n",
              "    [theme=dark] .colab-df-convert:hover {\n",
              "      background-color: #434B5C;\n",
              "      box-shadow: 0px 1px 3px 1px rgba(0, 0, 0, 0.15);\n",
              "      filter: drop-shadow(0px 1px 2px rgba(0, 0, 0, 0.3));\n",
              "      fill: #FFFFFF;\n",
              "    }\n",
              "  </style>\n",
              "\n",
              "      <script>\n",
              "        const buttonEl =\n",
              "          document.querySelector('#df-7cc4bd96-4108-4fc1-ad49-90ed67bafb31 button.colab-df-convert');\n",
              "        buttonEl.style.display =\n",
              "          google.colab.kernel.accessAllowed ? 'block' : 'none';\n",
              "\n",
              "        async function convertToInteractive(key) {\n",
              "          const element = document.querySelector('#df-7cc4bd96-4108-4fc1-ad49-90ed67bafb31');\n",
              "          const dataTable =\n",
              "            await google.colab.kernel.invokeFunction('convertToInteractive',\n",
              "                                                     [key], {});\n",
              "          if (!dataTable) return;\n",
              "\n",
              "          const docLinkHtml = 'Like what you see? Visit the ' +\n",
              "            '<a target=\"_blank\" href=https://colab.research.google.com/notebooks/data_table.ipynb>data table notebook</a>'\n",
              "            + ' to learn more about interactive tables.';\n",
              "          element.innerHTML = '';\n",
              "          dataTable['output_type'] = 'display_data';\n",
              "          await google.colab.output.renderOutput(dataTable, element);\n",
              "          const docLink = document.createElement('div');\n",
              "          docLink.innerHTML = docLinkHtml;\n",
              "          element.appendChild(docLink);\n",
              "        }\n",
              "      </script>\n",
              "    </div>\n",
              "  </div>\n",
              "  "
            ],
            "text/plain": [
              "   Training_Loss  Training_Accuracy  Validation_Loss  Validation_Accuracy\n",
              "0       0.694223           0.498771         0.692095             0.500000\n",
              "1       0.691264           0.566339         0.689131             0.828571"
            ]
          },
          "metadata": {},
          "execution_count": 93
        }
      ]
    },
    {
      "cell_type": "code",
      "metadata": {
        "id": "pftWJzmR8RjN"
      },
      "source": [
        "def plot_graphs1(var1, var2, string):\n",
        "    dense_metrics[[var1, var2]].plot()\n",
        "    plt.style.use('seaborn')\n",
        "    plt.title('Dense Classifier: Training and Validation ' + string)\n",
        "    plt.xlabel ('Number of epochs')\n",
        "    plt.ylabel(string)\n",
        "    plt.legend([var1, var2])\n",
        "    plt.savefig(path+'/data1/dense_acc.png')"
      ],
      "execution_count": null,
      "outputs": []
    },
    {
      "cell_type": "code",
      "metadata": {
        "id": "C7gaNSIAaTjB"
      },
      "source": [
        "#dense_metrics=metrics"
      ],
      "execution_count": null,
      "outputs": []
    },
    {
      "cell_type": "code",
      "metadata": {
        "colab": {
          "base_uri": "https://localhost:8080/",
          "height": 376
        },
        "id": "qg7HeABH8RjN",
        "outputId": "4c13a722-92f1-4c81-d97a-0b34b4db22f5"
      },
      "source": [
        "plot_graphs1('Training_Loss', 'Validation_Loss', 'loss')\n",
        "plt.savefig('dense_loss.png')"
      ],
      "execution_count": null,
      "outputs": [
        {
          "output_type": "display_data",
          "data": {
            "image/png": "[encoded data removed]",
            "text/plain": [
              "<Figure size 576x396 with 1 Axes>"
            ]
          },
          "metadata": {}
        }
      ]
    },
    {
      "cell_type": "code",
      "metadata": {
        "colab": {
          "base_uri": "https://localhost:8080/",
          "height": 35
        },
        "id": "F_9GtbRO0G1_",
        "outputId": "29ac25e2-9593-4d88-c551-cc7edc1d860f"
      },
      "source": [
        "plt.savefig('dense_loss.png')"
      ],
      "execution_count": null,
      "outputs": [
        {
          "output_type": "display_data",
          "data": {
            "text/plain": [
              "<Figure size 576x396 with 0 Axes>"
            ]
          },
          "metadata": {}
        }
      ]
    },
    {
      "cell_type": "code",
      "metadata": {
        "colab": {
          "base_uri": "https://localhost:8080/",
          "height": 376
        },
        "id": "5t5RjKen8RjN",
        "outputId": "04c8168e-c0c2-401b-a612-f8ee0151c3a0"
      },
      "source": [
        "plot_graphs1('Training_Accuracy', 'Validation_Accuracy', 'accuracy')"
      ],
      "execution_count": null,
      "outputs": [
        {
          "output_type": "display_data",
          "data": {
            "image/png": "[encoded data removed]",
            "text/plain": [
              "<Figure size 576x396 with 1 Axes>"
            ]
          },
          "metadata": {}
        }
      ]
    },
    {
      "cell_type": "code",
      "metadata": {
        "colab": {
          "base_uri": "https://localhost:8080/",
          "height": 35
        },
        "id": "mLwdf7_a1Fkw",
        "outputId": "41344c39-2271-4369-d755-59718604eac5"
      },
      "source": [
        "plt.savefig('dense_acc.png')"
      ],
      "execution_count": null,
      "outputs": [
        {
          "output_type": "display_data",
          "data": {
            "text/plain": [
              "<Figure size 576x396 with 0 Axes>"
            ]
          },
          "metadata": {}
        }
      ]
    },
    {
      "cell_type": "code",
      "metadata": {
        "id": "KAbloZ6BJvKC"
      },
      "source": [
        "#y_test=np.argmax(preds,axis=1)\n",
        "#y_predict = np.argmax(model.predict(testing_padded), axis=-1)"
      ],
      "execution_count": null,
      "outputs": []
    },
    {
      "cell_type": "code",
      "metadata": {
        "colab": {
          "base_uri": "https://localhost:8080/"
        },
        "id": "siPDOA59BCJ3",
        "outputId": "82221e41-dd72-4adf-8d2d-ef23b1ecc334"
      },
      "source": [
        "from sklearn.metrics import classification_report\n",
        "#testing_padded, test_labels\n",
        "y_pred = dense_model.predict(testing_padded)\n",
        "y = np.array([0 if x < 0.5 else 1 for x in y_pred])\n",
        "#preds = np.argmax(y_pred, axis = 1)\n",
        "#print(y_pred)\n",
        "#print(y)\n",
        "print(classification_report(test_labels, y))"
      ],
      "execution_count": null,
      "outputs": [
        {
          "output_type": "stream",
          "name": "stdout",
          "text": [
            "              precision    recall  f1-score   support\n",
            "\n",
            "           0       0.89      0.94      0.92       175\n",
            "           1       0.94      0.89      0.91       175\n",
            "\n",
            "    accuracy                           0.91       350\n",
            "   macro avg       0.92      0.91      0.91       350\n",
            "weighted avg       0.92      0.91      0.91       350\n",
            "\n"
          ]
        }
      ]
    },
    {
      "cell_type": "code",
      "metadata": {
        "id": "SiC7dAa02Ghl"
      },
      "source": [
        "#df_rep = pd.DataFrame(report,False).transpose()\n",
        "#df_rep.to_csv('test.csv',sep=',')"
      ],
      "execution_count": null,
      "outputs": []
    },
    {
      "cell_type": "code",
      "metadata": {
        "colab": {
          "base_uri": "https://localhost:8080/"
        },
        "id": "pt2j-wBnHzbY",
        "outputId": "3c51086e-2bad-483f-956b-a0853f24a1b5"
      },
      "source": [
        "from sklearn.metrics import confusion_matrix\n",
        "\n",
        "#print(classification_report(test_labels,))\n",
        "\n",
        "print(confusion_matrix(test_labels, y))\n"
      ],
      "execution_count": null,
      "outputs": [
        {
          "output_type": "stream",
          "name": "stdout",
          "text": [
            "[[165  10]\n",
            " [ 20 155]]\n"
          ]
        }
      ]
    },
    {
      "cell_type": "code",
      "metadata": {
        "colab": {
          "base_uri": "https://localhost:8080/"
        },
        "id": "Sgvwnm4d_rhO",
        "outputId": "10546d96-8ebb-4e79-8f83-4e07d28673e1"
      },
      "source": [
        "preds = dense_model.predict(testing_padded,verbose=1)"
      ],
      "execution_count": null,
      "outputs": [
        {
          "output_type": "stream",
          "name": "stdout",
          "text": [
            "11/11 [==============================] - 0s 2ms/step\n"
          ]
        }
      ]
    },
    {
      "cell_type": "code",
      "metadata": {
        "id": "khN6DNGUbpc0"
      },
      "source": [
        "from sklearn import metrics\n",
        "targets=test_labels\n",
        "dist_fpr1, dist_tpr1, dist_thresh1 = metrics.roc_curve(targets, preds, pos_label=1)\n",
        "#fpr2, tpr2, thresh2 = roc_curve(y_test, pred_prob2[:,1], pos_label=1)\n",
        "\n",
        "# roc curve for tpr = fpr \n",
        "random_probs = [0 for i in range(len(targets))]\n",
        "p_fpr, p_tpr, _ = metrics.roc_curve(targets, random_probs, pos_label=1)\n",
        "auc_score1_dist = metrics.roc_auc_score(targets, preds)"
      ],
      "execution_count": null,
      "outputs": []
    },
    {
      "cell_type": "code",
      "metadata": {
        "colab": {
          "base_uri": "https://localhost:8080/"
        },
        "id": "aB4OQiQleYqz",
        "outputId": "f48888e5-4d25-477a-88db-80518fa604ce"
      },
      "source": [
        "print(auc_score1_dist)"
      ],
      "execution_count": null,
      "outputs": [
        {
          "output_type": "stream",
          "name": "stdout",
          "text": [
            "0.9726040816326531\n"
          ]
        }
      ]
    },
    {
      "cell_type": "code",
      "metadata": {
        "colab": {
          "base_uri": "https://localhost:8080/",
          "height": 376
        },
        "id": "V6FH6ddWbzL-",
        "outputId": "aa01a412-bd87-4228-bf4a-59fa50f74f41"
      },
      "source": [
        "# matplotlib\n",
        "import matplotlib.pyplot as plt\n",
        "plt.style.use('seaborn')\n",
        "\n",
        "# plot roc curves\n",
        "plt.plot(dist_fpr1, dist_tpr1, linestyle='--',color='orange', label='Dense model')\n",
        "#plt.plot(fpr2, tpr2, linestyle='--',color='green', label='KNN')\n",
        "plt.plot(p_fpr, p_tpr, linestyle='--', color='blue')\n",
        "# title\n",
        "plt.title('ROC curve')\n",
        "# x label\n",
        "plt.xlabel('False Positive Rate')\n",
        "# y label\n",
        "plt.ylabel('True Positive rate')\n",
        "\n",
        "plt.legend(loc='best')\n",
        "plt.savefig('ROC',dpi=300)\n",
        "plt.show();"
      ],
      "execution_count": null,
      "outputs": [
        {
          "output_type": "display_data",
          "data": {
            "image/png": "[encoded data removed]",
            "text/plain": [
              "<Figure size 576x396 with 1 Axes>"
            ]
          },
          "metadata": {}
        }
      ]
    },
    {
      "cell_type": "markdown",
      "metadata": {
        "id": "2D61xeBQ8RjO"
      },
      "source": [
        "#### Long Short Term Memory (LSTM) layer architecture \n",
        "\n",
        "Below, we fit the spam detection model using LSTM. Some new hyper-parameters used in LSTM below are SpatialDropout1D and n_lstm. \n",
        "* SpatialDropout1D is used to dropout our embedding layer by using drop_embed =0.2. The SpatialDropout1D helps to drop entire 1D feature maps instead of individual elements.  \n",
        "* n_lstm 128 is the number of nodes in the hidden layers within the LSTM cell\n",
        "* return_sequences=True ensures that the LSTM cell returns all of the outputs from the unrolled LSTM cell through time. If this argument is not used, the LSTM cell will simply provide the output of the LSTM cell from the previous step."
      ]
    },
    {
      "cell_type": "code",
      "metadata": {
        "id": "8IPJwwv38RjO"
      },
      "source": [
        "#LSTM layer arcitecture hyperparameters\n",
        "n_lstm = 20\n",
        "drop_lstm =0.2"
      ],
      "execution_count": null,
      "outputs": []
    },
    {
      "cell_type": "code",
      "metadata": {
        "id": "hvfLoU_J8RjO"
      },
      "source": [
        "#LSTM UCS detection architecture\n",
        "lstm_model = Sequential()\n",
        "lstm_model.add(Embedding(vocab_size, embeding_dim, input_length=max_len))\n",
        "lstm_model.add(LSTM(n_lstm, dropout=drop_lstm, return_sequences=True))\n",
        "lstm_model.add(LSTM(n_lstm, dropout=drop_lstm, return_sequences=True))\n",
        "lstm_model.add(Dense(1, activation='sigmoid'))"
      ],
      "execution_count": null,
      "outputs": []
    },
    {
      "cell_type": "code",
      "metadata": {
        "id": "oejXrn748RjO"
      },
      "source": [
        "lstm_model.compile(loss = 'binary_crossentropy', optimizer = 'adam', metrics=['accuracy'])"
      ],
      "execution_count": null,
      "outputs": []
    },
    {
      "cell_type": "code",
      "metadata": {
        "scrolled": true,
        "colab": {
          "base_uri": "https://localhost:8080/"
        },
        "id": "FHT2moSv8RjP",
        "outputId": "9d7e9263-4c49-4b38-c904-4ebc6a899927"
      },
      "source": [
        "# Training\n",
        "num_epochs = 50\n",
        "early_stop = EarlyStopping(monitor='val_loss', patience=2)\n",
        "start=time.time()\n",
        "lstm_history = lstm_model.fit(training_padded, train_labels, epochs=num_epochs, \n",
        "                    validation_data=(testing_padded, test_labels),callbacks =[early_stop], verbose=2)\n",
        "end=time.time()\n",
        "print(\"Total time for LSTM \"+str(end-start))"
      ],
      "execution_count": null,
      "outputs": [
        {
          "output_type": "stream",
          "name": "stdout",
          "text": [
            "Epoch 1/50\n",
            "26/26 - 6s - loss: 0.6932 - accuracy: 0.5288 - val_loss: 0.6904 - val_accuracy: 0.6110 - 6s/epoch - 227ms/step\n",
            "Epoch 2/50\n",
            "26/26 - 1s - loss: 0.6661 - accuracy: 0.6635 - val_loss: 0.6414 - val_accuracy: 0.6588 - 770ms/epoch - 30ms/step\n",
            "Epoch 3/50\n",
            "26/26 - 1s - loss: 0.4516 - accuracy: 0.8415 - val_loss: 0.3968 - val_accuracy: 0.8635 - 773ms/epoch - 30ms/step\n",
            "Epoch 4/50\n",
            "26/26 - 1s - loss: 0.3366 - accuracy: 0.8949 - val_loss: 0.4658 - val_accuracy: 0.8301 - 768ms/epoch - 30ms/step\n",
            "Epoch 5/50\n",
            "26/26 - 1s - loss: 0.3202 - accuracy: 0.8957 - val_loss: 0.4077 - val_accuracy: 0.8770 - 750ms/epoch - 29ms/step\n",
            "Total time for LSTM 9.056631565093994\n"
          ]
        }
      ]
    },
    {
      "cell_type": "code",
      "metadata": {
        "id": "7i4ux2E78RjP"
      },
      "source": [
        "# Create a dataframe\n",
        "lstm_metrics = pd.DataFrame(lstm_history.history)\n",
        "\n",
        "# Rename column\n",
        "lstm_metrics.rename(columns = {'loss': 'Training_Loss', 'accuracy': 'Training_Accuracy',\n",
        "                         'val_loss': 'Validation_Loss', 'val_accuracy': 'Validation_Accuracy'}, inplace = True)\n",
        "def plot_graphs1(var1, var2, string):\n",
        "    lstm_metrics[[var1, var2]].plot()\n",
        "    plt.title('LSTM Model: Training and Validation ' + string)\n",
        "    plt.xlabel ('Number of epochs')\n",
        "    plt.ylabel(string)\n",
        "    plt.legend([var1, var2])"
      ],
      "execution_count": null,
      "outputs": []
    },
    {
      "cell_type": "code",
      "metadata": {
        "colab": {
          "base_uri": "https://localhost:8080/",
          "height": 376
        },
        "id": "tsQa13Tu8RjP",
        "outputId": "5523225e-8d45-4f20-c066-080d50b487ba"
      },
      "source": [
        "plot_graphs1('Training_Loss', 'Validation_Loss', 'loss')"
      ],
      "execution_count": null,
      "outputs": [
        {
          "output_type": "display_data",
          "data": {
            "image/png": "[encoded data removed]",
            "text/plain": [
              "<Figure size 576x396 with 1 Axes>"
            ]
          },
          "metadata": {}
        }
      ]
    },
    {
      "cell_type": "code",
      "metadata": {
        "colab": {
          "base_uri": "https://localhost:8080/",
          "height": 35
        },
        "id": "NnfzFHM_6v9u",
        "outputId": "aedc4f12-43c5-49e5-ccb9-d9ca8ef1ba16"
      },
      "source": [
        "plt.savefig('lstm_loss.png')"
      ],
      "execution_count": null,
      "outputs": [
        {
          "output_type": "display_data",
          "data": {
            "text/plain": [
              "<Figure size 576x396 with 0 Axes>"
            ]
          },
          "metadata": {}
        }
      ]
    },
    {
      "cell_type": "code",
      "metadata": {
        "colab": {
          "base_uri": "https://localhost:8080/",
          "height": 376
        },
        "id": "rp9mkb3U8RjQ",
        "outputId": "7b5bb9c4-9434-4137-d461-012ffc2ceabd"
      },
      "source": [
        "plot_graphs1('Training_Accuracy', 'Validation_Accuracy', 'accuracy')"
      ],
      "execution_count": null,
      "outputs": [
        {
          "output_type": "display_data",
          "data": {
            "image/png": "[encoded data removed]",
            "text/plain": [
              "<Figure size 576x396 with 1 Axes>"
            ]
          },
          "metadata": {}
        }
      ]
    },
    {
      "cell_type": "code",
      "metadata": {
        "colab": {
          "base_uri": "https://localhost:8080/",
          "height": 35
        },
        "id": "HdiyIxu-7G5s",
        "outputId": "8dbba606-50e9-48c2-9c8b-4bc1fc7de54b"
      },
      "source": [
        "plt.savefig('lstm_acc.png')"
      ],
      "execution_count": null,
      "outputs": [
        {
          "output_type": "display_data",
          "data": {
            "text/plain": [
              "<Figure size 576x396 with 0 Axes>"
            ]
          },
          "metadata": {}
        }
      ]
    },
    {
      "cell_type": "code",
      "metadata": {
        "colab": {
          "base_uri": "https://localhost:8080/"
        },
        "id": "K98McM8RE41m",
        "outputId": "97c44ff5-a07c-44ad-9775-61ad040281b1"
      },
      "source": [
        "# Model performermance on test data is about 91% accuracy with validation loss of 0.29.\n",
        "result=lstm_model.evaluate(testing_padded, test_labels)"
      ],
      "execution_count": null,
      "outputs": [
        {
          "output_type": "stream",
          "name": "stdout",
          "text": [
            "11/11 [==============================] - 0s 13ms/step - loss: 0.4077 - accuracy: 0.8770\n"
          ]
        }
      ]
    },
    {
      "cell_type": "code",
      "metadata": {
        "colab": {
          "base_uri": "https://localhost:8080/"
        },
        "id": "c4kV4NmuV7Ey",
        "outputId": "91ffd21f-1a2e-4e05-c791-2122df28269f"
      },
      "source": [
        "result"
      ],
      "execution_count": null,
      "outputs": [
        {
          "output_type": "execute_result",
          "data": {
            "text/plain": [
              "[0.40774527192115784, 0.877000093460083]"
            ]
          },
          "metadata": {},
          "execution_count": 115
        }
      ]
    },
    {
      "cell_type": "code",
      "metadata": {
        "id": "cljbQX_d7IWH"
      },
      "source": [
        "from sklearn.metrics import classification_report\n",
        "#testing_padded, test_labels\n",
        "y_pred = lstm_model.predict(testing_padded)"
      ],
      "execution_count": null,
      "outputs": []
    },
    {
      "cell_type": "code",
      "source": [
        "y_pred.shape"
      ],
      "metadata": {
        "colab": {
          "base_uri": "https://localhost:8080/"
        },
        "id": "ox6WTCSHkYVU",
        "outputId": "c80046e4-cfd0-489a-f0f7-4ed92d51dd25"
      },
      "execution_count": null,
      "outputs": [
        {
          "output_type": "execute_result",
          "data": {
            "text/plain": [
              "(350, 60, 1)"
            ]
          },
          "metadata": {},
          "execution_count": 117
        }
      ]
    },
    {
      "cell_type": "code",
      "metadata": {
        "colab": {
          "base_uri": "https://localhost:8080/"
        },
        "id": "rRrHCU4CpzZt",
        "outputId": "6287dd63-4856-48d5-f9f3-f70ee571e429"
      },
      "source": [
        "y = np.array([0 if x < 0.5 else 1 for x in y_pred[:,1]])\n",
        "#y = np.argmax(y_pred, axis = 1)\n",
        "#print(y_pred)\n",
        "print(y)\n"
      ],
      "execution_count": null,
      "outputs": [
        {
          "output_type": "stream",
          "name": "stdout",
          "text": [
            "[0 0 1 1 0 0 0 1 0 1 1 1 0 1 1 1 1 0 1 1 0 1 1 1 0 1 0 0 1 1 0 1 1 1 1 0 1\n",
            " 0 1 1 1 1 1 0 0 0 0 0 0 1 1 1 1 1 0 1 1 1 1 1 0 0 1 0 1 1 1 1 0 1 1 0 1 1\n",
            " 1 1 1 1 1 1 1 1 0 1 0 1 1 1 1 1 1 1 1 0 1 1 0 0 1 1 1 0 1 1 0 0 1 1 1 1 1\n",
            " 1 1 1 0 1 1 0 1 1 1 1 0 1 1 1 0 1 1 0 1 0 1 0 1 0 1 1 1 0 0 0 1 1 0 0 1 1\n",
            " 0 1 1 1 1 1 0 0 0 1 1 1 0 1 1 1 1 0 0 1 1 0 0 1 1 1 1 0 1 0 0 1 1 0 1 0 0\n",
            " 0 0 1 0 1 1 0 1 0 1 1 1 1 1 1 1 1 0 1 1 1 1 1 1 1 0 1 1 1 0 1 0 1 1 1 1 0\n",
            " 1 1 0 1 0 0 1 1 1 1 1 1 1 1 1 1 0 1 1 1 1 1 1 1 1 1 0 1 0 0 1 1 1 1 1 0 0\n",
            " 0 1 1 1 1 1 0 1 1 0 1 0 1 0 1 1 0 0 0 1 1 1 0 1 0 1 0 0 1 1 1 1 0 0 1 0 1\n",
            " 1 0 0 1 0 1 1 1 1 1 0 1 1 0 1 0 1 1 1 1 0 1 1 1 1 1 1 1 0 0 0 0 1 1 1 1 0\n",
            " 1 1 1 1 0 1 1 1 1 0 0 0 1 1 1 1 1]\n"
          ]
        }
      ]
    },
    {
      "cell_type": "code",
      "metadata": {
        "colab": {
          "base_uri": "https://localhost:8080/"
        },
        "id": "iPfmPCEt8Xl0",
        "outputId": "5a9c8983-5615-44bb-fffd-bdd8bc787b7b"
      },
      "source": [
        "print(classification_report(test_labels, y))"
      ],
      "execution_count": null,
      "outputs": [
        {
          "output_type": "stream",
          "name": "stdout",
          "text": [
            "              precision    recall  f1-score   support\n",
            "\n",
            "           0       0.85      0.55      0.67       175\n",
            "           1       0.67      0.90      0.77       175\n",
            "\n",
            "    accuracy                           0.73       350\n",
            "   macro avg       0.76      0.73      0.72       350\n",
            "weighted avg       0.76      0.73      0.72       350\n",
            "\n"
          ]
        }
      ]
    },
    {
      "cell_type": "code",
      "metadata": {
        "colab": {
          "base_uri": "https://localhost:8080/"
        },
        "id": "TcW-2zx1YYji",
        "outputId": "737ae4fb-ce82-4468-e8f4-505f1473ae2b"
      },
      "source": [
        "preds1 = lstm_model.predict(testing_padded,verbose=1)"
      ],
      "execution_count": null,
      "outputs": [
        {
          "output_type": "stream",
          "name": "stdout",
          "text": [
            "11/11 [==============================] - 0s 11ms/step\n"
          ]
        }
      ]
    },
    {
      "cell_type": "code",
      "metadata": {
        "id": "9VBd_k7mFOBv"
      },
      "source": [
        "from sklearn import metrics\n",
        "targets=test_labels\n",
        "dist_fpr1, dist_tpr1, dist_thresh1 = metrics.roc_curve(targets, preds1[:,0], pos_label=1)\n",
        "#fpr2, tpr2, thresh2 = roc_curve(y_test, pred_prob2[:,1], pos_label=1)\n",
        "\n",
        "# roc curve for tpr = fpr \n",
        "random_probs = [0 for i in range(len(targets))]\n",
        "p_fpr, p_tpr, _ = metrics.roc_curve(targets, random_probs, pos_label=1)\n",
        "auc_score1_dist = metrics.roc_auc_score(targets, preds1[:,0])"
      ],
      "execution_count": null,
      "outputs": []
    },
    {
      "cell_type": "code",
      "metadata": {
        "colab": {
          "base_uri": "https://localhost:8080/"
        },
        "id": "_LWAn5pzFOBv",
        "outputId": "5d01a778-339a-4f50-cbeb-2af9d6f75dad"
      },
      "source": [
        "print(auc_score1_dist)"
      ],
      "execution_count": null,
      "outputs": [
        {
          "output_type": "stream",
          "name": "stdout",
          "text": [
            "0.846465306122449\n"
          ]
        }
      ]
    },
    {
      "cell_type": "code",
      "metadata": {
        "colab": {
          "base_uri": "https://localhost:8080/",
          "height": 376
        },
        "id": "e4NHUZSRFOBv",
        "outputId": "a933e2cb-f1f3-42da-92f9-af8fc36bf64e"
      },
      "source": [
        "# matplotlib\n",
        "import matplotlib.pyplot as plt\n",
        "plt.style.use('seaborn')\n",
        "\n",
        "# plot roc curves\n",
        "plt.plot(dist_fpr1, dist_tpr1, linestyle='--',color='orange', label='LSTM model')\n",
        "#plt.plot(fpr2, tpr2, linestyle='--',color='green', label='KNN')\n",
        "plt.plot(p_fpr, p_tpr, linestyle='--', color='blue')\n",
        "# title\n",
        "plt.title('ROC curve')\n",
        "# x label\n",
        "plt.xlabel('False Positive Rate')\n",
        "# y label\n",
        "plt.ylabel('True Positive rate')\n",
        "\n",
        "plt.legend(loc='best')\n",
        "plt.savefig('ROC',dpi=300)\n",
        "plt.show();"
      ],
      "execution_count": null,
      "outputs": [
        {
          "output_type": "display_data",
          "data": {
            "image/png": "[encoded data removed]",
            "text/plain": [
              "<Figure size 576x396 with 1 Axes>"
            ]
          },
          "metadata": {}
        }
      ]
    },
    {
      "cell_type": "markdown",
      "metadata": {
        "id": "FI_Uft7T8RjQ"
      },
      "source": [
        "#### Biderectional LSTM (Bi-LSTM) Spam detection architecture\n",
        "Unlike in LSTM, the Bi-LSTM learns patterns from both before and after a given token within a document. The Bi-LSTM backpropagates in both backward and forward directions in time.  Due to this, the computational time is increased compared to LSTM. However, in most of the cases Bi-LSTM results in better accuracy. \n",
        "\n",
        "Below, we can see the Bi-derectional LSTM architechure where only difference than LSTM is that we use Bidirectional wrapper to LSTM. "
      ]
    },
    {
      "cell_type": "code",
      "metadata": {
        "id": "3EKOaOtS8RjQ"
      },
      "source": [
        "# Biderectional LSTM Spam detection architecture\n",
        "model2 = Sequential()\n",
        "model2.add(Embedding(vocab_size, embeding_dim, input_length=max_len))\n",
        "model2.add(Bidirectional(LSTM(n_lstm, dropout=drop_lstm, return_sequences=True)))\n",
        "model2.add(Dense(1, activation='sigmoid'))"
      ],
      "execution_count": null,
      "outputs": []
    },
    {
      "cell_type": "code",
      "metadata": {
        "id": "sLUPzzhY8RjQ"
      },
      "source": [
        "model2.compile(loss = 'binary_crossentropy', optimizer = 'adam', metrics=['accuracy'])"
      ],
      "execution_count": null,
      "outputs": []
    },
    {
      "cell_type": "code",
      "metadata": {
        "id": "bKGKdcj6bUWh"
      },
      "source": [
        "bilstm_model=model2"
      ],
      "execution_count": null,
      "outputs": []
    },
    {
      "cell_type": "code",
      "metadata": {
        "colab": {
          "base_uri": "https://localhost:8080/"
        },
        "id": "4jszJdQa8RjR",
        "outputId": "c6e656a2-1af4-4236-ae8d-da4c7b5d4bbf"
      },
      "source": [
        "# Training\n",
        "num_epochs = 50\n",
        "early_stop = EarlyStopping(monitor='val_loss', patience=2)\n",
        "start=time.time()\n",
        "bilstm_history = bilstm_model.fit(training_padded, train_labels, epochs=num_epochs, \n",
        "                    validation_data=(testing_padded, test_labels),callbacks =[early_stop], verbose=2)\n",
        "end=time.time()\n",
        "print(\"Total time for BiLSTM \"+str(end-start))"
      ],
      "execution_count": null,
      "outputs": [
        {
          "output_type": "stream",
          "name": "stdout",
          "text": [
            "Epoch 1/50\n",
            "26/26 - 6s - loss: 0.6936 - accuracy: 0.4983 - val_loss: 0.6919 - val_accuracy: 0.5069 - 6s/epoch - 218ms/step\n",
            "Epoch 2/50\n",
            "26/26 - 1s - loss: 0.6905 - accuracy: 0.5648 - val_loss: 0.6865 - val_accuracy: 0.5827 - 752ms/epoch - 29ms/step\n",
            "Epoch 3/50\n",
            "26/26 - 1s - loss: 0.6669 - accuracy: 0.6511 - val_loss: 0.5852 - val_accuracy: 0.7256 - 744ms/epoch - 29ms/step\n",
            "Epoch 4/50\n",
            "26/26 - 1s - loss: 0.4754 - accuracy: 0.8378 - val_loss: 0.3979 - val_accuracy: 0.8749 - 749ms/epoch - 29ms/step\n",
            "Epoch 5/50\n",
            "26/26 - 1s - loss: 0.3358 - accuracy: 0.9119 - val_loss: 0.4199 - val_accuracy: 0.8359 - 745ms/epoch - 29ms/step\n",
            "Epoch 6/50\n",
            "26/26 - 1s - loss: 0.3000 - accuracy: 0.9001 - val_loss: 0.3708 - val_accuracy: 0.8638 - 752ms/epoch - 29ms/step\n",
            "Epoch 7/50\n",
            "26/26 - 1s - loss: 0.2488 - accuracy: 0.9238 - val_loss: 0.3509 - val_accuracy: 0.8749 - 754ms/epoch - 29ms/step\n",
            "Epoch 8/50\n",
            "26/26 - 1s - loss: 0.2232 - accuracy: 0.9379 - val_loss: 0.3334 - val_accuracy: 0.8834 - 743ms/epoch - 29ms/step\n",
            "Epoch 9/50\n",
            "26/26 - 1s - loss: 0.2037 - accuracy: 0.9438 - val_loss: 0.3210 - val_accuracy: 0.8973 - 747ms/epoch - 29ms/step\n",
            "Epoch 10/50\n",
            "26/26 - 1s - loss: 0.2309 - accuracy: 0.9350 - val_loss: 0.3577 - val_accuracy: 0.8850 - 733ms/epoch - 28ms/step\n",
            "Epoch 11/50\n",
            "26/26 - 1s - loss: 0.1863 - accuracy: 0.9541 - val_loss: 0.3126 - val_accuracy: 0.9042 - 754ms/epoch - 29ms/step\n",
            "Epoch 12/50\n",
            "26/26 - 1s - loss: 0.1606 - accuracy: 0.9598 - val_loss: 0.3314 - val_accuracy: 0.8971 - 750ms/epoch - 29ms/step\n",
            "Epoch 13/50\n",
            "26/26 - 1s - loss: 0.1437 - accuracy: 0.9647 - val_loss: 0.3388 - val_accuracy: 0.8971 - 748ms/epoch - 29ms/step\n",
            "Total time for BiLSTM 14.785075187683105\n"
          ]
        }
      ]
    },
    {
      "cell_type": "code",
      "metadata": {
        "colab": {
          "base_uri": "https://localhost:8080/",
          "height": 735
        },
        "id": "LI1g6NCN8RjR",
        "outputId": "5dffa215-96e0-4992-e9dd-21e85d807816"
      },
      "source": [
        "# Create a dataframe\n",
        "bilstm_metrics = pd.DataFrame(bilstm_history.history)\n",
        "\n",
        "# Rename column\n",
        "bilstm_metrics.rename(columns = {'loss': 'Training_Loss', 'accuracy': 'Training_Accuracy',\n",
        "                         'val_loss': 'Validation_Loss', 'val_accuracy': 'Validation_Accuracy'}, inplace = True)\n",
        "def plot_graphs2(var1, var2, string):\n",
        "    bilstm_metrics[[var1, var2]].plot()\n",
        "    plt.title('BiLSTM Model: Training and Validation ' + string)\n",
        "    plt.xlabel ('Number of epochs')\n",
        "    plt.ylabel(string)\n",
        "    plt.legend([var1, var2])\n",
        "    \n",
        "plot_graphs2('Training_Loss', 'Validation_Loss', 'loss')\n",
        "plt.savefig('bilstm_loss.png')\n",
        "plot_graphs2('Training_Accuracy', 'Validation_Accuracy', 'accuracy')\n",
        "plt.savefig('bilstm_acc.png')"
      ],
      "execution_count": null,
      "outputs": [
        {
          "output_type": "display_data",
          "data": {
            "image/png": "[encoded data removed]",
            "text/plain": [
              "<Figure size 576x396 with 1 Axes>"
            ]
          },
          "metadata": {}
        },
        {
          "output_type": "display_data",
          "data": {
            "image/png": "[encoded data removed]",
            "text/plain": [
              "<Figure size 576x396 with 1 Axes>"
            ]
          },
          "metadata": {}
        }
      ]
    },
    {
      "cell_type": "markdown",
      "metadata": {
        "id": "UL_ouvcT8RjR"
      },
      "source": [
        "### Compare three different models\n",
        "Based on loss, accuracy and the plots above, we can select Dense architecture as a final model for classifying the text messages. The Dense architecture model has validation accruacy of about 95% and loss of 0.12."
      ]
    },
    {
      "cell_type": "code",
      "metadata": {
        "colab": {
          "base_uri": "https://localhost:8080/"
        },
        "id": "4JYUTRjI8RjS",
        "outputId": "addaf128-9dfb-4daa-aba3-ba5cc6f37f3c"
      },
      "source": [
        "# Comparing three different models\n",
        "print(f\"Dense architecture loss and accuracy: {dense_model.evaluate(testing_padded, test_labels)} \" )\n",
        "print(f\"LSTM architecture loss and accuracy: {lstm_model.evaluate(testing_padded, test_labels)} \" )\n",
        "print(f\"Bi-LSTM architecture loss and accuracy: {bilstm_model.evaluate(testing_padded, test_labels)} \" )"
      ],
      "execution_count": null,
      "outputs": [
        {
          "output_type": "stream",
          "name": "stdout",
          "text": [
            "11/11 [==============================] - 0s 3ms/step - loss: 0.2158 - accuracy: 0.9143\n",
            "Dense architecture loss and accuracy: [0.21580331027507782, 0.9142857193946838] \n",
            "11/11 [==============================] - 0s 13ms/step - loss: 0.4077 - accuracy: 0.8770\n",
            "LSTM architecture loss and accuracy: [0.40774527192115784, 0.877000093460083] \n",
            "11/11 [==============================] - 0s 12ms/step - loss: 0.3388 - accuracy: 0.8971\n",
            "Bi-LSTM architecture loss and accuracy: [0.3387811779975891, 0.897095263004303] \n"
          ]
        }
      ]
    },
    {
      "cell_type": "code",
      "metadata": {
        "colab": {
          "base_uri": "https://localhost:8080/"
        },
        "id": "2fpukjuZ9W8s",
        "outputId": "1100f9d4-70e1-4a54-9a21-ea5a9be11e7b"
      },
      "source": [
        "#y=list()\n",
        "y_pred = dense_model.predict(testing_padded)\n",
        "y_dense = np.array([0 if x < 0.5 else 1 for x in y_pred[:,0]])\n",
        "  #y.append()\n",
        "#print(y)\n",
        "confusion_matrix = classification_report(test_labels, y_dense)\n",
        "print(confusion_matrix)"
      ],
      "execution_count": null,
      "outputs": [
        {
          "output_type": "stream",
          "name": "stdout",
          "text": [
            "              precision    recall  f1-score   support\n",
            "\n",
            "           0       0.89      0.94      0.92       175\n",
            "           1       0.94      0.89      0.91       175\n",
            "\n",
            "    accuracy                           0.91       350\n",
            "   macro avg       0.92      0.91      0.91       350\n",
            "weighted avg       0.92      0.91      0.91       350\n",
            "\n"
          ]
        }
      ]
    },
    {
      "cell_type": "code",
      "metadata": {
        "colab": {
          "base_uri": "https://localhost:8080/"
        },
        "id": "JBwLyYACUVLm",
        "outputId": "64f248bb-550b-4683-c9b2-d6241c77af99"
      },
      "source": [
        "from sklearn.metrics import confusion_matrix\n",
        "\n",
        "#print(classification_report(test_labels,))\n",
        "\n",
        "print(confusion_matrix(test_labels, y_dense))\n"
      ],
      "execution_count": null,
      "outputs": [
        {
          "output_type": "stream",
          "name": "stdout",
          "text": [
            "[[165  10]\n",
            " [ 20 155]]\n"
          ]
        }
      ]
    },
    {
      "cell_type": "code",
      "metadata": {
        "colab": {
          "base_uri": "https://localhost:8080/"
        },
        "id": "9hJCZ3VB_vf8",
        "outputId": "a4d1000f-e634-45d1-fc3a-0c1610c41f23"
      },
      "source": [
        "y_pred = lstm_model.predict(testing_padded)\n",
        "y_pred.reshape(np.shape(y_pred)[0],np.shape(y_pred)[1])\n",
        "y_lstm = np.array([0 if x < 0.5 else 1 for x in y_pred[:,1]])\n",
        "\n",
        "#print(y)\n",
        "confusion_matrix1 = classification_report(test_labels, y_lstm)\n",
        "print(confusion_matrix1)"
      ],
      "execution_count": null,
      "outputs": [
        {
          "output_type": "stream",
          "name": "stdout",
          "text": [
            "              precision    recall  f1-score   support\n",
            "\n",
            "           0       0.85      0.55      0.67       175\n",
            "           1       0.67      0.90      0.77       175\n",
            "\n",
            "    accuracy                           0.73       350\n",
            "   macro avg       0.76      0.73      0.72       350\n",
            "weighted avg       0.76      0.73      0.72       350\n",
            "\n"
          ]
        }
      ]
    },
    {
      "cell_type": "code",
      "metadata": {
        "colab": {
          "base_uri": "https://localhost:8080/"
        },
        "id": "Bb90bIK4UXM1",
        "outputId": "b97e0d84-162a-45b6-c795-eee6c2ecdbfa"
      },
      "source": [
        "from sklearn.metrics import confusion_matrix\n",
        "\n",
        "#print(classification_report(test_labels,))\n",
        "\n",
        "print(confusion_matrix(test_labels, y_lstm))\n"
      ],
      "execution_count": null,
      "outputs": [
        {
          "output_type": "stream",
          "name": "stdout",
          "text": [
            "[[ 96  79]\n",
            " [ 17 158]]\n"
          ]
        }
      ]
    },
    {
      "cell_type": "code",
      "metadata": {
        "colab": {
          "base_uri": "https://localhost:8080/"
        },
        "id": "AdZqUKaGQhXV",
        "outputId": "9cf0f7b9-2538-4403-f9bf-111365a09ba2"
      },
      "source": [
        "y_pred = bilstm_model.predict(testing_padded)\n",
        "y_pred.reshape(np.shape(y_pred)[0],np.shape(y_pred)[1])\n",
        "y_bilstm = np.array([0 if x < 0.5 else 1 for x in y_pred[:,1]])\n",
        "\n",
        "#print(y)\n",
        "confusion_matrix2 = classification_report(test_labels, y_bilstm)\n",
        "print(confusion_matrix2)"
      ],
      "execution_count": null,
      "outputs": [
        {
          "output_type": "stream",
          "name": "stdout",
          "text": [
            "              precision    recall  f1-score   support\n",
            "\n",
            "           0       0.84      0.93      0.88       175\n",
            "           1       0.92      0.82      0.86       175\n",
            "\n",
            "    accuracy                           0.87       350\n",
            "   macro avg       0.88      0.87      0.87       350\n",
            "weighted avg       0.88      0.87      0.87       350\n",
            "\n"
          ]
        }
      ]
    },
    {
      "cell_type": "code",
      "metadata": {
        "colab": {
          "base_uri": "https://localhost:8080/"
        },
        "id": "Io41yxbxUYqz",
        "outputId": "c5a2af69-a4de-466c-d897-33c5bc8629b5"
      },
      "source": [
        "from sklearn.metrics import confusion_matrix\n",
        "\n",
        "#print(classification_report(test_labels,))\n",
        "\n",
        "print(confusion_matrix(test_labels, y_bilstm))\n"
      ],
      "execution_count": null,
      "outputs": [
        {
          "output_type": "stream",
          "name": "stdout",
          "text": [
            "[[162  13]\n",
            " [ 32 143]]\n"
          ]
        }
      ]
    },
    {
      "cell_type": "code",
      "metadata": {
        "id": "PqUaydfXUq9B"
      },
      "source": [
        "from sklearn import metrics\n",
        "y_1 = dense_model.predict(testing_padded)\n",
        "y_2 = lstm_model.predict(testing_padded)\n",
        "y_3 = bilstm_model.predict(testing_padded)\n",
        "targets=test_labels\n",
        "dist_fpr1, dist_tpr1, dist_thresh1 = metrics.roc_curve(targets, y_1[:,0], pos_label=1)\n",
        "lstm_fpr1, lstm_tpr1, lstm_thresh1 = metrics.roc_curve(targets, y_2[:,0], pos_label=1)\n",
        "bilstm_fpr1, bilstm_tpr1, bilstm_thresh1 = metrics.roc_curve(targets, y_3[:,0], pos_label=1)\n",
        "#fpr2, tpr2, thresh2 = roc_curve(y_test, pred_prob2[:,1], pos_label=1)\n",
        "\n",
        "# roc curve for tpr = fpr \n",
        "random_probs = [0 for i in range(len(targets))]\n",
        "p_fpr, p_tpr, _ = metrics.roc_curve(targets, random_probs, pos_label=1)\n",
        "auc_score1_dist = metrics.roc_auc_score(targets, y_1[:,0])\n",
        "auc_score1_lstm = metrics.roc_auc_score(targets, y_2[:,0])\n",
        "auc_score1_bilstm = metrics.roc_auc_score(targets, y_3[:,0])"
      ],
      "execution_count": null,
      "outputs": []
    },
    {
      "cell_type": "code",
      "metadata": {
        "colab": {
          "base_uri": "https://localhost:8080/"
        },
        "id": "Z--GmQCSUq9B",
        "outputId": "10354f0f-e6b7-4f64-8531-8b63be164eee"
      },
      "source": [
        "print(auc_score1_dist)\n",
        "print(auc_score1_lstm)\n",
        "print(auc_score1_bilstm)"
      ],
      "execution_count": null,
      "outputs": [
        {
          "output_type": "stream",
          "name": "stdout",
          "text": [
            "0.9726040816326531\n",
            "0.846465306122449\n",
            "0.9592816326530612\n"
          ]
        }
      ]
    },
    {
      "cell_type": "code",
      "metadata": {
        "colab": {
          "base_uri": "https://localhost:8080/",
          "height": 376
        },
        "id": "JF0Ig1ASUq9B",
        "outputId": "f9e264bc-28b6-4964-abf3-b5bc907730db"
      },
      "source": [
        "# matplotlib\n",
        "import matplotlib.pyplot as plt\n",
        "plt.style.use('seaborn')\n",
        "\n",
        "# plot roc curves\n",
        "plt.plot(dist_fpr1, dist_tpr1, linestyle='--',color='orange', label='Dense model')\n",
        "plt.plot(lstm_fpr1, lstm_tpr1, linestyle='--',color='green', label='LSTM model')\n",
        "plt.plot(bilstm_fpr1, bilstm_tpr1, linestyle='--',color='red', label='BiLSTM model')\n",
        "#plt.plot(fpr2, tpr2, linestyle='--',color='green', label='KNN')\n",
        "plt.plot(p_fpr, p_tpr, linestyle='--', color='blue')\n",
        "# title\n",
        "plt.title('ROC curve')\n",
        "# x label\n",
        "plt.xlabel('False Positive Rate')\n",
        "# y label\n",
        "plt.ylabel('True Positive rate')\n",
        "\n",
        "plt.legend(loc='best')\n",
        "plt.savefig('ROC',dpi=300)\n",
        "plt.show();"
      ],
      "execution_count": null,
      "outputs": [
        {
          "output_type": "display_data",
          "data": {
            "image/png": "[encoded data removed]",
            "text/plain": [
              "<Figure size 576x396 with 1 Axes>"
            ]
          },
          "metadata": {}
        }
      ]
    },
    {
      "cell_type": "markdown",
      "metadata": {
        "id": "7-E2AyLI8RjS"
      },
      "source": [
        "# Predict UCS from new data\n",
        "\n"
      ]
    },
    {
      "cell_type": "code",
      "metadata": {
        "id": "7r1Lhy198RjT"
      },
      "source": [
        "# The third one gives 0.99 indicating very high probabilty of spam\n",
        "predict_msg = [\"User selects a transformation language program file to parse.\",\n",
        "\"The HATS-GUI compares the time stamps on the lexical specification and grammar files to the time\",\n",
        "          \"agentMom shall support the ability to send unicast message.\"]\n"
      ],
      "execution_count": null,
      "outputs": []
    },
    {
      "cell_type": "code",
      "source": [
        "text=[\"The HATS-GUI compares the time stamps on the lexical specification and grammar files to the time\"]"
      ],
      "metadata": {
        "id": "u828fYt1fdgh"
      },
      "execution_count": null,
      "outputs": []
    },
    {
      "cell_type": "code",
      "metadata": {
        "id": "kaz8ZZSWWX7T"
      },
      "source": [
        "def predict_ucs(predict_msg,model):\n",
        "    new_seq = tokenizer.texts_to_sequences(predict_msg)\n",
        "    padded = pad_sequences(new_seq, maxlen =max_len,\n",
        "                      padding = padding_type,\n",
        "                      truncating=trunc_type)\n",
        "    #model.predict_classes(padded)\n",
        "    \n",
        "    return (model.predict(padded))"
      ],
      "execution_count": null,
      "outputs": []
    },
    {
      "cell_type": "code",
      "metadata": {
        "id": "Iv_LQjK0_je-"
      },
      "source": [
        "def get_predictions(text,model):\n",
        "    sequence = tokenizer.texts_to_sequences([text])\n",
        "    # pad the sequence\n",
        "    sequence = pad_sequences(sequence, maxlen=max_len)\n",
        "    # get the prediction\n",
        "    prediction = model.predict(sequence)[0]\n",
        "    # one-hot encoded vector, revert using np.argmax\n",
        "    return np.argmax(prediction)"
      ],
      "execution_count": null,
      "outputs": []
    },
    {
      "cell_type": "code",
      "metadata": {
        "colab": {
          "base_uri": "https://localhost:8080/"
        },
        "id": "gGqmDJgv_5cy",
        "outputId": "f6e4bde2-5cfd-4cfd-8c1c-f77673be9be0"
      },
      "source": [
        "text='User selects a transformation language program file to parse.'\n",
        "print(get_predictions(predict_msg,bilstm_model))"
      ],
      "execution_count": null,
      "outputs": [
        {
          "output_type": "stream",
          "name": "stdout",
          "text": [
            "0\n"
          ]
        }
      ]
    },
    {
      "cell_type": "code",
      "metadata": {
        "colab": {
          "base_uri": "https://localhost:8080/"
        },
        "id": "z81ardlS8RjT",
        "outputId": "036939c3-c113-433b-c5d1-3490b5baf388"
      },
      "source": [
        "print(np.argmax(predict_spam(text,lstm_model)))"
      ],
      "execution_count": null,
      "outputs": [
        {
          "output_type": "stream",
          "name": "stdout",
          "text": [
            "240\n"
          ]
        }
      ]
    },
    {
      "cell_type": "code",
      "metadata": {
        "id": "MlsiMg2p8WxW",
        "colab": {
          "base_uri": "https://localhost:8080/"
        },
        "outputId": "a368d0e2-6e98-4b87-841a-7f1d6c4a1020"
      },
      "source": [
        "p=predict_ucs(predict_msg,dense_model)\n",
        "p"
      ],
      "execution_count": null,
      "outputs": [
        {
          "output_type": "execute_result",
          "data": {
            "text/plain": [
              "array([[0.99574834],\n",
              "       [0.70416415],\n",
              "       [0.00490552]], dtype=float32)"
            ]
          },
          "metadata": {},
          "execution_count": 168
        }
      ]
    },
    {
      "cell_type": "code",
      "source": [
        "p=predict_ucs(T,dense_model)\n",
        "p"
      ],
      "metadata": {
        "colab": {
          "base_uri": "https://localhost:8080/"
        },
        "id": "4WTdfvr58dLY",
        "outputId": "a139de6e-419f-4abe-cdbb-1ea20c623b1e"
      },
      "execution_count": null,
      "outputs": [
        {
          "output_type": "execute_result",
          "data": {
            "text/plain": [
              "array([[0.03076181],\n",
              "       [0.00180854],\n",
              "       [0.8941301 ],\n",
              "       [0.95434415]], dtype=float32)"
            ]
          },
          "metadata": {},
          "execution_count": 169
        }
      ]
    },
    {
      "cell_type": "markdown",
      "metadata": {
        "id": "9Bk7kGOS8RjT"
      },
      "source": [
        "Scenario 2: Using newly created text and see how the model classifies them. \n",
        "    \n",
        "Below, first sentence is more like a spam whereas the rest of the two sentences are more like ham. "
      ]
    },
    {
      "cell_type": "code",
      "metadata": {
        "colab": {
          "base_uri": "https://localhost:8080/"
        },
        "id": "OuMIGf048RjT",
        "outputId": "eab1c484-97b3-4614-bdec-e4f9b2241a42"
      },
      "source": [
        "# The third one gives 0.99 indicating very high probabilty of spam\n",
        "predict_msg = [\"User selects a transformation language program file to parse.\",\n",
        "\"The HATS-GUI compares the time stamps on the lexical specification and grammar files to the time\",\n",
        "          \"agentMom shall support the ability to send unicast message.\"]\n",
        "p=predict_ucs(predict_msg,bilstm_model)\n",
        "p.reshape(np.shape(p)[0],np.shape(p)[1])\n",
        "y= np.array([0 if x < 0.5 else 1 for x in p[:,1]])\n",
        "print(y)"
      ],
      "execution_count": null,
      "outputs": [
        {
          "output_type": "stream",
          "name": "stdout",
          "text": [
            "[1 0 0]\n"
          ]
        }
      ]
    },
    {
      "cell_type": "code",
      "metadata": {
        "id": "vO3s9O4EU7JU"
      },
      "source": [
        "T=[\"Store assistant checks status of the tape to be returned by customer. \",\"PDF Split and Merge was created prior to this document, so all requirements stated here are already satisfied.\",\"Cashier enters item identifier.\",\n",
        "\"System updates the sale line item.\"]\n",
        "p=predict_ucs(T,lstm_model)\n"
      ],
      "execution_count": null,
      "outputs": []
    },
    {
      "cell_type": "code",
      "source": [
        "p[:,1]"
      ],
      "metadata": {
        "colab": {
          "base_uri": "https://localhost:8080/"
        },
        "id": "_wk_Wpg8htn2",
        "outputId": "835732d1-9519-4c12-aa3f-cf517040e912"
      },
      "execution_count": null,
      "outputs": [
        {
          "output_type": "execute_result",
          "data": {
            "text/plain": [
              "array([[0.47915158],\n",
              "       [0.48760226],\n",
              "       [0.50205356],\n",
              "       [0.55386144]], dtype=float32)"
            ]
          },
          "metadata": {},
          "execution_count": 165
        }
      ]
    },
    {
      "cell_type": "code",
      "metadata": {
        "colab": {
          "base_uri": "https://localhost:8080/"
        },
        "id": "E3lpImnAVH27",
        "outputId": "ceff2a85-c6cd-4a5d-8a18-7d2af007b0c5"
      },
      "source": [
        "p.reshape(np.shape(p)[0],np.shape(p)[1])\n",
        "y1 = np.array([0 if x < 0.5 else 1 for x in p[:,1]])\n",
        "print(y1)"
      ],
      "execution_count": null,
      "outputs": [
        {
          "output_type": "stream",
          "name": "stdout",
          "text": [
            "[0 0 1 1]\n"
          ]
        }
      ]
    }
  ]
}