{
  "nbformat": 4,
  "nbformat_minor": 0,
  "metadata": {
    "kernelspec": {
      "display_name": "Python 3",
      "language": "python",
      "name": "python3"
    },
    "language_info": {
      "codemirror_mode": {
        "name": "ipython",
        "version": 3
      },
      "file_extension": ".py",
      "mimetype": "text/x-python",
      "name": "python",
      "nbconvert_exporter": "python",
      "pygments_lexer": "ipython3",
      "version": "3.7.6"
    },
    "colab": {
      "name": "Classic_DL_model.ipynb",
      "provenance": [],
      "include_colab_link": true
    },
    "accelerator": "GPU"
  },
  "cells": [
    {
      "cell_type": "markdown",
      "metadata": {
        "id": "view-in-github",
        "colab_type": "text"
      },
      "source": [
        "<a href=\"https://colab.research.google.com/github/Jahan2021/UCS-Classification/blob/main/Classic_DL_model.ipynb\" target=\"_parent\"><img src=\"https://colab.research.google.com/assets/colab-badge.svg\" alt=\"Open In Colab\"/></a>"
      ]
    },
    {
      "cell_type": "markdown",
      "metadata": {
        "id": "yEwBMc1e8Ril"
      },
      "source": [
        "## Method\n",
        "We will use Dense text classifier , Long Short Term Memory(LSTM) and Bi-directional LSTM and compare these methods in terms of performance and runtime. \n",
        "\n",
        "The work here is broken down in multiple steps:\n",
        "\n",
        "* Load and explore the data\n",
        "* Prepare train test data\n",
        "* Train the detection model using the three approaches mentioned earlier\n",
        "* Select one as a final model\n",
        "* Use the final trained classifier to classify the text\n"
      ]
    },
    {
      "cell_type": "markdown",
      "metadata": {
        "id": "7TMuyae78Rim"
      },
      "source": [
        "First, let's make sure our tensorflow version is 2. "
      ]
    },
    {
      "cell_type": "code",
      "metadata": {
        "colab": {
          "base_uri": "https://localhost:8080/"
        },
        "id": "5xDIAiCA8Rin",
        "outputId": "f0716d79-5d65-48e9-9dc9-77210b997ded"
      },
      "source": [
        "import tensorflow as tf\n",
        "print(tf.__version__)"
      ],
      "execution_count": 1,
      "outputs": [
        {
          "output_type": "stream",
          "name": "stdout",
          "text": [
            "2.7.0\n"
          ]
        }
      ]
    },
    {
      "cell_type": "markdown",
      "metadata": {
        "id": "XJiGd8U18Rir"
      },
      "source": [
        "Next, let's import packages that we need. It's good practice to keep all the imports at the beginning of the code. In any project, as you work through the analysis and find you need to import a package, make sure to add the import up here at the benginning."
      ]
    },
    {
      "cell_type": "code",
      "metadata": {
        "id": "HTLHuRAF8Rit"
      },
      "source": [
        "# import libarries for reading data, exploring and plotting\n",
        "import numpy as np\n",
        "import pandas as pd\n",
        "import seaborn as sns\n",
        "import matplotlib.pyplot as plt\n",
        "from wordcloud import WordCloud, STOPWORDS, ImageColorGenerator\n",
        "%matplotlib inline\n",
        "\n",
        "# library for train test split\n",
        "from sklearn.model_selection import train_test_split\n",
        "\n",
        "# deep learning libraries for text pre-processing\n",
        "import tensorflow as tf\n",
        "from tensorflow.keras.preprocessing.text import Tokenizer\n",
        "from tensorflow.keras.preprocessing.sequence import pad_sequences\n",
        "\n",
        "# Modeling \n",
        "from tensorflow.keras.callbacks import EarlyStopping\n",
        "from tensorflow.keras.models import Sequential\n",
        "from tensorflow.keras.layers import Embedding, GlobalAveragePooling1D,  Flatten, Dense, Dropout, LSTM, SpatialDropout1D, Bidirectional\n"
      ],
      "execution_count": 3,
      "outputs": []
    },
    {
      "cell_type": "markdown",
      "metadata": {
        "id": "HGr-pAMe8Rix"
      },
      "source": [
        "## Load and explore the UCS data\n",
        "\n"
      ]
    },
    {
      "cell_type": "code",
      "metadata": {
        "colab": {
          "base_uri": "https://localhost:8080/"
        },
        "id": "UaMV9rRx2BOr",
        "outputId": "853e3507-2841-4a06-b5bc-56454f157a3b"
      },
      "source": [
        "from google.colab import drive\n",
        "drive.mount('/content/drive')"
      ],
      "execution_count": 4,
      "outputs": [
        {
          "output_type": "stream",
          "name": "stdout",
          "text": [
            "Mounted at /content/drive\n"
          ]
        }
      ]
    },
    {
      "cell_type": "code",
      "metadata": {
        "id": "jiNM8C3g1_g4"
      },
      "source": [
        "path=\"/content/drive/MyDrive/Colab Notebooks\""
      ],
      "execution_count": 5,
      "outputs": []
    },
    {
      "cell_type": "code",
      "metadata": {
        "colab": {
          "base_uri": "https://localhost:8080/",
          "height": 206
        },
        "id": "pcut_xwI1nfe",
        "outputId": "c52b7b79-4a2c-42b2-b229-ae260039dc72"
      },
      "source": [
        "path_data=path+\"/data/ucsdata.csv\"#\"/content/spamdata_v2.csv\"#\"/content/spamdata_v2.txt\"\n",
        "df = pd.read_csv(path_data)\n",
        "df.head()\n"
      ],
      "execution_count": 6,
      "outputs": [
        {
          "output_type": "execute_result",
          "data": {
            "text/html": [
              "<div>\n",
              "<style scoped>\n",
              "    .dataframe tbody tr th:only-of-type {\n",
              "        vertical-align: middle;\n",
              "    }\n",
              "\n",
              "    .dataframe tbody tr th {\n",
              "        vertical-align: top;\n",
              "    }\n",
              "\n",
              "    .dataframe thead th {\n",
              "        text-align: right;\n",
              "    }\n",
              "</style>\n",
              "<table border=\"1\" class=\"dataframe\">\n",
              "  <thead>\n",
              "    <tr style=\"text-align: right;\">\n",
              "      <th></th>\n",
              "      <th>label</th>\n",
              "      <th>text</th>\n",
              "    </tr>\n",
              "  </thead>\n",
              "  <tbody>\n",
              "    <tr>\n",
              "      <th>0</th>\n",
              "      <td>1</td>\n",
              "      <td>user accesses the main inventory screen.</td>\n",
              "    </tr>\n",
              "    <tr>\n",
              "      <th>1</th>\n",
              "      <td>1</td>\n",
              "      <td>system displays the add department button.</td>\n",
              "    </tr>\n",
              "    <tr>\n",
              "      <th>2</th>\n",
              "      <td>1</td>\n",
              "      <td>user navigates to a department or category see...</td>\n",
              "    </tr>\n",
              "    <tr>\n",
              "      <th>3</th>\n",
              "      <td>1</td>\n",
              "      <td>system displays the add category buttons.</td>\n",
              "    </tr>\n",
              "    <tr>\n",
              "      <th>4</th>\n",
              "      <td>1</td>\n",
              "      <td>user clicks the desired add category button.</td>\n",
              "    </tr>\n",
              "  </tbody>\n",
              "</table>\n",
              "</div>"
            ],
            "text/plain": [
              "   label                                               text\n",
              "0      1           user accesses the main inventory screen.\n",
              "1      1         system displays the add department button.\n",
              "2      1  user navigates to a department or category see...\n",
              "3      1          system displays the add category buttons.\n",
              "4      1       user clicks the desired add category button."
            ]
          },
          "metadata": {},
          "execution_count": 6
        }
      ]
    },
    {
      "cell_type": "code",
      "metadata": {
        "id": "e1cC3K3sVfMH"
      },
      "source": [
        "df=df.drop_duplicates(keep='last', ignore_index=True)"
      ],
      "execution_count": 14,
      "outputs": []
    },
    {
      "cell_type": "code",
      "metadata": {
        "colab": {
          "base_uri": "https://localhost:8080/",
          "height": 441
        },
        "id": "i2rQHarQVrJb",
        "outputId": "f90b88d1-3b4b-4088-e526-9e9b53c05313"
      },
      "source": [
        "# Selecting duplicate rows except first \n",
        "# occurrence based on all columns\n",
        "duplicate = df[df.duplicated()]\n",
        "  \n",
        "print(\"Duplicate Rows :\")\n",
        "  \n",
        "# Print the resultant Dataframe\n",
        "duplicate\n",
        "#df.drop_duplicates()"
      ],
      "execution_count": 7,
      "outputs": [
        {
          "output_type": "stream",
          "name": "stdout",
          "text": [
            "Duplicate Rows :\n"
          ]
        },
        {
          "output_type": "execute_result",
          "data": {
            "text/html": [
              "<div>\n",
              "<style scoped>\n",
              "    .dataframe tbody tr th:only-of-type {\n",
              "        vertical-align: middle;\n",
              "    }\n",
              "\n",
              "    .dataframe tbody tr th {\n",
              "        vertical-align: top;\n",
              "    }\n",
              "\n",
              "    .dataframe thead th {\n",
              "        text-align: right;\n",
              "    }\n",
              "</style>\n",
              "<table border=\"1\" class=\"dataframe\">\n",
              "  <thead>\n",
              "    <tr style=\"text-align: right;\">\n",
              "      <th></th>\n",
              "      <th>label</th>\n",
              "      <th>text</th>\n",
              "    </tr>\n",
              "  </thead>\n",
              "  <tbody>\n",
              "    <tr>\n",
              "      <th>13</th>\n",
              "      <td>1</td>\n",
              "      <td>system displays the appropriate screen for the...</td>\n",
              "    </tr>\n",
              "    <tr>\n",
              "      <th>15</th>\n",
              "      <td>1</td>\n",
              "      <td>system validates the category data.</td>\n",
              "    </tr>\n",
              "    <tr>\n",
              "      <th>18</th>\n",
              "      <td>1</td>\n",
              "      <td>system displays the edit category button.</td>\n",
              "    </tr>\n",
              "    <tr>\n",
              "      <th>19</th>\n",
              "      <td>1</td>\n",
              "      <td>user clicks the edit category button.</td>\n",
              "    </tr>\n",
              "    <tr>\n",
              "      <th>20</th>\n",
              "      <td>1</td>\n",
              "      <td>system displays the appropriate screen for the...</td>\n",
              "    </tr>\n",
              "    <tr>\n",
              "      <th>...</th>\n",
              "      <td>...</td>\n",
              "      <td>...</td>\n",
              "    </tr>\n",
              "    <tr>\n",
              "      <th>1188</th>\n",
              "      <td>0</td>\n",
              "      <td>the purpose of this document is to explain the...</td>\n",
              "    </tr>\n",
              "    <tr>\n",
              "      <th>1189</th>\n",
              "      <td>0</td>\n",
              "      <td>this document is purely based on the functiona...</td>\n",
              "    </tr>\n",
              "    <tr>\n",
              "      <th>1190</th>\n",
              "      <td>0</td>\n",
              "      <td>the document will explain every small entity o...</td>\n",
              "    </tr>\n",
              "    <tr>\n",
              "      <th>1191</th>\n",
              "      <td>0</td>\n",
              "      <td>this document will help the system development...</td>\n",
              "    </tr>\n",
              "    <tr>\n",
              "      <th>1192</th>\n",
              "      <td>0</td>\n",
              "      <td>this document will help the testing team to pr...</td>\n",
              "    </tr>\n",
              "  </tbody>\n",
              "</table>\n",
              "<p>91 rows × 2 columns</p>\n",
              "</div>"
            ],
            "text/plain": [
              "      label                                               text\n",
              "13        1  system displays the appropriate screen for the...\n",
              "15        1                system validates the category data.\n",
              "18        1          system displays the edit category button.\n",
              "19        1              user clicks the edit category button.\n",
              "20        1  system displays the appropriate screen for the...\n",
              "...     ...                                                ...\n",
              "1188      0  the purpose of this document is to explain the...\n",
              "1189      0  this document is purely based on the functiona...\n",
              "1190      0  the document will explain every small entity o...\n",
              "1191      0  this document will help the system development...\n",
              "1192      0  this document will help the testing team to pr...\n",
              "\n",
              "[91 rows x 2 columns]"
            ]
          },
          "metadata": {},
          "execution_count": 7
        }
      ]
    },
    {
      "cell_type": "code",
      "metadata": {
        "colab": {
          "base_uri": "https://localhost:8080/",
          "height": 206
        },
        "id": "LHrKxTwQ1lBb",
        "outputId": "67361464-189c-4fbc-8268-36b5d9b11f54"
      },
      "source": [
        "df = df.sample(frac=1).reset_index(drop=True)\n",
        "df.head()"
      ],
      "execution_count": 8,
      "outputs": [
        {
          "output_type": "execute_result",
          "data": {
            "text/html": [
              "<div>\n",
              "<style scoped>\n",
              "    .dataframe tbody tr th:only-of-type {\n",
              "        vertical-align: middle;\n",
              "    }\n",
              "\n",
              "    .dataframe tbody tr th {\n",
              "        vertical-align: top;\n",
              "    }\n",
              "\n",
              "    .dataframe thead th {\n",
              "        text-align: right;\n",
              "    }\n",
              "</style>\n",
              "<table border=\"1\" class=\"dataframe\">\n",
              "  <thead>\n",
              "    <tr style=\"text-align: right;\">\n",
              "      <th></th>\n",
              "      <th>label</th>\n",
              "      <th>text</th>\n",
              "    </tr>\n",
              "  </thead>\n",
              "  <tbody>\n",
              "    <tr>\n",
              "      <th>0</th>\n",
              "      <td>0</td>\n",
              "      <td>the location of sensor and control devices for...</td>\n",
              "    </tr>\n",
              "    <tr>\n",
              "      <th>1</th>\n",
              "      <td>0</td>\n",
              "      <td>output the be system shall be capable of deliv...</td>\n",
              "    </tr>\n",
              "    <tr>\n",
              "      <th>2</th>\n",
              "      <td>0</td>\n",
              "      <td>upon starting the program the user is taken th...</td>\n",
              "    </tr>\n",
              "    <tr>\n",
              "      <th>3</th>\n",
              "      <td>0</td>\n",
              "      <td>stored in a separate file a description of tok...</td>\n",
              "    </tr>\n",
              "    <tr>\n",
              "      <th>4</th>\n",
              "      <td>0</td>\n",
              "      <td>background story and information that will hel...</td>\n",
              "    </tr>\n",
              "  </tbody>\n",
              "</table>\n",
              "</div>"
            ],
            "text/plain": [
              "   label                                               text\n",
              "0      0  the location of sensor and control devices for...\n",
              "1      0  output the be system shall be capable of deliv...\n",
              "2      0  upon starting the program the user is taken th...\n",
              "3      0  stored in a separate file a description of tok...\n",
              "4      0  background story and information that will hel..."
            ]
          },
          "metadata": {},
          "execution_count": 8
        }
      ]
    },
    {
      "cell_type": "code",
      "metadata": {
        "colab": {
          "base_uri": "https://localhost:8080/"
        },
        "id": "CZUmGca4hrq4",
        "outputId": "89a75d8c-4e22-4e68-e91e-a33022f0163f"
      },
      "source": [
        "df_not_usecase = df[df['label']==0]\n",
        "df_not_usecase.shape"
      ],
      "execution_count": 15,
      "outputs": [
        {
          "output_type": "execute_result",
          "data": {
            "text/plain": [
              "(652, 2)"
            ]
          },
          "metadata": {},
          "execution_count": 15
        }
      ]
    },
    {
      "cell_type": "code",
      "metadata": {
        "colab": {
          "base_uri": "https://localhost:8080/"
        },
        "id": "7Ht7iKAKho58",
        "outputId": "ac0b9de4-656f-47ab-ac9a-e18bba4b2eca"
      },
      "source": [
        "df_usecase = df[df['label']==1]\n",
        "df_usecase.shape"
      ],
      "execution_count": 16,
      "outputs": [
        {
          "output_type": "execute_result",
          "data": {
            "text/plain": [
              "(450, 2)"
            ]
          },
          "metadata": {},
          "execution_count": 16
        }
      ]
    },
    {
      "cell_type": "code",
      "metadata": {
        "colab": {
          "base_uri": "https://localhost:8080/"
        },
        "id": "dxe6UNFUbbZQ",
        "outputId": "416470df-1b78-41fd-eecc-18c7094dc180"
      },
      "source": [
        "#down sample the dataset to make it balanced\n",
        "df_not_usecase_downsampled = df_not_usecase.sample(df_usecase.shape[0])\n",
        "df_not_usecase_downsampled.shape"
      ],
      "execution_count": 17,
      "outputs": [
        {
          "output_type": "execute_result",
          "data": {
            "text/plain": [
              "(450, 2)"
            ]
          },
          "metadata": {},
          "execution_count": 17
        }
      ]
    },
    {
      "cell_type": "code",
      "metadata": {
        "colab": {
          "base_uri": "https://localhost:8080/"
        },
        "id": "StQRKWD_llPd",
        "outputId": "b3adc4df-8fc6-4404-fe05-7912e357db38"
      },
      "source": [
        "df_balanced = pd.concat([df_not_usecase_downsampled, df_usecase])\n",
        "df_balanced.shape"
      ],
      "execution_count": 18,
      "outputs": [
        {
          "output_type": "execute_result",
          "data": {
            "text/plain": [
              "(900, 2)"
            ]
          },
          "metadata": {},
          "execution_count": 18
        }
      ]
    },
    {
      "cell_type": "code",
      "metadata": {
        "colab": {
          "base_uri": "https://localhost:8080/"
        },
        "id": "FWP0YOlGltIb",
        "outputId": "e8d9ff5a-eee5-40fa-8cd5-989c893b96a3"
      },
      "source": [
        "df_balanced['label'].value_counts()"
      ],
      "execution_count": 19,
      "outputs": [
        {
          "output_type": "execute_result",
          "data": {
            "text/plain": [
              "1    450\n",
              "0    450\n",
              "Name: label, dtype: int64"
            ]
          },
          "metadata": {},
          "execution_count": 19
        }
      ]
    },
    {
      "cell_type": "code",
      "metadata": {
        "colab": {
          "base_uri": "https://localhost:8080/"
        },
        "id": "Rli6Gx2XszQV",
        "outputId": "2af3cb68-784b-4f88-cc03-583ca45653f1"
      },
      "source": [
        "from nltk.corpus import stopwords\n",
        "import nltk\n",
        "nltk.download('stopwords')"
      ],
      "execution_count": 15,
      "outputs": [
        {
          "output_type": "stream",
          "name": "stdout",
          "text": [
            "[nltk_data] Downloading package stopwords to /root/nltk_data...\n",
            "[nltk_data]   Unzipping corpora/stopwords.zip.\n"
          ]
        },
        {
          "output_type": "execute_result",
          "data": {
            "text/plain": [
              "True"
            ]
          },
          "metadata": {},
          "execution_count": 15
        }
      ]
    },
    {
      "cell_type": "code",
      "metadata": {
        "id": "2nsFyVXOBQJ5"
      },
      "source": [
        "# turn a doc into clean tokens\n",
        "def clean_doc(doc):\n",
        "  doc = doc.lower()\n",
        "  # split into tokens by white space\n",
        "  tokens = doc.split()\n",
        "  # remove punctuation from each token\n",
        "  table = str.maketrans('', '', string.punctuation)\n",
        "  tokens = [w.translate(table) for w in tokens]\n",
        "  # remove remaining tokens that are not alphabetic\n",
        "  tokens = [word for word in tokens if word.isalpha()]\n",
        "  # filter out stop words\n",
        "  #stop_words = set(stopwords.words('english'))\n",
        "  #tokens = [w for w in tokens if not w in stop_words]\n",
        "  # filter out short tokens\n",
        "  tokens = [word for word in tokens if len(word) > 1]\n",
        "  return  (\" \".join(tokens)).strip()+'.'"
      ],
      "execution_count": 20,
      "outputs": []
    },
    {
      "cell_type": "code",
      "metadata": {
        "id": "yvJA_dcDv1cx"
      },
      "source": [
        "import string\n",
        "df_balanced[\"text\"]=df_balanced[\"text\"].apply(lambda x: clean_doc(x))\n",
        "#df[1] = df[1].apply(add_one)"
      ],
      "execution_count": 21,
      "outputs": []
    },
    {
      "cell_type": "code",
      "metadata": {
        "colab": {
          "base_uri": "https://localhost:8080/",
          "height": 206
        },
        "id": "Sjk7X9iy0Ok9",
        "outputId": "7370f72d-9521-4db1-9a5a-60f0b76c0a84"
      },
      "source": [
        "df_balanced.head()"
      ],
      "execution_count": 22,
      "outputs": [
        {
          "output_type": "execute_result",
          "data": {
            "text/html": [
              "<div>\n",
              "<style scoped>\n",
              "    .dataframe tbody tr th:only-of-type {\n",
              "        vertical-align: middle;\n",
              "    }\n",
              "\n",
              "    .dataframe tbody tr th {\n",
              "        vertical-align: top;\n",
              "    }\n",
              "\n",
              "    .dataframe thead th {\n",
              "        text-align: right;\n",
              "    }\n",
              "</style>\n",
              "<table border=\"1\" class=\"dataframe\">\n",
              "  <thead>\n",
              "    <tr style=\"text-align: right;\">\n",
              "      <th></th>\n",
              "      <th>label</th>\n",
              "      <th>text</th>\n",
              "    </tr>\n",
              "  </thead>\n",
              "  <tbody>\n",
              "    <tr>\n",
              "      <th>118</th>\n",
              "      <td>0</td>\n",
              "      <td>com ideas on cj recycling resources webpage to...</td>\n",
              "    </tr>\n",
              "    <tr>\n",
              "      <th>1039</th>\n",
              "      <td>0</td>\n",
              "      <td>computation error statistics and compare again...</td>\n",
              "    </tr>\n",
              "    <tr>\n",
              "      <th>968</th>\n",
              "      <td>0</td>\n",
              "      <td>encouraged to try again and further better the...</td>\n",
              "    </tr>\n",
              "    <tr>\n",
              "      <th>927</th>\n",
              "      <td>0</td>\n",
              "      <td>general usability issues and give hints toward...</td>\n",
              "    </tr>\n",
              "    <tr>\n",
              "      <th>100</th>\n",
              "      <td>0</td>\n",
              "      <td>contact us and online donation form website pa...</td>\n",
              "    </tr>\n",
              "  </tbody>\n",
              "</table>\n",
              "</div>"
            ],
            "text/plain": [
              "      label                                               text\n",
              "118       0  com ideas on cj recycling resources webpage to...\n",
              "1039      0  computation error statistics and compare again...\n",
              "968       0  encouraged to try again and further better the...\n",
              "927       0  general usability issues and give hints toward...\n",
              "100       0  contact us and online donation form website pa..."
            ]
          },
          "metadata": {},
          "execution_count": 22
        }
      ]
    },
    {
      "cell_type": "code",
      "metadata": {
        "id": "yebb4VFiWegn"
      },
      "source": [
        "msg_df=df_balanced"
      ],
      "execution_count": 23,
      "outputs": []
    },
    {
      "cell_type": "markdown",
      "metadata": {
        "id": "YXbjqcTT8RjC"
      },
      "source": [
        "## Prepare train test data and pre-processing text\n",
        "First, we need to convert the text label to numeric and split the data into training set and testing set. Also, convert label to numpy arrays to fit deep learning models. 80% of data were used for training and 20% for testing purposes. "
      ]
    },
    {
      "cell_type": "code",
      "metadata": {
        "id": "-OWSZekM8RjD"
      },
      "source": [
        "# Split data into train and test\n",
        "#train_msg, test_msg, train_labels, test_labels = train_test_split(msg_df['message'], msg_label, test_size=0.2, random_state=434)"
      ],
      "execution_count": null,
      "outputs": []
    },
    {
      "cell_type": "code",
      "metadata": {
        "id": "6dflYdxqjWEE"
      },
      "source": [
        "from sklearn.model_selection import train_test_split\n",
        "X_train, X_test, y_train, y_test = train_test_split(df['text'], df['label'], \n",
        "                                                                    random_state=2018, \n",
        "                                                                    test_size=0.2, \n",
        "                                                                    stratify=df['label'])\n",
        "\n",
        "# we will use temp_text and temp_labels to create validation and test set\n",
        "#val_text, test_text, val_labels, test_labels = train_test_split(temp_text, temp_labels, \n",
        "                                                                #random_state=2018, \n",
        "                                                                #test_size=0.5, \n",
        "                                                                #stratify=temp_labels)"
      ],
      "execution_count": 24,
      "outputs": []
    },
    {
      "cell_type": "code",
      "metadata": {
        "id": "dCtjbzIA2eJ_"
      },
      "source": [
        "train_msg, test_msg, train_labels, test_labels = train_test_split(msg_df['text'], msg_df['label'], test_size=0.2, random_state=2018,stratify=msg_df['label'])"
      ],
      "execution_count": 25,
      "outputs": []
    },
    {
      "cell_type": "code",
      "metadata": {
        "colab": {
          "base_uri": "https://localhost:8080/"
        },
        "id": "DoVlbzip23TT",
        "outputId": "695b3927-7000-4af2-d969-f5484bb50c90"
      },
      "source": [
        "print(train_msg[:2])"
      ],
      "execution_count": 26,
      "outputs": [
        {
          "output_type": "stream",
          "name": "stdout",
          "text": [
            "63     system sends an email to the registered email ...\n",
            "734    digital material held in the nlm digital repos...\n",
            "Name: text, dtype: object\n"
          ]
        }
      ]
    },
    {
      "cell_type": "markdown",
      "metadata": {
        "id": "J_CnDSSw8RjD"
      },
      "source": [
        "Below, define the pre-processing hyperparameters and prepare data for training. Particularly we'll use text pre-processing which include:\n",
        "- Tokenization\n",
        "- Sequencing\n",
        "- Padding\n",
        "\n"
      ]
    },
    {
      "cell_type": "markdown",
      "metadata": {
        "id": "0mQe5OB88RjD"
      },
      "source": [
        "#### Tokenization\n",
        "As deep learning models do not understand text, we need to convert text into numerical representation. For this purpose, a first step is Tokenization. The Tokenizer API from TensorFlow Keras splits sentences into words and encodes these into integers. Tokenizer will do all required pre-processing such as \n",
        "- tokenize into word or charachter - here its at word level\n",
        "- num_words for maximum number of unique tokens hence we can filter out rare words\n",
        "- filter out punctuation terms\n",
        "- convert all words to lower case\n",
        "- convert all words to integer index\n",
        "\n",
        "Below, let's define hyper-parameters used for Tokenization. These hyper-parmaters are briefly discussed as we use these in the code. "
      ]
    },
    {
      "cell_type": "code",
      "metadata": {
        "id": "-_CJQR3c8RjE"
      },
      "source": [
        "# Defining pre-processing hyperparameters\n",
        "max_len = 50 # pad_sequencs parameter, it idicates we are only going to look for 50 words in a sentence\n",
        "trunc_type = \"post\" # pad_sequences parameter\n",
        "padding_type = \"post\" # pad_sequences parameter\n",
        "oov_tok = \"<OOV>\" # out of vocabulary token\n",
        "vocab_size = 500"
      ],
      "execution_count": 27,
      "outputs": []
    },
    {
      "cell_type": "code",
      "metadata": {
        "id": "oiAIVBhv8RjF"
      },
      "source": [
        "tokenizer = Tokenizer(num_words = vocab_size, char_level=False, oov_token = oov_tok)\n",
        "tokenizer.fit_on_texts(train_msg)"
      ],
      "execution_count": 28,
      "outputs": []
    },
    {
      "cell_type": "markdown",
      "metadata": {
        "id": "jopzBGSw8RjF"
      },
      "source": [
        "Hyper-parameters used in Tokenizer object are: num_words and oov_token. \n",
        "* num_words: indicate how many unique word you want to load in training and testing data. For our purpose, we selected 500 words (vocab_size)\n",
        "* oov_token: When its used, out of vocabulary token will be added to word index in the corpus which is used to build the model. This is used to replace out of vocabulary words (words that are not in our corpus) during text_to_sequence calls (see below)."
      ]
    },
    {
      "cell_type": "code",
      "metadata": {
        "colab": {
          "base_uri": "https://localhost:8080/"
        },
        "id": "0bvMtx--8RjF",
        "outputId": "0f027ee2-0d28-4650-94f6-fc24af8f1585"
      },
      "source": [
        "# Get the word_index\n",
        "word_index = tokenizer.word_index\n",
        "word_index"
      ],
      "execution_count": 29,
      "outputs": [
        {
          "output_type": "execute_result",
          "data": {
            "text/plain": [
              "{'<OOV>': 1,\n",
              " 'the': 2,\n",
              " 'to': 3,\n",
              " 'of': 4,\n",
              " 'and': 5,\n",
              " 'system': 6,\n",
              " 'user': 7,\n",
              " 'be': 8,\n",
              " 'in': 9,\n",
              " 'is': 10,\n",
              " 'for': 11,\n",
              " 'will': 12,\n",
              " 'or': 13,\n",
              " 'an': 14,\n",
              " 'file': 15,\n",
              " 'item': 16,\n",
              " 'with': 17,\n",
              " 'that': 18,\n",
              " 'this': 19,\n",
              " 'by': 20,\n",
              " 'data': 21,\n",
              " 'category': 22,\n",
              " 'on': 23,\n",
              " 'from': 24,\n",
              " 'application': 25,\n",
              " 'new': 26,\n",
              " 'are': 27,\n",
              " 'as': 28,\n",
              " 'selects': 29,\n",
              " 'all': 30,\n",
              " 'information': 31,\n",
              " 'selected': 32,\n",
              " 'use': 33,\n",
              " 'button': 34,\n",
              " 'should': 35,\n",
              " 'displays': 36,\n",
              " 'customer': 37,\n",
              " 'process': 38,\n",
              " 'clicks': 39,\n",
              " 'alt': 40,\n",
              " 'name': 41,\n",
              " 'program': 42,\n",
              " 'list': 43,\n",
              " 'screen': 44,\n",
              " 'inventory': 45,\n",
              " 'able': 46,\n",
              " 'displayed': 47,\n",
              " 'requirements': 48,\n",
              " 'hats': 49,\n",
              " 'if': 50,\n",
              " 'must': 51,\n",
              " 'it': 52,\n",
              " 'account': 53,\n",
              " 'one': 54,\n",
              " 'have': 55,\n",
              " 'may': 56,\n",
              " 'output': 57,\n",
              " 'case': 58,\n",
              " 'email': 59,\n",
              " 'prompts': 60,\n",
              " 'text': 61,\n",
              " 'product': 62,\n",
              " 'link': 63,\n",
              " 'details': 64,\n",
              " 'initiate': 65,\n",
              " 'administrator': 66,\n",
              " 'option': 67,\n",
              " 'not': 68,\n",
              " 'host': 69,\n",
              " 'os': 70,\n",
              " 'transformation': 71,\n",
              " 'files': 72,\n",
              " 'categories': 73,\n",
              " 'add': 74,\n",
              " 'any': 75,\n",
              " 'game': 76,\n",
              " 'can': 77,\n",
              " 'language': 78,\n",
              " 'sdt': 79,\n",
              " 'editor': 80,\n",
              " 'nlm': 81,\n",
              " 'items': 82,\n",
              " 'number': 83,\n",
              " 'edit': 84,\n",
              " 'gui': 85,\n",
              " 'time': 86,\n",
              " 'each': 87,\n",
              " 'target': 88,\n",
              " 'which': 89,\n",
              " 'nodes': 90,\n",
              " 'at': 91,\n",
              " 'see': 92,\n",
              " 'interface': 93,\n",
              " 'software': 94,\n",
              " 'their': 95,\n",
              " 'has': 96,\n",
              " 'node': 97,\n",
              " 'pretty': 98,\n",
              " 'web': 99,\n",
              " 'select': 100,\n",
              " 'type': 101,\n",
              " 'existing': 102,\n",
              " 'sends': 103,\n",
              " 'digital': 104,\n",
              " 'other': 105,\n",
              " 'they': 106,\n",
              " 'department': 107,\n",
              " 'end': 108,\n",
              " 'home': 109,\n",
              " 'member': 110,\n",
              " 'person': 111,\n",
              " 'provide': 112,\n",
              " 'service': 113,\n",
              " 'shall': 114,\n",
              " 'address': 115,\n",
              " 'repository': 116,\n",
              " 'current': 117,\n",
              " 'sales': 118,\n",
              " 'password': 119,\n",
              " 'services': 120,\n",
              " 'currently': 121,\n",
              " 'move': 122,\n",
              " 'systems': 123,\n",
              " 'through': 124,\n",
              " 'same': 125,\n",
              " 'about': 126,\n",
              " 'when': 127,\n",
              " 'enters': 128,\n",
              " 'login': 129,\n",
              " 'management': 130,\n",
              " 'based': 131,\n",
              " 'help': 132,\n",
              " 'validates': 133,\n",
              " 'refer': 134,\n",
              " 'om': 135,\n",
              " 'view': 136,\n",
              " 'taken': 137,\n",
              " 'requests': 138,\n",
              " 'configuration': 139,\n",
              " 'associate': 140,\n",
              " 'attributes': 141,\n",
              " 'donation': 142,\n",
              " 'request': 143,\n",
              " 'there': 144,\n",
              " 'main': 145,\n",
              " 'available': 146,\n",
              " 'involved': 147,\n",
              " 'plug': 148,\n",
              " 'out': 149,\n",
              " 'its': 150,\n",
              " 'levels': 151,\n",
              " 'but': 152,\n",
              " 'including': 153,\n",
              " 'directory': 154,\n",
              " 'changes': 155,\n",
              " 'section': 156,\n",
              " 'trading': 157,\n",
              " 'display': 158,\n",
              " 'create': 159,\n",
              " 'error': 160,\n",
              " 'unique': 161,\n",
              " 'voucher': 162,\n",
              " 'search': 163,\n",
              " 'security': 164,\n",
              " 'printed': 165,\n",
              " 'location': 166,\n",
              " 'access': 167,\n",
              " 'page': 168,\n",
              " 'confirms': 169,\n",
              " 'scenario': 170,\n",
              " 'his': 171,\n",
              " 'no': 172,\n",
              " 'associated': 173,\n",
              " 'specification': 174,\n",
              " 'clarus': 175,\n",
              " 'mouse': 176,\n",
              " 'parser': 177,\n",
              " 'also': 178,\n",
              " 'document': 179,\n",
              " 'within': 180,\n",
              " 'back': 181,\n",
              " 'manage': 182,\n",
              " 'primary': 183,\n",
              " 'central': 184,\n",
              " 'content': 185,\n",
              " 'used': 186,\n",
              " 'types': 187,\n",
              " 'receipt': 188,\n",
              " 'such': 189,\n",
              " 'set': 190,\n",
              " 'then': 191,\n",
              " 'sets': 192,\n",
              " 'monitor': 193,\n",
              " 'admin': 194,\n",
              " 'into': 195,\n",
              " 'message': 196,\n",
              " 'cookie': 197,\n",
              " 'input': 198,\n",
              " 'been': 199,\n",
              " 'order': 200,\n",
              " 'more': 201,\n",
              " 'digitalhome': 202,\n",
              " 'general': 203,\n",
              " 'features': 204,\n",
              " 'cart': 205,\n",
              " 'print': 206,\n",
              " 'entered': 207,\n",
              " 'over': 208,\n",
              " 'way': 209,\n",
              " 'call': 210,\n",
              " 'added': 211,\n",
              " 'split': 212,\n",
              " 'cannot': 213,\n",
              " 'creates': 214,\n",
              " 'parent': 215,\n",
              " 'open': 216,\n",
              " 'development': 217,\n",
              " 'created': 218,\n",
              " 'local': 219,\n",
              " 'between': 220,\n",
              " 'defined': 221,\n",
              " 'window': 222,\n",
              " 'instruction': 223,\n",
              " 'receiving': 224,\n",
              " 'related': 225,\n",
              " 'programs': 226,\n",
              " 'desired': 227,\n",
              " 'applications': 228,\n",
              " 'give': 229,\n",
              " 'step': 230,\n",
              " 'pontis': 231,\n",
              " 'objects': 232,\n",
              " 'dh': 233,\n",
              " 'criteria': 234,\n",
              " 'presented': 235,\n",
              " 'testing': 236,\n",
              " 'elss': 237,\n",
              " 'graph': 238,\n",
              " 'given': 239,\n",
              " 'developed': 240,\n",
              " 'tag': 241,\n",
              " 'delete': 242,\n",
              " 'only': 243,\n",
              " 'investigation': 244,\n",
              " 'stock': 245,\n",
              " 'first': 246,\n",
              " 'last': 247,\n",
              " 'where': 248,\n",
              " 'them': 249,\n",
              " 'expand': 250,\n",
              " 'copy': 251,\n",
              " 'change': 252,\n",
              " 'acquisition': 253,\n",
              " 'graphical': 254,\n",
              " 'save': 255,\n",
              " 'materials': 256,\n",
              " 'support': 257,\n",
              " 'modify': 258,\n",
              " 'color': 259,\n",
              " 'standard': 260,\n",
              " 'transaction': 261,\n",
              " 'entry': 262,\n",
              " 'components': 263,\n",
              " 'rules': 264,\n",
              " 'designed': 265,\n",
              " 'quality': 266,\n",
              " 'project': 267,\n",
              " 'start': 268,\n",
              " 'tool': 269,\n",
              " 'options': 270,\n",
              " 'position': 271,\n",
              " 'interfaces': 272,\n",
              " 'party': 273,\n",
              " 'basic': 274,\n",
              " 'control': 275,\n",
              " 'removes': 276,\n",
              " 'published': 277,\n",
              " 'matrix': 278,\n",
              " 'operations': 279,\n",
              " 'campaign': 280,\n",
              " 'both': 281,\n",
              " 'corresponding': 282,\n",
              " 'ai': 283,\n",
              " 'style': 284,\n",
              " 'mediator': 285,\n",
              " 'parse': 286,\n",
              " 'reports': 287,\n",
              " 'adding': 288,\n",
              " 'shows': 289,\n",
              " 'networks': 290,\n",
              " 'artificial': 291,\n",
              " 'intelligence': 292,\n",
              " 'priority': 293,\n",
              " 'would': 294,\n",
              " 'functional': 295,\n",
              " 'player': 296,\n",
              " 'opening': 297,\n",
              " 'resource': 298,\n",
              " 'deletion': 299,\n",
              " 'network': 300,\n",
              " 'under': 301,\n",
              " 'confirmation': 302,\n",
              " 'specified': 303,\n",
              " 'default': 304,\n",
              " 'writes': 305,\n",
              " 'processes': 306,\n",
              " 'complete': 307,\n",
              " 'do': 308,\n",
              " 'hardware': 309,\n",
              " 'deployed': 310,\n",
              " 'every': 311,\n",
              " 'code': 312,\n",
              " 'cancels': 313,\n",
              " 'different': 314,\n",
              " 'line': 315,\n",
              " 'next': 316,\n",
              " 'members': 317,\n",
              " 'optionally': 318,\n",
              " 'because': 319,\n",
              " 'functionality': 320,\n",
              " 'included': 321,\n",
              " 'stamp': 322,\n",
              " 'library': 323,\n",
              " 'easily': 324,\n",
              " 'these': 325,\n",
              " 'table': 326,\n",
              " 'down': 327,\n",
              " 'selection': 328,\n",
              " 'campaigns': 329,\n",
              " 'wish': 330,\n",
              " 'possible': 331,\n",
              " 'make': 332,\n",
              " 'asks': 333,\n",
              " 'close': 334,\n",
              " 'upon': 335,\n",
              " 'understand': 336,\n",
              " 'team': 337,\n",
              " 'future': 338,\n",
              " 'need': 339,\n",
              " 'correlator': 340,\n",
              " 'checkout': 341,\n",
              " 'saved': 342,\n",
              " 'instruments': 343,\n",
              " 'sale': 344,\n",
              " 'market': 345,\n",
              " 'public': 346,\n",
              " 'fraction': 347,\n",
              " 'money': 348,\n",
              " 'moved': 349,\n",
              " 'specific': 350,\n",
              " 'due': 351,\n",
              " 'direction': 352,\n",
              " 'problem': 353,\n",
              " 'highlighted': 354,\n",
              " 'acquisitions': 355,\n",
              " 'report': 356,\n",
              " 'server': 357,\n",
              " 'accesses': 358,\n",
              " 'supporting': 359,\n",
              " 'capability': 360,\n",
              " 'capture': 361,\n",
              " 'environmental': 362,\n",
              " 'updated': 363,\n",
              " 'collected': 364,\n",
              " 'platform': 365,\n",
              " 'processors': 366,\n",
              " 'high': 367,\n",
              " 'update': 368,\n",
              " 'loads': 369,\n",
              " 'allows': 370,\n",
              " 'id': 371,\n",
              " 'description': 372,\n",
              " 'sold': 373,\n",
              " 'representation': 374,\n",
              " 'users': 375,\n",
              " 'running': 376,\n",
              " 'questions': 377,\n",
              " 'controls': 378,\n",
              " 'place': 379,\n",
              " 'version': 380,\n",
              " 'describes': 381,\n",
              " 'contact': 382,\n",
              " 'cursor': 383,\n",
              " 'archive': 384,\n",
              " 'event': 385,\n",
              " 'configured': 386,\n",
              " 'grammar': 387,\n",
              " 'quantity': 388,\n",
              " 'ones': 389,\n",
              " 'registered': 390,\n",
              " 'material': 391,\n",
              " 'staff': 392,\n",
              " 'weather': 393,\n",
              " 'were': 394,\n",
              " 'history': 395,\n",
              " 'module': 396,\n",
              " 'fill': 397,\n",
              " 'username': 398,\n",
              " 'provider': 399,\n",
              " 'handle': 400,\n",
              " 'load': 401,\n",
              " 'response': 402,\n",
              " 'detail': 403,\n",
              " 'physical': 404,\n",
              " 'bar': 405,\n",
              " 'etc': 406,\n",
              " 'verifies': 407,\n",
              " 'function': 408,\n",
              " 'active': 409,\n",
              " 'done': 410,\n",
              " 'policies': 411,\n",
              " 'cases': 412,\n",
              " 'compares': 413,\n",
              " 'parsed': 414,\n",
              " 'some': 415,\n",
              " 'come': 416,\n",
              " 'providing': 417,\n",
              " 'format': 418,\n",
              " 'mmf': 419,\n",
              " 'before': 420,\n",
              " 'condition': 421,\n",
              " 'methods': 422,\n",
              " 'returns': 423,\n",
              " 'streams': 424,\n",
              " 'master': 425,\n",
              " 'drop': 426,\n",
              " 'errors': 427,\n",
              " 'progress': 428,\n",
              " 'menu': 429,\n",
              " 'accounts': 430,\n",
              " 'supported': 431,\n",
              " 'left': 432,\n",
              " 'donor': 433,\n",
              " 'starting': 434,\n",
              " 'necessary': 435,\n",
              " 'increase': 436,\n",
              " 'sub': 437,\n",
              " 'tree': 438,\n",
              " 'purposes': 439,\n",
              " 'after': 440,\n",
              " 'flag': 441,\n",
              " 'offers': 442,\n",
              " 'possibility': 443,\n",
              " 'than': 444,\n",
              " 'many': 445,\n",
              " 'either': 446,\n",
              " 'resend': 447,\n",
              " 'design': 448,\n",
              " 'rd': 449,\n",
              " 'cancel': 450,\n",
              " 'billing': 451,\n",
              " 'speed': 452,\n",
              " 'continues': 453,\n",
              " 'electronic': 454,\n",
              " 'safety': 455,\n",
              " 'skills': 456,\n",
              " 'providers': 457,\n",
              " 'entrance': 458,\n",
              " 'house': 459,\n",
              " 'called': 460,\n",
              " 'division': 461,\n",
              " 'domain': 462,\n",
              " 'departments': 463,\n",
              " 'familiar': 464,\n",
              " 'finds': 465,\n",
              " 'those': 466,\n",
              " 'match': 467,\n",
              " 'highlights': 468,\n",
              " 'pos': 469,\n",
              " 'multiple': 470,\n",
              " 'names': 471,\n",
              " 'important': 472,\n",
              " 'portion': 473,\n",
              " 'prepare': 474,\n",
              " 'so': 475,\n",
              " 'initial': 476,\n",
              " 'contains': 477,\n",
              " 'images': 478,\n",
              " 'intended': 479,\n",
              " 'record': 480,\n",
              " 'appropriate': 481,\n",
              " 'internet': 482,\n",
              " 'model': 483,\n",
              " 'kept': 484,\n",
              " 'limited': 485,\n",
              " 'construction': 486,\n",
              " 'junction': 487,\n",
              " 'exists': 488,\n",
              " 're': 489,\n",
              " 'prints': 490,\n",
              " 'functions': 491,\n",
              " 'supplied': 492,\n",
              " 'stores': 493,\n",
              " 'how': 494,\n",
              " 'original': 495,\n",
              " 'perform': 496,\n",
              " 'shape': 497,\n",
              " 'needed': 498,\n",
              " 'previous': 499,\n",
              " 'prototype': 500,\n",
              " 'homeowner': 501,\n",
              " 'isin': 502,\n",
              " 'identification': 503,\n",
              " 'isins': 504,\n",
              " 'instance': 505,\n",
              " 'professional': 506,\n",
              " 'tasks': 507,\n",
              " 'provides': 508,\n",
              " 'matching': 509,\n",
              " 'what': 510,\n",
              " 'connected': 511,\n",
              " 'controller': 512,\n",
              " 'mode': 513,\n",
              " 'retained': 514,\n",
              " 'human': 515,\n",
              " 'nature': 516,\n",
              " 'risk': 517,\n",
              " 'addition': 518,\n",
              " 'described': 519,\n",
              " 'particular': 520,\n",
              " 'rlcs': 521,\n",
              " 'ability': 522,\n",
              " 'without': 523,\n",
              " 'independent': 524,\n",
              " 'processing': 525,\n",
              " 'automatically': 526,\n",
              " 'editors': 527,\n",
              " 'health': 528,\n",
              " 'sr': 529,\n",
              " 'include': 530,\n",
              " 'stored': 531,\n",
              " 'updates': 532,\n",
              " 'backend': 533,\n",
              " 'implemented': 534,\n",
              " 'goal': 535,\n",
              " 'during': 536,\n",
              " 'validation': 537,\n",
              " 'deemed': 538,\n",
              " 'invalid': 539,\n",
              " 'trade': 540,\n",
              " 'computer': 541,\n",
              " 'provided': 542,\n",
              " 'constraints': 543,\n",
              " 'assure': 544,\n",
              " 'lexical': 545,\n",
              " 'form': 546,\n",
              " 'therefore': 547,\n",
              " 'object': 548,\n",
              " 'strate': 549,\n",
              " 'asset': 550,\n",
              " 'world': 551,\n",
              " 'upload': 552,\n",
              " 'example': 553,\n",
              " 'navigates': 554,\n",
              " 'generic': 555,\n",
              " 'privileges': 556,\n",
              " 'generated': 557,\n",
              " 'configure': 558,\n",
              " 'click': 559,\n",
              " 'makeparser': 560,\n",
              " 'buttons': 561,\n",
              " 'might': 562,\n",
              " 'using': 563,\n",
              " 'generation': 564,\n",
              " 'coordinator': 565,\n",
              " 'attribute': 566,\n",
              " 'status': 567,\n",
              " 'contain': 568,\n",
              " 'actors': 569,\n",
              " 'scenarios': 570,\n",
              " 'once': 571,\n",
              " 'peering': 572,\n",
              " 'established': 573,\n",
              " 'cdn': 574,\n",
              " 'pa': 575,\n",
              " 'negotiated': 576,\n",
              " 'relationships': 577,\n",
              " 'exceptions': 578,\n",
              " 'up': 579,\n",
              " 'sell': 580,\n",
              " 'residents': 581,\n",
              " 'daily': 582,\n",
              " 'lives': 583,\n",
              " 'lifestyle': 584,\n",
              " 'swift': 585,\n",
              " 'messages': 586,\n",
              " 'require': 587,\n",
              " 'approval': 588,\n",
              " 'jse': 589,\n",
              " 'pro': 590,\n",
              " 'path': 591,\n",
              " 'let': 592,\n",
              " 'pdfsam': 593,\n",
              " 'colors': 594,\n",
              " 'represent': 595,\n",
              " 'uk': 596,\n",
              " 'administrations': 597,\n",
              " 'informs': 598,\n",
              " 'applytransformation': 599,\n",
              " 'written': 600,\n",
              " 'later': 601,\n",
              " 'friendly': 602,\n",
              " 'maximum': 603,\n",
              " 'screens': 604,\n",
              " 'minimize': 605,\n",
              " 'devices': 606,\n",
              " 'groups': 607,\n",
              " 'storyline': 608,\n",
              " 'starts': 609,\n",
              " 'players': 610,\n",
              " 'incorrect': 611,\n",
              " 'community': 612,\n",
              " 'brief': 613,\n",
              " 'manual': 614,\n",
              " 'preferred': 615,\n",
              " 'passes': 616,\n",
              " 'utility': 617,\n",
              " 'goals': 618,\n",
              " 'develop': 619,\n",
              " 'nih': 620,\n",
              " 'standards': 621,\n",
              " 'session': 622,\n",
              " 'execute': 623,\n",
              " 'functioning': 624,\n",
              " 'stream': 625,\n",
              " 'patch': 626,\n",
              " 'appends': 627,\n",
              " 'sources': 628,\n",
              " 'fraud': 629,\n",
              " 'uc': 630,\n",
              " 'executed': 631,\n",
              " 'opens': 632,\n",
              " 'dialog': 633,\n",
              " 'shipping': 634,\n",
              " 'visual': 635,\n",
              " 'trains': 636,\n",
              " 'achieve': 637,\n",
              " 'settlement': 638,\n",
              " 'environment': 639,\n",
              " 'issued': 640,\n",
              " 'electronically': 641,\n",
              " 'dematerialised': 642,\n",
              " 'immobilised': 643,\n",
              " 'considerations': 644,\n",
              " 'field': 645,\n",
              " 'maintenance': 646,\n",
              " 'traveling': 647,\n",
              " 'further': 648,\n",
              " 'preserve': 649,\n",
              " 'although': 650,\n",
              " 'site': 651,\n",
              " 'period': 652,\n",
              " 'opposite': 653,\n",
              " 'failed': 654,\n",
              " 'separate': 655,\n",
              " 'digitalhomeowner': 656,\n",
              " 'core': 657,\n",
              " 'compute': 658,\n",
              " 'overall': 659,\n",
              " 'device': 660,\n",
              " 'technical': 661,\n",
              " 'portions': 662,\n",
              " 'he': 663,\n",
              " 'she': 664,\n",
              " 'quickbooks': 665,\n",
              " 'gameplay': 666,\n",
              " 'test': 667,\n",
              " 'sufficient': 668,\n",
              " 'business': 669,\n",
              " 'commercial': 670,\n",
              " 'becomes': 671,\n",
              " 'developer': 672,\n",
              " 'administrative': 673,\n",
              " 'metadata': 674,\n",
              " 'meet': 675,\n",
              " 'claims': 676,\n",
              " 'cost': 677,\n",
              " 'generates': 678,\n",
              " 'command': 679,\n",
              " 'could': 680,\n",
              " 'jobs': 681,\n",
              " 'ml': 682,\n",
              " 'collect': 683,\n",
              " 'check': 684,\n",
              " 'private': 685,\n",
              " 'people': 686,\n",
              " 'hold': 687,\n",
              " 'much': 688,\n",
              " 'like': 689,\n",
              " 'transportation': 690,\n",
              " 'correct': 691,\n",
              " 'tlp': 692,\n",
              " 'logbook': 693,\n",
              " 'least': 694,\n",
              " 'until': 695,\n",
              " 'results': 696,\n",
              " 'browser': 697,\n",
              " 'who': 698,\n",
              " 'required': 699,\n",
              " 'completed': 700,\n",
              " 'transmission': 701,\n",
              " 'made': 702,\n",
              " 'part': 703,\n",
              " 'temperature': 704,\n",
              " 'utilize': 705,\n",
              " 'very': 706,\n",
              " 'attaches': 707,\n",
              " 'payment': 708,\n",
              " 'consists': 709,\n",
              " 'elements': 710,\n",
              " 'however': 711,\n",
              " 'drills': 712,\n",
              " 'well': 713,\n",
              " 'diagram': 714,\n",
              " 'availability': 715,\n",
              " 'optimal': 716,\n",
              " 'peer': 717,\n",
              " 'recognizes': 718,\n",
              " 'great': 719,\n",
              " 'gone': 720,\n",
              " 'reboot': 721,\n",
              " 'processor': 722,\n",
              " 'integrated': 723,\n",
              " 'ils': 724,\n",
              " 'natural': 725,\n",
              " 'properties': 726,\n",
              " 'bulk': 727,\n",
              " 'post': 728,\n",
              " 'tags': 729,\n",
              " 'higher': 730,\n",
              " 'allow': 731,\n",
              " 'week': 732,\n",
              " 'blast': 733,\n",
              " 'amend': 734,\n",
              " 'windows': 735,\n",
              " 'offer': 736,\n",
              " 'implementation': 737,\n",
              " 'research': 738,\n",
              " 'building': 739,\n",
              " 'hierarchy': 740,\n",
              " 'owner': 741,\n",
              " 'descendants': 742,\n",
              " 'log': 743,\n",
              " 'organized': 744,\n",
              " 'external': 745,\n",
              " 'sml': 746,\n",
              " 'lack': 747,\n",
              " 'takes': 748,\n",
              " 'you': 749,\n",
              " 'similar': 750,\n",
              " 'internal': 751,\n",
              " 'connections': 752,\n",
              " 'privacy': 753,\n",
              " 'often': 754,\n",
              " 'installs': 755,\n",
              " 'level': 756,\n",
              " 'does': 757,\n",
              " 'operation': 758,\n",
              " 'enter': 759,\n",
              " 'context': 760,\n",
              " 'duap': 761,\n",
              " 'agency': 762,\n",
              " 'send': 763,\n",
              " 'participants': 764,\n",
              " 'random': 765,\n",
              " 'her': 766,\n",
              " 'remove': 767,\n",
              " 'compare': 768,\n",
              " 'against': 769,\n",
              " 'tolerances': 770,\n",
              " 'dark': 771,\n",
              " 'paste': 772,\n",
              " 'another': 773,\n",
              " 'experience': 774,\n",
              " 'alter': 775,\n",
              " 'while': 776,\n",
              " 'needs': 777,\n",
              " 'gives': 778,\n",
              " 'printing': 779,\n",
              " 'policy': 780,\n",
              " 'students': 781,\n",
              " 'association': 782,\n",
              " 'communication': 783,\n",
              " 'animals': 784,\n",
              " 'saves': 785,\n",
              " 'computation': 786,\n",
              " 'fundamental': 787,\n",
              " 'crm': 788,\n",
              " 'individual': 789,\n",
              " 'interact': 790,\n",
              " 'searching': 791,\n",
              " 'viewing': 792,\n",
              " 'pas': 793,\n",
              " 'exchange': 794,\n",
              " 'organization': 795,\n",
              " 'smart': 796,\n",
              " 'real': 797,\n",
              " 'identify': 798,\n",
              " 'increased': 799,\n",
              " 'conveyance': 800,\n",
              " 'flash': 801,\n",
              " 'inc': 802,\n",
              " 'collection': 803,\n",
              " 'zero': 804,\n",
              " 'identity': 805,\n",
              " 'none': 806,\n",
              " 'received': 807,\n",
              " 'simple': 808,\n",
              " 'containing': 809,\n",
              " 'traffic': 810,\n",
              " 'impact': 811,\n",
              " 'arithmetic': 812,\n",
              " 'problems': 813,\n",
              " 'requested': 814,\n",
              " 'blog': 815,\n",
              " 'microcare': 816,\n",
              " 'maintainers': 817,\n",
              " 'cts': 818,\n",
              " 'progresses': 819,\n",
              " 'historical': 820,\n",
              " 'series': 821,\n",
              " 'story': 822,\n",
              " 'delay': 823,\n",
              " 'points': 824,\n",
              " 'certain': 825,\n",
              " 'alternative': 826,\n",
              " 'strings': 827,\n",
              " 'custom': 828,\n",
              " 'makes': 829,\n",
              " 'arrives': 830,\n",
              " 'across': 831,\n",
              " 'proxy': 832,\n",
              " 'mechanism': 833,\n",
              " 'indicate': 834,\n",
              " 'enable': 835,\n",
              " 'choose': 836,\n",
              " 'animal': 837,\n",
              " 'interaction': 838,\n",
              " 'lists': 839,\n",
              " 'transfer': 840,\n",
              " 'behavioral': 841,\n",
              " 'was': 842,\n",
              " 'versions': 843,\n",
              " 'held': 844,\n",
              " 'vital': 845,\n",
              " 'participating': 846,\n",
              " 'connection': 847,\n",
              " 'two': 848,\n",
              " 'maintaining': 849,\n",
              " 'parental': 850,\n",
              " 'mapped': 851,\n",
              " 'hotspot': 852,\n",
              " 'unable': 853,\n",
              " 'excess': 854,\n",
              " 'wss': 855,\n",
              " 'reason': 856,\n",
              " 'adjustment': 857,\n",
              " 'single': 858,\n",
              " 'missing': 859,\n",
              " 'stopped': 860,\n",
              " 'defunct': 861,\n",
              " 'damaged': 862,\n",
              " 'pickup': 863,\n",
              " 'decon': 864,\n",
              " 'crews': 865,\n",
              " 'anything': 866,\n",
              " 'disabled': 867,\n",
              " 'unnecessarily': 868,\n",
              " 'constrain': 869,\n",
              " 'computational': 870,\n",
              " 'explain': 871,\n",
              " 'small': 872,\n",
              " 'entity': 873,\n",
              " 'various': 874,\n",
              " 'generations': 875,\n",
              " 'coding': 876,\n",
              " 'flight': 877,\n",
              " 'utilizing': 878,\n",
              " 'state': 879,\n",
              " 'art': 880,\n",
              " 'technology': 881,\n",
              " 'press': 882,\n",
              " 'hierarchical': 883,\n",
              " 'permissions': 884,\n",
              " 'filters': 885,\n",
              " 'inactive': 886,\n",
              " 'implications': 887,\n",
              " 'significant': 888,\n",
              " 'digitized': 889,\n",
              " 'born': 890,\n",
              " 'acquired': 891,\n",
              " 'arrangement': 892,\n",
              " 'initiating': 893,\n",
              " 'advertise': 894,\n",
              " 'technically': 895,\n",
              " 'enlisted': 896,\n",
              " 'cdns': 897,\n",
              " 'matched': 898,\n",
              " 'instructions': 899,\n",
              " 'performed': 900,\n",
              " 'navigation': 901,\n",
              " 'deal': 902,\n",
              " 'defines': 903,\n",
              " 'mt': 904,\n",
              " 'nmpg': 905,\n",
              " 'finalisation': 906,\n",
              " 'acceptance': 907,\n",
              " 'finally': 908,\n",
              " 'folder': 909,\n",
              " 'imported': 910,\n",
              " 'scheme': 911,\n",
              " 'shapes': 912,\n",
              " 'hand': 913,\n",
              " 'column': 914,\n",
              " 'protected': 915,\n",
              " 'reload': 916,\n",
              " 'submission': 917,\n",
              " 'promulgated': 918,\n",
              " 'fisheries': 919,\n",
              " 'action': 920,\n",
              " 'weborder': 921,\n",
              " 'redirects': 922,\n",
              " 'collects': 923,\n",
              " 'structure': 924,\n",
              " 'menus': 925,\n",
              " 'deleted': 926,\n",
              " 'consist': 927,\n",
              " 'household': 928,\n",
              " 'applied': 929,\n",
              " 'copies': 930,\n",
              " 'facebook': 931,\n",
              " 'fast': 932,\n",
              " 'register': 933,\n",
              " 'fit': 934,\n",
              " 'engineering': 935,\n",
              " 'bring': 936,\n",
              " 'completeness': 937,\n",
              " 'ease': 938,\n",
              " 'readability': 939,\n",
              " 'donated': 940,\n",
              " 'chance': 941,\n",
              " 'experiment': 942,\n",
              " 'blank': 943,\n",
              " 'write': 944,\n",
              " 'manually': 945,\n",
              " 'structuralize': 946,\n",
              " 'queried': 947,\n",
              " 'introductory': 948,\n",
              " 'movie': 949,\n",
              " 'vms': 950,\n",
              " 'atomize': 951,\n",
              " 'unit': 952,\n",
              " 'vmu': 953,\n",
              " 'maximize': 954,\n",
              " 'timely': 955,\n",
              " 'take': 956,\n",
              " 'steps': 957,\n",
              " 'msiu': 958,\n",
              " 'plan': 959,\n",
              " 'std': 960,\n",
              " 'modifies': 961,\n",
              " 'follow': 962,\n",
              " 'hhs': 963,\n",
              " 'concerning': 964,\n",
              " 'edits': 965,\n",
              " 'intact': 966,\n",
              " 'minimum': 967,\n",
              " 'question': 968,\n",
              " 'character': 969,\n",
              " 'adventure': 970,\n",
              " 'balises': 971,\n",
              " 'devised': 972,\n",
              " 'selling': 973,\n",
              " 'introduces': 974,\n",
              " 'too': 975,\n",
              " 'accepts': 976,\n",
              " 'specify': 977,\n",
              " 'refresh': 978,\n",
              " 'assume': 979,\n",
              " 'listed': 980,\n",
              " 'front': 981,\n",
              " 'vb': 982,\n",
              " 'stopping': 983,\n",
              " 'distance': 984,\n",
              " 'operational': 985,\n",
              " 'clearing': 986,\n",
              " 'dvp': 987,\n",
              " 'delivery': 988,\n",
              " 'encouraged': 989,\n",
              " 'try': 990,\n",
              " 'again': 991,\n",
              " 'better': 992,\n",
              " 'build': 993,\n",
              " 'licensee': 994,\n",
              " 'investments': 995,\n",
              " 'categorized': 996,\n",
              " 'restricted': 997,\n",
              " 'embargo': 998,\n",
              " 'expects': 999,\n",
              " 'harvesting': 1000,\n",
              " ...}"
            ]
          },
          "metadata": {},
          "execution_count": 29
        }
      ]
    },
    {
      "cell_type": "code",
      "metadata": {
        "scrolled": true,
        "colab": {
          "base_uri": "https://localhost:8080/"
        },
        "id": "AIsJNwYw8RjG",
        "outputId": "e3aea93a-fcc5-4281-d177-d7ee5657d366"
      },
      "source": [
        "# check how many words \n",
        "tot_words = len(word_index)\n",
        "print('There are %s unique tokens in training data. ' % tot_words)"
      ],
      "execution_count": 30,
      "outputs": [
        {
          "output_type": "stream",
          "name": "stdout",
          "text": [
            "There are 1662 unique tokens in training data. \n"
          ]
        }
      ]
    },
    {
      "cell_type": "markdown",
      "metadata": {
        "id": "D3uPttUf8RjG"
      },
      "source": [
        "#### Sequencing and Padding\n",
        "\n",
        "Once tokenization is done, let's represent each sentence by sequences of numbers using texts_to_sequences from tokenizer object. Subsequently, we padded the sequence so that we can have same length of each sequence.  Sequencing and padding are done for both training and testing data."
      ]
    },
    {
      "cell_type": "code",
      "metadata": {
        "id": "t_142Wyw8RjG"
      },
      "source": [
        "# Sequencing and padding on training and testing \n",
        "training_sequences = tokenizer.texts_to_sequences(train_msg)\n",
        "training_padded = pad_sequences (training_sequences, maxlen = max_len, \n",
        "                                 padding = padding_type, truncating = trunc_type )\n",
        "\n",
        "testing_sequences = tokenizer.texts_to_sequences(test_msg)\n",
        "testing_padded = pad_sequences(testing_sequences, maxlen = max_len,\n",
        "                              padding = padding_type, truncating = trunc_type)"
      ],
      "execution_count": 31,
      "outputs": []
    },
    {
      "cell_type": "markdown",
      "metadata": {
        "id": "gildwUk98RjH"
      },
      "source": [
        "- padding = 'pre' or 'post (default pre). By using pre, we'll pad before each sequence and post will pad after each sequence.\n",
        "- maxlen = maximum length of all sequences. If not provided, by default it will use the maximum length of the longest sentence.\n",
        "- truncating = 'pre' or 'post' (default 'pre'). If a sequence length is larger than the provided maxlen value then, these values will be truncated to maxlen. 'pre' option will truncate at the beginning where as 'post' will truncate at the end of the sequences."
      ]
    },
    {
      "cell_type": "code",
      "metadata": {
        "colab": {
          "base_uri": "https://localhost:8080/"
        },
        "id": "npQMDBJA8RjH",
        "outputId": "58ac84ea-7936-48a4-a987-81f5c6690acf"
      },
      "source": [
        "# Shape of train tensor\n",
        "print('Shape of training tensor: ', training_padded.shape)\n",
        "print('Shape of testing tensor: ', testing_padded.shape)"
      ],
      "execution_count": 32,
      "outputs": [
        {
          "output_type": "stream",
          "name": "stdout",
          "text": [
            "Shape of training tensor:  (720, 50)\n",
            "Shape of testing tensor:  (180, 50)\n"
          ]
        }
      ]
    },
    {
      "cell_type": "code",
      "metadata": {
        "colab": {
          "base_uri": "https://localhost:8080/"
        },
        "id": "Tn0SXLJX8RjH",
        "outputId": "9216647b-99b2-4aac-e8de-bf568bc52920"
      },
      "source": [
        "# Before padding : first sequence is 27 character long where as second one is 24\n",
        "len(training_sequences[0]), len(training_sequences[1])"
      ],
      "execution_count": 33,
      "outputs": [
        {
          "output_type": "execute_result",
          "data": {
            "text/plain": [
              "(9, 18)"
            ]
          },
          "metadata": {},
          "execution_count": 33
        }
      ]
    },
    {
      "cell_type": "code",
      "metadata": {
        "colab": {
          "base_uri": "https://localhost:8080/"
        },
        "id": "QdSUaVKe8RjI",
        "outputId": "394c71cf-cc85-4110-a61c-67bbfae5d650"
      },
      "source": [
        "# Padded to same length of 50\n",
        "len(training_padded[0]), len(training_padded[1])"
      ],
      "execution_count": 34,
      "outputs": [
        {
          "output_type": "execute_result",
          "data": {
            "text/plain": [
              "(50, 50)"
            ]
          },
          "metadata": {},
          "execution_count": 34
        }
      ]
    },
    {
      "cell_type": "code",
      "metadata": {
        "colab": {
          "base_uri": "https://localhost:8080/"
        },
        "id": "_U_cS_qT8RjI",
        "outputId": "7c8574c7-92d4-4960-c5b8-e91ec34a18f6"
      },
      "source": [
        "# As can be seen from below, the padded sequence is 50 words long. \n",
        "print(training_padded[0])"
      ],
      "execution_count": 35,
      "outputs": [
        {
          "output_type": "stream",
          "name": "stdout",
          "text": [
            "[  6 103  14  59   3   2 390  59 115   0   0   0   0   0   0   0   0   0\n",
            "   0   0   0   0   0   0   0   0   0   0   0   0   0   0   0   0   0   0\n",
            "   0   0   0   0   0   0   0   0   0   0   0   0   0   0]\n"
          ]
        }
      ]
    },
    {
      "cell_type": "markdown",
      "metadata": {
        "id": "yofBXprq8RjJ"
      },
      "source": [
        "## Train the Model"
      ]
    },
    {
      "cell_type": "markdown",
      "metadata": {
        "id": "UtNp9RjO8RjJ"
      },
      "source": [
        "#### Dense UCS Detection Architechture\n",
        "\n",
        "Below is a model architecture of dense spam detection model. \n",
        "\n",
        "- Sequential calls for Keras sequential model in which layers are added in a sequence\n",
        "- The first layer i.e. embedding layer maps each word to a N-dimensional vector of real numbers. The embeding_dim is the size of this vector which is 16 in our case. The embeding layer indicates that the two words with similar meaning tend to have very close vectors. Because, the embedding layer is the first hiddne layer in our model network, we need to pass shape of our input layer as defined by input_length (max_len =50).\n",
        "- The pooling layer helps to reduce the number of parameters in the model hence helps to avoid overfitting. We have used average pooling here and coverted layer to 1 dimension.\n",
        "\n",
        "- Next we used a dense layer with activation function 'relu' followed by a dropout layer to avoid overfitting and a final outpout layer with sigmoid activation function. As there are only two classes (ham or spam) to classify, we used only a single output neuron. The sigmoid activation function outputs probabilities between 0 and 1. \n",
        "\n",
        "- Here, we used fairly a shallow neural network architecture, however, you can  make it more dense adding more layers."
      ]
    },
    {
      "cell_type": "code",
      "metadata": {
        "id": "tArhHoIC8RjJ"
      },
      "source": [
        "vocab_size = 500 # Number of words you want to tokenize i.e maximum number of words to keep\n",
        "embeding_dim = 16\n",
        "drop_value = 0.2 # dropout\n",
        "n_dense = 24"
      ],
      "execution_count": 36,
      "outputs": []
    },
    {
      "cell_type": "code",
      "metadata": {
        "id": "azl_i4Mg8RjJ"
      },
      "source": [
        "#Dense sentiment model architecture\n",
        "model = Sequential()\n",
        "model.add(Embedding(vocab_size, embeding_dim, input_length=max_len))\n",
        "model.add(GlobalAveragePooling1D())\n",
        "model.add(Dense(24, activation='relu'))\n",
        "model.add(Dropout(drop_value))\n",
        "model.add(Dense(1, activation='sigmoid'))"
      ],
      "execution_count": 37,
      "outputs": []
    },
    {
      "cell_type": "markdown",
      "metadata": {
        "id": "gQLP-YyK8RjK"
      },
      "source": [
        "The model.summary() provides the layer, shape and number of parameters used in each layer. In the embedding layer, the 8000 parameter comes from 500 words (vocab_size), each one with a 16 dimensional word-vector space (500 X 16 = 8000). The embedding layer is passed through GlobalAveragePooling1D  and into dense layers have shape of 16 (due to the avereage pooling along 16 embedding dimension). We selected 24 neurons for the dense hidden layer. Each of the 24 neurons in the dense layer gets input from each of the 16 values coming from the GlobalAveragePooling1D layer, for a total of 384 (16 X 24) weights and 24 biases (one for each 24 neurons). Hence the total parameter is 408. Finally, the output layer has 24 weights (one for each neuron) and its bias resulting 25 parameters. "
      ]
    },
    {
      "cell_type": "code",
      "metadata": {
        "id": "Omur7w3uZPbS"
      },
      "source": [
        "dense_model=model"
      ],
      "execution_count": 39,
      "outputs": []
    },
    {
      "cell_type": "code",
      "metadata": {
        "colab": {
          "base_uri": "https://localhost:8080/"
        },
        "id": "ha1Uo9qE8RjK",
        "outputId": "6bbb8014-fb4a-4f9a-d65d-1ab5a583bd7f"
      },
      "source": [
        "dense_model.summary()"
      ],
      "execution_count": 40,
      "outputs": [
        {
          "output_type": "stream",
          "name": "stdout",
          "text": [
            "Model: \"sequential\"\n",
            "_________________________________________________________________\n",
            " Layer (type)                Output Shape              Param #   \n",
            "=================================================================\n",
            " embedding (Embedding)       (None, 50, 16)            8000      \n",
            "                                                                 \n",
            " global_average_pooling1d (G  (None, 16)               0         \n",
            " lobalAveragePooling1D)                                          \n",
            "                                                                 \n",
            " dense (Dense)               (None, 24)                408       \n",
            "                                                                 \n",
            " dropout (Dropout)           (None, 24)                0         \n",
            "                                                                 \n",
            " dense_1 (Dense)             (None, 1)                 25        \n",
            "                                                                 \n",
            "=================================================================\n",
            "Total params: 8,433\n",
            "Trainable params: 8,433\n",
            "Non-trainable params: 0\n",
            "_________________________________________________________________\n"
          ]
        }
      ]
    },
    {
      "cell_type": "markdown",
      "metadata": {
        "id": "RkxoS0md8RjK"
      },
      "source": [
        "Let's compile our dense spam classifier model. We used 'binary_crossentropy' as a loss function because of binary output. We used 'adam' as an optimiser which makes use of  momentum to avoid local minima and 'accuracy' as a measure of model performance. "
      ]
    },
    {
      "cell_type": "code",
      "metadata": {
        "id": "GRdsSjzv8RjK"
      },
      "source": [
        "# Compile model\n",
        "#from tensorflow import keras\n",
        "# Using Adam optimiser which makes use of momentum to avoid local minima\n",
        "#optim = keras.optimizers.Adam(learning_rate=0.00001)"
      ],
      "execution_count": null,
      "outputs": []
    },
    {
      "cell_type": "code",
      "metadata": {
        "id": "MbcM89vt8RjL"
      },
      "source": [
        "dense_model.compile(loss='binary_crossentropy',optimizer='adam' ,metrics=['accuracy'])"
      ],
      "execution_count": 41,
      "outputs": []
    },
    {
      "cell_type": "markdown",
      "metadata": {
        "id": "ulkabcJV8RjL"
      },
      "source": [
        "Next let's fit our dense classifier using model.fit argument. It uses padded training data and training labels for training the model and validation data for validating. \n",
        "\n",
        "* Epoch: Number of times the learning algorithm will work through the entire training data set. We set it to be 20. \n",
        "* callbacks: callbacks is used to pass the early stopping parameter. EarlyStopping(monitor='val_loss', patience=2) was used to define that we want to monitor the validation loss and if the validation loss is not improved after two epochs, then the model training is stopped. It helps to avoid overfitting problem and indicates when to stop training before the learner begins over-fit. \n",
        "* verbose =2: lets to print loss and accuracy on each epoch"
      ]
    },
    {
      "cell_type": "code",
      "metadata": {
        "colab": {
          "base_uri": "https://localhost:8080/"
        },
        "id": "IS536mAt8RjL",
        "outputId": "7babb0e0-6489-4003-bc6d-c4679424dbf4"
      },
      "source": [
        "# fitting a dense spam detector model\n",
        "num_epochs = 30\n",
        "early_stop = EarlyStopping(monitor='val_loss', patience=3)\n",
        "dense_history = dense_model.fit(training_padded, train_labels, epochs=num_epochs, \n",
        "                    validation_data=(testing_padded, test_labels),callbacks =[early_stop], verbose=2)"
      ],
      "execution_count": 42,
      "outputs": [
        {
          "output_type": "stream",
          "name": "stdout",
          "text": [
            "Epoch 1/30\n",
            "23/23 - 2s - loss: 0.6924 - accuracy: 0.5167 - val_loss: 0.6906 - val_accuracy: 0.5611 - 2s/epoch - 109ms/step\n",
            "Epoch 2/30\n",
            "23/23 - 0s - loss: 0.6890 - accuracy: 0.5750 - val_loss: 0.6875 - val_accuracy: 0.5833 - 144ms/epoch - 6ms/step\n",
            "Epoch 3/30\n",
            "23/23 - 0s - loss: 0.6854 - accuracy: 0.6153 - val_loss: 0.6828 - val_accuracy: 0.5778 - 150ms/epoch - 7ms/step\n",
            "Epoch 4/30\n",
            "23/23 - 0s - loss: 0.6808 - accuracy: 0.6694 - val_loss: 0.6754 - val_accuracy: 0.7611 - 149ms/epoch - 6ms/step\n",
            "Epoch 5/30\n",
            "23/23 - 0s - loss: 0.6715 - accuracy: 0.6542 - val_loss: 0.6633 - val_accuracy: 0.7444 - 168ms/epoch - 7ms/step\n",
            "Epoch 6/30\n",
            "23/23 - 0s - loss: 0.6554 - accuracy: 0.7069 - val_loss: 0.6433 - val_accuracy: 0.7833 - 164ms/epoch - 7ms/step\n",
            "Epoch 7/30\n",
            "23/23 - 0s - loss: 0.6303 - accuracy: 0.7819 - val_loss: 0.6163 - val_accuracy: 0.8722 - 177ms/epoch - 8ms/step\n",
            "Epoch 8/30\n",
            "23/23 - 0s - loss: 0.5986 - accuracy: 0.8472 - val_loss: 0.5780 - val_accuracy: 0.8667 - 166ms/epoch - 7ms/step\n",
            "Epoch 9/30\n",
            "23/23 - 0s - loss: 0.5551 - accuracy: 0.8472 - val_loss: 0.5314 - val_accuracy: 0.8722 - 164ms/epoch - 7ms/step\n",
            "Epoch 10/30\n",
            "23/23 - 0s - loss: 0.5061 - accuracy: 0.8764 - val_loss: 0.4802 - val_accuracy: 0.8722 - 165ms/epoch - 7ms/step\n",
            "Epoch 11/30\n",
            "23/23 - 0s - loss: 0.4548 - accuracy: 0.8792 - val_loss: 0.4371 - val_accuracy: 0.9056 - 170ms/epoch - 7ms/step\n",
            "Epoch 12/30\n",
            "23/23 - 0s - loss: 0.4084 - accuracy: 0.8917 - val_loss: 0.3916 - val_accuracy: 0.9000 - 167ms/epoch - 7ms/step\n",
            "Epoch 13/30\n",
            "23/23 - 0s - loss: 0.3704 - accuracy: 0.8861 - val_loss: 0.3590 - val_accuracy: 0.9111 - 167ms/epoch - 7ms/step\n",
            "Epoch 14/30\n",
            "23/23 - 0s - loss: 0.3341 - accuracy: 0.9111 - val_loss: 0.3269 - val_accuracy: 0.9111 - 166ms/epoch - 7ms/step\n",
            "Epoch 15/30\n",
            "23/23 - 0s - loss: 0.2957 - accuracy: 0.9278 - val_loss: 0.3022 - val_accuracy: 0.9167 - 164ms/epoch - 7ms/step\n",
            "Epoch 16/30\n",
            "23/23 - 0s - loss: 0.2787 - accuracy: 0.9194 - val_loss: 0.2891 - val_accuracy: 0.9222 - 168ms/epoch - 7ms/step\n",
            "Epoch 17/30\n",
            "23/23 - 0s - loss: 0.2574 - accuracy: 0.9167 - val_loss: 0.2890 - val_accuracy: 0.9111 - 174ms/epoch - 8ms/step\n",
            "Epoch 18/30\n",
            "23/23 - 0s - loss: 0.2371 - accuracy: 0.9278 - val_loss: 0.2559 - val_accuracy: 0.9167 - 156ms/epoch - 7ms/step\n",
            "Epoch 19/30\n",
            "23/23 - 0s - loss: 0.2280 - accuracy: 0.9208 - val_loss: 0.2630 - val_accuracy: 0.9167 - 173ms/epoch - 8ms/step\n",
            "Epoch 20/30\n",
            "23/23 - 0s - loss: 0.2148 - accuracy: 0.9361 - val_loss: 0.2446 - val_accuracy: 0.9278 - 136ms/epoch - 6ms/step\n",
            "Epoch 21/30\n",
            "23/23 - 0s - loss: 0.2011 - accuracy: 0.9389 - val_loss: 0.2343 - val_accuracy: 0.9278 - 135ms/epoch - 6ms/step\n",
            "Epoch 22/30\n",
            "23/23 - 0s - loss: 0.1888 - accuracy: 0.9486 - val_loss: 0.2283 - val_accuracy: 0.9278 - 170ms/epoch - 7ms/step\n",
            "Epoch 23/30\n",
            "23/23 - 0s - loss: 0.1764 - accuracy: 0.9472 - val_loss: 0.2179 - val_accuracy: 0.9278 - 151ms/epoch - 7ms/step\n",
            "Epoch 24/30\n",
            "23/23 - 0s - loss: 0.1702 - accuracy: 0.9472 - val_loss: 0.2204 - val_accuracy: 0.9278 - 155ms/epoch - 7ms/step\n",
            "Epoch 25/30\n",
            "23/23 - 0s - loss: 0.1651 - accuracy: 0.9500 - val_loss: 0.2101 - val_accuracy: 0.9278 - 171ms/epoch - 7ms/step\n",
            "Epoch 26/30\n",
            "23/23 - 0s - loss: 0.1585 - accuracy: 0.9500 - val_loss: 0.2075 - val_accuracy: 0.9278 - 149ms/epoch - 6ms/step\n",
            "Epoch 27/30\n",
            "23/23 - 0s - loss: 0.1445 - accuracy: 0.9569 - val_loss: 0.2020 - val_accuracy: 0.9333 - 142ms/epoch - 6ms/step\n",
            "Epoch 28/30\n",
            "23/23 - 0s - loss: 0.1418 - accuracy: 0.9486 - val_loss: 0.2033 - val_accuracy: 0.9389 - 213ms/epoch - 9ms/step\n",
            "Epoch 29/30\n",
            "23/23 - 0s - loss: 0.1391 - accuracy: 0.9514 - val_loss: 0.2058 - val_accuracy: 0.9333 - 155ms/epoch - 7ms/step\n",
            "Epoch 30/30\n",
            "23/23 - 0s - loss: 0.1338 - accuracy: 0.9625 - val_loss: 0.1933 - val_accuracy: 0.9333 - 159ms/epoch - 7ms/step\n"
          ]
        }
      ]
    },
    {
      "cell_type": "code",
      "metadata": {
        "colab": {
          "base_uri": "https://localhost:8080/"
        },
        "id": "5U8RqlRN8RjM",
        "outputId": "221c64d2-2dfa-459e-f40f-0d2683461df7"
      },
      "source": [
        "# Model performermance on test data is about 9465% accuracy with validation loss of 0.11.\n",
        "dense_model.evaluate(testing_padded, test_labels)"
      ],
      "execution_count": 43,
      "outputs": [
        {
          "output_type": "stream",
          "name": "stdout",
          "text": [
            "6/6 [==============================] - 0s 4ms/step - loss: 0.1933 - accuracy: 0.9333\n"
          ]
        },
        {
          "output_type": "execute_result",
          "data": {
            "text/plain": [
              "[0.19334597885608673, 0.9333333373069763]"
            ]
          },
          "metadata": {},
          "execution_count": 43
        }
      ]
    },
    {
      "cell_type": "code",
      "metadata": {
        "colab": {
          "base_uri": "https://localhost:8080/",
          "height": 112
        },
        "id": "bcMvYmc58RjM",
        "outputId": "6efde63d-4389-4205-9585-5433f4dbc2a0"
      },
      "source": [
        "dense_metrics = pd.DataFrame(dense_history.history)\n",
        "dense_metrics[:2]"
      ],
      "execution_count": 44,
      "outputs": [
        {
          "output_type": "execute_result",
          "data": {
            "text/html": [
              "<div>\n",
              "<style scoped>\n",
              "    .dataframe tbody tr th:only-of-type {\n",
              "        vertical-align: middle;\n",
              "    }\n",
              "\n",
              "    .dataframe tbody tr th {\n",
              "        vertical-align: top;\n",
              "    }\n",
              "\n",
              "    .dataframe thead th {\n",
              "        text-align: right;\n",
              "    }\n",
              "</style>\n",
              "<table border=\"1\" class=\"dataframe\">\n",
              "  <thead>\n",
              "    <tr style=\"text-align: right;\">\n",
              "      <th></th>\n",
              "      <th>loss</th>\n",
              "      <th>accuracy</th>\n",
              "      <th>val_loss</th>\n",
              "      <th>val_accuracy</th>\n",
              "    </tr>\n",
              "  </thead>\n",
              "  <tbody>\n",
              "    <tr>\n",
              "      <th>0</th>\n",
              "      <td>0.692384</td>\n",
              "      <td>0.516667</td>\n",
              "      <td>0.690640</td>\n",
              "      <td>0.561111</td>\n",
              "    </tr>\n",
              "    <tr>\n",
              "      <th>1</th>\n",
              "      <td>0.688951</td>\n",
              "      <td>0.575000</td>\n",
              "      <td>0.687462</td>\n",
              "      <td>0.583333</td>\n",
              "    </tr>\n",
              "  </tbody>\n",
              "</table>\n",
              "</div>"
            ],
            "text/plain": [
              "       loss  accuracy  val_loss  val_accuracy\n",
              "0  0.692384  0.516667  0.690640      0.561111\n",
              "1  0.688951  0.575000  0.687462      0.583333"
            ]
          },
          "metadata": {},
          "execution_count": 44
        }
      ]
    },
    {
      "cell_type": "code",
      "metadata": {
        "colab": {
          "base_uri": "https://localhost:8080/",
          "height": 112
        },
        "id": "OHT9QDl38RjM",
        "outputId": "131d099c-e692-4b9c-d570-f1dec8f58dec"
      },
      "source": [
        "# Rename column\n",
        "dense_metrics.rename(columns = {'loss': 'Training_Loss', 'accuracy': 'Training_Accuracy',\n",
        "                         'val_loss': 'Validation_Loss', 'val_accuracy': 'Validation_Accuracy'}, inplace = True)\n",
        "dense_metrics[:2]"
      ],
      "execution_count": 45,
      "outputs": [
        {
          "output_type": "execute_result",
          "data": {
            "text/html": [
              "<div>\n",
              "<style scoped>\n",
              "    .dataframe tbody tr th:only-of-type {\n",
              "        vertical-align: middle;\n",
              "    }\n",
              "\n",
              "    .dataframe tbody tr th {\n",
              "        vertical-align: top;\n",
              "    }\n",
              "\n",
              "    .dataframe thead th {\n",
              "        text-align: right;\n",
              "    }\n",
              "</style>\n",
              "<table border=\"1\" class=\"dataframe\">\n",
              "  <thead>\n",
              "    <tr style=\"text-align: right;\">\n",
              "      <th></th>\n",
              "      <th>Training_Loss</th>\n",
              "      <th>Training_Accuracy</th>\n",
              "      <th>Validation_Loss</th>\n",
              "      <th>Validation_Accuracy</th>\n",
              "    </tr>\n",
              "  </thead>\n",
              "  <tbody>\n",
              "    <tr>\n",
              "      <th>0</th>\n",
              "      <td>0.692384</td>\n",
              "      <td>0.516667</td>\n",
              "      <td>0.690640</td>\n",
              "      <td>0.561111</td>\n",
              "    </tr>\n",
              "    <tr>\n",
              "      <th>1</th>\n",
              "      <td>0.688951</td>\n",
              "      <td>0.575000</td>\n",
              "      <td>0.687462</td>\n",
              "      <td>0.583333</td>\n",
              "    </tr>\n",
              "  </tbody>\n",
              "</table>\n",
              "</div>"
            ],
            "text/plain": [
              "   Training_Loss  Training_Accuracy  Validation_Loss  Validation_Accuracy\n",
              "0       0.692384           0.516667         0.690640             0.561111\n",
              "1       0.688951           0.575000         0.687462             0.583333"
            ]
          },
          "metadata": {},
          "execution_count": 45
        }
      ]
    },
    {
      "cell_type": "code",
      "metadata": {
        "id": "pftWJzmR8RjN"
      },
      "source": [
        "def plot_graphs1(var1, var2, string):\n",
        "    dense_metrics[[var1, var2]].plot()\n",
        "    plt.title('Dense Classifier: Training and Validation ' + string)\n",
        "    plt.xlabel ('Number of epochs')\n",
        "    plt.ylabel(string)\n",
        "    plt.legend([var1, var2])\n",
        "    plt.savefig('dense_acc.png')"
      ],
      "execution_count": 58,
      "outputs": []
    },
    {
      "cell_type": "code",
      "metadata": {
        "id": "C7gaNSIAaTjB"
      },
      "source": [
        "#dense_metrics=metrics"
      ],
      "execution_count": 131,
      "outputs": []
    },
    {
      "cell_type": "code",
      "metadata": {
        "colab": {
          "base_uri": "https://localhost:8080/",
          "height": 295
        },
        "id": "qg7HeABH8RjN",
        "outputId": "308c0024-b302-48d8-aaab-184ad5181564"
      },
      "source": [
        "plot_graphs1('Training_Loss', 'Validation_Loss', 'loss')\n",
        "plt.savefig('dense_loss.png')"
      ],
      "execution_count": 55,
      "outputs": [
        {
          "output_type": "display_data",
          "data": {
            "image/png": "[encoded data removed]",
            "text/plain": [
              "<Figure size 432x288 with 1 Axes>"
            ]
          },
          "metadata": {
            "needs_background": "light"
          }
        }
      ]
    },
    {
      "cell_type": "code",
      "metadata": {
        "colab": {
          "base_uri": "https://localhost:8080/",
          "height": 35
        },
        "id": "F_9GtbRO0G1_",
        "outputId": "43cedd0e-a1cf-45e5-cf43-05dd9bd9f3c0"
      },
      "source": [
        "plt.savefig('dense_loss.png')"
      ],
      "execution_count": 50,
      "outputs": [
        {
          "output_type": "display_data",
          "data": {
            "text/plain": [
              "<Figure size 432x288 with 0 Axes>"
            ]
          },
          "metadata": {}
        }
      ]
    },
    {
      "cell_type": "code",
      "metadata": {
        "colab": {
          "base_uri": "https://localhost:8080/",
          "height": 295
        },
        "id": "5t5RjKen8RjN",
        "outputId": "0304e309-e2cd-418e-dbc4-0d10e22a6888"
      },
      "source": [
        "plot_graphs1('Training_Accuracy', 'Validation_Accuracy', 'accuracy')"
      ],
      "execution_count": 59,
      "outputs": [
        {
          "output_type": "display_data",
          "data": {
            "image/png": "[encoded data removed]",
            "text/plain": [
              "<Figure size 432x288 with 1 Axes>"
            ]
          },
          "metadata": {
            "needs_background": "light"
          }
        }
      ]
    },
    {
      "cell_type": "code",
      "metadata": {
        "colab": {
          "base_uri": "https://localhost:8080/",
          "height": 35
        },
        "id": "mLwdf7_a1Fkw",
        "outputId": "de905da4-db6b-4ae8-cea3-69ecec4466a2"
      },
      "source": [
        "plt.savefig('dense_acc.png')"
      ],
      "execution_count": 57,
      "outputs": [
        {
          "output_type": "display_data",
          "data": {
            "text/plain": [
              "<Figure size 432x288 with 0 Axes>"
            ]
          },
          "metadata": {}
        }
      ]
    },
    {
      "cell_type": "code",
      "metadata": {
        "id": "KAbloZ6BJvKC"
      },
      "source": [
        "#y_test=np.argmax(preds,axis=1)\n",
        "#y_predict = np.argmax(model.predict(testing_padded), axis=-1)"
      ],
      "execution_count": 155,
      "outputs": []
    },
    {
      "cell_type": "code",
      "metadata": {
        "colab": {
          "base_uri": "https://localhost:8080/"
        },
        "id": "siPDOA59BCJ3",
        "outputId": "50ca570f-03ab-4bc8-f55d-91d8d1ec9323"
      },
      "source": [
        "from sklearn.metrics import classification_report\n",
        "#testing_padded, test_labels\n",
        "y_pred = model.predict(testing_padded)\n",
        "y = np.array([0 if x < 0.5 else 1 for x in y_pred])\n",
        "#preds = np.argmax(y_pred, axis = 1)\n",
        "#print(y_pred)\n",
        "#print(y)\n",
        "print(classification_report(test_labels, y))"
      ],
      "execution_count": 42,
      "outputs": [
        {
          "output_type": "stream",
          "name": "stdout",
          "text": [
            "              precision    recall  f1-score   support\n",
            "\n",
            "           0       0.93      0.90      0.92        90\n",
            "           1       0.90      0.93      0.92        90\n",
            "\n",
            "    accuracy                           0.92       180\n",
            "   macro avg       0.92      0.92      0.92       180\n",
            "weighted avg       0.92      0.92      0.92       180\n",
            "\n"
          ]
        }
      ]
    },
    {
      "cell_type": "code",
      "metadata": {
        "id": "SiC7dAa02Ghl"
      },
      "source": [
        "#df_rep = pd.DataFrame(report,False).transpose()\n",
        "#df_rep.to_csv('test.csv',sep=',')"
      ],
      "execution_count": null,
      "outputs": []
    },
    {
      "cell_type": "code",
      "metadata": {
        "colab": {
          "base_uri": "https://localhost:8080/"
        },
        "id": "pt2j-wBnHzbY",
        "outputId": "0bc23109-4bc6-44d9-d422-d081eb03d1c3"
      },
      "source": [
        "from sklearn.metrics import confusion_matrix\n",
        "\n",
        "#print(classification_report(test_labels,))\n",
        "\n",
        "print(confusion_matrix(test_labels, y))\n"
      ],
      "execution_count": 43,
      "outputs": [
        {
          "output_type": "stream",
          "name": "stdout",
          "text": [
            "[[81  9]\n",
            " [ 6 84]]\n"
          ]
        }
      ]
    },
    {
      "cell_type": "code",
      "metadata": {
        "colab": {
          "base_uri": "https://localhost:8080/"
        },
        "id": "Sgvwnm4d_rhO",
        "outputId": "71e3a4a1-f1c3-4f99-bdb3-c5f29253f71b"
      },
      "source": [
        "preds = dense_model.predict(testing_padded,verbose=1)"
      ],
      "execution_count": 40,
      "outputs": [
        {
          "output_type": "stream",
          "name": "stdout",
          "text": [
            "6/6 [==============================] - 0s 2ms/step\n"
          ]
        }
      ]
    },
    {
      "cell_type": "code",
      "metadata": {
        "id": "khN6DNGUbpc0"
      },
      "source": [
        "from sklearn import metrics\n",
        "targets=test_labels\n",
        "dist_fpr1, dist_tpr1, dist_thresh1 = metrics.roc_curve(targets, preds, pos_label=1)\n",
        "#fpr2, tpr2, thresh2 = roc_curve(y_test, pred_prob2[:,1], pos_label=1)\n",
        "\n",
        "# roc curve for tpr = fpr \n",
        "random_probs = [0 for i in range(len(targets))]\n",
        "p_fpr, p_tpr, _ = metrics.roc_curve(targets, random_probs, pos_label=1)\n",
        "auc_score1_dist = metrics.roc_auc_score(targets, preds)"
      ],
      "execution_count": 44,
      "outputs": []
    },
    {
      "cell_type": "code",
      "metadata": {
        "colab": {
          "base_uri": "https://localhost:8080/"
        },
        "id": "aB4OQiQleYqz",
        "outputId": "b9d59710-5f5e-46a7-b510-b4fce6201916"
      },
      "source": [
        "print(auc_score1_dist)"
      ],
      "execution_count": 45,
      "outputs": [
        {
          "output_type": "stream",
          "name": "stdout",
          "text": [
            "0.9645679012345678\n"
          ]
        }
      ]
    },
    {
      "cell_type": "code",
      "metadata": {
        "colab": {
          "base_uri": "https://localhost:8080/",
          "height": 376
        },
        "id": "V6FH6ddWbzL-",
        "outputId": "0fb907cd-7e0e-4406-bb23-2014c386c269"
      },
      "source": [
        "# matplotlib\n",
        "import matplotlib.pyplot as plt\n",
        "plt.style.use('seaborn')\n",
        "\n",
        "# plot roc curves\n",
        "plt.plot(dist_fpr1, dist_tpr1, linestyle='--',color='orange', label='Dense model')\n",
        "#plt.plot(fpr2, tpr2, linestyle='--',color='green', label='KNN')\n",
        "plt.plot(p_fpr, p_tpr, linestyle='--', color='blue')\n",
        "# title\n",
        "plt.title('ROC curve')\n",
        "# x label\n",
        "plt.xlabel('False Positive Rate')\n",
        "# y label\n",
        "plt.ylabel('True Positive rate')\n",
        "\n",
        "plt.legend(loc='best')\n",
        "plt.savefig('ROC',dpi=300)\n",
        "plt.show();"
      ],
      "execution_count": 46,
      "outputs": [
        {
          "output_type": "display_data",
          "data": {
            "image/png": "[encoded data removed]",
            "text/plain": [
              "<Figure size 576x396 with 1 Axes>"
            ]
          },
          "metadata": {}
        }
      ]
    },
    {
      "cell_type": "markdown",
      "metadata": {
        "id": "2D61xeBQ8RjO"
      },
      "source": [
        "#### Long Short Term Memory (LSTM) layer architecture \n",
        "\n",
        "Below, we fit the spam detection model using LSTM. Some new hyper-parameters used in LSTM below are SpatialDropout1D and n_lstm. \n",
        "* SpatialDropout1D is used to dropout our embedding layer by using drop_embed =0.2. The SpatialDropout1D helps to drop entire 1D feature maps instead of individual elements.  \n",
        "* n_lstm 128 is the number of nodes in the hidden layers within the LSTM cell\n",
        "* return_sequences=True ensures that the LSTM cell returns all of the outputs from the unrolled LSTM cell through time. If this argument is not used, the LSTM cell will simply provide the output of the LSTM cell from the previous step."
      ]
    },
    {
      "cell_type": "code",
      "metadata": {
        "id": "8IPJwwv38RjO"
      },
      "source": [
        "#LSTM layer arcitecture hyperparameters\n",
        "n_lstm = 20\n",
        "drop_lstm =0.2"
      ],
      "execution_count": 47,
      "outputs": []
    },
    {
      "cell_type": "code",
      "metadata": {
        "id": "hvfLoU_J8RjO"
      },
      "source": [
        "#LSTM UCS detection architecture\n",
        "lstm_model = Sequential()\n",
        "lstm_model.add(Embedding(vocab_size, embeding_dim, input_length=max_len))\n",
        "lstm_model.add(LSTM(n_lstm, dropout=drop_lstm, return_sequences=True))\n",
        "lstm_model.add(LSTM(n_lstm, dropout=drop_lstm, return_sequences=True))\n",
        "lstm_model.add(Dense(1, activation='sigmoid'))"
      ],
      "execution_count": 48,
      "outputs": []
    },
    {
      "cell_type": "code",
      "metadata": {
        "id": "oejXrn748RjO"
      },
      "source": [
        "lstm_model.compile(loss = 'binary_crossentropy', optimizer = 'adam', metrics=['accuracy'])"
      ],
      "execution_count": 50,
      "outputs": []
    },
    {
      "cell_type": "code",
      "metadata": {
        "scrolled": true,
        "colab": {
          "base_uri": "https://localhost:8080/"
        },
        "id": "FHT2moSv8RjP",
        "outputId": "c9f41011-4a66-4155-802a-3891c8401523"
      },
      "source": [
        "# Training\n",
        "num_epochs = 30\n",
        "early_stop = EarlyStopping(monitor='val_loss', patience=2)\n",
        "lstm_history = lstm_model.fit(training_padded, train_labels, epochs=num_epochs, \n",
        "                    validation_data=(testing_padded, test_labels),callbacks =[early_stop], verbose=2)"
      ],
      "execution_count": 51,
      "outputs": [
        {
          "output_type": "stream",
          "name": "stdout",
          "text": [
            "Epoch 1/30\n",
            "23/23 - 5s - loss: 0.6926 - accuracy: 0.5187 - val_loss: 0.6895 - val_accuracy: 0.6210 - 5s/epoch - 233ms/step\n",
            "Epoch 2/30\n",
            "23/23 - 1s - loss: 0.6645 - accuracy: 0.6967 - val_loss: 0.5761 - val_accuracy: 0.8030 - 891ms/epoch - 39ms/step\n",
            "Epoch 3/30\n",
            "23/23 - 1s - loss: 0.4288 - accuracy: 0.8764 - val_loss: 0.3713 - val_accuracy: 0.8796 - 887ms/epoch - 39ms/step\n",
            "Epoch 4/30\n",
            "23/23 - 1s - loss: 0.2983 - accuracy: 0.9116 - val_loss: 0.3476 - val_accuracy: 0.8847 - 900ms/epoch - 39ms/step\n",
            "Epoch 5/30\n",
            "23/23 - 1s - loss: 0.2611 - accuracy: 0.9268 - val_loss: 0.3636 - val_accuracy: 0.8970 - 899ms/epoch - 39ms/step\n",
            "Epoch 6/30\n",
            "23/23 - 1s - loss: 0.2438 - accuracy: 0.9359 - val_loss: 0.3292 - val_accuracy: 0.8976 - 908ms/epoch - 39ms/step\n",
            "Epoch 7/30\n",
            "23/23 - 1s - loss: 0.2004 - accuracy: 0.9490 - val_loss: 0.3251 - val_accuracy: 0.9044 - 876ms/epoch - 38ms/step\n",
            "Epoch 8/30\n",
            "23/23 - 1s - loss: 0.1858 - accuracy: 0.9547 - val_loss: 0.3529 - val_accuracy: 0.8971 - 898ms/epoch - 39ms/step\n",
            "Epoch 9/30\n",
            "23/23 - 1s - loss: 0.2302 - accuracy: 0.9369 - val_loss: 0.3648 - val_accuracy: 0.8882 - 882ms/epoch - 38ms/step\n"
          ]
        }
      ]
    },
    {
      "cell_type": "code",
      "metadata": {
        "id": "7i4ux2E78RjP"
      },
      "source": [
        "# Create a dataframe\n",
        "lstm_metrics = pd.DataFrame(lstm_history.history)\n",
        "\n",
        "# Rename column\n",
        "lstm_metrics.rename(columns = {'loss': 'Training_Loss', 'accuracy': 'Training_Accuracy',\n",
        "                         'val_loss': 'Validation_Loss', 'val_accuracy': 'Validation_Accuracy'}, inplace = True)\n",
        "def plot_graphs1(var1, var2, string):\n",
        "    lstm_metrics[[var1, var2]].plot()\n",
        "    plt.title('LSTM Model: Training and Validation ' + string)\n",
        "    plt.xlabel ('Number of epochs')\n",
        "    plt.ylabel(string)\n",
        "    plt.legend([var1, var2])"
      ],
      "execution_count": 52,
      "outputs": []
    },
    {
      "cell_type": "code",
      "metadata": {
        "colab": {
          "base_uri": "https://localhost:8080/",
          "height": 376
        },
        "id": "tsQa13Tu8RjP",
        "outputId": "4b5ed11a-6fcd-4a34-a6ed-4997a8361b14"
      },
      "source": [
        "plot_graphs1('Training_Loss', 'Validation_Loss', 'loss')"
      ],
      "execution_count": 53,
      "outputs": [
        {
          "output_type": "display_data",
          "data": {
            "image/png": "[encoded data removed]",
            "text/plain": [
              "<Figure size 576x396 with 1 Axes>"
            ]
          },
          "metadata": {}
        }
      ]
    },
    {
      "cell_type": "code",
      "metadata": {
        "colab": {
          "base_uri": "https://localhost:8080/",
          "height": 35
        },
        "id": "NnfzFHM_6v9u",
        "outputId": "30788af7-3c73-4141-80e3-899d297f0966"
      },
      "source": [
        "plt.savefig('lstm_loss.png')"
      ],
      "execution_count": 54,
      "outputs": [
        {
          "output_type": "display_data",
          "data": {
            "text/plain": [
              "<Figure size 576x396 with 0 Axes>"
            ]
          },
          "metadata": {}
        }
      ]
    },
    {
      "cell_type": "code",
      "metadata": {
        "colab": {
          "base_uri": "https://localhost:8080/",
          "height": 376
        },
        "id": "rp9mkb3U8RjQ",
        "outputId": "40cb510c-33d5-486b-cada-4121b42af7fa"
      },
      "source": [
        "plot_graphs1('Training_Accuracy', 'Validation_Accuracy', 'accuracy')"
      ],
      "execution_count": 55,
      "outputs": [
        {
          "output_type": "display_data",
          "data": {
            "image/png": "[encoded data removed]",
            "text/plain": [
              "<Figure size 576x396 with 1 Axes>"
            ]
          },
          "metadata": {}
        }
      ]
    },
    {
      "cell_type": "code",
      "metadata": {
        "colab": {
          "base_uri": "https://localhost:8080/",
          "height": 35
        },
        "id": "HdiyIxu-7G5s",
        "outputId": "eca1b6b8-53f4-4b5c-a0ff-6ddc8f226a91"
      },
      "source": [
        "plt.savefig('lstm_acc.png')"
      ],
      "execution_count": 56,
      "outputs": [
        {
          "output_type": "display_data",
          "data": {
            "text/plain": [
              "<Figure size 576x396 with 0 Axes>"
            ]
          },
          "metadata": {}
        }
      ]
    },
    {
      "cell_type": "code",
      "metadata": {
        "colab": {
          "base_uri": "https://localhost:8080/"
        },
        "id": "K98McM8RE41m",
        "outputId": "5eaf5cd6-93b2-4924-8787-77dbf02cea11"
      },
      "source": [
        "# Model performermance on test data is about 9465% accuracy with validation loss of 0.11.\n",
        "result=lstm_model.evaluate(testing_padded, test_labels)"
      ],
      "execution_count": 57,
      "outputs": [
        {
          "output_type": "stream",
          "name": "stdout",
          "text": [
            "6/6 [==============================] - 0s 10ms/step - loss: 0.3648 - accuracy: 0.8882\n"
          ]
        }
      ]
    },
    {
      "cell_type": "code",
      "metadata": {
        "colab": {
          "base_uri": "https://localhost:8080/"
        },
        "id": "c4kV4NmuV7Ey",
        "outputId": "73ee555f-386c-4cb6-9c8e-3d4871e02a21"
      },
      "source": [
        "result"
      ],
      "execution_count": 224,
      "outputs": [
        {
          "output_type": "execute_result",
          "data": {
            "text/plain": [
              "[0.29458141326904297, 0.9140000343322754]"
            ]
          },
          "metadata": {},
          "execution_count": 224
        }
      ]
    },
    {
      "cell_type": "code",
      "metadata": {
        "id": "cljbQX_d7IWH"
      },
      "source": [
        "from sklearn.metrics import classification_report\n",
        "#testing_padded, test_labels\n",
        "y_pred = model.predict(testing_padded)"
      ],
      "execution_count": null,
      "outputs": []
    },
    {
      "cell_type": "code",
      "metadata": {
        "colab": {
          "base_uri": "https://localhost:8080/"
        },
        "id": "rRrHCU4CpzZt",
        "outputId": "5e2f132d-65aa-4dbc-b3a4-35228302a55f"
      },
      "source": [
        "y = np.array([0 if x < 0.5 else 1 for x in y_pred])\n",
        "#preds = np.argmax(y_pred, axis = 1)\n",
        "#print(y_pred)\n",
        "print(y)\n"
      ],
      "execution_count": null,
      "outputs": [
        {
          "output_type": "stream",
          "name": "stdout",
          "text": [
            "[1 0 0 0 1 0 0 1 1 1 1 0 1 1 1 1 0 0 1 0 1 1 1 1 1 0 1 1 0 0 0 1 0 0 0 0 0\n",
            " 1 1 0 0 0 0 0 0 0 1 1 0 1 0 0 1 0 0 1 0 0 0 0 0 1 1 1 0 0 1 1 0 0 1 0 1 1\n",
            " 0 1 0 1 1 1 1 0 1 0 1 0 1 1 0 0 0 0 0 0 1 1 0 0 1 1 1 1 1 1 0 1 0 0 1 1 0\n",
            " 1 0 0 1 0 0 0 1 1 0 0 1 1 1 0 1 0 1 1 0 0 0 1 0 1 0 0 1 1 1 1 0 0 0 1 0 1\n",
            " 0 1 0 1 0 0 0 1 1 0 1 0 1 0 1 1 0 0 1 0 0 1 0 0 1 1 0 0 0 0 1 0 0 1 1 1 0\n",
            " 1 0 0 1 0 1 0 1 1 1 0 0 1 1 1 1 0 0 0 0 1 1 1 1 1 0 0 0 1 1 1 0 0 1 1 0 0\n",
            " 0 1 1 0 1 1 0 1 0 1 1 1 0 1 0 1 0 1 1 0 1 1 1 1 0 1 1 1 1 0 0 1 0 0 1 1 1\n",
            " 1 1 1 1 0 0 0 0 0 1 0]\n"
          ]
        }
      ]
    },
    {
      "cell_type": "code",
      "metadata": {
        "colab": {
          "base_uri": "https://localhost:8080/"
        },
        "id": "iPfmPCEt8Xl0",
        "outputId": "dadf8cc9-fd00-4fdb-c209-678413d3e981"
      },
      "source": [
        "print(classification_report(test_labels, y))"
      ],
      "execution_count": null,
      "outputs": [
        {
          "output_type": "stream",
          "name": "stdout",
          "text": [
            "              precision    recall  f1-score   support\n",
            "\n",
            "           0       0.92      0.90      0.91       136\n",
            "           1       0.90      0.92      0.91       134\n",
            "\n",
            "    accuracy                           0.91       270\n",
            "   macro avg       0.91      0.91      0.91       270\n",
            "weighted avg       0.91      0.91      0.91       270\n",
            "\n"
          ]
        }
      ]
    },
    {
      "cell_type": "code",
      "metadata": {
        "colab": {
          "base_uri": "https://localhost:8080/"
        },
        "id": "hgmaCcFnFOBv",
        "outputId": "09f8e281-da7a-4cd0-e423-982a211db6bd"
      },
      "source": [
        "from sklearn.metrics import confusion_matrix\n",
        "\n",
        "#print(classification_report(test_labels,))\n",
        "\n",
        "print(confusion_matrix(test_labels, predictions))\n"
      ],
      "execution_count": null,
      "outputs": [
        {
          "output_type": "stream",
          "name": "stdout",
          "text": [
            "[[85  5]\n",
            " [ 7 83]]\n"
          ]
        }
      ]
    },
    {
      "cell_type": "code",
      "metadata": {
        "colab": {
          "base_uri": "https://localhost:8080/"
        },
        "id": "TcW-2zx1YYji",
        "outputId": "4e3fadc2-fabe-4002-ac52-219c495ebf5c"
      },
      "source": [
        "preds1 = lstm_model.predict(testing_padded,verbose=1)"
      ],
      "execution_count": 59,
      "outputs": [
        {
          "output_type": "stream",
          "name": "stdout",
          "text": [
            "6/6 [==============================] - 1s 9ms/step\n"
          ]
        }
      ]
    },
    {
      "cell_type": "code",
      "metadata": {
        "id": "9VBd_k7mFOBv"
      },
      "source": [
        "from sklearn import metrics\n",
        "targets=test_labels\n",
        "dist_fpr1, dist_tpr1, dist_thresh1 = metrics.roc_curve(targets, preds1[:,1], pos_label=1)\n",
        "#fpr2, tpr2, thresh2 = roc_curve(y_test, pred_prob2[:,1], pos_label=1)\n",
        "\n",
        "# roc curve for tpr = fpr \n",
        "random_probs = [0 for i in range(len(targets))]\n",
        "p_fpr, p_tpr, _ = metrics.roc_curve(targets, random_probs, pos_label=1)\n",
        "auc_score1_dist = metrics.roc_auc_score(targets, preds1[:,1])"
      ],
      "execution_count": 62,
      "outputs": []
    },
    {
      "cell_type": "code",
      "metadata": {
        "colab": {
          "base_uri": "https://localhost:8080/"
        },
        "id": "_LWAn5pzFOBv",
        "outputId": "4b1c05aa-3cf5-4ed2-8237-f0574a489ea6"
      },
      "source": [
        "print(auc_score1_dist)"
      ],
      "execution_count": 63,
      "outputs": [
        {
          "output_type": "stream",
          "name": "stdout",
          "text": [
            "0.9349382716049384\n"
          ]
        }
      ]
    },
    {
      "cell_type": "code",
      "metadata": {
        "colab": {
          "base_uri": "https://localhost:8080/",
          "height": 376
        },
        "id": "e4NHUZSRFOBv",
        "outputId": "bdc27718-a2a9-44c4-ea27-4dd68fd1fd0c"
      },
      "source": [
        "# matplotlib\n",
        "import matplotlib.pyplot as plt\n",
        "plt.style.use('seaborn')\n",
        "\n",
        "# plot roc curves\n",
        "plt.plot(dist_fpr1, dist_tpr1, linestyle='--',color='orange', label='LSTM model')\n",
        "#plt.plot(fpr2, tpr2, linestyle='--',color='green', label='KNN')\n",
        "plt.plot(p_fpr, p_tpr, linestyle='--', color='blue')\n",
        "# title\n",
        "plt.title('ROC curve')\n",
        "# x label\n",
        "plt.xlabel('False Positive Rate')\n",
        "# y label\n",
        "plt.ylabel('True Positive rate')\n",
        "\n",
        "plt.legend(loc='best')\n",
        "plt.savefig('ROC',dpi=300)\n",
        "plt.show();"
      ],
      "execution_count": 64,
      "outputs": [
        {
          "output_type": "display_data",
          "data": {
            "image/png": "[encoded data removed]",
            "text/plain": [
              "<Figure size 576x396 with 1 Axes>"
            ]
          },
          "metadata": {}
        }
      ]
    },
    {
      "cell_type": "markdown",
      "metadata": {
        "id": "FI_Uft7T8RjQ"
      },
      "source": [
        "#### Biderectional LSTM (Bi-LSTM) Spam detection architecture\n",
        "Unlike in LSTM, the Bi-LSTM learns patterns from both before and after a given token within a document. The Bi-LSTM backpropagates in both backward and forward directions in time.  Due to this, the computational time is increased compared to LSTM. However, in most of the cases Bi-LSTM results in better accuracy. \n",
        "\n",
        "Below, we can see the Bi-derectional LSTM architechure where only difference than LSTM is that we use Bidirectional wrapper to LSTM. "
      ]
    },
    {
      "cell_type": "code",
      "metadata": {
        "id": "3EKOaOtS8RjQ"
      },
      "source": [
        "# Biderectional LSTM Spam detection architecture\n",
        "model2 = Sequential()\n",
        "model2.add(Embedding(vocab_size, embeding_dim, input_length=max_len))\n",
        "model2.add(Bidirectional(LSTM(n_lstm, dropout=drop_lstm, return_sequences=True)))\n",
        "model2.add(Dense(1, activation='sigmoid'))"
      ],
      "execution_count": 65,
      "outputs": []
    },
    {
      "cell_type": "code",
      "metadata": {
        "id": "sLUPzzhY8RjQ"
      },
      "source": [
        "model2.compile(loss = 'binary_crossentropy', optimizer = 'adam', metrics=['accuracy'])"
      ],
      "execution_count": 66,
      "outputs": []
    },
    {
      "cell_type": "code",
      "metadata": {
        "id": "bKGKdcj6bUWh"
      },
      "source": [
        "bilstm_model=model2"
      ],
      "execution_count": 67,
      "outputs": []
    },
    {
      "cell_type": "code",
      "metadata": {
        "colab": {
          "base_uri": "https://localhost:8080/"
        },
        "id": "4jszJdQa8RjR",
        "outputId": "0b677d4b-939a-491b-cdb0-ab0f9d5e0ebf"
      },
      "source": [
        "# Training\n",
        "num_epochs = 30\n",
        "early_stop = EarlyStopping(monitor='val_loss', patience=2)\n",
        "bilstm_history = bilstm_model.fit(training_padded, train_labels, epochs=num_epochs, \n",
        "                    validation_data=(testing_padded, test_labels),callbacks =[early_stop], verbose=2)"
      ],
      "execution_count": 68,
      "outputs": [
        {
          "output_type": "stream",
          "name": "stdout",
          "text": [
            "Epoch 1/30\n",
            "23/23 - 5s - loss: 0.6921 - accuracy: 0.5322 - val_loss: 0.6890 - val_accuracy: 0.5824 - 5s/epoch - 222ms/step\n",
            "Epoch 2/30\n",
            "23/23 - 1s - loss: 0.6763 - accuracy: 0.6872 - val_loss: 0.6206 - val_accuracy: 0.8139 - 667ms/epoch - 29ms/step\n",
            "Epoch 3/30\n",
            "23/23 - 1s - loss: 0.4823 - accuracy: 0.8905 - val_loss: 0.3992 - val_accuracy: 0.8649 - 683ms/epoch - 30ms/step\n",
            "Epoch 4/30\n",
            "23/23 - 1s - loss: 0.3371 - accuracy: 0.9071 - val_loss: 0.3438 - val_accuracy: 0.8941 - 675ms/epoch - 29ms/step\n",
            "Epoch 5/30\n",
            "23/23 - 1s - loss: 0.2881 - accuracy: 0.9129 - val_loss: 0.3871 - val_accuracy: 0.8654 - 673ms/epoch - 29ms/step\n",
            "Epoch 6/30\n",
            "23/23 - 1s - loss: 0.3285 - accuracy: 0.8930 - val_loss: 0.3746 - val_accuracy: 0.8643 - 703ms/epoch - 31ms/step\n"
          ]
        }
      ]
    },
    {
      "cell_type": "code",
      "metadata": {
        "colab": {
          "base_uri": "https://localhost:8080/",
          "height": 735
        },
        "id": "LI1g6NCN8RjR",
        "outputId": "a4dddf0d-8764-4be9-f607-b92b7e62d9f3"
      },
      "source": [
        "# Create a dataframe\n",
        "bilstm_metrics = pd.DataFrame(bilstm_history.history)\n",
        "\n",
        "# Rename column\n",
        "bilstm_metrics.rename(columns = {'loss': 'Training_Loss', 'accuracy': 'Training_Accuracy',\n",
        "                         'val_loss': 'Validation_Loss', 'val_accuracy': 'Validation_Accuracy'}, inplace = True)\n",
        "def plot_graphs2(var1, var2, string):\n",
        "    bilstm_metrics[[var1, var2]].plot()\n",
        "    plt.title('BiLSTM Model: Training and Validation ' + string)\n",
        "    plt.xlabel ('Number of epochs')\n",
        "    plt.ylabel(string)\n",
        "    plt.legend([var1, var2])\n",
        "    \n",
        "plot_graphs2('Training_Loss', 'Validation_Loss', 'loss')\n",
        "plt.savefig('bilstm_loss.png')\n",
        "plot_graphs2('Training_Accuracy', 'Validation_Accuracy', 'accuracy')\n",
        "plt.savefig('bilstm_acc.png')"
      ],
      "execution_count": 69,
      "outputs": [
        {
          "output_type": "display_data",
          "data": {
            "image/png": "[encoded data removed]",
            "text/plain": [
              "<Figure size 576x396 with 1 Axes>"
            ]
          },
          "metadata": {}
        },
        {
          "output_type": "display_data",
          "data": {
            "image/png": "[encoded data removed]",
            "text/plain": [
              "<Figure size 576x396 with 1 Axes>"
            ]
          },
          "metadata": {}
        }
      ]
    },
    {
      "cell_type": "markdown",
      "metadata": {
        "id": "UL_ouvcT8RjR"
      },
      "source": [
        "### Compare three different models\n",
        "Based on loss, accuracy and the plots above, we can select Dense architecture as a final model for classifying the text messages. The Dense architecture model has validation accruacy of about 95% and loss of 0.12."
      ]
    },
    {
      "cell_type": "code",
      "metadata": {
        "colab": {
          "base_uri": "https://localhost:8080/"
        },
        "id": "4JYUTRjI8RjS",
        "outputId": "a9fce3b7-a40d-4167-b6cf-a817fb5450fa"
      },
      "source": [
        "# Comparing three different models\n",
        "print(f\"Dense architecture loss and accuracy: {dense_model.evaluate(testing_padded, test_labels)} \" )\n",
        "print(f\"LSTM architecture loss and accuracy: {lstm_model.evaluate(testing_padded, test_labels)} \" )\n",
        "print(f\"Bi-LSTM architecture loss and accuracy: {bilstm_model.evaluate(testing_padded, test_labels)} \" )"
      ],
      "execution_count": 70,
      "outputs": [
        {
          "output_type": "stream",
          "name": "stdout",
          "text": [
            "6/6 [==============================] - 0s 2ms/step - loss: 0.2506 - accuracy: 0.9167\n",
            "Dense architecture loss and accuracy: [0.2506352365016937, 0.9166666865348816] \n",
            "6/6 [==============================] - 0s 8ms/step - loss: 0.3648 - accuracy: 0.8882\n",
            "LSTM architecture loss and accuracy: [0.36475762724876404, 0.8882221579551697] \n",
            "6/6 [==============================] - 0s 7ms/step - loss: 0.3746 - accuracy: 0.8643\n",
            "Bi-LSTM architecture loss and accuracy: [0.374567449092865, 0.8643333315849304] \n"
          ]
        }
      ]
    },
    {
      "cell_type": "code",
      "metadata": {
        "colab": {
          "base_uri": "https://localhost:8080/"
        },
        "id": "2fpukjuZ9W8s",
        "outputId": "c81db1c6-2e8c-49b3-88a9-15004f898500"
      },
      "source": [
        "#y=list()\n",
        "y_pred = dense_model.predict(testing_padded)\n",
        "y_dense = np.array([0 if x < 0.5 else 1 for x in y_pred[:,0]])\n",
        "  #y.append()\n",
        "#print(y)\n",
        "confusion_matrix = classification_report(test_labels, y_dense)\n",
        "print(confusion_matrix)"
      ],
      "execution_count": 71,
      "outputs": [
        {
          "output_type": "stream",
          "name": "stdout",
          "text": [
            "              precision    recall  f1-score   support\n",
            "\n",
            "           0       0.93      0.90      0.92        90\n",
            "           1       0.90      0.93      0.92        90\n",
            "\n",
            "    accuracy                           0.92       180\n",
            "   macro avg       0.92      0.92      0.92       180\n",
            "weighted avg       0.92      0.92      0.92       180\n",
            "\n"
          ]
        }
      ]
    },
    {
      "cell_type": "code",
      "metadata": {
        "colab": {
          "base_uri": "https://localhost:8080/"
        },
        "id": "JBwLyYACUVLm",
        "outputId": "12f02296-570e-4658-cd65-f3432391e86d"
      },
      "source": [
        "from sklearn.metrics import confusion_matrix\n",
        "\n",
        "#print(classification_report(test_labels,))\n",
        "\n",
        "print(confusion_matrix(test_labels, y_dense))\n"
      ],
      "execution_count": 72,
      "outputs": [
        {
          "output_type": "stream",
          "name": "stdout",
          "text": [
            "[[81  9]\n",
            " [ 6 84]]\n"
          ]
        }
      ]
    },
    {
      "cell_type": "code",
      "metadata": {
        "colab": {
          "base_uri": "https://localhost:8080/"
        },
        "id": "9hJCZ3VB_vf8",
        "outputId": "01e4c473-a6bf-4ca0-94a3-776455445c28"
      },
      "source": [
        "y_pred = lstm_model.predict(testing_padded)\n",
        "y_pred.reshape(np.shape(y_pred)[0],np.shape(y_pred)[1])\n",
        "y_lstm = np.array([0 if x < 0.5 else 1 for x in y_pred[:,0]])\n",
        "\n",
        "#print(y)\n",
        "confusion_matrix1 = classification_report(test_labels, y_lstm)\n",
        "print(confusion_matrix1)"
      ],
      "execution_count": 73,
      "outputs": [
        {
          "output_type": "stream",
          "name": "stdout",
          "text": [
            "              precision    recall  f1-score   support\n",
            "\n",
            "           0       0.89      0.70      0.78        90\n",
            "           1       0.75      0.91      0.82        90\n",
            "\n",
            "    accuracy                           0.81       180\n",
            "   macro avg       0.82      0.81      0.80       180\n",
            "weighted avg       0.82      0.81      0.80       180\n",
            "\n"
          ]
        }
      ]
    },
    {
      "cell_type": "code",
      "metadata": {
        "colab": {
          "base_uri": "https://localhost:8080/"
        },
        "id": "Bb90bIK4UXM1",
        "outputId": "39fb29f3-2482-40d5-f16a-c78280f8d115"
      },
      "source": [
        "from sklearn.metrics import confusion_matrix\n",
        "\n",
        "#print(classification_report(test_labels,))\n",
        "\n",
        "print(confusion_matrix(test_labels, y_lstm))\n"
      ],
      "execution_count": 74,
      "outputs": [
        {
          "output_type": "stream",
          "name": "stdout",
          "text": [
            "[[63 27]\n",
            " [ 8 82]]\n"
          ]
        }
      ]
    },
    {
      "cell_type": "code",
      "metadata": {
        "colab": {
          "base_uri": "https://localhost:8080/"
        },
        "id": "AdZqUKaGQhXV",
        "outputId": "652331b0-a338-475d-a682-0ae2c621a88d"
      },
      "source": [
        "y_pred = bilstm_model.predict(testing_padded)\n",
        "y_pred.reshape(np.shape(y_pred)[0],np.shape(y_pred)[1])\n",
        "y_bilstm = np.array([0 if x < 0.5 else 1 for x in y_pred[:,0]])\n",
        "\n",
        "#print(y)\n",
        "confusion_matrix2 = classification_report(test_labels, y_bilstm)\n",
        "print(confusion_matrix2)"
      ],
      "execution_count": 76,
      "outputs": [
        {
          "output_type": "stream",
          "name": "stdout",
          "text": [
            "              precision    recall  f1-score   support\n",
            "\n",
            "           0       0.68      0.99      0.81        90\n",
            "           1       0.98      0.53      0.69        90\n",
            "\n",
            "    accuracy                           0.76       180\n",
            "   macro avg       0.83      0.76      0.75       180\n",
            "weighted avg       0.83      0.76      0.75       180\n",
            "\n"
          ]
        }
      ]
    },
    {
      "cell_type": "code",
      "metadata": {
        "colab": {
          "base_uri": "https://localhost:8080/"
        },
        "id": "Io41yxbxUYqz",
        "outputId": "1d7f99b1-79a8-4b33-af44-4a7440b736f7"
      },
      "source": [
        "from sklearn.metrics import confusion_matrix\n",
        "\n",
        "#print(classification_report(test_labels,))\n",
        "\n",
        "print(confusion_matrix(test_labels, y_bilstm))\n"
      ],
      "execution_count": 77,
      "outputs": [
        {
          "output_type": "stream",
          "name": "stdout",
          "text": [
            "[[89  1]\n",
            " [42 48]]\n"
          ]
        }
      ]
    },
    {
      "cell_type": "code",
      "metadata": {
        "id": "PqUaydfXUq9B"
      },
      "source": [
        "from sklearn import metrics\n",
        "y_1 = dense_model.predict(testing_padded)\n",
        "y_2 = lstm_model.predict(testing_padded)\n",
        "y_3 = bilstm_model.predict(testing_padded)\n",
        "targets=test_labels\n",
        "dist_fpr1, dist_tpr1, dist_thresh1 = metrics.roc_curve(targets, y_1[:,0], pos_label=1)\n",
        "lstm_fpr1, lstm_tpr1, lstm_thresh1 = metrics.roc_curve(targets, y_2[:,0], pos_label=1)\n",
        "bilstm_fpr1, bilstm_tpr1, bilstm_thresh1 = metrics.roc_curve(targets, y_3[:,0], pos_label=1)\n",
        "#fpr2, tpr2, thresh2 = roc_curve(y_test, pred_prob2[:,1], pos_label=1)\n",
        "\n",
        "# roc curve for tpr = fpr \n",
        "random_probs = [0 for i in range(len(targets))]\n",
        "p_fpr, p_tpr, _ = metrics.roc_curve(targets, random_probs, pos_label=1)\n",
        "auc_score1_dist = metrics.roc_auc_score(targets, y_1[:,0])\n",
        "auc_score1_lstm = metrics.roc_auc_score(targets, y_2[:,0])\n",
        "auc_score1_bilstm = metrics.roc_auc_score(targets, y_3[:,0])"
      ],
      "execution_count": 81,
      "outputs": []
    },
    {
      "cell_type": "code",
      "metadata": {
        "colab": {
          "base_uri": "https://localhost:8080/"
        },
        "id": "Z--GmQCSUq9B",
        "outputId": "9d0dd625-e468-405e-901d-30c7dca3b0e8"
      },
      "source": [
        "print(auc_score1_dist)\n",
        "print(auc_score1_lstm)\n",
        "print(auc_score1_bilstm)"
      ],
      "execution_count": 82,
      "outputs": [
        {
          "output_type": "stream",
          "name": "stdout",
          "text": [
            "0.9645679012345678\n",
            "0.9052469135802469\n",
            "0.945925925925926\n"
          ]
        }
      ]
    },
    {
      "cell_type": "code",
      "metadata": {
        "colab": {
          "base_uri": "https://localhost:8080/",
          "height": 376
        },
        "id": "JF0Ig1ASUq9B",
        "outputId": "c016d673-d133-4a87-dfa5-f31feff31bdb"
      },
      "source": [
        "# matplotlib\n",
        "import matplotlib.pyplot as plt\n",
        "plt.style.use('seaborn')\n",
        "\n",
        "# plot roc curves\n",
        "plt.plot(dist_fpr1, dist_tpr1, linestyle='--',color='orange', label='Dense model')\n",
        "plt.plot(lstm_fpr1, lstm_tpr1, linestyle='--',color='green', label='LSTM model')\n",
        "plt.plot(bilstm_fpr1, bilstm_tpr1, linestyle='--',color='red', label='BiLSTM model')\n",
        "#plt.plot(fpr2, tpr2, linestyle='--',color='green', label='KNN')\n",
        "plt.plot(p_fpr, p_tpr, linestyle='--', color='blue')\n",
        "# title\n",
        "plt.title('ROC curve')\n",
        "# x label\n",
        "plt.xlabel('False Positive Rate')\n",
        "# y label\n",
        "plt.ylabel('True Positive rate')\n",
        "\n",
        "plt.legend(loc='best')\n",
        "plt.savefig('ROC',dpi=300)\n",
        "plt.show();"
      ],
      "execution_count": 84,
      "outputs": [
        {
          "output_type": "display_data",
          "data": {
            "image/png": "[encoded data removed]",
            "text/plain": [
              "<Figure size 576x396 with 1 Axes>"
            ]
          },
          "metadata": {}
        }
      ]
    },
    {
      "cell_type": "markdown",
      "metadata": {
        "id": "7-E2AyLI8RjS"
      },
      "source": [
        "# Predict sentiment for new messages\n",
        "\n",
        "Scenario 1: Using raw text from our data:\n",
        "\n",
        "Let's see how our Dense spam detection model predicts/classifies whether its spam or ham given the text from our original data. First and second mssages below are ham whereas the third one is a spam message. We've used the same tokenizer that we created earlier in the code to convert them into the sequences. This makes sure the new words will have the same token as in the training set. Once tokenized, we use padding as we did earliner and provide the same dimension as in training set. \n",
        "\n",
        "As shown below, the model correctly predicts first two sentences as ham where as the third one as spam. \n"
      ]
    },
    {
      "cell_type": "code",
      "metadata": {
        "id": "7r1Lhy198RjT"
      },
      "source": [
        "# The third one gives 0.99 indicating very high probabilty of spam\n",
        "predict_msg = [\"User selects a transformation language program file to parse.\",\n",
        "\"The HATS-GUI compares the time stamps on the lexical specification and grammar files to the time\",\n",
        "          \"agentMom shall support the ability to send unicast message.\"]\n"
      ],
      "execution_count": 86,
      "outputs": []
    },
    {
      "cell_type": "code",
      "metadata": {
        "id": "kaz8ZZSWWX7T"
      },
      "source": [
        "def predict_spam(predict_msg,model):\n",
        "    new_seq = tokenizer.texts_to_sequences(predict_msg)\n",
        "    padded = pad_sequences(new_seq, maxlen =max_len,\n",
        "                      padding = padding_type,\n",
        "                      truncating=trunc_type)\n",
        "    return (model.predict(padded))"
      ],
      "execution_count": 87,
      "outputs": []
    },
    {
      "cell_type": "code",
      "metadata": {
        "id": "Iv_LQjK0_je-"
      },
      "source": [
        "def get_predictions(text,model):\n",
        "    sequence = tokenizer.texts_to_sequences([text])\n",
        "    # pad the sequence\n",
        "    sequence = pad_sequences(sequence, maxlen=max_len)\n",
        "    # get the prediction\n",
        "    prediction = model.predict(sequence)[0]\n",
        "    # one-hot encoded vector, revert using np.argmax\n",
        "    return np.argmax(prediction)"
      ],
      "execution_count": 99,
      "outputs": []
    },
    {
      "cell_type": "code",
      "metadata": {
        "colab": {
          "base_uri": "https://localhost:8080/"
        },
        "id": "gGqmDJgv_5cy",
        "outputId": "7ce207ba-919e-4fba-fd39-c14bda41b30c"
      },
      "source": [
        "text='User selects a transformation language program file to parse.'\n",
        "print(get_predictions(text,lstm_model))"
      ],
      "execution_count": 100,
      "outputs": [
        {
          "output_type": "stream",
          "name": "stdout",
          "text": [
            "44\n"
          ]
        }
      ]
    },
    {
      "cell_type": "code",
      "metadata": {
        "colab": {
          "base_uri": "https://localhost:8080/"
        },
        "id": "z81ardlS8RjT",
        "outputId": "83419cf9-60cf-46b0-8801-1cf8e4da0747"
      },
      "source": [
        "print(np.argmax(predict_spam(text,lstm_model)))"
      ],
      "execution_count": 229,
      "outputs": [
        {
          "output_type": "stream",
          "name": "stdout",
          "text": [
            "200\n"
          ]
        }
      ]
    },
    {
      "cell_type": "code",
      "metadata": {
        "id": "MlsiMg2p8WxW"
      },
      "source": [
        "predict_spam(predict_msg,lstm_model)"
      ],
      "execution_count": null,
      "outputs": []
    },
    {
      "cell_type": "code",
      "metadata": {
        "id": "l8eXwo7w8XOZ"
      },
      "source": [
        "predict_spam(predict_msg,bilstm_model)"
      ],
      "execution_count": null,
      "outputs": []
    },
    {
      "cell_type": "code",
      "metadata": {
        "id": "WoanTdPh8WZ9"
      },
      "source": [
        "predict_spam(predict_msg,dense_model)"
      ],
      "execution_count": null,
      "outputs": []
    },
    {
      "cell_type": "markdown",
      "metadata": {
        "id": "9Bk7kGOS8RjT"
      },
      "source": [
        "Scenario 2: Using newly created text and see how the model classifies them. \n",
        "    \n",
        "Below, first sentence is more like a spam whereas the rest of the two sentences are more like ham. "
      ]
    },
    {
      "cell_type": "code",
      "metadata": {
        "colab": {
          "base_uri": "https://localhost:8080/"
        },
        "id": "OuMIGf048RjT",
        "outputId": "a8e92593-6d3f-4420-a9e0-9ea7d8d49862"
      },
      "source": [
        "# The third one gives 0.99 indicating very high probabilty of spam\n",
        "predict_msg = [\"User selects a transformation language program file to parse.\",\n",
        "\"The HATS-GUI compares the time stamps on the lexical specification and grammar files to the time\",\n",
        "          \"agentMom shall support the ability to send unicast message.\"]\n",
        "p=predict_spam(predict_msg,lstm_model)\n",
        "p.reshape(np.shape(p)[0],np.shape(p)[1])\n",
        "y= np.array([0 if x < 0.5 else 1 for x in p[:,0]])\n",
        "print(y)"
      ],
      "execution_count": 98,
      "outputs": [
        {
          "output_type": "stream",
          "name": "stdout",
          "text": [
            "[1 1 0]\n"
          ]
        }
      ]
    },
    {
      "cell_type": "code",
      "metadata": {
        "colab": {
          "base_uri": "https://localhost:8080/"
        },
        "id": "vO3s9O4EU7JU",
        "outputId": "2feb5e6d-ddfd-42a7-8496-d3295b0e9b25"
      },
      "source": [
        "T=[\"Store assistant checks status of the tape to be returned by customer. \",\"PDF Split and Merge was created prior to this document, so all requirements stated here are already satisfied.\",\"Cashier enters item identifier.\",\n",
        "\"System updates the sale line item.\"]\n",
        "p=predict_spam(T,bilstm_model)\n",
        "p.shape"
      ],
      "execution_count": 96,
      "outputs": [
        {
          "output_type": "execute_result",
          "data": {
            "text/plain": [
              "(4, 50, 1)"
            ]
          },
          "metadata": {},
          "execution_count": 96
        }
      ]
    },
    {
      "cell_type": "code",
      "metadata": {
        "colab": {
          "base_uri": "https://localhost:8080/"
        },
        "id": "E3lpImnAVH27",
        "outputId": "5c00ee7e-e0f6-4245-ddb0-0988ff5aa465"
      },
      "source": [
        "p.reshape(np.shape(p)[0],np.shape(p)[1])\n",
        "y1 = np.array([0 if x < 0.5 else 1 for x in p[:,0]])\n",
        "print(y1)"
      ],
      "execution_count": 93,
      "outputs": [
        {
          "output_type": "stream",
          "name": "stdout",
          "text": [
            "[0 0 1 1]\n"
          ]
        }
      ]
    },
    {
      "cell_type": "code",
      "metadata": {
        "colab": {
          "base_uri": "https://localhost:8080/"
        },
        "id": "rashLFvvfh0Y",
        "outputId": "9d91a6a6-088f-4af2-9834-d1507fdc31a8"
      },
      "source": [
        "p.reshape(np.shape(p)[0],np.shape(p)[1])\n",
        "y2 = np.array([0 if x < 0.5 else 1 for x in p[:,0]])\n",
        "print(y2)"
      ],
      "execution_count": 95,
      "outputs": [
        {
          "output_type": "stream",
          "name": "stdout",
          "text": [
            "[0 0 0 1]\n"
          ]
        }
      ]
    },
    {
      "cell_type": "code",
      "metadata": {
        "colab": {
          "base_uri": "https://localhost:8080/"
        },
        "id": "kgn06qM4fphf",
        "outputId": "2874fd36-0422-4133-e87a-51c0f4334a36"
      },
      "source": [
        "p.reshape(np.shape(p)[0],np.shape(p)[1])\n",
        "y3 = np.array([0 if x < 0.5 else 1 for x in p[:,0]])\n",
        "print(y3)"
      ],
      "execution_count": 97,
      "outputs": [
        {
          "output_type": "stream",
          "name": "stdout",
          "text": [
            "[0 0 0 0]\n"
          ]
        }
      ]
    },
    {
      "cell_type": "markdown",
      "metadata": {
        "id": "z-E4h7RF8RjU"
      },
      "source": [
        "As shown above, the model seems to be correctly classifying ham and spam messages. "
      ]
    },
    {
      "cell_type": "markdown",
      "metadata": {
        "id": "nOtZZgg38RjU"
      },
      "source": [
        "## Summary\n",
        "\n",
        "We used the text messages from  [UCI datasets](https://archive.ics.uci.edu/ml/datasets/SMS+Spam+Collection) and fit deep learning models such as Dense architecture, LSTM and Bi-LSTM and compared the accuracy and loss on validation set across these models. Finally, we selected the Dense architectural deep learning model to classify text messages as spam or ham. This article, provides an oveview of using different architectural deep learning models to NLP problem using TensorFlow2. "
      ]
    },
    {
      "cell_type": "markdown",
      "metadata": {
        "id": "O4nkekAM8RjU"
      },
      "source": [
        "## Next Step\n",
        "\n",
        "Next, we could explore more sampling approaches such as upsampling, using SMOTE, using overall sample and fitting the model. We could also try using more dense network and see how it fits the data. "
      ]
    },
    {
      "cell_type": "markdown",
      "metadata": {
        "id": "q0GunZ1u8RjU"
      },
      "source": [
        "## Acknowledgement!\n",
        "\n",
        "I would like to thank Jon Krohn for his book Deep Learning Illustrated, Lazy programmer Inc for their excellent course \"Tensorflow 2.0: Deep Learning and Artificial Intelligence\" and Jose Portilla for awesome course \"Complete Tensorflow 2 and Keras Deep Learning Bootcamp\" on Udemy. "
      ]
    },
    {
      "cell_type": "markdown",
      "metadata": {
        "id": "UPCDYilm8RjU"
      },
      "source": [
        "## Thank you!\n",
        "\n",
        "Thank you all for reading this article and please feel free to leave comments/suggestions. \n"
      ]
    },
    {
      "cell_type": "markdown",
      "metadata": {
        "id": "XZBdoRZv8RjU"
      },
      "source": [
        "## Happy Learning!"
      ]
    },
    {
      "cell_type": "code",
      "metadata": {
        "id": "EKLFt8sJUP_r"
      },
      "source": [
        ""
      ],
      "execution_count": null,
      "outputs": []
    }
  ]
}