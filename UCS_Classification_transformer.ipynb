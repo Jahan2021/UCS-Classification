{
  "nbformat": 4,
  "nbformat_minor": 0,
  "metadata": {
    "colab": {
      "name": " UCS_Classification_transformer.ipynb",
      "provenance": [],
      "authorship_tag": "ABX9TyNZCVh9QuGrFCJPNh/dEGGJ",
      "include_colab_link": true
    },
    "kernelspec": {
      "name": "python3",
      "display_name": "Python 3"
    },
    "language_info": {
      "name": "python"
    },
    "accelerator": "GPU"
  },
  "cells": [
    {
      "cell_type": "markdown",
      "metadata": {
        "id": "view-in-github",
        "colab_type": "text"
      },
      "source": [
        "<a href=\"https://colab.research.google.com/github/Jahan2021/UCS-Classification/blob/main/UCS_Classification_transformer.ipynb\" target=\"_parent\"><img src=\"https://colab.research.google.com/assets/colab-badge.svg\" alt=\"Open In Colab\"/></a>"
      ]
    },
    {
      "cell_type": "markdown",
      "metadata": {
        "id": "xJdlCqgAt5Ug"
      },
      "source": [
        "# Classifying usecases and nonusecases using Transformer"
      ]
    },
    {
      "cell_type": "markdown",
      "metadata": {
        "id": "OFOTiqrtNvyy"
      },
      "source": [
        "# Install Transformers Library"
      ]
    },
    {
      "cell_type": "code",
      "metadata": {
        "id": "1hkhc10wNrGt"
      },
      "source": [
        "!pip install transformers"
      ],
      "execution_count": null,
      "outputs": []
    },
    {
      "cell_type": "code",
      "metadata": {
        "colab": {
          "base_uri": "https://localhost:8080/",
          "height": 35
        },
        "id": "wDYjlJhwHJKS",
        "outputId": "0b14d8e8-2ad0-4358-c60c-03e28ba28f34"
      },
      "source": [
        "#checking for GPU\n",
        "import tensorflow as tf\n",
        "tf.test.gpu_device_name()"
      ],
      "execution_count": null,
      "outputs": [
        {
          "output_type": "execute_result",
          "data": {
            "application/vnd.google.colaboratory.intrinsic+json": {
              "type": "string"
            },
            "text/plain": [
              "'/device:GPU:0'"
            ]
          },
          "metadata": {},
          "execution_count": 51
        }
      ]
    },
    {
      "cell_type": "markdown",
      "metadata": {
        "id": "kKd-Tj3hOMsZ"
      },
      "source": [
        "# Load Dataset"
      ]
    },
    {
      "cell_type": "code",
      "metadata": {
        "id": "ksRXkHsHuYJ8"
      },
      "source": [
        "import numpy as np\n",
        "import pandas as pd"
      ],
      "execution_count": null,
      "outputs": []
    },
    {
      "cell_type": "code",
      "metadata": {
        "id": "FM-0m4cfaClc",
        "colab": {
          "base_uri": "https://localhost:8080/"
        },
        "outputId": "c22d1621-c485-4be9-e8b7-28681366d07d"
      },
      "source": [
        "path=\"/content/drive/MyDrive/Colab Notebooks\"\n",
        "from google.colab import drive\n",
        "drive.mount('/content/drive')\n",
        "path_data=path+\"/data/ucsdata.csv\"#\"/content/spamdata_v2.csv\"#\"/content/spamdata_v2.txt\"\n",
        "df = pd.read_csv(path_data)\n",
        "df.head()\n",
        "#duplicate = df[df.duplicated()]\n",
        "  \n",
        "#print(\"Duplicate Rows :\")\n",
        "  \n",
        "# Print the resultant Dataframe\n",
        "#duplicate\n",
        "#df.drop_duplicates()\n",
        "df=df.drop_duplicates(keep='last', ignore_index=True)\n",
        "df_not_usecase = df[df['label']==0]\n",
        "df_not_usecase.shape\n",
        "df_usecase = df[df['label']==1]\n",
        "df_usecase.shape\n",
        "#down sample the dataset to make it balanced\n",
        "df_not_usecase_downsampled = df_not_usecase.sample(df_usecase.shape[0])\n",
        "df_not_usecase_downsampled.shape\n",
        "df_balanced = pd.concat([df_not_usecase_downsampled, df_usecase])\n",
        "df_balanced.shape\n",
        "df_balanced['label'].value_counts()"
      ],
      "execution_count": null,
      "outputs": [
        {
          "output_type": "stream",
          "name": "stdout",
          "text": [
            "Drive already mounted at /content/drive; to attempt to forcibly remount, call drive.mount(\"/content/drive\", force_remount=True).\n"
          ]
        },
        {
          "output_type": "execute_result",
          "data": {
            "text/plain": [
              "1    450\n",
              "0    450\n",
              "Name: label, dtype: int64"
            ]
          },
          "metadata": {},
          "execution_count": 52
        }
      ]
    },
    {
      "cell_type": "code",
      "metadata": {
        "colab": {
          "base_uri": "https://localhost:8080/",
          "height": 67
        },
        "id": "oxHQlkpAKdLN",
        "outputId": "9b7f95be-e723-4f38-ad9b-72334190a2cb"
      },
      "source": [
        "# Selecting duplicate rows except first \n",
        "# occurrence based on all columns\n",
        "duplicate = df_balanced[df_balanced.duplicated()]\n",
        "  \n",
        "print(\"Duplicate Rows :\")\n",
        "  \n",
        "# Print the resultant Dataframe\n",
        "duplicate\n",
        "#df.drop_duplicates()"
      ],
      "execution_count": null,
      "outputs": [
        {
          "output_type": "stream",
          "name": "stdout",
          "text": [
            "Duplicate Rows :\n"
          ]
        },
        {
          "output_type": "execute_result",
          "data": {
            "text/html": [
              "<div>\n",
              "<style scoped>\n",
              "    .dataframe tbody tr th:only-of-type {\n",
              "        vertical-align: middle;\n",
              "    }\n",
              "\n",
              "    .dataframe tbody tr th {\n",
              "        vertical-align: top;\n",
              "    }\n",
              "\n",
              "    .dataframe thead th {\n",
              "        text-align: right;\n",
              "    }\n",
              "</style>\n",
              "<table border=\"1\" class=\"dataframe\">\n",
              "  <thead>\n",
              "    <tr style=\"text-align: right;\">\n",
              "      <th></th>\n",
              "      <th>label</th>\n",
              "      <th>text</th>\n",
              "    </tr>\n",
              "  </thead>\n",
              "  <tbody>\n",
              "  </tbody>\n",
              "</table>\n",
              "</div>"
            ],
            "text/plain": [
              "Empty DataFrame\n",
              "Columns: [label, text]\n",
              "Index: []"
            ]
          },
          "metadata": {},
          "execution_count": 14
        }
      ]
    },
    {
      "cell_type": "code",
      "metadata": {
        "id": "2nsFyVXOBQJ5"
      },
      "source": [
        "# turn a doc into clean tokens\n",
        "def clean_doc(doc):\n",
        "  doc = doc.lower()\n",
        "  # split into tokens by white space\n",
        "  tokens = doc.split()\n",
        "  # remove punctuation from each token\n",
        "  table = str.maketrans('', '', string.punctuation)\n",
        "  tokens = [w.translate(table) for w in tokens]\n",
        "  # remove remaining tokens that are not alphabetic\n",
        "  tokens = [word for word in tokens if word.isalpha()]\n",
        "  # filter out stop words\n",
        "  #stop_words = set(stopwords.words('english'))\n",
        "  #tokens = [w for w in tokens if not w in stop_words]\n",
        "  # filter out short tokens\n",
        "  tokens = [word for word in tokens if len(word) > 1]\n",
        "  return  (\" \".join(tokens)).strip()+'.'"
      ],
      "execution_count": null,
      "outputs": []
    },
    {
      "cell_type": "code",
      "metadata": {
        "id": "yvJA_dcDv1cx"
      },
      "source": [
        "import string\n",
        "df_balanced[\"text\"]=df_balanced[\"text\"].apply(lambda x: clean_doc(x))\n",
        "#df[1] = df[1].apply(add_one)"
      ],
      "execution_count": null,
      "outputs": []
    },
    {
      "cell_type": "code",
      "metadata": {
        "colab": {
          "base_uri": "https://localhost:8080/",
          "height": 223
        },
        "id": "Sjk7X9iy0Ok9",
        "outputId": "4d3fdd52-b560-4486-dd58-2f236905eac8"
      },
      "source": [
        "df_balanced.head()"
      ],
      "execution_count": null,
      "outputs": [
        {
          "output_type": "execute_result",
          "data": {
            "text/html": [
              "<div>\n",
              "<style scoped>\n",
              "    .dataframe tbody tr th:only-of-type {\n",
              "        vertical-align: middle;\n",
              "    }\n",
              "\n",
              "    .dataframe tbody tr th {\n",
              "        vertical-align: top;\n",
              "    }\n",
              "\n",
              "    .dataframe thead th {\n",
              "        text-align: right;\n",
              "    }\n",
              "</style>\n",
              "<table border=\"1\" class=\"dataframe\">\n",
              "  <thead>\n",
              "    <tr style=\"text-align: right;\">\n",
              "      <th></th>\n",
              "      <th>label</th>\n",
              "      <th>text</th>\n",
              "    </tr>\n",
              "  </thead>\n",
              "  <tbody>\n",
              "    <tr>\n",
              "      <th>513</th>\n",
              "      <td>0</td>\n",
              "      <td>when the option to merge the contents of the selected categories is selected the moved items must be updated in quickbooks pos.</td>\n",
              "    </tr>\n",
              "    <tr>\n",
              "      <th>460</th>\n",
              "      <td>0</td>\n",
              "      <td>however prefer to understand it like this user scenario is particular environment within specified use case.</td>\n",
              "    </tr>\n",
              "    <tr>\n",
              "      <th>473</th>\n",
              "      <td>0</td>\n",
              "      <td>in the password column user has to set the password if the document is protected and then reload the file.</td>\n",
              "    </tr>\n",
              "    <tr>\n",
              "      <th>450</th>\n",
              "      <td>0</td>\n",
              "      <td>to achieve an electronic clearing and settlement environment dvp all new instruments will be issued electronically dematerialised immobilised before sale and delivery into the primary market.</td>\n",
              "    </tr>\n",
              "    <tr>\n",
              "      <th>982</th>\n",
              "      <td>0</td>\n",
              "      <td>the reports they wish to submit from their offices.</td>\n",
              "    </tr>\n",
              "  </tbody>\n",
              "</table>\n",
              "</div>"
            ],
            "text/plain": [
              "     label                                                                                                                                                                                             text\n",
              "513      0                                                                  when the option to merge the contents of the selected categories is selected the moved items must be updated in quickbooks pos.\n",
              "460      0                                                                                     however prefer to understand it like this user scenario is particular environment within specified use case.\n",
              "473      0                                                                                       in the password column user has to set the password if the document is protected and then reload the file.\n",
              "450      0  to achieve an electronic clearing and settlement environment dvp all new instruments will be issued electronically dematerialised immobilised before sale and delivery into the primary market.\n",
              "982      0                                                                                                                                              the reports they wish to submit from their offices."
            ]
          },
          "metadata": {},
          "execution_count": 55
        }
      ]
    },
    {
      "cell_type": "markdown",
      "metadata": {
        "id": "hHVC0Gzriy9B"
      },
      "source": [
        "## DistilledBERT"
      ]
    },
    {
      "cell_type": "markdown",
      "metadata": {
        "id": "TnWYh-GKpH0D"
      },
      "source": [
        "## Imports, Instalations and Constants"
      ]
    },
    {
      "cell_type": "markdown",
      "metadata": {
        "id": "xUVz7CSMEGsH"
      },
      "source": [
        "https://medium.com/geekculture/hugging-face-distilbert-tensorflow-for-custom-text-classification-1ad4a49e26a7"
      ]
    },
    {
      "cell_type": "code",
      "metadata": {
        "id": "KXQ-gIvNedL5"
      },
      "source": [
        "#!pip install transformers\n",
        "\n",
        "import pandas as pd\n",
        "import tensorflow as tf\n",
        "import transformers\n",
        "from transformers import DistilBertTokenizer\n",
        "from transformers import TFDistilBertForSequenceClassification\n",
        "\n",
        "pd.set_option('display.max_colwidth', None)\n",
        "MODEL_NAME = 'distilbert-base-uncased-finetuned-sst-2-english'# This model is a fine-tune checkpoint of DistilBERT-base-uncased, fine-tuned on SST-2.\n",
        "BATCH_SIZE = 16\n",
        "N_EPOCHS = 4 # we can put more, because evaluation of the model shows big difference in loss with accuracy 1.0"
      ],
      "execution_count": null,
      "outputs": []
    },
    {
      "cell_type": "code",
      "metadata": {
        "id": "6dflYdxqjWEE"
      },
      "source": [
        "from sklearn.model_selection import train_test_split\n",
        "X_train, X_test, y_train, y_test = train_test_split(df_balanced['text'], df_balanced['label'], \n",
        "                                                                    random_state=2018, \n",
        "                                                                    test_size=0.2, \n",
        "                                                                    stratify=df_balanced['label'])\n",
        "\n",
        "# we will use temp_text and temp_labels to create validation and test set\n",
        "#val_text, test_text, val_labels, test_labels = train_test_split(temp_text, temp_labels, \n",
        "                                                                #random_state=2018, \n",
        "                                                                #test_size=0.5, \n",
        "                                                                #stratify=temp_labels)"
      ],
      "execution_count": null,
      "outputs": []
    },
    {
      "cell_type": "markdown",
      "metadata": {
        "id": "_T0xiN5JTNAn"
      },
      "source": [
        "## Preprocess"
      ]
    },
    {
      "cell_type": "markdown",
      "metadata": {
        "id": "5c6psE19Sywd"
      },
      "source": [
        "### Decode byte arrays into string representation. "
      ]
    },
    {
      "cell_type": "code",
      "metadata": {
        "colab": {
          "base_uri": "https://localhost:8080/"
        },
        "id": "CvxV2NEzgaJd",
        "outputId": "397be975-6568-461c-b790-f3df4b1236f7"
      },
      "source": [
        "#X_train = X_train.apply(lambda x: str(x[0], 'utf-8'))\n",
        "#X_test = X_test.apply(lambda x:  str(x[0], 'utf-8'))\n",
        "X_train[:3]"
      ],
      "execution_count": null,
      "outputs": [
        {
          "output_type": "execute_result",
          "data": {
            "text/plain": [
              "25     user may choose to create new category to hold the moved categories.\n",
              "595       this gives bobby the competition he requires and allows alice to.\n",
              "495                         the unique tag must be at most characters long.\n",
              "Name: text, dtype: object"
            ]
          },
          "metadata": {},
          "execution_count": 58
        }
      ]
    },
    {
      "cell_type": "markdown",
      "metadata": {
        "id": "au36t-dZFRjh"
      },
      "source": [
        "### Max sentence length"
      ]
    },
    {
      "cell_type": "code",
      "metadata": {
        "colab": {
          "base_uri": "https://localhost:8080/"
        },
        "id": "7eBV0wMcCeB3",
        "outputId": "1a61b61f-4312-4715-b57c-6d322ca0df25"
      },
      "source": [
        "MAX_LEN = X_train.apply(lambda s: len([x for x in s.split()])).max()\n",
        "MAX_LEN"
      ],
      "execution_count": null,
      "outputs": [
        {
          "output_type": "execute_result",
          "data": {
            "text/plain": [
              "63"
            ]
          },
          "metadata": {},
          "execution_count": 59
        }
      ]
    },
    {
      "cell_type": "markdown",
      "metadata": {
        "id": "UKZWPmE6T9P8"
      },
      "source": [
        "## Encode with  DistilBertTokenizer"
      ]
    },
    {
      "cell_type": "code",
      "metadata": {
        "colab": {
          "base_uri": "https://localhost:8080/"
        },
        "id": "OtFwP_Egzktr",
        "outputId": "41a6face-64ec-4952-bc6c-094343d60cbd"
      },
      "source": [
        "#define a tokenizer object\n",
        "tokenizer = DistilBertTokenizer.from_pretrained(MODEL_NAME)\n",
        "\n",
        "#tokenize the text (padding to max sequence in batch)\n",
        "train_encodings = tokenizer(list(X_train.values), truncation=True, padding=True)\n",
        "test_encodings = tokenizer(list(X_test.values), truncation=True, padding=True)\n",
        "\n",
        "#print the first paragraph and it transformation\n",
        "print(f'First paragraph: \\'{X_train[:1]}\\'')\n",
        "print(f'Input ids: {train_encodings[\"input_ids\"][0]}')\n",
        "print(f'Attention mask: {train_encodings[\"attention_mask\"][0]}')\n"
      ],
      "execution_count": null,
      "outputs": [
        {
          "output_type": "stream",
          "name": "stdout",
          "text": [
            "First paragraph: '25    user may choose to create new category to hold the moved categories.\n",
            "Name: text, dtype: object'\n",
            "Input ids: [101, 5310, 2089, 5454, 2000, 3443, 2047, 4696, 2000, 2907, 1996, 2333, 7236, 1012, 102, 0, 0, 0, 0, 0, 0, 0, 0, 0, 0, 0, 0, 0, 0, 0, 0, 0, 0, 0, 0, 0, 0, 0, 0, 0, 0, 0, 0, 0, 0, 0, 0, 0, 0, 0, 0, 0, 0, 0, 0, 0, 0, 0, 0, 0, 0, 0, 0, 0, 0, 0, 0, 0, 0, 0, 0, 0, 0, 0, 0]\n",
            "Attention mask: [1, 1, 1, 1, 1, 1, 1, 1, 1, 1, 1, 1, 1, 1, 1, 0, 0, 0, 0, 0, 0, 0, 0, 0, 0, 0, 0, 0, 0, 0, 0, 0, 0, 0, 0, 0, 0, 0, 0, 0, 0, 0, 0, 0, 0, 0, 0, 0, 0, 0, 0, 0, 0, 0, 0, 0, 0, 0, 0, 0, 0, 0, 0, 0, 0, 0, 0, 0, 0, 0, 0, 0, 0, 0, 0]\n"
          ]
        }
      ]
    },
    {
      "cell_type": "markdown",
      "metadata": {
        "id": "CUmtW9dgEw8a"
      },
      "source": [
        "## Length check"
      ]
    },
    {
      "cell_type": "code",
      "metadata": {
        "colab": {
          "base_uri": "https://localhost:8080/",
          "height": 281
        },
        "id": "G-OtFxDUEhHn",
        "outputId": "33ce8677-ef18-43da-eab3-697b08c028da"
      },
      "source": [
        "pd.DataFrame(train_encodings[\"input_ids\"]).hist();"
      ],
      "execution_count": null,
      "outputs": [
        {
          "output_type": "display_data",
          "data": {
            "image/png": "[encoded data removed]",
            "text/plain": [
              "<Figure size 432x288 with 81 Axes>"
            ]
          },
          "metadata": {
            "needs_background": "light"
          }
        }
      ]
    },
    {
      "cell_type": "code",
      "metadata": {
        "colab": {
          "base_uri": "https://localhost:8080/"
        },
        "id": "NKWUEbpFEt7N",
        "outputId": "4a2e82a3-2344-451e-9bc7-a6e4e7f872c0"
      },
      "source": [
        "len(train_encodings[\"attention_mask\"][0]) #max len tokenized sentence - 362"
      ],
      "execution_count": null,
      "outputs": [
        {
          "output_type": "execute_result",
          "data": {
            "text/plain": [
              "75"
            ]
          },
          "metadata": {},
          "execution_count": 62
        }
      ]
    },
    {
      "cell_type": "code",
      "metadata": {
        "id": "BaJnImyanka0"
      },
      "source": [
        "#train_encodings"
      ],
      "execution_count": null,
      "outputs": []
    },
    {
      "cell_type": "markdown",
      "metadata": {
        "id": "X8Uy0qycy8Fl"
      },
      "source": [
        "###  Turn our labels and encodings into a tf.Dataset object"
      ]
    },
    {
      "cell_type": "code",
      "metadata": {
        "id": "o5U_xzK8fVrc"
      },
      "source": [
        "train_dataset = tf.data.Dataset.from_tensor_slices((dict(train_encodings),\n",
        "                                                    list(y_train.values)))\n",
        "\n",
        "test_dataset = tf.data.Dataset.from_tensor_slices((dict(test_encodings),\n",
        "                                                    list(y_test.values)))"
      ],
      "execution_count": null,
      "outputs": []
    },
    {
      "cell_type": "code",
      "metadata": {
        "colab": {
          "base_uri": "https://localhost:8080/"
        },
        "id": "7UuD_KewylTi",
        "outputId": "e3c154cc-c7f2-47e9-f2e9-10a348e14eca"
      },
      "source": [
        "train_dataset "
      ],
      "execution_count": null,
      "outputs": [
        {
          "output_type": "execute_result",
          "data": {
            "text/plain": [
              "<TensorSliceDataset shapes: ({input_ids: (75,), attention_mask: (75,)}, ()), types: ({input_ids: tf.int32, attention_mask: tf.int32}, tf.int32)>"
            ]
          },
          "metadata": {},
          "execution_count": 35
        }
      ]
    },
    {
      "cell_type": "markdown",
      "metadata": {
        "id": "Kg8b3C855T67"
      },
      "source": [
        "## Fine-tuning with native TensorFlow\n"
      ]
    },
    {
      "cell_type": "code",
      "metadata": {
        "colab": {
          "base_uri": "https://localhost:8080/"
        },
        "id": "hamHq6LO0AiS",
        "outputId": "143537e6-f576-4a4f-847e-bd9a29fa3945"
      },
      "source": [
        "model_dist = TFDistilBertForSequenceClassification.from_pretrained(MODEL_NAME)\n",
        "\n",
        "optimizerr = tf.keras.optimizers.Adam(learning_rate=5e-5)\n",
        "losss = tf.keras.losses.SparseCategoricalCrossentropy(from_logits=True) # Computes the crossentropy loss between the labels and predictions. \n",
        "model_dist.compile(optimizer=optimizerr,                                     \n",
        "              loss=losss,\n",
        "              metrics=['accuracy'])\n",
        "\n",
        "hist=model_dist.fit(train_dataset.shuffle(len(X_train)).batch(BATCH_SIZE), \n",
        "          epochs=N_EPOCHS,\n",
        "          batch_size=BATCH_SIZE,\n",
        "          ) #([val_inp,val_mask],val_label)"
      ],
      "execution_count": null,
      "outputs": [
        {
          "output_type": "stream",
          "name": "stderr",
          "text": [
            "Some layers from the model checkpoint at distilbert-base-uncased-finetuned-sst-2-english were not used when initializing TFDistilBertForSequenceClassification: ['dropout_19']\n",
            "- This IS expected if you are initializing TFDistilBertForSequenceClassification from the checkpoint of a model trained on another task or with another architecture (e.g. initializing a BertForSequenceClassification model from a BertForPreTraining model).\n",
            "- This IS NOT expected if you are initializing TFDistilBertForSequenceClassification from the checkpoint of a model that you expect to be exactly identical (initializing a BertForSequenceClassification model from a BertForSequenceClassification model).\n",
            "Some layers of TFDistilBertForSequenceClassification were not initialized from the model checkpoint at distilbert-base-uncased-finetuned-sst-2-english and are newly initialized: ['dropout_97']\n",
            "You should probably TRAIN this model on a down-stream task to be able to use it for predictions and inference.\n"
          ]
        },
        {
          "output_type": "stream",
          "name": "stdout",
          "text": [
            "Epoch 1/4\n",
            "45/45 [==============================] - 22s 274ms/step - loss: 0.4842 - accuracy: 0.8250\n",
            "Epoch 2/4\n",
            "45/45 [==============================] - 12s 273ms/step - loss: 0.1354 - accuracy: 0.9528\n",
            "Epoch 3/4\n",
            "45/45 [==============================] - 12s 273ms/step - loss: 0.0805 - accuracy: 0.9694\n",
            "Epoch 4/4\n",
            "45/45 [==============================] - 12s 273ms/step - loss: 0.0204 - accuracy: 0.9931\n"
          ]
        }
      ]
    },
    {
      "cell_type": "code",
      "metadata": {
        "colab": {
          "base_uri": "https://localhost:8080/"
        },
        "id": "sZBUmhIikMEe",
        "outputId": "792329cc-3fc8-414b-cde8-dc0b9b7291ba"
      },
      "source": [
        "print(history.history)"
      ],
      "execution_count": null,
      "outputs": [
        {
          "output_type": "stream",
          "name": "stdout",
          "text": [
            "{'loss': [0.018545327708125114, 0.025236956775188446, 0.019426949322223663, 0.021802255883812904], 'accuracy': [0.9902777671813965, 0.9930555820465088, 0.9958333373069763, 0.9930555820465088], 'val_loss': [0.1388854831457138, 0.3322078287601471, 0.25431209802627563, 0.19283756613731384], 'val_accuracy': [0.9666666388511658, 0.9166666865348816, 0.9333333373069763, 0.9333333373069763]}\n"
          ]
        }
      ]
    },
    {
      "cell_type": "code",
      "metadata": {
        "id": "o-BqW43QjqdT"
      },
      "source": [
        "import matplotlib.pyplot as plt\n",
        "# Create a dataframe\n",
        "dist_metrics = pd.DataFrame(hist.history)\n",
        "\n",
        "# Rename column\n",
        "dist_metrics.rename(columns = {'loss': 'Training_Loss', 'accuracy': 'Training_Accuracy',\n",
        "                         'val_loss': 'Validation_Loss', 'val_accuracy': 'Validation_Accuracy'}, inplace = True)\n",
        "def plot_graphs1(var1, var2, string):\n",
        "    dist_metrics[[var1,var2]].plot()\n",
        "    #dist_metrics[[var2]].plot()\n",
        "    plt.title('DistilBERT Model: Training and Validation ' + string)\n",
        "    plt.xlabel ('Number of epochs')\n",
        "    plt.ylabel(string)\n",
        "    plt.legend([var1, var2])"
      ],
      "execution_count": null,
      "outputs": []
    },
    {
      "cell_type": "code",
      "metadata": {
        "colab": {
          "base_uri": "https://localhost:8080/",
          "height": 295
        },
        "id": "Rll-nrx806re",
        "outputId": "0ed0e157-a526-4279-b81e-84b8c00a1d2d"
      },
      "source": [
        "plot_graphs1('Training_Loss', 'Validation_Loss', 'loss')\n",
        "plt.savefig(\"distBERT_loss.png\")"
      ],
      "execution_count": null,
      "outputs": [
        {
          "output_type": "display_data",
          "data": {
            "image/png": "[encoded data removed]",
            "text/plain": [
              "<Figure size 432x288 with 1 Axes>"
            ]
          },
          "metadata": {
            "needs_background": "light"
          }
        }
      ]
    },
    {
      "cell_type": "code",
      "source": [
        "plot_graphs1('Training_Accuracy', 'Validation_Accuracy', 'accuracy')\n",
        "plt.savefig(\"distBERT_accuray.png\")"
      ],
      "metadata": {
        "colab": {
          "base_uri": "https://localhost:8080/",
          "height": 295
        },
        "id": "wPoFMQDZMJ5s",
        "outputId": "ea685d99-eed5-4b92-be18-7e7014d7b0a1"
      },
      "execution_count": null,
      "outputs": [
        {
          "output_type": "display_data",
          "data": {
            "image/png": "[encoded data removed]",
            "text/plain": [
              "<Figure size 432x288 with 1 Axes>"
            ]
          },
          "metadata": {
            "needs_background": "light"
          }
        }
      ]
    },
    {
      "cell_type": "markdown",
      "metadata": {
        "id": "1Zv-nDPsUZdF"
      },
      "source": [
        "## Model Evaluation"
      ]
    },
    {
      "cell_type": "code",
      "metadata": {
        "colab": {
          "base_uri": "https://localhost:8080/"
        },
        "id": "kO3wessE5GKE",
        "outputId": "124838c0-a169-4ab3-8269-a3e69a4f4f79"
      },
      "source": [
        "model_dist.evaluate(test_dataset.shuffle(len(X_test)).batch(BATCH_SIZE), return_dict=True, batch_size=BATCH_SIZE)"
      ],
      "execution_count": null,
      "outputs": [
        {
          "output_type": "stream",
          "name": "stdout",
          "text": [
            "12/12 [==============================] - 3s 74ms/step - loss: 0.2404 - accuracy: 0.9222\n"
          ]
        },
        {
          "output_type": "execute_result",
          "data": {
            "text/plain": [
              "{'accuracy': 0.9222221970558167, 'loss': 0.24037620425224304}"
            ]
          },
          "metadata": {},
          "execution_count": 68
        }
      ]
    },
    {
      "cell_type": "markdown",
      "metadata": {
        "id": "1g2yK0uG1sKr"
      },
      "source": [
        "## Predict on the different text examples"
      ]
    },
    {
      "cell_type": "code",
      "metadata": {
        "id": "ncmEZIi-_u7d"
      },
      "source": [
        "def predict_proba(text_list, model, tokenizer):\n",
        "  \"\"\"\n",
        "  To get array with predicted probabilities for 0 - instructions, 1- ingredients classes \n",
        "  for each paragraph in the list of strings\n",
        "  :param text_list: list[str]\n",
        "  :param model: transformers.models.distilbert.modeling_tf_distilbert.TFDistilBertForSequenceClassification\n",
        "  :param tokenizer: transformers.models.distilbert.tokenization_distilbert.DistilBertTokenizer\n",
        "  :return res: numpy.ndarray\n",
        "  \"\"\"\n",
        "     \n",
        "  encodings = tokenizer(text_list, max_length=MAX_LEN, truncation=True, padding=True)\n",
        "  dataset = tf.data.Dataset.from_tensor_slices((dict(encodings))) \n",
        "  preds = model.predict(dataset.batch(1)).logits\n",
        "  res = tf.nn.softmax(preds, axis=1).numpy()\n",
        "    \n",
        "  return res"
      ],
      "execution_count": null,
      "outputs": []
    },
    {
      "cell_type": "code",
      "metadata": {
        "id": "P-Iv1_dxZ-vm"
      },
      "source": [
        "predict_msg = [\"User selects a transformation language program file to parse.\",\n",
        "\"The HATS-GUI compares the time stamps on the lexical specification and grammar files to the time\",\n",
        "          \"agentMom shall support the ability to send unicast message.\"]\n"
      ],
      "execution_count": null,
      "outputs": []
    },
    {
      "cell_type": "code",
      "metadata": {
        "colab": {
          "base_uri": "https://localhost:8080/"
        },
        "id": "U7GIWjSIaMEW",
        "outputId": "85e07393-5dd5-4657-ac7b-45c0e66a1f56"
      },
      "source": [
        "predict_proba(predict_msg, model_dist, tokenizer)"
      ],
      "execution_count": null,
      "outputs": [
        {
          "output_type": "execute_result",
          "data": {
            "text/plain": [
              "array([[4.2286605e-04, 9.9957711e-01],\n",
              "       [1.6128378e-02, 9.8387170e-01],\n",
              "       [9.9966896e-01, 3.3100366e-04]], dtype=float32)"
            ]
          },
          "metadata": {},
          "execution_count": 71
        }
      ]
    },
    {
      "cell_type": "code",
      "metadata": {
        "id": "EVLYr8Fmacd4"
      },
      "source": [
        "testT=[\"Store assistant checks status of the tape to be returned by customer. \",\"PDF Split and Merge was created prior to this document, so all requirements stated here are already satisfied.\",\"Cashier enters item identifier.\",\n",
        "\"System updates the sale line item.\"]"
      ],
      "execution_count": null,
      "outputs": []
    },
    {
      "cell_type": "code",
      "metadata": {
        "id": "vkYJxFBtauxY"
      },
      "source": [
        "pr=predict_proba(testT, model_dist, tokenizer)"
      ],
      "execution_count": null,
      "outputs": []
    },
    {
      "cell_type": "code",
      "metadata": {
        "colab": {
          "base_uri": "https://localhost:8080/"
        },
        "id": "EjDzGcK4GS6u",
        "outputId": "394092d8-fa81-4401-9382-6cb401995d52"
      },
      "source": [
        "p=np.argmax(pr,axis=1)\n",
        "print(p)"
      ],
      "execution_count": null,
      "outputs": [
        {
          "output_type": "stream",
          "name": "stdout",
          "text": [
            "[1 0 1 1]\n"
          ]
        }
      ]
    },
    {
      "cell_type": "code",
      "metadata": {
        "id": "sy1s_P3LBJzq"
      },
      "source": [
        "#from srs document\n",
        "preds_srs_dist=predict_proba(clean_text,model_dist,tokenizer)\n"
      ],
      "execution_count": null,
      "outputs": []
    },
    {
      "cell_type": "code",
      "metadata": {
        "colab": {
          "base_uri": "https://localhost:8080/"
        },
        "id": "hpuKnlfyFNxW",
        "outputId": "712f6163-f2d3-4b2a-e0e2-3288a85ac345"
      },
      "source": [
        "p_srs_dist=np.argmax(preds_srs_dist,axis=1)\n",
        "print(p_srs_dist)"
      ],
      "execution_count": null,
      "outputs": [
        {
          "output_type": "stream",
          "name": "stdout",
          "text": [
            "[0 0 0 0 0 0 1 0 0 0 0 0 0 1 0 1 1 1 1 0 0 0 0 0 1 1 1 1 1 1 1 1 1 1 1 1 0\n",
            " 0 0 1 0 0 0 0 0 0 0 0 0 1 0 0 0 0 1 0 0 0 0 0 0 0 0 0 0 1 0 0 0 0 0 0 0 0\n",
            " 1 0 1 1 0 0 0 0 1 0 1 1 1 1 1 1 0 0 1 1 1 0 1 0 0 0 1 1 0 1 1 1 1 0 1 1 0\n",
            " 1 1 1 1 0 1 1 1 1 1 1 1 1 1 0 1 1 1 1 1 1 1 1 1 1 0 1 1 1 1 1 1 1 1 0 1 1\n",
            " 1 1 1 1 1 1 0 1 1 1 1 1 0 1 1 1 1 1 0 1 1 1 1 1 1 1 0 1 1 0 1 1 0 1 0 1 1\n",
            " 1 1 1 1 1 0 1 1 1 1 1 1 1 0 1 1 1 1 1 1 1 0 1 1 1 1 1 1 0 0 0 0 0 0 0 0 0\n",
            " 0 0 0 0 0 0 1 0 0 0 0 0 1 1 1 0 0 1 0 1 1 0 1 0 1 1 1 1 1 1 1 1 1 1 1 1 1\n",
            " 1 0 0 1 1 1 1 0 0 1 0 1 0 0 1 1 1 1 0 1 1 1 1 0 1 0 0 0 1 1 1 1 0 1 1 1 1\n",
            " 1 0 0 1 0 0 1 0 1 1 1 0 1 1 1 1 1 1 1 0 0 0 0 0 1 1 1 0 0 1 1 1 1 0 0 0 0\n",
            " 0 0 0 1 1 1 1 1 0 1 1 1 1 1 0 0 1 1 1 1 0 0 1 1 1 1 1 1 0 1 0 0 1 0 1 1 1\n",
            " 1 0 1 1 0 1 0 0 0 0 0 0 0 1 1 0 1 1 1 1 1 1 0 1 1 1 0 0 1 0 0 1 0 1 1 0 1\n",
            " 1 1 0 0 1 0 0 1 1 1 1 0 1 1 1 1 0 0 0 0 0 0 0 0 0 0 0 0 1 0 0 0 0 1 1]\n"
          ]
        }
      ]
    },
    {
      "cell_type": "code",
      "metadata": {
        "colab": {
          "base_uri": "https://localhost:8080/"
        },
        "id": "iQ2UrspSBJO6",
        "outputId": "eb32069e-4500-4a60-dfe7-8b52aa8eb949"
      },
      "source": [
        "parr=p_srs_dist[p_srs_dist>0]\n",
        "print(len(parr),len(clean_text))"
      ],
      "execution_count": null,
      "outputs": [
        {
          "output_type": "stream",
          "name": "stdout",
          "text": [
            "256 442\n"
          ]
        }
      ]
    },
    {
      "cell_type": "code",
      "metadata": {
        "id": "-5tKj7PNDisp"
      },
      "source": [
        "#pre=np.where(preds > 0.5, 1, 0)\n",
        "df_ucs=get_UCS(clean_text,p_srs_dist)\n",
        "print(df_ucs)"
      ],
      "execution_count": null,
      "outputs": []
    },
    {
      "cell_type": "markdown",
      "metadata": {
        "id": "0BGJkm_rbUCw"
      },
      "source": [
        "## ROC_AUC curv"
      ]
    },
    {
      "cell_type": "code",
      "metadata": {
        "id": "dDbNiuDmbXoJ"
      },
      "source": [
        "import numpy as np\n",
        "\n",
        "encodings = tokenizer(X_test.values.tolist(), max_length=MAX_LEN, truncation=True, padding=True)\n",
        "dataset = tf.data.Dataset.from_tensor_slices((dict(encodings))) \n",
        "preds = model_dist.predict(dataset.batch(1)).logits\n"
      ],
      "execution_count": null,
      "outputs": []
    },
    {
      "cell_type": "code",
      "metadata": {
        "id": "khN6DNGUbpc0"
      },
      "source": [
        "from sklearn import metrics\n",
        "targets=y_test\n",
        "dist_fpr1, dist_tpr1, dist_thresh1 = metrics.roc_curve(targets, preds[:,1], pos_label=1)\n",
        "#fpr2, tpr2, thresh2 = roc_curve(y_test, pred_prob2[:,1], pos_label=1)\n",
        "\n",
        "# roc curve for tpr = fpr \n",
        "random_probs = [0 for i in range(len(targets))]\n",
        "p_fpr, p_tpr, _ = metrics.roc_curve(targets, random_probs, pos_label=1)\n",
        "auc_score1_dist = metrics.roc_auc_score(targets, preds[:,1])"
      ],
      "execution_count": null,
      "outputs": []
    },
    {
      "cell_type": "code",
      "metadata": {
        "colab": {
          "base_uri": "https://localhost:8080/"
        },
        "id": "aB4OQiQleYqz",
        "outputId": "3dddf69a-1957-4e9e-d283-84d9bc075571"
      },
      "source": [
        "print(auc_score1_dist)"
      ],
      "execution_count": null,
      "outputs": [
        {
          "output_type": "stream",
          "name": "stdout",
          "text": [
            "0.9861728395061728\n"
          ]
        }
      ]
    },
    {
      "cell_type": "code",
      "metadata": {
        "colab": {
          "base_uri": "https://localhost:8080/"
        },
        "id": "pt2j-wBnHzbY",
        "outputId": "95448638-4a60-4f6b-f5f2-322eddfd6658"
      },
      "source": [
        "from sklearn.metrics import classification_report\n",
        "p=np.argmax(preds,axis=1)\n",
        "print(classification_report(targets, p))"
      ],
      "execution_count": null,
      "outputs": [
        {
          "output_type": "stream",
          "name": "stdout",
          "text": [
            "              precision    recall  f1-score   support\n",
            "\n",
            "           0       0.91      0.93      0.92        90\n",
            "           1       0.93      0.91      0.92        90\n",
            "\n",
            "    accuracy                           0.92       180\n",
            "   macro avg       0.92      0.92      0.92       180\n",
            "weighted avg       0.92      0.92      0.92       180\n",
            "\n"
          ]
        }
      ]
    },
    {
      "cell_type": "code",
      "metadata": {
        "colab": {
          "base_uri": "https://localhost:8080/",
          "height": 376
        },
        "id": "V6FH6ddWbzL-",
        "outputId": "0dad32f8-8ccf-49a6-ae39-e9b91e8b47e6"
      },
      "source": [
        "# matplotlib\n",
        "import matplotlib.pyplot as plt\n",
        "plt.style.use('seaborn')\n",
        "\n",
        "# plot roc curves\n",
        "plt.plot(dist_fpr1, dist_tpr1, linestyle='--',color='orange', label='DistBERT')\n",
        "#plt.plot(fpr2, tpr2, linestyle='--',color='green', label='KNN')\n",
        "plt.plot(p_fpr, p_tpr, linestyle='--', color='blue')\n",
        "# title\n",
        "plt.title('ROC curve')\n",
        "# x label\n",
        "plt.xlabel('False Positive Rate')\n",
        "# y label\n",
        "plt.ylabel('True Positive rate')\n",
        "\n",
        "plt.legend(loc='best')\n",
        "plt.savefig('ROC',dpi=300)\n",
        "plt.show();"
      ],
      "execution_count": null,
      "outputs": [
        {
          "output_type": "display_data",
          "data": {
            "image/png": "[encoded data removed]",
            "text/plain": [
              "<Figure size 576x396 with 1 Axes>"
            ]
          },
          "metadata": {}
        }
      ]
    },
    {
      "cell_type": "markdown",
      "metadata": {
        "id": "1xliDBCGFio6"
      },
      "source": [
        "We take a txt file [here](https://github.com/Galina-Blokh/ai_assignment_aidock/blob/refator/data/test_links.txt). This file contains links to the recipe pages which our model didn't saw yet. Assuming you scraped data from the first [url](https://www.loveandlemons.com/green-bean-salad-recipe/). The data you feed into your model for prediction will be looking like in the cell below. (*A list with one first string of ingredients and following three strings with instructions.)"
      ]
    },
    {
      "cell_type": "code",
      "metadata": {
        "id": "ZQaC-ScK9-Yk"
      },
      "source": [
        ""
      ],
      "execution_count": null,
      "outputs": []
    },
    {
      "cell_type": "code",
      "metadata": {
        "id": "unZ_twfo9-tU"
      },
      "source": [
        "# confusion matrix\n",
        "cm=pd.crosstab(targets, p)"
      ],
      "execution_count": null,
      "outputs": []
    },
    {
      "cell_type": "code",
      "metadata": {
        "colab": {
          "base_uri": "https://localhost:8080/",
          "height": 361
        },
        "id": "rXl_ggWQ9-tV",
        "outputId": "726d8434-d97b-4303-9429-a59be0bc5c01"
      },
      "source": [
        "from matplotlib import pyplot as plt\n",
        "import seaborn as sn\n",
        "sn.heatmap(cm, annot=True, fmt='d')\n",
        "plt.xlabel('Predicted')\n",
        "plt.ylabel('Truth')\n",
        "plt.savefig('confusion.png')"
      ],
      "execution_count": null,
      "outputs": [
        {
          "output_type": "display_data",
          "data": {
            "image/png": "[encoded data removed]",
            "text/plain": [
              "<Figure size 576x396 with 2 Axes>"
            ]
          },
          "metadata": {}
        }
      ]
    },
    {
      "cell_type": "markdown",
      "metadata": {
        "id": "ndVsUcn6wEMK"
      },
      "source": [
        "## BERT Base Model\n",
        "--https://www.analyticsvidhya.com/blog/2020/07/transfer-learning-for-nlp-fine-tuning-bert-for-text-classification/"
      ]
    },
    {
      "cell_type": "code",
      "metadata": {
        "id": "oFG78wkfwCng"
      },
      "source": [
        "import torch\n",
        "import torch.nn as nn\n",
        "from sklearn.model_selection import train_test_split\n",
        "from sklearn.metrics import classification_report\n",
        "import transformers\n",
        "from transformers import AutoModel, BertTokenizerFast\n",
        "\n",
        "# specify GPU\n",
        "device = torch.device(\"cuda\")"
      ],
      "execution_count": null,
      "outputs": []
    },
    {
      "cell_type": "markdown",
      "metadata": {
        "id": "MKfWnApvOoE7"
      },
      "source": [
        "# Split train dataset into train, validation and test sets"
      ]
    },
    {
      "cell_type": "code",
      "metadata": {
        "id": "mfhSPF5jOWb7"
      },
      "source": [
        "train_text, temp_text, train_labels, temp_labels = train_test_split(df_balanced['text'], df_balanced['label'], \n",
        "                                                                    random_state=2018, \n",
        "                                                                    test_size=0.3, \n",
        "                                                                    stratify=df_balanced['label'])\n",
        "\n",
        "# we will use temp_text and temp_labels to create validation and test set\n",
        "val_text, test_text, val_labels, test_labels = train_test_split(temp_text, temp_labels, \n",
        "                                                                random_state=2018, \n",
        "                                                                test_size=0.5, \n",
        "                                                                stratify=temp_labels)"
      ],
      "execution_count": null,
      "outputs": []
    },
    {
      "cell_type": "markdown",
      "metadata": {
        "id": "n7hsdLoCO7uB"
      },
      "source": [
        "# Import BERT Model and BERT Tokenizer"
      ]
    },
    {
      "cell_type": "code",
      "metadata": {
        "id": "S1kY3gZjO2RE",
        "colab": {
          "base_uri": "https://localhost:8080/"
        },
        "outputId": "010cb7bd-e7e2-4ec3-845c-17edc545c307"
      },
      "source": [
        "# import BERT-base pretrained model\n",
        "bert = AutoModel.from_pretrained('bert-base-uncased')\n",
        "\n",
        "# Load the BERT tokenizer\n",
        "tokenizer = BertTokenizerFast.from_pretrained('bert-base-uncased')"
      ],
      "execution_count": null,
      "outputs": [
        {
          "output_type": "stream",
          "name": "stderr",
          "text": [
            "Some weights of the model checkpoint at bert-base-uncased were not used when initializing BertModel: ['cls.seq_relationship.bias', 'cls.predictions.decoder.weight', 'cls.predictions.transform.dense.bias', 'cls.predictions.transform.LayerNorm.bias', 'cls.predictions.bias', 'cls.predictions.transform.dense.weight', 'cls.seq_relationship.weight', 'cls.predictions.transform.LayerNorm.weight']\n",
            "- This IS expected if you are initializing BertModel from the checkpoint of a model trained on another task or with another architecture (e.g. initializing a BertForSequenceClassification model from a BertForPreTraining model).\n",
            "- This IS NOT expected if you are initializing BertModel from the checkpoint of a model that you expect to be exactly identical (initializing a BertForSequenceClassification model from a BertForSequenceClassification model).\n"
          ]
        }
      ]
    },
    {
      "cell_type": "markdown",
      "metadata": {
        "id": "8wIYaWI_Prg8"
      },
      "source": [
        "# Tokenization"
      ]
    },
    {
      "cell_type": "code",
      "metadata": {
        "id": "yKwbpeN_PMiu",
        "colab": {
          "base_uri": "https://localhost:8080/",
          "height": 365
        },
        "outputId": "7c7617ce-1363-4ec2-ffd8-93cadfd6f3a7"
      },
      "source": [
        "# get length of all the messages in the train set\n",
        "seq_len = [len(i.split()) for i in train_text]\n",
        "\n",
        "pd.Series(seq_len).hist(bins = 30)"
      ],
      "execution_count": null,
      "outputs": [
        {
          "output_type": "execute_result",
          "data": {
            "text/plain": [
              "<matplotlib.axes._subplots.AxesSubplot at 0x7f7e6a1cc090>"
            ]
          },
          "metadata": {},
          "execution_count": 86
        },
        {
          "output_type": "display_data",
          "data": {
            "image/png": "[encoded data removed]",
            "text/plain": [
              "<Figure size 576x396 with 1 Axes>"
            ]
          },
          "metadata": {}
        }
      ]
    },
    {
      "cell_type": "code",
      "metadata": {
        "id": "OXcswEIRPvGe",
        "colab": {
          "base_uri": "https://localhost:8080/"
        },
        "outputId": "99ad3fde-d930-40b2-d028-879a0272a9bd"
      },
      "source": [
        "print(max(seq_len))\n",
        "max_seq_len = max(seq_len)"
      ],
      "execution_count": null,
      "outputs": [
        {
          "output_type": "stream",
          "name": "stdout",
          "text": [
            "63\n"
          ]
        }
      ]
    },
    {
      "cell_type": "code",
      "metadata": {
        "id": "tk5S7DWaP2t6",
        "colab": {
          "base_uri": "https://localhost:8080/"
        },
        "outputId": "84a0c3e5-2d94-4df5-be26-c7887ac8c7fc"
      },
      "source": [
        "# tokenize and encode sequences in the training set\n",
        "tokens_train = tokenizer.batch_encode_plus(\n",
        "    train_text.tolist(),\n",
        "    max_length = max_seq_len,\n",
        "    pad_to_max_length=True,\n",
        "    truncation=True,\n",
        "    return_token_type_ids=False\n",
        ")\n",
        "\n",
        "# tokenize and encode sequences in the validation set\n",
        "tokens_val = tokenizer.batch_encode_plus(\n",
        "    val_text.tolist(),\n",
        "    max_length = max_seq_len,\n",
        "    pad_to_max_length=True,\n",
        "    truncation=True,\n",
        "    return_token_type_ids=False\n",
        ")\n",
        "\n",
        "# tokenize and encode sequences in the test set\n",
        "tokens_test = tokenizer.batch_encode_plus(\n",
        "    test_text.tolist(),\n",
        "    max_length = max_seq_len,\n",
        "    pad_to_max_length=True,\n",
        "    truncation=True,\n",
        "    return_token_type_ids=False\n",
        ")"
      ],
      "execution_count": null,
      "outputs": [
        {
          "output_type": "stream",
          "name": "stderr",
          "text": [
            "/usr/local/lib/python3.7/dist-packages/transformers/tokenization_utils_base.py:2227: FutureWarning: The `pad_to_max_length` argument is deprecated and will be removed in a future version, use `padding=True` or `padding='longest'` to pad to the longest sequence in the batch, or use `padding='max_length'` to pad to a max length. In this case, you can give a specific length with `max_length` (e.g. `max_length=45`) or leave max_length to None to pad to the maximal input size of the model (e.g. 512 for Bert).\n",
            "  FutureWarning,\n"
          ]
        }
      ]
    },
    {
      "cell_type": "markdown",
      "metadata": {
        "id": "Wsm8bkRZQTw9"
      },
      "source": [
        "# Convert Integer Sequences to Tensors"
      ]
    },
    {
      "cell_type": "code",
      "metadata": {
        "id": "QR-lXwmzQPd6"
      },
      "source": [
        "# for train set\n",
        "train_seq = torch.tensor(tokens_train['input_ids'])\n",
        "train_mask = torch.tensor(tokens_train['attention_mask'])\n",
        "train_y = torch.tensor(train_labels.tolist())\n",
        "\n",
        "# for validation set\n",
        "val_seq = torch.tensor(tokens_val['input_ids'])\n",
        "val_mask = torch.tensor(tokens_val['attention_mask'])\n",
        "val_y = torch.tensor(val_labels.tolist())\n",
        "\n",
        "# for test set\n",
        "test_seq = torch.tensor(tokens_test['input_ids'])\n",
        "test_mask = torch.tensor(tokens_test['attention_mask'])\n",
        "test_y = torch.tensor(test_labels.tolist())"
      ],
      "execution_count": null,
      "outputs": []
    },
    {
      "cell_type": "code",
      "metadata": {
        "id": "qUy9JKFYQYLp"
      },
      "source": [
        "from torch.utils.data import TensorDataset, DataLoader, RandomSampler, SequentialSampler\n",
        "\n",
        "#define a batch size\n",
        "batch_size = 32\n",
        "\n",
        "# wrap tensors\n",
        "train_data = TensorDataset(train_seq, train_mask, train_y)\n",
        "\n",
        "# sampler for sampling the data during training\n",
        "train_sampler = RandomSampler(train_data)\n",
        "\n",
        "# dataLoader for train set\n",
        "train_dataloader = DataLoader(train_data, sampler=train_sampler, batch_size=batch_size)\n",
        "\n",
        "# wrap tensors\n",
        "val_data = TensorDataset(val_seq, val_mask, val_y)\n",
        "\n",
        "# sampler for sampling the data during training\n",
        "val_sampler = SequentialSampler(val_data)\n",
        "\n",
        "# dataLoader for validation set\n",
        "val_dataloader = DataLoader(val_data, sampler = val_sampler, batch_size=batch_size)"
      ],
      "execution_count": null,
      "outputs": []
    },
    {
      "cell_type": "markdown",
      "metadata": {
        "id": "K2HZc5ZYRV28"
      },
      "source": [
        "# Freeze BERT Parameters"
      ]
    },
    {
      "cell_type": "code",
      "metadata": {
        "id": "wHZ0MC00RQA_"
      },
      "source": [
        "# freeze all the parameters\n",
        "for param in bert.parameters():\n",
        "    param.requires_grad = False"
      ],
      "execution_count": null,
      "outputs": []
    },
    {
      "cell_type": "markdown",
      "metadata": {
        "id": "s7ahGBUWRi3X"
      },
      "source": [
        "# Define Model Architecture"
      ]
    },
    {
      "cell_type": "code",
      "metadata": {
        "id": "b3iEtGyYRd0A"
      },
      "source": [
        "class BERT_Arch(nn.Module):\n",
        "\n",
        "    def __init__(self, bert):\n",
        "      \n",
        "      super(BERT_Arch, self).__init__()\n",
        "\n",
        "      self.bert = bert \n",
        "      \n",
        "      # dropout layer\n",
        "      self.dropout = nn.Dropout(0.1)\n",
        "      \n",
        "      # relu activation function\n",
        "      self.relu =  nn.ReLU()\n",
        "\n",
        "      # dense layer 1\n",
        "      self.fc1 = nn.Linear(768,512)\n",
        "      \n",
        "      # dense layer 2 (Output layer)\n",
        "      self.fc2 = nn.Linear(512,2)\n",
        "\n",
        "      #softmax activation function\n",
        "      self.softmax = nn.LogSoftmax(dim=1)\n",
        "\n",
        "    #define the forward pass\n",
        "    def forward(self, sent_id, mask):\n",
        "\n",
        "      #pass the inputs to the model  \n",
        "      _, cls_hs = self.bert(sent_id, attention_mask=mask,return_dict=False)\n",
        "      \n",
        "      x = self.fc1(cls_hs)\n",
        "\n",
        "      x = self.relu(x)\n",
        "\n",
        "      x = self.dropout(x)\n",
        "\n",
        "      # output layer\n",
        "      x = self.fc2(x)\n",
        "      \n",
        "      # apply softmax activation\n",
        "      x = self.softmax(x)\n",
        "\n",
        "      return x"
      ],
      "execution_count": null,
      "outputs": []
    },
    {
      "cell_type": "code",
      "metadata": {
        "id": "cBAJJVuJRliv"
      },
      "source": [
        "# pass the pre-trained BERT to our define architecture\n",
        "model = BERT_Arch(bert)\n",
        "\n",
        "# push the model to GPU\n",
        "model = model.to(device)\n"
      ],
      "execution_count": null,
      "outputs": []
    },
    {
      "cell_type": "code",
      "metadata": {
        "id": "taXS0IilRn9J"
      },
      "source": [
        "# optimizer from hugging face transformers\n",
        "from transformers import AdamW\n",
        "\n",
        "# define the optimizer\n",
        "optimizer = AdamW(model.parameters(), lr = 1e-3)"
      ],
      "execution_count": null,
      "outputs": []
    },
    {
      "cell_type": "code",
      "metadata": {
        "id": "caO2vLCffouf"
      },
      "source": [
        "# loss function (no class weight is provided as the data is balanced)\n",
        "cross_entropy  = nn.NLLLoss() \n",
        "\n",
        "# number of training epochs\n",
        "epochs = 50"
      ],
      "execution_count": null,
      "outputs": []
    },
    {
      "cell_type": "markdown",
      "metadata": {
        "id": "My4CA0qaShLq"
      },
      "source": [
        "# Fine-Tune BERT"
      ]
    },
    {
      "cell_type": "code",
      "metadata": {
        "id": "rskLk8R_SahS"
      },
      "source": [
        "# function to train the model\n",
        "def train():\n",
        "  \n",
        "  model.train()\n",
        "\n",
        "  total_loss, total_accuracy = 0, 0\n",
        "  \n",
        "  # empty list to save model predictions\n",
        "  total_preds=[]\n",
        "  \n",
        "  # iterate over batches\n",
        "  for step,batch in enumerate(train_dataloader):\n",
        "    \n",
        "    # progress update after every 50 batches.\n",
        "    if step % 50 == 0 and not step == 0:\n",
        "      print('  Batch {:>5,}  of  {:>5,}.'.format(step, len(train_dataloader)))\n",
        "\n",
        "    # push the batch to gpu\n",
        "    batch = [r.to(device) for r in batch]\n",
        " \n",
        "    sent_id, mask, labels = batch\n",
        "\n",
        "    # clear previously calculated gradients \n",
        "    model.zero_grad()        \n",
        "\n",
        "    # get model predictions for the current batch\n",
        "    preds = model(sent_id, mask)\n",
        "\n",
        "    # compute the loss between actual and predicted values\n",
        "    loss = cross_entropy(preds, labels)\n",
        "\n",
        "    # add on to the total loss\n",
        "    total_loss = total_loss + loss.item()\n",
        "\n",
        "    # backward pass to calculate the gradients\n",
        "    loss.backward()\n",
        "\n",
        "    # clip the the gradients to 1.0. It helps in preventing the exploding gradient problem\n",
        "    torch.nn.utils.clip_grad_norm_(model.parameters(), 1.0)\n",
        "\n",
        "    # update parameters\n",
        "    optimizer.step()\n",
        "\n",
        "    # model predictions are stored on GPU. So, push it to CPU\n",
        "    preds=preds.detach().cpu().numpy()\n",
        "\n",
        "    # append the model predictions\n",
        "    total_preds.append(preds)\n",
        "\n",
        "  # compute the training loss of the epoch\n",
        "  avg_loss = total_loss / len(train_dataloader)\n",
        "  \n",
        "  # predictions are in the form of (no. of batches, size of batch, no. of classes).\n",
        "  # reshape the predictions in form of (number of samples, no. of classes)\n",
        "  total_preds  = np.concatenate(total_preds, axis=0)\n",
        "\n",
        "  #returns the loss and predictions\n",
        "  return avg_loss, total_preds"
      ],
      "execution_count": null,
      "outputs": []
    },
    {
      "cell_type": "code",
      "metadata": {
        "id": "yGXovFDlSxB5"
      },
      "source": [
        "# function for evaluating the model\n",
        "def evaluate():\n",
        "  \n",
        "  print(\"\\nEvaluating...\")\n",
        "  \n",
        "  # deactivate dropout layers\n",
        "  model.eval()\n",
        "\n",
        "  total_loss, total_accuracy = 0, 0\n",
        "  \n",
        "  # empty list to save the model predictions\n",
        "  total_preds = []\n",
        "\n",
        "  # iterate over batches\n",
        "  for step,batch in enumerate(val_dataloader):\n",
        "    \n",
        "    # Progress update every 50 batches.\n",
        "    if step % 50 == 0 and not step == 0:\n",
        "      \n",
        "      # Calculate elapsed time in minutes.\n",
        "      elapsed = format_time(time.time() - t0)\n",
        "            \n",
        "      # Report progress.\n",
        "      print('  Batch {:>5,}  of  {:>5,}.'.format(step, len(val_dataloader)))\n",
        "\n",
        "    # push the batch to gpu\n",
        "    batch = [t.to(device) for t in batch]\n",
        "\n",
        "    sent_id, mask, labels = batch\n",
        "\n",
        "    # deactivate autograd\n",
        "    with torch.no_grad():\n",
        "      \n",
        "      # model predictions\n",
        "      preds = model(sent_id, mask)\n",
        "\n",
        "      # compute the validation loss between actual and predicted values\n",
        "      loss = cross_entropy(preds,labels)\n",
        "\n",
        "      total_loss = total_loss + loss.item()\n",
        "\n",
        "      preds = preds.detach().cpu().numpy()\n",
        "\n",
        "      total_preds.append(preds)\n",
        "\n",
        "  # compute the validation loss of the epoch\n",
        "  avg_loss = total_loss / len(val_dataloader) \n",
        "\n",
        "  # reshape the predictions in form of (number of samples, no. of classes)\n",
        "  total_preds  = np.concatenate(total_preds, axis=0)\n",
        "\n",
        "  return avg_loss, total_preds"
      ],
      "execution_count": null,
      "outputs": []
    },
    {
      "cell_type": "markdown",
      "metadata": {
        "id": "9KZEgxRRTLXG"
      },
      "source": [
        "# Start Model Training"
      ]
    },
    {
      "cell_type": "code",
      "metadata": {
        "id": "k1USGTntS3TS",
        "colab": {
          "base_uri": "https://localhost:8080/",
          "height": 1000
        },
        "outputId": "30c4732a-edc5-4080-ad4c-8f21aa5b642d"
      },
      "source": [
        "# set initial loss to infinite\n",
        "best_valid_loss = float('inf')\n",
        "\n",
        "# empty lists to store training and validation loss of each epoch\n",
        "train_losses=[]\n",
        "valid_losses=[]\n",
        "\n",
        "#for each epoch\n",
        "for epoch in range(epochs):\n",
        "     \n",
        "    print('\\n Epoch {:} / {:}'.format(epoch + 1, epochs))\n",
        "    \n",
        "    #train model\n",
        "    train_loss, _ = train()\n",
        "    \n",
        "    #evaluate model\n",
        "    valid_loss, _ = evaluate()\n",
        "    \n",
        "    #save the best model\n",
        "    if valid_loss < best_valid_loss:\n",
        "        best_valid_loss = valid_loss\n",
        "        torch.save(model.state_dict(), 'saved_weights.pt')\n",
        "    \n",
        "    # append training and validation loss\n",
        "    train_losses.append(train_loss)\n",
        "    valid_losses.append(valid_loss)\n",
        "    \n",
        "    print(f'\\nTraining Loss: {train_loss:.3f}')\n",
        "    print(f'Validation Loss: {valid_loss:.3f}')"
      ],
      "execution_count": null,
      "outputs": [
        {
          "output_type": "stream",
          "name": "stdout",
          "text": [
            "\n",
            " Epoch 1 / 50\n",
            "\n",
            "Evaluating...\n",
            "\n",
            "Training Loss: 1.028\n",
            "Validation Loss: 1.756\n",
            "\n",
            " Epoch 2 / 50\n",
            "\n",
            "Evaluating...\n",
            "\n",
            "Training Loss: 0.831\n",
            "Validation Loss: 0.709\n",
            "\n",
            " Epoch 3 / 50\n",
            "\n",
            "Evaluating...\n",
            "\n",
            "Training Loss: 0.708\n",
            "Validation Loss: 0.696\n",
            "\n",
            " Epoch 4 / 50\n",
            "\n",
            "Evaluating...\n",
            "\n",
            "Training Loss: 0.703\n",
            "Validation Loss: 0.693\n",
            "\n",
            " Epoch 5 / 50\n",
            "\n",
            "Evaluating...\n",
            "\n",
            "Training Loss: 0.696\n",
            "Validation Loss: 0.694\n",
            "\n",
            " Epoch 6 / 50\n",
            "\n",
            "Evaluating...\n",
            "\n",
            "Training Loss: 0.696\n",
            "Validation Loss: 0.693\n",
            "\n",
            " Epoch 7 / 50\n",
            "\n",
            "Evaluating...\n",
            "\n",
            "Training Loss: 0.699\n",
            "Validation Loss: 0.700\n",
            "\n",
            " Epoch 8 / 50\n",
            "\n",
            "Evaluating...\n",
            "\n",
            "Training Loss: 0.699\n",
            "Validation Loss: 0.693\n",
            "\n",
            " Epoch 9 / 50\n",
            "\n",
            "Evaluating...\n",
            "\n",
            "Training Loss: 0.700\n",
            "Validation Loss: 0.693\n",
            "\n",
            " Epoch 10 / 50\n",
            "\n",
            "Evaluating...\n",
            "\n",
            "Training Loss: 0.695\n",
            "Validation Loss: 0.693\n",
            "\n",
            " Epoch 11 / 50\n",
            "\n",
            "Evaluating...\n",
            "\n",
            "Training Loss: 0.693\n",
            "Validation Loss: 0.693\n",
            "\n",
            " Epoch 12 / 50\n",
            "\n",
            "Evaluating...\n",
            "\n",
            "Training Loss: 0.693\n",
            "Validation Loss: 0.693\n",
            "\n",
            " Epoch 13 / 50\n",
            "\n",
            "Evaluating...\n",
            "\n",
            "Training Loss: 0.693\n",
            "Validation Loss: 0.693\n",
            "\n",
            " Epoch 14 / 50\n",
            "\n",
            "Evaluating...\n",
            "\n",
            "Training Loss: 0.693\n",
            "Validation Loss: 0.693\n",
            "\n",
            " Epoch 15 / 50\n",
            "\n",
            "Evaluating...\n",
            "\n",
            "Training Loss: 0.693\n",
            "Validation Loss: 0.693\n",
            "\n",
            " Epoch 16 / 50\n",
            "\n",
            "Evaluating...\n",
            "\n",
            "Training Loss: 0.693\n",
            "Validation Loss: 0.693\n",
            "\n",
            " Epoch 17 / 50\n",
            "\n",
            "Evaluating...\n",
            "\n",
            "Training Loss: 0.693\n",
            "Validation Loss: 0.693\n",
            "\n",
            " Epoch 18 / 50\n",
            "\n",
            "Evaluating...\n",
            "\n",
            "Training Loss: 0.693\n",
            "Validation Loss: 0.693\n",
            "\n",
            " Epoch 19 / 50\n",
            "\n",
            "Evaluating...\n",
            "\n",
            "Training Loss: 0.693\n",
            "Validation Loss: 0.693\n",
            "\n",
            " Epoch 20 / 50\n",
            "\n",
            "Evaluating...\n",
            "\n",
            "Training Loss: 0.693\n",
            "Validation Loss: 0.693\n",
            "\n",
            " Epoch 21 / 50\n",
            "\n",
            "Evaluating...\n",
            "\n",
            "Training Loss: 0.693\n",
            "Validation Loss: 0.693\n",
            "\n",
            " Epoch 22 / 50\n",
            "\n",
            "Evaluating...\n",
            "\n",
            "Training Loss: 0.693\n",
            "Validation Loss: 0.693\n",
            "\n",
            " Epoch 23 / 50\n",
            "\n",
            "Evaluating...\n",
            "\n",
            "Training Loss: 0.693\n",
            "Validation Loss: 0.693\n",
            "\n",
            " Epoch 24 / 50\n"
          ]
        },
        {
          "output_type": "error",
          "ename": "KeyboardInterrupt",
          "evalue": "ignored",
          "traceback": [
            "\u001b[0;31m---------------------------------------------------------------------------\u001b[0m",
            "\u001b[0;31mKeyboardInterrupt\u001b[0m                         Traceback (most recent call last)",
            "\u001b[0;32m<ipython-input-97-c5138ddf6b25>\u001b[0m in \u001b[0;36m<module>\u001b[0;34m()\u001b[0m\n\u001b[1;32m     12\u001b[0m \u001b[0;34m\u001b[0m\u001b[0m\n\u001b[1;32m     13\u001b[0m     \u001b[0;31m#train model\u001b[0m\u001b[0;34m\u001b[0m\u001b[0;34m\u001b[0m\u001b[0;34m\u001b[0m\u001b[0m\n\u001b[0;32m---> 14\u001b[0;31m     \u001b[0mtrain_loss\u001b[0m\u001b[0;34m,\u001b[0m \u001b[0m_\u001b[0m \u001b[0;34m=\u001b[0m \u001b[0mtrain\u001b[0m\u001b[0;34m(\u001b[0m\u001b[0;34m)\u001b[0m\u001b[0;34m\u001b[0m\u001b[0;34m\u001b[0m\u001b[0m\n\u001b[0m\u001b[1;32m     15\u001b[0m \u001b[0;34m\u001b[0m\u001b[0m\n\u001b[1;32m     16\u001b[0m     \u001b[0;31m#evaluate model\u001b[0m\u001b[0;34m\u001b[0m\u001b[0;34m\u001b[0m\u001b[0;34m\u001b[0m\u001b[0m\n",
            "\u001b[0;32m<ipython-input-95-a8875e82e2a3>\u001b[0m in \u001b[0;36mtrain\u001b[0;34m()\u001b[0m\n\u001b[1;32m     25\u001b[0m \u001b[0;34m\u001b[0m\u001b[0m\n\u001b[1;32m     26\u001b[0m     \u001b[0;31m# get model predictions for the current batch\u001b[0m\u001b[0;34m\u001b[0m\u001b[0;34m\u001b[0m\u001b[0;34m\u001b[0m\u001b[0m\n\u001b[0;32m---> 27\u001b[0;31m     \u001b[0mpreds\u001b[0m \u001b[0;34m=\u001b[0m \u001b[0mmodel\u001b[0m\u001b[0;34m(\u001b[0m\u001b[0msent_id\u001b[0m\u001b[0;34m,\u001b[0m \u001b[0mmask\u001b[0m\u001b[0;34m)\u001b[0m\u001b[0;34m\u001b[0m\u001b[0;34m\u001b[0m\u001b[0m\n\u001b[0m\u001b[1;32m     28\u001b[0m \u001b[0;34m\u001b[0m\u001b[0m\n\u001b[1;32m     29\u001b[0m     \u001b[0;31m# compute the loss between actual and predicted values\u001b[0m\u001b[0;34m\u001b[0m\u001b[0;34m\u001b[0m\u001b[0;34m\u001b[0m\u001b[0m\n",
            "\u001b[0;32m/usr/local/lib/python3.7/dist-packages/torch/nn/modules/module.py\u001b[0m in \u001b[0;36m_call_impl\u001b[0;34m(self, *input, **kwargs)\u001b[0m\n\u001b[1;32m   1100\u001b[0m         if not (self._backward_hooks or self._forward_hooks or self._forward_pre_hooks or _global_backward_hooks\n\u001b[1;32m   1101\u001b[0m                 or _global_forward_hooks or _global_forward_pre_hooks):\n\u001b[0;32m-> 1102\u001b[0;31m             \u001b[0;32mreturn\u001b[0m \u001b[0mforward_call\u001b[0m\u001b[0;34m(\u001b[0m\u001b[0;34m*\u001b[0m\u001b[0minput\u001b[0m\u001b[0;34m,\u001b[0m \u001b[0;34m**\u001b[0m\u001b[0mkwargs\u001b[0m\u001b[0;34m)\u001b[0m\u001b[0;34m\u001b[0m\u001b[0;34m\u001b[0m\u001b[0m\n\u001b[0m\u001b[1;32m   1103\u001b[0m         \u001b[0;31m# Do not call functions when jit is used\u001b[0m\u001b[0;34m\u001b[0m\u001b[0;34m\u001b[0m\u001b[0;34m\u001b[0m\u001b[0m\n\u001b[1;32m   1104\u001b[0m         \u001b[0mfull_backward_hooks\u001b[0m\u001b[0;34m,\u001b[0m \u001b[0mnon_full_backward_hooks\u001b[0m \u001b[0;34m=\u001b[0m \u001b[0;34m[\u001b[0m\u001b[0;34m]\u001b[0m\u001b[0;34m,\u001b[0m \u001b[0;34m[\u001b[0m\u001b[0;34m]\u001b[0m\u001b[0;34m\u001b[0m\u001b[0;34m\u001b[0m\u001b[0m\n",
            "\u001b[0;32m<ipython-input-91-44bf1b208aa5>\u001b[0m in \u001b[0;36mforward\u001b[0;34m(self, sent_id, mask)\u001b[0m\n\u001b[1;32m     26\u001b[0m \u001b[0;34m\u001b[0m\u001b[0m\n\u001b[1;32m     27\u001b[0m       \u001b[0;31m#pass the inputs to the model\u001b[0m\u001b[0;34m\u001b[0m\u001b[0;34m\u001b[0m\u001b[0;34m\u001b[0m\u001b[0m\n\u001b[0;32m---> 28\u001b[0;31m       \u001b[0m_\u001b[0m\u001b[0;34m,\u001b[0m \u001b[0mcls_hs\u001b[0m \u001b[0;34m=\u001b[0m \u001b[0mself\u001b[0m\u001b[0;34m.\u001b[0m\u001b[0mbert\u001b[0m\u001b[0;34m(\u001b[0m\u001b[0msent_id\u001b[0m\u001b[0;34m,\u001b[0m \u001b[0mattention_mask\u001b[0m\u001b[0;34m=\u001b[0m\u001b[0mmask\u001b[0m\u001b[0;34m,\u001b[0m\u001b[0mreturn_dict\u001b[0m\u001b[0;34m=\u001b[0m\u001b[0;32mFalse\u001b[0m\u001b[0;34m)\u001b[0m\u001b[0;34m\u001b[0m\u001b[0;34m\u001b[0m\u001b[0m\n\u001b[0m\u001b[1;32m     29\u001b[0m \u001b[0;34m\u001b[0m\u001b[0m\n\u001b[1;32m     30\u001b[0m       \u001b[0mx\u001b[0m \u001b[0;34m=\u001b[0m \u001b[0mself\u001b[0m\u001b[0;34m.\u001b[0m\u001b[0mfc1\u001b[0m\u001b[0;34m(\u001b[0m\u001b[0mcls_hs\u001b[0m\u001b[0;34m)\u001b[0m\u001b[0;34m\u001b[0m\u001b[0;34m\u001b[0m\u001b[0m\n",
            "\u001b[0;32m/usr/local/lib/python3.7/dist-packages/torch/nn/modules/module.py\u001b[0m in \u001b[0;36m_call_impl\u001b[0;34m(self, *input, **kwargs)\u001b[0m\n\u001b[1;32m   1100\u001b[0m         if not (self._backward_hooks or self._forward_hooks or self._forward_pre_hooks or _global_backward_hooks\n\u001b[1;32m   1101\u001b[0m                 or _global_forward_hooks or _global_forward_pre_hooks):\n\u001b[0;32m-> 1102\u001b[0;31m             \u001b[0;32mreturn\u001b[0m \u001b[0mforward_call\u001b[0m\u001b[0;34m(\u001b[0m\u001b[0;34m*\u001b[0m\u001b[0minput\u001b[0m\u001b[0;34m,\u001b[0m \u001b[0;34m**\u001b[0m\u001b[0mkwargs\u001b[0m\u001b[0;34m)\u001b[0m\u001b[0;34m\u001b[0m\u001b[0;34m\u001b[0m\u001b[0m\n\u001b[0m\u001b[1;32m   1103\u001b[0m         \u001b[0;31m# Do not call functions when jit is used\u001b[0m\u001b[0;34m\u001b[0m\u001b[0;34m\u001b[0m\u001b[0;34m\u001b[0m\u001b[0m\n\u001b[1;32m   1104\u001b[0m         \u001b[0mfull_backward_hooks\u001b[0m\u001b[0;34m,\u001b[0m \u001b[0mnon_full_backward_hooks\u001b[0m \u001b[0;34m=\u001b[0m \u001b[0;34m[\u001b[0m\u001b[0;34m]\u001b[0m\u001b[0;34m,\u001b[0m \u001b[0;34m[\u001b[0m\u001b[0;34m]\u001b[0m\u001b[0;34m\u001b[0m\u001b[0;34m\u001b[0m\u001b[0m\n",
            "\u001b[0;32m/usr/local/lib/python3.7/dist-packages/transformers/models/bert/modeling_bert.py\u001b[0m in \u001b[0;36mforward\u001b[0;34m(self, input_ids, attention_mask, token_type_ids, position_ids, head_mask, inputs_embeds, encoder_hidden_states, encoder_attention_mask, past_key_values, use_cache, output_attentions, output_hidden_states, return_dict)\u001b[0m\n\u001b[1;32m   1007\u001b[0m             \u001b[0moutput_attentions\u001b[0m\u001b[0;34m=\u001b[0m\u001b[0moutput_attentions\u001b[0m\u001b[0;34m,\u001b[0m\u001b[0;34m\u001b[0m\u001b[0;34m\u001b[0m\u001b[0m\n\u001b[1;32m   1008\u001b[0m             \u001b[0moutput_hidden_states\u001b[0m\u001b[0;34m=\u001b[0m\u001b[0moutput_hidden_states\u001b[0m\u001b[0;34m,\u001b[0m\u001b[0;34m\u001b[0m\u001b[0;34m\u001b[0m\u001b[0m\n\u001b[0;32m-> 1009\u001b[0;31m             \u001b[0mreturn_dict\u001b[0m\u001b[0;34m=\u001b[0m\u001b[0mreturn_dict\u001b[0m\u001b[0;34m,\u001b[0m\u001b[0;34m\u001b[0m\u001b[0;34m\u001b[0m\u001b[0m\n\u001b[0m\u001b[1;32m   1010\u001b[0m         )\n\u001b[1;32m   1011\u001b[0m         \u001b[0msequence_output\u001b[0m \u001b[0;34m=\u001b[0m \u001b[0mencoder_outputs\u001b[0m\u001b[0;34m[\u001b[0m\u001b[0;36m0\u001b[0m\u001b[0;34m]\u001b[0m\u001b[0;34m\u001b[0m\u001b[0;34m\u001b[0m\u001b[0m\n",
            "\u001b[0;32m/usr/local/lib/python3.7/dist-packages/torch/nn/modules/module.py\u001b[0m in \u001b[0;36m_call_impl\u001b[0;34m(self, *input, **kwargs)\u001b[0m\n\u001b[1;32m   1100\u001b[0m         if not (self._backward_hooks or self._forward_hooks or self._forward_pre_hooks or _global_backward_hooks\n\u001b[1;32m   1101\u001b[0m                 or _global_forward_hooks or _global_forward_pre_hooks):\n\u001b[0;32m-> 1102\u001b[0;31m             \u001b[0;32mreturn\u001b[0m \u001b[0mforward_call\u001b[0m\u001b[0;34m(\u001b[0m\u001b[0;34m*\u001b[0m\u001b[0minput\u001b[0m\u001b[0;34m,\u001b[0m \u001b[0;34m**\u001b[0m\u001b[0mkwargs\u001b[0m\u001b[0;34m)\u001b[0m\u001b[0;34m\u001b[0m\u001b[0;34m\u001b[0m\u001b[0m\n\u001b[0m\u001b[1;32m   1103\u001b[0m         \u001b[0;31m# Do not call functions when jit is used\u001b[0m\u001b[0;34m\u001b[0m\u001b[0;34m\u001b[0m\u001b[0;34m\u001b[0m\u001b[0m\n\u001b[1;32m   1104\u001b[0m         \u001b[0mfull_backward_hooks\u001b[0m\u001b[0;34m,\u001b[0m \u001b[0mnon_full_backward_hooks\u001b[0m \u001b[0;34m=\u001b[0m \u001b[0;34m[\u001b[0m\u001b[0;34m]\u001b[0m\u001b[0;34m,\u001b[0m \u001b[0;34m[\u001b[0m\u001b[0;34m]\u001b[0m\u001b[0;34m\u001b[0m\u001b[0;34m\u001b[0m\u001b[0m\n",
            "\u001b[0;32m/usr/local/lib/python3.7/dist-packages/transformers/models/bert/modeling_bert.py\u001b[0m in \u001b[0;36mforward\u001b[0;34m(self, hidden_states, attention_mask, head_mask, encoder_hidden_states, encoder_attention_mask, past_key_values, use_cache, output_attentions, output_hidden_states, return_dict)\u001b[0m\n\u001b[1;32m    590\u001b[0m                     \u001b[0mencoder_attention_mask\u001b[0m\u001b[0;34m,\u001b[0m\u001b[0;34m\u001b[0m\u001b[0;34m\u001b[0m\u001b[0m\n\u001b[1;32m    591\u001b[0m                     \u001b[0mpast_key_value\u001b[0m\u001b[0;34m,\u001b[0m\u001b[0;34m\u001b[0m\u001b[0;34m\u001b[0m\u001b[0m\n\u001b[0;32m--> 592\u001b[0;31m                     \u001b[0moutput_attentions\u001b[0m\u001b[0;34m,\u001b[0m\u001b[0;34m\u001b[0m\u001b[0;34m\u001b[0m\u001b[0m\n\u001b[0m\u001b[1;32m    593\u001b[0m                 )\n\u001b[1;32m    594\u001b[0m \u001b[0;34m\u001b[0m\u001b[0m\n",
            "\u001b[0;32m/usr/local/lib/python3.7/dist-packages/torch/nn/modules/module.py\u001b[0m in \u001b[0;36m_call_impl\u001b[0;34m(self, *input, **kwargs)\u001b[0m\n\u001b[1;32m   1100\u001b[0m         if not (self._backward_hooks or self._forward_hooks or self._forward_pre_hooks or _global_backward_hooks\n\u001b[1;32m   1101\u001b[0m                 or _global_forward_hooks or _global_forward_pre_hooks):\n\u001b[0;32m-> 1102\u001b[0;31m             \u001b[0;32mreturn\u001b[0m \u001b[0mforward_call\u001b[0m\u001b[0;34m(\u001b[0m\u001b[0;34m*\u001b[0m\u001b[0minput\u001b[0m\u001b[0;34m,\u001b[0m \u001b[0;34m**\u001b[0m\u001b[0mkwargs\u001b[0m\u001b[0;34m)\u001b[0m\u001b[0;34m\u001b[0m\u001b[0;34m\u001b[0m\u001b[0m\n\u001b[0m\u001b[1;32m   1103\u001b[0m         \u001b[0;31m# Do not call functions when jit is used\u001b[0m\u001b[0;34m\u001b[0m\u001b[0;34m\u001b[0m\u001b[0;34m\u001b[0m\u001b[0m\n\u001b[1;32m   1104\u001b[0m         \u001b[0mfull_backward_hooks\u001b[0m\u001b[0;34m,\u001b[0m \u001b[0mnon_full_backward_hooks\u001b[0m \u001b[0;34m=\u001b[0m \u001b[0;34m[\u001b[0m\u001b[0;34m]\u001b[0m\u001b[0;34m,\u001b[0m \u001b[0;34m[\u001b[0m\u001b[0;34m]\u001b[0m\u001b[0;34m\u001b[0m\u001b[0;34m\u001b[0m\u001b[0m\n",
            "\u001b[0;32m/usr/local/lib/python3.7/dist-packages/transformers/models/bert/modeling_bert.py\u001b[0m in \u001b[0;36mforward\u001b[0;34m(self, hidden_states, attention_mask, head_mask, encoder_hidden_states, encoder_attention_mask, past_key_value, output_attentions)\u001b[0m\n\u001b[1;32m    475\u001b[0m             \u001b[0mhead_mask\u001b[0m\u001b[0;34m,\u001b[0m\u001b[0;34m\u001b[0m\u001b[0;34m\u001b[0m\u001b[0m\n\u001b[1;32m    476\u001b[0m             \u001b[0moutput_attentions\u001b[0m\u001b[0;34m=\u001b[0m\u001b[0moutput_attentions\u001b[0m\u001b[0;34m,\u001b[0m\u001b[0;34m\u001b[0m\u001b[0;34m\u001b[0m\u001b[0m\n\u001b[0;32m--> 477\u001b[0;31m             \u001b[0mpast_key_value\u001b[0m\u001b[0;34m=\u001b[0m\u001b[0mself_attn_past_key_value\u001b[0m\u001b[0;34m,\u001b[0m\u001b[0;34m\u001b[0m\u001b[0;34m\u001b[0m\u001b[0m\n\u001b[0m\u001b[1;32m    478\u001b[0m         )\n\u001b[1;32m    479\u001b[0m         \u001b[0mattention_output\u001b[0m \u001b[0;34m=\u001b[0m \u001b[0mself_attention_outputs\u001b[0m\u001b[0;34m[\u001b[0m\u001b[0;36m0\u001b[0m\u001b[0;34m]\u001b[0m\u001b[0;34m\u001b[0m\u001b[0;34m\u001b[0m\u001b[0m\n",
            "\u001b[0;32m/usr/local/lib/python3.7/dist-packages/torch/nn/modules/module.py\u001b[0m in \u001b[0;36m_call_impl\u001b[0;34m(self, *input, **kwargs)\u001b[0m\n\u001b[1;32m   1100\u001b[0m         if not (self._backward_hooks or self._forward_hooks or self._forward_pre_hooks or _global_backward_hooks\n\u001b[1;32m   1101\u001b[0m                 or _global_forward_hooks or _global_forward_pre_hooks):\n\u001b[0;32m-> 1102\u001b[0;31m             \u001b[0;32mreturn\u001b[0m \u001b[0mforward_call\u001b[0m\u001b[0;34m(\u001b[0m\u001b[0;34m*\u001b[0m\u001b[0minput\u001b[0m\u001b[0;34m,\u001b[0m \u001b[0;34m**\u001b[0m\u001b[0mkwargs\u001b[0m\u001b[0;34m)\u001b[0m\u001b[0;34m\u001b[0m\u001b[0;34m\u001b[0m\u001b[0m\n\u001b[0m\u001b[1;32m   1103\u001b[0m         \u001b[0;31m# Do not call functions when jit is used\u001b[0m\u001b[0;34m\u001b[0m\u001b[0;34m\u001b[0m\u001b[0;34m\u001b[0m\u001b[0m\n\u001b[1;32m   1104\u001b[0m         \u001b[0mfull_backward_hooks\u001b[0m\u001b[0;34m,\u001b[0m \u001b[0mnon_full_backward_hooks\u001b[0m \u001b[0;34m=\u001b[0m \u001b[0;34m[\u001b[0m\u001b[0;34m]\u001b[0m\u001b[0;34m,\u001b[0m \u001b[0;34m[\u001b[0m\u001b[0;34m]\u001b[0m\u001b[0;34m\u001b[0m\u001b[0;34m\u001b[0m\u001b[0m\n",
            "\u001b[0;32m/usr/local/lib/python3.7/dist-packages/transformers/models/bert/modeling_bert.py\u001b[0m in \u001b[0;36mforward\u001b[0;34m(self, hidden_states, attention_mask, head_mask, encoder_hidden_states, encoder_attention_mask, past_key_value, output_attentions)\u001b[0m\n\u001b[1;32m    407\u001b[0m             \u001b[0mencoder_attention_mask\u001b[0m\u001b[0;34m,\u001b[0m\u001b[0;34m\u001b[0m\u001b[0;34m\u001b[0m\u001b[0m\n\u001b[1;32m    408\u001b[0m             \u001b[0mpast_key_value\u001b[0m\u001b[0;34m,\u001b[0m\u001b[0;34m\u001b[0m\u001b[0;34m\u001b[0m\u001b[0m\n\u001b[0;32m--> 409\u001b[0;31m             \u001b[0moutput_attentions\u001b[0m\u001b[0;34m,\u001b[0m\u001b[0;34m\u001b[0m\u001b[0;34m\u001b[0m\u001b[0m\n\u001b[0m\u001b[1;32m    410\u001b[0m         )\n\u001b[1;32m    411\u001b[0m         \u001b[0mattention_output\u001b[0m \u001b[0;34m=\u001b[0m \u001b[0mself\u001b[0m\u001b[0;34m.\u001b[0m\u001b[0moutput\u001b[0m\u001b[0;34m(\u001b[0m\u001b[0mself_outputs\u001b[0m\u001b[0;34m[\u001b[0m\u001b[0;36m0\u001b[0m\u001b[0;34m]\u001b[0m\u001b[0;34m,\u001b[0m \u001b[0mhidden_states\u001b[0m\u001b[0;34m)\u001b[0m\u001b[0;34m\u001b[0m\u001b[0;34m\u001b[0m\u001b[0m\n",
            "\u001b[0;32m/usr/local/lib/python3.7/dist-packages/torch/nn/modules/module.py\u001b[0m in \u001b[0;36m_call_impl\u001b[0;34m(self, *input, **kwargs)\u001b[0m\n\u001b[1;32m   1100\u001b[0m         if not (self._backward_hooks or self._forward_hooks or self._forward_pre_hooks or _global_backward_hooks\n\u001b[1;32m   1101\u001b[0m                 or _global_forward_hooks or _global_forward_pre_hooks):\n\u001b[0;32m-> 1102\u001b[0;31m             \u001b[0;32mreturn\u001b[0m \u001b[0mforward_call\u001b[0m\u001b[0;34m(\u001b[0m\u001b[0;34m*\u001b[0m\u001b[0minput\u001b[0m\u001b[0;34m,\u001b[0m \u001b[0;34m**\u001b[0m\u001b[0mkwargs\u001b[0m\u001b[0;34m)\u001b[0m\u001b[0;34m\u001b[0m\u001b[0;34m\u001b[0m\u001b[0m\n\u001b[0m\u001b[1;32m   1103\u001b[0m         \u001b[0;31m# Do not call functions when jit is used\u001b[0m\u001b[0;34m\u001b[0m\u001b[0;34m\u001b[0m\u001b[0;34m\u001b[0m\u001b[0m\n\u001b[1;32m   1104\u001b[0m         \u001b[0mfull_backward_hooks\u001b[0m\u001b[0;34m,\u001b[0m \u001b[0mnon_full_backward_hooks\u001b[0m \u001b[0;34m=\u001b[0m \u001b[0;34m[\u001b[0m\u001b[0;34m]\u001b[0m\u001b[0;34m,\u001b[0m \u001b[0;34m[\u001b[0m\u001b[0;34m]\u001b[0m\u001b[0;34m\u001b[0m\u001b[0;34m\u001b[0m\u001b[0m\n",
            "\u001b[0;32m/usr/local/lib/python3.7/dist-packages/transformers/models/bert/modeling_bert.py\u001b[0m in \u001b[0;36mforward\u001b[0;34m(self, hidden_states, attention_mask, head_mask, encoder_hidden_states, encoder_attention_mask, past_key_value, output_attentions)\u001b[0m\n\u001b[1;32m    304\u001b[0m \u001b[0;34m\u001b[0m\u001b[0m\n\u001b[1;32m    305\u001b[0m         \u001b[0;31m# Take the dot product between \"query\" and \"key\" to get the raw attention scores.\u001b[0m\u001b[0;34m\u001b[0m\u001b[0;34m\u001b[0m\u001b[0;34m\u001b[0m\u001b[0m\n\u001b[0;32m--> 306\u001b[0;31m         \u001b[0mattention_scores\u001b[0m \u001b[0;34m=\u001b[0m \u001b[0mtorch\u001b[0m\u001b[0;34m.\u001b[0m\u001b[0mmatmul\u001b[0m\u001b[0;34m(\u001b[0m\u001b[0mquery_layer\u001b[0m\u001b[0;34m,\u001b[0m \u001b[0mkey_layer\u001b[0m\u001b[0;34m.\u001b[0m\u001b[0mtranspose\u001b[0m\u001b[0;34m(\u001b[0m\u001b[0;34m-\u001b[0m\u001b[0;36m1\u001b[0m\u001b[0;34m,\u001b[0m \u001b[0;34m-\u001b[0m\u001b[0;36m2\u001b[0m\u001b[0;34m)\u001b[0m\u001b[0;34m)\u001b[0m\u001b[0;34m\u001b[0m\u001b[0;34m\u001b[0m\u001b[0m\n\u001b[0m\u001b[1;32m    307\u001b[0m \u001b[0;34m\u001b[0m\u001b[0m\n\u001b[1;32m    308\u001b[0m         \u001b[0;32mif\u001b[0m \u001b[0mself\u001b[0m\u001b[0;34m.\u001b[0m\u001b[0mposition_embedding_type\u001b[0m \u001b[0;34m==\u001b[0m \u001b[0;34m\"relative_key\"\u001b[0m \u001b[0;32mor\u001b[0m \u001b[0mself\u001b[0m\u001b[0;34m.\u001b[0m\u001b[0mposition_embedding_type\u001b[0m \u001b[0;34m==\u001b[0m \u001b[0;34m\"relative_key_query\"\u001b[0m\u001b[0;34m:\u001b[0m\u001b[0;34m\u001b[0m\u001b[0;34m\u001b[0m\u001b[0m\n",
            "\u001b[0;31mKeyboardInterrupt\u001b[0m: "
          ]
        }
      ]
    },
    {
      "cell_type": "code",
      "metadata": {
        "colab": {
          "base_uri": "https://localhost:8080/",
          "height": 376
        },
        "id": "_5uO61j6Uiqy",
        "outputId": "6782b59a-7aeb-4dc3-e5e1-6fa90a823ff5"
      },
      "source": [
        "import matplotlib.pyplot as plt\n",
        "# summarize history for accuracy\n",
        "plt.plot(train_losses)\n",
        "plt.plot(valid_losses)\n",
        "plt.title('BERT base model: Training and Validation loss')\n",
        "plt.ylabel('loss')\n",
        "plt.xlabel('epoch')\n",
        "plt.legend(['train_loss', 'validation_loss'], loc='upper right')\n",
        "plt.show()\n"
      ],
      "execution_count": null,
      "outputs": [
        {
          "output_type": "display_data",
          "data": {
            "image/png": "[encoded data removed]",
            "text/plain": [
              "<Figure size 576x396 with 1 Axes>"
            ]
          },
          "metadata": {}
        }
      ]
    },
    {
      "cell_type": "code",
      "source": [
        "plt.savefig(\"Bertbase_loss.png\")"
      ],
      "metadata": {
        "colab": {
          "base_uri": "https://localhost:8080/",
          "height": 35
        },
        "id": "n2OocyTnPqWf",
        "outputId": "7a91aef8-2a06-453d-ead2-950a70708267"
      },
      "execution_count": null,
      "outputs": [
        {
          "output_type": "display_data",
          "data": {
            "text/plain": [
              "<Figure size 576x396 with 0 Axes>"
            ]
          },
          "metadata": {}
        }
      ]
    },
    {
      "cell_type": "markdown",
      "source": [
        ""
      ],
      "metadata": {
        "id": "v_YyuySqNqgL"
      }
    },
    {
      "cell_type": "markdown",
      "metadata": {
        "id": "_yrhUc9kTI5a"
      },
      "source": [
        "# Load Saved Model"
      ]
    },
    {
      "cell_type": "code",
      "metadata": {
        "id": "OacxUyizS8d1",
        "colab": {
          "base_uri": "https://localhost:8080/"
        },
        "outputId": "d31369aa-d865-4a0f-8c1b-b5dd64960108"
      },
      "source": [
        "#load weights of best model\n",
        "model_path = 'saved_weights.pt'\n",
        "model.load_state_dict(torch.load(model_path))"
      ],
      "execution_count": null,
      "outputs": [
        {
          "output_type": "execute_result",
          "data": {
            "text/plain": [
              "<All keys matched successfully>"
            ]
          },
          "metadata": {},
          "execution_count": 95
        }
      ]
    },
    {
      "cell_type": "markdown",
      "metadata": {
        "id": "x4SVftkkTZXA"
      },
      "source": [
        "# Get Predictions for Test Data"
      ]
    },
    {
      "cell_type": "code",
      "metadata": {
        "id": "NZl0SZmFTRQA"
      },
      "source": [
        "# get predictions for test data\n",
        "with torch.no_grad():\n",
        "  preds = model(test_seq.to(device), test_mask.to(device))\n",
        "  preds = preds.detach().cpu().numpy()"
      ],
      "execution_count": null,
      "outputs": []
    },
    {
      "cell_type": "code",
      "metadata": {
        "id": "3jajzDRazY0-"
      },
      "source": [
        "print(preds)"
      ],
      "execution_count": null,
      "outputs": []
    },
    {
      "cell_type": "code",
      "metadata": {
        "id": "ePqcyykh02aW",
        "colab": {
          "base_uri": "https://localhost:8080/"
        },
        "outputId": "7206e133-e09a-40f4-f50a-05d2b84bceac"
      },
      "source": [
        "import numpy as np\n",
        "y_predicted=np.argmax(preds,axis=1)\n",
        "#y_predicted = np.where(y_predicted > 0.5, 1, 0)\n",
        "y_predicted"
      ],
      "execution_count": null,
      "outputs": [
        {
          "output_type": "execute_result",
          "data": {
            "text/plain": [
              "array([1, 0, 0, 0, 1, 0, 0, 0, 1, 1, 1, 1, 0, 0, 1, 1, 0, 1, 0, 1, 0, 0,\n",
              "       1, 1, 0, 1, 1, 1, 1, 0, 1, 1, 0, 0, 1, 0, 1, 1, 1, 1, 1, 0, 1, 1,\n",
              "       1, 1, 1, 0, 0, 0, 1, 0, 1, 0, 0, 0, 0, 0, 1, 1, 0, 0, 0, 0, 1, 1,\n",
              "       1, 1, 1, 1, 1, 0, 1, 0, 1, 1, 1, 1, 1, 1, 1, 0, 0, 0, 1, 0, 0, 0,\n",
              "       1, 1, 1, 1, 1, 1, 1, 0, 0, 0, 1, 1, 1, 1, 0, 0, 1, 1, 0, 0, 1, 0,\n",
              "       0, 0, 1, 0, 0, 0, 0, 1, 1, 0, 1, 0, 0, 1, 0, 0, 1, 0, 1, 0, 0, 0,\n",
              "       1, 1, 0])"
            ]
          },
          "metadata": {},
          "execution_count": 98
        }
      ]
    },
    {
      "cell_type": "markdown",
      "metadata": {
        "id": "kg43li0Qy1-9"
      },
      "source": [
        "#AUC Curve"
      ]
    },
    {
      "cell_type": "code",
      "metadata": {
        "colab": {
          "base_uri": "https://localhost:8080/"
        },
        "id": "3HQLWIRxmzgj",
        "outputId": "eba03299-7b4e-4ea9-b51f-a1c177bd79f1"
      },
      "source": [
        "from sklearn import metrics\n",
        "# roc curve for models\n",
        "targets=test_y\n",
        "base_fpr1, base_tpr1, base_thresh1 = metrics.roc_curve(targets, preds[:,1], pos_label=1)\n",
        " \n",
        "random_probs = [0 for i in range(len(targets))]\n",
        "p_fpr, p_tpr, _ = metrics.roc_curve(targets, random_probs, pos_label=1)\n",
        "auc_score1_base = metrics.roc_auc_score(targets, preds[:,1])\n",
        "#auc_score2 = roc_auc_score(y_test, pred_prob2[:,1])\n",
        "\n",
        "print(auc_score1_base)"
      ],
      "execution_count": null,
      "outputs": [
        {
          "output_type": "stream",
          "name": "stdout",
          "text": [
            "0.9802458296751536\n"
          ]
        }
      ]
    },
    {
      "cell_type": "code",
      "metadata": {
        "colab": {
          "base_uri": "https://localhost:8080/",
          "height": 376
        },
        "id": "qpYK6hJ4k6Kb",
        "outputId": "14249b08-1f9b-4214-92e2-a7c66d1f9ed1"
      },
      "source": [
        "#ROC AUC curve\n",
        "# matplotlib\n",
        "import matplotlib.pyplot as plt\n",
        "plt.style.use('seaborn')\n",
        "\n",
        "# plot roc curves\n",
        "plt.plot(base_fpr1, base_tpr1, linestyle='--',color='orange', label='BERT_base('+str(auc_score1_base.round(2))+')')\n",
        "plt.plot(dist_fpr1, dist_tpr1, linestyle='--',color='green', label='Dist_BERT('+str(auc_score1_dist.round(2))+')')\n",
        "plt.plot(umlfit_fpr,umlfit_tpr,linestyle='--',color='red', label='UMLFiT('+str(auc_umlfit.round(2))+')')\n",
        "#plt.plot(fpr2, tpr2, linestyle='--',color='green', label='KNN')\n",
        "plt.plot(p_fpr, p_tpr, linestyle='--', color='blue')\n",
        "# title\n",
        "plt.title('ROC curve')\n",
        "# x label\n",
        "plt.xlabel('False Positive Rate')\n",
        "# y label\n",
        "plt.ylabel('True Positive rate')\n",
        "\n",
        "plt.legend(loc='best')\n",
        "plt.savefig('ROC',dpi=300)\n",
        "plt.show();"
      ],
      "execution_count": null,
      "outputs": [
        {
          "output_type": "display_data",
          "data": {
            "image/png": "[encoded data removed]",
            "text/plain": [
              "<Figure size 576x396 with 1 Axes>"
            ]
          },
          "metadata": {}
        }
      ]
    },
    {
      "cell_type": "code",
      "metadata": {
        "id": "Ms1ObHZxTYSI",
        "colab": {
          "base_uri": "https://localhost:8080/"
        },
        "outputId": "b2e7de55-2982-4b00-c3f1-50f5049978ab"
      },
      "source": [
        "# model's performance\n",
        "preds = np.argmax(preds, axis = 1)\n",
        "print(classification_report(test_y, preds))"
      ],
      "execution_count": null,
      "outputs": [
        {
          "output_type": "stream",
          "name": "stdout",
          "text": [
            "              precision    recall  f1-score   support\n",
            "\n",
            "           0       0.95      0.88      0.92        68\n",
            "           1       0.89      0.96      0.92        67\n",
            "\n",
            "    accuracy                           0.92       135\n",
            "   macro avg       0.92      0.92      0.92       135\n",
            "weighted avg       0.92      0.92      0.92       135\n",
            "\n"
          ]
        }
      ]
    },
    {
      "cell_type": "code",
      "metadata": {
        "id": "RNynFFbmaS3L"
      },
      "source": [
        "report = classification_report(y_test, y_pred, output_dict=True)\n",
        "df = pandas.DataFrame(report).transpose()\n",
        "#From here on, you are free to use the standard pandas methods to generate your desired output formats (CSV, HTML, LaTeX, ...)."
      ],
      "execution_count": null,
      "outputs": []
    },
    {
      "cell_type": "code",
      "metadata": {
        "id": "YqzLS7rHTp4T",
        "colab": {
          "base_uri": "https://localhost:8080/",
          "height": 143
        },
        "outputId": "a9e210ee-8485-4fe9-bc1d-17865aefe9a1"
      },
      "source": [
        "# confusion matrix\n",
        "cm=pd.crosstab(test_y, preds)\n",
        "cm"
      ],
      "execution_count": null,
      "outputs": [
        {
          "output_type": "execute_result",
          "data": {
            "text/html": [
              "<div>\n",
              "<style scoped>\n",
              "    .dataframe tbody tr th:only-of-type {\n",
              "        vertical-align: middle;\n",
              "    }\n",
              "\n",
              "    .dataframe tbody tr th {\n",
              "        vertical-align: top;\n",
              "    }\n",
              "\n",
              "    .dataframe thead th {\n",
              "        text-align: right;\n",
              "    }\n",
              "</style>\n",
              "<table border=\"1\" class=\"dataframe\">\n",
              "  <thead>\n",
              "    <tr style=\"text-align: right;\">\n",
              "      <th>col_0</th>\n",
              "      <th>0</th>\n",
              "      <th>1</th>\n",
              "    </tr>\n",
              "    <tr>\n",
              "      <th>row_0</th>\n",
              "      <th></th>\n",
              "      <th></th>\n",
              "    </tr>\n",
              "  </thead>\n",
              "  <tbody>\n",
              "    <tr>\n",
              "      <th>0</th>\n",
              "      <td>60</td>\n",
              "      <td>8</td>\n",
              "    </tr>\n",
              "    <tr>\n",
              "      <th>1</th>\n",
              "      <td>3</td>\n",
              "      <td>64</td>\n",
              "    </tr>\n",
              "  </tbody>\n",
              "</table>\n",
              "</div>"
            ],
            "text/plain": [
              "col_0   0   1\n",
              "row_0        \n",
              "0      60   8\n",
              "1       3  64"
            ]
          },
          "metadata": {},
          "execution_count": 150
        }
      ]
    },
    {
      "cell_type": "code",
      "metadata": {
        "colab": {
          "base_uri": "https://localhost:8080/",
          "height": 361
        },
        "id": "lwdMEDEzjLhL",
        "outputId": "cc95a9f8-7888-4eb8-ed90-1e8a70a123bf"
      },
      "source": [
        "from matplotlib import pyplot as plt\n",
        "import seaborn as sn\n",
        "sn.heatmap(cm, annot=True, fmt='d')\n",
        "plt.xlabel('Predicted')\n",
        "plt.ylabel('Truth')\n",
        "plt.savefig('confusion.png')"
      ],
      "execution_count": null,
      "outputs": [
        {
          "output_type": "display_data",
          "data": {
            "image/png": "[encoded data removed]",
            "text/plain": [
              "<Figure size 576x396 with 2 Axes>"
            ]
          },
          "metadata": {}
        }
      ]
    },
    {
      "cell_type": "code",
      "metadata": {
        "colab": {
          "base_uri": "https://localhost:8080/",
          "height": 35
        },
        "id": "m4xBneQuszRz",
        "outputId": "42877d33-c731-4772-db7a-3c38978f2a41"
      },
      "source": [
        "plt.savefig('confusion.png')"
      ],
      "execution_count": null,
      "outputs": [
        {
          "output_type": "display_data",
          "data": {
            "text/plain": [
              "<Figure size 576x396 with 0 Axes>"
            ]
          },
          "metadata": {}
        }
      ]
    },
    {
      "cell_type": "code",
      "metadata": {
        "id": "Ja5Lm1mK1kot"
      },
      "source": [
        "bert_base_model=model"
      ],
      "execution_count": null,
      "outputs": []
    },
    {
      "cell_type": "code",
      "metadata": {
        "id": "nXb5I21JR32y"
      },
      "source": [
        "misclassified = [i for i in range(len(preds)) if preds[i] != targets[i]]"
      ],
      "execution_count": null,
      "outputs": []
    },
    {
      "cell_type": "code",
      "metadata": {
        "id": "SVkfB8TZWcVL"
      },
      "source": [
        "t=test_text.to_numpy()\n",
        "t"
      ],
      "execution_count": null,
      "outputs": []
    },
    {
      "cell_type": "code",
      "metadata": {
        "colab": {
          "base_uri": "https://localhost:8080/"
        },
        "id": "3IuWI4QUU1JF",
        "outputId": "ef9a6ecb-f939-4b8b-aa58-739d4cab547e"
      },
      "source": [
        "missed=list()\n",
        "for i in range(len(misclassified)):\n",
        "  missed.append(t[misclassified[i]])\n",
        "print(missed)"
      ],
      "execution_count": null,
      "outputs": [
        {
          "output_type": "stream",
          "name": "stdout",
          "text": [
            "['the id of the item in pos is set to the category unique tag.', 'indicate if the called party was busy or if the network could not connect the call.', 'only one voucher is sold at time.', 'user should be able to register new account.', 'cursor display element in graphical user environment that marks location in window.', 'command line console could be useful for batch jobs server jobs.', 'the user wants to change the nature of the players in the current game with menu.', 'figure shows the general process as data.', 'this is system initiation process.', 'bar code the system will interface with the bar code reader to interface all transaction details.', 'no matched stock with the buy instruction.']\n"
          ]
        }
      ]
    },
    {
      "cell_type": "code",
      "metadata": {
        "colab": {
          "base_uri": "https://localhost:8080/"
        },
        "id": "DeC-ralZ_4AJ",
        "outputId": "e486ceac-5d92-4dbc-e053-cdadc2125f24"
      },
      "source": [
        "print(len(missed))"
      ],
      "execution_count": null,
      "outputs": [
        {
          "output_type": "stream",
          "name": "stdout",
          "text": [
            "11\n"
          ]
        }
      ]
    },
    {
      "cell_type": "markdown",
      "metadata": {
        "id": "AiOIaJw410us"
      },
      "source": [
        "# Prediction on Unseen Data"
      ]
    },
    {
      "cell_type": "code",
      "metadata": {
        "id": "ggDdUEeKUTVN"
      },
      "source": [
        "#function for predecting unseen data\n",
        "def predict_UCS(model,sentence):\n",
        "  # tokenize and encode sequences in the test set\n",
        "  tokens_test1 = tokenizer.batch_encode_plus(\n",
        "      sentence,\n",
        "      max_length = max_seq_len,\n",
        "      pad_to_max_length=True,\n",
        "      truncation=True,\n",
        "      return_token_type_ids=False\n",
        "  )\n",
        "  # for test set\n",
        "  test_seq = torch.tensor(tokens_test1['input_ids'])\n",
        "  test_mask = torch.tensor(tokens_test1['attention_mask'])\n",
        "\n",
        "  # get predictions for test data\n",
        "  with torch.no_grad():\n",
        "    preds = model(test_seq.to(device), test_mask.to(device))\n",
        "    preds = preds.detach().cpu().numpy()\n",
        "    print(preds)\n",
        "    preds = np.argmax(preds, axis = 1)\n",
        "\n",
        "    return preds"
      ],
      "execution_count": null,
      "outputs": []
    },
    {
      "cell_type": "code",
      "metadata": {
        "id": "yOhhYUV4BumA",
        "colab": {
          "base_uri": "https://localhost:8080/"
        },
        "outputId": "064d156d-6f3f-40e5-989b-7b26764da5e0"
      },
      "source": [
        "testString1=[\"Store assistant checks status of the tape to be returned by customer. \",\"PDF Split and Merge was created prior to this document, so all requirements stated here are already satisfied.\",\"Cashier enters item identifier.\",\n",
        "\"System updates the sale line item.\"]\n",
        "predict_UCS(bert_base_model,testString1)\n"
      ],
      "execution_count": null,
      "outputs": [
        {
          "output_type": "stream",
          "name": "stdout",
          "text": [
            "[[-5.5768046e+00 -3.7917639e-03]\n",
            " [-3.2627232e-02 -3.4388764e+00]\n",
            " [-6.7019224e+00 -1.2292456e-03]\n",
            " [-5.3776021e+00 -4.6296078e-03]]\n"
          ]
        },
        {
          "output_type": "stream",
          "name": "stderr",
          "text": [
            "/usr/local/lib/python3.7/dist-packages/transformers/tokenization_utils_base.py:2218: FutureWarning: The `pad_to_max_length` argument is deprecated and will be removed in a future version, use `padding=True` or `padding='longest'` to pad to the longest sequence in the batch, or use `padding='max_length'` to pad to a max length. In this case, you can give a specific length with `max_length` (e.g. `max_length=45`) or leave max_length to None to pad to the maximal input size of the model (e.g. 512 for Bert).\n",
            "  FutureWarning,\n"
          ]
        },
        {
          "output_type": "execute_result",
          "data": {
            "text/plain": [
              "array([1, 0, 1, 1])"
            ]
          },
          "metadata": {},
          "execution_count": 122
        }
      ]
    },
    {
      "cell_type": "code",
      "metadata": {
        "colab": {
          "base_uri": "https://localhost:8080/"
        },
        "id": "OWBPmwX_sdUq",
        "outputId": "51d035a5-9da7-4ef1-8cfa-380f934253cf"
      },
      "source": [
        "# The third one gives 0.99 indicating very high probabilty of spam\n",
        "testString2 = ['User selects a transformation language program file to parse.',\n",
        "'The HATS-GUI compares the time stamps on the lexical specification and grammar files to the time.',\n",
        "          'agentMom shall support the ability to send unicast message.']\n",
        "#predict_UCS(testT)\n",
        "predict_UCS(bert_base_model,testString2)"
      ],
      "execution_count": null,
      "outputs": [
        {
          "output_type": "stream",
          "name": "stdout",
          "text": [
            "[[-6.4206200e+00 -1.6289788e-03]\n",
            " [-9.3192440e-01 -5.0053734e-01]\n",
            " [-5.3022504e-02 -2.9634328e+00]]\n"
          ]
        },
        {
          "output_type": "stream",
          "name": "stderr",
          "text": [
            "/usr/local/lib/python3.7/dist-packages/transformers/tokenization_utils_base.py:2218: FutureWarning: The `pad_to_max_length` argument is deprecated and will be removed in a future version, use `padding=True` or `padding='longest'` to pad to the longest sequence in the batch, or use `padding='max_length'` to pad to a max length. In this case, you can give a specific length with `max_length` (e.g. `max_length=45`) or leave max_length to None to pad to the maximal input size of the model (e.g. 512 for Bert).\n",
            "  FutureWarning,\n"
          ]
        },
        {
          "output_type": "execute_result",
          "data": {
            "text/plain": [
              "array([1, 1, 0])"
            ]
          },
          "metadata": {},
          "execution_count": 123
        }
      ]
    },
    {
      "cell_type": "code",
      "source": [
        "df_ucs1=predict_UCS(bert_base_model,clean_text)"
      ],
      "metadata": {
        "colab": {
          "base_uri": "https://localhost:8080/"
        },
        "id": "OQj4-6Z4WmZo",
        "outputId": "8f7fdc0f-f172-4d11-a5fd-8d08610ea98e"
      },
      "execution_count": null,
      "outputs": [
        {
          "output_type": "stream",
          "name": "stderr",
          "text": [
            "/usr/local/lib/python3.7/dist-packages/transformers/tokenization_utils_base.py:2227: FutureWarning: The `pad_to_max_length` argument is deprecated and will be removed in a future version, use `padding=True` or `padding='longest'` to pad to the longest sequence in the batch, or use `padding='max_length'` to pad to a max length. In this case, you can give a specific length with `max_length` (e.g. `max_length=45`) or leave max_length to None to pad to the maximal input size of the model (e.g. 512 for Bert).\n",
            "  FutureWarning,\n"
          ]
        },
        {
          "output_type": "stream",
          "name": "stdout",
          "text": [
            "[[-2.869563e-01 -1.388475e+00]\n",
            " [-1.611107e-02 -4.136297e+00]\n",
            " [-4.187387e-03 -5.477777e+00]\n",
            " [-1.751557e-03 -6.348099e+00]\n",
            " ...\n",
            " [-3.761624e-01 -1.159927e+00]\n",
            " [-1.133573e-02 -4.485458e+00]\n",
            " [-3.350018e-02 -3.412909e+00]\n",
            " [-1.204215e+00 -3.565713e-01]]\n"
          ]
        }
      ]
    },
    {
      "cell_type": "code",
      "metadata": {
        "colab": {
          "base_uri": "https://localhost:8080/"
        },
        "id": "KQq89-_6sn-x",
        "outputId": "0c236208-d193-4fd7-a5f9-77079be4a29b"
      },
      "source": [
        "print(len(df_ucs1))\n",
        "#print(len(preds))"
      ],
      "execution_count": null,
      "outputs": [
        {
          "output_type": "stream",
          "name": "stdout",
          "text": [
            "442\n"
          ]
        }
      ]
    },
    {
      "cell_type": "code",
      "source": [
        "pa=np.array(df_ucs1)\n",
        "pa=pa[pa>0]\n",
        "print(len(pa))"
      ],
      "metadata": {
        "id": "C2ATArmjaj6q"
      },
      "execution_count": null,
      "outputs": []
    },
    {
      "cell_type": "markdown",
      "metadata": {
        "id": "wVI6DysrvDGT"
      },
      "source": [
        "## ULMFiT_fastai_Text_Classification"
      ]
    },
    {
      "cell_type": "code",
      "metadata": {
        "id": "9L-mYNWDBB4g"
      },
      "source": [
        "!pip install torch_nightly -f https://download.pytorch.org/whl/nightly/cu92/torch_nightly.html\n",
        "!pip install fastai"
      ],
      "execution_count": null,
      "outputs": []
    },
    {
      "cell_type": "markdown",
      "metadata": {
        "id": "4iq2r5Du8qyC"
      },
      "source": [
        "The one cycle and cyclic momentum allows the model to be trained on higher learning rates and converge faster. The one cycle policy provides some form of regularisation. "
      ]
    },
    {
      "cell_type": "code",
      "metadata": {
        "id": "2nUGc2c7xkeJ"
      },
      "source": [
        "import pandas as pd\n",
        "import numpy as np\n",
        "import seaborn as sns\n",
        "import matplotlib as plt\n",
        "import itertools\n",
        "import nltk\n",
        "from nltk.corpus import stopwords\n",
        "from wordcloud import WordCloud,STOPWORDS\n",
        "from fastai.text import *"
      ],
      "execution_count": null,
      "outputs": []
    },
    {
      "cell_type": "code",
      "metadata": {
        "id": "KYbn6ysEMeum"
      },
      "source": [
        "from sklearn.model_selection import train_test_split\n",
        "\n",
        "# split data into training and validation set\n",
        "df_trn, df_val = train_test_split(df_balanced, stratify = df_balanced['label'], test_size = 0.3, random_state = 12)"
      ],
      "execution_count": null,
      "outputs": []
    },
    {
      "cell_type": "markdown",
      "metadata": {
        "id": "R14UTria8Av1"
      },
      "source": [
        "Before proceeding further, we’ll need to prepare our data for the language model and for the classification model separately. The good news? This can be done quite easily using the fastai library:"
      ]
    },
    {
      "cell_type": "code",
      "metadata": {
        "id": "7tNP_aMTEOKe",
        "colab": {
          "base_uri": "https://localhost:8080/",
          "height": 124
        },
        "outputId": "b841386f-e1cd-4c31-9355-323674982c8c"
      },
      "source": [
        "# Language model data\n",
        "data_lm = TextLMDataBunch.from_df(train_df = df_trn, valid_df = df_val, path = \"\")\n",
        "\n",
        "# Classifier model data\n",
        "data_clas = TextClasDataBunch.from_df(path = \"\", train_df = df_trn, valid_df = df_val, vocab=data_lm.train_ds.vocab, bs=32)"
      ],
      "execution_count": null,
      "outputs": [
        {
          "output_type": "display_data",
          "data": {
            "text/html": [
              ""
            ],
            "text/plain": [
              "<IPython.core.display.HTML object>"
            ]
          },
          "metadata": {}
        },
        {
          "output_type": "stream",
          "name": "stderr",
          "text": [
            "/usr/local/lib/python3.7/dist-packages/fastai/core.py:302: VisibleDeprecationWarning: Creating an ndarray from ragged nested sequences (which is a list-or-tuple of lists-or-tuples-or ndarrays with different lengths or shapes) is deprecated. If you meant to do this, you must specify 'dtype=object' when creating the ndarray\n",
            "  return np.array(a, dtype=dtype, **kwargs)\n"
          ]
        },
        {
          "output_type": "display_data",
          "data": {
            "text/html": [
              ""
            ],
            "text/plain": [
              "<IPython.core.display.HTML object>"
            ]
          },
          "metadata": {}
        },
        {
          "output_type": "display_data",
          "data": {
            "text/html": [
              ""
            ],
            "text/plain": [
              "<IPython.core.display.HTML object>"
            ]
          },
          "metadata": {}
        },
        {
          "output_type": "display_data",
          "data": {
            "text/html": [
              ""
            ],
            "text/plain": [
              "<IPython.core.display.HTML object>"
            ]
          },
          "metadata": {}
        },
        {
          "output_type": "stream",
          "name": "stderr",
          "text": [
            "/usr/local/lib/python3.7/dist-packages/numpy/core/_asarray.py:83: VisibleDeprecationWarning: Creating an ndarray from ragged nested sequences (which is a list-or-tuple of lists-or-tuples-or ndarrays with different lengths or shapes) is deprecated. If you meant to do this, you must specify 'dtype=object' when creating the ndarray\n",
            "  return array(a, dtype, copy=False, order=order)\n",
            "<string>:6: VisibleDeprecationWarning: Creating an ndarray from ragged nested sequences (which is a list-or-tuple of lists-or-tuples-or ndarrays with different lengths or shapes) is deprecated. If you meant to do this, you must specify 'dtype=object' when creating the ndarray\n"
          ]
        }
      ]
    },
    {
      "cell_type": "code",
      "metadata": {
        "colab": {
          "base_uri": "https://localhost:8080/",
          "height": 1000
        },
        "id": "Syatdot9z0OM",
        "outputId": "e04c06dd-f3a4-4a4b-fe13-e152d3bd7f47"
      },
      "source": [
        "\n",
        "learn = language_model_learner(data_lm, AWD_LSTM, drop_mult=0.3)\n",
        "#find the optimal learning rate & visualize it\n",
        "learn.lr_find();\n",
        "learn.recorder.plot();"
      ],
      "execution_count": null,
      "outputs": [
        {
          "output_type": "stream",
          "name": "stdout",
          "text": [
            "Downloading https://s3.amazonaws.com/fast-ai-modelzoo/wt103-fwd.tgz\n"
          ]
        },
        {
          "output_type": "display_data",
          "data": {
            "text/html": [
              ""
            ],
            "text/plain": [
              "<IPython.core.display.HTML object>"
            ]
          },
          "metadata": {}
        },
        {
          "output_type": "display_data",
          "data": {
            "text/html": [
              "\n",
              "    <div>\n",
              "        <style>\n",
              "            /* Turns off some styling */\n",
              "            progress {\n",
              "                /* gets rid of default border in Firefox and Opera. */\n",
              "                border: none;\n",
              "                /* Needs to be in here for Safari polyfill so background images work as expected. */\n",
              "                background-size: auto;\n",
              "            }\n",
              "            .progress-bar-interrupted, .progress-bar-interrupted::-webkit-progress-bar {\n",
              "                background: #F44336;\n",
              "            }\n",
              "        </style>\n",
              "      <progress value='49' class='' max='50' style='width:300px; height:20px; vertical-align: middle;'></progress>\n",
              "      98.00% [49/50 00:29<00:00]\n",
              "    </div>\n",
              "    \n",
              "<table border=\"1\" class=\"dataframe\">\n",
              "  <thead>\n",
              "    <tr style=\"text-align: left;\">\n",
              "      <th>epoch</th>\n",
              "      <th>train_loss</th>\n",
              "      <th>valid_loss</th>\n",
              "      <th>accuracy</th>\n",
              "      <th>time</th>\n",
              "    </tr>\n",
              "  </thead>\n",
              "  <tbody>\n",
              "    <tr>\n",
              "      <td>0</td>\n",
              "      <td>6.010730</td>\n",
              "      <td>#na#</td>\n",
              "      <td>00:00</td>\n",
              "    </tr>\n",
              "    <tr>\n",
              "      <td>1</td>\n",
              "      <td>5.996006</td>\n",
              "      <td>#na#</td>\n",
              "      <td>00:00</td>\n",
              "    </tr>\n",
              "    <tr>\n",
              "      <td>2</td>\n",
              "      <td>5.992796</td>\n",
              "      <td>#na#</td>\n",
              "      <td>00:00</td>\n",
              "    </tr>\n",
              "    <tr>\n",
              "      <td>3</td>\n",
              "      <td>5.982506</td>\n",
              "      <td>#na#</td>\n",
              "      <td>00:00</td>\n",
              "    </tr>\n",
              "    <tr>\n",
              "      <td>4</td>\n",
              "      <td>5.983721</td>\n",
              "      <td>#na#</td>\n",
              "      <td>00:00</td>\n",
              "    </tr>\n",
              "    <tr>\n",
              "      <td>5</td>\n",
              "      <td>5.992517</td>\n",
              "      <td>#na#</td>\n",
              "      <td>00:00</td>\n",
              "    </tr>\n",
              "    <tr>\n",
              "      <td>6</td>\n",
              "      <td>5.990710</td>\n",
              "      <td>#na#</td>\n",
              "      <td>00:00</td>\n",
              "    </tr>\n",
              "    <tr>\n",
              "      <td>7</td>\n",
              "      <td>5.984878</td>\n",
              "      <td>#na#</td>\n",
              "      <td>00:00</td>\n",
              "    </tr>\n",
              "    <tr>\n",
              "      <td>8</td>\n",
              "      <td>5.982896</td>\n",
              "      <td>#na#</td>\n",
              "      <td>00:00</td>\n",
              "    </tr>\n",
              "    <tr>\n",
              "      <td>9</td>\n",
              "      <td>5.977502</td>\n",
              "      <td>#na#</td>\n",
              "      <td>00:00</td>\n",
              "    </tr>\n",
              "    <tr>\n",
              "      <td>10</td>\n",
              "      <td>5.979244</td>\n",
              "      <td>#na#</td>\n",
              "      <td>00:00</td>\n",
              "    </tr>\n",
              "    <tr>\n",
              "      <td>11</td>\n",
              "      <td>5.957158</td>\n",
              "      <td>#na#</td>\n",
              "      <td>00:00</td>\n",
              "    </tr>\n",
              "    <tr>\n",
              "      <td>12</td>\n",
              "      <td>5.958974</td>\n",
              "      <td>#na#</td>\n",
              "      <td>00:00</td>\n",
              "    </tr>\n",
              "    <tr>\n",
              "      <td>13</td>\n",
              "      <td>5.962304</td>\n",
              "      <td>#na#</td>\n",
              "      <td>00:00</td>\n",
              "    </tr>\n",
              "    <tr>\n",
              "      <td>14</td>\n",
              "      <td>5.963470</td>\n",
              "      <td>#na#</td>\n",
              "      <td>00:00</td>\n",
              "    </tr>\n",
              "    <tr>\n",
              "      <td>15</td>\n",
              "      <td>5.964277</td>\n",
              "      <td>#na#</td>\n",
              "      <td>00:00</td>\n",
              "    </tr>\n",
              "    <tr>\n",
              "      <td>16</td>\n",
              "      <td>5.962730</td>\n",
              "      <td>#na#</td>\n",
              "      <td>00:00</td>\n",
              "    </tr>\n",
              "    <tr>\n",
              "      <td>17</td>\n",
              "      <td>5.964588</td>\n",
              "      <td>#na#</td>\n",
              "      <td>00:00</td>\n",
              "    </tr>\n",
              "    <tr>\n",
              "      <td>18</td>\n",
              "      <td>5.966472</td>\n",
              "      <td>#na#</td>\n",
              "      <td>00:00</td>\n",
              "    </tr>\n",
              "    <tr>\n",
              "      <td>19</td>\n",
              "      <td>5.964750</td>\n",
              "      <td>#na#</td>\n",
              "      <td>00:00</td>\n",
              "    </tr>\n",
              "    <tr>\n",
              "      <td>20</td>\n",
              "      <td>5.966853</td>\n",
              "      <td>#na#</td>\n",
              "      <td>00:00</td>\n",
              "    </tr>\n",
              "    <tr>\n",
              "      <td>21</td>\n",
              "      <td>5.963235</td>\n",
              "      <td>#na#</td>\n",
              "      <td>00:00</td>\n",
              "    </tr>\n",
              "    <tr>\n",
              "      <td>22</td>\n",
              "      <td>5.959576</td>\n",
              "      <td>#na#</td>\n",
              "      <td>00:00</td>\n",
              "    </tr>\n",
              "    <tr>\n",
              "      <td>23</td>\n",
              "      <td>5.952600</td>\n",
              "      <td>#na#</td>\n",
              "      <td>00:00</td>\n",
              "    </tr>\n",
              "    <tr>\n",
              "      <td>24</td>\n",
              "      <td>5.944128</td>\n",
              "      <td>#na#</td>\n",
              "      <td>00:00</td>\n",
              "    </tr>\n",
              "    <tr>\n",
              "      <td>25</td>\n",
              "      <td>5.932964</td>\n",
              "      <td>#na#</td>\n",
              "      <td>00:00</td>\n",
              "    </tr>\n",
              "    <tr>\n",
              "      <td>26</td>\n",
              "      <td>5.916760</td>\n",
              "      <td>#na#</td>\n",
              "      <td>00:00</td>\n",
              "    </tr>\n",
              "    <tr>\n",
              "      <td>27</td>\n",
              "      <td>5.894976</td>\n",
              "      <td>#na#</td>\n",
              "      <td>00:00</td>\n",
              "    </tr>\n",
              "    <tr>\n",
              "      <td>28</td>\n",
              "      <td>5.865348</td>\n",
              "      <td>#na#</td>\n",
              "      <td>00:00</td>\n",
              "    </tr>\n",
              "    <tr>\n",
              "      <td>29</td>\n",
              "      <td>5.824766</td>\n",
              "      <td>#na#</td>\n",
              "      <td>00:00</td>\n",
              "    </tr>\n",
              "    <tr>\n",
              "      <td>30</td>\n",
              "      <td>5.771314</td>\n",
              "      <td>#na#</td>\n",
              "      <td>00:00</td>\n",
              "    </tr>\n",
              "    <tr>\n",
              "      <td>31</td>\n",
              "      <td>5.703772</td>\n",
              "      <td>#na#</td>\n",
              "      <td>00:00</td>\n",
              "    </tr>\n",
              "    <tr>\n",
              "      <td>32</td>\n",
              "      <td>5.621330</td>\n",
              "      <td>#na#</td>\n",
              "      <td>00:00</td>\n",
              "    </tr>\n",
              "    <tr>\n",
              "      <td>33</td>\n",
              "      <td>5.524755</td>\n",
              "      <td>#na#</td>\n",
              "      <td>00:00</td>\n",
              "    </tr>\n",
              "    <tr>\n",
              "      <td>34</td>\n",
              "      <td>5.414771</td>\n",
              "      <td>#na#</td>\n",
              "      <td>00:00</td>\n",
              "    </tr>\n",
              "    <tr>\n",
              "      <td>35</td>\n",
              "      <td>5.291018</td>\n",
              "      <td>#na#</td>\n",
              "      <td>00:00</td>\n",
              "    </tr>\n",
              "    <tr>\n",
              "      <td>36</td>\n",
              "      <td>5.157534</td>\n",
              "      <td>#na#</td>\n",
              "      <td>00:00</td>\n",
              "    </tr>\n",
              "    <tr>\n",
              "      <td>37</td>\n",
              "      <td>5.018077</td>\n",
              "      <td>#na#</td>\n",
              "      <td>00:00</td>\n",
              "    </tr>\n",
              "    <tr>\n",
              "      <td>38</td>\n",
              "      <td>4.875623</td>\n",
              "      <td>#na#</td>\n",
              "      <td>00:00</td>\n",
              "    </tr>\n",
              "    <tr>\n",
              "      <td>39</td>\n",
              "      <td>4.732186</td>\n",
              "      <td>#na#</td>\n",
              "      <td>00:00</td>\n",
              "    </tr>\n",
              "    <tr>\n",
              "      <td>40</td>\n",
              "      <td>4.591391</td>\n",
              "      <td>#na#</td>\n",
              "      <td>00:00</td>\n",
              "    </tr>\n",
              "    <tr>\n",
              "      <td>41</td>\n",
              "      <td>4.452359</td>\n",
              "      <td>#na#</td>\n",
              "      <td>00:00</td>\n",
              "    </tr>\n",
              "    <tr>\n",
              "      <td>42</td>\n",
              "      <td>4.322768</td>\n",
              "      <td>#na#</td>\n",
              "      <td>00:00</td>\n",
              "    </tr>\n",
              "    <tr>\n",
              "      <td>43</td>\n",
              "      <td>4.207159</td>\n",
              "      <td>#na#</td>\n",
              "      <td>00:00</td>\n",
              "    </tr>\n",
              "    <tr>\n",
              "      <td>44</td>\n",
              "      <td>4.121800</td>\n",
              "      <td>#na#</td>\n",
              "      <td>00:00</td>\n",
              "    </tr>\n",
              "    <tr>\n",
              "      <td>45</td>\n",
              "      <td>4.114338</td>\n",
              "      <td>#na#</td>\n",
              "      <td>00:00</td>\n",
              "    </tr>\n",
              "    <tr>\n",
              "      <td>46</td>\n",
              "      <td>4.251788</td>\n",
              "      <td>#na#</td>\n",
              "      <td>00:00</td>\n",
              "    </tr>\n",
              "    <tr>\n",
              "      <td>47</td>\n",
              "      <td>4.596546</td>\n",
              "      <td>#na#</td>\n",
              "      <td>00:00</td>\n",
              "    </tr>\n",
              "    <tr>\n",
              "      <td>48</td>\n",
              "      <td>5.247626</td>\n",
              "      <td>#na#</td>\n",
              "      <td>00:00</td>\n",
              "    </tr>\n",
              "  </tbody>\n",
              "</table><p>\n",
              "\n",
              "    <div>\n",
              "        <style>\n",
              "            /* Turns off some styling */\n",
              "            progress {\n",
              "                /* gets rid of default border in Firefox and Opera. */\n",
              "                border: none;\n",
              "                /* Needs to be in here for Safari polyfill so background images work as expected. */\n",
              "                background-size: auto;\n",
              "            }\n",
              "            .progress-bar-interrupted, .progress-bar-interrupted::-webkit-progress-bar {\n",
              "                background: #F44336;\n",
              "            }\n",
              "        </style>\n",
              "      <progress value='1' class='' max='2' style='width:300px; height:20px; vertical-align: middle;'></progress>\n",
              "      50.00% [1/2 00:00<00:00 5.7831]\n",
              "    </div>\n",
              "    "
            ],
            "text/plain": [
              "<IPython.core.display.HTML object>"
            ]
          },
          "metadata": {}
        },
        {
          "output_type": "stream",
          "name": "stdout",
          "text": [
            "LR Finder is complete, type {learner_name}.recorder.plot() to see the graph.\n"
          ]
        },
        {
          "output_type": "display_data",
          "data": {
            "image/png": "[encoded data removed]",
            "text/plain": [
              "<Figure size 576x396 with 1 Axes>"
            ]
          },
          "metadata": {}
        }
      ]
    },
    {
      "cell_type": "markdown",
      "metadata": {
        "id": "d3DEx74o2u3f"
      },
      "source": [
        "By default, the Learner object is frozen thus we need to train the embeddings at first. Here, instead of running the cycle for one epoch, I am going to run it for 6 to see how accuracy varies. The learning rate I picked is with the help of the plot we got above."
      ]
    },
    {
      "cell_type": "code",
      "metadata": {
        "colab": {
          "base_uri": "https://localhost:8080/",
          "height": 237
        },
        "id": "KrtyX_yv2oGt",
        "outputId": "17a6129f-8bf4-428d-9bad-6be19a0add59"
      },
      "source": [
        "learn.fit_one_cycle(6,5e-2, moms=(0.85,0.75))"
      ],
      "execution_count": null,
      "outputs": [
        {
          "output_type": "display_data",
          "data": {
            "text/html": [
              "<table border=\"1\" class=\"dataframe\">\n",
              "  <thead>\n",
              "    <tr style=\"text-align: left;\">\n",
              "      <th>epoch</th>\n",
              "      <th>train_loss</th>\n",
              "      <th>valid_loss</th>\n",
              "      <th>accuracy</th>\n",
              "      <th>time</th>\n",
              "    </tr>\n",
              "  </thead>\n",
              "  <tbody>\n",
              "    <tr>\n",
              "      <td>0</td>\n",
              "      <td>5.917256</td>\n",
              "      <td>5.086357</td>\n",
              "      <td>0.174330</td>\n",
              "      <td>00:00</td>\n",
              "    </tr>\n",
              "    <tr>\n",
              "      <td>1</td>\n",
              "      <td>5.490161</td>\n",
              "      <td>4.088935</td>\n",
              "      <td>0.224777</td>\n",
              "      <td>00:00</td>\n",
              "    </tr>\n",
              "    <tr>\n",
              "      <td>2</td>\n",
              "      <td>4.917236</td>\n",
              "      <td>3.611097</td>\n",
              "      <td>0.295982</td>\n",
              "      <td>00:00</td>\n",
              "    </tr>\n",
              "    <tr>\n",
              "      <td>3</td>\n",
              "      <td>4.425104</td>\n",
              "      <td>3.414757</td>\n",
              "      <td>0.341295</td>\n",
              "      <td>00:00</td>\n",
              "    </tr>\n",
              "    <tr>\n",
              "      <td>4</td>\n",
              "      <td>4.057594</td>\n",
              "      <td>3.353779</td>\n",
              "      <td>0.356473</td>\n",
              "      <td>00:00</td>\n",
              "    </tr>\n",
              "    <tr>\n",
              "      <td>5</td>\n",
              "      <td>3.778625</td>\n",
              "      <td>3.334024</td>\n",
              "      <td>0.355357</td>\n",
              "      <td>00:00</td>\n",
              "    </tr>\n",
              "  </tbody>\n",
              "</table>"
            ],
            "text/plain": [
              "<IPython.core.display.HTML object>"
            ]
          },
          "metadata": {}
        }
      ]
    },
    {
      "cell_type": "markdown",
      "metadata": {
        "id": "JRI5bMrC3oDz"
      },
      "source": [
        "We got very low accuracy, which was expected the rest of our model is still frozen but we can see that the accuracy is increasing.\n"
      ]
    },
    {
      "cell_type": "code",
      "metadata": {
        "colab": {
          "base_uri": "https://localhost:8080/",
          "height": 363
        },
        "id": "geR1-kez3nZ9",
        "outputId": "bd6b6289-c512-4988-bb45-575a8b233878"
      },
      "source": [
        "learn.unfreeze()\n",
        "learn.fit_one_cycle(10, 1e-2, moms=(0.8,0.7))"
      ],
      "execution_count": null,
      "outputs": [
        {
          "output_type": "display_data",
          "data": {
            "text/html": [
              "<table border=\"1\" class=\"dataframe\">\n",
              "  <thead>\n",
              "    <tr style=\"text-align: left;\">\n",
              "      <th>epoch</th>\n",
              "      <th>train_loss</th>\n",
              "      <th>valid_loss</th>\n",
              "      <th>accuracy</th>\n",
              "      <th>time</th>\n",
              "    </tr>\n",
              "  </thead>\n",
              "  <tbody>\n",
              "    <tr>\n",
              "      <td>0</td>\n",
              "      <td>2.520126</td>\n",
              "      <td>3.326334</td>\n",
              "      <td>0.362277</td>\n",
              "      <td>00:00</td>\n",
              "    </tr>\n",
              "    <tr>\n",
              "      <td>1</td>\n",
              "      <td>2.455014</td>\n",
              "      <td>3.779521</td>\n",
              "      <td>0.331920</td>\n",
              "      <td>00:00</td>\n",
              "    </tr>\n",
              "    <tr>\n",
              "      <td>2</td>\n",
              "      <td>2.570938</td>\n",
              "      <td>4.439612</td>\n",
              "      <td>0.285268</td>\n",
              "      <td>00:00</td>\n",
              "    </tr>\n",
              "    <tr>\n",
              "      <td>3</td>\n",
              "      <td>2.668116</td>\n",
              "      <td>3.953003</td>\n",
              "      <td>0.289509</td>\n",
              "      <td>00:00</td>\n",
              "    </tr>\n",
              "    <tr>\n",
              "      <td>4</td>\n",
              "      <td>2.581454</td>\n",
              "      <td>3.422284</td>\n",
              "      <td>0.369196</td>\n",
              "      <td>00:00</td>\n",
              "    </tr>\n",
              "    <tr>\n",
              "      <td>5</td>\n",
              "      <td>2.384816</td>\n",
              "      <td>3.472092</td>\n",
              "      <td>0.371875</td>\n",
              "      <td>00:00</td>\n",
              "    </tr>\n",
              "    <tr>\n",
              "      <td>6</td>\n",
              "      <td>2.185988</td>\n",
              "      <td>3.520568</td>\n",
              "      <td>0.365402</td>\n",
              "      <td>00:00</td>\n",
              "    </tr>\n",
              "    <tr>\n",
              "      <td>7</td>\n",
              "      <td>2.009004</td>\n",
              "      <td>3.568238</td>\n",
              "      <td>0.366741</td>\n",
              "      <td>00:00</td>\n",
              "    </tr>\n",
              "    <tr>\n",
              "      <td>8</td>\n",
              "      <td>1.861370</td>\n",
              "      <td>3.557034</td>\n",
              "      <td>0.373437</td>\n",
              "      <td>00:00</td>\n",
              "    </tr>\n",
              "    <tr>\n",
              "      <td>9</td>\n",
              "      <td>1.748183</td>\n",
              "      <td>3.558513</td>\n",
              "      <td>0.377232</td>\n",
              "      <td>00:00</td>\n",
              "    </tr>\n",
              "  </tbody>\n",
              "</table>"
            ],
            "text/plain": [
              "<IPython.core.display.HTML object>"
            ]
          },
          "metadata": {}
        }
      ]
    },
    {
      "cell_type": "markdown",
      "metadata": {
        "id": "fBimSncC37Ss"
      },
      "source": [
        "Now we will test our model with random input & see if it’ll accurately complete the sentence."
      ]
    },
    {
      "cell_type": "code",
      "metadata": {
        "colab": {
          "base_uri": "https://localhost:8080/"
        },
        "id": "M3-yaOeb27Ha",
        "outputId": "f2d3276d-f20d-472d-925d-e0c8cc7abd84"
      },
      "source": [
        "TEXT = \"System updates the sale line item.\"# \"The flight got delayed\"\n",
        "N_WORDS = 40\n",
        "N_SENTENCES = 2\n",
        "print(\"\\n\".join(learn.predict(TEXT, N_WORDS, temperature=0.75) for _ in range(N_SENTENCES)))\n",
        "#Save fine-tuned model for future use\n",
        "learn.save_encoder('fine_tuned_enc')"
      ],
      "execution_count": null,
      "outputs": [
        {
          "output_type": "stream",
          "name": "stdout",
          "text": [
            "System updates the sale line item. xxbos the system displays the list of the selected items that the original item will be split into . xxbos user selects option to parse refer to use case alt . xxbos the hats gui prompts the user to associate\n",
            "System updates the sale line item. xxbos system displays plug in options to the administrator . xxbos member should be able to see the content they have published in all supported services . xxbos system prompts the sales person to fill out product name product i\n"
          ]
        }
      ]
    },
    {
      "cell_type": "markdown",
      "metadata": {
        "id": "Dwue2Vbr4J8K"
      },
      "source": [
        "Now, we’ll create a new data object that only grabs the labeled data and keeps those labels."
      ]
    },
    {
      "cell_type": "markdown",
      "metadata": {
        "id": "EG5r1P4E4uCu"
      },
      "source": [
        "The classifier needs a little less dropout, so we pass drop_mult=0.5 to multiply all the dropouts by this amount. We don’t load the pre-trained model, but instead our fine-tuned encoder from the previous section.\n"
      ]
    },
    {
      "cell_type": "code",
      "metadata": {
        "id": "r_e0As794eVg"
      },
      "source": [
        "#data_clas.vocab.itos = data_lm.vocab.itos\n",
        "learn = text_classifier_learner(data_clas, AWD_LSTM, drop_mult=0.5)\n",
        "learn.load_encoder('fine_tuned_enc')"
      ],
      "execution_count": null,
      "outputs": []
    },
    {
      "cell_type": "markdown",
      "metadata": {
        "id": "sjuNEDOe43Nh"
      },
      "source": [
        "Again we perform similar steps as Language mode. Here I am skipping the last 15 data points as I’m only interested till 1e-1."
      ]
    },
    {
      "cell_type": "code",
      "metadata": {
        "colab": {
          "base_uri": "https://localhost:8080/",
          "height": 863
        },
        "id": "VCbOZ3Joiv3j",
        "outputId": "a07cff01-c482-4b06-fdbf-118119b694b9"
      },
      "source": [
        "learn.lr_find()\n",
        "learn.recorder.plot(skip_end=15)"
      ],
      "execution_count": null,
      "outputs": [
        {
          "output_type": "display_data",
          "data": {
            "text/html": [
              "\n",
              "    <div>\n",
              "        <style>\n",
              "            /* Turns off some styling */\n",
              "            progress {\n",
              "                /* gets rid of default border in Firefox and Opera. */\n",
              "                border: none;\n",
              "                /* Needs to be in here for Safari polyfill so background images work as expected. */\n",
              "                background-size: auto;\n",
              "            }\n",
              "            .progress-bar-interrupted, .progress-bar-interrupted::-webkit-progress-bar {\n",
              "                background: #F44336;\n",
              "            }\n",
              "        </style>\n",
              "      <progress value='4' class='' max='6' style='width:300px; height:20px; vertical-align: middle;'></progress>\n",
              "      66.67% [4/6 00:04<00:02]\n",
              "    </div>\n",
              "    \n",
              "<table border=\"1\" class=\"dataframe\">\n",
              "  <thead>\n",
              "    <tr style=\"text-align: left;\">\n",
              "      <th>epoch</th>\n",
              "      <th>train_loss</th>\n",
              "      <th>valid_loss</th>\n",
              "      <th>accuracy</th>\n",
              "      <th>time</th>\n",
              "    </tr>\n",
              "  </thead>\n",
              "  <tbody>\n",
              "    <tr>\n",
              "      <td>0</td>\n",
              "      <td>0.887224</td>\n",
              "      <td>#na#</td>\n",
              "      <td>00:01</td>\n",
              "    </tr>\n",
              "    <tr>\n",
              "      <td>1</td>\n",
              "      <td>0.887623</td>\n",
              "      <td>#na#</td>\n",
              "      <td>00:00</td>\n",
              "    </tr>\n",
              "    <tr>\n",
              "      <td>2</td>\n",
              "      <td>0.717220</td>\n",
              "      <td>#na#</td>\n",
              "      <td>00:00</td>\n",
              "    </tr>\n",
              "    <tr>\n",
              "      <td>3</td>\n",
              "      <td>0.605553</td>\n",
              "      <td>#na#</td>\n",
              "      <td>00:00</td>\n",
              "    </tr>\n",
              "  </tbody>\n",
              "</table><p>\n",
              "\n",
              "    <div>\n",
              "        <style>\n",
              "            /* Turns off some styling */\n",
              "            progress {\n",
              "                /* gets rid of default border in Firefox and Opera. */\n",
              "                border: none;\n",
              "                /* Needs to be in here for Safari polyfill so background images work as expected. */\n",
              "                background-size: auto;\n",
              "            }\n",
              "            .progress-bar-interrupted, .progress-bar-interrupted::-webkit-progress-bar {\n",
              "                background: #F44336;\n",
              "            }\n",
              "        </style>\n",
              "      <progress value='18' class='' max='19' style='width:300px; height:20px; vertical-align: middle;'></progress>\n",
              "      94.74% [18/19 00:00<00:00 1.5470]\n",
              "    </div>\n",
              "    "
            ],
            "text/plain": [
              "<IPython.core.display.HTML object>"
            ]
          },
          "metadata": {}
        },
        {
          "output_type": "stream",
          "name": "stderr",
          "text": [
            "/usr/local/lib/python3.7/dist-packages/numpy/core/_asarray.py:83: VisibleDeprecationWarning: Creating an ndarray from ragged nested sequences (which is a list-or-tuple of lists-or-tuples-or ndarrays with different lengths or shapes) is deprecated. If you meant to do this, you must specify 'dtype=object' when creating the ndarray\n",
            "  return array(a, dtype, copy=False, order=order)\n",
            "<string>:6: VisibleDeprecationWarning: Creating an ndarray from ragged nested sequences (which is a list-or-tuple of lists-or-tuples-or ndarrays with different lengths or shapes) is deprecated. If you meant to do this, you must specify 'dtype=object' when creating the ndarray\n",
            "/usr/local/lib/python3.7/dist-packages/numpy/core/_asarray.py:83: VisibleDeprecationWarning: Creating an ndarray from ragged nested sequences (which is a list-or-tuple of lists-or-tuples-or ndarrays with different lengths or shapes) is deprecated. If you meant to do this, you must specify 'dtype=object' when creating the ndarray\n",
            "  return array(a, dtype, copy=False, order=order)\n",
            "<string>:6: VisibleDeprecationWarning: Creating an ndarray from ragged nested sequences (which is a list-or-tuple of lists-or-tuples-or ndarrays with different lengths or shapes) is deprecated. If you meant to do this, you must specify 'dtype=object' when creating the ndarray\n",
            "/usr/local/lib/python3.7/dist-packages/numpy/core/_asarray.py:83: VisibleDeprecationWarning: Creating an ndarray from ragged nested sequences (which is a list-or-tuple of lists-or-tuples-or ndarrays with different lengths or shapes) is deprecated. If you meant to do this, you must specify 'dtype=object' when creating the ndarray\n",
            "  return array(a, dtype, copy=False, order=order)\n",
            "<string>:6: VisibleDeprecationWarning: Creating an ndarray from ragged nested sequences (which is a list-or-tuple of lists-or-tuples-or ndarrays with different lengths or shapes) is deprecated. If you meant to do this, you must specify 'dtype=object' when creating the ndarray\n",
            "/usr/local/lib/python3.7/dist-packages/numpy/core/_asarray.py:83: VisibleDeprecationWarning: Creating an ndarray from ragged nested sequences (which is a list-or-tuple of lists-or-tuples-or ndarrays with different lengths or shapes) is deprecated. If you meant to do this, you must specify 'dtype=object' when creating the ndarray\n",
            "  return array(a, dtype, copy=False, order=order)\n",
            "<string>:6: VisibleDeprecationWarning: Creating an ndarray from ragged nested sequences (which is a list-or-tuple of lists-or-tuples-or ndarrays with different lengths or shapes) is deprecated. If you meant to do this, you must specify 'dtype=object' when creating the ndarray\n",
            "/usr/local/lib/python3.7/dist-packages/numpy/core/_asarray.py:83: VisibleDeprecationWarning: Creating an ndarray from ragged nested sequences (which is a list-or-tuple of lists-or-tuples-or ndarrays with different lengths or shapes) is deprecated. If you meant to do this, you must specify 'dtype=object' when creating the ndarray\n",
            "  return array(a, dtype, copy=False, order=order)\n",
            "<string>:6: VisibleDeprecationWarning: Creating an ndarray from ragged nested sequences (which is a list-or-tuple of lists-or-tuples-or ndarrays with different lengths or shapes) is deprecated. If you meant to do this, you must specify 'dtype=object' when creating the ndarray\n"
          ]
        },
        {
          "output_type": "stream",
          "name": "stdout",
          "text": [
            "LR Finder is complete, type {learner_name}.recorder.plot() to see the graph.\n"
          ]
        },
        {
          "output_type": "display_data",
          "data": {
            "image/png": "[encoded data removed]",
            "text/plain": [
              "<Figure size 576x396 with 1 Axes>"
            ]
          },
          "metadata": {}
        }
      ]
    },
    {
      "cell_type": "code",
      "metadata": {
        "colab": {
          "base_uri": "https://localhost:8080/",
          "height": 863
        },
        "id": "qwBTcx604rst",
        "outputId": "bfff6f10-cb79-4bdc-fd07-f6903a0236d5"
      },
      "source": [
        "learn.lr_find()\n",
        "learn.recorder.plot(skip_end=5)"
      ],
      "execution_count": null,
      "outputs": [
        {
          "output_type": "display_data",
          "data": {
            "text/html": [
              "\n",
              "    <div>\n",
              "        <style>\n",
              "            /* Turns off some styling */\n",
              "            progress {\n",
              "                /* gets rid of default border in Firefox and Opera. */\n",
              "                border: none;\n",
              "                /* Needs to be in here for Safari polyfill so background images work as expected. */\n",
              "                background-size: auto;\n",
              "            }\n",
              "            .progress-bar-interrupted, .progress-bar-interrupted::-webkit-progress-bar {\n",
              "                background: #F44336;\n",
              "            }\n",
              "        </style>\n",
              "      <progress value='4' class='' max='6' style='width:300px; height:20px; vertical-align: middle;'></progress>\n",
              "      66.67% [4/6 00:03<00:01]\n",
              "    </div>\n",
              "    \n",
              "<table border=\"1\" class=\"dataframe\">\n",
              "  <thead>\n",
              "    <tr style=\"text-align: left;\">\n",
              "      <th>epoch</th>\n",
              "      <th>train_loss</th>\n",
              "      <th>valid_loss</th>\n",
              "      <th>accuracy</th>\n",
              "      <th>time</th>\n",
              "    </tr>\n",
              "  </thead>\n",
              "  <tbody>\n",
              "    <tr>\n",
              "      <td>0</td>\n",
              "      <td>0.914532</td>\n",
              "      <td>#na#</td>\n",
              "      <td>00:00</td>\n",
              "    </tr>\n",
              "    <tr>\n",
              "      <td>1</td>\n",
              "      <td>0.905034</td>\n",
              "      <td>#na#</td>\n",
              "      <td>00:00</td>\n",
              "    </tr>\n",
              "    <tr>\n",
              "      <td>2</td>\n",
              "      <td>0.740328</td>\n",
              "      <td>#na#</td>\n",
              "      <td>00:00</td>\n",
              "    </tr>\n",
              "    <tr>\n",
              "      <td>3</td>\n",
              "      <td>0.604798</td>\n",
              "      <td>#na#</td>\n",
              "      <td>00:00</td>\n",
              "    </tr>\n",
              "  </tbody>\n",
              "</table><p>\n",
              "\n",
              "    <div>\n",
              "        <style>\n",
              "            /* Turns off some styling */\n",
              "            progress {\n",
              "                /* gets rid of default border in Firefox and Opera. */\n",
              "                border: none;\n",
              "                /* Needs to be in here for Safari polyfill so background images work as expected. */\n",
              "                background-size: auto;\n",
              "            }\n",
              "            .progress-bar-interrupted, .progress-bar-interrupted::-webkit-progress-bar {\n",
              "                background: #F44336;\n",
              "            }\n",
              "        </style>\n",
              "      <progress value='16' class='' max='19' style='width:300px; height:20px; vertical-align: middle;'></progress>\n",
              "      84.21% [16/19 00:00<00:00 0.7897]\n",
              "    </div>\n",
              "    "
            ],
            "text/plain": [
              "<IPython.core.display.HTML object>"
            ]
          },
          "metadata": {}
        },
        {
          "output_type": "stream",
          "name": "stderr",
          "text": [
            "/usr/local/lib/python3.7/dist-packages/numpy/core/_asarray.py:83: VisibleDeprecationWarning: Creating an ndarray from ragged nested sequences (which is a list-or-tuple of lists-or-tuples-or ndarrays with different lengths or shapes) is deprecated. If you meant to do this, you must specify 'dtype=object' when creating the ndarray\n",
            "  return array(a, dtype, copy=False, order=order)\n",
            "<string>:6: VisibleDeprecationWarning: Creating an ndarray from ragged nested sequences (which is a list-or-tuple of lists-or-tuples-or ndarrays with different lengths or shapes) is deprecated. If you meant to do this, you must specify 'dtype=object' when creating the ndarray\n",
            "/usr/local/lib/python3.7/dist-packages/numpy/core/_asarray.py:83: VisibleDeprecationWarning: Creating an ndarray from ragged nested sequences (which is a list-or-tuple of lists-or-tuples-or ndarrays with different lengths or shapes) is deprecated. If you meant to do this, you must specify 'dtype=object' when creating the ndarray\n",
            "  return array(a, dtype, copy=False, order=order)\n",
            "<string>:6: VisibleDeprecationWarning: Creating an ndarray from ragged nested sequences (which is a list-or-tuple of lists-or-tuples-or ndarrays with different lengths or shapes) is deprecated. If you meant to do this, you must specify 'dtype=object' when creating the ndarray\n",
            "/usr/local/lib/python3.7/dist-packages/numpy/core/_asarray.py:83: VisibleDeprecationWarning: Creating an ndarray from ragged nested sequences (which is a list-or-tuple of lists-or-tuples-or ndarrays with different lengths or shapes) is deprecated. If you meant to do this, you must specify 'dtype=object' when creating the ndarray\n",
            "  return array(a, dtype, copy=False, order=order)\n",
            "<string>:6: VisibleDeprecationWarning: Creating an ndarray from ragged nested sequences (which is a list-or-tuple of lists-or-tuples-or ndarrays with different lengths or shapes) is deprecated. If you meant to do this, you must specify 'dtype=object' when creating the ndarray\n",
            "/usr/local/lib/python3.7/dist-packages/numpy/core/_asarray.py:83: VisibleDeprecationWarning: Creating an ndarray from ragged nested sequences (which is a list-or-tuple of lists-or-tuples-or ndarrays with different lengths or shapes) is deprecated. If you meant to do this, you must specify 'dtype=object' when creating the ndarray\n",
            "  return array(a, dtype, copy=False, order=order)\n",
            "<string>:6: VisibleDeprecationWarning: Creating an ndarray from ragged nested sequences (which is a list-or-tuple of lists-or-tuples-or ndarrays with different lengths or shapes) is deprecated. If you meant to do this, you must specify 'dtype=object' when creating the ndarray\n",
            "/usr/local/lib/python3.7/dist-packages/numpy/core/_asarray.py:83: VisibleDeprecationWarning: Creating an ndarray from ragged nested sequences (which is a list-or-tuple of lists-or-tuples-or ndarrays with different lengths or shapes) is deprecated. If you meant to do this, you must specify 'dtype=object' when creating the ndarray\n",
            "  return array(a, dtype, copy=False, order=order)\n",
            "<string>:6: VisibleDeprecationWarning: Creating an ndarray from ragged nested sequences (which is a list-or-tuple of lists-or-tuples-or ndarrays with different lengths or shapes) is deprecated. If you meant to do this, you must specify 'dtype=object' when creating the ndarray\n"
          ]
        },
        {
          "output_type": "stream",
          "name": "stdout",
          "text": [
            "LR Finder is complete, type {learner_name}.recorder.plot() to see the graph.\n"
          ]
        },
        {
          "output_type": "display_data",
          "data": {
            "image/png": "[encoded data removed]",
            "text/plain": [
              "<Figure size 576x396 with 1 Axes>"
            ]
          },
          "metadata": {}
        }
      ]
    },
    {
      "cell_type": "markdown",
      "metadata": {
        "id": "U5kVmS8x5ML8"
      },
      "source": [
        "learn.fit_one_cycle(4, 5e-2, moms=(0.8,0.7))"
      ]
    },
    {
      "cell_type": "code",
      "metadata": {
        "colab": {
          "base_uri": "https://localhost:8080/",
          "height": 175
        },
        "id": "f4ODxQ3lDJZ6",
        "outputId": "912845a6-45d9-4939-f88a-4e2cff2d9b8e"
      },
      "source": [
        "#learn.fit_one_cycle(4, 5e-2, moms=(0.8,0.7))"
      ],
      "execution_count": null,
      "outputs": [
        {
          "output_type": "display_data",
          "data": {
            "text/html": [
              "<table border=\"1\" class=\"dataframe\">\n",
              "  <thead>\n",
              "    <tr style=\"text-align: left;\">\n",
              "      <th>epoch</th>\n",
              "      <th>train_loss</th>\n",
              "      <th>valid_loss</th>\n",
              "      <th>accuracy</th>\n",
              "      <th>time</th>\n",
              "    </tr>\n",
              "  </thead>\n",
              "  <tbody>\n",
              "    <tr>\n",
              "      <td>0</td>\n",
              "      <td>0.766248</td>\n",
              "      <td>4.391377</td>\n",
              "      <td>0.258929</td>\n",
              "      <td>00:01</td>\n",
              "    </tr>\n",
              "    <tr>\n",
              "      <td>1</td>\n",
              "      <td>3.455055</td>\n",
              "      <td>5.942025</td>\n",
              "      <td>0.151562</td>\n",
              "      <td>00:00</td>\n",
              "    </tr>\n",
              "    <tr>\n",
              "      <td>2</td>\n",
              "      <td>4.947016</td>\n",
              "      <td>6.912456</td>\n",
              "      <td>0.016518</td>\n",
              "      <td>00:00</td>\n",
              "    </tr>\n",
              "    <tr>\n",
              "      <td>3</td>\n",
              "      <td>5.286956</td>\n",
              "      <td>5.601059</td>\n",
              "      <td>0.105804</td>\n",
              "      <td>00:00</td>\n",
              "    </tr>\n",
              "  </tbody>\n",
              "</table>"
            ],
            "text/plain": [
              "<IPython.core.display.HTML object>"
            ]
          },
          "metadata": {}
        }
      ]
    },
    {
      "cell_type": "markdown",
      "metadata": {
        "id": "-Yxj3d1N5nTe"
      },
      "source": [
        "Here we see that the accuracy has drastically improved if we compare with the Language model in step 1 when we provide labels.\n",
        "Now we will partially train the model by unfreezing one layer at a time & differential learning rate. Here I am using the slice attribute which will divide the specified learning rates among 3 groups of models."
      ]
    },
    {
      "cell_type": "code",
      "metadata": {
        "colab": {
          "base_uri": "https://localhost:8080/",
          "height": 403
        },
        "id": "Jv9WwwCW5pDP",
        "outputId": "614711e8-6b43-48ad-faf5-82fe7faa04f5"
      },
      "source": [
        "learn.freeze_to(-2)\n",
        "learn.fit_one_cycle(4, slice(1e-3/(2.6**4), 1e-3), moms=(0.8,0.7))"
      ],
      "execution_count": null,
      "outputs": [
        {
          "output_type": "display_data",
          "data": {
            "text/html": [
              "<table border=\"1\" class=\"dataframe\">\n",
              "  <thead>\n",
              "    <tr style=\"text-align: left;\">\n",
              "      <th>epoch</th>\n",
              "      <th>train_loss</th>\n",
              "      <th>valid_loss</th>\n",
              "      <th>accuracy</th>\n",
              "      <th>time</th>\n",
              "    </tr>\n",
              "  </thead>\n",
              "  <tbody>\n",
              "    <tr>\n",
              "      <td>0</td>\n",
              "      <td>0.654473</td>\n",
              "      <td>0.459751</td>\n",
              "      <td>0.859259</td>\n",
              "      <td>00:01</td>\n",
              "    </tr>\n",
              "    <tr>\n",
              "      <td>1</td>\n",
              "      <td>0.459904</td>\n",
              "      <td>0.271152</td>\n",
              "      <td>0.925926</td>\n",
              "      <td>00:01</td>\n",
              "    </tr>\n",
              "    <tr>\n",
              "      <td>2</td>\n",
              "      <td>0.376010</td>\n",
              "      <td>0.219377</td>\n",
              "      <td>0.937037</td>\n",
              "      <td>00:01</td>\n",
              "    </tr>\n",
              "    <tr>\n",
              "      <td>3</td>\n",
              "      <td>0.336206</td>\n",
              "      <td>0.210937</td>\n",
              "      <td>0.937037</td>\n",
              "      <td>00:01</td>\n",
              "    </tr>\n",
              "  </tbody>\n",
              "</table>"
            ],
            "text/plain": [
              "<IPython.core.display.HTML object>"
            ]
          },
          "metadata": {}
        },
        {
          "output_type": "stream",
          "name": "stderr",
          "text": [
            "/usr/local/lib/python3.7/dist-packages/numpy/core/_asarray.py:83: VisibleDeprecationWarning: Creating an ndarray from ragged nested sequences (which is a list-or-tuple of lists-or-tuples-or ndarrays with different lengths or shapes) is deprecated. If you meant to do this, you must specify 'dtype=object' when creating the ndarray\n",
            "  return array(a, dtype, copy=False, order=order)\n",
            "<string>:6: VisibleDeprecationWarning: Creating an ndarray from ragged nested sequences (which is a list-or-tuple of lists-or-tuples-or ndarrays with different lengths or shapes) is deprecated. If you meant to do this, you must specify 'dtype=object' when creating the ndarray\n",
            "/usr/local/lib/python3.7/dist-packages/numpy/core/_asarray.py:83: VisibleDeprecationWarning: Creating an ndarray from ragged nested sequences (which is a list-or-tuple of lists-or-tuples-or ndarrays with different lengths or shapes) is deprecated. If you meant to do this, you must specify 'dtype=object' when creating the ndarray\n",
            "  return array(a, dtype, copy=False, order=order)\n",
            "<string>:6: VisibleDeprecationWarning: Creating an ndarray from ragged nested sequences (which is a list-or-tuple of lists-or-tuples-or ndarrays with different lengths or shapes) is deprecated. If you meant to do this, you must specify 'dtype=object' when creating the ndarray\n",
            "/usr/local/lib/python3.7/dist-packages/numpy/core/_asarray.py:83: VisibleDeprecationWarning: Creating an ndarray from ragged nested sequences (which is a list-or-tuple of lists-or-tuples-or ndarrays with different lengths or shapes) is deprecated. If you meant to do this, you must specify 'dtype=object' when creating the ndarray\n",
            "  return array(a, dtype, copy=False, order=order)\n",
            "<string>:6: VisibleDeprecationWarning: Creating an ndarray from ragged nested sequences (which is a list-or-tuple of lists-or-tuples-or ndarrays with different lengths or shapes) is deprecated. If you meant to do this, you must specify 'dtype=object' when creating the ndarray\n",
            "/usr/local/lib/python3.7/dist-packages/numpy/core/_asarray.py:83: VisibleDeprecationWarning: Creating an ndarray from ragged nested sequences (which is a list-or-tuple of lists-or-tuples-or ndarrays with different lengths or shapes) is deprecated. If you meant to do this, you must specify 'dtype=object' when creating the ndarray\n",
            "  return array(a, dtype, copy=False, order=order)\n",
            "<string>:6: VisibleDeprecationWarning: Creating an ndarray from ragged nested sequences (which is a list-or-tuple of lists-or-tuples-or ndarrays with different lengths or shapes) is deprecated. If you meant to do this, you must specify 'dtype=object' when creating the ndarray\n"
          ]
        }
      ]
    },
    {
      "cell_type": "markdown",
      "metadata": {
        "id": "zVLY-RQA51mq"
      },
      "source": [
        "We see that the accuracy is improving gradually which is expected as we are gradually unfreezing the layers. More layers providing more depth."
      ]
    },
    {
      "cell_type": "code",
      "metadata": {
        "colab": {
          "base_uri": "https://localhost:8080/",
          "height": 403
        },
        "id": "lUoZlIyZ536K",
        "outputId": "5a73119f-fe41-4123-88ba-34a6ab50ce4d"
      },
      "source": [
        "learn.freeze_to(-3)\n",
        "learn.fit_one_cycle(4, slice(5e-3/(2.6**4),5e-3), moms=(0.8,0.7))"
      ],
      "execution_count": null,
      "outputs": [
        {
          "output_type": "display_data",
          "data": {
            "text/html": [
              "<table border=\"1\" class=\"dataframe\">\n",
              "  <thead>\n",
              "    <tr style=\"text-align: left;\">\n",
              "      <th>epoch</th>\n",
              "      <th>train_loss</th>\n",
              "      <th>valid_loss</th>\n",
              "      <th>accuracy</th>\n",
              "      <th>time</th>\n",
              "    </tr>\n",
              "  </thead>\n",
              "  <tbody>\n",
              "    <tr>\n",
              "      <td>0</td>\n",
              "      <td>0.355689</td>\n",
              "      <td>0.295547</td>\n",
              "      <td>0.896296</td>\n",
              "      <td>00:02</td>\n",
              "    </tr>\n",
              "    <tr>\n",
              "      <td>1</td>\n",
              "      <td>0.353004</td>\n",
              "      <td>0.228420</td>\n",
              "      <td>0.914815</td>\n",
              "      <td>00:02</td>\n",
              "    </tr>\n",
              "    <tr>\n",
              "      <td>2</td>\n",
              "      <td>0.279125</td>\n",
              "      <td>0.205954</td>\n",
              "      <td>0.922222</td>\n",
              "      <td>00:02</td>\n",
              "    </tr>\n",
              "    <tr>\n",
              "      <td>3</td>\n",
              "      <td>0.229406</td>\n",
              "      <td>0.202228</td>\n",
              "      <td>0.925926</td>\n",
              "      <td>00:02</td>\n",
              "    </tr>\n",
              "  </tbody>\n",
              "</table>"
            ],
            "text/plain": [
              "<IPython.core.display.HTML object>"
            ]
          },
          "metadata": {}
        },
        {
          "output_type": "stream",
          "name": "stderr",
          "text": [
            "/usr/local/lib/python3.7/dist-packages/numpy/core/_asarray.py:83: VisibleDeprecationWarning: Creating an ndarray from ragged nested sequences (which is a list-or-tuple of lists-or-tuples-or ndarrays with different lengths or shapes) is deprecated. If you meant to do this, you must specify 'dtype=object' when creating the ndarray\n",
            "  return array(a, dtype, copy=False, order=order)\n",
            "<string>:6: VisibleDeprecationWarning: Creating an ndarray from ragged nested sequences (which is a list-or-tuple of lists-or-tuples-or ndarrays with different lengths or shapes) is deprecated. If you meant to do this, you must specify 'dtype=object' when creating the ndarray\n",
            "/usr/local/lib/python3.7/dist-packages/numpy/core/_asarray.py:83: VisibleDeprecationWarning: Creating an ndarray from ragged nested sequences (which is a list-or-tuple of lists-or-tuples-or ndarrays with different lengths or shapes) is deprecated. If you meant to do this, you must specify 'dtype=object' when creating the ndarray\n",
            "  return array(a, dtype, copy=False, order=order)\n",
            "<string>:6: VisibleDeprecationWarning: Creating an ndarray from ragged nested sequences (which is a list-or-tuple of lists-or-tuples-or ndarrays with different lengths or shapes) is deprecated. If you meant to do this, you must specify 'dtype=object' when creating the ndarray\n",
            "/usr/local/lib/python3.7/dist-packages/numpy/core/_asarray.py:83: VisibleDeprecationWarning: Creating an ndarray from ragged nested sequences (which is a list-or-tuple of lists-or-tuples-or ndarrays with different lengths or shapes) is deprecated. If you meant to do this, you must specify 'dtype=object' when creating the ndarray\n",
            "  return array(a, dtype, copy=False, order=order)\n",
            "<string>:6: VisibleDeprecationWarning: Creating an ndarray from ragged nested sequences (which is a list-or-tuple of lists-or-tuples-or ndarrays with different lengths or shapes) is deprecated. If you meant to do this, you must specify 'dtype=object' when creating the ndarray\n",
            "/usr/local/lib/python3.7/dist-packages/numpy/core/_asarray.py:83: VisibleDeprecationWarning: Creating an ndarray from ragged nested sequences (which is a list-or-tuple of lists-or-tuples-or ndarrays with different lengths or shapes) is deprecated. If you meant to do this, you must specify 'dtype=object' when creating the ndarray\n",
            "  return array(a, dtype, copy=False, order=order)\n",
            "<string>:6: VisibleDeprecationWarning: Creating an ndarray from ragged nested sequences (which is a list-or-tuple of lists-or-tuples-or ndarrays with different lengths or shapes) is deprecated. If you meant to do this, you must specify 'dtype=object' when creating the ndarray\n"
          ]
        }
      ]
    },
    {
      "cell_type": "markdown",
      "metadata": {
        "id": "PtggGJBr6DSu"
      },
      "source": [
        "Finally, we will unfreeze the whole model & visualize the learning rate to choose & use that for final training."
      ]
    },
    {
      "cell_type": "code",
      "metadata": {
        "colab": {
          "base_uri": "https://localhost:8080/",
          "height": 863
        },
        "id": "1Gg4LOTo59g4",
        "outputId": "172f11af-4a71-43f8-fe9e-a3155e81ef09"
      },
      "source": [
        "learn.unfreeze()\n",
        "learn.lr_find()\n",
        "learn.recorder.plot(skip_end=15)"
      ],
      "execution_count": null,
      "outputs": [
        {
          "output_type": "display_data",
          "data": {
            "text/html": [
              "\n",
              "    <div>\n",
              "        <style>\n",
              "            /* Turns off some styling */\n",
              "            progress {\n",
              "                /* gets rid of default border in Firefox and Opera. */\n",
              "                border: none;\n",
              "                /* Needs to be in here for Safari polyfill so background images work as expected. */\n",
              "                background-size: auto;\n",
              "            }\n",
              "            .progress-bar-interrupted, .progress-bar-interrupted::-webkit-progress-bar {\n",
              "                background: #F44336;\n",
              "            }\n",
              "        </style>\n",
              "      <progress value='4' class='' max='6' style='width:300px; height:20px; vertical-align: middle;'></progress>\n",
              "      66.67% [4/6 00:08<00:04]\n",
              "    </div>\n",
              "    \n",
              "<table border=\"1\" class=\"dataframe\">\n",
              "  <thead>\n",
              "    <tr style=\"text-align: left;\">\n",
              "      <th>epoch</th>\n",
              "      <th>train_loss</th>\n",
              "      <th>valid_loss</th>\n",
              "      <th>accuracy</th>\n",
              "      <th>time</th>\n",
              "    </tr>\n",
              "  </thead>\n",
              "  <tbody>\n",
              "    <tr>\n",
              "      <td>0</td>\n",
              "      <td>0.187969</td>\n",
              "      <td>#na#</td>\n",
              "      <td>00:02</td>\n",
              "    </tr>\n",
              "    <tr>\n",
              "      <td>1</td>\n",
              "      <td>0.172774</td>\n",
              "      <td>#na#</td>\n",
              "      <td>00:01</td>\n",
              "    </tr>\n",
              "    <tr>\n",
              "      <td>2</td>\n",
              "      <td>0.177387</td>\n",
              "      <td>#na#</td>\n",
              "      <td>00:01</td>\n",
              "    </tr>\n",
              "    <tr>\n",
              "      <td>3</td>\n",
              "      <td>0.237127</td>\n",
              "      <td>#na#</td>\n",
              "      <td>00:01</td>\n",
              "    </tr>\n",
              "  </tbody>\n",
              "</table><p>\n",
              "\n",
              "    <div>\n",
              "        <style>\n",
              "            /* Turns off some styling */\n",
              "            progress {\n",
              "                /* gets rid of default border in Firefox and Opera. */\n",
              "                border: none;\n",
              "                /* Needs to be in here for Safari polyfill so background images work as expected. */\n",
              "                background-size: auto;\n",
              "            }\n",
              "            .progress-bar-interrupted, .progress-bar-interrupted::-webkit-progress-bar {\n",
              "                background: #F44336;\n",
              "            }\n",
              "        </style>\n",
              "      <progress value='8' class='' max='19' style='width:300px; height:20px; vertical-align: middle;'></progress>\n",
              "      42.11% [8/19 00:00<00:01 0.3106]\n",
              "    </div>\n",
              "    "
            ],
            "text/plain": [
              "<IPython.core.display.HTML object>"
            ]
          },
          "metadata": {}
        },
        {
          "output_type": "stream",
          "name": "stderr",
          "text": [
            "/usr/local/lib/python3.7/dist-packages/numpy/core/_asarray.py:83: VisibleDeprecationWarning: Creating an ndarray from ragged nested sequences (which is a list-or-tuple of lists-or-tuples-or ndarrays with different lengths or shapes) is deprecated. If you meant to do this, you must specify 'dtype=object' when creating the ndarray\n",
            "  return array(a, dtype, copy=False, order=order)\n",
            "<string>:6: VisibleDeprecationWarning: Creating an ndarray from ragged nested sequences (which is a list-or-tuple of lists-or-tuples-or ndarrays with different lengths or shapes) is deprecated. If you meant to do this, you must specify 'dtype=object' when creating the ndarray\n",
            "/usr/local/lib/python3.7/dist-packages/numpy/core/_asarray.py:83: VisibleDeprecationWarning: Creating an ndarray from ragged nested sequences (which is a list-or-tuple of lists-or-tuples-or ndarrays with different lengths or shapes) is deprecated. If you meant to do this, you must specify 'dtype=object' when creating the ndarray\n",
            "  return array(a, dtype, copy=False, order=order)\n",
            "<string>:6: VisibleDeprecationWarning: Creating an ndarray from ragged nested sequences (which is a list-or-tuple of lists-or-tuples-or ndarrays with different lengths or shapes) is deprecated. If you meant to do this, you must specify 'dtype=object' when creating the ndarray\n",
            "/usr/local/lib/python3.7/dist-packages/numpy/core/_asarray.py:83: VisibleDeprecationWarning: Creating an ndarray from ragged nested sequences (which is a list-or-tuple of lists-or-tuples-or ndarrays with different lengths or shapes) is deprecated. If you meant to do this, you must specify 'dtype=object' when creating the ndarray\n",
            "  return array(a, dtype, copy=False, order=order)\n",
            "<string>:6: VisibleDeprecationWarning: Creating an ndarray from ragged nested sequences (which is a list-or-tuple of lists-or-tuples-or ndarrays with different lengths or shapes) is deprecated. If you meant to do this, you must specify 'dtype=object' when creating the ndarray\n",
            "/usr/local/lib/python3.7/dist-packages/numpy/core/_asarray.py:83: VisibleDeprecationWarning: Creating an ndarray from ragged nested sequences (which is a list-or-tuple of lists-or-tuples-or ndarrays with different lengths or shapes) is deprecated. If you meant to do this, you must specify 'dtype=object' when creating the ndarray\n",
            "  return array(a, dtype, copy=False, order=order)\n",
            "<string>:6: VisibleDeprecationWarning: Creating an ndarray from ragged nested sequences (which is a list-or-tuple of lists-or-tuples-or ndarrays with different lengths or shapes) is deprecated. If you meant to do this, you must specify 'dtype=object' when creating the ndarray\n",
            "/usr/local/lib/python3.7/dist-packages/numpy/core/_asarray.py:83: VisibleDeprecationWarning: Creating an ndarray from ragged nested sequences (which is a list-or-tuple of lists-or-tuples-or ndarrays with different lengths or shapes) is deprecated. If you meant to do this, you must specify 'dtype=object' when creating the ndarray\n",
            "  return array(a, dtype, copy=False, order=order)\n",
            "<string>:6: VisibleDeprecationWarning: Creating an ndarray from ragged nested sequences (which is a list-or-tuple of lists-or-tuples-or ndarrays with different lengths or shapes) is deprecated. If you meant to do this, you must specify 'dtype=object' when creating the ndarray\n"
          ]
        },
        {
          "output_type": "stream",
          "name": "stdout",
          "text": [
            "LR Finder is complete, type {learner_name}.recorder.plot() to see the graph.\n"
          ]
        },
        {
          "output_type": "display_data",
          "data": {
            "image/png": "[encoded data removed]",
            "text/plain": [
              "<Figure size 576x396 with 1 Axes>"
            ]
          },
          "metadata": {}
        }
      ]
    },
    {
      "cell_type": "code",
      "metadata": {
        "colab": {
          "base_uri": "https://localhost:8080/",
          "height": 487
        },
        "id": "YJlVRRCL6MFT",
        "outputId": "93bab52f-c5f7-4bd1-91ec-78df086f5765"
      },
      "source": [
        "learn.fit_one_cycle(5, slice(1e-3/(2.6**4),1e-3), moms=(0.8,0.7))\n",
        "learn.save('fwd_clas')"
      ],
      "execution_count": null,
      "outputs": [
        {
          "output_type": "display_data",
          "data": {
            "text/html": [
              "<table border=\"1\" class=\"dataframe\">\n",
              "  <thead>\n",
              "    <tr style=\"text-align: left;\">\n",
              "      <th>epoch</th>\n",
              "      <th>train_loss</th>\n",
              "      <th>valid_loss</th>\n",
              "      <th>accuracy</th>\n",
              "      <th>time</th>\n",
              "    </tr>\n",
              "  </thead>\n",
              "  <tbody>\n",
              "    <tr>\n",
              "      <td>0</td>\n",
              "      <td>0.153969</td>\n",
              "      <td>0.187725</td>\n",
              "      <td>0.933333</td>\n",
              "      <td>00:02</td>\n",
              "    </tr>\n",
              "    <tr>\n",
              "      <td>1</td>\n",
              "      <td>0.140956</td>\n",
              "      <td>0.174568</td>\n",
              "      <td>0.925926</td>\n",
              "      <td>00:02</td>\n",
              "    </tr>\n",
              "    <tr>\n",
              "      <td>2</td>\n",
              "      <td>0.137828</td>\n",
              "      <td>0.184937</td>\n",
              "      <td>0.922222</td>\n",
              "      <td>00:02</td>\n",
              "    </tr>\n",
              "    <tr>\n",
              "      <td>3</td>\n",
              "      <td>0.128494</td>\n",
              "      <td>0.175116</td>\n",
              "      <td>0.929630</td>\n",
              "      <td>00:02</td>\n",
              "    </tr>\n",
              "    <tr>\n",
              "      <td>4</td>\n",
              "      <td>0.123485</td>\n",
              "      <td>0.170442</td>\n",
              "      <td>0.929630</td>\n",
              "      <td>00:02</td>\n",
              "    </tr>\n",
              "  </tbody>\n",
              "</table>"
            ],
            "text/plain": [
              "<IPython.core.display.HTML object>"
            ]
          },
          "metadata": {}
        },
        {
          "output_type": "stream",
          "name": "stderr",
          "text": [
            "/usr/local/lib/python3.7/dist-packages/numpy/core/_asarray.py:83: VisibleDeprecationWarning: Creating an ndarray from ragged nested sequences (which is a list-or-tuple of lists-or-tuples-or ndarrays with different lengths or shapes) is deprecated. If you meant to do this, you must specify 'dtype=object' when creating the ndarray\n",
            "  return array(a, dtype, copy=False, order=order)\n",
            "<string>:6: VisibleDeprecationWarning: Creating an ndarray from ragged nested sequences (which is a list-or-tuple of lists-or-tuples-or ndarrays with different lengths or shapes) is deprecated. If you meant to do this, you must specify 'dtype=object' when creating the ndarray\n",
            "/usr/local/lib/python3.7/dist-packages/numpy/core/_asarray.py:83: VisibleDeprecationWarning: Creating an ndarray from ragged nested sequences (which is a list-or-tuple of lists-or-tuples-or ndarrays with different lengths or shapes) is deprecated. If you meant to do this, you must specify 'dtype=object' when creating the ndarray\n",
            "  return array(a, dtype, copy=False, order=order)\n",
            "<string>:6: VisibleDeprecationWarning: Creating an ndarray from ragged nested sequences (which is a list-or-tuple of lists-or-tuples-or ndarrays with different lengths or shapes) is deprecated. If you meant to do this, you must specify 'dtype=object' when creating the ndarray\n",
            "/usr/local/lib/python3.7/dist-packages/numpy/core/_asarray.py:83: VisibleDeprecationWarning: Creating an ndarray from ragged nested sequences (which is a list-or-tuple of lists-or-tuples-or ndarrays with different lengths or shapes) is deprecated. If you meant to do this, you must specify 'dtype=object' when creating the ndarray\n",
            "  return array(a, dtype, copy=False, order=order)\n",
            "<string>:6: VisibleDeprecationWarning: Creating an ndarray from ragged nested sequences (which is a list-or-tuple of lists-or-tuples-or ndarrays with different lengths or shapes) is deprecated. If you meant to do this, you must specify 'dtype=object' when creating the ndarray\n",
            "/usr/local/lib/python3.7/dist-packages/numpy/core/_asarray.py:83: VisibleDeprecationWarning: Creating an ndarray from ragged nested sequences (which is a list-or-tuple of lists-or-tuples-or ndarrays with different lengths or shapes) is deprecated. If you meant to do this, you must specify 'dtype=object' when creating the ndarray\n",
            "  return array(a, dtype, copy=False, order=order)\n",
            "<string>:6: VisibleDeprecationWarning: Creating an ndarray from ragged nested sequences (which is a list-or-tuple of lists-or-tuples-or ndarrays with different lengths or shapes) is deprecated. If you meant to do this, you must specify 'dtype=object' when creating the ndarray\n",
            "/usr/local/lib/python3.7/dist-packages/numpy/core/_asarray.py:83: VisibleDeprecationWarning: Creating an ndarray from ragged nested sequences (which is a list-or-tuple of lists-or-tuples-or ndarrays with different lengths or shapes) is deprecated. If you meant to do this, you must specify 'dtype=object' when creating the ndarray\n",
            "  return array(a, dtype, copy=False, order=order)\n",
            "<string>:6: VisibleDeprecationWarning: Creating an ndarray from ragged nested sequences (which is a list-or-tuple of lists-or-tuples-or ndarrays with different lengths or shapes) is deprecated. If you meant to do this, you must specify 'dtype=object' when creating the ndarray\n"
          ]
        }
      ]
    },
    {
      "cell_type": "markdown",
      "metadata": {
        "id": "OhXorA-A64yr"
      },
      "source": [
        "We see that we have achieved maximum accuracy of 80% by the end of this model."
      ]
    },
    {
      "cell_type": "markdown",
      "metadata": {
        "id": "c62DaG2V7BQd"
      },
      "source": [
        "For our final results, we’ll take the average of the predictions of the model. Since the samples are sorted by text lengths for batching, we pass the argument ordered=True to get the predictions in the order of the texts."
      ]
    },
    {
      "cell_type": "code",
      "metadata": {
        "colab": {
          "base_uri": "https://localhost:8080/",
          "height": 35
        },
        "id": "2XloR4QG64Rr",
        "outputId": "b3b7d67e-2744-4616-9d9e-6cc3926870bd"
      },
      "source": [
        "pred_fwd,lbl_fwd = learn.get_preds(ordered=True)\n",
        "accuracy(pred_fwd, lbl_fwd)"
      ],
      "execution_count": null,
      "outputs": [
        {
          "output_type": "display_data",
          "data": {
            "text/html": [
              ""
            ],
            "text/plain": [
              "<IPython.core.display.HTML object>"
            ]
          },
          "metadata": {}
        },
        {
          "output_type": "execute_result",
          "data": {
            "text/plain": [
              "tensor(0.9296)"
            ]
          },
          "metadata": {},
          "execution_count": 116
        }
      ]
    },
    {
      "cell_type": "code",
      "metadata": {
        "colab": {
          "base_uri": "https://localhost:8080/"
        },
        "id": "93ha1_ku8jXu",
        "outputId": "5e9f6fda-974f-42b3-cdfb-37a9d11f5b7d"
      },
      "source": [
        "print(np.argmax(pred_fwd[0]))"
      ],
      "execution_count": null,
      "outputs": [
        {
          "output_type": "stream",
          "name": "stdout",
          "text": [
            "tensor(1)\n"
          ]
        }
      ]
    },
    {
      "cell_type": "code",
      "metadata": {
        "colab": {
          "base_uri": "https://localhost:8080/",
          "height": 143
        },
        "id": "5wi8qoDwoXJu",
        "outputId": "8d872667-5ca0-41a5-a4e9-69d00c0df519"
      },
      "source": [
        "predictions = np.argmax(pred_fwd, axis = 1)\n",
        "pd.crosstab(predictions, lbl_fwd)"
      ],
      "execution_count": null,
      "outputs": [
        {
          "output_type": "execute_result",
          "data": {
            "text/html": [
              "<div>\n",
              "<style scoped>\n",
              "    .dataframe tbody tr th:only-of-type {\n",
              "        vertical-align: middle;\n",
              "    }\n",
              "\n",
              "    .dataframe tbody tr th {\n",
              "        vertical-align: top;\n",
              "    }\n",
              "\n",
              "    .dataframe thead th {\n",
              "        text-align: right;\n",
              "    }\n",
              "</style>\n",
              "<table border=\"1\" class=\"dataframe\">\n",
              "  <thead>\n",
              "    <tr style=\"text-align: right;\">\n",
              "      <th>col_0</th>\n",
              "      <th>0</th>\n",
              "      <th>1</th>\n",
              "    </tr>\n",
              "    <tr>\n",
              "      <th>row_0</th>\n",
              "      <th></th>\n",
              "      <th></th>\n",
              "    </tr>\n",
              "  </thead>\n",
              "  <tbody>\n",
              "    <tr>\n",
              "      <th>0</th>\n",
              "      <td>127</td>\n",
              "      <td>11</td>\n",
              "    </tr>\n",
              "    <tr>\n",
              "      <th>1</th>\n",
              "      <td>8</td>\n",
              "      <td>124</td>\n",
              "    </tr>\n",
              "  </tbody>\n",
              "</table>\n",
              "</div>"
            ],
            "text/plain": [
              "col_0    0    1\n",
              "row_0          \n",
              "0      127   11\n",
              "1        8  124"
            ]
          },
          "metadata": {},
          "execution_count": 118
        }
      ]
    },
    {
      "cell_type": "code",
      "metadata": {
        "colab": {
          "base_uri": "https://localhost:8080/"
        },
        "id": "3-tRigpuDS30",
        "outputId": "4bbaaadc-ceb9-4bb2-91be-deb5cf65e869"
      },
      "source": [
        "from sklearn.metrics import classification_report\n",
        "# model's performance\n",
        "#preds = np.argmax(preds, axis = 1)\n",
        "print(classification_report(lbl_fwd, predictions))"
      ],
      "execution_count": null,
      "outputs": [
        {
          "output_type": "stream",
          "name": "stdout",
          "text": [
            "              precision    recall  f1-score   support\n",
            "\n",
            "           0       0.92      0.94      0.93       135\n",
            "           1       0.94      0.92      0.93       135\n",
            "\n",
            "    accuracy                           0.93       270\n",
            "   macro avg       0.93      0.93      0.93       270\n",
            "weighted avg       0.93      0.93      0.93       270\n",
            "\n"
          ]
        }
      ]
    },
    {
      "cell_type": "code",
      "metadata": {
        "id": "ECFCS4gUYsjj"
      },
      "source": [
        "misclassified = [i for i in range(len(predictions)) if predictions[i] != lbl_fwd[i]]"
      ],
      "execution_count": null,
      "outputs": []
    },
    {
      "cell_type": "code",
      "metadata": {
        "id": "pvlD75tlYsjn"
      },
      "source": [
        "t=df_val.to_numpy()\n"
      ],
      "execution_count": null,
      "outputs": []
    },
    {
      "cell_type": "code",
      "source": [
        "misclassified"
      ],
      "metadata": {
        "id": "l4QOwXQpZVk7"
      },
      "execution_count": null,
      "outputs": []
    },
    {
      "cell_type": "code",
      "metadata": {
        "colab": {
          "base_uri": "https://localhost:8080/"
        },
        "outputId": "43e9ae44-bad1-4781-c014-24d592e51e6d",
        "id": "uy6jUEUFYsjn"
      },
      "source": [
        "missed=list()\n",
        "for i in range(len(misclassified)):\n",
        "  missed.append(t[misclassified[i]])\n",
        "print(missed)"
      ],
      "execution_count": null,
      "outputs": [
        {
          "output_type": "stream",
          "name": "stdout",
          "text": [
            "[array([1, 'condition there is problem in loading game or an artificial intelligence.'], dtype=object), array([1,\n",
            "       'if the service requirements are acceptable according to the provider policy mediator passes it to the local pa.'],\n",
            "      dtype=object), array([0,\n",
            "       'finally the user selects the output file path or let the pdfsam create one by default to the same folder as one of the imported files.'],\n",
            "      dtype=object), array([1, 'pas exchange accounting information to perform billing based on negotiated relationships.'], dtype=object), array([0, 'core set of files consisting of one lexical specification file one grammar file and zero or.'], dtype=object), array([0, 'when stock item category is updated the corresponding item is updated in quickbooks pos.'], dtype=object), array([0, 'the system must record every time receipt is printed or emailed.'], dtype=object), array([1, 'each cdn web server publishes resource and service information.'], dtype=object), array([1, 'all the operations have been suspended.'], dtype=object), array([1, 'request is redirected to an optimal peer web server.'], dtype=object), array([0, 'user must select at least one category to move.'], dtype=object), array([0, 'upon customer perceptions of conflicting privacy statements.'], dtype=object), array([0, 'selecting an under category prompts for description and also takes you back to the acquisition screen.'],\n",
            "      dtype=object), array([1, 'the request sent to supplier login in failed there is no suppliers for his requests or send error.'],\n",
            "      dtype=object), array([1, 'tlp files to the new directory.'], dtype=object), array([0, 'the user will be given.'], dtype=object), array([1,\n",
            "       'system display the details for that acquisition including expected items donor or primary contact arrives at receiving dock with valid donation number.'],\n",
            "      dtype=object), array([1, 'minimally the system will copy selected text in response to the ctrl insert key combination.'], dtype=object), array([1, 'the transformation language program contains all references to input and output files.'], dtype=object)]\n"
          ]
        }
      ]
    },
    {
      "cell_type": "code",
      "metadata": {
        "colab": {
          "base_uri": "https://localhost:8080/"
        },
        "outputId": "2fbdc58f-b711-41d5-86d5-c014e37cb983",
        "id": "uUzHaAh5Ysjo"
      },
      "source": [
        "print(len(missed))"
      ],
      "execution_count": null,
      "outputs": [
        {
          "output_type": "stream",
          "name": "stdout",
          "text": [
            "19\n"
          ]
        }
      ]
    },
    {
      "cell_type": "code",
      "source": [
        ""
      ],
      "metadata": {
        "id": "eWV4vDyYYrqC"
      },
      "execution_count": null,
      "outputs": []
    },
    {
      "cell_type": "code",
      "metadata": {
        "colab": {
          "base_uri": "https://localhost:8080/",
          "height": 361
        },
        "id": "cqP2vuzDo0X-",
        "outputId": "bc590603-e9fa-43c0-c996-f243a4955648"
      },
      "source": [
        "from sklearn import metrics\n",
        "#define metrics\n",
        "#y_pred_proba = log_regression.predict_proba(X_test)[::,1]\n",
        "umlfit_fpr, umlfit_tpr, _ = metrics.roc_curve(lbl_fwd,  predictions)\n",
        "auc_umlfit = metrics.roc_auc_score(lbl_fwd,  predictions)\n",
        "\n",
        "#create ROC curve\n",
        "plt.plot(umlfit_fpr,umlfit_tpr,label=\"AUC=\"+str(auc_umlfit))\n",
        "plt.ylabel('True Positive Rate')\n",
        "plt.xlabel('False Positive Rate')\n",
        "plt.legend(loc=4)\n",
        "plt.show()"
      ],
      "execution_count": null,
      "outputs": [
        {
          "output_type": "display_data",
          "data": {
            "image/png": "[encoded data removed]",
            "text/plain": [
              "<Figure size 576x396 with 1 Axes>"
            ]
          },
          "metadata": {}
        }
      ]
    },
    {
      "cell_type": "markdown",
      "metadata": {
        "id": "fexKzYzN7I7w"
      },
      "source": [
        "We got the accuracy of 80.09%\n",
        "Now it’s time to test our model with new text inputs & see how it performs!\n",
        "The databunch has converted the text labels into numerical. They are as follows:\n",
        "0 => Negative\n",
        "1 => Neutral\n",
        "2 => Positive"
      ]
    },
    {
      "cell_type": "markdown",
      "metadata": {
        "id": "7rFcAXUU72dw"
      },
      "source": [
        "We see that our model has performed pretty well!!\n",
        "You can test the model with negative as well as mixed sentiment text and verify results.\n"
      ]
    },
    {
      "cell_type": "code",
      "metadata": {
        "colab": {
          "base_uri": "https://localhost:8080/"
        },
        "id": "3TLd1LBXmUhO",
        "outputId": "16260dfe-c20d-46d5-ae51-ce02130f7aec"
      },
      "source": [
        "t1 = \"User selects a transformation language program file to 3 parse.\" \n",
        "t2=\"The HATS-GUI compares the time stamps on the lexical specification and grammar files to the time.\"\n",
        "t3=\"agentMom shall 1-2 support the ability to send unicast message.\"\n",
        "learn.predict(t1)"
      ],
      "execution_count": null,
      "outputs": [
        {
          "output_type": "execute_result",
          "data": {
            "text/plain": [
              "(Category tensor(1), tensor(1), tensor([0.0074, 0.9926]))"
            ]
          },
          "metadata": {},
          "execution_count": 121
        }
      ]
    },
    {
      "cell_type": "code",
      "metadata": {
        "id": "fFNcIjiR1Pfu"
      },
      "source": [
        "def getUCS_UMLFiT(txt):\n",
        "  preds=list()\n",
        "  ucs=list()\n",
        "  for t in txt:\n",
        "    p=np.array(learn.predict(t)[2])\n",
        "    #learn.predict\n",
        "    #print(p)\n",
        "    #pred1, lbl = learn.get_preds(ordered=True)\n",
        "    p = np.argmax(p)\n",
        "    preds.append(p)\n",
        "  return preds"
      ],
      "execution_count": null,
      "outputs": []
    },
    {
      "cell_type": "code",
      "metadata": {
        "colab": {
          "base_uri": "https://localhost:8080/"
        },
        "id": "LADjpZTE2Wd0",
        "outputId": "3d47728c-8368-40f5-b804-569f6b97fd57"
      },
      "source": [
        "T=[\"Store assistant checks status of the tape to be returned by customer. \",\"PDF Split and Merge was created prior to this document, so all requirements stated here are already satisfied.\",\"Cashier enters item identifier.\",\n",
        "\"System updates the sale line item.\"]\n",
        "p=getUCS_UMLFiT(T)\n",
        "print(p)"
      ],
      "execution_count": null,
      "outputs": [
        {
          "output_type": "stream",
          "name": "stdout",
          "text": [
            "[1, 0, 1, 1]\n"
          ]
        }
      ]
    },
    {
      "cell_type": "code",
      "metadata": {
        "colab": {
          "base_uri": "https://localhost:8080/"
        },
        "id": "WLS2G_Zj1QDY",
        "outputId": "01a7a895-22c3-4bd1-a74b-fddc0183ea76"
      },
      "source": [
        "#predict UCS from SRS\n",
        "print(clean_text[3])\n",
        "#preds=predict_UCS(bert_base_model, clean_text)\n",
        "#print(preds)\n",
        "df_ucs=getUCS_UMLFiT(clean_text)\n",
        "print(df_ucs)"
      ],
      "execution_count": null,
      "outputs": [
        {
          "output_type": "stream",
          "name": "stdout",
          "text": [
            "this work is based upon the submissions of the spring cs.\n",
            "[0, 0, 0, 0, 0, 0, 1, 1, 0, 1, 1, 0, 1, 1, 0, 1, 1, 1, 1, 1, 0, 0, 0, 0, 1, 1, 0, 0, 1, 1, 1, 1, 0, 0, 1, 0, 0, 0, 0, 1, 0, 0, 0, 0, 0, 0, 0, 0, 0, 0, 0, 1, 0, 0, 1, 0, 0, 0, 0, 0, 0, 0, 0, 0, 1, 1, 0, 0, 0, 0, 0, 0, 1, 0, 0, 0, 1, 0, 0, 1, 0, 0, 0, 0, 0, 1, 1, 0, 0, 0, 0, 0, 0, 1, 0, 0, 1, 0, 0, 1, 0, 0, 0, 1, 1, 0, 1, 0, 1, 0, 0, 1, 1, 0, 1, 0, 1, 1, 0, 1, 0, 1, 0, 1, 1, 0, 0, 1, 0, 1, 0, 1, 1, 1, 1, 1, 0, 0, 1, 0, 1, 1, 1, 1, 1, 0, 1, 1, 1, 0, 1, 0, 1, 1, 0, 1, 0, 1, 1, 1, 1, 1, 1, 1, 0, 1, 0, 1, 1, 1, 1, 0, 1, 1, 0, 1, 0, 1, 1, 1, 1, 1, 0, 1, 1, 1, 1, 0, 1, 1, 0, 1, 1, 1, 1, 0, 1, 1, 0, 1, 1, 1, 1, 0, 1, 1, 0, 1, 1, 1, 1, 1, 1, 0, 0, 0, 1, 0, 0, 0, 0, 0, 1, 0, 0, 0, 0, 0, 0, 1, 0, 0, 0, 0, 1, 1, 0, 0, 1, 1, 1, 1, 0, 0, 1, 0, 1, 1, 1, 1, 1, 1, 1, 1, 1, 1, 1, 0, 1, 1, 0, 0, 1, 0, 0, 1, 1, 0, 1, 0, 1, 0, 0, 1, 1, 1, 1, 0, 1, 1, 1, 1, 1, 1, 0, 1, 1, 1, 1, 1, 1, 0, 1, 1, 1, 0, 1, 0, 1, 1, 0, 0, 1, 1, 1, 1, 1, 0, 1, 1, 1, 1, 1, 1, 1, 1, 1, 1, 0, 0, 1, 1, 1, 1, 0, 1, 1, 1, 1, 1, 1, 1, 0, 0, 0, 1, 1, 0, 0, 1, 1, 0, 1, 1, 1, 1, 1, 0, 0, 1, 1, 0, 1, 1, 0, 1, 1, 1, 1, 1, 1, 0, 0, 0, 0, 1, 0, 1, 0, 1, 1, 0, 1, 1, 0, 1, 0, 1, 0, 0, 0, 0, 0, 0, 0, 0, 0, 1, 0, 0, 1, 1, 0, 1, 1, 1, 1, 0, 0, 0, 0, 1, 0, 1, 1, 0, 1, 1, 1, 0, 0, 1, 0, 0, 0, 0, 1, 1, 0, 1, 1, 1, 1, 0, 0, 0, 0, 0, 0, 0, 0, 0, 0, 0, 0, 0, 0, 0, 0, 0, 0, 1]\n"
          ]
        }
      ]
    },
    {
      "cell_type": "code",
      "source": [
        "df_ucs"
      ],
      "metadata": {
        "id": "BNx5JxYjWMGe"
      },
      "execution_count": null,
      "outputs": []
    },
    {
      "cell_type": "code",
      "metadata": {
        "id": "TssaApgVGe5T",
        "colab": {
          "base_uri": "https://localhost:8080/"
        },
        "outputId": "8fa70718-dd8f-45a9-8ea4-b397750e8827"
      },
      "source": [
        "pa=np.array(df_ucs)\n",
        "pa=pa[pa>0]\n",
        "print(len(pa))"
      ],
      "execution_count": null,
      "outputs": [
        {
          "output_type": "stream",
          "name": "stdout",
          "text": [
            "232\n"
          ]
        }
      ]
    },
    {
      "cell_type": "code",
      "source": [
        ""
      ],
      "metadata": {
        "id": "HhygS7JnUwkv"
      },
      "execution_count": null,
      "outputs": []
    },
    {
      "cell_type": "markdown",
      "metadata": {
        "id": "TQtD8tKU4eQz"
      },
      "source": [
        "# Detecting Use Cases from SRS documents"
      ]
    },
    {
      "cell_type": "markdown",
      "metadata": {
        "id": "98ROqMSlVi9T"
      },
      "source": [
        "# Reading pdf file"
      ]
    },
    {
      "cell_type": "code",
      "metadata": {
        "id": "55DUID3yBPTz"
      },
      "source": [
        "!pip install PyPDF2"
      ],
      "execution_count": null,
      "outputs": []
    },
    {
      "cell_type": "code",
      "metadata": {
        "id": "5s2UNStdEjhx"
      },
      "source": [
        "# importing required modules \n",
        "import PyPDF2 \n",
        "def read_pdf_file(file_path):\n",
        "  # importing required modules \n",
        " \n",
        "  text=\"\"\n",
        "  \n",
        "  #path='/content/drive/My Drive/Colab Notebooks/casestudy/'\n",
        "  # creating a pdf file object \n",
        "  pdfFileObj = open(file_path, 'rb') \n",
        "  #filename=path+\"data_file.txt\"\n",
        "  #file_object = open(filename, 'a',errors=\"ignore\")\n",
        "    \n",
        "  # creating a pdf reader object \n",
        "  pdfReader = PyPDF2.PdfFileReader(pdfFileObj) \n",
        "      \n",
        "  # printing number of pages in pdf file \n",
        "  #print(pdfReader.numPages) \n",
        "  for i in range(pdfReader.numPages):    \n",
        "    # creating a page object \n",
        "    pageObj = pdfReader.getPage(i) \n",
        "    text=text+ pageObj.extractText() \n",
        "    # extracting text from page \n",
        "    #print(pageObj.extractText()) \n",
        "  #file_object.write(text)    \n",
        "  # closing the pdf file object \n",
        "  pdfFileObj.close()\n",
        "  #file_object.close() \n",
        "  return text"
      ],
      "execution_count": null,
      "outputs": []
    },
    {
      "cell_type": "code",
      "metadata": {
        "id": "V4fVLlUjExqu",
        "colab": {
          "base_uri": "https://localhost:8080/"
        },
        "outputId": "cc0fa8a9-2363-41f6-cdaa-b1a9b1656e44"
      },
      "source": [
        "#Reading SRS pdf file\n",
        "#path='/content/drive/My Drive/Colab Notebooks'\n",
        "file_path=path+'/casestudy/2001 - hats.pdf'\n",
        "text=read_pdf_file(file_path) "
      ],
      "execution_count": null,
      "outputs": [
        {
          "output_type": "stream",
          "name": "stderr",
          "text": [
            "PdfReadWarning: Xref table not zero-indexed. ID numbers for objects will be corrected. [pdf.py:1736]\n"
          ]
        }
      ]
    },
    {
      "cell_type": "code",
      "metadata": {
        "id": "Q7QQY-F3DsL4"
      },
      "source": [
        "import string\n",
        "import re\n",
        "#Cleaning text \n",
        "def text_cleaner(text):\n",
        "    # lower case text\n",
        "    newString = text.lower()\n",
        "    #newString = re.sub(r\"'s\\b\",\"\",newString)\n",
        "    # remove punctuations\n",
        "    newString = re.sub(\"[^a-zA-Z_]\", \" \", newString) \n",
        "    long_words=[]\n",
        "    # remove short word\n",
        "    for i in newString.split():\n",
        "        if len(i)>=3:                  \n",
        "            long_words.append(i)\n",
        "    return (\" \".join(long_words)).strip()+'.'\n",
        "\n",
        "\n"
      ],
      "execution_count": null,
      "outputs": []
    },
    {
      "cell_type": "code",
      "metadata": {
        "id": "Im5emJri56O9"
      },
      "source": [
        "#cleaning text\n",
        "sent=text.split(\".\")\n",
        "#print(len(sent))\n",
        "clean_text=list()\n",
        "for i in range(len(sent)):\n",
        "  if len(sent[i])>3:\n",
        "    #print(sent[i])\n",
        "    clean_text.append(text_cleaner(sent[i]))\n",
        "print(clean_text[0])"
      ],
      "execution_count": null,
      "outputs": []
    },
    {
      "cell_type": "code",
      "metadata": {
        "id": "Vw_niURO7WCT"
      },
      "source": [
        "#return list of UCS\n",
        "def get_UCS(text,preds):\n",
        "  df_test=list()\n",
        "  #df_test = pd.DataFrame(text)\n",
        "  #print(df_test)\n",
        "  #df_test1=df_test[preds==1]\n",
        "  #print(len(df_test))\n",
        "  #df.head()\n",
        "  for i in range( len(preds)):\n",
        "    if preds[i]==1:\n",
        "      print(text[i])\n",
        "      df_test.append(text[i])\n",
        "  return df_test"
      ],
      "execution_count": null,
      "outputs": []
    },
    {
      "cell_type": "code",
      "metadata": {
        "colab": {
          "base_uri": "https://localhost:8080/"
        },
        "id": "xEfbO2zKT452",
        "outputId": "3dab69a3-ba53-4c4f-a0c0-399aa78b892f"
      },
      "source": [
        "from nltk.corpus import stopwords\n",
        "import nltk\n",
        "nltk.download('stopwords')"
      ],
      "execution_count": null,
      "outputs": [
        {
          "output_type": "stream",
          "name": "stdout",
          "text": [
            "[nltk_data] Downloading package stopwords to /root/nltk_data...\n",
            "[nltk_data]   Unzipping corpora/stopwords.zip.\n"
          ]
        },
        {
          "output_type": "execute_result",
          "data": {
            "text/plain": [
              "True"
            ]
          },
          "metadata": {},
          "execution_count": 131
        }
      ]
    },
    {
      "cell_type": "code",
      "metadata": {
        "id": "OZAp_WdlSSX0"
      },
      "source": [
        "# turn a doc into clean tokens\n",
        "def clean_doc(doc):\n",
        "  doc = doc.lower()\n",
        "  # split into tokens by white space\n",
        "  tokens = doc.split()\n",
        "  # remove punctuation from each token\n",
        "  table = str.maketrans('', '', string.punctuation)\n",
        "  tokens = [w.translate(table) for w in tokens]\n",
        "  # remove remaining tokens that are not alphabetic\n",
        "  tokens = [word for word in tokens if word.isalpha()]\n",
        "  # filter out stop words\n",
        "  #stop_words = set(stopwords.words('english'))\n",
        "  #tokens = [w for w in tokens if not w in stop_words]\n",
        "  # filter out short tokens\n",
        "  tokens = [word for word in tokens if len(word) > 1]\n",
        "  return  (\" \".join(tokens)).strip()+'.'"
      ],
      "execution_count": null,
      "outputs": []
    },
    {
      "cell_type": "code",
      "metadata": {
        "id": "1T5uZPFuSvgn"
      },
      "source": [
        "testString3 = \"User selects a transformation language program file to 3 parse. \\\n",
        "The HATS-GUI compares the time stamps on the lexical specification and grammar files to the time. \\\n",
        "          agentMom shall 1-2 support the ability to send unicast message.\"\n"
      ],
      "execution_count": null,
      "outputs": []
    },
    {
      "cell_type": "code",
      "metadata": {
        "colab": {
          "base_uri": "https://localhost:8080/"
        },
        "id": "v3_9rUBMTD-F",
        "outputId": "482e81c9-4181-491f-f313-c446607b4cb4"
      },
      "source": [
        "\n",
        "#cleaning text\n",
        "sent=testString3.split(\".\")\n",
        "#print(len(sent))\n",
        "clean_text=list()\n",
        "for i in range(len(sent)):\n",
        "  if len(sent[i])>3:\n",
        "    #print(sent[i])\n",
        "    clean_text.append(clean_doc(sent[i]))\n",
        "print(clean_text)"
      ],
      "execution_count": null,
      "outputs": [
        {
          "output_type": "stream",
          "name": "stdout",
          "text": [
            "['user selects transformation language program file to parse.', 'the hatsgui compares the time stamps on the lexical specification and grammar files to the time.', 'agentmom shall support the ability to send unicast message.']\n"
          ]
        }
      ]
    },
    {
      "cell_type": "code",
      "metadata": {
        "id": "OCtfKOC4QpCs"
      },
      "source": [
        "# load doc into memory\n",
        "def load_doc(filename):\n",
        "\t# open the file as read only\n",
        "\tfile = open(filename, 'r',errors='ignore')\n",
        "\t# read all text\n",
        "\ttext = file.read()\n",
        "\t# close the file\n",
        "\tfile.close()\n",
        "\treturn text"
      ],
      "execution_count": null,
      "outputs": []
    },
    {
      "cell_type": "code",
      "metadata": {
        "id": "-ga6_O98roqv"
      },
      "source": [
        "def get_cleantext(text):\n",
        "  #cleaning text\n",
        "  sent=text.split(\".\")\n",
        "  #print(len(sent))\n",
        "  clean_text=list()\n",
        "  for i in range(len(sent)):\n",
        "    if len(sent[i])>3:\n",
        "      #print(sent[i])\n",
        "      clean_text.append(clean_doc(sent[i]))\n",
        "  return(clean_text)"
      ],
      "execution_count": null,
      "outputs": []
    },
    {
      "cell_type": "code",
      "metadata": {
        "id": "hkQgEUBAqqBS"
      },
      "source": [
        "text=load_doc(path+\"/data/SRSExample-webapp.txt\")"
      ],
      "execution_count": null,
      "outputs": []
    },
    {
      "cell_type": "code",
      "metadata": {
        "colab": {
          "base_uri": "https://localhost:8080/",
          "height": 35
        },
        "id": "m-a7Ff2ArbJG",
        "outputId": "f7639772-ae4f-4cee-c621-58b0a752f9ef"
      },
      "source": [
        "text[:100]"
      ],
      "execution_count": null,
      "outputs": [
        {
          "output_type": "execute_result",
          "data": {
            "application/vnd.google.colaboratory.intrinsic+json": {
              "type": "string"
            },
            "text/plain": [
              "'Software Requirements Specification\\n\\nVersion 1.0\\n<<Annotated Version>>\\n\\nApril 15, 2004\\n\\nWeb Publishi'"
            ]
          },
          "metadata": {},
          "execution_count": 139
        }
      ]
    },
    {
      "cell_type": "code",
      "metadata": {
        "id": "CfCvd5wgsGdn"
      },
      "source": [
        "clean_text=get_cleantext(text)"
      ],
      "execution_count": null,
      "outputs": []
    },
    {
      "cell_type": "code",
      "metadata": {
        "colab": {
          "base_uri": "https://localhost:8080/"
        },
        "id": "PHYQxvZssPRU",
        "outputId": "9a25258f-5ee3-4262-a083-e262befc0f4f"
      },
      "source": [
        "print(clean_text[:100])"
      ],
      "execution_count": null,
      "outputs": [
        {
          "output_type": "stream",
          "name": "stdout",
          "text": [
            "['software requirements specification version.', 'annotated version april web publishing system joan teamleader paul adams bobbie baker charles charlie submitted in partial fulfillment of the requirements of cs software engineering any comments inside double brackets such as these are not part of this srs but are comments upon this srs example to help the reader understand the point being made.', 'refer to the srs template for details on the purpose and rules for each section of this document.', 'this work is based upon the submissions of the spring cs.', 'the students who submitted these team projects were thomas clay dustin denney erjon dervishaj tiffanie dew blake guice jonathan medders marla medders tammie odom amro shorbatli joseph smith jay snellen chase tinney and stefanie watts.', 'table of contents table of contents list of figures ii.', 'introduction.', 'purpose.', 'scope of project.', 'glossary.', 'references.', 'overview of document.', 'overall description.', 'system environment.', 'functional requirements specification.', 'reader use case use case search article.', 'author use case use case submit article.', 'reviewer use case use case submit review.', 'editor use cases use case update author use case update reviewer use case update article use case receive article use case assign reviewer use case receive review use case check status use case send response use case send copyright use case remove article use case publish article.', 'user characteristics.', 'nonfunctional requirements.', 'requirements specification.', 'external interface requirements.', 'functional requirements.', 'search article.', 'communicate.', 'add author.', 'add reviewer.', 'update person.', 'update article status.', 'enter communication.', 'assign reviewer.', 'check status.', 'send communication.', 'publish article.', 'remove article.', 'detailed nonfunctional requirements.', 'logical structure of the data.', 'security index list of figures figure system environment figure article submission process figure editor use cases figure logical structure of the article manager data.', 'introduction.', 'purpose the purpose of this document is to present detailed description of the web publishing system.', 'it will explain the purpose and features of the system the interfaces of the system what the system will do the constraints under which it must operate and how the system will react to external stimuli.', 'this document is intended for both the stakeholders and the developers of the system and will be proposed to the regional historical society for its approval.', 'scope of project this software system will be web publishing system for local editor of regional historical society.', 'this system will be designed to maximize the editors productivity by providing tools to assist in automating the article review and publishing process which would otherwise have to be performed manually.', 'by maximizing the editors work efficiency and production the system will meet the editors needs while remaining easy to understand and use.', 'more specifically this system is designed to allow an editor to manage and communicate with group of reviewers and authors to publish articles to public website.', 'the software will facilitate communication between authors reviewers and the editor via email.', 'preformatted reply forms are used in every stage of the articles progress through the system to provide uniform review process the location of these forms is configurable via the applications maintenance options.', 'the system also contains relational database containing list of authors reviewers and articles.', 'glossary term definition active article the document that is tracked by the system it is narrative that is planned to be posted to the public website.', 'author person submitting an article to be reviewed.', 'in case of multiple authors this term refers to the principal author with whom all communication is made.', 'database collection of all the information monitored by this system.', 'editor person who receives articles sends articles for review and makes final judgments for publications.', 'field cell within form.', 'historical society database the existing membership database also hs database.', 'member member of the historical society listed in the hs database.', 'reader anyone visiting the site to read articles.', 'review written recommendation about the appropriateness of an article for publication may include suggestions for improvement.', 'reviewer person that examines an article and has the ability to recommend approval of the article for publication or to request that changes be made in the article.', 'software requirements specification document that completely describes all of the functions of proposed system and the constraints under which it must operate.', 'for example this document.', 'stakeholder any person with an interest in the project who is not developer.', 'user reviewer or author.', 'references ieee.', 'ieee std ieee recommended practice for software requirements specifications.', 'ieee computer society.', 'overview of document the next chapter the overall description section of this document gives an overview of the functionality of the product.', 'it describes the informal requirements and is used to establish context for the technical requirements specification in the next chapter.', 'the third chapter requirements specification section of this document is written primarily for the developers and describes in technical terms the details of the functionality of the product.', 'both sections of the document describe the same software product in its entirety but are intended for different audiences and thus use different language.', 'overall description.', 'system environment figure system environment the web publishing system has four active actors and one cooperating system.', 'the author reader or reviewer accesses the online journal through the internet.', 'any author or reviewer communication with the system is through email.', 'the editor accesses the entire system directly.', 'there is link to the existing historical society.', 'the division of the web publishing system into two component parts the online journal and the article manager is an example of using domain classes to make an explanation clearer.', '.', 'functional requirements specification this section outlines the use cases for each of the active readers separately.', 'the reader the author and the reviewer have only one use case apiece while the editor is main actor in this system.', 'reader use case use case search article diagram brief description the reader accesses the online journal website searches for an article and downloads it to hisher machine.', 'initial stepbystep description before this use case can be initiated the reader has already accessed the online journal website.', 'the reader chooses to search by author name category or keyword.', 'the system displays the choices to the reader.', 'the reader selects the article desired.', 'the system presents the abstract of the article to the reader.', 'the reader chooses to download the article.', 'the system provides the requested article.', 'xref section.', 'search article figure article submission process the article submission process statetransition diagram summarizes the use cases listed below.', 'an author submits an article for consideration.', 'the editor enters it into the system and assigns it to and sends it to at least three reviewers.', 'the reviewers return their comments which are used by the editor to make decision on the article.', 'either the article is accepted as written declined or the author is asked to make some changes based on the reviews.', 'if it is accepted possibly after revision the editor sends copyright form to the author.', 'when that form is returned the article is published to the online journal.', 'not shown in the above is the removal of declined article from the system.', '.']\n"
          ]
        }
      ]
    },
    {
      "cell_type": "code",
      "metadata": {
        "id": "hUD9kpvJ8Ksp",
        "colab": {
          "base_uri": "https://localhost:8080/",
          "height": 273
        },
        "outputId": "dae77099-2d15-4f7e-d0b3-4fb3d095b431"
      },
      "source": [
        "#predict UCS from SRS\n",
        "print(clean_text)\n",
        "preds=predict_UCS(bert_base_model, clean_text)\n",
        "print(preds)\n",
        "#df_ucs=get_UCS(clean_text,preds)\n",
        "#print(df_ucs)"
      ],
      "execution_count": null,
      "outputs": [
        {
          "output_type": "stream",
          "name": "stdout",
          "text": [
            "['software requirements specification version.', 'annotated version april web publishing system joan teamleader paul adams bobbie baker charles charlie submitted in partial fulfillment of the requirements of cs software engineering any comments inside double brackets such as these are not part of this srs but are comments upon this srs example to help the reader understand the point being made.', 'refer to the srs template for details on the purpose and rules for each section of this document.', 'this work is based upon the submissions of the spring cs.', 'the students who submitted these team projects were thomas clay dustin denney erjon dervishaj tiffanie dew blake guice jonathan medders marla medders tammie odom amro shorbatli joseph smith jay snellen chase tinney and stefanie watts.', 'table of contents table of contents list of figures ii.', 'introduction.', 'purpose.', 'scope of project.', 'glossary.', 'references.', 'overview of document.', 'overall description.', 'system environment.', 'functional requirements specification.', 'reader use case use case search article.', 'author use case use case submit article.', 'reviewer use case use case submit review.', 'editor use cases use case update author use case update reviewer use case update article use case receive article use case assign reviewer use case receive review use case check status use case send response use case send copyright use case remove article use case publish article.', 'user characteristics.', 'nonfunctional requirements.', 'requirements specification.', 'external interface requirements.', 'functional requirements.', 'search article.', 'communicate.', 'add author.', 'add reviewer.', 'update person.', 'update article status.', 'enter communication.', 'assign reviewer.', 'check status.', 'send communication.', 'publish article.', 'remove article.', 'detailed nonfunctional requirements.', 'logical structure of the data.', 'security index list of figures figure system environment figure article submission process figure editor use cases figure logical structure of the article manager data.', 'introduction.', 'purpose the purpose of this document is to present detailed description of the web publishing system.', 'it will explain the purpose and features of the system the interfaces of the system what the system will do the constraints under which it must operate and how the system will react to external stimuli.', 'this document is intended for both the stakeholders and the developers of the system and will be proposed to the regional historical society for its approval.', 'scope of project this software system will be web publishing system for local editor of regional historical society.', 'this system will be designed to maximize the editors productivity by providing tools to assist in automating the article review and publishing process which would otherwise have to be performed manually.', 'by maximizing the editors work efficiency and production the system will meet the editors needs while remaining easy to understand and use.', 'more specifically this system is designed to allow an editor to manage and communicate with group of reviewers and authors to publish articles to public website.', 'the software will facilitate communication between authors reviewers and the editor via email.', 'preformatted reply forms are used in every stage of the articles progress through the system to provide uniform review process the location of these forms is configurable via the applications maintenance options.', 'the system also contains relational database containing list of authors reviewers and articles.', 'glossary term definition active article the document that is tracked by the system it is narrative that is planned to be posted to the public website.', 'author person submitting an article to be reviewed.', 'in case of multiple authors this term refers to the principal author with whom all communication is made.', 'database collection of all the information monitored by this system.', 'editor person who receives articles sends articles for review and makes final judgments for publications.', 'field cell within form.', 'historical society database the existing membership database also hs database.', 'member member of the historical society listed in the hs database.', 'reader anyone visiting the site to read articles.', 'review written recommendation about the appropriateness of an article for publication may include suggestions for improvement.', 'reviewer person that examines an article and has the ability to recommend approval of the article for publication or to request that changes be made in the article.', 'software requirements specification document that completely describes all of the functions of proposed system and the constraints under which it must operate.', 'for example this document.', 'stakeholder any person with an interest in the project who is not developer.', 'user reviewer or author.', 'references ieee.', 'ieee std ieee recommended practice for software requirements specifications.', 'ieee computer society.', 'overview of document the next chapter the overall description section of this document gives an overview of the functionality of the product.', 'it describes the informal requirements and is used to establish context for the technical requirements specification in the next chapter.', 'the third chapter requirements specification section of this document is written primarily for the developers and describes in technical terms the details of the functionality of the product.', 'both sections of the document describe the same software product in its entirety but are intended for different audiences and thus use different language.', 'overall description.', 'system environment figure system environment the web publishing system has four active actors and one cooperating system.', 'the author reader or reviewer accesses the online journal through the internet.', 'any author or reviewer communication with the system is through email.', 'the editor accesses the entire system directly.', 'there is link to the existing historical society.', 'the division of the web publishing system into two component parts the online journal and the article manager is an example of using domain classes to make an explanation clearer.', '.', 'functional requirements specification this section outlines the use cases for each of the active readers separately.', 'the reader the author and the reviewer have only one use case apiece while the editor is main actor in this system.', 'reader use case use case search article diagram brief description the reader accesses the online journal website searches for an article and downloads it to hisher machine.', 'initial stepbystep description before this use case can be initiated the reader has already accessed the online journal website.', 'the reader chooses to search by author name category or keyword.', 'the system displays the choices to the reader.', 'the reader selects the article desired.', 'the system presents the abstract of the article to the reader.', 'the reader chooses to download the article.', 'the system provides the requested article.', 'xref section.', 'search article figure article submission process the article submission process statetransition diagram summarizes the use cases listed below.', 'an author submits an article for consideration.', 'the editor enters it into the system and assigns it to and sends it to at least three reviewers.', 'the reviewers return their comments which are used by the editor to make decision on the article.', 'either the article is accepted as written declined or the author is asked to make some changes based on the reviews.', 'if it is accepted possibly after revision the editor sends copyright form to the author.', 'when that form is returned the article is published to the online journal.', 'not shown in the above is the removal of declined article from the system.', '.', 'author use case in case of multiple authors this term refers to the principal author with whom all communication is made.', 'use case submit article diagram brief description the author either submits an original article or resubmits an edited article.', 'initial stepbystep description before this use case can be initiated the author has already connected to the online journal website.', 'the author chooses the email editor button.', 'the system uses the sendto html tag to bring up the users email system.', 'the author fills in the subject line and attaches the files as directed and emails them.', 'the system generates and sends an email acknowledgement.', 'xref section.', 'communicate.', 'reviewer use case use case submit review diagram brief description the reviewer submits review of an article.', 'initial stepbystep description before this use case can be initiated the reviewer has already connected to the online journal website.', 'the reviewer chooses the email editor button.', 'the system uses the sendto html tag to bring up the users email system.', 'the reviewer fills in the subject line and attaches the file as directed and emails it.', 'the system generates and sends an email acknowledgement.', 'xref section.', 'communicate.', 'editor use cases the editor has the following sets of use cases figure editor use cases update information use cases use case update author diagram brief description the editor enters new author or updates information about current author.', 'initial stepbystep description before this use case can be initiated the editor has already accessed the main page of the article manager.', 'the editor selects to addupdate author.', 'the system presents choice of adding or updating.', 'the editor chooses to add or to update.', 'if the editor is updating an author the system presents list of authors to choose from and presents grid filling in with the information else the system presents blank grid.', 'the editor fills in the information and submits the form.', 'the system verifies the information and returns the editor to the article manager main page.', 'xref section.', 'add author section.', 'update person use case update reviewer diagram brief description the editor enters new reviewer or updates information about current reviewer.', 'initial stepbystep description before this use case can be initiated the editor has already accessed the main page of the article manager.', 'the editor selects to addupdate reviewer.', 'the system presents choice of adding or updating.', 'the editor chooses to add or to update.', 'the system links to the historical society database.', 'if the editor is updating reviewer the system and presents grid with the information about the reviewer else the system presents list of members for the editor to select reviewer and presents grid for the person selected.', 'the editor fills in the information and submits the form.', 'the system verifies the information and returns the editor to the article manager main page.', 'xref section.', 'add reviewer section.', 'update person use case update article diagram brief description the editor enters information about an existing article.', 'initial stepbystep description before this use case can be initiated the editor has already accessed the main page of the article manager.', 'the editor selects to update article.', 'the system presents list of active articles.', 'the system presents the information about the chosen article.', 'the editor updates and submits the form.', 'the system verifies the information and returns the editor to the article manager main page.', 'xref section.', 'update article status handle article use cases use case receive article diagram brief description the editor enters new or revised article into the system.', 'initial stepbystep description before this use case can be initiated the editor has already accessed the main page of the article manager and has file containing the article available.', 'the editor selects to receive article.', 'the system presents choice of entering new article or updating an existing article.', 'the editor chooses to add or to update.', 'if the editor is updating an article the system presents list of articles to choose from and presents grid for filling with the information else the system presents blank grid.', 'the editor fills in the information and submits the form.', 'the system verifies the information and returns the editor to the article manager main page.', 'xref section.', 'enter communication use case assign reviewer this use case extends the update article use case.', 'diagram brief description the editor assigns one or more reviewers to an article.', 'initial stepbystep description before this use case can be initiated the editor has already accessed the article using the update article use case.', 'the editor selects to assign reviewer.', 'the system presents list of reviewers with their status see data description is section.', 'below.', 'the editor selects reviewer.', 'the system verifies that the person is still an active member using the historical society database.', 'the editor repeats steps and until sufficient reviewers are assigned.', 'the system emails the reviewers attaching the article and requesting that they do the review.', 'the system returns the editor to the update article use case.', 'xref section.', 'assign reviewer use case receive review this use case extends the update article use case.', 'diagram brief description the editor enters review into the system.', 'initial stepbystep description before this use case can be initiated the editor has already accessed the article using the update article use case.', 'the editor selects to receive review.', 'the system presents grid for filling with the information.', 'the editor fills in the information and submits the form.', 'the system verifies the information and returns the editor to the article manager main page.', 'xref section.', 'enter communication check status use case use case check status diagram brief description the editor checks the status of all active articles.', 'initial stepbystep description before this use case can be initiated the editor has already accessed the main page of the article manager.', '.', 'the editor selects to check status.', 'the system returns scrollable list of all active articles with their status see data description in section.', 'below.', 'the system returns the editor to the article manager main page.', 'xref section.', 'check status send recommendation use cases use case send response this use case extends the update article use case.', 'diagram brief description the editor sends response to an author.', 'initial stepbystep description before this use case can be initiated the editor has already accessed the article using the update article use case.', 'the editor selects to send response.', 'the system calls the email system and puts the authors email address in the recipient line and the name of the article on the subject line.', 'the editor fills out the email text and sends the message.', 'the system returns the editor to the article manager main page.', 'xref section.', 'send communication use case send copyright this use case extends the update article use case.', 'diagram brief description the editor sends copyright form to an author.', 'initial stepbystep description before this use case can be initiated the editor has already accessed the article using the update article use case.', 'the editor selects to send copyright.', 'the system calls the email system and puts the authors email address in the recipient line the name of the article on the subject line and attaches the copyright form.', 'the editor fills out the email text and sends the message.', 'the system returns the editor to the article manager main page.', 'xref section.', 'send communication use case remove article this use case extends the update article use case.', 'diagram brief description the editor removes an article from the active category.', 'initial stepbystep description before this use case can be initiated the editor has already accessed the article using the update article use case.', 'the editor selects to remove an article from the active database.', 'the system provides list of articles with the status of each.', 'the editor selects an article for removal.', 'the system removes the article from the active article database and returns the editor to the article manager main page.', 'xref section.', 'remove article publish article use case use case publish article this use case extends the update article use case.', 'diagram brief description the editor transfers an accepted article to the online journal.', 'initial stepbystep description before this use case can be initiated the editor has already accessed the article using the update article use case.', 'the editor selects to publish article.', 'the system transfers the article to the online journal and updates the search information there.', 'the system removes the article from the active article database and returns the editor to the article manager home page.', 'xref section.', 'publish article since three of the actors only have one use case each the summary diagram only involves the editor.', 'adapt the rules to the needs of the document rather than adapt the document to fit the rules.', '.', 'user characteristics the reader is expected to be internet literate and be able to use search engine.', 'the main screen of the online journal website will have the search function and link to authorreviewer information.', 'the author and reviewer are expected to be internet literate and to be able to use email with attachments.', 'the editor is expected to be windows literate and to be able to use button pulldown menus and similar tools.', 'the detailed look of these pages is discussed in section.', 'below.', 'nonfunctional requirements the online journal will be on server with high speed internet capability.', 'the physical machine to be used will be determined by the historical society.', 'the software developed here assumes the use of tool such as tomcat for connection between the web pages and the database.', 'the speed of the readers connection will depend on the hardware used rather than characteristics of this system.', 'the article manager will run on the editors pc and will contain an access database.', 'access is already installed on this computer and is windows operating system.', '.', 'requirements specification.', 'external interface requirements the only link to an external system is the link to the historical society hs database to verify the membership of reviewer.', 'the editor believes that society member is much more likely to be an effective reviewer and has imposed membership requirement for reviewer.', 'the hs database fields of interest to the web publishing systems are members name membership id number and email address an optional field for the hs database.', 'the assign reviewer use case sends the reviewer id to the hs database and boolean is returned denoting membership status.', 'the update reviewer use case requests list of member names membership numbers and optional email addresses when adding new reviewer.', 'it returns boolean for membership status when updating reviewer.', 'functional requirements the logical structure of the data is contained in section.', '.', 'search article use case name search article xref section.', 'search article sdd section.', 'trigger the reader assesses the online journal website precondition the web is displayed with grids for searching basic path.', 'the reader chooses how to search the web site.', 'the choices are by author by category and by keyword.', 'if the search is by author the system creates and presents an alphabetical list of all authors in the database.', 'in the case of an article with multiple authors each is contained in the list.', 'the reader selects an author.', 'the system creates and presents list of all articles by that author in the database.', 'the reader selects an article.', 'the system displays the abstract for the article.', 'the reader selects to download the article or to return to the article list or to the previous list.', 'alternative paths in step if the reader selects to search by category the system creates and presents list of all categories in the database.', 'the reader selects category.', 'the system creates and presents list of all articles in that category in the database.', 'return to step.', 'in step if the reader selects to search by keyword the system presents dialog box to enter the keyword or phrase.', 'the reader enters keyword or phrase.', 'the system searches the abstracts for all articles with that keyword or phrase and creates and presents list of all such articles in the database.', 'return to step.', 'postcondition the selected article is downloaded to the client machine.', 'exception paths the reader may abandon the search at any time.', 'other the categories list is generated from the information provided when article are published and not predefined in the online journal database.', 'communicate use case name communicate xref section.', 'submit article section.', 'submit review sdd section.', 'trigger the user selects mailto link.', 'precondition the user is on the communicate page linked from the online journal main page.', 'basic path this use case uses the mailto html tag.', 'this invokes the client email facility.', 'alternative paths if the user prefers to use his or her own email directly sufficient information will be contained on the web page to do so.', 'postcondition the message is sent.', 'exception paths the attempt may be abandoned at any time.', 'other none.', 'add author use case name add author xref section.', 'update author sdd section.', 'trigger the editor selects to add new author to the database.', 'precondition the editor has accessed the article manager main screen.', 'basic path.', 'the system presents blank grid to enter the author information.', 'the editor enters the information and submits the form.', 'the system checks that the name and email address fields are not blank and updates the database.', 'alternative paths if in step either field is blank the editor is instructed to add an entry.', 'no validation for correctness is made.', 'postcondition the author has been added to the database.', 'exception paths the editor may abandon the operation at any time.', 'other the author information includes the name mailing address and email address.', '.', 'add reviewer use case name add reviewer xref section.', 'update reviewer sdd section.', 'trigger the editor selects to add new reviewer to the database.', 'precondition the editor has accessed the article manager main screen.', 'basic path.', 'the system accesses the historical society hs database and presents an alphabetical list of the society members.', 'the editor selects person.', 'the system transfers the member information from the hs database to the article manager am database.', 'if there is no email address in the hs database the editor is prompted for an entry in that field.', 'the information is entered into the am database.', 'alternative paths in step if there is no entry for the email address in the hs database or on this grid the editor will be reprompted for an entry.', 'no validation for correctness is made.', 'postcondition the reviewer has been added to the database.', 'exception paths the editor may abandon the operation at any time.', 'other the reviewer information includes name membership number mailing address categories of interest and email address.', 'update person use case name update person xref sec.', 'update author sec.', 'update reviewer sdd section.', 'trigger the editor selects to update an author or reviewer and the person is already in the database.', 'precondition the editor has accessed the article manager main screen.', 'basic path.', 'the editor selects author or reviewer.', 'the system creates and presents an alphabetical list of people in the category.', 'the editor selects person to update.', 'the system presents the database information in grid form for modification.', 'the editor updates the information and submits the form.', 'the system checks that required fields are not blank.', 'alternative paths in step if any required field is blank the editor is instructed to add an entry.', 'no validation for correctness is made.', 'postcondition the database has been updated.', 'exception paths if the person is not already in the database the use case is abandoned.', 'in addition the editor may abandon the operation at any time.', 'other this use case is not used when one of the other use cases is more appropriate such as to add an article or reviewer for an article.', 'update article status use case name update article status xref section.', 'update article sdd section.', 'trigger the editor selects to update the status of an article in the database.', 'precondition the editor has accessed the article manager main screen and the article is already in the database.', 'basic path.', 'the system creates and presents an alphabetical list of all active articles.', 'the editor selects the article to update.', 'the system presents the information about the article in grid format.', 'the editor updates the information and resubmits the form.', 'alternative paths in step the use case enter communication may be invoked.', 'postcondition the database has been updated.', 'exception paths if the article is not already in the database the use case is abandoned.', 'in addition the editor may abandon the operation at any time.', 'other this use case can be used to add categories for an article to correct typographical errors or to remove reviewer who has missed deadline for returning review.', 'it may also be used to allow access to the named use case to enter an updated article or review for an article.', '.', 'enter communication use case name enter communication xref section.', 'receive article section.', 'receive review sdd section.', 'trigger the editor selects to add document to the system.', 'precondition the editor has accessed the article manager main screen and has the file of the item to be entered available.', 'basic path.', 'the editor selects the article using the.', 'update article status use case.', 'the editor attaches the file to the grid presented and updates the respective information about the article.', 'when the editor updates the article status to indicate that review is returned the respective entry in the reviewer table is updated.', 'alternative paths none postcondition the article entry is updated in the database.', 'exception paths the editor may abandon the operation at any time.', 'other this use case extends.', 'update article status.', 'assign reviewer use case name assign reviewer xref section.', 'assign reviewer sdd section.', 'trigger the editor selects to assign reviewer to an article.', 'precondition the editor has accessed the article manager main screen and the article is already in the database.', 'basic path.', 'the editor selects the article using the.', 'update article status use case.', 'the system presents an alphabetical list of reviewers with their information.', 'the editor selects reviewer for the article.', 'the system updates the article database entry and emails the reviewer with the standard message and attaches the text of the article without author information.', 'the editor has the option of repeating this use case from step.', 'alternative paths none.', 'postcondition at least one reviewer has been added to the article information and the appropriate communication has been sent.', 'exception paths the editor may abandon the operation at any time.', 'other this use case extends.', 'update article status.', 'the editor prior to implementation of this use case will provide the message text.', 'check status use case name check status xref section.', 'check status sdd section.', 'trigger the editor has selected to check status of all active articles.', 'precondition the editor has accessed the article manager main screen.', 'basic path.', 'the system creates and presents list of all active articles organized by their status.', 'the editor may request to see the full information about an article.', 'alternative paths none.', 'postcondition the requested information has been displayed.', 'exception paths the editor may abandon the operation at any time.', 'other the editor may provide an enhanced list of status later.', 'at present the following categories must be provided.', 'received but no further action taken.', 'reviewers have been assigned but not all reviews are returned include dates that reviewers were assigned and order by this criterion.', 'reviews returned but no further action taken.', 'recommendations for revision sent to author but no response as of yet.', 'author has revised article but no action has been taken.', 'article has been accepted and copyright form has been sent.', 'copyright form has been returned but article is not yet published.', 'published article is automatically removed from the active article list.', 'send communication use case name send communication xref section.', 'send response section.', 'send copyright sdd section.', 'trigger the editor selects to send communication to an author.', 'precondition the editor has accessed the article manager main screen.', 'basic path.', 'the system presents an alphabetical list of authors.', 'the editor selects an author.', 'the system invokes the editors email system entering the authors email address into the to entry.', 'the editor uses the email facility.', 'alternative paths none.', 'postcondition the communication has been sent.', 'exception paths the editor may abandon the operation at any time.', 'other the standard copyright form will be available in the editors directory for attaching to the email message if desired.', 'publish article use case name publish article xref section.', 'publish article sdd section.', 'trigger the editor selects to transfer an approved article to the online journal.', 'precondition the editor has accessed the article manager main screen.', 'basic path.', 'the system creates and presents an alphabetical list of the active articles that are flagged as having their copyright form returned.', 'the editor selects an article to publish.', 'the system accesses the online database and transfers the article and its accompanying information to the online journal database.', 'the article is removed from the active article database.', 'alternative paths none.', 'postcondition the article is properly transferred.', 'exception paths the editor may abandon the operation at any time.', 'other find out from the editor to see if the article information should be archived somewhere.', 'remove article use case name remove article xref section.', 'remove article sdd section.', 'trigger the editor selects to remove an article from the active article database.', 'precondition the editor has accessed the article manager main screen.', 'basic path.', 'the system provides an alphabetized list of all active articles.', 'the editor selects an article.', 'the system displays the information about the article and requires that the editor confirm the deletion.', 'the editor confirms the deletion.', 'alternative paths none.', 'postcondition the article is removed from the database.', 'exception paths the editor may abandon the operation at any time.', 'other find out from the editor to see if the article and its information information should be archived somewhere.', 'detailed nonfunctional requirements.', 'logical structure of the data the logical structure of the data to be stored in the internal article manager database is given below.', 'figure logical structure of the article manager data the data descriptions of each of these data entities is as follows author data entity data item type description comment name text name of principle author email address text internet address article pointer article entity may be several reviewer data entity data item type description comment name text name of principle author id integer id number of historical society member used as key in historical society database email address text internet address article pointer article entity of may be several num review integer review entity number of not returned reviews history text comments on past performance specialty category area of expertise may be several review data entity data item type description comment article pointer article entity reviewer pointer reviewer entity single reviewer date sent date date sent to reviewer returned date date returned null if not returned contents text text of review article data entity data item type description comment name text name of article author pointer author entity name of principle author other authors text other authors is any else null not pointer to an author entity reviewer pointer reviewer entity will be several review pointer review entity set up when reviewer is set up contents text body of article contains abstract as first paragraph.', 'category text area of content may be several accepted boolean article has been accepted for publication needs copyright form returned copyright boolean copyright form has been returned not relevant unless accepted is true.', 'published boolean sent to online journal not relevant unless accepted is true.', 'article is no longer active and does not appear in status checks.', 'the logical structure of the data to be stored in the online journal database on the server is as follows published article entity data item type description comment name text name of article author text name of one author may be several abstract text abstract of article used for keyword search content text body of article category text area of content may be several.', 'security the server on which the online journal resides will have its own security to prevent unauthorized writedelete access.', 'there is no restriction on read access.', 'the use of email by an author or reviewer is on the client systems and thus is external to the system.', 'the pc on which the article manager resides will have its own security.', 'only the editor will have physical access to the machine and the program on it.', 'there is no special protection built into this system other than to provide the editor with write access to the online journal to publish an article.', 'index abstract add add article article manager author category database editor field form grid historical society online journal reader review reviewer security status update update user web publishing system ii srs.', 'april.']\n"
          ]
        },
        {
          "output_type": "error",
          "ename": "NameError",
          "evalue": "ignored",
          "traceback": [
            "\u001b[0;31m---------------------------------------------------------------------------\u001b[0m",
            "\u001b[0;31mNameError\u001b[0m                                 Traceback (most recent call last)",
            "\u001b[0;32m<ipython-input-142-764a08114b92>\u001b[0m in \u001b[0;36m<module>\u001b[0;34m()\u001b[0m\n\u001b[1;32m      1\u001b[0m \u001b[0;31m#predict UCS from SRS\u001b[0m\u001b[0;34m\u001b[0m\u001b[0;34m\u001b[0m\u001b[0;34m\u001b[0m\u001b[0m\n\u001b[1;32m      2\u001b[0m \u001b[0mprint\u001b[0m\u001b[0;34m(\u001b[0m\u001b[0mclean_text\u001b[0m\u001b[0;34m)\u001b[0m\u001b[0;34m\u001b[0m\u001b[0;34m\u001b[0m\u001b[0m\n\u001b[0;32m----> 3\u001b[0;31m \u001b[0mpreds\u001b[0m\u001b[0;34m=\u001b[0m\u001b[0mpredict_UCS\u001b[0m\u001b[0;34m(\u001b[0m\u001b[0mbert_base_model\u001b[0m\u001b[0;34m,\u001b[0m \u001b[0mclean_text\u001b[0m\u001b[0;34m)\u001b[0m\u001b[0;34m\u001b[0m\u001b[0;34m\u001b[0m\u001b[0m\n\u001b[0m\u001b[1;32m      4\u001b[0m \u001b[0mprint\u001b[0m\u001b[0;34m(\u001b[0m\u001b[0mpreds\u001b[0m\u001b[0;34m)\u001b[0m\u001b[0;34m\u001b[0m\u001b[0;34m\u001b[0m\u001b[0m\n\u001b[1;32m      5\u001b[0m \u001b[0;31m#df_ucs=get_UCS(clean_text,preds)\u001b[0m\u001b[0;34m\u001b[0m\u001b[0;34m\u001b[0m\u001b[0;34m\u001b[0m\u001b[0m\n",
            "\u001b[0;31mNameError\u001b[0m: name 'predict_UCS' is not defined"
          ]
        }
      ]
    }
  ]
}