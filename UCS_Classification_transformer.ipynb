{
  "nbformat": 4,
  "nbformat_minor": 0,
  "metadata": {
    "colab": {
      "name": "Copy of  UCS_Classification_transformer.ipynb",
      "provenance": [],
      "authorship_tag": "ABX9TyOm65D7p7xgI1GwdQqPWgqX",
      "include_colab_link": true
    },
    "kernelspec": {
      "name": "python3",
      "display_name": "Python 3"
    },
    "language_info": {
      "name": "python"
    },
    "accelerator": "GPU",
    "widgets": {
      "application/vnd.jupyter.widget-state+json": {
        "5d0844651f614148a97617713aedb018": {
          "model_module": "@jupyter-widgets/controls",
          "model_name": "HBoxModel",
          "model_module_version": "1.5.0",
          "state": {
            "_view_name": "HBoxView",
            "_dom_classes": [],
            "_model_name": "HBoxModel",
            "_view_module": "@jupyter-widgets/controls",
            "_model_module_version": "1.5.0",
            "_view_count": null,
            "_view_module_version": "1.5.0",
            "box_style": "",
            "layout": "IPY_MODEL_5ca42e2bcee54f8ab3045ff71f91b6f5",
            "_model_module": "@jupyter-widgets/controls",
            "children": [
              "IPY_MODEL_0367cdd1d7e140a9b13e55034cb31457",
              "IPY_MODEL_0161da765b6446ffa3a7b8075d30d395",
              "IPY_MODEL_00a2825091f045d8b58a844684f9716f"
            ]
          }
        },
        "5ca42e2bcee54f8ab3045ff71f91b6f5": {
          "model_module": "@jupyter-widgets/base",
          "model_name": "LayoutModel",
          "model_module_version": "1.2.0",
          "state": {
            "_view_name": "LayoutView",
            "grid_template_rows": null,
            "right": null,
            "justify_content": null,
            "_view_module": "@jupyter-widgets/base",
            "overflow": null,
            "_model_module_version": "1.2.0",
            "_view_count": null,
            "flex_flow": null,
            "width": null,
            "min_width": null,
            "border": null,
            "align_items": null,
            "bottom": null,
            "_model_module": "@jupyter-widgets/base",
            "top": null,
            "grid_column": null,
            "overflow_y": null,
            "overflow_x": null,
            "grid_auto_flow": null,
            "grid_area": null,
            "grid_template_columns": null,
            "flex": null,
            "_model_name": "LayoutModel",
            "justify_items": null,
            "grid_row": null,
            "max_height": null,
            "align_content": null,
            "visibility": null,
            "align_self": null,
            "height": null,
            "min_height": null,
            "padding": null,
            "grid_auto_rows": null,
            "grid_gap": null,
            "max_width": null,
            "order": null,
            "_view_module_version": "1.2.0",
            "grid_template_areas": null,
            "object_position": null,
            "object_fit": null,
            "grid_auto_columns": null,
            "margin": null,
            "display": null,
            "left": null
          }
        },
        "0367cdd1d7e140a9b13e55034cb31457": {
          "model_module": "@jupyter-widgets/controls",
          "model_name": "HTMLModel",
          "model_module_version": "1.5.0",
          "state": {
            "_view_name": "HTMLView",
            "style": "IPY_MODEL_2ddeb1d808ef479690b0553bdccf4c22",
            "_dom_classes": [],
            "description": "",
            "_model_name": "HTMLModel",
            "placeholder": "​",
            "_view_module": "@jupyter-widgets/controls",
            "_model_module_version": "1.5.0",
            "value": "Downloading: 100%",
            "_view_count": null,
            "_view_module_version": "1.5.0",
            "description_tooltip": null,
            "_model_module": "@jupyter-widgets/controls",
            "layout": "IPY_MODEL_e4927e834bd445b694d366d289228f69"
          }
        },
        "0161da765b6446ffa3a7b8075d30d395": {
          "model_module": "@jupyter-widgets/controls",
          "model_name": "FloatProgressModel",
          "model_module_version": "1.5.0",
          "state": {
            "_view_name": "ProgressView",
            "style": "IPY_MODEL_a8e60d41dcb64c699730092098f60817",
            "_dom_classes": [],
            "description": "",
            "_model_name": "FloatProgressModel",
            "bar_style": "success",
            "max": 231508,
            "_view_module": "@jupyter-widgets/controls",
            "_model_module_version": "1.5.0",
            "value": 231508,
            "_view_count": null,
            "_view_module_version": "1.5.0",
            "orientation": "horizontal",
            "min": 0,
            "description_tooltip": null,
            "_model_module": "@jupyter-widgets/controls",
            "layout": "IPY_MODEL_d6e3bbaedd2347e98089ba194baae75b"
          }
        },
        "00a2825091f045d8b58a844684f9716f": {
          "model_module": "@jupyter-widgets/controls",
          "model_name": "HTMLModel",
          "model_module_version": "1.5.0",
          "state": {
            "_view_name": "HTMLView",
            "style": "IPY_MODEL_19ae47670c6449e1b584b18a57cf8948",
            "_dom_classes": [],
            "description": "",
            "_model_name": "HTMLModel",
            "placeholder": "​",
            "_view_module": "@jupyter-widgets/controls",
            "_model_module_version": "1.5.0",
            "value": " 226k/226k [00:00&lt;00:00, 620kB/s]",
            "_view_count": null,
            "_view_module_version": "1.5.0",
            "description_tooltip": null,
            "_model_module": "@jupyter-widgets/controls",
            "layout": "IPY_MODEL_d93d4899e2bc4a2095c98bbf354aefbd"
          }
        },
        "2ddeb1d808ef479690b0553bdccf4c22": {
          "model_module": "@jupyter-widgets/controls",
          "model_name": "DescriptionStyleModel",
          "model_module_version": "1.5.0",
          "state": {
            "_view_name": "StyleView",
            "_model_name": "DescriptionStyleModel",
            "description_width": "",
            "_view_module": "@jupyter-widgets/base",
            "_model_module_version": "1.5.0",
            "_view_count": null,
            "_view_module_version": "1.2.0",
            "_model_module": "@jupyter-widgets/controls"
          }
        },
        "e4927e834bd445b694d366d289228f69": {
          "model_module": "@jupyter-widgets/base",
          "model_name": "LayoutModel",
          "model_module_version": "1.2.0",
          "state": {
            "_view_name": "LayoutView",
            "grid_template_rows": null,
            "right": null,
            "justify_content": null,
            "_view_module": "@jupyter-widgets/base",
            "overflow": null,
            "_model_module_version": "1.2.0",
            "_view_count": null,
            "flex_flow": null,
            "width": null,
            "min_width": null,
            "border": null,
            "align_items": null,
            "bottom": null,
            "_model_module": "@jupyter-widgets/base",
            "top": null,
            "grid_column": null,
            "overflow_y": null,
            "overflow_x": null,
            "grid_auto_flow": null,
            "grid_area": null,
            "grid_template_columns": null,
            "flex": null,
            "_model_name": "LayoutModel",
            "justify_items": null,
            "grid_row": null,
            "max_height": null,
            "align_content": null,
            "visibility": null,
            "align_self": null,
            "height": null,
            "min_height": null,
            "padding": null,
            "grid_auto_rows": null,
            "grid_gap": null,
            "max_width": null,
            "order": null,
            "_view_module_version": "1.2.0",
            "grid_template_areas": null,
            "object_position": null,
            "object_fit": null,
            "grid_auto_columns": null,
            "margin": null,
            "display": null,
            "left": null
          }
        },
        "a8e60d41dcb64c699730092098f60817": {
          "model_module": "@jupyter-widgets/controls",
          "model_name": "ProgressStyleModel",
          "model_module_version": "1.5.0",
          "state": {
            "_view_name": "StyleView",
            "_model_name": "ProgressStyleModel",
            "description_width": "",
            "_view_module": "@jupyter-widgets/base",
            "_model_module_version": "1.5.0",
            "_view_count": null,
            "_view_module_version": "1.2.0",
            "bar_color": null,
            "_model_module": "@jupyter-widgets/controls"
          }
        },
        "d6e3bbaedd2347e98089ba194baae75b": {
          "model_module": "@jupyter-widgets/base",
          "model_name": "LayoutModel",
          "model_module_version": "1.2.0",
          "state": {
            "_view_name": "LayoutView",
            "grid_template_rows": null,
            "right": null,
            "justify_content": null,
            "_view_module": "@jupyter-widgets/base",
            "overflow": null,
            "_model_module_version": "1.2.0",
            "_view_count": null,
            "flex_flow": null,
            "width": null,
            "min_width": null,
            "border": null,
            "align_items": null,
            "bottom": null,
            "_model_module": "@jupyter-widgets/base",
            "top": null,
            "grid_column": null,
            "overflow_y": null,
            "overflow_x": null,
            "grid_auto_flow": null,
            "grid_area": null,
            "grid_template_columns": null,
            "flex": null,
            "_model_name": "LayoutModel",
            "justify_items": null,
            "grid_row": null,
            "max_height": null,
            "align_content": null,
            "visibility": null,
            "align_self": null,
            "height": null,
            "min_height": null,
            "padding": null,
            "grid_auto_rows": null,
            "grid_gap": null,
            "max_width": null,
            "order": null,
            "_view_module_version": "1.2.0",
            "grid_template_areas": null,
            "object_position": null,
            "object_fit": null,
            "grid_auto_columns": null,
            "margin": null,
            "display": null,
            "left": null
          }
        },
        "19ae47670c6449e1b584b18a57cf8948": {
          "model_module": "@jupyter-widgets/controls",
          "model_name": "DescriptionStyleModel",
          "model_module_version": "1.5.0",
          "state": {
            "_view_name": "StyleView",
            "_model_name": "DescriptionStyleModel",
            "description_width": "",
            "_view_module": "@jupyter-widgets/base",
            "_model_module_version": "1.5.0",
            "_view_count": null,
            "_view_module_version": "1.2.0",
            "_model_module": "@jupyter-widgets/controls"
          }
        },
        "d93d4899e2bc4a2095c98bbf354aefbd": {
          "model_module": "@jupyter-widgets/base",
          "model_name": "LayoutModel",
          "model_module_version": "1.2.0",
          "state": {
            "_view_name": "LayoutView",
            "grid_template_rows": null,
            "right": null,
            "justify_content": null,
            "_view_module": "@jupyter-widgets/base",
            "overflow": null,
            "_model_module_version": "1.2.0",
            "_view_count": null,
            "flex_flow": null,
            "width": null,
            "min_width": null,
            "border": null,
            "align_items": null,
            "bottom": null,
            "_model_module": "@jupyter-widgets/base",
            "top": null,
            "grid_column": null,
            "overflow_y": null,
            "overflow_x": null,
            "grid_auto_flow": null,
            "grid_area": null,
            "grid_template_columns": null,
            "flex": null,
            "_model_name": "LayoutModel",
            "justify_items": null,
            "grid_row": null,
            "max_height": null,
            "align_content": null,
            "visibility": null,
            "align_self": null,
            "height": null,
            "min_height": null,
            "padding": null,
            "grid_auto_rows": null,
            "grid_gap": null,
            "max_width": null,
            "order": null,
            "_view_module_version": "1.2.0",
            "grid_template_areas": null,
            "object_position": null,
            "object_fit": null,
            "grid_auto_columns": null,
            "margin": null,
            "display": null,
            "left": null
          }
        },
        "918a28eabd0f41efacf43af53ac0ee17": {
          "model_module": "@jupyter-widgets/controls",
          "model_name": "HBoxModel",
          "model_module_version": "1.5.0",
          "state": {
            "_view_name": "HBoxView",
            "_dom_classes": [],
            "_model_name": "HBoxModel",
            "_view_module": "@jupyter-widgets/controls",
            "_model_module_version": "1.5.0",
            "_view_count": null,
            "_view_module_version": "1.5.0",
            "box_style": "",
            "layout": "IPY_MODEL_94c20e91da984372841f3664e1d386b2",
            "_model_module": "@jupyter-widgets/controls",
            "children": [
              "IPY_MODEL_37ed5dec90964dc89298f5c4b55646a8",
              "IPY_MODEL_99411fa46df54a02bb40407b1ecf5ee6",
              "IPY_MODEL_f47abbd93bdd4b1c8b061ede9bccf8a0"
            ]
          }
        },
        "94c20e91da984372841f3664e1d386b2": {
          "model_module": "@jupyter-widgets/base",
          "model_name": "LayoutModel",
          "model_module_version": "1.2.0",
          "state": {
            "_view_name": "LayoutView",
            "grid_template_rows": null,
            "right": null,
            "justify_content": null,
            "_view_module": "@jupyter-widgets/base",
            "overflow": null,
            "_model_module_version": "1.2.0",
            "_view_count": null,
            "flex_flow": null,
            "width": null,
            "min_width": null,
            "border": null,
            "align_items": null,
            "bottom": null,
            "_model_module": "@jupyter-widgets/base",
            "top": null,
            "grid_column": null,
            "overflow_y": null,
            "overflow_x": null,
            "grid_auto_flow": null,
            "grid_area": null,
            "grid_template_columns": null,
            "flex": null,
            "_model_name": "LayoutModel",
            "justify_items": null,
            "grid_row": null,
            "max_height": null,
            "align_content": null,
            "visibility": null,
            "align_self": null,
            "height": null,
            "min_height": null,
            "padding": null,
            "grid_auto_rows": null,
            "grid_gap": null,
            "max_width": null,
            "order": null,
            "_view_module_version": "1.2.0",
            "grid_template_areas": null,
            "object_position": null,
            "object_fit": null,
            "grid_auto_columns": null,
            "margin": null,
            "display": null,
            "left": null
          }
        },
        "37ed5dec90964dc89298f5c4b55646a8": {
          "model_module": "@jupyter-widgets/controls",
          "model_name": "HTMLModel",
          "model_module_version": "1.5.0",
          "state": {
            "_view_name": "HTMLView",
            "style": "IPY_MODEL_3015bf47ddf344a184f8d142735f8e5a",
            "_dom_classes": [],
            "description": "",
            "_model_name": "HTMLModel",
            "placeholder": "​",
            "_view_module": "@jupyter-widgets/controls",
            "_model_module_version": "1.5.0",
            "value": "Downloading: 100%",
            "_view_count": null,
            "_view_module_version": "1.5.0",
            "description_tooltip": null,
            "_model_module": "@jupyter-widgets/controls",
            "layout": "IPY_MODEL_08c2e64d43e743eca253f5297067134c"
          }
        },
        "99411fa46df54a02bb40407b1ecf5ee6": {
          "model_module": "@jupyter-widgets/controls",
          "model_name": "FloatProgressModel",
          "model_module_version": "1.5.0",
          "state": {
            "_view_name": "ProgressView",
            "style": "IPY_MODEL_efc828147c0b4530a9d9eb394c1ef4a0",
            "_dom_classes": [],
            "description": "",
            "_model_name": "FloatProgressModel",
            "bar_style": "success",
            "max": 48,
            "_view_module": "@jupyter-widgets/controls",
            "_model_module_version": "1.5.0",
            "value": 48,
            "_view_count": null,
            "_view_module_version": "1.5.0",
            "orientation": "horizontal",
            "min": 0,
            "description_tooltip": null,
            "_model_module": "@jupyter-widgets/controls",
            "layout": "IPY_MODEL_e7718d8c7b4f4f359f286a4acab5f67d"
          }
        },
        "f47abbd93bdd4b1c8b061ede9bccf8a0": {
          "model_module": "@jupyter-widgets/controls",
          "model_name": "HTMLModel",
          "model_module_version": "1.5.0",
          "state": {
            "_view_name": "HTMLView",
            "style": "IPY_MODEL_2237495856b84b08b1daf6c22cab4236",
            "_dom_classes": [],
            "description": "",
            "_model_name": "HTMLModel",
            "placeholder": "​",
            "_view_module": "@jupyter-widgets/controls",
            "_model_module_version": "1.5.0",
            "value": " 48.0/48.0 [00:00&lt;00:00, 1.16kB/s]",
            "_view_count": null,
            "_view_module_version": "1.5.0",
            "description_tooltip": null,
            "_model_module": "@jupyter-widgets/controls",
            "layout": "IPY_MODEL_f63ab889ccc045288fccf52806cfbaba"
          }
        },
        "3015bf47ddf344a184f8d142735f8e5a": {
          "model_module": "@jupyter-widgets/controls",
          "model_name": "DescriptionStyleModel",
          "model_module_version": "1.5.0",
          "state": {
            "_view_name": "StyleView",
            "_model_name": "DescriptionStyleModel",
            "description_width": "",
            "_view_module": "@jupyter-widgets/base",
            "_model_module_version": "1.5.0",
            "_view_count": null,
            "_view_module_version": "1.2.0",
            "_model_module": "@jupyter-widgets/controls"
          }
        },
        "08c2e64d43e743eca253f5297067134c": {
          "model_module": "@jupyter-widgets/base",
          "model_name": "LayoutModel",
          "model_module_version": "1.2.0",
          "state": {
            "_view_name": "LayoutView",
            "grid_template_rows": null,
            "right": null,
            "justify_content": null,
            "_view_module": "@jupyter-widgets/base",
            "overflow": null,
            "_model_module_version": "1.2.0",
            "_view_count": null,
            "flex_flow": null,
            "width": null,
            "min_width": null,
            "border": null,
            "align_items": null,
            "bottom": null,
            "_model_module": "@jupyter-widgets/base",
            "top": null,
            "grid_column": null,
            "overflow_y": null,
            "overflow_x": null,
            "grid_auto_flow": null,
            "grid_area": null,
            "grid_template_columns": null,
            "flex": null,
            "_model_name": "LayoutModel",
            "justify_items": null,
            "grid_row": null,
            "max_height": null,
            "align_content": null,
            "visibility": null,
            "align_self": null,
            "height": null,
            "min_height": null,
            "padding": null,
            "grid_auto_rows": null,
            "grid_gap": null,
            "max_width": null,
            "order": null,
            "_view_module_version": "1.2.0",
            "grid_template_areas": null,
            "object_position": null,
            "object_fit": null,
            "grid_auto_columns": null,
            "margin": null,
            "display": null,
            "left": null
          }
        },
        "efc828147c0b4530a9d9eb394c1ef4a0": {
          "model_module": "@jupyter-widgets/controls",
          "model_name": "ProgressStyleModel",
          "model_module_version": "1.5.0",
          "state": {
            "_view_name": "StyleView",
            "_model_name": "ProgressStyleModel",
            "description_width": "",
            "_view_module": "@jupyter-widgets/base",
            "_model_module_version": "1.5.0",
            "_view_count": null,
            "_view_module_version": "1.2.0",
            "bar_color": null,
            "_model_module": "@jupyter-widgets/controls"
          }
        },
        "e7718d8c7b4f4f359f286a4acab5f67d": {
          "model_module": "@jupyter-widgets/base",
          "model_name": "LayoutModel",
          "model_module_version": "1.2.0",
          "state": {
            "_view_name": "LayoutView",
            "grid_template_rows": null,
            "right": null,
            "justify_content": null,
            "_view_module": "@jupyter-widgets/base",
            "overflow": null,
            "_model_module_version": "1.2.0",
            "_view_count": null,
            "flex_flow": null,
            "width": null,
            "min_width": null,
            "border": null,
            "align_items": null,
            "bottom": null,
            "_model_module": "@jupyter-widgets/base",
            "top": null,
            "grid_column": null,
            "overflow_y": null,
            "overflow_x": null,
            "grid_auto_flow": null,
            "grid_area": null,
            "grid_template_columns": null,
            "flex": null,
            "_model_name": "LayoutModel",
            "justify_items": null,
            "grid_row": null,
            "max_height": null,
            "align_content": null,
            "visibility": null,
            "align_self": null,
            "height": null,
            "min_height": null,
            "padding": null,
            "grid_auto_rows": null,
            "grid_gap": null,
            "max_width": null,
            "order": null,
            "_view_module_version": "1.2.0",
            "grid_template_areas": null,
            "object_position": null,
            "object_fit": null,
            "grid_auto_columns": null,
            "margin": null,
            "display": null,
            "left": null
          }
        },
        "2237495856b84b08b1daf6c22cab4236": {
          "model_module": "@jupyter-widgets/controls",
          "model_name": "DescriptionStyleModel",
          "model_module_version": "1.5.0",
          "state": {
            "_view_name": "StyleView",
            "_model_name": "DescriptionStyleModel",
            "description_width": "",
            "_view_module": "@jupyter-widgets/base",
            "_model_module_version": "1.5.0",
            "_view_count": null,
            "_view_module_version": "1.2.0",
            "_model_module": "@jupyter-widgets/controls"
          }
        },
        "f63ab889ccc045288fccf52806cfbaba": {
          "model_module": "@jupyter-widgets/base",
          "model_name": "LayoutModel",
          "model_module_version": "1.2.0",
          "state": {
            "_view_name": "LayoutView",
            "grid_template_rows": null,
            "right": null,
            "justify_content": null,
            "_view_module": "@jupyter-widgets/base",
            "overflow": null,
            "_model_module_version": "1.2.0",
            "_view_count": null,
            "flex_flow": null,
            "width": null,
            "min_width": null,
            "border": null,
            "align_items": null,
            "bottom": null,
            "_model_module": "@jupyter-widgets/base",
            "top": null,
            "grid_column": null,
            "overflow_y": null,
            "overflow_x": null,
            "grid_auto_flow": null,
            "grid_area": null,
            "grid_template_columns": null,
            "flex": null,
            "_model_name": "LayoutModel",
            "justify_items": null,
            "grid_row": null,
            "max_height": null,
            "align_content": null,
            "visibility": null,
            "align_self": null,
            "height": null,
            "min_height": null,
            "padding": null,
            "grid_auto_rows": null,
            "grid_gap": null,
            "max_width": null,
            "order": null,
            "_view_module_version": "1.2.0",
            "grid_template_areas": null,
            "object_position": null,
            "object_fit": null,
            "grid_auto_columns": null,
            "margin": null,
            "display": null,
            "left": null
          }
        },
        "05048c62ac4a4bff9457c766a69b5ecc": {
          "model_module": "@jupyter-widgets/controls",
          "model_name": "HBoxModel",
          "model_module_version": "1.5.0",
          "state": {
            "_view_name": "HBoxView",
            "_dom_classes": [],
            "_model_name": "HBoxModel",
            "_view_module": "@jupyter-widgets/controls",
            "_model_module_version": "1.5.0",
            "_view_count": null,
            "_view_module_version": "1.5.0",
            "box_style": "",
            "layout": "IPY_MODEL_eff0c8493a96478b96b9c1bf881dcde5",
            "_model_module": "@jupyter-widgets/controls",
            "children": [
              "IPY_MODEL_acc00100fb4e4d25b73056020ba7fe37",
              "IPY_MODEL_56da97ab785747a39104a6b00c32a677",
              "IPY_MODEL_6d420697053143d694e8707ca6645712"
            ]
          }
        },
        "eff0c8493a96478b96b9c1bf881dcde5": {
          "model_module": "@jupyter-widgets/base",
          "model_name": "LayoutModel",
          "model_module_version": "1.2.0",
          "state": {
            "_view_name": "LayoutView",
            "grid_template_rows": null,
            "right": null,
            "justify_content": null,
            "_view_module": "@jupyter-widgets/base",
            "overflow": null,
            "_model_module_version": "1.2.0",
            "_view_count": null,
            "flex_flow": null,
            "width": null,
            "min_width": null,
            "border": null,
            "align_items": null,
            "bottom": null,
            "_model_module": "@jupyter-widgets/base",
            "top": null,
            "grid_column": null,
            "overflow_y": null,
            "overflow_x": null,
            "grid_auto_flow": null,
            "grid_area": null,
            "grid_template_columns": null,
            "flex": null,
            "_model_name": "LayoutModel",
            "justify_items": null,
            "grid_row": null,
            "max_height": null,
            "align_content": null,
            "visibility": null,
            "align_self": null,
            "height": null,
            "min_height": null,
            "padding": null,
            "grid_auto_rows": null,
            "grid_gap": null,
            "max_width": null,
            "order": null,
            "_view_module_version": "1.2.0",
            "grid_template_areas": null,
            "object_position": null,
            "object_fit": null,
            "grid_auto_columns": null,
            "margin": null,
            "display": null,
            "left": null
          }
        },
        "acc00100fb4e4d25b73056020ba7fe37": {
          "model_module": "@jupyter-widgets/controls",
          "model_name": "HTMLModel",
          "model_module_version": "1.5.0",
          "state": {
            "_view_name": "HTMLView",
            "style": "IPY_MODEL_77f402720fac498098d78d6a7ab30327",
            "_dom_classes": [],
            "description": "",
            "_model_name": "HTMLModel",
            "placeholder": "​",
            "_view_module": "@jupyter-widgets/controls",
            "_model_module_version": "1.5.0",
            "value": "Downloading: 100%",
            "_view_count": null,
            "_view_module_version": "1.5.0",
            "description_tooltip": null,
            "_model_module": "@jupyter-widgets/controls",
            "layout": "IPY_MODEL_9810f9cd396746df93c2179bea0f5ebe"
          }
        },
        "56da97ab785747a39104a6b00c32a677": {
          "model_module": "@jupyter-widgets/controls",
          "model_name": "FloatProgressModel",
          "model_module_version": "1.5.0",
          "state": {
            "_view_name": "ProgressView",
            "style": "IPY_MODEL_a4caaaeebe904bfaae9f8c13d4e0d1e8",
            "_dom_classes": [],
            "description": "",
            "_model_name": "FloatProgressModel",
            "bar_style": "success",
            "max": 629,
            "_view_module": "@jupyter-widgets/controls",
            "_model_module_version": "1.5.0",
            "value": 629,
            "_view_count": null,
            "_view_module_version": "1.5.0",
            "orientation": "horizontal",
            "min": 0,
            "description_tooltip": null,
            "_model_module": "@jupyter-widgets/controls",
            "layout": "IPY_MODEL_6dd5c63ffa7e43858ae3d310e52ed9e7"
          }
        },
        "6d420697053143d694e8707ca6645712": {
          "model_module": "@jupyter-widgets/controls",
          "model_name": "HTMLModel",
          "model_module_version": "1.5.0",
          "state": {
            "_view_name": "HTMLView",
            "style": "IPY_MODEL_11ddf1a748f145a5bb281df406f0e262",
            "_dom_classes": [],
            "description": "",
            "_model_name": "HTMLModel",
            "placeholder": "​",
            "_view_module": "@jupyter-widgets/controls",
            "_model_module_version": "1.5.0",
            "value": " 629/629 [00:00&lt;00:00, 17.4kB/s]",
            "_view_count": null,
            "_view_module_version": "1.5.0",
            "description_tooltip": null,
            "_model_module": "@jupyter-widgets/controls",
            "layout": "IPY_MODEL_c686c978caf14b099b52d5a8274e46f3"
          }
        },
        "77f402720fac498098d78d6a7ab30327": {
          "model_module": "@jupyter-widgets/controls",
          "model_name": "DescriptionStyleModel",
          "model_module_version": "1.5.0",
          "state": {
            "_view_name": "StyleView",
            "_model_name": "DescriptionStyleModel",
            "description_width": "",
            "_view_module": "@jupyter-widgets/base",
            "_model_module_version": "1.5.0",
            "_view_count": null,
            "_view_module_version": "1.2.0",
            "_model_module": "@jupyter-widgets/controls"
          }
        },
        "9810f9cd396746df93c2179bea0f5ebe": {
          "model_module": "@jupyter-widgets/base",
          "model_name": "LayoutModel",
          "model_module_version": "1.2.0",
          "state": {
            "_view_name": "LayoutView",
            "grid_template_rows": null,
            "right": null,
            "justify_content": null,
            "_view_module": "@jupyter-widgets/base",
            "overflow": null,
            "_model_module_version": "1.2.0",
            "_view_count": null,
            "flex_flow": null,
            "width": null,
            "min_width": null,
            "border": null,
            "align_items": null,
            "bottom": null,
            "_model_module": "@jupyter-widgets/base",
            "top": null,
            "grid_column": null,
            "overflow_y": null,
            "overflow_x": null,
            "grid_auto_flow": null,
            "grid_area": null,
            "grid_template_columns": null,
            "flex": null,
            "_model_name": "LayoutModel",
            "justify_items": null,
            "grid_row": null,
            "max_height": null,
            "align_content": null,
            "visibility": null,
            "align_self": null,
            "height": null,
            "min_height": null,
            "padding": null,
            "grid_auto_rows": null,
            "grid_gap": null,
            "max_width": null,
            "order": null,
            "_view_module_version": "1.2.0",
            "grid_template_areas": null,
            "object_position": null,
            "object_fit": null,
            "grid_auto_columns": null,
            "margin": null,
            "display": null,
            "left": null
          }
        },
        "a4caaaeebe904bfaae9f8c13d4e0d1e8": {
          "model_module": "@jupyter-widgets/controls",
          "model_name": "ProgressStyleModel",
          "model_module_version": "1.5.0",
          "state": {
            "_view_name": "StyleView",
            "_model_name": "ProgressStyleModel",
            "description_width": "",
            "_view_module": "@jupyter-widgets/base",
            "_model_module_version": "1.5.0",
            "_view_count": null,
            "_view_module_version": "1.2.0",
            "bar_color": null,
            "_model_module": "@jupyter-widgets/controls"
          }
        },
        "6dd5c63ffa7e43858ae3d310e52ed9e7": {
          "model_module": "@jupyter-widgets/base",
          "model_name": "LayoutModel",
          "model_module_version": "1.2.0",
          "state": {
            "_view_name": "LayoutView",
            "grid_template_rows": null,
            "right": null,
            "justify_content": null,
            "_view_module": "@jupyter-widgets/base",
            "overflow": null,
            "_model_module_version": "1.2.0",
            "_view_count": null,
            "flex_flow": null,
            "width": null,
            "min_width": null,
            "border": null,
            "align_items": null,
            "bottom": null,
            "_model_module": "@jupyter-widgets/base",
            "top": null,
            "grid_column": null,
            "overflow_y": null,
            "overflow_x": null,
            "grid_auto_flow": null,
            "grid_area": null,
            "grid_template_columns": null,
            "flex": null,
            "_model_name": "LayoutModel",
            "justify_items": null,
            "grid_row": null,
            "max_height": null,
            "align_content": null,
            "visibility": null,
            "align_self": null,
            "height": null,
            "min_height": null,
            "padding": null,
            "grid_auto_rows": null,
            "grid_gap": null,
            "max_width": null,
            "order": null,
            "_view_module_version": "1.2.0",
            "grid_template_areas": null,
            "object_position": null,
            "object_fit": null,
            "grid_auto_columns": null,
            "margin": null,
            "display": null,
            "left": null
          }
        },
        "11ddf1a748f145a5bb281df406f0e262": {
          "model_module": "@jupyter-widgets/controls",
          "model_name": "DescriptionStyleModel",
          "model_module_version": "1.5.0",
          "state": {
            "_view_name": "StyleView",
            "_model_name": "DescriptionStyleModel",
            "description_width": "",
            "_view_module": "@jupyter-widgets/base",
            "_model_module_version": "1.5.0",
            "_view_count": null,
            "_view_module_version": "1.2.0",
            "_model_module": "@jupyter-widgets/controls"
          }
        },
        "c686c978caf14b099b52d5a8274e46f3": {
          "model_module": "@jupyter-widgets/base",
          "model_name": "LayoutModel",
          "model_module_version": "1.2.0",
          "state": {
            "_view_name": "LayoutView",
            "grid_template_rows": null,
            "right": null,
            "justify_content": null,
            "_view_module": "@jupyter-widgets/base",
            "overflow": null,
            "_model_module_version": "1.2.0",
            "_view_count": null,
            "flex_flow": null,
            "width": null,
            "min_width": null,
            "border": null,
            "align_items": null,
            "bottom": null,
            "_model_module": "@jupyter-widgets/base",
            "top": null,
            "grid_column": null,
            "overflow_y": null,
            "overflow_x": null,
            "grid_auto_flow": null,
            "grid_area": null,
            "grid_template_columns": null,
            "flex": null,
            "_model_name": "LayoutModel",
            "justify_items": null,
            "grid_row": null,
            "max_height": null,
            "align_content": null,
            "visibility": null,
            "align_self": null,
            "height": null,
            "min_height": null,
            "padding": null,
            "grid_auto_rows": null,
            "grid_gap": null,
            "max_width": null,
            "order": null,
            "_view_module_version": "1.2.0",
            "grid_template_areas": null,
            "object_position": null,
            "object_fit": null,
            "grid_auto_columns": null,
            "margin": null,
            "display": null,
            "left": null
          }
        },
        "27b12be89df247bf9ac74fd6acbb40ad": {
          "model_module": "@jupyter-widgets/controls",
          "model_name": "HBoxModel",
          "model_module_version": "1.5.0",
          "state": {
            "_view_name": "HBoxView",
            "_dom_classes": [],
            "_model_name": "HBoxModel",
            "_view_module": "@jupyter-widgets/controls",
            "_model_module_version": "1.5.0",
            "_view_count": null,
            "_view_module_version": "1.5.0",
            "box_style": "",
            "layout": "IPY_MODEL_f2a0615fea3542c5a29ecab031998b92",
            "_model_module": "@jupyter-widgets/controls",
            "children": [
              "IPY_MODEL_7e9c0fa3562645a496f5854f3c5680cc",
              "IPY_MODEL_ee90d48b074d44358b4cecb7782af05e",
              "IPY_MODEL_9b9102beef854f648924076fa491182c"
            ]
          }
        },
        "f2a0615fea3542c5a29ecab031998b92": {
          "model_module": "@jupyter-widgets/base",
          "model_name": "LayoutModel",
          "model_module_version": "1.2.0",
          "state": {
            "_view_name": "LayoutView",
            "grid_template_rows": null,
            "right": null,
            "justify_content": null,
            "_view_module": "@jupyter-widgets/base",
            "overflow": null,
            "_model_module_version": "1.2.0",
            "_view_count": null,
            "flex_flow": null,
            "width": null,
            "min_width": null,
            "border": null,
            "align_items": null,
            "bottom": null,
            "_model_module": "@jupyter-widgets/base",
            "top": null,
            "grid_column": null,
            "overflow_y": null,
            "overflow_x": null,
            "grid_auto_flow": null,
            "grid_area": null,
            "grid_template_columns": null,
            "flex": null,
            "_model_name": "LayoutModel",
            "justify_items": null,
            "grid_row": null,
            "max_height": null,
            "align_content": null,
            "visibility": null,
            "align_self": null,
            "height": null,
            "min_height": null,
            "padding": null,
            "grid_auto_rows": null,
            "grid_gap": null,
            "max_width": null,
            "order": null,
            "_view_module_version": "1.2.0",
            "grid_template_areas": null,
            "object_position": null,
            "object_fit": null,
            "grid_auto_columns": null,
            "margin": null,
            "display": null,
            "left": null
          }
        },
        "7e9c0fa3562645a496f5854f3c5680cc": {
          "model_module": "@jupyter-widgets/controls",
          "model_name": "HTMLModel",
          "model_module_version": "1.5.0",
          "state": {
            "_view_name": "HTMLView",
            "style": "IPY_MODEL_5ec10b873c8a4872a35afa27f385ee54",
            "_dom_classes": [],
            "description": "",
            "_model_name": "HTMLModel",
            "placeholder": "​",
            "_view_module": "@jupyter-widgets/controls",
            "_model_module_version": "1.5.0",
            "value": "Downloading: 100%",
            "_view_count": null,
            "_view_module_version": "1.5.0",
            "description_tooltip": null,
            "_model_module": "@jupyter-widgets/controls",
            "layout": "IPY_MODEL_fba8d74fea2449b793d53e43c7016758"
          }
        },
        "ee90d48b074d44358b4cecb7782af05e": {
          "model_module": "@jupyter-widgets/controls",
          "model_name": "FloatProgressModel",
          "model_module_version": "1.5.0",
          "state": {
            "_view_name": "ProgressView",
            "style": "IPY_MODEL_f40236e64f3843afb851ae33b99ad238",
            "_dom_classes": [],
            "description": "",
            "_model_name": "FloatProgressModel",
            "bar_style": "success",
            "max": 267949840,
            "_view_module": "@jupyter-widgets/controls",
            "_model_module_version": "1.5.0",
            "value": 267949840,
            "_view_count": null,
            "_view_module_version": "1.5.0",
            "orientation": "horizontal",
            "min": 0,
            "description_tooltip": null,
            "_model_module": "@jupyter-widgets/controls",
            "layout": "IPY_MODEL_4d0c129d1e42427e90e47e3af5dbce87"
          }
        },
        "9b9102beef854f648924076fa491182c": {
          "model_module": "@jupyter-widgets/controls",
          "model_name": "HTMLModel",
          "model_module_version": "1.5.0",
          "state": {
            "_view_name": "HTMLView",
            "style": "IPY_MODEL_362ab70e78054d2fa2a5c0cbb21fa997",
            "_dom_classes": [],
            "description": "",
            "_model_name": "HTMLModel",
            "placeholder": "​",
            "_view_module": "@jupyter-widgets/controls",
            "_model_module_version": "1.5.0",
            "value": " 256M/256M [00:07&lt;00:00, 33.7MB/s]",
            "_view_count": null,
            "_view_module_version": "1.5.0",
            "description_tooltip": null,
            "_model_module": "@jupyter-widgets/controls",
            "layout": "IPY_MODEL_1fe48e013c8e454a9dced8d6356b8069"
          }
        },
        "5ec10b873c8a4872a35afa27f385ee54": {
          "model_module": "@jupyter-widgets/controls",
          "model_name": "DescriptionStyleModel",
          "model_module_version": "1.5.0",
          "state": {
            "_view_name": "StyleView",
            "_model_name": "DescriptionStyleModel",
            "description_width": "",
            "_view_module": "@jupyter-widgets/base",
            "_model_module_version": "1.5.0",
            "_view_count": null,
            "_view_module_version": "1.2.0",
            "_model_module": "@jupyter-widgets/controls"
          }
        },
        "fba8d74fea2449b793d53e43c7016758": {
          "model_module": "@jupyter-widgets/base",
          "model_name": "LayoutModel",
          "model_module_version": "1.2.0",
          "state": {
            "_view_name": "LayoutView",
            "grid_template_rows": null,
            "right": null,
            "justify_content": null,
            "_view_module": "@jupyter-widgets/base",
            "overflow": null,
            "_model_module_version": "1.2.0",
            "_view_count": null,
            "flex_flow": null,
            "width": null,
            "min_width": null,
            "border": null,
            "align_items": null,
            "bottom": null,
            "_model_module": "@jupyter-widgets/base",
            "top": null,
            "grid_column": null,
            "overflow_y": null,
            "overflow_x": null,
            "grid_auto_flow": null,
            "grid_area": null,
            "grid_template_columns": null,
            "flex": null,
            "_model_name": "LayoutModel",
            "justify_items": null,
            "grid_row": null,
            "max_height": null,
            "align_content": null,
            "visibility": null,
            "align_self": null,
            "height": null,
            "min_height": null,
            "padding": null,
            "grid_auto_rows": null,
            "grid_gap": null,
            "max_width": null,
            "order": null,
            "_view_module_version": "1.2.0",
            "grid_template_areas": null,
            "object_position": null,
            "object_fit": null,
            "grid_auto_columns": null,
            "margin": null,
            "display": null,
            "left": null
          }
        },
        "f40236e64f3843afb851ae33b99ad238": {
          "model_module": "@jupyter-widgets/controls",
          "model_name": "ProgressStyleModel",
          "model_module_version": "1.5.0",
          "state": {
            "_view_name": "StyleView",
            "_model_name": "ProgressStyleModel",
            "description_width": "",
            "_view_module": "@jupyter-widgets/base",
            "_model_module_version": "1.5.0",
            "_view_count": null,
            "_view_module_version": "1.2.0",
            "bar_color": null,
            "_model_module": "@jupyter-widgets/controls"
          }
        },
        "4d0c129d1e42427e90e47e3af5dbce87": {
          "model_module": "@jupyter-widgets/base",
          "model_name": "LayoutModel",
          "model_module_version": "1.2.0",
          "state": {
            "_view_name": "LayoutView",
            "grid_template_rows": null,
            "right": null,
            "justify_content": null,
            "_view_module": "@jupyter-widgets/base",
            "overflow": null,
            "_model_module_version": "1.2.0",
            "_view_count": null,
            "flex_flow": null,
            "width": null,
            "min_width": null,
            "border": null,
            "align_items": null,
            "bottom": null,
            "_model_module": "@jupyter-widgets/base",
            "top": null,
            "grid_column": null,
            "overflow_y": null,
            "overflow_x": null,
            "grid_auto_flow": null,
            "grid_area": null,
            "grid_template_columns": null,
            "flex": null,
            "_model_name": "LayoutModel",
            "justify_items": null,
            "grid_row": null,
            "max_height": null,
            "align_content": null,
            "visibility": null,
            "align_self": null,
            "height": null,
            "min_height": null,
            "padding": null,
            "grid_auto_rows": null,
            "grid_gap": null,
            "max_width": null,
            "order": null,
            "_view_module_version": "1.2.0",
            "grid_template_areas": null,
            "object_position": null,
            "object_fit": null,
            "grid_auto_columns": null,
            "margin": null,
            "display": null,
            "left": null
          }
        },
        "362ab70e78054d2fa2a5c0cbb21fa997": {
          "model_module": "@jupyter-widgets/controls",
          "model_name": "DescriptionStyleModel",
          "model_module_version": "1.5.0",
          "state": {
            "_view_name": "StyleView",
            "_model_name": "DescriptionStyleModel",
            "description_width": "",
            "_view_module": "@jupyter-widgets/base",
            "_model_module_version": "1.5.0",
            "_view_count": null,
            "_view_module_version": "1.2.0",
            "_model_module": "@jupyter-widgets/controls"
          }
        },
        "1fe48e013c8e454a9dced8d6356b8069": {
          "model_module": "@jupyter-widgets/base",
          "model_name": "LayoutModel",
          "model_module_version": "1.2.0",
          "state": {
            "_view_name": "LayoutView",
            "grid_template_rows": null,
            "right": null,
            "justify_content": null,
            "_view_module": "@jupyter-widgets/base",
            "overflow": null,
            "_model_module_version": "1.2.0",
            "_view_count": null,
            "flex_flow": null,
            "width": null,
            "min_width": null,
            "border": null,
            "align_items": null,
            "bottom": null,
            "_model_module": "@jupyter-widgets/base",
            "top": null,
            "grid_column": null,
            "overflow_y": null,
            "overflow_x": null,
            "grid_auto_flow": null,
            "grid_area": null,
            "grid_template_columns": null,
            "flex": null,
            "_model_name": "LayoutModel",
            "justify_items": null,
            "grid_row": null,
            "max_height": null,
            "align_content": null,
            "visibility": null,
            "align_self": null,
            "height": null,
            "min_height": null,
            "padding": null,
            "grid_auto_rows": null,
            "grid_gap": null,
            "max_width": null,
            "order": null,
            "_view_module_version": "1.2.0",
            "grid_template_areas": null,
            "object_position": null,
            "object_fit": null,
            "grid_auto_columns": null,
            "margin": null,
            "display": null,
            "left": null
          }
        }
      }
    }
  },
  "cells": [
    {
      "cell_type": "markdown",
      "metadata": {
        "id": "view-in-github",
        "colab_type": "text"
      },
      "source": [
        "<a href=\"https://colab.research.google.com/github/Jahan2021/UCS-Classification/blob/main/Copy_of_UCS_Classification_transformer.ipynb\" target=\"_parent\"><img src=\"https://colab.research.google.com/assets/colab-badge.svg\" alt=\"Open In Colab\"/></a>"
      ]
    },
    {
      "cell_type": "markdown",
      "metadata": {
        "id": "xJdlCqgAt5Ug"
      },
      "source": [
        "# Classifying usecases and nonusecases using Transformer"
      ]
    },
    {
      "cell_type": "markdown",
      "metadata": {
        "id": "OFOTiqrtNvyy"
      },
      "source": [
        "# Install Transformers Library"
      ]
    },
    {
      "cell_type": "code",
      "metadata": {
        "id": "1hkhc10wNrGt"
      },
      "source": [
        "!pip install transformers"
      ],
      "execution_count": null,
      "outputs": []
    },
    {
      "cell_type": "code",
      "metadata": {
        "colab": {
          "base_uri": "https://localhost:8080/",
          "height": 35
        },
        "id": "wDYjlJhwHJKS",
        "outputId": "d035c6e2-3816-4310-ec89-701380f1da11"
      },
      "source": [
        "#checking for GPU\n",
        "import tensorflow as tf\n",
        "tf.test.gpu_device_name()"
      ],
      "execution_count": null,
      "outputs": [
        {
          "output_type": "execute_result",
          "data": {
            "application/vnd.google.colaboratory.intrinsic+json": {
              "type": "string"
            },
            "text/plain": [
              "'/device:GPU:0'"
            ]
          },
          "metadata": {},
          "execution_count": 1
        }
      ]
    },
    {
      "cell_type": "markdown",
      "metadata": {
        "id": "kKd-Tj3hOMsZ"
      },
      "source": [
        "# Load Dataset"
      ]
    },
    {
      "cell_type": "code",
      "metadata": {
        "id": "ksRXkHsHuYJ8"
      },
      "source": [
        "import numpy as np\n",
        "import pandas as pd"
      ],
      "execution_count": null,
      "outputs": []
    },
    {
      "cell_type": "code",
      "metadata": {
        "id": "FM-0m4cfaClc",
        "colab": {
          "base_uri": "https://localhost:8080/"
        },
        "outputId": "019b6f50-6304-4865-a816-07d7c16ad349"
      },
      "source": [
        "path=\"/content/drive/MyDrive/Colab Notebooks\"\n",
        "from google.colab import drive\n",
        "drive.mount('/content/drive')\n",
        "path_data=path+\"/data1/ucsdata.csv\"#\"/content/spamdata_v2.csv\"#\"/content/spamdata_v2.txt\"\n",
        "df = pd.read_csv(path_data)\n",
        "df.head()\n",
        "#duplicate = df[df.duplicated()]\n",
        "  \n",
        "#print(\"Duplicate Rows :\")\n",
        "  \n",
        "# Print the resultant Dataframe\n",
        "#duplicate\n",
        "#df.drop_duplicates()\n",
        "df=df.drop_duplicates(keep='last', ignore_index=True)\n",
        "df_not_usecase = df[df['label']==0]\n",
        "df_not_usecase.shape\n",
        "df_usecase = df[df['label']==1]\n",
        "df_usecase.shape\n",
        "#down sample the dataset to make it balanced\n",
        "df_not_usecase_downsampled = df_not_usecase.sample(df_usecase.shape[0])\n",
        "df_not_usecase_downsampled.shape\n",
        "df_balanced = pd.concat([df_not_usecase_downsampled, df_usecase])\n",
        "df_balanced.shape\n",
        "df_balanced['label'].value_counts()"
      ],
      "execution_count": null,
      "outputs": [
        {
          "output_type": "stream",
          "name": "stdout",
          "text": [
            "Mounted at /content/drive\n"
          ]
        },
        {
          "output_type": "execute_result",
          "data": {
            "text/plain": [
              "1    582\n",
              "0    582\n",
              "Name: label, dtype: int64"
            ]
          },
          "metadata": {},
          "execution_count": 4
        }
      ]
    },
    {
      "cell_type": "code",
      "metadata": {
        "colab": {
          "base_uri": "https://localhost:8080/",
          "height": 67
        },
        "id": "oxHQlkpAKdLN",
        "outputId": "9d00a040-4952-4748-e0ba-5e1a860ad7bd"
      },
      "source": [
        "# Selecting duplicate rows except first \n",
        "# occurrence based on all columns\n",
        "duplicate = df_balanced[df_balanced.duplicated()]\n",
        "  \n",
        "print(\"Duplicate Rows :\")\n",
        "  \n",
        "# Print the resultant Dataframe\n",
        "duplicate\n",
        "#df.drop_duplicates()"
      ],
      "execution_count": null,
      "outputs": [
        {
          "output_type": "stream",
          "name": "stdout",
          "text": [
            "Duplicate Rows :\n"
          ]
        },
        {
          "output_type": "execute_result",
          "data": {
            "text/html": [
              "\n",
              "  <div id=\"df-2cb21e5a-69a2-4e68-919a-62229778bc23\">\n",
              "    <div class=\"colab-df-container\">\n",
              "      <div>\n",
              "<style scoped>\n",
              "    .dataframe tbody tr th:only-of-type {\n",
              "        vertical-align: middle;\n",
              "    }\n",
              "\n",
              "    .dataframe tbody tr th {\n",
              "        vertical-align: top;\n",
              "    }\n",
              "\n",
              "    .dataframe thead th {\n",
              "        text-align: right;\n",
              "    }\n",
              "</style>\n",
              "<table border=\"1\" class=\"dataframe\">\n",
              "  <thead>\n",
              "    <tr style=\"text-align: right;\">\n",
              "      <th></th>\n",
              "      <th>label</th>\n",
              "      <th>text</th>\n",
              "    </tr>\n",
              "  </thead>\n",
              "  <tbody>\n",
              "  </tbody>\n",
              "</table>\n",
              "</div>\n",
              "      <button class=\"colab-df-convert\" onclick=\"convertToInteractive('df-2cb21e5a-69a2-4e68-919a-62229778bc23')\"\n",
              "              title=\"Convert this dataframe to an interactive table.\"\n",
              "              style=\"display:none;\">\n",
              "        \n",
              "  <svg xmlns=\"http://www.w3.org/2000/svg\" height=\"24px\"viewBox=\"0 0 24 24\"\n",
              "       width=\"24px\">\n",
              "    <path d=\"M0 0h24v24H0V0z\" fill=\"none\"/>\n",
              "    <path d=\"M18.56 5.44l.94 2.06.94-2.06 2.06-.94-2.06-.94-.94-2.06-.94 2.06-2.06.94zm-11 1L8.5 8.5l.94-2.06 2.06-.94-2.06-.94L8.5 2.5l-.94 2.06-2.06.94zm10 10l.94 2.06.94-2.06 2.06-.94-2.06-.94-.94-2.06-.94 2.06-2.06.94z\"/><path d=\"M17.41 7.96l-1.37-1.37c-.4-.4-.92-.59-1.43-.59-.52 0-1.04.2-1.43.59L10.3 9.45l-7.72 7.72c-.78.78-.78 2.05 0 2.83L4 21.41c.39.39.9.59 1.41.59.51 0 1.02-.2 1.41-.59l7.78-7.78 2.81-2.81c.8-.78.8-2.07 0-2.86zM5.41 20L4 18.59l7.72-7.72 1.47 1.35L5.41 20z\"/>\n",
              "  </svg>\n",
              "      </button>\n",
              "      \n",
              "  <style>\n",
              "    .colab-df-container {\n",
              "      display:flex;\n",
              "      flex-wrap:wrap;\n",
              "      gap: 12px;\n",
              "    }\n",
              "\n",
              "    .colab-df-convert {\n",
              "      background-color: #E8F0FE;\n",
              "      border: none;\n",
              "      border-radius: 50%;\n",
              "      cursor: pointer;\n",
              "      display: none;\n",
              "      fill: #1967D2;\n",
              "      height: 32px;\n",
              "      padding: 0 0 0 0;\n",
              "      width: 32px;\n",
              "    }\n",
              "\n",
              "    .colab-df-convert:hover {\n",
              "      background-color: #E2EBFA;\n",
              "      box-shadow: 0px 1px 2px rgba(60, 64, 67, 0.3), 0px 1px 3px 1px rgba(60, 64, 67, 0.15);\n",
              "      fill: #174EA6;\n",
              "    }\n",
              "\n",
              "    [theme=dark] .colab-df-convert {\n",
              "      background-color: #3B4455;\n",
              "      fill: #D2E3FC;\n",
              "    }\n",
              "\n",
              "    [theme=dark] .colab-df-convert:hover {\n",
              "      background-color: #434B5C;\n",
              "      box-shadow: 0px 1px 3px 1px rgba(0, 0, 0, 0.15);\n",
              "      filter: drop-shadow(0px 1px 2px rgba(0, 0, 0, 0.3));\n",
              "      fill: #FFFFFF;\n",
              "    }\n",
              "  </style>\n",
              "\n",
              "      <script>\n",
              "        const buttonEl =\n",
              "          document.querySelector('#df-2cb21e5a-69a2-4e68-919a-62229778bc23 button.colab-df-convert');\n",
              "        buttonEl.style.display =\n",
              "          google.colab.kernel.accessAllowed ? 'block' : 'none';\n",
              "\n",
              "        async function convertToInteractive(key) {\n",
              "          const element = document.querySelector('#df-2cb21e5a-69a2-4e68-919a-62229778bc23');\n",
              "          const dataTable =\n",
              "            await google.colab.kernel.invokeFunction('convertToInteractive',\n",
              "                                                     [key], {});\n",
              "          if (!dataTable) return;\n",
              "\n",
              "          const docLinkHtml = 'Like what you see? Visit the ' +\n",
              "            '<a target=\"_blank\" href=https://colab.research.google.com/notebooks/data_table.ipynb>data table notebook</a>'\n",
              "            + ' to learn more about interactive tables.';\n",
              "          element.innerHTML = '';\n",
              "          dataTable['output_type'] = 'display_data';\n",
              "          await google.colab.output.renderOutput(dataTable, element);\n",
              "          const docLink = document.createElement('div');\n",
              "          docLink.innerHTML = docLinkHtml;\n",
              "          element.appendChild(docLink);\n",
              "        }\n",
              "      </script>\n",
              "    </div>\n",
              "  </div>\n",
              "  "
            ],
            "text/plain": [
              "Empty DataFrame\n",
              "Columns: [label, text]\n",
              "Index: []"
            ]
          },
          "metadata": {},
          "execution_count": 5
        }
      ]
    },
    {
      "cell_type": "code",
      "metadata": {
        "id": "2nsFyVXOBQJ5"
      },
      "source": [
        "# turn a doc into clean tokens\n",
        "def clean_doc(doc):\n",
        "  doc = doc.lower()\n",
        "  # split into tokens by white space\n",
        "  tokens = doc.split()\n",
        "  # remove punctuation from each token\n",
        "  table = str.maketrans('', '', string.punctuation)\n",
        "  tokens = [w.translate(table) for w in tokens]\n",
        "  # remove remaining tokens that are not alphabetic\n",
        "  tokens = [word for word in tokens if word.isalpha()]\n",
        "  # filter out stop words\n",
        "  #stop_words = set(stopwords.words('english'))\n",
        "  #tokens = [w for w in tokens if not w in stop_words]\n",
        "  # filter out short tokens\n",
        "  tokens = [word for word in tokens if len(word) > 1]\n",
        "  return  (\" \".join(tokens)).strip()+'.'"
      ],
      "execution_count": null,
      "outputs": []
    },
    {
      "cell_type": "code",
      "metadata": {
        "id": "yvJA_dcDv1cx"
      },
      "source": [
        "import string\n",
        "df_balanced[\"text\"]=df_balanced[\"text\"].apply(lambda x: clean_doc(x))\n",
        "#df[1] = df[1].apply(add_one)"
      ],
      "execution_count": null,
      "outputs": []
    },
    {
      "cell_type": "code",
      "metadata": {
        "colab": {
          "base_uri": "https://localhost:8080/",
          "height": 206
        },
        "id": "Sjk7X9iy0Ok9",
        "outputId": "bf8efb2a-36e1-41e6-f572-756a75de10c4"
      },
      "source": [
        "df_balanced.head()"
      ],
      "execution_count": null,
      "outputs": [
        {
          "output_type": "execute_result",
          "data": {
            "text/html": [
              "\n",
              "  <div id=\"df-f607fa37-542f-413a-9a0b-5d3cbc7e63d3\">\n",
              "    <div class=\"colab-df-container\">\n",
              "      <div>\n",
              "<style scoped>\n",
              "    .dataframe tbody tr th:only-of-type {\n",
              "        vertical-align: middle;\n",
              "    }\n",
              "\n",
              "    .dataframe tbody tr th {\n",
              "        vertical-align: top;\n",
              "    }\n",
              "\n",
              "    .dataframe thead th {\n",
              "        text-align: right;\n",
              "    }\n",
              "</style>\n",
              "<table border=\"1\" class=\"dataframe\">\n",
              "  <thead>\n",
              "    <tr style=\"text-align: right;\">\n",
              "      <th></th>\n",
              "      <th>label</th>\n",
              "      <th>text</th>\n",
              "    </tr>\n",
              "  </thead>\n",
              "  <tbody>\n",
              "    <tr>\n",
              "      <th>710</th>\n",
              "      <td>0</td>\n",
              "      <td>the errors will be highlighted for easy review.</td>\n",
              "    </tr>\n",
              "    <tr>\n",
              "      <th>1246</th>\n",
              "      <td>0</td>\n",
              "      <td>enable agents to unicast message to other agen...</td>\n",
              "    </tr>\n",
              "    <tr>\n",
              "      <th>701</th>\n",
              "      <td>0</td>\n",
              "      <td>the user shall be able to view the data stored...</td>\n",
              "    </tr>\n",
              "    <tr>\n",
              "      <th>845</th>\n",
              "      <td>0</td>\n",
              "      <td>donor in possession of valid acquisition numbe...</td>\n",
              "    </tr>\n",
              "    <tr>\n",
              "      <th>661</th>\n",
              "      <td>0</td>\n",
              "      <td>the address field will capture the geographica...</td>\n",
              "    </tr>\n",
              "  </tbody>\n",
              "</table>\n",
              "</div>\n",
              "      <button class=\"colab-df-convert\" onclick=\"convertToInteractive('df-f607fa37-542f-413a-9a0b-5d3cbc7e63d3')\"\n",
              "              title=\"Convert this dataframe to an interactive table.\"\n",
              "              style=\"display:none;\">\n",
              "        \n",
              "  <svg xmlns=\"http://www.w3.org/2000/svg\" height=\"24px\"viewBox=\"0 0 24 24\"\n",
              "       width=\"24px\">\n",
              "    <path d=\"M0 0h24v24H0V0z\" fill=\"none\"/>\n",
              "    <path d=\"M18.56 5.44l.94 2.06.94-2.06 2.06-.94-2.06-.94-.94-2.06-.94 2.06-2.06.94zm-11 1L8.5 8.5l.94-2.06 2.06-.94-2.06-.94L8.5 2.5l-.94 2.06-2.06.94zm10 10l.94 2.06.94-2.06 2.06-.94-2.06-.94-.94-2.06-.94 2.06-2.06.94z\"/><path d=\"M17.41 7.96l-1.37-1.37c-.4-.4-.92-.59-1.43-.59-.52 0-1.04.2-1.43.59L10.3 9.45l-7.72 7.72c-.78.78-.78 2.05 0 2.83L4 21.41c.39.39.9.59 1.41.59.51 0 1.02-.2 1.41-.59l7.78-7.78 2.81-2.81c.8-.78.8-2.07 0-2.86zM5.41 20L4 18.59l7.72-7.72 1.47 1.35L5.41 20z\"/>\n",
              "  </svg>\n",
              "      </button>\n",
              "      \n",
              "  <style>\n",
              "    .colab-df-container {\n",
              "      display:flex;\n",
              "      flex-wrap:wrap;\n",
              "      gap: 12px;\n",
              "    }\n",
              "\n",
              "    .colab-df-convert {\n",
              "      background-color: #E8F0FE;\n",
              "      border: none;\n",
              "      border-radius: 50%;\n",
              "      cursor: pointer;\n",
              "      display: none;\n",
              "      fill: #1967D2;\n",
              "      height: 32px;\n",
              "      padding: 0 0 0 0;\n",
              "      width: 32px;\n",
              "    }\n",
              "\n",
              "    .colab-df-convert:hover {\n",
              "      background-color: #E2EBFA;\n",
              "      box-shadow: 0px 1px 2px rgba(60, 64, 67, 0.3), 0px 1px 3px 1px rgba(60, 64, 67, 0.15);\n",
              "      fill: #174EA6;\n",
              "    }\n",
              "\n",
              "    [theme=dark] .colab-df-convert {\n",
              "      background-color: #3B4455;\n",
              "      fill: #D2E3FC;\n",
              "    }\n",
              "\n",
              "    [theme=dark] .colab-df-convert:hover {\n",
              "      background-color: #434B5C;\n",
              "      box-shadow: 0px 1px 3px 1px rgba(0, 0, 0, 0.15);\n",
              "      filter: drop-shadow(0px 1px 2px rgba(0, 0, 0, 0.3));\n",
              "      fill: #FFFFFF;\n",
              "    }\n",
              "  </style>\n",
              "\n",
              "      <script>\n",
              "        const buttonEl =\n",
              "          document.querySelector('#df-f607fa37-542f-413a-9a0b-5d3cbc7e63d3 button.colab-df-convert');\n",
              "        buttonEl.style.display =\n",
              "          google.colab.kernel.accessAllowed ? 'block' : 'none';\n",
              "\n",
              "        async function convertToInteractive(key) {\n",
              "          const element = document.querySelector('#df-f607fa37-542f-413a-9a0b-5d3cbc7e63d3');\n",
              "          const dataTable =\n",
              "            await google.colab.kernel.invokeFunction('convertToInteractive',\n",
              "                                                     [key], {});\n",
              "          if (!dataTable) return;\n",
              "\n",
              "          const docLinkHtml = 'Like what you see? Visit the ' +\n",
              "            '<a target=\"_blank\" href=https://colab.research.google.com/notebooks/data_table.ipynb>data table notebook</a>'\n",
              "            + ' to learn more about interactive tables.';\n",
              "          element.innerHTML = '';\n",
              "          dataTable['output_type'] = 'display_data';\n",
              "          await google.colab.output.renderOutput(dataTable, element);\n",
              "          const docLink = document.createElement('div');\n",
              "          docLink.innerHTML = docLinkHtml;\n",
              "          element.appendChild(docLink);\n",
              "        }\n",
              "      </script>\n",
              "    </div>\n",
              "  </div>\n",
              "  "
            ],
            "text/plain": [
              "      label                                               text\n",
              "710       0    the errors will be highlighted for easy review.\n",
              "1246      0  enable agents to unicast message to other agen...\n",
              "701       0  the user shall be able to view the data stored...\n",
              "845       0  donor in possession of valid acquisition numbe...\n",
              "661       0  the address field will capture the geographica..."
            ]
          },
          "metadata": {},
          "execution_count": 9
        }
      ]
    },
    {
      "cell_type": "markdown",
      "metadata": {
        "id": "hHVC0Gzriy9B"
      },
      "source": [
        "## DistilledBERT"
      ]
    },
    {
      "cell_type": "markdown",
      "metadata": {
        "id": "TnWYh-GKpH0D"
      },
      "source": [
        "## Imports, Instalations and Constants"
      ]
    },
    {
      "cell_type": "markdown",
      "metadata": {
        "id": "xUVz7CSMEGsH"
      },
      "source": [
        "Code reproduced from: https://medium.com/geekculture/hugging-face-distilbert-tensorflow-for-custom-text-classification-1ad4a49e26a7"
      ]
    },
    {
      "cell_type": "code",
      "metadata": {
        "id": "KXQ-gIvNedL5"
      },
      "source": [
        "#!pip install transformers\n",
        "\n",
        "import pandas as pd\n",
        "import tensorflow as tf\n",
        "import transformers\n",
        "from transformers import DistilBertTokenizer\n",
        "from transformers import TFDistilBertForSequenceClassification\n",
        "\n",
        "pd.set_option('display.max_colwidth', None)\n",
        "MODEL_NAME = 'distilbert-base-uncased-finetuned-sst-2-english'# This model is a fine-tune checkpoint of DistilBERT-base-uncased, fine-tuned on SST-2.\n",
        "BATCH_SIZE = 16\n",
        "N_EPOCHS = 4 # we can put more, because evaluation of the model shows big difference in loss with accuracy 1.0"
      ],
      "execution_count": null,
      "outputs": []
    },
    {
      "cell_type": "code",
      "metadata": {
        "id": "6dflYdxqjWEE"
      },
      "source": [
        "from sklearn.model_selection import train_test_split\n",
        "X_train, X_test, y_train, y_test = train_test_split(df_balanced['text'], df_balanced['label'], \n",
        "                                                                    random_state=2018, \n",
        "                                                                    test_size=0.3, \n",
        "                                                                    stratify=df_balanced['label'])\n",
        "\n",
        "# we will use temp_text and temp_labels to create validation and test set\n",
        "#val_text, test_text, val_labels, test_labels = train_test_split(temp_text, temp_labels, \n",
        "                                                                #random_state=2018, \n",
        "                                                                #test_size=0.5, \n",
        "                                                                #stratify=temp_labels)"
      ],
      "execution_count": null,
      "outputs": []
    },
    {
      "cell_type": "markdown",
      "metadata": {
        "id": "_T0xiN5JTNAn"
      },
      "source": [
        "## Preprocess"
      ]
    },
    {
      "cell_type": "markdown",
      "metadata": {
        "id": "5c6psE19Sywd"
      },
      "source": [
        "### Decode byte arrays into string representation. "
      ]
    },
    {
      "cell_type": "code",
      "metadata": {
        "colab": {
          "base_uri": "https://localhost:8080/"
        },
        "id": "CvxV2NEzgaJd",
        "outputId": "f0ebed9b-8169-41f7-9dd3-63358c81ae34"
      },
      "source": [
        "#X_train = X_train.apply(lambda x: str(x[0], 'utf-8'))\n",
        "#X_test = X_test.apply(lambda x:  str(x[0], 'utf-8'))\n",
        "X_train[:3]"
      ],
      "execution_count": null,
      "outputs": [
        {
          "output_type": "execute_result",
          "data": {
            "text/plain": [
              "179                                      user creates new detail.\n",
              "1050    configuration item all except the system reports have an.\n",
              "64                modify the information of matched instructions.\n",
              "Name: text, dtype: object"
            ]
          },
          "metadata": {},
          "execution_count": 12
        }
      ]
    },
    {
      "cell_type": "markdown",
      "metadata": {
        "id": "au36t-dZFRjh"
      },
      "source": [
        "### Max sentence length"
      ]
    },
    {
      "cell_type": "code",
      "metadata": {
        "colab": {
          "base_uri": "https://localhost:8080/"
        },
        "id": "7eBV0wMcCeB3",
        "outputId": "c58f58fb-3847-4ead-a68c-56672f962c21"
      },
      "source": [
        "MAX_LEN = X_train.apply(lambda s: len([x for x in s.split()])).max()\n",
        "MAX_LEN"
      ],
      "execution_count": null,
      "outputs": [
        {
          "output_type": "execute_result",
          "data": {
            "text/plain": [
              "63"
            ]
          },
          "metadata": {},
          "execution_count": 13
        }
      ]
    },
    {
      "cell_type": "markdown",
      "metadata": {
        "id": "UKZWPmE6T9P8"
      },
      "source": [
        "## Encode with  DistilBertTokenizer"
      ]
    },
    {
      "cell_type": "code",
      "metadata": {
        "colab": {
          "base_uri": "https://localhost:8080/",
          "height": 203,
          "referenced_widgets": [
            "5d0844651f614148a97617713aedb018",
            "5ca42e2bcee54f8ab3045ff71f91b6f5",
            "0367cdd1d7e140a9b13e55034cb31457",
            "0161da765b6446ffa3a7b8075d30d395",
            "00a2825091f045d8b58a844684f9716f",
            "2ddeb1d808ef479690b0553bdccf4c22",
            "e4927e834bd445b694d366d289228f69",
            "a8e60d41dcb64c699730092098f60817",
            "d6e3bbaedd2347e98089ba194baae75b",
            "19ae47670c6449e1b584b18a57cf8948",
            "d93d4899e2bc4a2095c98bbf354aefbd",
            "918a28eabd0f41efacf43af53ac0ee17",
            "94c20e91da984372841f3664e1d386b2",
            "37ed5dec90964dc89298f5c4b55646a8",
            "99411fa46df54a02bb40407b1ecf5ee6",
            "f47abbd93bdd4b1c8b061ede9bccf8a0",
            "3015bf47ddf344a184f8d142735f8e5a",
            "08c2e64d43e743eca253f5297067134c",
            "efc828147c0b4530a9d9eb394c1ef4a0",
            "e7718d8c7b4f4f359f286a4acab5f67d",
            "2237495856b84b08b1daf6c22cab4236",
            "f63ab889ccc045288fccf52806cfbaba",
            "05048c62ac4a4bff9457c766a69b5ecc",
            "eff0c8493a96478b96b9c1bf881dcde5",
            "acc00100fb4e4d25b73056020ba7fe37",
            "56da97ab785747a39104a6b00c32a677",
            "6d420697053143d694e8707ca6645712",
            "77f402720fac498098d78d6a7ab30327",
            "9810f9cd396746df93c2179bea0f5ebe",
            "a4caaaeebe904bfaae9f8c13d4e0d1e8",
            "6dd5c63ffa7e43858ae3d310e52ed9e7",
            "11ddf1a748f145a5bb281df406f0e262",
            "c686c978caf14b099b52d5a8274e46f3"
          ]
        },
        "id": "OtFwP_Egzktr",
        "outputId": "d3308069-d505-447c-cf7d-5e3036474dcb"
      },
      "source": [
        "#define a tokenizer object\n",
        "tokenizer = DistilBertTokenizer.from_pretrained(MODEL_NAME)\n",
        "\n",
        "#tokenize the text (padding to max sequence in batch)\n",
        "train_encodings = tokenizer(list(X_train.values), truncation=True, padding=True)\n",
        "test_encodings = tokenizer(list(X_test.values), truncation=True, padding=True)\n",
        "\n",
        "#print the first paragraph and it transformation\n",
        "print(f'First paragraph: \\'{X_train[:1]}\\'')\n",
        "print(f'Input ids: {train_encodings[\"input_ids\"][0]}')\n",
        "print(f'Attention mask: {train_encodings[\"attention_mask\"][0]}')\n"
      ],
      "execution_count": null,
      "outputs": [
        {
          "output_type": "display_data",
          "data": {
            "application/vnd.jupyter.widget-view+json": {
              "model_id": "5d0844651f614148a97617713aedb018",
              "version_minor": 0,
              "version_major": 2
            },
            "text/plain": [
              "Downloading:   0%|          | 0.00/226k [00:00<?, ?B/s]"
            ]
          },
          "metadata": {}
        },
        {
          "output_type": "display_data",
          "data": {
            "application/vnd.jupyter.widget-view+json": {
              "model_id": "918a28eabd0f41efacf43af53ac0ee17",
              "version_minor": 0,
              "version_major": 2
            },
            "text/plain": [
              "Downloading:   0%|          | 0.00/48.0 [00:00<?, ?B/s]"
            ]
          },
          "metadata": {}
        },
        {
          "output_type": "display_data",
          "data": {
            "application/vnd.jupyter.widget-view+json": {
              "model_id": "05048c62ac4a4bff9457c766a69b5ecc",
              "version_minor": 0,
              "version_major": 2
            },
            "text/plain": [
              "Downloading:   0%|          | 0.00/629 [00:00<?, ?B/s]"
            ]
          },
          "metadata": {}
        },
        {
          "output_type": "stream",
          "name": "stdout",
          "text": [
            "First paragraph: '179    user creates new detail.\n",
            "Name: text, dtype: object'\n",
            "Input ids: [101, 5310, 9005, 2047, 6987, 1012, 102, 0, 0, 0, 0, 0, 0, 0, 0, 0, 0, 0, 0, 0, 0, 0, 0, 0, 0, 0, 0, 0, 0, 0, 0, 0, 0, 0, 0, 0, 0, 0, 0, 0, 0, 0, 0, 0, 0, 0, 0, 0, 0, 0, 0, 0, 0, 0, 0, 0, 0, 0, 0, 0, 0, 0, 0, 0, 0, 0, 0, 0, 0, 0, 0, 0, 0, 0, 0]\n",
            "Attention mask: [1, 1, 1, 1, 1, 1, 1, 0, 0, 0, 0, 0, 0, 0, 0, 0, 0, 0, 0, 0, 0, 0, 0, 0, 0, 0, 0, 0, 0, 0, 0, 0, 0, 0, 0, 0, 0, 0, 0, 0, 0, 0, 0, 0, 0, 0, 0, 0, 0, 0, 0, 0, 0, 0, 0, 0, 0, 0, 0, 0, 0, 0, 0, 0, 0, 0, 0, 0, 0, 0, 0, 0, 0, 0, 0]\n"
          ]
        }
      ]
    },
    {
      "cell_type": "markdown",
      "metadata": {
        "id": "CUmtW9dgEw8a"
      },
      "source": [
        "## Length check"
      ]
    },
    {
      "cell_type": "code",
      "metadata": {
        "colab": {
          "base_uri": "https://localhost:8080/",
          "height": 281
        },
        "id": "G-OtFxDUEhHn",
        "outputId": "c9de880f-fb39-4a85-aeda-c65607785709"
      },
      "source": [
        "pd.DataFrame(train_encodings[\"input_ids\"]).hist();"
      ],
      "execution_count": null,
      "outputs": [
        {
          "output_type": "display_data",
          "data": {
            "image/png": "[encoded data removed]",
            "text/plain": [
              "<Figure size 432x288 with 81 Axes>"
            ]
          },
          "metadata": {
            "needs_background": "light"
          }
        }
      ]
    },
    {
      "cell_type": "code",
      "metadata": {
        "colab": {
          "base_uri": "https://localhost:8080/"
        },
        "id": "NKWUEbpFEt7N",
        "outputId": "86651b06-ebcf-4132-c6bb-f3746c164b89"
      },
      "source": [
        "len(train_encodings[\"attention_mask\"][0]) #max len tokenized sentence - 362"
      ],
      "execution_count": null,
      "outputs": [
        {
          "output_type": "execute_result",
          "data": {
            "text/plain": [
              "75"
            ]
          },
          "metadata": {},
          "execution_count": 16
        }
      ]
    },
    {
      "cell_type": "code",
      "metadata": {
        "id": "BaJnImyanka0"
      },
      "source": [
        "#train_encodings"
      ],
      "execution_count": null,
      "outputs": []
    },
    {
      "cell_type": "markdown",
      "metadata": {
        "id": "X8Uy0qycy8Fl"
      },
      "source": [
        "###  Turn our labels and encodings into a tf.Dataset object"
      ]
    },
    {
      "cell_type": "code",
      "metadata": {
        "id": "o5U_xzK8fVrc"
      },
      "source": [
        "train_dataset = tf.data.Dataset.from_tensor_slices((dict(train_encodings),\n",
        "                                                    list(y_train.values)))\n",
        "\n",
        "test_dataset = tf.data.Dataset.from_tensor_slices((dict(test_encodings),\n",
        "                                                    list(y_test.values)))"
      ],
      "execution_count": null,
      "outputs": []
    },
    {
      "cell_type": "code",
      "metadata": {
        "colab": {
          "base_uri": "https://localhost:8080/"
        },
        "id": "7UuD_KewylTi",
        "outputId": "aa0b039f-72e8-4a19-9c3b-9ef0e8470ee6"
      },
      "source": [
        "train_dataset "
      ],
      "execution_count": null,
      "outputs": [
        {
          "output_type": "execute_result",
          "data": {
            "text/plain": [
              "<TensorSliceDataset shapes: ({input_ids: (75,), attention_mask: (75,)}, ()), types: ({input_ids: tf.int32, attention_mask: tf.int32}, tf.int32)>"
            ]
          },
          "metadata": {},
          "execution_count": 17
        }
      ]
    },
    {
      "cell_type": "markdown",
      "metadata": {
        "id": "Kg8b3C855T67"
      },
      "source": [
        "## Fine-tuning with native TensorFlow\n"
      ]
    },
    {
      "cell_type": "code",
      "metadata": {
        "colab": {
          "base_uri": "https://localhost:8080/",
          "height": 295,
          "referenced_widgets": [
            "27b12be89df247bf9ac74fd6acbb40ad",
            "f2a0615fea3542c5a29ecab031998b92",
            "7e9c0fa3562645a496f5854f3c5680cc",
            "ee90d48b074d44358b4cecb7782af05e",
            "9b9102beef854f648924076fa491182c",
            "5ec10b873c8a4872a35afa27f385ee54",
            "fba8d74fea2449b793d53e43c7016758",
            "f40236e64f3843afb851ae33b99ad238",
            "4d0c129d1e42427e90e47e3af5dbce87",
            "362ab70e78054d2fa2a5c0cbb21fa997",
            "1fe48e013c8e454a9dced8d6356b8069"
          ]
        },
        "id": "hamHq6LO0AiS",
        "outputId": "93b57949-d926-46be-a984-76e4d3695664"
      },
      "source": [
        "import time\n",
        "model_dist = TFDistilBertForSequenceClassification.from_pretrained(MODEL_NAME)\n",
        "\n",
        "optimizerr = tf.keras.optimizers.Adam(learning_rate=5e-5)\n",
        "losss = tf.keras.losses.SparseCategoricalCrossentropy(from_logits=True) # Computes the crossentropy loss between the labels and predictions. \n",
        "model_dist.compile(optimizer=optimizerr,                                     \n",
        "              loss=losss,\n",
        "              metrics=['accuracy'])\n",
        "start=time.time()\n",
        "hist=model_dist.fit(train_dataset.shuffle(len(X_train)).batch(BATCH_SIZE), \n",
        "          epochs=N_EPOCHS,\n",
        "          batch_size=BATCH_SIZE,\n",
        "          ) #([val_inp,val_mask],val_label)\n",
        "end = time.time()\n",
        "print(\"Total time DistilBERT: \"+str(end - start))"
      ],
      "execution_count": null,
      "outputs": [
        {
          "output_type": "display_data",
          "data": {
            "application/vnd.jupyter.widget-view+json": {
              "model_id": "27b12be89df247bf9ac74fd6acbb40ad",
              "version_minor": 0,
              "version_major": 2
            },
            "text/plain": [
              "Downloading:   0%|          | 0.00/256M [00:00<?, ?B/s]"
            ]
          },
          "metadata": {}
        },
        {
          "output_type": "stream",
          "name": "stderr",
          "text": [
            "All model checkpoint layers were used when initializing TFDistilBertForSequenceClassification.\n",
            "\n",
            "All the layers of TFDistilBertForSequenceClassification were initialized from the model checkpoint at distilbert-base-uncased-finetuned-sst-2-english.\n",
            "If your task is similar to the task the model of the checkpoint was trained on, you can already use TFDistilBertForSequenceClassification for predictions without further training.\n"
          ]
        },
        {
          "output_type": "stream",
          "name": "stdout",
          "text": [
            "Epoch 1/4\n",
            "51/51 [==============================] - 26s 269ms/step - loss: 0.4834 - accuracy: 0.7973\n",
            "Epoch 2/4\n",
            "51/51 [==============================] - 14s 268ms/step - loss: 0.1101 - accuracy: 0.9619\n",
            "Epoch 3/4\n",
            "51/51 [==============================] - 14s 268ms/step - loss: 0.0365 - accuracy: 0.9889\n",
            "Epoch 4/4\n",
            "51/51 [==============================] - 14s 268ms/step - loss: 0.0256 - accuracy: 0.9914\n",
            "Total time DistilBERT: 74.20655059814453\n"
          ]
        }
      ]
    },
    {
      "cell_type": "code",
      "metadata": {
        "colab": {
          "base_uri": "https://localhost:8080/"
        },
        "id": "sZBUmhIikMEe",
        "outputId": "de254793-88d1-40ff-84e7-2d3d315947f0"
      },
      "source": [
        "print(hist.history)"
      ],
      "execution_count": null,
      "outputs": [
        {
          "output_type": "stream",
          "name": "stdout",
          "text": [
            "{'loss': [0.48336032032966614, 0.11012820899486542, 0.03649395331740379, 0.025593351572752], 'accuracy': [0.7972972989082336, 0.961916446685791, 0.9889435172080994, 0.9914004802703857]}\n"
          ]
        }
      ]
    },
    {
      "cell_type": "code",
      "metadata": {
        "id": "o-BqW43QjqdT"
      },
      "source": [
        "import matplotlib.pyplot as plt\n",
        "# Create a dataframe\n",
        "dist_metrics = pd.DataFrame(hist.history)\n",
        "\n",
        "# Rename column\n",
        "dist_metrics.rename(columns = {'loss': 'Training_Loss', 'accuracy': 'Training_Accuracy'}, inplace = True)\n",
        "def plot_graphs1(var1, var2, string):\n",
        "    dist_metrics[[var1,var2]].plot()\n",
        "    #dist_metrics[[var2]].plot()\n",
        "    plt.title('DistilBERT Model: Training and Validation ' + string)\n",
        "    plt.xlabel ('Number of epochs')\n",
        "    plt.ylabel(string)\n",
        "    plt.legend([var1, var2])"
      ],
      "execution_count": null,
      "outputs": []
    },
    {
      "cell_type": "code",
      "metadata": {
        "colab": {
          "base_uri": "https://localhost:8080/",
          "height": 295
        },
        "id": "Rll-nrx806re",
        "outputId": "15a2f25a-bf57-49e8-decb-3e930c8333dc"
      },
      "source": [
        "plot_graphs1('Training_Loss', 'Training_Accuracy', 'loss')\n",
        "plt.savefig(\"distBERT_loss.png\")"
      ],
      "execution_count": null,
      "outputs": [
        {
          "output_type": "display_data",
          "data": {
            "image/png": "[encoded data removed]",
            "text/plain": [
              "<Figure size 432x288 with 1 Axes>"
            ]
          },
          "metadata": {
            "needs_background": "light"
          }
        }
      ]
    },
    {
      "cell_type": "markdown",
      "metadata": {
        "id": "1Zv-nDPsUZdF"
      },
      "source": [
        "## Model Evaluation"
      ]
    },
    {
      "cell_type": "code",
      "metadata": {
        "colab": {
          "base_uri": "https://localhost:8080/"
        },
        "id": "kO3wessE5GKE",
        "outputId": "76155445-9534-4366-ce44-a308fef33d5e"
      },
      "source": [
        "model_dist.evaluate(test_dataset.shuffle(len(X_test)).batch(BATCH_SIZE), return_dict=True, batch_size=BATCH_SIZE)"
      ],
      "execution_count": null,
      "outputs": [
        {
          "output_type": "stream",
          "name": "stdout",
          "text": [
            "22/22 [==============================] - 3s 73ms/step - loss: 0.1894 - accuracy: 0.9371\n"
          ]
        },
        {
          "output_type": "execute_result",
          "data": {
            "text/plain": [
              "{'accuracy': 0.9371428489685059, 'loss': 0.18935392796993256}"
            ]
          },
          "metadata": {},
          "execution_count": 22
        }
      ]
    },
    {
      "cell_type": "markdown",
      "metadata": {
        "id": "1g2yK0uG1sKr"
      },
      "source": [
        "## Predict on the different text examples"
      ]
    },
    {
      "cell_type": "code",
      "metadata": {
        "id": "ncmEZIi-_u7d"
      },
      "source": [
        "def predict_proba(text_list, model, tokenizer):\n",
        "  \"\"\"\n",
        "  To get array with predicted probabilities for 0 - instructions, 1- ingredients classes \n",
        "  for each paragraph in the list of strings\n",
        "  :param text_list: list[str]\n",
        "  :param model: transformers.models.distilbert.modeling_tf_distilbert.TFDistilBertForSequenceClassification\n",
        "  :param tokenizer: transformers.models.distilbert.tokenization_distilbert.DistilBertTokenizer\n",
        "  :return res: numpy.ndarray\n",
        "  \"\"\"\n",
        "     \n",
        "  encodings = tokenizer(text_list, max_length=MAX_LEN, truncation=True, padding=True)\n",
        "  dataset = tf.data.Dataset.from_tensor_slices((dict(encodings))) \n",
        "  preds = model.predict(dataset.batch(1)).logits\n",
        "  res = tf.nn.softmax(preds, axis=1).numpy()\n",
        "    \n",
        "  return res"
      ],
      "execution_count": null,
      "outputs": []
    },
    {
      "cell_type": "code",
      "metadata": {
        "id": "P-Iv1_dxZ-vm"
      },
      "source": [
        "predict_msg = [\"User selects a transformation language program file to parse.\",\n",
        "\"The HATS-GUI compares the time stamps on the lexical specification and grammar files to the time\",\n",
        "          \"agentMom shall support the ability to send unicast message.\"]\n"
      ],
      "execution_count": null,
      "outputs": []
    },
    {
      "cell_type": "code",
      "metadata": {
        "colab": {
          "base_uri": "https://localhost:8080/"
        },
        "id": "U7GIWjSIaMEW",
        "outputId": "d8b97c9c-7c27-4799-9357-24c690761551"
      },
      "source": [
        "predict_proba(predict_msg, model_dist, tokenizer)"
      ],
      "execution_count": null,
      "outputs": [
        {
          "output_type": "execute_result",
          "data": {
            "text/plain": [
              "array([[3.3137304e-04, 9.9966860e-01],\n",
              "       [2.9054957e-03, 9.9709451e-01],\n",
              "       [9.9933487e-01, 6.6511350e-04]], dtype=float32)"
            ]
          },
          "metadata": {},
          "execution_count": 25
        }
      ]
    },
    {
      "cell_type": "code",
      "metadata": {
        "id": "EVLYr8Fmacd4"
      },
      "source": [
        "testT=[\"Store assistant checks status of the tape to be returned by customer. \",\"PDF Split and Merge was created prior to this document, so all requirements stated here are already satisfied.\",\"Cashier enters item identifier.\",\n",
        "\"System updates the sale line item.\"]"
      ],
      "execution_count": null,
      "outputs": []
    },
    {
      "cell_type": "code",
      "metadata": {
        "id": "vkYJxFBtauxY"
      },
      "source": [
        "pr=predict_proba(testT, model_dist, tokenizer)"
      ],
      "execution_count": null,
      "outputs": []
    },
    {
      "cell_type": "code",
      "metadata": {
        "colab": {
          "base_uri": "https://localhost:8080/"
        },
        "id": "EjDzGcK4GS6u",
        "outputId": "b9a5a7c3-d944-4afe-a269-3b63413d9578"
      },
      "source": [
        "p=np.argmax(pr,axis=1)\n",
        "print(p)"
      ],
      "execution_count": null,
      "outputs": [
        {
          "output_type": "stream",
          "name": "stdout",
          "text": [
            "[1 0 1 1]\n"
          ]
        }
      ]
    },
    {
      "cell_type": "markdown",
      "source": [
        "# Predicting on SRS document"
      ],
      "metadata": {
        "id": "diBE4kRi--wK"
      }
    },
    {
      "cell_type": "code",
      "metadata": {
        "id": "sy1s_P3LBJzq"
      },
      "source": [
        "#from srs document\n",
        "preds_srs_dist=predict_proba(clean_text,model_dist,tokenizer)\n"
      ],
      "execution_count": null,
      "outputs": []
    },
    {
      "cell_type": "code",
      "metadata": {
        "colab": {
          "base_uri": "https://localhost:8080/"
        },
        "id": "hpuKnlfyFNxW",
        "outputId": "712f6163-f2d3-4b2a-e0e2-3288a85ac345"
      },
      "source": [
        "p_srs_dist=np.argmax(preds_srs_dist,axis=1)\n",
        "print(p_srs_dist)"
      ],
      "execution_count": null,
      "outputs": [
        {
          "output_type": "stream",
          "name": "stdout",
          "text": [
            "[0 0 0 0 0 0 1 0 0 0 0 0 0 1 0 1 1 1 1 0 0 0 0 0 1 1 1 1 1 1 1 1 1 1 1 1 0\n",
            " 0 0 1 0 0 0 0 0 0 0 0 0 1 0 0 0 0 1 0 0 0 0 0 0 0 0 0 0 1 0 0 0 0 0 0 0 0\n",
            " 1 0 1 1 0 0 0 0 1 0 1 1 1 1 1 1 0 0 1 1 1 0 1 0 0 0 1 1 0 1 1 1 1 0 1 1 0\n",
            " 1 1 1 1 0 1 1 1 1 1 1 1 1 1 0 1 1 1 1 1 1 1 1 1 1 0 1 1 1 1 1 1 1 1 0 1 1\n",
            " 1 1 1 1 1 1 0 1 1 1 1 1 0 1 1 1 1 1 0 1 1 1 1 1 1 1 0 1 1 0 1 1 0 1 0 1 1\n",
            " 1 1 1 1 1 0 1 1 1 1 1 1 1 0 1 1 1 1 1 1 1 0 1 1 1 1 1 1 0 0 0 0 0 0 0 0 0\n",
            " 0 0 0 0 0 0 1 0 0 0 0 0 1 1 1 0 0 1 0 1 1 0 1 0 1 1 1 1 1 1 1 1 1 1 1 1 1\n",
            " 1 0 0 1 1 1 1 0 0 1 0 1 0 0 1 1 1 1 0 1 1 1 1 0 1 0 0 0 1 1 1 1 0 1 1 1 1\n",
            " 1 0 0 1 0 0 1 0 1 1 1 0 1 1 1 1 1 1 1 0 0 0 0 0 1 1 1 0 0 1 1 1 1 0 0 0 0\n",
            " 0 0 0 1 1 1 1 1 0 1 1 1 1 1 0 0 1 1 1 1 0 0 1 1 1 1 1 1 0 1 0 0 1 0 1 1 1\n",
            " 1 0 1 1 0 1 0 0 0 0 0 0 0 1 1 0 1 1 1 1 1 1 0 1 1 1 0 0 1 0 0 1 0 1 1 0 1\n",
            " 1 1 0 0 1 0 0 1 1 1 1 0 1 1 1 1 0 0 0 0 0 0 0 0 0 0 0 0 1 0 0 0 0 1 1]\n"
          ]
        }
      ]
    },
    {
      "cell_type": "code",
      "metadata": {
        "colab": {
          "base_uri": "https://localhost:8080/"
        },
        "id": "iQ2UrspSBJO6",
        "outputId": "eb32069e-4500-4a60-dfe7-8b52aa8eb949"
      },
      "source": [
        "parr=p_srs_dist[p_srs_dist>0]\n",
        "print(len(parr),len(clean_text))"
      ],
      "execution_count": null,
      "outputs": [
        {
          "output_type": "stream",
          "name": "stdout",
          "text": [
            "256 442\n"
          ]
        }
      ]
    },
    {
      "cell_type": "code",
      "metadata": {
        "id": "-5tKj7PNDisp"
      },
      "source": [
        "#pre=np.where(preds > 0.5, 1, 0)\n",
        "df_ucs=get_UCS(clean_text,p_srs_dist)\n",
        "print(df_ucs)"
      ],
      "execution_count": null,
      "outputs": []
    },
    {
      "cell_type": "markdown",
      "metadata": {
        "id": "0BGJkm_rbUCw"
      },
      "source": [
        "## ROC_AUC curv"
      ]
    },
    {
      "cell_type": "code",
      "metadata": {
        "id": "dDbNiuDmbXoJ"
      },
      "source": [
        "import numpy as np\n",
        "\n",
        "encodings = tokenizer(X_test.values.tolist(), max_length=MAX_LEN, truncation=True, padding=True)\n",
        "dataset = tf.data.Dataset.from_tensor_slices((dict(encodings))) \n",
        "preds = model_dist.predict(dataset.batch(1)).logits\n"
      ],
      "execution_count": null,
      "outputs": []
    },
    {
      "cell_type": "code",
      "metadata": {
        "id": "khN6DNGUbpc0"
      },
      "source": [
        "from sklearn import metrics\n",
        "targets=y_test\n",
        "dist_fpr1, dist_tpr1, dist_thresh1 = metrics.roc_curve(targets, preds[:,1], pos_label=1)\n",
        "#fpr2, tpr2, thresh2 = roc_curve(y_test, pred_prob2[:,1], pos_label=1)\n",
        "\n",
        "# roc curve for tpr = fpr \n",
        "random_probs = [0 for i in range(len(targets))]\n",
        "p_fpr, p_tpr, _ = metrics.roc_curve(targets, random_probs, pos_label=1)\n",
        "auc_score1_dist = metrics.roc_auc_score(targets, preds[:,1])"
      ],
      "execution_count": null,
      "outputs": []
    },
    {
      "cell_type": "code",
      "metadata": {
        "colab": {
          "base_uri": "https://localhost:8080/"
        },
        "id": "aB4OQiQleYqz",
        "outputId": "489e89fc-2457-489f-c48e-1c287b69fe69"
      },
      "source": [
        "print(auc_score1_dist)"
      ],
      "execution_count": null,
      "outputs": [
        {
          "output_type": "stream",
          "name": "stdout",
          "text": [
            "0.9893551020408163\n"
          ]
        }
      ]
    },
    {
      "cell_type": "code",
      "metadata": {
        "colab": {
          "base_uri": "https://localhost:8080/"
        },
        "id": "pt2j-wBnHzbY",
        "outputId": "bd0ea3ab-9fe7-41b5-e897-d78c58013999"
      },
      "source": [
        "from sklearn.metrics import classification_report\n",
        "p=np.argmax(preds,axis=1)\n",
        "print(classification_report(targets, p))"
      ],
      "execution_count": null,
      "outputs": [
        {
          "output_type": "stream",
          "name": "stdout",
          "text": [
            "              precision    recall  f1-score   support\n",
            "\n",
            "           0       0.97      0.90      0.93       175\n",
            "           1       0.91      0.97      0.94       175\n",
            "\n",
            "    accuracy                           0.94       350\n",
            "   macro avg       0.94      0.94      0.94       350\n",
            "weighted avg       0.94      0.94      0.94       350\n",
            "\n"
          ]
        }
      ]
    },
    {
      "cell_type": "code",
      "metadata": {
        "colab": {
          "base_uri": "https://localhost:8080/",
          "height": 376
        },
        "id": "V6FH6ddWbzL-",
        "outputId": "a7a54a3b-6470-4a64-aa10-16dd451e9c97"
      },
      "source": [
        "# matplotlib\n",
        "import matplotlib.pyplot as plt\n",
        "plt.style.use('seaborn')\n",
        "\n",
        "# plot roc curves\n",
        "plt.plot(dist_fpr1, dist_tpr1, linestyle='--',color='orange', label='DistBERT')\n",
        "#plt.plot(fpr2, tpr2, linestyle='--',color='green', label='KNN')\n",
        "plt.plot(p_fpr, p_tpr, linestyle='--', color='blue')\n",
        "# title\n",
        "plt.title('ROC curve')\n",
        "# x label\n",
        "plt.xlabel('False Positive Rate')\n",
        "# y label\n",
        "plt.ylabel('True Positive rate')\n",
        "\n",
        "plt.legend(loc='best')\n",
        "plt.savefig('ROC',dpi=300)\n",
        "plt.show();"
      ],
      "execution_count": null,
      "outputs": [
        {
          "output_type": "display_data",
          "data": {
            "image/png": "[encoded data removed]",
            "text/plain": [
              "<Figure size 576x396 with 1 Axes>"
            ]
          },
          "metadata": {}
        }
      ]
    },
    {
      "cell_type": "code",
      "metadata": {
        "id": "unZ_twfo9-tU"
      },
      "source": [
        "# confusion matrix\n",
        "cm=pd.crosstab(targets, p)"
      ],
      "execution_count": null,
      "outputs": []
    },
    {
      "cell_type": "code",
      "metadata": {
        "colab": {
          "base_uri": "https://localhost:8080/",
          "height": 361
        },
        "id": "rXl_ggWQ9-tV",
        "outputId": "3506d831-074e-4367-9a68-296cc4162e41"
      },
      "source": [
        "from matplotlib import pyplot as plt\n",
        "import seaborn as sn\n",
        "sn.heatmap(cm, annot=True, fmt='d')\n",
        "plt.xlabel('Predicted')\n",
        "plt.ylabel('Truth')\n",
        "plt.savefig('confusion.png')"
      ],
      "execution_count": null,
      "outputs": [
        {
          "output_type": "display_data",
          "data": {
            "image/png": "[encoded data removed]",
            "text/plain": [
              "<Figure size 576x396 with 2 Axes>"
            ]
          },
          "metadata": {}
        }
      ]
    },
    {
      "cell_type": "markdown",
      "metadata": {
        "id": "ndVsUcn6wEMK"
      },
      "source": [
        "## BERT Base Model\n",
        "--https://www.analyticsvidhya.com/blog/2020/07/transfer-learning-for-nlp-fine-tuning-bert-for-text-classification/"
      ]
    },
    {
      "cell_type": "code",
      "metadata": {
        "id": "oFG78wkfwCng"
      },
      "source": [
        "import torch\n",
        "import torch.nn as nn\n",
        "from sklearn.model_selection import train_test_split\n",
        "from sklearn.metrics import classification_report\n",
        "import transformers\n",
        "from transformers import AutoModel, BertTokenizerFast\n",
        "\n",
        "# specify GPU\n",
        "device = torch.device(\"cuda\")"
      ],
      "execution_count": null,
      "outputs": []
    },
    {
      "cell_type": "markdown",
      "metadata": {
        "id": "MKfWnApvOoE7"
      },
      "source": [
        "# Split train dataset into train, validation and test sets"
      ]
    },
    {
      "cell_type": "code",
      "metadata": {
        "id": "mfhSPF5jOWb7"
      },
      "source": [
        "train_text, temp_text, train_labels, temp_labels = train_test_split(df_balanced['text'], df_balanced['label'], \n",
        "                                                                    random_state=2018, \n",
        "                                                                    test_size=0.3, \n",
        "                                                                    stratify=df_balanced['label'])\n",
        "\n",
        "# we will use temp_text and temp_labels to create validation and test set\n",
        "val_text, test_text, val_labels, test_labels = train_test_split(temp_text, temp_labels, \n",
        "                                                                random_state=2018, \n",
        "                                                                test_size=0.5, \n",
        "                                                                stratify=temp_labels)"
      ],
      "execution_count": null,
      "outputs": []
    },
    {
      "cell_type": "markdown",
      "metadata": {
        "id": "n7hsdLoCO7uB"
      },
      "source": [
        "# Import BERT Model and BERT Tokenizer"
      ]
    },
    {
      "cell_type": "code",
      "metadata": {
        "id": "S1kY3gZjO2RE",
        "colab": {
          "base_uri": "https://localhost:8080/"
        },
        "outputId": "3dfba8d0-7ff7-4b80-c281-40d324c2d1cc"
      },
      "source": [
        "# import BERT-base pretrained model\n",
        "bert = AutoModel.from_pretrained('bert-base-uncased')\n",
        "\n",
        "# Load the BERT tokenizer\n",
        "tokenizer = BertTokenizerFast.from_pretrained('bert-base-uncased')"
      ],
      "execution_count": null,
      "outputs": [
        {
          "output_type": "stream",
          "name": "stderr",
          "text": [
            "Some weights of the model checkpoint at bert-base-uncased were not used when initializing BertModel: ['cls.seq_relationship.bias', 'cls.predictions.decoder.weight', 'cls.predictions.bias', 'cls.seq_relationship.weight', 'cls.predictions.transform.dense.weight', 'cls.predictions.transform.LayerNorm.bias', 'cls.predictions.transform.LayerNorm.weight', 'cls.predictions.transform.dense.bias']\n",
            "- This IS expected if you are initializing BertModel from the checkpoint of a model trained on another task or with another architecture (e.g. initializing a BertForSequenceClassification model from a BertForPreTraining model).\n",
            "- This IS NOT expected if you are initializing BertModel from the checkpoint of a model that you expect to be exactly identical (initializing a BertForSequenceClassification model from a BertForSequenceClassification model).\n"
          ]
        }
      ]
    },
    {
      "cell_type": "markdown",
      "metadata": {
        "id": "8wIYaWI_Prg8"
      },
      "source": [
        "# Tokenization"
      ]
    },
    {
      "cell_type": "code",
      "metadata": {
        "id": "yKwbpeN_PMiu",
        "colab": {
          "base_uri": "https://localhost:8080/",
          "height": 365
        },
        "outputId": "03857e66-9f81-47f3-a040-a45f5fa8b9b1"
      },
      "source": [
        "# get length of all the messages in the train set\n",
        "seq_len = [len(i.split()) for i in train_text]\n",
        "\n",
        "pd.Series(seq_len).hist(bins = 30)"
      ],
      "execution_count": null,
      "outputs": [
        {
          "output_type": "execute_result",
          "data": {
            "text/plain": [
              "<matplotlib.axes._subplots.AxesSubplot at 0x7fcd6b739890>"
            ]
          },
          "metadata": {},
          "execution_count": 102
        },
        {
          "output_type": "display_data",
          "data": {
            "image/png": "[encoded data removed]",
            "text/plain": [
              "<Figure size 576x396 with 1 Axes>"
            ]
          },
          "metadata": {}
        }
      ]
    },
    {
      "cell_type": "code",
      "metadata": {
        "id": "OXcswEIRPvGe",
        "colab": {
          "base_uri": "https://localhost:8080/"
        },
        "outputId": "74657f8e-1523-411a-8088-e6b3b44a2cc6"
      },
      "source": [
        "print(max(seq_len))\n",
        "max_seq_len = max(seq_len)"
      ],
      "execution_count": null,
      "outputs": [
        {
          "output_type": "stream",
          "name": "stdout",
          "text": [
            "63\n"
          ]
        }
      ]
    },
    {
      "cell_type": "code",
      "metadata": {
        "id": "tk5S7DWaP2t6",
        "colab": {
          "base_uri": "https://localhost:8080/"
        },
        "outputId": "4749c324-aa7e-4360-84fe-d70f27c1db35"
      },
      "source": [
        "# tokenize and encode sequences in the training set\n",
        "tokens_train = tokenizer.batch_encode_plus(\n",
        "    train_text.tolist(),\n",
        "    max_length = max_seq_len,\n",
        "    pad_to_max_length=True,\n",
        "    truncation=True,\n",
        "    return_token_type_ids=False\n",
        ")\n",
        "\n",
        "# tokenize and encode sequences in the validation set\n",
        "tokens_val = tokenizer.batch_encode_plus(\n",
        "    val_text.tolist(),\n",
        "    max_length = max_seq_len,\n",
        "    pad_to_max_length=True,\n",
        "    truncation=True,\n",
        "    return_token_type_ids=False\n",
        ")\n",
        "\n",
        "# tokenize and encode sequences in the test set\n",
        "tokens_test = tokenizer.batch_encode_plus(\n",
        "    test_text.tolist(),\n",
        "    max_length = max_seq_len,\n",
        "    pad_to_max_length=True,\n",
        "    truncation=True,\n",
        "    return_token_type_ids=False\n",
        ")"
      ],
      "execution_count": null,
      "outputs": [
        {
          "output_type": "stream",
          "name": "stderr",
          "text": [
            "/usr/local/lib/python3.7/dist-packages/transformers/tokenization_utils_base.py:2232: FutureWarning: The `pad_to_max_length` argument is deprecated and will be removed in a future version, use `padding=True` or `padding='longest'` to pad to the longest sequence in the batch, or use `padding='max_length'` to pad to a max length. In this case, you can give a specific length with `max_length` (e.g. `max_length=45`) or leave max_length to None to pad to the maximal input size of the model (e.g. 512 for Bert).\n",
            "  FutureWarning,\n"
          ]
        }
      ]
    },
    {
      "cell_type": "markdown",
      "metadata": {
        "id": "Wsm8bkRZQTw9"
      },
      "source": [
        "# Convert Integer Sequences to Tensors"
      ]
    },
    {
      "cell_type": "code",
      "metadata": {
        "id": "QR-lXwmzQPd6"
      },
      "source": [
        "# for train set\n",
        "train_seq = torch.tensor(tokens_train['input_ids'])\n",
        "train_mask = torch.tensor(tokens_train['attention_mask'])\n",
        "train_y = torch.tensor(train_labels.tolist())\n",
        "\n",
        "# for validation set\n",
        "val_seq = torch.tensor(tokens_val['input_ids'])\n",
        "val_mask = torch.tensor(tokens_val['attention_mask'])\n",
        "val_y = torch.tensor(val_labels.tolist())\n",
        "\n",
        "# for test set\n",
        "test_seq = torch.tensor(tokens_test['input_ids'])\n",
        "test_mask = torch.tensor(tokens_test['attention_mask'])\n",
        "test_y = torch.tensor(test_labels.tolist())"
      ],
      "execution_count": null,
      "outputs": []
    },
    {
      "cell_type": "code",
      "metadata": {
        "id": "qUy9JKFYQYLp"
      },
      "source": [
        "from torch.utils.data import TensorDataset, DataLoader, RandomSampler, SequentialSampler\n",
        "\n",
        "#define a batch size\n",
        "batch_size = 32\n",
        "\n",
        "# wrap tensors\n",
        "train_data = TensorDataset(train_seq, train_mask, train_y)\n",
        "\n",
        "# sampler for sampling the data during training\n",
        "train_sampler = RandomSampler(train_data)\n",
        "\n",
        "# dataLoader for train set\n",
        "train_dataloader = DataLoader(train_data, sampler=train_sampler, batch_size=batch_size)\n",
        "\n",
        "# wrap tensors\n",
        "val_data = TensorDataset(val_seq, val_mask, val_y)\n",
        "\n",
        "# sampler for sampling the data during training\n",
        "val_sampler = SequentialSampler(val_data)\n",
        "\n",
        "# dataLoader for validation set\n",
        "val_dataloader = DataLoader(val_data, sampler = val_sampler, batch_size=batch_size)"
      ],
      "execution_count": null,
      "outputs": []
    },
    {
      "cell_type": "markdown",
      "metadata": {
        "id": "K2HZc5ZYRV28"
      },
      "source": [
        "# Freeze BERT Parameters"
      ]
    },
    {
      "cell_type": "code",
      "metadata": {
        "id": "wHZ0MC00RQA_"
      },
      "source": [
        "# freeze all the parameters\n",
        "for param in bert.parameters():\n",
        "    param.requires_grad = False"
      ],
      "execution_count": null,
      "outputs": []
    },
    {
      "cell_type": "markdown",
      "metadata": {
        "id": "s7ahGBUWRi3X"
      },
      "source": [
        "# Define Model Architecture"
      ]
    },
    {
      "cell_type": "code",
      "metadata": {
        "id": "b3iEtGyYRd0A"
      },
      "source": [
        "class BERT_Arch(nn.Module):\n",
        "\n",
        "    def __init__(self, bert):\n",
        "      \n",
        "      super(BERT_Arch, self).__init__()\n",
        "\n",
        "      self.bert = bert \n",
        "      \n",
        "      # dropout layer\n",
        "      self.dropout = nn.Dropout(0.1)\n",
        "      \n",
        "      # relu activation function\n",
        "      self.relu =  nn.ReLU()\n",
        "\n",
        "      # dense layer 1\n",
        "      self.fc1 = nn.Linear(768,512)\n",
        "      \n",
        "      # dense layer 2 (Output layer)\n",
        "      self.fc2 = nn.Linear(512,2)\n",
        "\n",
        "      #softmax activation function\n",
        "      self.softmax = nn.LogSoftmax(dim=1)\n",
        "\n",
        "    #define the forward pass\n",
        "    def forward(self, sent_id, mask):\n",
        "\n",
        "      #pass the inputs to the model  \n",
        "      _, cls_hs = self.bert(sent_id, attention_mask=mask,return_dict=False)\n",
        "      \n",
        "      x = self.fc1(cls_hs)\n",
        "\n",
        "      x = self.relu(x)\n",
        "\n",
        "      x = self.dropout(x)\n",
        "\n",
        "      # output layer\n",
        "      x = self.fc2(x)\n",
        "      \n",
        "      # apply softmax activation\n",
        "      x = self.softmax(x)\n",
        "\n",
        "      return x"
      ],
      "execution_count": null,
      "outputs": []
    },
    {
      "cell_type": "code",
      "metadata": {
        "id": "cBAJJVuJRliv"
      },
      "source": [
        "# pass the pre-trained BERT to our define architecture\n",
        "model = BERT_Arch(bert)\n",
        "\n",
        "# push the model to GPU\n",
        "model = model.to(device)\n"
      ],
      "execution_count": null,
      "outputs": []
    },
    {
      "cell_type": "code",
      "metadata": {
        "id": "taXS0IilRn9J"
      },
      "source": [
        "# optimizer from hugging face transformers\n",
        "from transformers import AdamW\n",
        "\n",
        "# define the optimizer\n",
        "optimizer = AdamW(model.parameters(), lr = 1e-3)"
      ],
      "execution_count": null,
      "outputs": []
    },
    {
      "cell_type": "code",
      "metadata": {
        "id": "caO2vLCffouf"
      },
      "source": [
        "# loss function (no class weight is provided as the data is balanced)\n",
        "cross_entropy  = nn.NLLLoss() \n",
        "\n",
        "# number of training epochs\n",
        "epochs = 50"
      ],
      "execution_count": null,
      "outputs": []
    },
    {
      "cell_type": "markdown",
      "metadata": {
        "id": "My4CA0qaShLq"
      },
      "source": [
        "# Fine-Tune BERT"
      ]
    },
    {
      "cell_type": "code",
      "metadata": {
        "id": "rskLk8R_SahS"
      },
      "source": [
        "# function to train the model\n",
        "def train():\n",
        "  \n",
        "  model.train()\n",
        "\n",
        "  total_loss, total_accuracy = 0, 0\n",
        "  \n",
        "  # empty list to save model predictions\n",
        "  total_preds=[]\n",
        "  \n",
        "  # iterate over batches\n",
        "  for step,batch in enumerate(train_dataloader):\n",
        "    \n",
        "    # progress update after every 50 batches.\n",
        "    if step % 50 == 0 and not step == 0:\n",
        "      print('  Batch {:>5,}  of  {:>5,}.'.format(step, len(train_dataloader)))\n",
        "\n",
        "    # push the batch to gpu\n",
        "    batch = [r.to(device) for r in batch]\n",
        " \n",
        "    sent_id, mask, labels = batch\n",
        "\n",
        "    # clear previously calculated gradients \n",
        "    model.zero_grad()        \n",
        "\n",
        "    # get model predictions for the current batch\n",
        "    preds = model(sent_id, mask)\n",
        "\n",
        "    # compute the loss between actual and predicted values\n",
        "    loss = cross_entropy(preds, labels)\n",
        "\n",
        "    # add on to the total loss\n",
        "    total_loss = total_loss + loss.item()\n",
        "\n",
        "    # backward pass to calculate the gradients\n",
        "    loss.backward()\n",
        "\n",
        "    # clip the the gradients to 1.0. It helps in preventing the exploding gradient problem\n",
        "    torch.nn.utils.clip_grad_norm_(model.parameters(), 1.0)\n",
        "\n",
        "    # update parameters\n",
        "    optimizer.step()\n",
        "\n",
        "    # model predictions are stored on GPU. So, push it to CPU\n",
        "    preds=preds.detach().cpu().numpy()\n",
        "\n",
        "    # append the model predictions\n",
        "    total_preds.append(preds)\n",
        "\n",
        "  # compute the training loss of the epoch\n",
        "  avg_loss = total_loss / len(train_dataloader)\n",
        "  \n",
        "  # predictions are in the form of (no. of batches, size of batch, no. of classes).\n",
        "  # reshape the predictions in form of (number of samples, no. of classes)\n",
        "  total_preds  = np.concatenate(total_preds, axis=0)\n",
        "\n",
        "  #returns the loss and predictions\n",
        "  return avg_loss, total_preds"
      ],
      "execution_count": null,
      "outputs": []
    },
    {
      "cell_type": "code",
      "metadata": {
        "id": "yGXovFDlSxB5"
      },
      "source": [
        "# function for evaluating the model\n",
        "def evaluate():\n",
        "  \n",
        "  print(\"\\nEvaluating...\")\n",
        "  \n",
        "  # deactivate dropout layers\n",
        "  model.eval()\n",
        "\n",
        "  total_loss, total_accuracy = 0, 0\n",
        "  \n",
        "  # empty list to save the model predictions\n",
        "  total_preds = []\n",
        "\n",
        "  # iterate over batches\n",
        "  for step,batch in enumerate(val_dataloader):\n",
        "    \n",
        "    # Progress update every 50 batches.\n",
        "    if step % 50 == 0 and not step == 0:\n",
        "      \n",
        "      # Calculate elapsed time in minutes.\n",
        "      elapsed = format_time(time.time() - t0)\n",
        "            \n",
        "      # Report progress.\n",
        "      print('  Batch {:>5,}  of  {:>5,}.'.format(step, len(val_dataloader)))\n",
        "\n",
        "    # push the batch to gpu\n",
        "    batch = [t.to(device) for t in batch]\n",
        "\n",
        "    sent_id, mask, labels = batch\n",
        "\n",
        "    # deactivate autograd\n",
        "    with torch.no_grad():\n",
        "      \n",
        "      # model predictions\n",
        "      preds = model(sent_id, mask)\n",
        "\n",
        "      # compute the validation loss between actual and predicted values\n",
        "      loss = cross_entropy(preds,labels)\n",
        "\n",
        "      total_loss = total_loss + loss.item()\n",
        "\n",
        "      preds = preds.detach().cpu().numpy()\n",
        "\n",
        "      total_preds.append(preds)\n",
        "\n",
        "  # compute the validation loss of the epoch\n",
        "  avg_loss = total_loss / len(val_dataloader) \n",
        "\n",
        "  # reshape the predictions in form of (number of samples, no. of classes)\n",
        "  total_preds  = np.concatenate(total_preds, axis=0)\n",
        "\n",
        "  return avg_loss, total_preds"
      ],
      "execution_count": null,
      "outputs": []
    },
    {
      "cell_type": "markdown",
      "metadata": {
        "id": "9KZEgxRRTLXG"
      },
      "source": [
        "# Start Model Training"
      ]
    },
    {
      "cell_type": "code",
      "metadata": {
        "id": "k1USGTntS3TS",
        "colab": {
          "base_uri": "https://localhost:8080/"
        },
        "outputId": "fa8b14d0-924e-47e4-d8b8-a3fa518ef6ef"
      },
      "source": [
        "# set initial loss to infinite\n",
        "best_valid_loss = float('inf')\n",
        "\n",
        "# empty lists to store training and validation loss of each epoch\n",
        "train_losses=[]\n",
        "valid_losses=[]\n",
        "\n",
        "start=time.time()\n",
        "#for each epoch\n",
        "for epoch in range(epochs):\n",
        "     \n",
        "    print('\\n Epoch {:} / {:}'.format(epoch + 1, epochs))\n",
        "    \n",
        "    #train model\n",
        "    train_loss, _ = train()\n",
        "    \n",
        "    #evaluate model\n",
        "    valid_loss, _ = evaluate()\n",
        "    \n",
        "    #save the best model\n",
        "    if valid_loss < best_valid_loss:\n",
        "        best_valid_loss = valid_loss\n",
        "        torch.save(model.state_dict(), 'saved_weights.pt')\n",
        "    \n",
        "    # append training and validation loss\n",
        "    train_losses.append(train_loss)\n",
        "    valid_losses.append(valid_loss)\n",
        "    \n",
        "    print(f'\\nTraining Loss: {train_loss:.3f}')\n",
        "    print(f'Validation Loss: {valid_loss:.3f}')\n",
        "end= time.time()\n",
        "print(\"Total time for BERT-base:\"+str(end-start))"
      ],
      "execution_count": null,
      "outputs": [
        {
          "output_type": "stream",
          "name": "stdout",
          "text": [
            "\n",
            " Epoch 1 / 50\n",
            "\n",
            "Evaluating...\n",
            "\n",
            "Training Loss: 0.276\n",
            "Validation Loss: 0.246\n",
            "\n",
            " Epoch 2 / 50\n",
            "\n",
            "Evaluating...\n",
            "\n",
            "Training Loss: 0.281\n",
            "Validation Loss: 0.325\n",
            "\n",
            " Epoch 3 / 50\n",
            "\n",
            "Evaluating...\n",
            "\n",
            "Training Loss: 0.253\n",
            "Validation Loss: 0.288\n",
            "\n",
            " Epoch 4 / 50\n",
            "\n",
            "Evaluating...\n",
            "\n",
            "Training Loss: 0.288\n",
            "Validation Loss: 0.394\n",
            "\n",
            " Epoch 5 / 50\n",
            "\n",
            "Evaluating...\n",
            "\n",
            "Training Loss: 0.285\n",
            "Validation Loss: 0.360\n",
            "\n",
            " Epoch 6 / 50\n",
            "\n",
            "Evaluating...\n",
            "\n",
            "Training Loss: 0.282\n",
            "Validation Loss: 0.241\n",
            "\n",
            " Epoch 7 / 50\n",
            "\n",
            "Evaluating...\n",
            "\n",
            "Training Loss: 0.285\n",
            "Validation Loss: 0.245\n",
            "\n",
            " Epoch 8 / 50\n",
            "\n",
            "Evaluating...\n",
            "\n",
            "Training Loss: 0.287\n",
            "Validation Loss: 0.234\n",
            "\n",
            " Epoch 9 / 50\n",
            "\n",
            "Evaluating...\n",
            "\n",
            "Training Loss: 0.239\n",
            "Validation Loss: 0.398\n",
            "\n",
            " Epoch 10 / 50\n",
            "\n",
            "Evaluating...\n",
            "\n",
            "Training Loss: 0.314\n",
            "Validation Loss: 0.573\n",
            "\n",
            " Epoch 11 / 50\n",
            "\n",
            "Evaluating...\n",
            "\n",
            "Training Loss: 0.248\n",
            "Validation Loss: 0.244\n",
            "\n",
            " Epoch 12 / 50\n",
            "\n",
            "Evaluating...\n",
            "\n",
            "Training Loss: 0.312\n",
            "Validation Loss: 0.244\n",
            "\n",
            " Epoch 13 / 50\n",
            "\n",
            "Evaluating...\n",
            "\n",
            "Training Loss: 0.273\n",
            "Validation Loss: 0.254\n",
            "\n",
            " Epoch 14 / 50\n",
            "\n",
            "Evaluating...\n",
            "\n",
            "Training Loss: 0.305\n",
            "Validation Loss: 0.902\n",
            "\n",
            " Epoch 15 / 50\n",
            "\n",
            "Evaluating...\n",
            "\n",
            "Training Loss: 0.295\n",
            "Validation Loss: 0.229\n",
            "\n",
            " Epoch 16 / 50\n",
            "\n",
            "Evaluating...\n",
            "\n",
            "Training Loss: 0.221\n",
            "Validation Loss: 0.231\n",
            "\n",
            " Epoch 17 / 50\n",
            "\n",
            "Evaluating...\n",
            "\n",
            "Training Loss: 0.258\n",
            "Validation Loss: 0.257\n",
            "\n",
            " Epoch 18 / 50\n",
            "\n",
            "Evaluating...\n",
            "\n",
            "Training Loss: 0.245\n",
            "Validation Loss: 0.274\n",
            "\n",
            " Epoch 19 / 50\n",
            "\n",
            "Evaluating...\n",
            "\n",
            "Training Loss: 0.286\n",
            "Validation Loss: 0.289\n",
            "\n",
            " Epoch 20 / 50\n",
            "\n",
            "Evaluating...\n",
            "\n",
            "Training Loss: 0.236\n",
            "Validation Loss: 0.336\n",
            "\n",
            " Epoch 21 / 50\n",
            "\n",
            "Evaluating...\n",
            "\n",
            "Training Loss: 0.268\n",
            "Validation Loss: 0.255\n",
            "\n",
            " Epoch 22 / 50\n",
            "\n",
            "Evaluating...\n",
            "\n",
            "Training Loss: 0.223\n",
            "Validation Loss: 0.317\n",
            "\n",
            " Epoch 23 / 50\n",
            "\n",
            "Evaluating...\n",
            "\n",
            "Training Loss: 0.265\n",
            "Validation Loss: 0.440\n",
            "\n",
            " Epoch 24 / 50\n",
            "\n",
            "Evaluating...\n",
            "\n",
            "Training Loss: 0.278\n",
            "Validation Loss: 0.232\n",
            "\n",
            " Epoch 25 / 50\n",
            "\n",
            "Evaluating...\n",
            "\n",
            "Training Loss: 0.224\n",
            "Validation Loss: 0.229\n",
            "\n",
            " Epoch 26 / 50\n",
            "\n",
            "Evaluating...\n",
            "\n",
            "Training Loss: 0.241\n",
            "Validation Loss: 0.277\n",
            "\n",
            " Epoch 27 / 50\n",
            "\n",
            "Evaluating...\n",
            "\n",
            "Training Loss: 0.226\n",
            "Validation Loss: 0.265\n",
            "\n",
            " Epoch 28 / 50\n",
            "\n",
            "Evaluating...\n",
            "\n",
            "Training Loss: 0.279\n",
            "Validation Loss: 0.232\n",
            "\n",
            " Epoch 29 / 50\n",
            "\n",
            "Evaluating...\n",
            "\n",
            "Training Loss: 0.264\n",
            "Validation Loss: 0.370\n",
            "\n",
            " Epoch 30 / 50\n",
            "\n",
            "Evaluating...\n",
            "\n",
            "Training Loss: 0.281\n",
            "Validation Loss: 0.318\n",
            "\n",
            " Epoch 31 / 50\n",
            "\n",
            "Evaluating...\n",
            "\n",
            "Training Loss: 0.240\n",
            "Validation Loss: 0.219\n",
            "\n",
            " Epoch 32 / 50\n",
            "\n",
            "Evaluating...\n",
            "\n",
            "Training Loss: 0.267\n",
            "Validation Loss: 0.232\n",
            "\n",
            " Epoch 33 / 50\n",
            "\n",
            "Evaluating...\n",
            "\n",
            "Training Loss: 0.227\n",
            "Validation Loss: 0.283\n",
            "\n",
            " Epoch 34 / 50\n",
            "\n",
            "Evaluating...\n",
            "\n",
            "Training Loss: 0.244\n",
            "Validation Loss: 0.239\n",
            "\n",
            " Epoch 35 / 50\n",
            "\n",
            "Evaluating...\n",
            "\n",
            "Training Loss: 0.297\n",
            "Validation Loss: 0.237\n",
            "\n",
            " Epoch 36 / 50\n",
            "\n",
            "Evaluating...\n",
            "\n",
            "Training Loss: 0.353\n",
            "Validation Loss: 0.221\n",
            "\n",
            " Epoch 37 / 50\n",
            "\n",
            "Evaluating...\n",
            "\n",
            "Training Loss: 0.222\n",
            "Validation Loss: 0.242\n",
            "\n",
            " Epoch 38 / 50\n",
            "\n",
            "Evaluating...\n",
            "\n",
            "Training Loss: 0.225\n",
            "Validation Loss: 0.229\n",
            "\n",
            " Epoch 39 / 50\n",
            "\n",
            "Evaluating...\n",
            "\n",
            "Training Loss: 0.239\n",
            "Validation Loss: 0.225\n",
            "\n",
            " Epoch 40 / 50\n",
            "\n",
            "Evaluating...\n",
            "\n",
            "Training Loss: 0.276\n",
            "Validation Loss: 0.218\n",
            "\n",
            " Epoch 41 / 50\n",
            "\n",
            "Evaluating...\n",
            "\n",
            "Training Loss: 0.234\n",
            "Validation Loss: 0.226\n",
            "\n",
            " Epoch 42 / 50\n",
            "\n",
            "Evaluating...\n",
            "\n",
            "Training Loss: 0.234\n",
            "Validation Loss: 0.227\n",
            "\n",
            " Epoch 43 / 50\n",
            "\n",
            "Evaluating...\n",
            "\n",
            "Training Loss: 0.235\n",
            "Validation Loss: 0.217\n",
            "\n",
            " Epoch 44 / 50\n",
            "\n",
            "Evaluating...\n",
            "\n",
            "Training Loss: 0.227\n",
            "Validation Loss: 0.231\n",
            "\n",
            " Epoch 45 / 50\n",
            "\n",
            "Evaluating...\n",
            "\n",
            "Training Loss: 0.255\n",
            "Validation Loss: 0.256\n",
            "\n",
            " Epoch 46 / 50\n",
            "\n",
            "Evaluating...\n",
            "\n",
            "Training Loss: 0.263\n",
            "Validation Loss: 0.286\n",
            "\n",
            " Epoch 47 / 50\n",
            "\n",
            "Evaluating...\n",
            "\n",
            "Training Loss: 0.245\n",
            "Validation Loss: 0.314\n",
            "\n",
            " Epoch 48 / 50\n",
            "\n",
            "Evaluating...\n",
            "\n",
            "Training Loss: 0.229\n",
            "Validation Loss: 0.318\n",
            "\n",
            " Epoch 49 / 50\n",
            "\n",
            "Evaluating...\n",
            "\n",
            "Training Loss: 0.251\n",
            "Validation Loss: 0.296\n",
            "\n",
            " Epoch 50 / 50\n",
            "\n",
            "Evaluating...\n",
            "\n",
            "Training Loss: 0.224\n",
            "Validation Loss: 0.272\n",
            "Total time for BERT-base:391.5050983428955\n"
          ]
        }
      ]
    },
    {
      "cell_type": "code",
      "metadata": {
        "colab": {
          "base_uri": "https://localhost:8080/",
          "height": 376
        },
        "id": "_5uO61j6Uiqy",
        "outputId": "3ea8c2d9-4c96-4772-fb76-e559fc37815f"
      },
      "source": [
        "import matplotlib.pyplot as plt\n",
        "# summarize history for accuracy\n",
        "plt.plot(train_losses)\n",
        "plt.plot(valid_losses)\n",
        "plt.title('BERT base model: Training and Validation loss')\n",
        "plt.ylabel('loss')\n",
        "plt.xlabel('epoch')\n",
        "plt.legend(['train_loss', 'validation_loss'], loc='upper right')\n",
        "plt.show()\n"
      ],
      "execution_count": null,
      "outputs": [
        {
          "output_type": "display_data",
          "data": {
            "image/png": "[encoded data removed]",
            "text/plain": [
              "<Figure size 576x396 with 1 Axes>"
            ]
          },
          "metadata": {}
        }
      ]
    },
    {
      "cell_type": "code",
      "source": [
        "plt.savefig(path+\"/data1/Bertbase_loss.png\")"
      ],
      "metadata": {
        "colab": {
          "base_uri": "https://localhost:8080/",
          "height": 35
        },
        "id": "n2OocyTnPqWf",
        "outputId": "d33815fc-6287-4866-a23b-b7cedc3ad085"
      },
      "execution_count": null,
      "outputs": [
        {
          "output_type": "display_data",
          "data": {
            "text/plain": [
              "<Figure size 576x396 with 0 Axes>"
            ]
          },
          "metadata": {}
        }
      ]
    },
    {
      "cell_type": "markdown",
      "source": [
        ""
      ],
      "metadata": {
        "id": "v_YyuySqNqgL"
      }
    },
    {
      "cell_type": "markdown",
      "metadata": {
        "id": "_yrhUc9kTI5a"
      },
      "source": [
        "# Load Saved Model"
      ]
    },
    {
      "cell_type": "code",
      "metadata": {
        "id": "OacxUyizS8d1",
        "colab": {
          "base_uri": "https://localhost:8080/"
        },
        "outputId": "8270af30-f61c-42f2-84fb-80cfa86bce49"
      },
      "source": [
        "#load weights of best model\n",
        "model_path = 'saved_weights.pt'\n",
        "model.load_state_dict(torch.load(model_path))"
      ],
      "execution_count": null,
      "outputs": [
        {
          "output_type": "execute_result",
          "data": {
            "text/plain": [
              "<All keys matched successfully>"
            ]
          },
          "metadata": {},
          "execution_count": 115
        }
      ]
    },
    {
      "cell_type": "markdown",
      "metadata": {
        "id": "x4SVftkkTZXA"
      },
      "source": [
        "# Get Predictions for Test Data"
      ]
    },
    {
      "cell_type": "code",
      "metadata": {
        "id": "NZl0SZmFTRQA"
      },
      "source": [
        "# get predictions for test data\n",
        "with torch.no_grad():\n",
        "  preds = model(test_seq.to(device), test_mask.to(device))\n",
        "  preds = preds.detach().cpu().numpy()"
      ],
      "execution_count": null,
      "outputs": []
    },
    {
      "cell_type": "code",
      "metadata": {
        "id": "3jajzDRazY0-"
      },
      "source": [
        "print(preds)"
      ],
      "execution_count": null,
      "outputs": []
    },
    {
      "cell_type": "code",
      "metadata": {
        "id": "ePqcyykh02aW",
        "colab": {
          "base_uri": "https://localhost:8080/"
        },
        "outputId": "4b8a59ef-4182-4bbc-e961-3eb17bbfe89a"
      },
      "source": [
        "import numpy as np\n",
        "y_predicted=np.argmax(preds,axis=1)\n",
        "#y_predicted = np.where(y_predicted > 0.5, 1, 0)\n",
        "y_predicted"
      ],
      "execution_count": null,
      "outputs": [
        {
          "output_type": "execute_result",
          "data": {
            "text/plain": [
              "array([1, 0, 0, 0, ..., 1, 0, 1, 1])"
            ]
          },
          "metadata": {},
          "execution_count": 118
        }
      ]
    },
    {
      "cell_type": "markdown",
      "metadata": {
        "id": "kg43li0Qy1-9"
      },
      "source": [
        "#AUC Curve"
      ]
    },
    {
      "cell_type": "code",
      "metadata": {
        "colab": {
          "base_uri": "https://localhost:8080/"
        },
        "id": "3HQLWIRxmzgj",
        "outputId": "7758ba4d-3cc9-41d4-d0b0-4a1978cc84bd"
      },
      "source": [
        "from sklearn import metrics\n",
        "# roc curve for models\n",
        "targets=test_y\n",
        "base_fpr1, base_tpr1, base_thresh1 = metrics.roc_curve(targets, preds[:,1], pos_label=1)\n",
        " \n",
        "random_probs = [0 for i in range(len(targets))]\n",
        "p_fpr, p_tpr, _ = metrics.roc_curve(targets, random_probs, pos_label=1)\n",
        "auc_score1_base = metrics.roc_auc_score(targets, preds[:,1])\n",
        "#auc_score2 = roc_auc_score(y_test, pred_prob2[:,1])\n",
        "\n",
        "print(auc_score1_base)"
      ],
      "execution_count": null,
      "outputs": [
        {
          "output_type": "stream",
          "name": "stdout",
          "text": [
            "0.9690438871473355\n"
          ]
        }
      ]
    },
    {
      "cell_type": "code",
      "metadata": {
        "colab": {
          "base_uri": "https://localhost:8080/",
          "height": 376
        },
        "id": "qpYK6hJ4k6Kb",
        "outputId": "e9ee2094-d7be-4a31-a7b6-9c9619101614"
      },
      "source": [
        "#ROC AUC curve\n",
        "# matplotlib\n",
        "import matplotlib.pyplot as plt\n",
        "plt.style.use('seaborn')\n",
        "\n",
        "# plot roc curves\n",
        "plt.plot(base_fpr1, base_tpr1, linestyle='--',color='orange', label='BERT_base('+str(auc_score1_base.round(2))+')')\n",
        "plt.plot(dist_fpr1, dist_tpr1, linestyle='--',color='green', label='Dist_BERT('+str(auc_score1_dist.round(2))+')')\n",
        "#plt.plot(umlfit_fpr,umlfit_tpr,linestyle='--',color='red', label='UMLFiT('+str(auc_umlfit.round(2))+')')\n",
        "#plt.plot(fpr2, tpr2, linestyle='--',color='green', label='KNN')\n",
        "plt.plot(p_fpr, p_tpr, linestyle='--', color='blue')\n",
        "# title\n",
        "plt.title('ROC curve')\n",
        "# x label\n",
        "plt.xlabel('False Positive Rate')\n",
        "# y label\n",
        "plt.ylabel('True Positive rate')\n",
        "\n",
        "plt.legend(loc='best')\n",
        "plt.savefig('ROC',dpi=300)\n",
        "plt.show();"
      ],
      "execution_count": null,
      "outputs": [
        {
          "output_type": "display_data",
          "data": {
            "image/png": "[encoded data removed]",
            "text/plain": [
              "<Figure size 576x396 with 1 Axes>"
            ]
          },
          "metadata": {}
        }
      ]
    },
    {
      "cell_type": "code",
      "metadata": {
        "id": "Ms1ObHZxTYSI",
        "colab": {
          "base_uri": "https://localhost:8080/"
        },
        "outputId": "fd861514-19ab-419c-9dea-3aa978e6c559"
      },
      "source": [
        "# model's performance\n",
        "preds = np.argmax(preds, axis = 1)\n",
        "print(classification_report(test_y, preds))"
      ],
      "execution_count": null,
      "outputs": [
        {
          "output_type": "stream",
          "name": "stdout",
          "text": [
            "              precision    recall  f1-score   support\n",
            "\n",
            "           0       0.94      0.86      0.90        88\n",
            "           1       0.87      0.94      0.91        87\n",
            "\n",
            "    accuracy                           0.90       175\n",
            "   macro avg       0.91      0.90      0.90       175\n",
            "weighted avg       0.91      0.90      0.90       175\n",
            "\n"
          ]
        }
      ]
    },
    {
      "cell_type": "code",
      "metadata": {
        "id": "YqzLS7rHTp4T",
        "colab": {
          "base_uri": "https://localhost:8080/",
          "height": 143
        },
        "outputId": "6931b93c-cf0a-4d03-df20-3033a82221a6"
      },
      "source": [
        "# confusion matrix\n",
        "cm=pd.crosstab(test_y, preds)\n",
        "cm"
      ],
      "execution_count": null,
      "outputs": [
        {
          "output_type": "execute_result",
          "data": {
            "text/html": [
              "\n",
              "  <div id=\"df-0f8b488a-c31f-4a71-8cf1-0093edcf78a4\">\n",
              "    <div class=\"colab-df-container\">\n",
              "      <div>\n",
              "<style scoped>\n",
              "    .dataframe tbody tr th:only-of-type {\n",
              "        vertical-align: middle;\n",
              "    }\n",
              "\n",
              "    .dataframe tbody tr th {\n",
              "        vertical-align: top;\n",
              "    }\n",
              "\n",
              "    .dataframe thead th {\n",
              "        text-align: right;\n",
              "    }\n",
              "</style>\n",
              "<table border=\"1\" class=\"dataframe\">\n",
              "  <thead>\n",
              "    <tr style=\"text-align: right;\">\n",
              "      <th>col_0</th>\n",
              "      <th>0</th>\n",
              "      <th>1</th>\n",
              "    </tr>\n",
              "    <tr>\n",
              "      <th>row_0</th>\n",
              "      <th></th>\n",
              "      <th></th>\n",
              "    </tr>\n",
              "  </thead>\n",
              "  <tbody>\n",
              "    <tr>\n",
              "      <th>0</th>\n",
              "      <td>76</td>\n",
              "      <td>12</td>\n",
              "    </tr>\n",
              "    <tr>\n",
              "      <th>1</th>\n",
              "      <td>5</td>\n",
              "      <td>82</td>\n",
              "    </tr>\n",
              "  </tbody>\n",
              "</table>\n",
              "</div>\n",
              "      <button class=\"colab-df-convert\" onclick=\"convertToInteractive('df-0f8b488a-c31f-4a71-8cf1-0093edcf78a4')\"\n",
              "              title=\"Convert this dataframe to an interactive table.\"\n",
              "              style=\"display:none;\">\n",
              "        \n",
              "  <svg xmlns=\"http://www.w3.org/2000/svg\" height=\"24px\"viewBox=\"0 0 24 24\"\n",
              "       width=\"24px\">\n",
              "    <path d=\"M0 0h24v24H0V0z\" fill=\"none\"/>\n",
              "    <path d=\"M18.56 5.44l.94 2.06.94-2.06 2.06-.94-2.06-.94-.94-2.06-.94 2.06-2.06.94zm-11 1L8.5 8.5l.94-2.06 2.06-.94-2.06-.94L8.5 2.5l-.94 2.06-2.06.94zm10 10l.94 2.06.94-2.06 2.06-.94-2.06-.94-.94-2.06-.94 2.06-2.06.94z\"/><path d=\"M17.41 7.96l-1.37-1.37c-.4-.4-.92-.59-1.43-.59-.52 0-1.04.2-1.43.59L10.3 9.45l-7.72 7.72c-.78.78-.78 2.05 0 2.83L4 21.41c.39.39.9.59 1.41.59.51 0 1.02-.2 1.41-.59l7.78-7.78 2.81-2.81c.8-.78.8-2.07 0-2.86zM5.41 20L4 18.59l7.72-7.72 1.47 1.35L5.41 20z\"/>\n",
              "  </svg>\n",
              "      </button>\n",
              "      \n",
              "  <style>\n",
              "    .colab-df-container {\n",
              "      display:flex;\n",
              "      flex-wrap:wrap;\n",
              "      gap: 12px;\n",
              "    }\n",
              "\n",
              "    .colab-df-convert {\n",
              "      background-color: #E8F0FE;\n",
              "      border: none;\n",
              "      border-radius: 50%;\n",
              "      cursor: pointer;\n",
              "      display: none;\n",
              "      fill: #1967D2;\n",
              "      height: 32px;\n",
              "      padding: 0 0 0 0;\n",
              "      width: 32px;\n",
              "    }\n",
              "\n",
              "    .colab-df-convert:hover {\n",
              "      background-color: #E2EBFA;\n",
              "      box-shadow: 0px 1px 2px rgba(60, 64, 67, 0.3), 0px 1px 3px 1px rgba(60, 64, 67, 0.15);\n",
              "      fill: #174EA6;\n",
              "    }\n",
              "\n",
              "    [theme=dark] .colab-df-convert {\n",
              "      background-color: #3B4455;\n",
              "      fill: #D2E3FC;\n",
              "    }\n",
              "\n",
              "    [theme=dark] .colab-df-convert:hover {\n",
              "      background-color: #434B5C;\n",
              "      box-shadow: 0px 1px 3px 1px rgba(0, 0, 0, 0.15);\n",
              "      filter: drop-shadow(0px 1px 2px rgba(0, 0, 0, 0.3));\n",
              "      fill: #FFFFFF;\n",
              "    }\n",
              "  </style>\n",
              "\n",
              "      <script>\n",
              "        const buttonEl =\n",
              "          document.querySelector('#df-0f8b488a-c31f-4a71-8cf1-0093edcf78a4 button.colab-df-convert');\n",
              "        buttonEl.style.display =\n",
              "          google.colab.kernel.accessAllowed ? 'block' : 'none';\n",
              "\n",
              "        async function convertToInteractive(key) {\n",
              "          const element = document.querySelector('#df-0f8b488a-c31f-4a71-8cf1-0093edcf78a4');\n",
              "          const dataTable =\n",
              "            await google.colab.kernel.invokeFunction('convertToInteractive',\n",
              "                                                     [key], {});\n",
              "          if (!dataTable) return;\n",
              "\n",
              "          const docLinkHtml = 'Like what you see? Visit the ' +\n",
              "            '<a target=\"_blank\" href=https://colab.research.google.com/notebooks/data_table.ipynb>data table notebook</a>'\n",
              "            + ' to learn more about interactive tables.';\n",
              "          element.innerHTML = '';\n",
              "          dataTable['output_type'] = 'display_data';\n",
              "          await google.colab.output.renderOutput(dataTable, element);\n",
              "          const docLink = document.createElement('div');\n",
              "          docLink.innerHTML = docLinkHtml;\n",
              "          element.appendChild(docLink);\n",
              "        }\n",
              "      </script>\n",
              "    </div>\n",
              "  </div>\n",
              "  "
            ],
            "text/plain": [
              "col_0   0   1\n",
              "row_0        \n",
              "0      76  12\n",
              "1       5  82"
            ]
          },
          "metadata": {},
          "execution_count": 122
        }
      ]
    },
    {
      "cell_type": "code",
      "metadata": {
        "colab": {
          "base_uri": "https://localhost:8080/",
          "height": 361
        },
        "id": "lwdMEDEzjLhL",
        "outputId": "51f43f85-6ea2-4b73-f31d-a3ea8c3bb985"
      },
      "source": [
        "from matplotlib import pyplot as plt\n",
        "import seaborn as sn\n",
        "sn.heatmap(cm, annot=True, fmt='d')\n",
        "plt.xlabel('Predicted')\n",
        "plt.ylabel('Truth')\n",
        "plt.savefig('confusion.png')"
      ],
      "execution_count": null,
      "outputs": [
        {
          "output_type": "display_data",
          "data": {
            "image/png": "[encoded data removed]",
            "text/plain": [
              "<Figure size 576x396 with 2 Axes>"
            ]
          },
          "metadata": {}
        }
      ]
    },
    {
      "cell_type": "code",
      "metadata": {
        "colab": {
          "base_uri": "https://localhost:8080/",
          "height": 35
        },
        "id": "m4xBneQuszRz",
        "outputId": "714c36f5-594f-4cb0-c51f-58cb6e62cf8f"
      },
      "source": [
        "plt.savefig(path+'/data1/confusion.png')"
      ],
      "execution_count": null,
      "outputs": [
        {
          "output_type": "display_data",
          "data": {
            "text/plain": [
              "<Figure size 576x396 with 0 Axes>"
            ]
          },
          "metadata": {}
        }
      ]
    },
    {
      "cell_type": "code",
      "metadata": {
        "id": "Ja5Lm1mK1kot"
      },
      "source": [
        "bert_base_model=model"
      ],
      "execution_count": null,
      "outputs": []
    },
    {
      "cell_type": "markdown",
      "source": [
        "# Error Analysis"
      ],
      "metadata": {
        "id": "tsL-Z_CsrdxF"
      }
    },
    {
      "cell_type": "code",
      "metadata": {
        "id": "nXb5I21JR32y"
      },
      "source": [
        "misclassified = [i for i in range(len(preds)) if preds[i] != targets[i]]"
      ],
      "execution_count": null,
      "outputs": []
    },
    {
      "cell_type": "code",
      "metadata": {
        "id": "SVkfB8TZWcVL"
      },
      "source": [
        "t=test_text.to_numpy()\n",
        "t"
      ],
      "execution_count": null,
      "outputs": []
    },
    {
      "cell_type": "code",
      "metadata": {
        "colab": {
          "base_uri": "https://localhost:8080/"
        },
        "id": "3IuWI4QUU1JF",
        "outputId": "ef9a6ecb-f939-4b8b-aa58-739d4cab547e"
      },
      "source": [
        "missed=list()\n",
        "for i in range(len(misclassified)):\n",
        "  missed.append(t[misclassified[i]])\n",
        "print(missed)"
      ],
      "execution_count": null,
      "outputs": [
        {
          "output_type": "stream",
          "name": "stdout",
          "text": [
            "['the id of the item in pos is set to the category unique tag.', 'indicate if the called party was busy or if the network could not connect the call.', 'only one voucher is sold at time.', 'user should be able to register new account.', 'cursor display element in graphical user environment that marks location in window.', 'command line console could be useful for batch jobs server jobs.', 'the user wants to change the nature of the players in the current game with menu.', 'figure shows the general process as data.', 'this is system initiation process.', 'bar code the system will interface with the bar code reader to interface all transaction details.', 'no matched stock with the buy instruction.']\n"
          ]
        }
      ]
    },
    {
      "cell_type": "code",
      "metadata": {
        "colab": {
          "base_uri": "https://localhost:8080/"
        },
        "id": "DeC-ralZ_4AJ",
        "outputId": "e486ceac-5d92-4dbc-e053-cdadc2125f24"
      },
      "source": [
        "print(len(missed))"
      ],
      "execution_count": null,
      "outputs": [
        {
          "output_type": "stream",
          "name": "stdout",
          "text": [
            "11\n"
          ]
        }
      ]
    },
    {
      "cell_type": "markdown",
      "metadata": {
        "id": "AiOIaJw410us"
      },
      "source": [
        "# Prediction on Unseen Data"
      ]
    },
    {
      "cell_type": "code",
      "metadata": {
        "id": "ggDdUEeKUTVN"
      },
      "source": [
        "#function for predecting unseen data\n",
        "def predict_UCS(model,sentence):\n",
        "  # tokenize and encode sequences in the test set\n",
        "  tokens_test1 = tokenizer.batch_encode_plus(\n",
        "      sentence,\n",
        "      max_length = max_seq_len,\n",
        "      pad_to_max_length=True,\n",
        "      truncation=True,\n",
        "      return_token_type_ids=False\n",
        "  )\n",
        "  # for test set\n",
        "  test_seq = torch.tensor(tokens_test1['input_ids'])\n",
        "  test_mask = torch.tensor(tokens_test1['attention_mask'])\n",
        "\n",
        "  # get predictions for test data\n",
        "  with torch.no_grad():\n",
        "    preds = model(test_seq.to(device), test_mask.to(device))\n",
        "    preds = preds.detach().cpu().numpy()\n",
        "    print(preds)\n",
        "    preds = np.argmax(preds, axis = 1)\n",
        "\n",
        "    return preds"
      ],
      "execution_count": null,
      "outputs": []
    },
    {
      "cell_type": "code",
      "metadata": {
        "id": "yOhhYUV4BumA",
        "colab": {
          "base_uri": "https://localhost:8080/"
        },
        "outputId": "7c076c79-eb25-4e8f-b081-8a1d0833337c"
      },
      "source": [
        "testString1=[\"Store assistant checks status of the tape to be returned by customer. \",\"PDF Split and Merge was created prior to this document, so all requirements stated here are already satisfied.\",\"Cashier enters item identifier.\",\n",
        "\"System updates the sale line item.\"]\n",
        "predict_UCS(bert_base_model,testString1)\n"
      ],
      "execution_count": null,
      "outputs": [
        {
          "output_type": "stream",
          "name": "stdout",
          "text": [
            "[[-4.5183997  -0.01096639]\n",
            " [-0.13121238 -2.095827  ]\n",
            " [-5.111754   -0.00604373]\n",
            " [-3.9780889  -0.0188989 ]]\n"
          ]
        },
        {
          "output_type": "stream",
          "name": "stderr",
          "text": [
            "/usr/local/lib/python3.7/dist-packages/transformers/tokenization_utils_base.py:2232: FutureWarning: The `pad_to_max_length` argument is deprecated and will be removed in a future version, use `padding=True` or `padding='longest'` to pad to the longest sequence in the batch, or use `padding='max_length'` to pad to a max length. In this case, you can give a specific length with `max_length` (e.g. `max_length=45`) or leave max_length to None to pad to the maximal input size of the model (e.g. 512 for Bert).\n",
            "  FutureWarning,\n"
          ]
        },
        {
          "output_type": "execute_result",
          "data": {
            "text/plain": [
              "array([1, 0, 1, 1])"
            ]
          },
          "metadata": {},
          "execution_count": 74
        }
      ]
    },
    {
      "cell_type": "code",
      "metadata": {
        "colab": {
          "base_uri": "https://localhost:8080/"
        },
        "id": "OWBPmwX_sdUq",
        "outputId": "af0f0f8e-aac7-4007-ce0d-927508888b57"
      },
      "source": [
        "# The third one gives 0.99 indicating very high probabilty of spam\n",
        "testString2 = ['User selects a transformation language program file to parse.',\n",
        "'The HATS-GUI compares the time stamps on the lexical specification and grammar files to the time.',\n",
        "          'agentMom shall support the ability to send unicast message.']\n",
        "#predict_UCS(testT)\n",
        "predict_UCS(bert_base_model,testString2)"
      ],
      "execution_count": null,
      "outputs": [
        {
          "output_type": "stream",
          "name": "stdout",
          "text": [
            "[[-6.2654800e+00 -1.9025574e-03]\n",
            " [-2.0119913e+00 -1.4354953e-01]\n",
            " [-7.8901285e-03 -4.8460889e+00]]\n"
          ]
        },
        {
          "output_type": "stream",
          "name": "stderr",
          "text": [
            "/usr/local/lib/python3.7/dist-packages/transformers/tokenization_utils_base.py:2232: FutureWarning: The `pad_to_max_length` argument is deprecated and will be removed in a future version, use `padding=True` or `padding='longest'` to pad to the longest sequence in the batch, or use `padding='max_length'` to pad to a max length. In this case, you can give a specific length with `max_length` (e.g. `max_length=45`) or leave max_length to None to pad to the maximal input size of the model (e.g. 512 for Bert).\n",
            "  FutureWarning,\n"
          ]
        },
        {
          "output_type": "execute_result",
          "data": {
            "text/plain": [
              "array([1, 1, 0])"
            ]
          },
          "metadata": {},
          "execution_count": 75
        }
      ]
    },
    {
      "cell_type": "markdown",
      "source": [
        "#Prediction on SRS document"
      ],
      "metadata": {
        "id": "kwZOUu7trtrl"
      }
    },
    {
      "cell_type": "code",
      "source": [
        "df_ucs1=predict_UCS(bert_base_model,clean_text)"
      ],
      "metadata": {
        "colab": {
          "base_uri": "https://localhost:8080/"
        },
        "id": "OQj4-6Z4WmZo",
        "outputId": "8f7fdc0f-f172-4d11-a5fd-8d08610ea98e"
      },
      "execution_count": null,
      "outputs": [
        {
          "output_type": "stream",
          "name": "stderr",
          "text": [
            "/usr/local/lib/python3.7/dist-packages/transformers/tokenization_utils_base.py:2227: FutureWarning: The `pad_to_max_length` argument is deprecated and will be removed in a future version, use `padding=True` or `padding='longest'` to pad to the longest sequence in the batch, or use `padding='max_length'` to pad to a max length. In this case, you can give a specific length with `max_length` (e.g. `max_length=45`) or leave max_length to None to pad to the maximal input size of the model (e.g. 512 for Bert).\n",
            "  FutureWarning,\n"
          ]
        },
        {
          "output_type": "stream",
          "name": "stdout",
          "text": [
            "[[-2.869563e-01 -1.388475e+00]\n",
            " [-1.611107e-02 -4.136297e+00]\n",
            " [-4.187387e-03 -5.477777e+00]\n",
            " [-1.751557e-03 -6.348099e+00]\n",
            " ...\n",
            " [-3.761624e-01 -1.159927e+00]\n",
            " [-1.133573e-02 -4.485458e+00]\n",
            " [-3.350018e-02 -3.412909e+00]\n",
            " [-1.204215e+00 -3.565713e-01]]\n"
          ]
        }
      ]
    },
    {
      "cell_type": "code",
      "metadata": {
        "colab": {
          "base_uri": "https://localhost:8080/"
        },
        "id": "KQq89-_6sn-x",
        "outputId": "0c236208-d193-4fd7-a5f9-77079be4a29b"
      },
      "source": [
        "print(len(df_ucs1))\n",
        "#print(len(preds))"
      ],
      "execution_count": null,
      "outputs": [
        {
          "output_type": "stream",
          "name": "stdout",
          "text": [
            "442\n"
          ]
        }
      ]
    },
    {
      "cell_type": "code",
      "source": [
        "pa=np.array(df_ucs1)\n",
        "pa=pa[pa>0]\n",
        "print(len(pa))"
      ],
      "metadata": {
        "id": "C2ATArmjaj6q"
      },
      "execution_count": null,
      "outputs": []
    },
    {
      "cell_type": "markdown",
      "metadata": {
        "id": "wVI6DysrvDGT"
      },
      "source": [
        "## ULMFiT_fastai_Text_Classification"
      ]
    },
    {
      "cell_type": "code",
      "metadata": {
        "id": "9L-mYNWDBB4g"
      },
      "source": [
        "!pip install torch_nightly -f https://download.pytorch.org/whl/nightly/cu92/torch_nightly.html\n",
        "!pip install fastai"
      ],
      "execution_count": null,
      "outputs": []
    },
    {
      "cell_type": "markdown",
      "metadata": {
        "id": "4iq2r5Du8qyC"
      },
      "source": [
        "The one cycle and cyclic momentum allows the model to be trained on higher learning rates and converge faster. The one cycle policy provides some form of regularisation. "
      ]
    },
    {
      "cell_type": "code",
      "metadata": {
        "id": "2nUGc2c7xkeJ"
      },
      "source": [
        "import pandas as pd\n",
        "import numpy as np\n",
        "import seaborn as sns\n",
        "import matplotlib as plt\n",
        "import itertools\n",
        "import nltk\n",
        "from nltk.corpus import stopwords\n",
        "from wordcloud import WordCloud,STOPWORDS\n",
        "from fastai.text import *"
      ],
      "execution_count": null,
      "outputs": []
    },
    {
      "cell_type": "code",
      "metadata": {
        "id": "KYbn6ysEMeum"
      },
      "source": [
        "from sklearn.model_selection import train_test_split\n",
        "\n",
        "# split data into training and validation set\n",
        "df_trn, df_val = train_test_split(df_balanced, stratify = df_balanced['label'], test_size = 0.3, random_state = 2018)"
      ],
      "execution_count": null,
      "outputs": []
    },
    {
      "cell_type": "markdown",
      "metadata": {
        "id": "R14UTria8Av1"
      },
      "source": [
        "Before proceeding further, we’ll need to prepare our data for the language model and for the classification model separately. The good news? This can be done quite easily using the fastai library:"
      ]
    },
    {
      "cell_type": "code",
      "metadata": {
        "id": "7tNP_aMTEOKe",
        "colab": {
          "base_uri": "https://localhost:8080/",
          "height": 124
        },
        "outputId": "c37eaf53-c49c-4838-881c-2dd38b5722d1"
      },
      "source": [
        "# Language model data\n",
        "data_lm = TextLMDataBunch.from_df(train_df = df_trn, valid_df = df_val, path = \"\")\n",
        "\n",
        "# Classifier model data\n",
        "data_clas = TextClasDataBunch.from_df(path = \"\", train_df = df_trn, valid_df = df_val, vocab=data_lm.train_ds.vocab, bs=32)"
      ],
      "execution_count": null,
      "outputs": [
        {
          "output_type": "display_data",
          "data": {
            "text/html": [
              ""
            ],
            "text/plain": [
              "<IPython.core.display.HTML object>"
            ]
          },
          "metadata": {}
        },
        {
          "output_type": "stream",
          "name": "stderr",
          "text": [
            "/usr/local/lib/python3.7/dist-packages/fastai/core.py:302: VisibleDeprecationWarning: Creating an ndarray from ragged nested sequences (which is a list-or-tuple of lists-or-tuples-or ndarrays with different lengths or shapes) is deprecated. If you meant to do this, you must specify 'dtype=object' when creating the ndarray\n",
            "  return np.array(a, dtype=dtype, **kwargs)\n"
          ]
        },
        {
          "output_type": "display_data",
          "data": {
            "text/html": [
              ""
            ],
            "text/plain": [
              "<IPython.core.display.HTML object>"
            ]
          },
          "metadata": {}
        },
        {
          "output_type": "display_data",
          "data": {
            "text/html": [
              ""
            ],
            "text/plain": [
              "<IPython.core.display.HTML object>"
            ]
          },
          "metadata": {}
        },
        {
          "output_type": "display_data",
          "data": {
            "text/html": [
              ""
            ],
            "text/plain": [
              "<IPython.core.display.HTML object>"
            ]
          },
          "metadata": {}
        },
        {
          "output_type": "stream",
          "name": "stderr",
          "text": [
            "/usr/local/lib/python3.7/dist-packages/numpy/core/_asarray.py:83: VisibleDeprecationWarning: Creating an ndarray from ragged nested sequences (which is a list-or-tuple of lists-or-tuples-or ndarrays with different lengths or shapes) is deprecated. If you meant to do this, you must specify 'dtype=object' when creating the ndarray\n",
            "  return array(a, dtype, copy=False, order=order)\n",
            "<string>:6: VisibleDeprecationWarning: Creating an ndarray from ragged nested sequences (which is a list-or-tuple of lists-or-tuples-or ndarrays with different lengths or shapes) is deprecated. If you meant to do this, you must specify 'dtype=object' when creating the ndarray\n"
          ]
        }
      ]
    },
    {
      "cell_type": "code",
      "metadata": {
        "colab": {
          "base_uri": "https://localhost:8080/",
          "height": 1000
        },
        "id": "Syatdot9z0OM",
        "outputId": "ff3e2282-ac12-46fb-b92e-f69518e0285e"
      },
      "source": [
        "\n",
        "start=time.time()\n",
        "learn = language_model_learner(data_lm, AWD_LSTM, drop_mult=0.3)\n",
        "end=time.time()\n",
        "total=end-start\n",
        "#find the optimal learning rate & visualize it\n",
        "learn.lr_find();\n",
        "learn.recorder.plot();"
      ],
      "execution_count": null,
      "outputs": [
        {
          "output_type": "display_data",
          "data": {
            "text/html": [
              "\n",
              "    <div>\n",
              "        <style>\n",
              "            /* Turns off some styling */\n",
              "            progress {\n",
              "                /* gets rid of default border in Firefox and Opera. */\n",
              "                border: none;\n",
              "                /* Needs to be in here for Safari polyfill so background images work as expected. */\n",
              "                background-size: auto;\n",
              "            }\n",
              "            .progress-bar-interrupted, .progress-bar-interrupted::-webkit-progress-bar {\n",
              "                background: #F44336;\n",
              "            }\n",
              "        </style>\n",
              "      <progress value='33' class='' max='34' style='width:300px; height:20px; vertical-align: middle;'></progress>\n",
              "      97.06% [33/34 00:29<00:00]\n",
              "    </div>\n",
              "    \n",
              "<table border=\"1\" class=\"dataframe\">\n",
              "  <thead>\n",
              "    <tr style=\"text-align: left;\">\n",
              "      <th>epoch</th>\n",
              "      <th>train_loss</th>\n",
              "      <th>valid_loss</th>\n",
              "      <th>accuracy</th>\n",
              "      <th>time</th>\n",
              "    </tr>\n",
              "  </thead>\n",
              "  <tbody>\n",
              "    <tr>\n",
              "      <td>0</td>\n",
              "      <td>6.026737</td>\n",
              "      <td>#na#</td>\n",
              "      <td>00:00</td>\n",
              "    </tr>\n",
              "    <tr>\n",
              "      <td>1</td>\n",
              "      <td>6.063287</td>\n",
              "      <td>#na#</td>\n",
              "      <td>00:00</td>\n",
              "    </tr>\n",
              "    <tr>\n",
              "      <td>2</td>\n",
              "      <td>6.076523</td>\n",
              "      <td>#na#</td>\n",
              "      <td>00:00</td>\n",
              "    </tr>\n",
              "    <tr>\n",
              "      <td>3</td>\n",
              "      <td>6.078308</td>\n",
              "      <td>#na#</td>\n",
              "      <td>00:00</td>\n",
              "    </tr>\n",
              "    <tr>\n",
              "      <td>4</td>\n",
              "      <td>6.071592</td>\n",
              "      <td>#na#</td>\n",
              "      <td>00:00</td>\n",
              "    </tr>\n",
              "    <tr>\n",
              "      <td>5</td>\n",
              "      <td>6.075580</td>\n",
              "      <td>#na#</td>\n",
              "      <td>00:00</td>\n",
              "    </tr>\n",
              "    <tr>\n",
              "      <td>6</td>\n",
              "      <td>6.084918</td>\n",
              "      <td>#na#</td>\n",
              "      <td>00:00</td>\n",
              "    </tr>\n",
              "    <tr>\n",
              "      <td>7</td>\n",
              "      <td>6.082235</td>\n",
              "      <td>#na#</td>\n",
              "      <td>00:00</td>\n",
              "    </tr>\n",
              "    <tr>\n",
              "      <td>8</td>\n",
              "      <td>6.081907</td>\n",
              "      <td>#na#</td>\n",
              "      <td>00:00</td>\n",
              "    </tr>\n",
              "    <tr>\n",
              "      <td>9</td>\n",
              "      <td>6.077158</td>\n",
              "      <td>#na#</td>\n",
              "      <td>00:00</td>\n",
              "    </tr>\n",
              "    <tr>\n",
              "      <td>10</td>\n",
              "      <td>6.078214</td>\n",
              "      <td>#na#</td>\n",
              "      <td>00:00</td>\n",
              "    </tr>\n",
              "    <tr>\n",
              "      <td>11</td>\n",
              "      <td>6.079335</td>\n",
              "      <td>#na#</td>\n",
              "      <td>00:00</td>\n",
              "    </tr>\n",
              "    <tr>\n",
              "      <td>12</td>\n",
              "      <td>6.075138</td>\n",
              "      <td>#na#</td>\n",
              "      <td>00:00</td>\n",
              "    </tr>\n",
              "    <tr>\n",
              "      <td>13</td>\n",
              "      <td>6.074477</td>\n",
              "      <td>#na#</td>\n",
              "      <td>00:00</td>\n",
              "    </tr>\n",
              "    <tr>\n",
              "      <td>14</td>\n",
              "      <td>6.070279</td>\n",
              "      <td>#na#</td>\n",
              "      <td>00:00</td>\n",
              "    </tr>\n",
              "    <tr>\n",
              "      <td>15</td>\n",
              "      <td>6.062881</td>\n",
              "      <td>#na#</td>\n",
              "      <td>00:00</td>\n",
              "    </tr>\n",
              "    <tr>\n",
              "      <td>16</td>\n",
              "      <td>6.048455</td>\n",
              "      <td>#na#</td>\n",
              "      <td>00:00</td>\n",
              "    </tr>\n",
              "    <tr>\n",
              "      <td>17</td>\n",
              "      <td>6.030567</td>\n",
              "      <td>#na#</td>\n",
              "      <td>00:00</td>\n",
              "    </tr>\n",
              "    <tr>\n",
              "      <td>18</td>\n",
              "      <td>5.997747</td>\n",
              "      <td>#na#</td>\n",
              "      <td>00:00</td>\n",
              "    </tr>\n",
              "    <tr>\n",
              "      <td>19</td>\n",
              "      <td>5.943492</td>\n",
              "      <td>#na#</td>\n",
              "      <td>00:00</td>\n",
              "    </tr>\n",
              "    <tr>\n",
              "      <td>20</td>\n",
              "      <td>5.862636</td>\n",
              "      <td>#na#</td>\n",
              "      <td>00:00</td>\n",
              "    </tr>\n",
              "    <tr>\n",
              "      <td>21</td>\n",
              "      <td>5.747642</td>\n",
              "      <td>#na#</td>\n",
              "      <td>00:00</td>\n",
              "    </tr>\n",
              "    <tr>\n",
              "      <td>22</td>\n",
              "      <td>5.602520</td>\n",
              "      <td>#na#</td>\n",
              "      <td>00:00</td>\n",
              "    </tr>\n",
              "    <tr>\n",
              "      <td>23</td>\n",
              "      <td>5.428647</td>\n",
              "      <td>#na#</td>\n",
              "      <td>00:00</td>\n",
              "    </tr>\n",
              "    <tr>\n",
              "      <td>24</td>\n",
              "      <td>5.234498</td>\n",
              "      <td>#na#</td>\n",
              "      <td>00:00</td>\n",
              "    </tr>\n",
              "    <tr>\n",
              "      <td>25</td>\n",
              "      <td>5.028672</td>\n",
              "      <td>#na#</td>\n",
              "      <td>00:00</td>\n",
              "    </tr>\n",
              "    <tr>\n",
              "      <td>26</td>\n",
              "      <td>4.822198</td>\n",
              "      <td>#na#</td>\n",
              "      <td>00:00</td>\n",
              "    </tr>\n",
              "    <tr>\n",
              "      <td>27</td>\n",
              "      <td>4.619097</td>\n",
              "      <td>#na#</td>\n",
              "      <td>00:00</td>\n",
              "    </tr>\n",
              "    <tr>\n",
              "      <td>28</td>\n",
              "      <td>4.437766</td>\n",
              "      <td>#na#</td>\n",
              "      <td>00:00</td>\n",
              "    </tr>\n",
              "    <tr>\n",
              "      <td>29</td>\n",
              "      <td>4.314474</td>\n",
              "      <td>#na#</td>\n",
              "      <td>00:00</td>\n",
              "    </tr>\n",
              "    <tr>\n",
              "      <td>30</td>\n",
              "      <td>4.355886</td>\n",
              "      <td>#na#</td>\n",
              "      <td>00:00</td>\n",
              "    </tr>\n",
              "    <tr>\n",
              "      <td>31</td>\n",
              "      <td>4.882930</td>\n",
              "      <td>#na#</td>\n",
              "      <td>00:00</td>\n",
              "    </tr>\n",
              "    <tr>\n",
              "      <td>32</td>\n",
              "      <td>6.286925</td>\n",
              "      <td>#na#</td>\n",
              "      <td>00:00</td>\n",
              "    </tr>\n",
              "  </tbody>\n",
              "</table><p>\n",
              "\n",
              "    <div>\n",
              "        <style>\n",
              "            /* Turns off some styling */\n",
              "            progress {\n",
              "                /* gets rid of default border in Firefox and Opera. */\n",
              "                border: none;\n",
              "                /* Needs to be in here for Safari polyfill so background images work as expected. */\n",
              "                background-size: auto;\n",
              "            }\n",
              "            .progress-bar-interrupted, .progress-bar-interrupted::-webkit-progress-bar {\n",
              "                background: #F44336;\n",
              "            }\n",
              "        </style>\n",
              "      <progress value='0' class='' max='3' style='width:300px; height:20px; vertical-align: middle;'></progress>\n",
              "      0.00% [0/3 00:00<00:00]\n",
              "    </div>\n",
              "    "
            ],
            "text/plain": [
              "<IPython.core.display.HTML object>"
            ]
          },
          "metadata": {}
        },
        {
          "output_type": "stream",
          "name": "stdout",
          "text": [
            "LR Finder is complete, type {learner_name}.recorder.plot() to see the graph.\n"
          ]
        },
        {
          "output_type": "display_data",
          "data": {
            "image/png": "[encoded data removed]",
            "text/plain": [
              "<Figure size 576x396 with 1 Axes>"
            ]
          },
          "metadata": {}
        }
      ]
    },
    {
      "cell_type": "code",
      "source": [
        "print(total)"
      ],
      "metadata": {
        "colab": {
          "base_uri": "https://localhost:8080/"
        },
        "id": "5wmYOQF3uMqL",
        "outputId": "e7e8af5a-0f46-4938-9ba0-8c52132e9114"
      },
      "execution_count": null,
      "outputs": [
        {
          "output_type": "stream",
          "name": "stdout",
          "text": [
            "7.493899583816528\n"
          ]
        }
      ]
    },
    {
      "cell_type": "markdown",
      "metadata": {
        "id": "d3DEx74o2u3f"
      },
      "source": [
        "By default, the Learner object is frozen thus we need to train the embeddings at first. Here, instead of running the cycle for one epoch, I am going to run it for 6 to see how accuracy varies. The learning rate I picked is with the help of the plot we got above."
      ]
    },
    {
      "cell_type": "code",
      "metadata": {
        "colab": {
          "base_uri": "https://localhost:8080/",
          "height": 237
        },
        "id": "KrtyX_yv2oGt",
        "outputId": "d5a64a57-d042-49ba-d980-13522211e802"
      },
      "source": [
        "start=time.time()\n",
        "learn.fit_one_cycle(6,5e-2, moms=(0.85,0.75))\n",
        "end=time.time()\n",
        "total=total+(end-start)"
      ],
      "execution_count": null,
      "outputs": [
        {
          "output_type": "display_data",
          "data": {
            "text/html": [
              "<table border=\"1\" class=\"dataframe\">\n",
              "  <thead>\n",
              "    <tr style=\"text-align: left;\">\n",
              "      <th>epoch</th>\n",
              "      <th>train_loss</th>\n",
              "      <th>valid_loss</th>\n",
              "      <th>accuracy</th>\n",
              "      <th>time</th>\n",
              "    </tr>\n",
              "  </thead>\n",
              "  <tbody>\n",
              "    <tr>\n",
              "      <td>0</td>\n",
              "      <td>5.968525</td>\n",
              "      <td>5.114321</td>\n",
              "      <td>0.178013</td>\n",
              "      <td>00:01</td>\n",
              "    </tr>\n",
              "    <tr>\n",
              "      <td>1</td>\n",
              "      <td>5.340798</td>\n",
              "      <td>4.023543</td>\n",
              "      <td>0.242076</td>\n",
              "      <td>00:01</td>\n",
              "    </tr>\n",
              "    <tr>\n",
              "      <td>2</td>\n",
              "      <td>4.700745</td>\n",
              "      <td>3.577523</td>\n",
              "      <td>0.333259</td>\n",
              "      <td>00:01</td>\n",
              "    </tr>\n",
              "    <tr>\n",
              "      <td>3</td>\n",
              "      <td>4.177185</td>\n",
              "      <td>3.461314</td>\n",
              "      <td>0.342188</td>\n",
              "      <td>00:01</td>\n",
              "    </tr>\n",
              "    <tr>\n",
              "      <td>4</td>\n",
              "      <td>3.786903</td>\n",
              "      <td>3.426933</td>\n",
              "      <td>0.350000</td>\n",
              "      <td>00:01</td>\n",
              "    </tr>\n",
              "    <tr>\n",
              "      <td>5</td>\n",
              "      <td>3.505080</td>\n",
              "      <td>3.416801</td>\n",
              "      <td>0.350781</td>\n",
              "      <td>00:01</td>\n",
              "    </tr>\n",
              "  </tbody>\n",
              "</table>"
            ],
            "text/plain": [
              "<IPython.core.display.HTML object>"
            ]
          },
          "metadata": {}
        }
      ]
    },
    {
      "cell_type": "markdown",
      "metadata": {
        "id": "JRI5bMrC3oDz"
      },
      "source": [
        "We got very low accuracy, which was expected the rest of our model is still frozen but we can see that the accuracy is increasing.\n"
      ]
    },
    {
      "cell_type": "code",
      "metadata": {
        "colab": {
          "base_uri": "https://localhost:8080/",
          "height": 363
        },
        "id": "geR1-kez3nZ9",
        "outputId": "e9c247ad-a58e-46eb-fac9-58c5191fc8d3"
      },
      "source": [
        "start=time.time()\n",
        "learn.unfreeze()\n",
        "learn.fit_one_cycle(10, 1e-2, moms=(0.8,0.7))\n",
        "end=time.time()\n",
        "total=total+(end-start)"
      ],
      "execution_count": null,
      "outputs": [
        {
          "output_type": "display_data",
          "data": {
            "text/html": [
              "<table border=\"1\" class=\"dataframe\">\n",
              "  <thead>\n",
              "    <tr style=\"text-align: left;\">\n",
              "      <th>epoch</th>\n",
              "      <th>train_loss</th>\n",
              "      <th>valid_loss</th>\n",
              "      <th>accuracy</th>\n",
              "      <th>time</th>\n",
              "    </tr>\n",
              "  </thead>\n",
              "  <tbody>\n",
              "    <tr>\n",
              "      <td>0</td>\n",
              "      <td>2.232787</td>\n",
              "      <td>3.807250</td>\n",
              "      <td>0.316406</td>\n",
              "      <td>00:01</td>\n",
              "    </tr>\n",
              "    <tr>\n",
              "      <td>1</td>\n",
              "      <td>2.210717</td>\n",
              "      <td>3.780740</td>\n",
              "      <td>0.310045</td>\n",
              "      <td>00:01</td>\n",
              "    </tr>\n",
              "    <tr>\n",
              "      <td>2</td>\n",
              "      <td>2.276111</td>\n",
              "      <td>4.443056</td>\n",
              "      <td>0.256138</td>\n",
              "      <td>00:01</td>\n",
              "    </tr>\n",
              "    <tr>\n",
              "      <td>3</td>\n",
              "      <td>2.256656</td>\n",
              "      <td>3.746145</td>\n",
              "      <td>0.334487</td>\n",
              "      <td>00:01</td>\n",
              "    </tr>\n",
              "    <tr>\n",
              "      <td>4</td>\n",
              "      <td>2.046737</td>\n",
              "      <td>3.787354</td>\n",
              "      <td>0.347210</td>\n",
              "      <td>00:01</td>\n",
              "    </tr>\n",
              "    <tr>\n",
              "      <td>5</td>\n",
              "      <td>1.827740</td>\n",
              "      <td>3.840922</td>\n",
              "      <td>0.354353</td>\n",
              "      <td>00:01</td>\n",
              "    </tr>\n",
              "    <tr>\n",
              "      <td>6</td>\n",
              "      <td>1.641983</td>\n",
              "      <td>3.802271</td>\n",
              "      <td>0.349777</td>\n",
              "      <td>00:01</td>\n",
              "    </tr>\n",
              "    <tr>\n",
              "      <td>7</td>\n",
              "      <td>1.496360</td>\n",
              "      <td>3.780251</td>\n",
              "      <td>0.361942</td>\n",
              "      <td>00:01</td>\n",
              "    </tr>\n",
              "    <tr>\n",
              "      <td>8</td>\n",
              "      <td>1.378910</td>\n",
              "      <td>3.772095</td>\n",
              "      <td>0.363504</td>\n",
              "      <td>00:01</td>\n",
              "    </tr>\n",
              "    <tr>\n",
              "      <td>9</td>\n",
              "      <td>1.282977</td>\n",
              "      <td>3.771202</td>\n",
              "      <td>0.364062</td>\n",
              "      <td>00:01</td>\n",
              "    </tr>\n",
              "  </tbody>\n",
              "</table>"
            ],
            "text/plain": [
              "<IPython.core.display.HTML object>"
            ]
          },
          "metadata": {}
        }
      ]
    },
    {
      "cell_type": "markdown",
      "metadata": {
        "id": "fBimSncC37Ss"
      },
      "source": [
        "Now we will test our model with random input & see if it’ll accurately complete the sentence."
      ]
    },
    {
      "cell_type": "code",
      "metadata": {
        "colab": {
          "base_uri": "https://localhost:8080/"
        },
        "id": "M3-yaOeb27Ha",
        "outputId": "2bfb03da-13e7-4b2a-c15a-aca8424ca56c"
      },
      "source": [
        "TEXT = \"System updates the sale line item.\"# \"The flight got delayed\"\n",
        "N_WORDS = 40\n",
        "N_SENTENCES = 2\n",
        "print(\"\\n\".join(learn.predict(TEXT, N_WORDS, temperature=0.75) for _ in range(N_SENTENCES)))\n",
        "#Save fine-tuned model for future use\n",
        "learn.save_encoder('fine_tuned_enc')"
      ],
      "execution_count": null,
      "outputs": [
        {
          "output_type": "stream",
          "name": "stdout",
          "text": [
            "System updates the sale line item. xxbos add item to inventory history at any level in the categorized inventory . xxbos if more than one card driving license number is given in the request . xxbos user selects portion of the displayed pretty printed text .\n",
            "System updates the sale line item. xxbos system displays the edit category button . xxbos user selects type of node from list . xxbos system validates customer information . xxbos after one cia administrator account and one account home page to administrator . xxbos the thermostat\n"
          ]
        }
      ]
    },
    {
      "cell_type": "markdown",
      "metadata": {
        "id": "Dwue2Vbr4J8K"
      },
      "source": [
        "Now, we’ll create a new data object that only grabs the labeled data and keeps those labels."
      ]
    },
    {
      "cell_type": "markdown",
      "metadata": {
        "id": "EG5r1P4E4uCu"
      },
      "source": [
        "The classifier needs a little less dropout, so we pass drop_mult=0.5 to multiply all the dropouts by this amount. We don’t load the pre-trained model, but instead our fine-tuned encoder from the previous section.\n"
      ]
    },
    {
      "cell_type": "code",
      "metadata": {
        "id": "r_e0As794eVg"
      },
      "source": [
        "#data_clas.vocab.itos = data_lm.vocab.itos\n",
        "learn = text_classifier_learner(data_clas, AWD_LSTM, drop_mult=0.5)\n",
        "learn.load_encoder('fine_tuned_enc')"
      ],
      "execution_count": null,
      "outputs": []
    },
    {
      "cell_type": "markdown",
      "metadata": {
        "id": "sjuNEDOe43Nh"
      },
      "source": [
        "Again we perform similar steps as Language mode. Here I am skipping the last 15 data points as I’m only interested till 1e-1."
      ]
    },
    {
      "cell_type": "code",
      "metadata": {
        "colab": {
          "base_uri": "https://localhost:8080/",
          "height": 779
        },
        "id": "VCbOZ3Joiv3j",
        "outputId": "1be81ade-3482-47c5-bb3b-428d17334f71"
      },
      "source": [
        "start=time.time()\n",
        "learn.lr_find()\n",
        "learn.recorder.plot(skip_end=15)\n",
        "end=time.time()\n",
        "total=total+(end-start)"
      ],
      "execution_count": null,
      "outputs": [
        {
          "output_type": "display_data",
          "data": {
            "text/html": [
              "\n",
              "    <div>\n",
              "        <style>\n",
              "            /* Turns off some styling */\n",
              "            progress {\n",
              "                /* gets rid of default border in Firefox and Opera. */\n",
              "                border: none;\n",
              "                /* Needs to be in here for Safari polyfill so background images work as expected. */\n",
              "                background-size: auto;\n",
              "            }\n",
              "            .progress-bar-interrupted, .progress-bar-interrupted::-webkit-progress-bar {\n",
              "                background: #F44336;\n",
              "            }\n",
              "        </style>\n",
              "      <progress value='3' class='' max='4' style='width:300px; height:20px; vertical-align: middle;'></progress>\n",
              "      75.00% [3/4 00:04<00:01]\n",
              "    </div>\n",
              "    \n",
              "<table border=\"1\" class=\"dataframe\">\n",
              "  <thead>\n",
              "    <tr style=\"text-align: left;\">\n",
              "      <th>epoch</th>\n",
              "      <th>train_loss</th>\n",
              "      <th>valid_loss</th>\n",
              "      <th>accuracy</th>\n",
              "      <th>time</th>\n",
              "    </tr>\n",
              "  </thead>\n",
              "  <tbody>\n",
              "    <tr>\n",
              "      <td>0</td>\n",
              "      <td>0.823501</td>\n",
              "      <td>#na#</td>\n",
              "      <td>00:01</td>\n",
              "    </tr>\n",
              "    <tr>\n",
              "      <td>1</td>\n",
              "      <td>0.735995</td>\n",
              "      <td>#na#</td>\n",
              "      <td>00:01</td>\n",
              "    </tr>\n",
              "    <tr>\n",
              "      <td>2</td>\n",
              "      <td>0.536110</td>\n",
              "      <td>#na#</td>\n",
              "      <td>00:01</td>\n",
              "    </tr>\n",
              "  </tbody>\n",
              "</table><p>\n",
              "\n",
              "    <div>\n",
              "        <style>\n",
              "            /* Turns off some styling */\n",
              "            progress {\n",
              "                /* gets rid of default border in Firefox and Opera. */\n",
              "                border: none;\n",
              "                /* Needs to be in here for Safari polyfill so background images work as expected. */\n",
              "                background-size: auto;\n",
              "            }\n",
              "            .progress-bar-interrupted, .progress-bar-interrupted::-webkit-progress-bar {\n",
              "                background: #F44336;\n",
              "            }\n",
              "        </style>\n",
              "      <progress value='16' class='' max='25' style='width:300px; height:20px; vertical-align: middle;'></progress>\n",
              "      64.00% [16/25 00:01<00:00 0.7837]\n",
              "    </div>\n",
              "    "
            ],
            "text/plain": [
              "<IPython.core.display.HTML object>"
            ]
          },
          "metadata": {}
        },
        {
          "output_type": "stream",
          "name": "stderr",
          "text": [
            "/usr/local/lib/python3.7/dist-packages/numpy/core/_asarray.py:83: VisibleDeprecationWarning: Creating an ndarray from ragged nested sequences (which is a list-or-tuple of lists-or-tuples-or ndarrays with different lengths or shapes) is deprecated. If you meant to do this, you must specify 'dtype=object' when creating the ndarray\n",
            "  return array(a, dtype, copy=False, order=order)\n",
            "<string>:6: VisibleDeprecationWarning: Creating an ndarray from ragged nested sequences (which is a list-or-tuple of lists-or-tuples-or ndarrays with different lengths or shapes) is deprecated. If you meant to do this, you must specify 'dtype=object' when creating the ndarray\n",
            "/usr/local/lib/python3.7/dist-packages/numpy/core/_asarray.py:83: VisibleDeprecationWarning: Creating an ndarray from ragged nested sequences (which is a list-or-tuple of lists-or-tuples-or ndarrays with different lengths or shapes) is deprecated. If you meant to do this, you must specify 'dtype=object' when creating the ndarray\n",
            "  return array(a, dtype, copy=False, order=order)\n",
            "<string>:6: VisibleDeprecationWarning: Creating an ndarray from ragged nested sequences (which is a list-or-tuple of lists-or-tuples-or ndarrays with different lengths or shapes) is deprecated. If you meant to do this, you must specify 'dtype=object' when creating the ndarray\n",
            "/usr/local/lib/python3.7/dist-packages/numpy/core/_asarray.py:83: VisibleDeprecationWarning: Creating an ndarray from ragged nested sequences (which is a list-or-tuple of lists-or-tuples-or ndarrays with different lengths or shapes) is deprecated. If you meant to do this, you must specify 'dtype=object' when creating the ndarray\n",
            "  return array(a, dtype, copy=False, order=order)\n",
            "<string>:6: VisibleDeprecationWarning: Creating an ndarray from ragged nested sequences (which is a list-or-tuple of lists-or-tuples-or ndarrays with different lengths or shapes) is deprecated. If you meant to do this, you must specify 'dtype=object' when creating the ndarray\n",
            "/usr/local/lib/python3.7/dist-packages/numpy/core/_asarray.py:83: VisibleDeprecationWarning: Creating an ndarray from ragged nested sequences (which is a list-or-tuple of lists-or-tuples-or ndarrays with different lengths or shapes) is deprecated. If you meant to do this, you must specify 'dtype=object' when creating the ndarray\n",
            "  return array(a, dtype, copy=False, order=order)\n",
            "<string>:6: VisibleDeprecationWarning: Creating an ndarray from ragged nested sequences (which is a list-or-tuple of lists-or-tuples-or ndarrays with different lengths or shapes) is deprecated. If you meant to do this, you must specify 'dtype=object' when creating the ndarray\n"
          ]
        },
        {
          "output_type": "stream",
          "name": "stdout",
          "text": [
            "LR Finder is complete, type {learner_name}.recorder.plot() to see the graph.\n"
          ]
        },
        {
          "output_type": "display_data",
          "data": {
            "image/png": "[encoded data removed]",
            "text/plain": [
              "<Figure size 576x396 with 1 Axes>"
            ]
          },
          "metadata": {}
        }
      ]
    },
    {
      "cell_type": "code",
      "metadata": {
        "colab": {
          "base_uri": "https://localhost:8080/",
          "height": 779
        },
        "id": "qwBTcx604rst",
        "outputId": "66ef77c8-b4cc-43d7-8760-9e61fb03084b"
      },
      "source": [
        "start=time.time()\n",
        "learn.lr_find()\n",
        "learn.recorder.plot(skip_end=5)\n",
        "end=time.time()\n",
        "total=total+(end-start)"
      ],
      "execution_count": null,
      "outputs": [
        {
          "output_type": "display_data",
          "data": {
            "text/html": [
              "\n",
              "    <div>\n",
              "        <style>\n",
              "            /* Turns off some styling */\n",
              "            progress {\n",
              "                /* gets rid of default border in Firefox and Opera. */\n",
              "                border: none;\n",
              "                /* Needs to be in here for Safari polyfill so background images work as expected. */\n",
              "                background-size: auto;\n",
              "            }\n",
              "            .progress-bar-interrupted, .progress-bar-interrupted::-webkit-progress-bar {\n",
              "                background: #F44336;\n",
              "            }\n",
              "        </style>\n",
              "      <progress value='3' class='' max='4' style='width:300px; height:20px; vertical-align: middle;'></progress>\n",
              "      75.00% [3/4 00:03<00:01]\n",
              "    </div>\n",
              "    \n",
              "<table border=\"1\" class=\"dataframe\">\n",
              "  <thead>\n",
              "    <tr style=\"text-align: left;\">\n",
              "      <th>epoch</th>\n",
              "      <th>train_loss</th>\n",
              "      <th>valid_loss</th>\n",
              "      <th>accuracy</th>\n",
              "      <th>time</th>\n",
              "    </tr>\n",
              "  </thead>\n",
              "  <tbody>\n",
              "    <tr>\n",
              "      <td>0</td>\n",
              "      <td>0.832994</td>\n",
              "      <td>#na#</td>\n",
              "      <td>00:01</td>\n",
              "    </tr>\n",
              "    <tr>\n",
              "      <td>1</td>\n",
              "      <td>0.727766</td>\n",
              "      <td>#na#</td>\n",
              "      <td>00:01</td>\n",
              "    </tr>\n",
              "    <tr>\n",
              "      <td>2</td>\n",
              "      <td>0.533525</td>\n",
              "      <td>#na#</td>\n",
              "      <td>00:01</td>\n",
              "    </tr>\n",
              "  </tbody>\n",
              "</table><p>\n",
              "\n",
              "    <div>\n",
              "        <style>\n",
              "            /* Turns off some styling */\n",
              "            progress {\n",
              "                /* gets rid of default border in Firefox and Opera. */\n",
              "                border: none;\n",
              "                /* Needs to be in here for Safari polyfill so background images work as expected. */\n",
              "                background-size: auto;\n",
              "            }\n",
              "            .progress-bar-interrupted, .progress-bar-interrupted::-webkit-progress-bar {\n",
              "                background: #F44336;\n",
              "            }\n",
              "        </style>\n",
              "      <progress value='19' class='' max='25' style='width:300px; height:20px; vertical-align: middle;'></progress>\n",
              "      76.00% [19/25 00:00<00:00 1.6283]\n",
              "    </div>\n",
              "    "
            ],
            "text/plain": [
              "<IPython.core.display.HTML object>"
            ]
          },
          "metadata": {}
        },
        {
          "output_type": "stream",
          "name": "stderr",
          "text": [
            "/usr/local/lib/python3.7/dist-packages/numpy/core/_asarray.py:83: VisibleDeprecationWarning: Creating an ndarray from ragged nested sequences (which is a list-or-tuple of lists-or-tuples-or ndarrays with different lengths or shapes) is deprecated. If you meant to do this, you must specify 'dtype=object' when creating the ndarray\n",
            "  return array(a, dtype, copy=False, order=order)\n",
            "<string>:6: VisibleDeprecationWarning: Creating an ndarray from ragged nested sequences (which is a list-or-tuple of lists-or-tuples-or ndarrays with different lengths or shapes) is deprecated. If you meant to do this, you must specify 'dtype=object' when creating the ndarray\n",
            "/usr/local/lib/python3.7/dist-packages/numpy/core/_asarray.py:83: VisibleDeprecationWarning: Creating an ndarray from ragged nested sequences (which is a list-or-tuple of lists-or-tuples-or ndarrays with different lengths or shapes) is deprecated. If you meant to do this, you must specify 'dtype=object' when creating the ndarray\n",
            "  return array(a, dtype, copy=False, order=order)\n",
            "<string>:6: VisibleDeprecationWarning: Creating an ndarray from ragged nested sequences (which is a list-or-tuple of lists-or-tuples-or ndarrays with different lengths or shapes) is deprecated. If you meant to do this, you must specify 'dtype=object' when creating the ndarray\n",
            "/usr/local/lib/python3.7/dist-packages/numpy/core/_asarray.py:83: VisibleDeprecationWarning: Creating an ndarray from ragged nested sequences (which is a list-or-tuple of lists-or-tuples-or ndarrays with different lengths or shapes) is deprecated. If you meant to do this, you must specify 'dtype=object' when creating the ndarray\n",
            "  return array(a, dtype, copy=False, order=order)\n",
            "<string>:6: VisibleDeprecationWarning: Creating an ndarray from ragged nested sequences (which is a list-or-tuple of lists-or-tuples-or ndarrays with different lengths or shapes) is deprecated. If you meant to do this, you must specify 'dtype=object' when creating the ndarray\n",
            "/usr/local/lib/python3.7/dist-packages/numpy/core/_asarray.py:83: VisibleDeprecationWarning: Creating an ndarray from ragged nested sequences (which is a list-or-tuple of lists-or-tuples-or ndarrays with different lengths or shapes) is deprecated. If you meant to do this, you must specify 'dtype=object' when creating the ndarray\n",
            "  return array(a, dtype, copy=False, order=order)\n",
            "<string>:6: VisibleDeprecationWarning: Creating an ndarray from ragged nested sequences (which is a list-or-tuple of lists-or-tuples-or ndarrays with different lengths or shapes) is deprecated. If you meant to do this, you must specify 'dtype=object' when creating the ndarray\n"
          ]
        },
        {
          "output_type": "stream",
          "name": "stdout",
          "text": [
            "LR Finder is complete, type {learner_name}.recorder.plot() to see the graph.\n"
          ]
        },
        {
          "output_type": "display_data",
          "data": {
            "image/png": "[encoded data removed]",
            "text/plain": [
              "<Figure size 576x396 with 1 Axes>"
            ]
          },
          "metadata": {}
        }
      ]
    },
    {
      "cell_type": "markdown",
      "metadata": {
        "id": "U5kVmS8x5ML8"
      },
      "source": [
        "learn.fit_one_cycle(4, 5e-2, moms=(0.8,0.7))"
      ]
    },
    {
      "cell_type": "code",
      "metadata": {
        "colab": {
          "base_uri": "https://localhost:8080/",
          "height": 403
        },
        "id": "f4ODxQ3lDJZ6",
        "outputId": "cb631707-d7fd-4995-8ae7-aa2cee71d5d5"
      },
      "source": [
        "start=time.time()\n",
        "learn.fit_one_cycle(4, 5e-2, moms=(0.8,0.7))\n",
        "end=time.time()\n",
        "total=total+(end-start)"
      ],
      "execution_count": null,
      "outputs": [
        {
          "output_type": "display_data",
          "data": {
            "text/html": [
              "<table border=\"1\" class=\"dataframe\">\n",
              "  <thead>\n",
              "    <tr style=\"text-align: left;\">\n",
              "      <th>epoch</th>\n",
              "      <th>train_loss</th>\n",
              "      <th>valid_loss</th>\n",
              "      <th>accuracy</th>\n",
              "      <th>time</th>\n",
              "    </tr>\n",
              "  </thead>\n",
              "  <tbody>\n",
              "    <tr>\n",
              "      <td>0</td>\n",
              "      <td>0.400187</td>\n",
              "      <td>0.440193</td>\n",
              "      <td>0.800000</td>\n",
              "      <td>00:01</td>\n",
              "    </tr>\n",
              "    <tr>\n",
              "      <td>1</td>\n",
              "      <td>0.384248</td>\n",
              "      <td>0.390399</td>\n",
              "      <td>0.811429</td>\n",
              "      <td>00:01</td>\n",
              "    </tr>\n",
              "    <tr>\n",
              "      <td>2</td>\n",
              "      <td>0.322667</td>\n",
              "      <td>0.240849</td>\n",
              "      <td>0.917143</td>\n",
              "      <td>00:01</td>\n",
              "    </tr>\n",
              "    <tr>\n",
              "      <td>3</td>\n",
              "      <td>0.283706</td>\n",
              "      <td>0.233587</td>\n",
              "      <td>0.925714</td>\n",
              "      <td>00:01</td>\n",
              "    </tr>\n",
              "  </tbody>\n",
              "</table>"
            ],
            "text/plain": [
              "<IPython.core.display.HTML object>"
            ]
          },
          "metadata": {}
        },
        {
          "output_type": "stream",
          "name": "stderr",
          "text": [
            "/usr/local/lib/python3.7/dist-packages/numpy/core/_asarray.py:83: VisibleDeprecationWarning: Creating an ndarray from ragged nested sequences (which is a list-or-tuple of lists-or-tuples-or ndarrays with different lengths or shapes) is deprecated. If you meant to do this, you must specify 'dtype=object' when creating the ndarray\n",
            "  return array(a, dtype, copy=False, order=order)\n",
            "<string>:6: VisibleDeprecationWarning: Creating an ndarray from ragged nested sequences (which is a list-or-tuple of lists-or-tuples-or ndarrays with different lengths or shapes) is deprecated. If you meant to do this, you must specify 'dtype=object' when creating the ndarray\n",
            "/usr/local/lib/python3.7/dist-packages/numpy/core/_asarray.py:83: VisibleDeprecationWarning: Creating an ndarray from ragged nested sequences (which is a list-or-tuple of lists-or-tuples-or ndarrays with different lengths or shapes) is deprecated. If you meant to do this, you must specify 'dtype=object' when creating the ndarray\n",
            "  return array(a, dtype, copy=False, order=order)\n",
            "<string>:6: VisibleDeprecationWarning: Creating an ndarray from ragged nested sequences (which is a list-or-tuple of lists-or-tuples-or ndarrays with different lengths or shapes) is deprecated. If you meant to do this, you must specify 'dtype=object' when creating the ndarray\n",
            "/usr/local/lib/python3.7/dist-packages/numpy/core/_asarray.py:83: VisibleDeprecationWarning: Creating an ndarray from ragged nested sequences (which is a list-or-tuple of lists-or-tuples-or ndarrays with different lengths or shapes) is deprecated. If you meant to do this, you must specify 'dtype=object' when creating the ndarray\n",
            "  return array(a, dtype, copy=False, order=order)\n",
            "<string>:6: VisibleDeprecationWarning: Creating an ndarray from ragged nested sequences (which is a list-or-tuple of lists-or-tuples-or ndarrays with different lengths or shapes) is deprecated. If you meant to do this, you must specify 'dtype=object' when creating the ndarray\n",
            "/usr/local/lib/python3.7/dist-packages/numpy/core/_asarray.py:83: VisibleDeprecationWarning: Creating an ndarray from ragged nested sequences (which is a list-or-tuple of lists-or-tuples-or ndarrays with different lengths or shapes) is deprecated. If you meant to do this, you must specify 'dtype=object' when creating the ndarray\n",
            "  return array(a, dtype, copy=False, order=order)\n",
            "<string>:6: VisibleDeprecationWarning: Creating an ndarray from ragged nested sequences (which is a list-or-tuple of lists-or-tuples-or ndarrays with different lengths or shapes) is deprecated. If you meant to do this, you must specify 'dtype=object' when creating the ndarray\n"
          ]
        }
      ]
    },
    {
      "cell_type": "markdown",
      "metadata": {
        "id": "-Yxj3d1N5nTe"
      },
      "source": [
        "Here we see that the accuracy has drastically improved if we compare with the Language model in step 1 when we provide labels.\n",
        "Now we will partially train the model by unfreezing one layer at a time & differential learning rate. Here I am using the slice attribute which will divide the specified learning rates among 3 groups of models."
      ]
    },
    {
      "cell_type": "code",
      "metadata": {
        "colab": {
          "base_uri": "https://localhost:8080/",
          "height": 403
        },
        "id": "Jv9WwwCW5pDP",
        "outputId": "8d988652-3705-4508-aaef-de68f71a4c14"
      },
      "source": [
        "start=time.time()\n",
        "learn.freeze_to(-2)\n",
        "learn.fit_one_cycle(4, slice(1e-3/(2.6**4), 1e-3), moms=(0.8,0.7))\n",
        "end=time.time()\n",
        "total=total+(end-start)"
      ],
      "execution_count": null,
      "outputs": [
        {
          "output_type": "display_data",
          "data": {
            "text/html": [
              "<table border=\"1\" class=\"dataframe\">\n",
              "  <thead>\n",
              "    <tr style=\"text-align: left;\">\n",
              "      <th>epoch</th>\n",
              "      <th>train_loss</th>\n",
              "      <th>valid_loss</th>\n",
              "      <th>accuracy</th>\n",
              "      <th>time</th>\n",
              "    </tr>\n",
              "  </thead>\n",
              "  <tbody>\n",
              "    <tr>\n",
              "      <td>0</td>\n",
              "      <td>0.244616</td>\n",
              "      <td>0.221511</td>\n",
              "      <td>0.928571</td>\n",
              "      <td>00:01</td>\n",
              "    </tr>\n",
              "    <tr>\n",
              "      <td>1</td>\n",
              "      <td>0.216742</td>\n",
              "      <td>0.212758</td>\n",
              "      <td>0.928571</td>\n",
              "      <td>00:01</td>\n",
              "    </tr>\n",
              "    <tr>\n",
              "      <td>2</td>\n",
              "      <td>0.196455</td>\n",
              "      <td>0.205594</td>\n",
              "      <td>0.925714</td>\n",
              "      <td>00:01</td>\n",
              "    </tr>\n",
              "    <tr>\n",
              "      <td>3</td>\n",
              "      <td>0.194286</td>\n",
              "      <td>0.206081</td>\n",
              "      <td>0.931429</td>\n",
              "      <td>00:01</td>\n",
              "    </tr>\n",
              "  </tbody>\n",
              "</table>"
            ],
            "text/plain": [
              "<IPython.core.display.HTML object>"
            ]
          },
          "metadata": {}
        },
        {
          "output_type": "stream",
          "name": "stderr",
          "text": [
            "/usr/local/lib/python3.7/dist-packages/numpy/core/_asarray.py:83: VisibleDeprecationWarning: Creating an ndarray from ragged nested sequences (which is a list-or-tuple of lists-or-tuples-or ndarrays with different lengths or shapes) is deprecated. If you meant to do this, you must specify 'dtype=object' when creating the ndarray\n",
            "  return array(a, dtype, copy=False, order=order)\n",
            "<string>:6: VisibleDeprecationWarning: Creating an ndarray from ragged nested sequences (which is a list-or-tuple of lists-or-tuples-or ndarrays with different lengths or shapes) is deprecated. If you meant to do this, you must specify 'dtype=object' when creating the ndarray\n",
            "/usr/local/lib/python3.7/dist-packages/numpy/core/_asarray.py:83: VisibleDeprecationWarning: Creating an ndarray from ragged nested sequences (which is a list-or-tuple of lists-or-tuples-or ndarrays with different lengths or shapes) is deprecated. If you meant to do this, you must specify 'dtype=object' when creating the ndarray\n",
            "  return array(a, dtype, copy=False, order=order)\n",
            "<string>:6: VisibleDeprecationWarning: Creating an ndarray from ragged nested sequences (which is a list-or-tuple of lists-or-tuples-or ndarrays with different lengths or shapes) is deprecated. If you meant to do this, you must specify 'dtype=object' when creating the ndarray\n",
            "/usr/local/lib/python3.7/dist-packages/numpy/core/_asarray.py:83: VisibleDeprecationWarning: Creating an ndarray from ragged nested sequences (which is a list-or-tuple of lists-or-tuples-or ndarrays with different lengths or shapes) is deprecated. If you meant to do this, you must specify 'dtype=object' when creating the ndarray\n",
            "  return array(a, dtype, copy=False, order=order)\n",
            "<string>:6: VisibleDeprecationWarning: Creating an ndarray from ragged nested sequences (which is a list-or-tuple of lists-or-tuples-or ndarrays with different lengths or shapes) is deprecated. If you meant to do this, you must specify 'dtype=object' when creating the ndarray\n",
            "/usr/local/lib/python3.7/dist-packages/numpy/core/_asarray.py:83: VisibleDeprecationWarning: Creating an ndarray from ragged nested sequences (which is a list-or-tuple of lists-or-tuples-or ndarrays with different lengths or shapes) is deprecated. If you meant to do this, you must specify 'dtype=object' when creating the ndarray\n",
            "  return array(a, dtype, copy=False, order=order)\n",
            "<string>:6: VisibleDeprecationWarning: Creating an ndarray from ragged nested sequences (which is a list-or-tuple of lists-or-tuples-or ndarrays with different lengths or shapes) is deprecated. If you meant to do this, you must specify 'dtype=object' when creating the ndarray\n"
          ]
        }
      ]
    },
    {
      "cell_type": "markdown",
      "metadata": {
        "id": "zVLY-RQA51mq"
      },
      "source": [
        "We see that the accuracy is improving gradually which is expected as we are gradually unfreezing the layers. More layers providing more depth."
      ]
    },
    {
      "cell_type": "code",
      "metadata": {
        "colab": {
          "base_uri": "https://localhost:8080/",
          "height": 531
        },
        "id": "lUoZlIyZ536K",
        "outputId": "edca4a28-fde8-44cc-d954-7a9e77b914c9"
      },
      "source": [
        "start=time.time()\n",
        "learn.freeze_to(-3)\n",
        "learn.fit_one_cycle(4, slice(5e-3/(2.6**4),5e-3), moms=(0.8,0.7))\n",
        "end=time.time()\n",
        "total=total+(end-start)"
      ],
      "execution_count": null,
      "outputs": [
        {
          "output_type": "display_data",
          "data": {
            "text/html": [
              "\n",
              "    <div>\n",
              "        <style>\n",
              "            /* Turns off some styling */\n",
              "            progress {\n",
              "                /* gets rid of default border in Firefox and Opera. */\n",
              "                border: none;\n",
              "                /* Needs to be in here for Safari polyfill so background images work as expected. */\n",
              "                background-size: auto;\n",
              "            }\n",
              "            .progress-bar-interrupted, .progress-bar-interrupted::-webkit-progress-bar {\n",
              "                background: #F44336;\n",
              "            }\n",
              "        </style>\n",
              "      <progress value='0' class='' max='4' style='width:300px; height:20px; vertical-align: middle;'></progress>\n",
              "      0.00% [0/4 00:00<00:00]\n",
              "    </div>\n",
              "    \n",
              "<table border=\"1\" class=\"dataframe\">\n",
              "  <thead>\n",
              "    <tr style=\"text-align: left;\">\n",
              "      <th>epoch</th>\n",
              "      <th>train_loss</th>\n",
              "      <th>valid_loss</th>\n",
              "      <th>accuracy</th>\n",
              "      <th>time</th>\n",
              "    </tr>\n",
              "  </thead>\n",
              "  <tbody>\n",
              "  </tbody>\n",
              "</table><p>\n",
              "\n",
              "    <div>\n",
              "        <style>\n",
              "            /* Turns off some styling */\n",
              "            progress {\n",
              "                /* gets rid of default border in Firefox and Opera. */\n",
              "                border: none;\n",
              "                /* Needs to be in here for Safari polyfill so background images work as expected. */\n",
              "                background-size: auto;\n",
              "            }\n",
              "            .progress-bar-interrupted, .progress-bar-interrupted::-webkit-progress-bar {\n",
              "                background: #F44336;\n",
              "            }\n",
              "        </style>\n",
              "      <progress value='11' class='' max='25' style='width:300px; height:20px; vertical-align: middle;'></progress>\n",
              "      44.00% [11/25 00:00<00:01 0.1734]\n",
              "    </div>\n",
              "    "
            ],
            "text/plain": [
              "<IPython.core.display.HTML object>"
            ]
          },
          "metadata": {}
        },
        {
          "output_type": "stream",
          "name": "stderr",
          "text": [
            "/usr/local/lib/python3.7/dist-packages/numpy/core/_asarray.py:83: VisibleDeprecationWarning: Creating an ndarray from ragged nested sequences (which is a list-or-tuple of lists-or-tuples-or ndarrays with different lengths or shapes) is deprecated. If you meant to do this, you must specify 'dtype=object' when creating the ndarray\n",
            "  return array(a, dtype, copy=False, order=order)\n",
            "<string>:6: VisibleDeprecationWarning: Creating an ndarray from ragged nested sequences (which is a list-or-tuple of lists-or-tuples-or ndarrays with different lengths or shapes) is deprecated. If you meant to do this, you must specify 'dtype=object' when creating the ndarray\n"
          ]
        },
        {
          "output_type": "error",
          "ename": "KeyboardInterrupt",
          "evalue": "ignored",
          "traceback": [
            "\u001b[0;31m---------------------------------------------------------------------------\u001b[0m",
            "\u001b[0;31mKeyboardInterrupt\u001b[0m                         Traceback (most recent call last)",
            "\u001b[0;32m<ipython-input-135-7e9263d8d723>\u001b[0m in \u001b[0;36m<module>\u001b[0;34m()\u001b[0m\n\u001b[1;32m      1\u001b[0m \u001b[0mstart\u001b[0m\u001b[0;34m=\u001b[0m\u001b[0mtime\u001b[0m\u001b[0;34m.\u001b[0m\u001b[0mtime\u001b[0m\u001b[0;34m(\u001b[0m\u001b[0;34m)\u001b[0m\u001b[0;34m\u001b[0m\u001b[0;34m\u001b[0m\u001b[0m\n\u001b[1;32m      2\u001b[0m \u001b[0mlearn\u001b[0m\u001b[0;34m.\u001b[0m\u001b[0mfreeze_to\u001b[0m\u001b[0;34m(\u001b[0m\u001b[0;34m-\u001b[0m\u001b[0;36m3\u001b[0m\u001b[0;34m)\u001b[0m\u001b[0;34m\u001b[0m\u001b[0;34m\u001b[0m\u001b[0m\n\u001b[0;32m----> 3\u001b[0;31m \u001b[0mlearn\u001b[0m\u001b[0;34m.\u001b[0m\u001b[0mfit_one_cycle\u001b[0m\u001b[0;34m(\u001b[0m\u001b[0;36m4\u001b[0m\u001b[0;34m,\u001b[0m \u001b[0mslice\u001b[0m\u001b[0;34m(\u001b[0m\u001b[0;36m5e-3\u001b[0m\u001b[0;34m/\u001b[0m\u001b[0;34m(\u001b[0m\u001b[0;36m2.6\u001b[0m\u001b[0;34m**\u001b[0m\u001b[0;36m4\u001b[0m\u001b[0;34m)\u001b[0m\u001b[0;34m,\u001b[0m\u001b[0;36m5e-3\u001b[0m\u001b[0;34m)\u001b[0m\u001b[0;34m,\u001b[0m \u001b[0mmoms\u001b[0m\u001b[0;34m=\u001b[0m\u001b[0;34m(\u001b[0m\u001b[0;36m0.8\u001b[0m\u001b[0;34m,\u001b[0m\u001b[0;36m0.7\u001b[0m\u001b[0;34m)\u001b[0m\u001b[0;34m)\u001b[0m\u001b[0;34m\u001b[0m\u001b[0;34m\u001b[0m\u001b[0m\n\u001b[0m\u001b[1;32m      4\u001b[0m \u001b[0mend\u001b[0m\u001b[0;34m=\u001b[0m\u001b[0mtime\u001b[0m\u001b[0;34m.\u001b[0m\u001b[0mtime\u001b[0m\u001b[0;34m(\u001b[0m\u001b[0;34m)\u001b[0m\u001b[0;34m\u001b[0m\u001b[0;34m\u001b[0m\u001b[0m\n\u001b[1;32m      5\u001b[0m \u001b[0mtotal\u001b[0m\u001b[0;34m=\u001b[0m\u001b[0mtotal\u001b[0m\u001b[0;34m+\u001b[0m\u001b[0;34m(\u001b[0m\u001b[0mend\u001b[0m\u001b[0;34m-\u001b[0m\u001b[0mstart\u001b[0m\u001b[0;34m)\u001b[0m\u001b[0;34m\u001b[0m\u001b[0;34m\u001b[0m\u001b[0m\n",
            "\u001b[0;32m/usr/local/lib/python3.7/dist-packages/fastai/train.py\u001b[0m in \u001b[0;36mfit_one_cycle\u001b[0;34m(learn, cyc_len, max_lr, moms, div_factor, pct_start, final_div, wd, callbacks, tot_epochs, start_epoch)\u001b[0m\n\u001b[1;32m     21\u001b[0m     callbacks.append(OneCycleScheduler(learn, max_lr, moms=moms, div_factor=div_factor, pct_start=pct_start,\n\u001b[1;32m     22\u001b[0m                                        final_div=final_div, tot_epochs=tot_epochs, start_epoch=start_epoch))\n\u001b[0;32m---> 23\u001b[0;31m     \u001b[0mlearn\u001b[0m\u001b[0;34m.\u001b[0m\u001b[0mfit\u001b[0m\u001b[0;34m(\u001b[0m\u001b[0mcyc_len\u001b[0m\u001b[0;34m,\u001b[0m \u001b[0mmax_lr\u001b[0m\u001b[0;34m,\u001b[0m \u001b[0mwd\u001b[0m\u001b[0;34m=\u001b[0m\u001b[0mwd\u001b[0m\u001b[0;34m,\u001b[0m \u001b[0mcallbacks\u001b[0m\u001b[0;34m=\u001b[0m\u001b[0mcallbacks\u001b[0m\u001b[0;34m)\u001b[0m\u001b[0;34m\u001b[0m\u001b[0;34m\u001b[0m\u001b[0m\n\u001b[0m\u001b[1;32m     24\u001b[0m \u001b[0;34m\u001b[0m\u001b[0m\n\u001b[1;32m     25\u001b[0m def fit_fc(learn:Learner, tot_epochs:int=1, lr:float=defaults.lr,  moms:Tuple[float,float]=(0.95,0.85), start_pct:float=0.72,\n",
            "\u001b[0;32m/usr/local/lib/python3.7/dist-packages/fastai/basic_train.py\u001b[0m in \u001b[0;36mfit\u001b[0;34m(self, epochs, lr, wd, callbacks)\u001b[0m\n\u001b[1;32m    198\u001b[0m         \u001b[0;32melse\u001b[0m\u001b[0;34m:\u001b[0m \u001b[0mself\u001b[0m\u001b[0;34m.\u001b[0m\u001b[0mopt\u001b[0m\u001b[0;34m.\u001b[0m\u001b[0mlr\u001b[0m\u001b[0;34m,\u001b[0m\u001b[0mself\u001b[0m\u001b[0;34m.\u001b[0m\u001b[0mopt\u001b[0m\u001b[0;34m.\u001b[0m\u001b[0mwd\u001b[0m \u001b[0;34m=\u001b[0m \u001b[0mlr\u001b[0m\u001b[0;34m,\u001b[0m\u001b[0mwd\u001b[0m\u001b[0;34m\u001b[0m\u001b[0;34m\u001b[0m\u001b[0m\n\u001b[1;32m    199\u001b[0m         \u001b[0mcallbacks\u001b[0m \u001b[0;34m=\u001b[0m \u001b[0;34m[\u001b[0m\u001b[0mcb\u001b[0m\u001b[0;34m(\u001b[0m\u001b[0mself\u001b[0m\u001b[0;34m)\u001b[0m \u001b[0;32mfor\u001b[0m \u001b[0mcb\u001b[0m \u001b[0;32min\u001b[0m \u001b[0mself\u001b[0m\u001b[0;34m.\u001b[0m\u001b[0mcallback_fns\u001b[0m \u001b[0;34m+\u001b[0m \u001b[0mlistify\u001b[0m\u001b[0;34m(\u001b[0m\u001b[0mdefaults\u001b[0m\u001b[0;34m.\u001b[0m\u001b[0mextra_callback_fns\u001b[0m\u001b[0;34m)\u001b[0m\u001b[0;34m]\u001b[0m \u001b[0;34m+\u001b[0m \u001b[0mlistify\u001b[0m\u001b[0;34m(\u001b[0m\u001b[0mcallbacks\u001b[0m\u001b[0;34m)\u001b[0m\u001b[0;34m\u001b[0m\u001b[0;34m\u001b[0m\u001b[0m\n\u001b[0;32m--> 200\u001b[0;31m         \u001b[0mfit\u001b[0m\u001b[0;34m(\u001b[0m\u001b[0mepochs\u001b[0m\u001b[0;34m,\u001b[0m \u001b[0mself\u001b[0m\u001b[0;34m,\u001b[0m \u001b[0mmetrics\u001b[0m\u001b[0;34m=\u001b[0m\u001b[0mself\u001b[0m\u001b[0;34m.\u001b[0m\u001b[0mmetrics\u001b[0m\u001b[0;34m,\u001b[0m \u001b[0mcallbacks\u001b[0m\u001b[0;34m=\u001b[0m\u001b[0mself\u001b[0m\u001b[0;34m.\u001b[0m\u001b[0mcallbacks\u001b[0m\u001b[0;34m+\u001b[0m\u001b[0mcallbacks\u001b[0m\u001b[0;34m)\u001b[0m\u001b[0;34m\u001b[0m\u001b[0;34m\u001b[0m\u001b[0m\n\u001b[0m\u001b[1;32m    201\u001b[0m \u001b[0;34m\u001b[0m\u001b[0m\n\u001b[1;32m    202\u001b[0m     \u001b[0;32mdef\u001b[0m \u001b[0mcreate_opt\u001b[0m\u001b[0;34m(\u001b[0m\u001b[0mself\u001b[0m\u001b[0;34m,\u001b[0m \u001b[0mlr\u001b[0m\u001b[0;34m:\u001b[0m\u001b[0mFloats\u001b[0m\u001b[0;34m,\u001b[0m \u001b[0mwd\u001b[0m\u001b[0;34m:\u001b[0m\u001b[0mFloats\u001b[0m\u001b[0;34m=\u001b[0m\u001b[0;36m0.\u001b[0m\u001b[0;34m)\u001b[0m\u001b[0;34m->\u001b[0m\u001b[0;32mNone\u001b[0m\u001b[0;34m:\u001b[0m\u001b[0;34m\u001b[0m\u001b[0;34m\u001b[0m\u001b[0m\n",
            "\u001b[0;32m/usr/local/lib/python3.7/dist-packages/fastai/basic_train.py\u001b[0m in \u001b[0;36mfit\u001b[0;34m(epochs, learn, callbacks, metrics)\u001b[0m\n\u001b[1;32m     99\u001b[0m             \u001b[0;32mfor\u001b[0m \u001b[0mxb\u001b[0m\u001b[0;34m,\u001b[0m\u001b[0myb\u001b[0m \u001b[0;32min\u001b[0m \u001b[0mprogress_bar\u001b[0m\u001b[0;34m(\u001b[0m\u001b[0mlearn\u001b[0m\u001b[0;34m.\u001b[0m\u001b[0mdata\u001b[0m\u001b[0;34m.\u001b[0m\u001b[0mtrain_dl\u001b[0m\u001b[0;34m,\u001b[0m \u001b[0mparent\u001b[0m\u001b[0;34m=\u001b[0m\u001b[0mpbar\u001b[0m\u001b[0;34m)\u001b[0m\u001b[0;34m:\u001b[0m\u001b[0;34m\u001b[0m\u001b[0;34m\u001b[0m\u001b[0m\n\u001b[1;32m    100\u001b[0m                 \u001b[0mxb\u001b[0m\u001b[0;34m,\u001b[0m \u001b[0myb\u001b[0m \u001b[0;34m=\u001b[0m \u001b[0mcb_handler\u001b[0m\u001b[0;34m.\u001b[0m\u001b[0mon_batch_begin\u001b[0m\u001b[0;34m(\u001b[0m\u001b[0mxb\u001b[0m\u001b[0;34m,\u001b[0m \u001b[0myb\u001b[0m\u001b[0;34m)\u001b[0m\u001b[0;34m\u001b[0m\u001b[0;34m\u001b[0m\u001b[0m\n\u001b[0;32m--> 101\u001b[0;31m                 \u001b[0mloss\u001b[0m \u001b[0;34m=\u001b[0m \u001b[0mloss_batch\u001b[0m\u001b[0;34m(\u001b[0m\u001b[0mlearn\u001b[0m\u001b[0;34m.\u001b[0m\u001b[0mmodel\u001b[0m\u001b[0;34m,\u001b[0m \u001b[0mxb\u001b[0m\u001b[0;34m,\u001b[0m \u001b[0myb\u001b[0m\u001b[0;34m,\u001b[0m \u001b[0mlearn\u001b[0m\u001b[0;34m.\u001b[0m\u001b[0mloss_func\u001b[0m\u001b[0;34m,\u001b[0m \u001b[0mlearn\u001b[0m\u001b[0;34m.\u001b[0m\u001b[0mopt\u001b[0m\u001b[0;34m,\u001b[0m \u001b[0mcb_handler\u001b[0m\u001b[0;34m)\u001b[0m\u001b[0;34m\u001b[0m\u001b[0;34m\u001b[0m\u001b[0m\n\u001b[0m\u001b[1;32m    102\u001b[0m                 \u001b[0;32mif\u001b[0m \u001b[0mcb_handler\u001b[0m\u001b[0;34m.\u001b[0m\u001b[0mon_batch_end\u001b[0m\u001b[0;34m(\u001b[0m\u001b[0mloss\u001b[0m\u001b[0;34m)\u001b[0m\u001b[0;34m:\u001b[0m \u001b[0;32mbreak\u001b[0m\u001b[0;34m\u001b[0m\u001b[0;34m\u001b[0m\u001b[0m\n\u001b[1;32m    103\u001b[0m \u001b[0;34m\u001b[0m\u001b[0m\n",
            "\u001b[0;32m/usr/local/lib/python3.7/dist-packages/fastai/basic_train.py\u001b[0m in \u001b[0;36mloss_batch\u001b[0;34m(model, xb, yb, loss_func, opt, cb_handler)\u001b[0m\n\u001b[1;32m     31\u001b[0m \u001b[0;34m\u001b[0m\u001b[0m\n\u001b[1;32m     32\u001b[0m     \u001b[0;32mif\u001b[0m \u001b[0mopt\u001b[0m \u001b[0;32mis\u001b[0m \u001b[0;32mnot\u001b[0m \u001b[0;32mNone\u001b[0m\u001b[0;34m:\u001b[0m\u001b[0;34m\u001b[0m\u001b[0;34m\u001b[0m\u001b[0m\n\u001b[0;32m---> 33\u001b[0;31m         \u001b[0mloss\u001b[0m\u001b[0;34m,\u001b[0m\u001b[0mskip_bwd\u001b[0m \u001b[0;34m=\u001b[0m \u001b[0mcb_handler\u001b[0m\u001b[0;34m.\u001b[0m\u001b[0mon_backward_begin\u001b[0m\u001b[0;34m(\u001b[0m\u001b[0mloss\u001b[0m\u001b[0;34m)\u001b[0m\u001b[0;34m\u001b[0m\u001b[0;34m\u001b[0m\u001b[0m\n\u001b[0m\u001b[1;32m     34\u001b[0m         \u001b[0;32mif\u001b[0m \u001b[0;32mnot\u001b[0m \u001b[0mskip_bwd\u001b[0m\u001b[0;34m:\u001b[0m                     \u001b[0mloss\u001b[0m\u001b[0;34m.\u001b[0m\u001b[0mbackward\u001b[0m\u001b[0;34m(\u001b[0m\u001b[0;34m)\u001b[0m\u001b[0;34m\u001b[0m\u001b[0;34m\u001b[0m\u001b[0m\n\u001b[1;32m     35\u001b[0m         \u001b[0;32mif\u001b[0m \u001b[0;32mnot\u001b[0m \u001b[0mcb_handler\u001b[0m\u001b[0;34m.\u001b[0m\u001b[0mon_backward_end\u001b[0m\u001b[0;34m(\u001b[0m\u001b[0;34m)\u001b[0m\u001b[0;34m:\u001b[0m \u001b[0mopt\u001b[0m\u001b[0;34m.\u001b[0m\u001b[0mstep\u001b[0m\u001b[0;34m(\u001b[0m\u001b[0;34m)\u001b[0m\u001b[0;34m\u001b[0m\u001b[0;34m\u001b[0m\u001b[0m\n",
            "\u001b[0;32m/usr/local/lib/python3.7/dist-packages/fastai/callback.py\u001b[0m in \u001b[0;36mon_backward_begin\u001b[0;34m(self, loss)\u001b[0m\n\u001b[1;32m    288\u001b[0m     \u001b[0;32mdef\u001b[0m \u001b[0mon_backward_begin\u001b[0m\u001b[0;34m(\u001b[0m\u001b[0mself\u001b[0m\u001b[0;34m,\u001b[0m \u001b[0mloss\u001b[0m\u001b[0;34m:\u001b[0m\u001b[0mTensor\u001b[0m\u001b[0;34m)\u001b[0m\u001b[0;34m->\u001b[0m\u001b[0mTuple\u001b[0m\u001b[0;34m[\u001b[0m\u001b[0mAny\u001b[0m\u001b[0;34m,\u001b[0m\u001b[0mAny\u001b[0m\u001b[0;34m]\u001b[0m\u001b[0;34m:\u001b[0m\u001b[0;34m\u001b[0m\u001b[0;34m\u001b[0m\u001b[0m\n\u001b[1;32m    289\u001b[0m         \u001b[0;34m\"Handle gradient calculation on `loss`.\"\u001b[0m\u001b[0;34m\u001b[0m\u001b[0;34m\u001b[0m\u001b[0m\n\u001b[0;32m--> 290\u001b[0;31m         \u001b[0mself\u001b[0m\u001b[0;34m.\u001b[0m\u001b[0msmoothener\u001b[0m\u001b[0;34m.\u001b[0m\u001b[0madd_value\u001b[0m\u001b[0;34m(\u001b[0m\u001b[0mloss\u001b[0m\u001b[0;34m.\u001b[0m\u001b[0mfloat\u001b[0m\u001b[0;34m(\u001b[0m\u001b[0;34m)\u001b[0m\u001b[0;34m.\u001b[0m\u001b[0mdetach\u001b[0m\u001b[0;34m(\u001b[0m\u001b[0;34m)\u001b[0m\u001b[0;34m.\u001b[0m\u001b[0mcpu\u001b[0m\u001b[0;34m(\u001b[0m\u001b[0;34m)\u001b[0m\u001b[0;34m)\u001b[0m\u001b[0;34m\u001b[0m\u001b[0;34m\u001b[0m\u001b[0m\n\u001b[0m\u001b[1;32m    291\u001b[0m         \u001b[0mself\u001b[0m\u001b[0;34m.\u001b[0m\u001b[0mstate_dict\u001b[0m\u001b[0;34m[\u001b[0m\u001b[0;34m'last_loss'\u001b[0m\u001b[0;34m]\u001b[0m\u001b[0;34m,\u001b[0m \u001b[0mself\u001b[0m\u001b[0;34m.\u001b[0m\u001b[0mstate_dict\u001b[0m\u001b[0;34m[\u001b[0m\u001b[0;34m'smooth_loss'\u001b[0m\u001b[0;34m]\u001b[0m \u001b[0;34m=\u001b[0m \u001b[0mloss\u001b[0m\u001b[0;34m,\u001b[0m \u001b[0mself\u001b[0m\u001b[0;34m.\u001b[0m\u001b[0msmoothener\u001b[0m\u001b[0;34m.\u001b[0m\u001b[0msmooth\u001b[0m\u001b[0;34m\u001b[0m\u001b[0;34m\u001b[0m\u001b[0m\n\u001b[1;32m    292\u001b[0m         \u001b[0mself\u001b[0m\u001b[0;34m(\u001b[0m\u001b[0;34m'backward_begin'\u001b[0m\u001b[0;34m,\u001b[0m \u001b[0mcall_mets\u001b[0m\u001b[0;34m=\u001b[0m\u001b[0;32mFalse\u001b[0m\u001b[0;34m)\u001b[0m\u001b[0;34m\u001b[0m\u001b[0;34m\u001b[0m\u001b[0m\n",
            "\u001b[0;31mKeyboardInterrupt\u001b[0m: "
          ]
        }
      ]
    },
    {
      "cell_type": "markdown",
      "metadata": {
        "id": "PtggGJBr6DSu"
      },
      "source": [
        "Finally, we will unfreeze the whole model & visualize the learning rate to choose & use that for final training."
      ]
    },
    {
      "cell_type": "code",
      "metadata": {
        "colab": {
          "base_uri": "https://localhost:8080/",
          "height": 779
        },
        "id": "1Gg4LOTo59g4",
        "outputId": "7b84f1e0-f4b0-44b6-8b35-baa417148f97"
      },
      "source": [
        "start=time.time()\n",
        "learn.unfreeze()\n",
        "learn.lr_find()\n",
        "end=time.time()\n",
        "total=total+(end-start)\n",
        "learn.recorder.plot(skip_end=15)"
      ],
      "execution_count": null,
      "outputs": [
        {
          "output_type": "display_data",
          "data": {
            "text/html": [
              "\n",
              "    <div>\n",
              "        <style>\n",
              "            /* Turns off some styling */\n",
              "            progress {\n",
              "                /* gets rid of default border in Firefox and Opera. */\n",
              "                border: none;\n",
              "                /* Needs to be in here for Safari polyfill so background images work as expected. */\n",
              "                background-size: auto;\n",
              "            }\n",
              "            .progress-bar-interrupted, .progress-bar-interrupted::-webkit-progress-bar {\n",
              "                background: #F44336;\n",
              "            }\n",
              "        </style>\n",
              "      <progress value='3' class='' max='4' style='width:300px; height:20px; vertical-align: middle;'></progress>\n",
              "      75.00% [3/4 00:07<00:02]\n",
              "    </div>\n",
              "    \n",
              "<table border=\"1\" class=\"dataframe\">\n",
              "  <thead>\n",
              "    <tr style=\"text-align: left;\">\n",
              "      <th>epoch</th>\n",
              "      <th>train_loss</th>\n",
              "      <th>valid_loss</th>\n",
              "      <th>accuracy</th>\n",
              "      <th>time</th>\n",
              "    </tr>\n",
              "  </thead>\n",
              "  <tbody>\n",
              "    <tr>\n",
              "      <td>0</td>\n",
              "      <td>0.180268</td>\n",
              "      <td>#na#</td>\n",
              "      <td>00:02</td>\n",
              "    </tr>\n",
              "    <tr>\n",
              "      <td>1</td>\n",
              "      <td>0.184237</td>\n",
              "      <td>#na#</td>\n",
              "      <td>00:02</td>\n",
              "    </tr>\n",
              "    <tr>\n",
              "      <td>2</td>\n",
              "      <td>0.250870</td>\n",
              "      <td>#na#</td>\n",
              "      <td>00:02</td>\n",
              "    </tr>\n",
              "  </tbody>\n",
              "</table><p>\n",
              "\n",
              "    <div>\n",
              "        <style>\n",
              "            /* Turns off some styling */\n",
              "            progress {\n",
              "                /* gets rid of default border in Firefox and Opera. */\n",
              "                border: none;\n",
              "                /* Needs to be in here for Safari polyfill so background images work as expected. */\n",
              "                background-size: auto;\n",
              "            }\n",
              "            .progress-bar-interrupted, .progress-bar-interrupted::-webkit-progress-bar {\n",
              "                background: #F44336;\n",
              "            }\n",
              "        </style>\n",
              "      <progress value='14' class='' max='25' style='width:300px; height:20px; vertical-align: middle;'></progress>\n",
              "      56.00% [14/25 00:01<00:01 0.5352]\n",
              "    </div>\n",
              "    "
            ],
            "text/plain": [
              "<IPython.core.display.HTML object>"
            ]
          },
          "metadata": {}
        },
        {
          "output_type": "stream",
          "name": "stderr",
          "text": [
            "/usr/local/lib/python3.7/dist-packages/numpy/core/_asarray.py:83: VisibleDeprecationWarning: Creating an ndarray from ragged nested sequences (which is a list-or-tuple of lists-or-tuples-or ndarrays with different lengths or shapes) is deprecated. If you meant to do this, you must specify 'dtype=object' when creating the ndarray\n",
            "  return array(a, dtype, copy=False, order=order)\n",
            "<string>:6: VisibleDeprecationWarning: Creating an ndarray from ragged nested sequences (which is a list-or-tuple of lists-or-tuples-or ndarrays with different lengths or shapes) is deprecated. If you meant to do this, you must specify 'dtype=object' when creating the ndarray\n",
            "/usr/local/lib/python3.7/dist-packages/numpy/core/_asarray.py:83: VisibleDeprecationWarning: Creating an ndarray from ragged nested sequences (which is a list-or-tuple of lists-or-tuples-or ndarrays with different lengths or shapes) is deprecated. If you meant to do this, you must specify 'dtype=object' when creating the ndarray\n",
            "  return array(a, dtype, copy=False, order=order)\n",
            "<string>:6: VisibleDeprecationWarning: Creating an ndarray from ragged nested sequences (which is a list-or-tuple of lists-or-tuples-or ndarrays with different lengths or shapes) is deprecated. If you meant to do this, you must specify 'dtype=object' when creating the ndarray\n",
            "/usr/local/lib/python3.7/dist-packages/numpy/core/_asarray.py:83: VisibleDeprecationWarning: Creating an ndarray from ragged nested sequences (which is a list-or-tuple of lists-or-tuples-or ndarrays with different lengths or shapes) is deprecated. If you meant to do this, you must specify 'dtype=object' when creating the ndarray\n",
            "  return array(a, dtype, copy=False, order=order)\n",
            "<string>:6: VisibleDeprecationWarning: Creating an ndarray from ragged nested sequences (which is a list-or-tuple of lists-or-tuples-or ndarrays with different lengths or shapes) is deprecated. If you meant to do this, you must specify 'dtype=object' when creating the ndarray\n",
            "/usr/local/lib/python3.7/dist-packages/numpy/core/_asarray.py:83: VisibleDeprecationWarning: Creating an ndarray from ragged nested sequences (which is a list-or-tuple of lists-or-tuples-or ndarrays with different lengths or shapes) is deprecated. If you meant to do this, you must specify 'dtype=object' when creating the ndarray\n",
            "  return array(a, dtype, copy=False, order=order)\n",
            "<string>:6: VisibleDeprecationWarning: Creating an ndarray from ragged nested sequences (which is a list-or-tuple of lists-or-tuples-or ndarrays with different lengths or shapes) is deprecated. If you meant to do this, you must specify 'dtype=object' when creating the ndarray\n"
          ]
        },
        {
          "output_type": "stream",
          "name": "stdout",
          "text": [
            "LR Finder is complete, type {learner_name}.recorder.plot() to see the graph.\n"
          ]
        },
        {
          "output_type": "display_data",
          "data": {
            "image/png": "[encoded data removed]",
            "text/plain": [
              "<Figure size 576x396 with 1 Axes>"
            ]
          },
          "metadata": {}
        }
      ]
    },
    {
      "cell_type": "code",
      "metadata": {
        "colab": {
          "base_uri": "https://localhost:8080/",
          "height": 487
        },
        "id": "YJlVRRCL6MFT",
        "outputId": "a2aef386-e21d-4405-d058-a64c2e0a5432"
      },
      "source": [
        "start=time.time()\n",
        "learn.fit_one_cycle(5, slice(1e-3/(2.6**4),1e-3), moms=(0.8,0.7))\n",
        "end=time.time()\n",
        "total=total+(end-start)\n",
        "learn.save('fwd_clas')"
      ],
      "execution_count": null,
      "outputs": [
        {
          "output_type": "display_data",
          "data": {
            "text/html": [
              "<table border=\"1\" class=\"dataframe\">\n",
              "  <thead>\n",
              "    <tr style=\"text-align: left;\">\n",
              "      <th>epoch</th>\n",
              "      <th>train_loss</th>\n",
              "      <th>valid_loss</th>\n",
              "      <th>accuracy</th>\n",
              "      <th>time</th>\n",
              "    </tr>\n",
              "  </thead>\n",
              "  <tbody>\n",
              "    <tr>\n",
              "      <td>0</td>\n",
              "      <td>0.158370</td>\n",
              "      <td>0.195070</td>\n",
              "      <td>0.934286</td>\n",
              "      <td>00:03</td>\n",
              "    </tr>\n",
              "    <tr>\n",
              "      <td>1</td>\n",
              "      <td>0.157379</td>\n",
              "      <td>0.171378</td>\n",
              "      <td>0.942857</td>\n",
              "      <td>00:02</td>\n",
              "    </tr>\n",
              "    <tr>\n",
              "      <td>2</td>\n",
              "      <td>0.155664</td>\n",
              "      <td>0.183766</td>\n",
              "      <td>0.948571</td>\n",
              "      <td>00:03</td>\n",
              "    </tr>\n",
              "    <tr>\n",
              "      <td>3</td>\n",
              "      <td>0.134366</td>\n",
              "      <td>0.182075</td>\n",
              "      <td>0.951429</td>\n",
              "      <td>00:02</td>\n",
              "    </tr>\n",
              "    <tr>\n",
              "      <td>4</td>\n",
              "      <td>0.123813</td>\n",
              "      <td>0.174520</td>\n",
              "      <td>0.945714</td>\n",
              "      <td>00:03</td>\n",
              "    </tr>\n",
              "  </tbody>\n",
              "</table>"
            ],
            "text/plain": [
              "<IPython.core.display.HTML object>"
            ]
          },
          "metadata": {}
        },
        {
          "output_type": "stream",
          "name": "stderr",
          "text": [
            "/usr/local/lib/python3.7/dist-packages/numpy/core/_asarray.py:83: VisibleDeprecationWarning: Creating an ndarray from ragged nested sequences (which is a list-or-tuple of lists-or-tuples-or ndarrays with different lengths or shapes) is deprecated. If you meant to do this, you must specify 'dtype=object' when creating the ndarray\n",
            "  return array(a, dtype, copy=False, order=order)\n",
            "<string>:6: VisibleDeprecationWarning: Creating an ndarray from ragged nested sequences (which is a list-or-tuple of lists-or-tuples-or ndarrays with different lengths or shapes) is deprecated. If you meant to do this, you must specify 'dtype=object' when creating the ndarray\n",
            "/usr/local/lib/python3.7/dist-packages/numpy/core/_asarray.py:83: VisibleDeprecationWarning: Creating an ndarray from ragged nested sequences (which is a list-or-tuple of lists-or-tuples-or ndarrays with different lengths or shapes) is deprecated. If you meant to do this, you must specify 'dtype=object' when creating the ndarray\n",
            "  return array(a, dtype, copy=False, order=order)\n",
            "<string>:6: VisibleDeprecationWarning: Creating an ndarray from ragged nested sequences (which is a list-or-tuple of lists-or-tuples-or ndarrays with different lengths or shapes) is deprecated. If you meant to do this, you must specify 'dtype=object' when creating the ndarray\n",
            "/usr/local/lib/python3.7/dist-packages/numpy/core/_asarray.py:83: VisibleDeprecationWarning: Creating an ndarray from ragged nested sequences (which is a list-or-tuple of lists-or-tuples-or ndarrays with different lengths or shapes) is deprecated. If you meant to do this, you must specify 'dtype=object' when creating the ndarray\n",
            "  return array(a, dtype, copy=False, order=order)\n",
            "<string>:6: VisibleDeprecationWarning: Creating an ndarray from ragged nested sequences (which is a list-or-tuple of lists-or-tuples-or ndarrays with different lengths or shapes) is deprecated. If you meant to do this, you must specify 'dtype=object' when creating the ndarray\n",
            "/usr/local/lib/python3.7/dist-packages/numpy/core/_asarray.py:83: VisibleDeprecationWarning: Creating an ndarray from ragged nested sequences (which is a list-or-tuple of lists-or-tuples-or ndarrays with different lengths or shapes) is deprecated. If you meant to do this, you must specify 'dtype=object' when creating the ndarray\n",
            "  return array(a, dtype, copy=False, order=order)\n",
            "<string>:6: VisibleDeprecationWarning: Creating an ndarray from ragged nested sequences (which is a list-or-tuple of lists-or-tuples-or ndarrays with different lengths or shapes) is deprecated. If you meant to do this, you must specify 'dtype=object' when creating the ndarray\n",
            "/usr/local/lib/python3.7/dist-packages/numpy/core/_asarray.py:83: VisibleDeprecationWarning: Creating an ndarray from ragged nested sequences (which is a list-or-tuple of lists-or-tuples-or ndarrays with different lengths or shapes) is deprecated. If you meant to do this, you must specify 'dtype=object' when creating the ndarray\n",
            "  return array(a, dtype, copy=False, order=order)\n",
            "<string>:6: VisibleDeprecationWarning: Creating an ndarray from ragged nested sequences (which is a list-or-tuple of lists-or-tuples-or ndarrays with different lengths or shapes) is deprecated. If you meant to do this, you must specify 'dtype=object' when creating the ndarray\n"
          ]
        }
      ]
    },
    {
      "cell_type": "markdown",
      "metadata": {
        "id": "OhXorA-A64yr"
      },
      "source": [
        "We see that we have achieved maximum accuracy of 93% by the end of this model."
      ]
    },
    {
      "cell_type": "markdown",
      "metadata": {
        "id": "c62DaG2V7BQd"
      },
      "source": [
        "For our final results, we’ll take the average of the predictions of the model. Since the samples are sorted by text lengths for batching, we pass the argument ordered=True to get the predictions in the order of the texts."
      ]
    },
    {
      "cell_type": "code",
      "source": [
        "print(\"Total time for ULMFiT:\"+str(total))"
      ],
      "metadata": {
        "colab": {
          "base_uri": "https://localhost:8080/"
        },
        "id": "riLpUb6xv8oT",
        "outputId": "6989c499-8161-4c41-fcc9-e65daa8a0de1"
      },
      "execution_count": null,
      "outputs": [
        {
          "output_type": "stream",
          "name": "stdout",
          "text": [
            "Total time for ULMFiT:73.86179089546204\n"
          ]
        }
      ]
    },
    {
      "cell_type": "code",
      "metadata": {
        "colab": {
          "base_uri": "https://localhost:8080/",
          "height": 35
        },
        "id": "2XloR4QG64Rr",
        "outputId": "6111717d-a48f-476c-f85f-604efc399f47"
      },
      "source": [
        "pred_fwd,lbl_fwd = learn.get_preds(ordered=True)\n",
        "accuracy(pred_fwd, lbl_fwd)"
      ],
      "execution_count": null,
      "outputs": [
        {
          "output_type": "display_data",
          "data": {
            "text/html": [
              ""
            ],
            "text/plain": [
              "<IPython.core.display.HTML object>"
            ]
          },
          "metadata": {}
        },
        {
          "output_type": "execute_result",
          "data": {
            "text/plain": [
              "tensor(0.9457)"
            ]
          },
          "metadata": {},
          "execution_count": 139
        }
      ]
    },
    {
      "cell_type": "code",
      "metadata": {
        "colab": {
          "base_uri": "https://localhost:8080/"
        },
        "id": "93ha1_ku8jXu",
        "outputId": "8bcadd85-46fb-4bb5-d027-901c350c502f"
      },
      "source": [
        "print(np.argmax(pred_fwd[0]))"
      ],
      "execution_count": null,
      "outputs": [
        {
          "output_type": "stream",
          "name": "stdout",
          "text": [
            "tensor(1)\n"
          ]
        }
      ]
    },
    {
      "cell_type": "code",
      "metadata": {
        "colab": {
          "base_uri": "https://localhost:8080/",
          "height": 143
        },
        "id": "5wi8qoDwoXJu",
        "outputId": "c3f9b7a4-c6a5-491e-99b1-7a3fa432629f"
      },
      "source": [
        "predictions = np.argmax(pred_fwd, axis = 1)\n",
        "pd.crosstab(predictions, lbl_fwd)"
      ],
      "execution_count": null,
      "outputs": [
        {
          "output_type": "execute_result",
          "data": {
            "text/html": [
              "\n",
              "  <div id=\"df-6c02974e-aa16-48ae-a144-bae8d93c6f16\">\n",
              "    <div class=\"colab-df-container\">\n",
              "      <div>\n",
              "<style scoped>\n",
              "    .dataframe tbody tr th:only-of-type {\n",
              "        vertical-align: middle;\n",
              "    }\n",
              "\n",
              "    .dataframe tbody tr th {\n",
              "        vertical-align: top;\n",
              "    }\n",
              "\n",
              "    .dataframe thead th {\n",
              "        text-align: right;\n",
              "    }\n",
              "</style>\n",
              "<table border=\"1\" class=\"dataframe\">\n",
              "  <thead>\n",
              "    <tr style=\"text-align: right;\">\n",
              "      <th>col_0</th>\n",
              "      <th>0</th>\n",
              "      <th>1</th>\n",
              "    </tr>\n",
              "    <tr>\n",
              "      <th>row_0</th>\n",
              "      <th></th>\n",
              "      <th></th>\n",
              "    </tr>\n",
              "  </thead>\n",
              "  <tbody>\n",
              "    <tr>\n",
              "      <th>0</th>\n",
              "      <td>168</td>\n",
              "      <td>12</td>\n",
              "    </tr>\n",
              "    <tr>\n",
              "      <th>1</th>\n",
              "      <td>7</td>\n",
              "      <td>163</td>\n",
              "    </tr>\n",
              "  </tbody>\n",
              "</table>\n",
              "</div>\n",
              "      <button class=\"colab-df-convert\" onclick=\"convertToInteractive('df-6c02974e-aa16-48ae-a144-bae8d93c6f16')\"\n",
              "              title=\"Convert this dataframe to an interactive table.\"\n",
              "              style=\"display:none;\">\n",
              "        \n",
              "  <svg xmlns=\"http://www.w3.org/2000/svg\" height=\"24px\"viewBox=\"0 0 24 24\"\n",
              "       width=\"24px\">\n",
              "    <path d=\"M0 0h24v24H0V0z\" fill=\"none\"/>\n",
              "    <path d=\"M18.56 5.44l.94 2.06.94-2.06 2.06-.94-2.06-.94-.94-2.06-.94 2.06-2.06.94zm-11 1L8.5 8.5l.94-2.06 2.06-.94-2.06-.94L8.5 2.5l-.94 2.06-2.06.94zm10 10l.94 2.06.94-2.06 2.06-.94-2.06-.94-.94-2.06-.94 2.06-2.06.94z\"/><path d=\"M17.41 7.96l-1.37-1.37c-.4-.4-.92-.59-1.43-.59-.52 0-1.04.2-1.43.59L10.3 9.45l-7.72 7.72c-.78.78-.78 2.05 0 2.83L4 21.41c.39.39.9.59 1.41.59.51 0 1.02-.2 1.41-.59l7.78-7.78 2.81-2.81c.8-.78.8-2.07 0-2.86zM5.41 20L4 18.59l7.72-7.72 1.47 1.35L5.41 20z\"/>\n",
              "  </svg>\n",
              "      </button>\n",
              "      \n",
              "  <style>\n",
              "    .colab-df-container {\n",
              "      display:flex;\n",
              "      flex-wrap:wrap;\n",
              "      gap: 12px;\n",
              "    }\n",
              "\n",
              "    .colab-df-convert {\n",
              "      background-color: #E8F0FE;\n",
              "      border: none;\n",
              "      border-radius: 50%;\n",
              "      cursor: pointer;\n",
              "      display: none;\n",
              "      fill: #1967D2;\n",
              "      height: 32px;\n",
              "      padding: 0 0 0 0;\n",
              "      width: 32px;\n",
              "    }\n",
              "\n",
              "    .colab-df-convert:hover {\n",
              "      background-color: #E2EBFA;\n",
              "      box-shadow: 0px 1px 2px rgba(60, 64, 67, 0.3), 0px 1px 3px 1px rgba(60, 64, 67, 0.15);\n",
              "      fill: #174EA6;\n",
              "    }\n",
              "\n",
              "    [theme=dark] .colab-df-convert {\n",
              "      background-color: #3B4455;\n",
              "      fill: #D2E3FC;\n",
              "    }\n",
              "\n",
              "    [theme=dark] .colab-df-convert:hover {\n",
              "      background-color: #434B5C;\n",
              "      box-shadow: 0px 1px 3px 1px rgba(0, 0, 0, 0.15);\n",
              "      filter: drop-shadow(0px 1px 2px rgba(0, 0, 0, 0.3));\n",
              "      fill: #FFFFFF;\n",
              "    }\n",
              "  </style>\n",
              "\n",
              "      <script>\n",
              "        const buttonEl =\n",
              "          document.querySelector('#df-6c02974e-aa16-48ae-a144-bae8d93c6f16 button.colab-df-convert');\n",
              "        buttonEl.style.display =\n",
              "          google.colab.kernel.accessAllowed ? 'block' : 'none';\n",
              "\n",
              "        async function convertToInteractive(key) {\n",
              "          const element = document.querySelector('#df-6c02974e-aa16-48ae-a144-bae8d93c6f16');\n",
              "          const dataTable =\n",
              "            await google.colab.kernel.invokeFunction('convertToInteractive',\n",
              "                                                     [key], {});\n",
              "          if (!dataTable) return;\n",
              "\n",
              "          const docLinkHtml = 'Like what you see? Visit the ' +\n",
              "            '<a target=\"_blank\" href=https://colab.research.google.com/notebooks/data_table.ipynb>data table notebook</a>'\n",
              "            + ' to learn more about interactive tables.';\n",
              "          element.innerHTML = '';\n",
              "          dataTable['output_type'] = 'display_data';\n",
              "          await google.colab.output.renderOutput(dataTable, element);\n",
              "          const docLink = document.createElement('div');\n",
              "          docLink.innerHTML = docLinkHtml;\n",
              "          element.appendChild(docLink);\n",
              "        }\n",
              "      </script>\n",
              "    </div>\n",
              "  </div>\n",
              "  "
            ],
            "text/plain": [
              "col_0    0    1\n",
              "row_0          \n",
              "0      168   12\n",
              "1        7  163"
            ]
          },
          "metadata": {},
          "execution_count": 140
        }
      ]
    },
    {
      "cell_type": "code",
      "metadata": {
        "colab": {
          "base_uri": "https://localhost:8080/"
        },
        "id": "3-tRigpuDS30",
        "outputId": "fc55cb53-3e4d-471a-b0fa-ec342d481fb9"
      },
      "source": [
        "from sklearn.metrics import classification_report\n",
        "# model's performance\n",
        "#preds = np.argmax(preds, axis = 1)\n",
        "print(classification_report(lbl_fwd, predictions))"
      ],
      "execution_count": null,
      "outputs": [
        {
          "output_type": "stream",
          "name": "stdout",
          "text": [
            "              precision    recall  f1-score   support\n",
            "\n",
            "           0       0.93      0.96      0.95       175\n",
            "           1       0.96      0.93      0.94       175\n",
            "\n",
            "    accuracy                           0.95       350\n",
            "   macro avg       0.95      0.95      0.95       350\n",
            "weighted avg       0.95      0.95      0.95       350\n",
            "\n"
          ]
        }
      ]
    },
    {
      "cell_type": "markdown",
      "source": [
        "#Error Analysis\n"
      ],
      "metadata": {
        "id": "BTgGQESPs6eA"
      }
    },
    {
      "cell_type": "code",
      "metadata": {
        "id": "ECFCS4gUYsjj"
      },
      "source": [
        "misclassified = [i for i in range(len(predictions)) if predictions[i] != lbl_fwd[i]]"
      ],
      "execution_count": null,
      "outputs": []
    },
    {
      "cell_type": "code",
      "metadata": {
        "id": "pvlD75tlYsjn"
      },
      "source": [
        "t=df_val.to_numpy()\n"
      ],
      "execution_count": null,
      "outputs": []
    },
    {
      "cell_type": "code",
      "source": [
        "misclassified"
      ],
      "metadata": {
        "id": "l4QOwXQpZVk7"
      },
      "execution_count": null,
      "outputs": []
    },
    {
      "cell_type": "code",
      "metadata": {
        "colab": {
          "base_uri": "https://localhost:8080/"
        },
        "outputId": "43e9ae44-bad1-4781-c014-24d592e51e6d",
        "id": "uy6jUEUFYsjn"
      },
      "source": [
        "missed=list()\n",
        "for i in range(len(misclassified)):\n",
        "  missed.append(t[misclassified[i]])\n",
        "print(missed)"
      ],
      "execution_count": null,
      "outputs": [
        {
          "output_type": "stream",
          "name": "stdout",
          "text": [
            "[array([1, 'condition there is problem in loading game or an artificial intelligence.'], dtype=object), array([1,\n",
            "       'if the service requirements are acceptable according to the provider policy mediator passes it to the local pa.'],\n",
            "      dtype=object), array([0,\n",
            "       'finally the user selects the output file path or let the pdfsam create one by default to the same folder as one of the imported files.'],\n",
            "      dtype=object), array([1, 'pas exchange accounting information to perform billing based on negotiated relationships.'], dtype=object), array([0, 'core set of files consisting of one lexical specification file one grammar file and zero or.'], dtype=object), array([0, 'when stock item category is updated the corresponding item is updated in quickbooks pos.'], dtype=object), array([0, 'the system must record every time receipt is printed or emailed.'], dtype=object), array([1, 'each cdn web server publishes resource and service information.'], dtype=object), array([1, 'all the operations have been suspended.'], dtype=object), array([1, 'request is redirected to an optimal peer web server.'], dtype=object), array([0, 'user must select at least one category to move.'], dtype=object), array([0, 'upon customer perceptions of conflicting privacy statements.'], dtype=object), array([0, 'selecting an under category prompts for description and also takes you back to the acquisition screen.'],\n",
            "      dtype=object), array([1, 'the request sent to supplier login in failed there is no suppliers for his requests or send error.'],\n",
            "      dtype=object), array([1, 'tlp files to the new directory.'], dtype=object), array([0, 'the user will be given.'], dtype=object), array([1,\n",
            "       'system display the details for that acquisition including expected items donor or primary contact arrives at receiving dock with valid donation number.'],\n",
            "      dtype=object), array([1, 'minimally the system will copy selected text in response to the ctrl insert key combination.'], dtype=object), array([1, 'the transformation language program contains all references to input and output files.'], dtype=object)]\n"
          ]
        }
      ]
    },
    {
      "cell_type": "code",
      "metadata": {
        "colab": {
          "base_uri": "https://localhost:8080/"
        },
        "outputId": "2fbdc58f-b711-41d5-86d5-c014e37cb983",
        "id": "uUzHaAh5Ysjo"
      },
      "source": [
        "print(len(missed))"
      ],
      "execution_count": null,
      "outputs": [
        {
          "output_type": "stream",
          "name": "stdout",
          "text": [
            "19\n"
          ]
        }
      ]
    },
    {
      "cell_type": "markdown",
      "source": [
        "#ROC Curve"
      ],
      "metadata": {
        "id": "zIO7i9KXwXtz"
      }
    },
    {
      "cell_type": "code",
      "metadata": {
        "colab": {
          "base_uri": "https://localhost:8080/",
          "height": 361
        },
        "id": "cqP2vuzDo0X-",
        "outputId": "0089ac78-baa0-498b-dc6b-58076149c604"
      },
      "source": [
        "from sklearn import metrics\n",
        "#define metrics\n",
        "#y_pred_proba = log_regression.predict_proba(X_test)[::,1]\n",
        "ulmfit_fpr, ulmfit_tpr, _ = metrics.roc_curve(lbl_fwd,  predictions)\n",
        "auc_ulmfit = metrics.roc_auc_score(lbl_fwd,  predictions)\n",
        "\n",
        "#create ROC curve\n",
        "plt.plot(ulmfit_fpr,ulmfit_tpr,label=\"AUC=\"+str(auc_ulmfit))\n",
        "plt.ylabel('True Positive Rate')\n",
        "plt.xlabel('False Positive Rate')\n",
        "plt.legend(loc=4)\n",
        "plt.show()"
      ],
      "execution_count": null,
      "outputs": [
        {
          "output_type": "display_data",
          "data": {
            "image/png": "[encoded data removed]",
            "text/plain": [
              "<Figure size 576x396 with 1 Axes>"
            ]
          },
          "metadata": {}
        }
      ]
    },
    {
      "cell_type": "code",
      "metadata": {
        "colab": {
          "base_uri": "https://localhost:8080/",
          "height": 376
        },
        "outputId": "ab5985e9-c21d-405e-d308-be00529c219c",
        "id": "ro4IsjpotPxm"
      },
      "source": [
        "#ROC AUC curve\n",
        "# matplotlib\n",
        "import matplotlib.pyplot as plt\n",
        "plt.style.use('seaborn')\n",
        "\n",
        "# plot roc curves\n",
        "plt.plot(base_fpr1, base_tpr1, linestyle='--',color='orange', label='BERT_base('+str(auc_score1_base.round(2))+')')\n",
        "plt.plot(dist_fpr1, dist_tpr1, linestyle='--',color='green', label='Dist_BERT('+str(auc_score1_dist.round(2))+')')\n",
        "plt.plot(ulmfit_fpr,ulmfit_tpr,linestyle='--',color='red', label='ULMFiT('+str(auc_ulmfit.round(2))+')')\n",
        "#plt.plot(fpr2, tpr2, linestyle='--',color='green', label='KNN')\n",
        "plt.plot(p_fpr, p_tpr, linestyle='--', color='blue')\n",
        "# title\n",
        "plt.title('ROC curve')\n",
        "# x label\n",
        "plt.xlabel('False Positive Rate')\n",
        "# y label\n",
        "plt.ylabel('True Positive rate')\n",
        "\n",
        "plt.legend(loc='best')\n",
        "plt.savefig(path+'/data1/ROC',dpi=300)\n",
        "plt.show();"
      ],
      "execution_count": null,
      "outputs": [
        {
          "output_type": "display_data",
          "data": {
            "image/png": "[encoded data removed]",
            "text/plain": [
              "<Figure size 576x396 with 1 Axes>"
            ]
          },
          "metadata": {}
        }
      ]
    },
    {
      "cell_type": "markdown",
      "metadata": {
        "id": "7rFcAXUU72dw"
      },
      "source": [
        "We see that our model has performed pretty well!!\n",
        "You can test the model with negative as well as mixed sentiment text and verify results.\n"
      ]
    },
    {
      "cell_type": "code",
      "metadata": {
        "colab": {
          "base_uri": "https://localhost:8080/"
        },
        "id": "3TLd1LBXmUhO",
        "outputId": "66d80151-073e-4618-e273-de370747304e"
      },
      "source": [
        "t1 = \"User selects a transformation language program file to 3 parse.\" \n",
        "t2=\"The HATS-GUI compares the time stamps on the lexical specification and grammar files to the time.\"\n",
        "t3=\"agentMom shall 1-2 support the ability to send unicast message.\"\n",
        "learn.predict(t1)"
      ],
      "execution_count": null,
      "outputs": [
        {
          "output_type": "execute_result",
          "data": {
            "text/plain": [
              "(Category tensor(1), tensor(1), tensor([0.0121, 0.9879]))"
            ]
          },
          "metadata": {},
          "execution_count": 98
        }
      ]
    },
    {
      "cell_type": "code",
      "metadata": {
        "id": "fFNcIjiR1Pfu"
      },
      "source": [
        "def getUCS_ULMFiT(txt):\n",
        "  preds=list()\n",
        "  ucs=list()\n",
        "  for t in txt:\n",
        "    p=np.array(learn.predict(t)[2])\n",
        "    #learn.predict\n",
        "    #print(p)\n",
        "    #pred1, lbl = learn.get_preds(ordered=True)\n",
        "    p = np.argmax(p)\n",
        "    preds.append(p)\n",
        "  return preds"
      ],
      "execution_count": null,
      "outputs": []
    },
    {
      "cell_type": "code",
      "metadata": {
        "colab": {
          "base_uri": "https://localhost:8080/"
        },
        "id": "LADjpZTE2Wd0",
        "outputId": "b8af5873-bd0c-42d3-c371-efebd7691a76"
      },
      "source": [
        "T=[\"Store assistant checks status of the tape to be returned by customer. \",\"PDF Split and Merge was created prior to this document, so all requirements stated here are already satisfied.\",\"Cashier enters item identifier.\",\n",
        "\"System updates the sale line item.\"]\n",
        "p=getUCS_ULMFiT(T)\n",
        "print(p)"
      ],
      "execution_count": null,
      "outputs": [
        {
          "output_type": "stream",
          "name": "stdout",
          "text": [
            "[0, 0, 1, 1]\n"
          ]
        }
      ]
    },
    {
      "cell_type": "markdown",
      "source": [
        "#Prediction on SRS documents"
      ],
      "metadata": {
        "id": "SOnffW6xtd3w"
      }
    },
    {
      "cell_type": "code",
      "metadata": {
        "colab": {
          "base_uri": "https://localhost:8080/"
        },
        "id": "WLS2G_Zj1QDY",
        "outputId": "01a7a895-22c3-4bd1-a74b-fddc0183ea76"
      },
      "source": [
        "#predict UCS from SRS\n",
        "print(clean_text[3])\n",
        "#preds=predict_UCS(bert_base_model, clean_text)\n",
        "#print(preds)\n",
        "df_ucs=getUCS_ULMFiT(clean_text)\n",
        "print(df_ucs)"
      ],
      "execution_count": null,
      "outputs": [
        {
          "output_type": "stream",
          "name": "stdout",
          "text": [
            "this work is based upon the submissions of the spring cs.\n",
            "[0, 0, 0, 0, 0, 0, 1, 1, 0, 1, 1, 0, 1, 1, 0, 1, 1, 1, 1, 1, 0, 0, 0, 0, 1, 1, 0, 0, 1, 1, 1, 1, 0, 0, 1, 0, 0, 0, 0, 1, 0, 0, 0, 0, 0, 0, 0, 0, 0, 0, 0, 1, 0, 0, 1, 0, 0, 0, 0, 0, 0, 0, 0, 0, 1, 1, 0, 0, 0, 0, 0, 0, 1, 0, 0, 0, 1, 0, 0, 1, 0, 0, 0, 0, 0, 1, 1, 0, 0, 0, 0, 0, 0, 1, 0, 0, 1, 0, 0, 1, 0, 0, 0, 1, 1, 0, 1, 0, 1, 0, 0, 1, 1, 0, 1, 0, 1, 1, 0, 1, 0, 1, 0, 1, 1, 0, 0, 1, 0, 1, 0, 1, 1, 1, 1, 1, 0, 0, 1, 0, 1, 1, 1, 1, 1, 0, 1, 1, 1, 0, 1, 0, 1, 1, 0, 1, 0, 1, 1, 1, 1, 1, 1, 1, 0, 1, 0, 1, 1, 1, 1, 0, 1, 1, 0, 1, 0, 1, 1, 1, 1, 1, 0, 1, 1, 1, 1, 0, 1, 1, 0, 1, 1, 1, 1, 0, 1, 1, 0, 1, 1, 1, 1, 0, 1, 1, 0, 1, 1, 1, 1, 1, 1, 0, 0, 0, 1, 0, 0, 0, 0, 0, 1, 0, 0, 0, 0, 0, 0, 1, 0, 0, 0, 0, 1, 1, 0, 0, 1, 1, 1, 1, 0, 0, 1, 0, 1, 1, 1, 1, 1, 1, 1, 1, 1, 1, 1, 0, 1, 1, 0, 0, 1, 0, 0, 1, 1, 0, 1, 0, 1, 0, 0, 1, 1, 1, 1, 0, 1, 1, 1, 1, 1, 1, 0, 1, 1, 1, 1, 1, 1, 0, 1, 1, 1, 0, 1, 0, 1, 1, 0, 0, 1, 1, 1, 1, 1, 0, 1, 1, 1, 1, 1, 1, 1, 1, 1, 1, 0, 0, 1, 1, 1, 1, 0, 1, 1, 1, 1, 1, 1, 1, 0, 0, 0, 1, 1, 0, 0, 1, 1, 0, 1, 1, 1, 1, 1, 0, 0, 1, 1, 0, 1, 1, 0, 1, 1, 1, 1, 1, 1, 0, 0, 0, 0, 1, 0, 1, 0, 1, 1, 0, 1, 1, 0, 1, 0, 1, 0, 0, 0, 0, 0, 0, 0, 0, 0, 1, 0, 0, 1, 1, 0, 1, 1, 1, 1, 0, 0, 0, 0, 1, 0, 1, 1, 0, 1, 1, 1, 0, 0, 1, 0, 0, 0, 0, 1, 1, 0, 1, 1, 1, 1, 0, 0, 0, 0, 0, 0, 0, 0, 0, 0, 0, 0, 0, 0, 0, 0, 0, 0, 1]\n"
          ]
        }
      ]
    },
    {
      "cell_type": "code",
      "source": [
        "df_ucs"
      ],
      "metadata": {
        "id": "BNx5JxYjWMGe"
      },
      "execution_count": null,
      "outputs": []
    },
    {
      "cell_type": "code",
      "metadata": {
        "id": "TssaApgVGe5T",
        "colab": {
          "base_uri": "https://localhost:8080/"
        },
        "outputId": "8fa70718-dd8f-45a9-8ea4-b397750e8827"
      },
      "source": [
        "pa=np.array(df_ucs)\n",
        "pa=pa[pa>0]\n",
        "print(len(pa))"
      ],
      "execution_count": null,
      "outputs": [
        {
          "output_type": "stream",
          "name": "stdout",
          "text": [
            "232\n"
          ]
        }
      ]
    },
    {
      "cell_type": "markdown",
      "metadata": {
        "id": "TQtD8tKU4eQz"
      },
      "source": [
        "# Detecting Use Cases from SRS documents"
      ]
    },
    {
      "cell_type": "markdown",
      "metadata": {
        "id": "98ROqMSlVi9T"
      },
      "source": [
        "# Reading pdf file"
      ]
    },
    {
      "cell_type": "code",
      "metadata": {
        "id": "55DUID3yBPTz"
      },
      "source": [
        "!pip install PyPDF2"
      ],
      "execution_count": null,
      "outputs": []
    },
    {
      "cell_type": "code",
      "metadata": {
        "id": "5s2UNStdEjhx"
      },
      "source": [
        "# importing required modules \n",
        "import PyPDF2 \n",
        "def read_pdf_file(file_path):\n",
        "  # importing required modules \n",
        " \n",
        "  text=\"\"\n",
        "  \n",
        "  #path='/content/drive/My Drive/Colab Notebooks/casestudy/'\n",
        "  # creating a pdf file object \n",
        "  pdfFileObj = open(file_path, 'rb') \n",
        "  #filename=path+\"data_file.txt\"\n",
        "  #file_object = open(filename, 'a',errors=\"ignore\")\n",
        "    \n",
        "  # creating a pdf reader object \n",
        "  pdfReader = PyPDF2.PdfFileReader(pdfFileObj) \n",
        "      \n",
        "  # printing number of pages in pdf file \n",
        "  #print(pdfReader.numPages) \n",
        "  for i in range(pdfReader.numPages):    \n",
        "    # creating a page object \n",
        "    pageObj = pdfReader.getPage(i) \n",
        "    text=text+ pageObj.extractText() \n",
        "    # extracting text from page \n",
        "    #print(pageObj.extractText()) \n",
        "  #file_object.write(text)    \n",
        "  # closing the pdf file object \n",
        "  pdfFileObj.close()\n",
        "  #file_object.close() \n",
        "  return text"
      ],
      "execution_count": null,
      "outputs": []
    },
    {
      "cell_type": "code",
      "metadata": {
        "id": "V4fVLlUjExqu",
        "colab": {
          "base_uri": "https://localhost:8080/"
        },
        "outputId": "cc0fa8a9-2363-41f6-cdaa-b1a9b1656e44"
      },
      "source": [
        "#Reading SRS pdf file\n",
        "#path='/content/drive/My Drive/Colab Notebooks'\n",
        "file_path=path+'/casestudy/2001 - hats.pdf'\n",
        "text=read_pdf_file(file_path) "
      ],
      "execution_count": null,
      "outputs": [
        {
          "output_type": "stream",
          "name": "stderr",
          "text": [
            "PdfReadWarning: Xref table not zero-indexed. ID numbers for objects will be corrected. [pdf.py:1736]\n"
          ]
        }
      ]
    },
    {
      "cell_type": "code",
      "metadata": {
        "id": "Q7QQY-F3DsL4"
      },
      "source": [
        "import string\n",
        "import re\n",
        "#Cleaning text \n",
        "def text_cleaner(text):\n",
        "    # lower case text\n",
        "    newString = text.lower()\n",
        "    #newString = re.sub(r\"'s\\b\",\"\",newString)\n",
        "    # remove punctuations\n",
        "    newString = re.sub(\"[^a-zA-Z_]\", \" \", newString) \n",
        "    long_words=[]\n",
        "    # remove short word\n",
        "    for i in newString.split():\n",
        "        if len(i)>=3:                  \n",
        "            long_words.append(i)\n",
        "    return (\" \".join(long_words)).strip()+'.'\n",
        "\n",
        "\n"
      ],
      "execution_count": null,
      "outputs": []
    },
    {
      "cell_type": "code",
      "metadata": {
        "id": "Im5emJri56O9"
      },
      "source": [
        "#cleaning text\n",
        "sent=text.split(\".\")\n",
        "#print(len(sent))\n",
        "clean_text=list()\n",
        "for i in range(len(sent)):\n",
        "  if len(sent[i])>3:\n",
        "    #print(sent[i])\n",
        "    clean_text.append(text_cleaner(sent[i]))\n",
        "print(clean_text[0])"
      ],
      "execution_count": null,
      "outputs": []
    },
    {
      "cell_type": "code",
      "metadata": {
        "id": "Vw_niURO7WCT"
      },
      "source": [
        "#return list of UCS\n",
        "def get_UCS(text,preds):\n",
        "  df_test=list()\n",
        "  #df_test = pd.DataFrame(text)\n",
        "  #print(df_test)\n",
        "  #df_test1=df_test[preds==1]\n",
        "  #print(len(df_test))\n",
        "  #df.head()\n",
        "  for i in range( len(preds)):\n",
        "    if preds[i]==1:\n",
        "      print(text[i])\n",
        "      df_test.append(text[i])\n",
        "  return df_test"
      ],
      "execution_count": null,
      "outputs": []
    },
    {
      "cell_type": "code",
      "metadata": {
        "colab": {
          "base_uri": "https://localhost:8080/"
        },
        "id": "xEfbO2zKT452",
        "outputId": "3dab69a3-ba53-4c4f-a0c0-399aa78b892f"
      },
      "source": [
        "from nltk.corpus import stopwords\n",
        "import nltk\n",
        "nltk.download('stopwords')"
      ],
      "execution_count": null,
      "outputs": [
        {
          "output_type": "stream",
          "name": "stdout",
          "text": [
            "[nltk_data] Downloading package stopwords to /root/nltk_data...\n",
            "[nltk_data]   Unzipping corpora/stopwords.zip.\n"
          ]
        },
        {
          "output_type": "execute_result",
          "data": {
            "text/plain": [
              "True"
            ]
          },
          "metadata": {},
          "execution_count": 131
        }
      ]
    },
    {
      "cell_type": "code",
      "metadata": {
        "id": "OZAp_WdlSSX0"
      },
      "source": [
        "# turn a doc into clean tokens\n",
        "def clean_doc(doc):\n",
        "  doc = doc.lower()\n",
        "  # split into tokens by white space\n",
        "  tokens = doc.split()\n",
        "  # remove punctuation from each token\n",
        "  table = str.maketrans('', '', string.punctuation)\n",
        "  tokens = [w.translate(table) for w in tokens]\n",
        "  # remove remaining tokens that are not alphabetic\n",
        "  tokens = [word for word in tokens if word.isalpha()]\n",
        "  # filter out stop words\n",
        "  #stop_words = set(stopwords.words('english'))\n",
        "  #tokens = [w for w in tokens if not w in stop_words]\n",
        "  # filter out short tokens\n",
        "  tokens = [word for word in tokens if len(word) > 1]\n",
        "  return  (\" \".join(tokens)).strip()+'.'"
      ],
      "execution_count": null,
      "outputs": []
    },
    {
      "cell_type": "code",
      "metadata": {
        "id": "1T5uZPFuSvgn"
      },
      "source": [
        "testString3 = \"User selects a transformation language program file to 3 parse. \\\n",
        "The HATS-GUI compares the time stamps on the lexical specification and grammar files to the time. \\\n",
        "          agentMom shall 1-2 support the ability to send unicast message.\"\n"
      ],
      "execution_count": null,
      "outputs": []
    },
    {
      "cell_type": "code",
      "metadata": {
        "colab": {
          "base_uri": "https://localhost:8080/"
        },
        "id": "v3_9rUBMTD-F",
        "outputId": "482e81c9-4181-491f-f313-c446607b4cb4"
      },
      "source": [
        "\n",
        "#cleaning text\n",
        "sent=testString3.split(\".\")\n",
        "#print(len(sent))\n",
        "clean_text=list()\n",
        "for i in range(len(sent)):\n",
        "  if len(sent[i])>3:\n",
        "    #print(sent[i])\n",
        "    clean_text.append(clean_doc(sent[i]))\n",
        "print(clean_text)"
      ],
      "execution_count": null,
      "outputs": [
        {
          "output_type": "stream",
          "name": "stdout",
          "text": [
            "['user selects transformation language program file to parse.', 'the hatsgui compares the time stamps on the lexical specification and grammar files to the time.', 'agentmom shall support the ability to send unicast message.']\n"
          ]
        }
      ]
    },
    {
      "cell_type": "code",
      "metadata": {
        "id": "OCtfKOC4QpCs"
      },
      "source": [
        "# load doc into memory\n",
        "def load_doc(filename):\n",
        "\t# open the file as read only\n",
        "\tfile = open(filename, 'r',errors='ignore')\n",
        "\t# read all text\n",
        "\ttext = file.read()\n",
        "\t# close the file\n",
        "\tfile.close()\n",
        "\treturn text"
      ],
      "execution_count": null,
      "outputs": []
    },
    {
      "cell_type": "code",
      "metadata": {
        "id": "-ga6_O98roqv"
      },
      "source": [
        "def get_cleantext(text):\n",
        "  #cleaning text\n",
        "  sent=text.split(\".\")\n",
        "  #print(len(sent))\n",
        "  clean_text=list()\n",
        "  for i in range(len(sent)):\n",
        "    if len(sent[i])>3:\n",
        "      #print(sent[i])\n",
        "      clean_text.append(clean_doc(sent[i]))\n",
        "  return(clean_text)"
      ],
      "execution_count": null,
      "outputs": []
    },
    {
      "cell_type": "code",
      "metadata": {
        "id": "hkQgEUBAqqBS"
      },
      "source": [
        "text=load_doc(path+\"/data/SRSExample-webapp.txt\")"
      ],
      "execution_count": null,
      "outputs": []
    },
    {
      "cell_type": "code",
      "metadata": {
        "colab": {
          "base_uri": "https://localhost:8080/",
          "height": 35
        },
        "id": "m-a7Ff2ArbJG",
        "outputId": "f7639772-ae4f-4cee-c621-58b0a752f9ef"
      },
      "source": [
        "text[:100]"
      ],
      "execution_count": null,
      "outputs": [
        {
          "output_type": "execute_result",
          "data": {
            "application/vnd.google.colaboratory.intrinsic+json": {
              "type": "string"
            },
            "text/plain": [
              "'Software Requirements Specification\\n\\nVersion 1.0\\n<<Annotated Version>>\\n\\nApril 15, 2004\\n\\nWeb Publishi'"
            ]
          },
          "metadata": {},
          "execution_count": 139
        }
      ]
    },
    {
      "cell_type": "code",
      "metadata": {
        "id": "CfCvd5wgsGdn"
      },
      "source": [
        "clean_text=get_cleantext(text)"
      ],
      "execution_count": null,
      "outputs": []
    },
    {
      "cell_type": "code",
      "metadata": {
        "colab": {
          "base_uri": "https://localhost:8080/"
        },
        "id": "PHYQxvZssPRU",
        "outputId": "9a25258f-5ee3-4262-a083-e262befc0f4f"
      },
      "source": [
        "print(clean_text[:100])"
      ],
      "execution_count": null,
      "outputs": [
        {
          "output_type": "stream",
          "name": "stdout",
          "text": [
            "['software requirements specification version.', 'annotated version april web publishing system joan teamleader paul adams bobbie baker charles charlie submitted in partial fulfillment of the requirements of cs software engineering any comments inside double brackets such as these are not part of this srs but are comments upon this srs example to help the reader understand the point being made.', 'refer to the srs template for details on the purpose and rules for each section of this document.', 'this work is based upon the submissions of the spring cs.', 'the students who submitted these team projects were thomas clay dustin denney erjon dervishaj tiffanie dew blake guice jonathan medders marla medders tammie odom amro shorbatli joseph smith jay snellen chase tinney and stefanie watts.', 'table of contents table of contents list of figures ii.', 'introduction.', 'purpose.', 'scope of project.', 'glossary.', 'references.', 'overview of document.', 'overall description.', 'system environment.', 'functional requirements specification.', 'reader use case use case search article.', 'author use case use case submit article.', 'reviewer use case use case submit review.', 'editor use cases use case update author use case update reviewer use case update article use case receive article use case assign reviewer use case receive review use case check status use case send response use case send copyright use case remove article use case publish article.', 'user characteristics.', 'nonfunctional requirements.', 'requirements specification.', 'external interface requirements.', 'functional requirements.', 'search article.', 'communicate.', 'add author.', 'add reviewer.', 'update person.', 'update article status.', 'enter communication.', 'assign reviewer.', 'check status.', 'send communication.', 'publish article.', 'remove article.', 'detailed nonfunctional requirements.', 'logical structure of the data.', 'security index list of figures figure system environment figure article submission process figure editor use cases figure logical structure of the article manager data.', 'introduction.', 'purpose the purpose of this document is to present detailed description of the web publishing system.', 'it will explain the purpose and features of the system the interfaces of the system what the system will do the constraints under which it must operate and how the system will react to external stimuli.', 'this document is intended for both the stakeholders and the developers of the system and will be proposed to the regional historical society for its approval.', 'scope of project this software system will be web publishing system for local editor of regional historical society.', 'this system will be designed to maximize the editors productivity by providing tools to assist in automating the article review and publishing process which would otherwise have to be performed manually.', 'by maximizing the editors work efficiency and production the system will meet the editors needs while remaining easy to understand and use.', 'more specifically this system is designed to allow an editor to manage and communicate with group of reviewers and authors to publish articles to public website.', 'the software will facilitate communication between authors reviewers and the editor via email.', 'preformatted reply forms are used in every stage of the articles progress through the system to provide uniform review process the location of these forms is configurable via the applications maintenance options.', 'the system also contains relational database containing list of authors reviewers and articles.', 'glossary term definition active article the document that is tracked by the system it is narrative that is planned to be posted to the public website.', 'author person submitting an article to be reviewed.', 'in case of multiple authors this term refers to the principal author with whom all communication is made.', 'database collection of all the information monitored by this system.', 'editor person who receives articles sends articles for review and makes final judgments for publications.', 'field cell within form.', 'historical society database the existing membership database also hs database.', 'member member of the historical society listed in the hs database.', 'reader anyone visiting the site to read articles.', 'review written recommendation about the appropriateness of an article for publication may include suggestions for improvement.', 'reviewer person that examines an article and has the ability to recommend approval of the article for publication or to request that changes be made in the article.', 'software requirements specification document that completely describes all of the functions of proposed system and the constraints under which it must operate.', 'for example this document.', 'stakeholder any person with an interest in the project who is not developer.', 'user reviewer or author.', 'references ieee.', 'ieee std ieee recommended practice for software requirements specifications.', 'ieee computer society.', 'overview of document the next chapter the overall description section of this document gives an overview of the functionality of the product.', 'it describes the informal requirements and is used to establish context for the technical requirements specification in the next chapter.', 'the third chapter requirements specification section of this document is written primarily for the developers and describes in technical terms the details of the functionality of the product.', 'both sections of the document describe the same software product in its entirety but are intended for different audiences and thus use different language.', 'overall description.', 'system environment figure system environment the web publishing system has four active actors and one cooperating system.', 'the author reader or reviewer accesses the online journal through the internet.', 'any author or reviewer communication with the system is through email.', 'the editor accesses the entire system directly.', 'there is link to the existing historical society.', 'the division of the web publishing system into two component parts the online journal and the article manager is an example of using domain classes to make an explanation clearer.', '.', 'functional requirements specification this section outlines the use cases for each of the active readers separately.', 'the reader the author and the reviewer have only one use case apiece while the editor is main actor in this system.', 'reader use case use case search article diagram brief description the reader accesses the online journal website searches for an article and downloads it to hisher machine.', 'initial stepbystep description before this use case can be initiated the reader has already accessed the online journal website.', 'the reader chooses to search by author name category or keyword.', 'the system displays the choices to the reader.', 'the reader selects the article desired.', 'the system presents the abstract of the article to the reader.', 'the reader chooses to download the article.', 'the system provides the requested article.', 'xref section.', 'search article figure article submission process the article submission process statetransition diagram summarizes the use cases listed below.', 'an author submits an article for consideration.', 'the editor enters it into the system and assigns it to and sends it to at least three reviewers.', 'the reviewers return their comments which are used by the editor to make decision on the article.', 'either the article is accepted as written declined or the author is asked to make some changes based on the reviews.', 'if it is accepted possibly after revision the editor sends copyright form to the author.', 'when that form is returned the article is published to the online journal.', 'not shown in the above is the removal of declined article from the system.', '.']\n"
          ]
        }
      ]
    },
    {
      "cell_type": "code",
      "metadata": {
        "id": "hUD9kpvJ8Ksp",
        "colab": {
          "base_uri": "https://localhost:8080/",
          "height": 273
        },
        "outputId": "dae77099-2d15-4f7e-d0b3-4fb3d095b431"
      },
      "source": [
        "#predict UCS from SRS\n",
        "print(clean_text)\n",
        "preds=predict_UCS(bert_base_model, clean_text)\n",
        "print(preds)\n",
        "#df_ucs=get_UCS(clean_text,preds)\n",
        "#print(df_ucs)"
      ],
      "execution_count": null,
      "outputs": [
        {
          "output_type": "stream",
          "name": "stdout",
          "text": [
            "['software requirements specification version.', 'annotated version april web publishing system joan teamleader paul adams bobbie baker charles charlie submitted in partial fulfillment of the requirements of cs software engineering any comments inside double brackets such as these are not part of this srs but are comments upon this srs example to help the reader understand the point being made.', 'refer to the srs template for details on the purpose and rules for each section of this document.', 'this work is based upon the submissions of the spring cs.', 'the students who submitted these team projects were thomas clay dustin denney erjon dervishaj tiffanie dew blake guice jonathan medders marla medders tammie odom amro shorbatli joseph smith jay snellen chase tinney and stefanie watts.', 'table of contents table of contents list of figures ii.', 'introduction.', 'purpose.', 'scope of project.', 'glossary.', 'references.', 'overview of document.', 'overall description.', 'system environment.', 'functional requirements specification.', 'reader use case use case search article.', 'author use case use case submit article.', 'reviewer use case use case submit review.', 'editor use cases use case update author use case update reviewer use case update article use case receive article use case assign reviewer use case receive review use case check status use case send response use case send copyright use case remove article use case publish article.', 'user characteristics.', 'nonfunctional requirements.', 'requirements specification.', 'external interface requirements.', 'functional requirements.', 'search article.', 'communicate.', 'add author.', 'add reviewer.', 'update person.', 'update article status.', 'enter communication.', 'assign reviewer.', 'check status.', 'send communication.', 'publish article.', 'remove article.', 'detailed nonfunctional requirements.', 'logical structure of the data.', 'security index list of figures figure system environment figure article submission process figure editor use cases figure logical structure of the article manager data.', 'introduction.', 'purpose the purpose of this document is to present detailed description of the web publishing system.', 'it will explain the purpose and features of the system the interfaces of the system what the system will do the constraints under which it must operate and how the system will react to external stimuli.', 'this document is intended for both the stakeholders and the developers of the system and will be proposed to the regional historical society for its approval.', 'scope of project this software system will be web publishing system for local editor of regional historical society.', 'this system will be designed to maximize the editors productivity by providing tools to assist in automating the article review and publishing process which would otherwise have to be performed manually.', 'by maximizing the editors work efficiency and production the system will meet the editors needs while remaining easy to understand and use.', 'more specifically this system is designed to allow an editor to manage and communicate with group of reviewers and authors to publish articles to public website.', 'the software will facilitate communication between authors reviewers and the editor via email.', 'preformatted reply forms are used in every stage of the articles progress through the system to provide uniform review process the location of these forms is configurable via the applications maintenance options.', 'the system also contains relational database containing list of authors reviewers and articles.', 'glossary term definition active article the document that is tracked by the system it is narrative that is planned to be posted to the public website.', 'author person submitting an article to be reviewed.', 'in case of multiple authors this term refers to the principal author with whom all communication is made.', 'database collection of all the information monitored by this system.', 'editor person who receives articles sends articles for review and makes final judgments for publications.', 'field cell within form.', 'historical society database the existing membership database also hs database.', 'member member of the historical society listed in the hs database.', 'reader anyone visiting the site to read articles.', 'review written recommendation about the appropriateness of an article for publication may include suggestions for improvement.', 'reviewer person that examines an article and has the ability to recommend approval of the article for publication or to request that changes be made in the article.', 'software requirements specification document that completely describes all of the functions of proposed system and the constraints under which it must operate.', 'for example this document.', 'stakeholder any person with an interest in the project who is not developer.', 'user reviewer or author.', 'references ieee.', 'ieee std ieee recommended practice for software requirements specifications.', 'ieee computer society.', 'overview of document the next chapter the overall description section of this document gives an overview of the functionality of the product.', 'it describes the informal requirements and is used to establish context for the technical requirements specification in the next chapter.', 'the third chapter requirements specification section of this document is written primarily for the developers and describes in technical terms the details of the functionality of the product.', 'both sections of the document describe the same software product in its entirety but are intended for different audiences and thus use different language.', 'overall description.', 'system environment figure system environment the web publishing system has four active actors and one cooperating system.', 'the author reader or reviewer accesses the online journal through the internet.', 'any author or reviewer communication with the system is through email.', 'the editor accesses the entire system directly.', 'there is link to the existing historical society.', 'the division of the web publishing system into two component parts the online journal and the article manager is an example of using domain classes to make an explanation clearer.', '.', 'functional requirements specification this section outlines the use cases for each of the active readers separately.', 'the reader the author and the reviewer have only one use case apiece while the editor is main actor in this system.', 'reader use case use case search article diagram brief description the reader accesses the online journal website searches for an article and downloads it to hisher machine.', 'initial stepbystep description before this use case can be initiated the reader has already accessed the online journal website.', 'the reader chooses to search by author name category or keyword.', 'the system displays the choices to the reader.', 'the reader selects the article desired.', 'the system presents the abstract of the article to the reader.', 'the reader chooses to download the article.', 'the system provides the requested article.', 'xref section.', 'search article figure article submission process the article submission process statetransition diagram summarizes the use cases listed below.', 'an author submits an article for consideration.', 'the editor enters it into the system and assigns it to and sends it to at least three reviewers.', 'the reviewers return their comments which are used by the editor to make decision on the article.', 'either the article is accepted as written declined or the author is asked to make some changes based on the reviews.', 'if it is accepted possibly after revision the editor sends copyright form to the author.', 'when that form is returned the article is published to the online journal.', 'not shown in the above is the removal of declined article from the system.', '.', 'author use case in case of multiple authors this term refers to the principal author with whom all communication is made.', 'use case submit article diagram brief description the author either submits an original article or resubmits an edited article.', 'initial stepbystep description before this use case can be initiated the author has already connected to the online journal website.', 'the author chooses the email editor button.', 'the system uses the sendto html tag to bring up the users email system.', 'the author fills in the subject line and attaches the files as directed and emails them.', 'the system generates and sends an email acknowledgement.', 'xref section.', 'communicate.', 'reviewer use case use case submit review diagram brief description the reviewer submits review of an article.', 'initial stepbystep description before this use case can be initiated the reviewer has already connected to the online journal website.', 'the reviewer chooses the email editor button.', 'the system uses the sendto html tag to bring up the users email system.', 'the reviewer fills in the subject line and attaches the file as directed and emails it.', 'the system generates and sends an email acknowledgement.', 'xref section.', 'communicate.', 'editor use cases the editor has the following sets of use cases figure editor use cases update information use cases use case update author diagram brief description the editor enters new author or updates information about current author.', 'initial stepbystep description before this use case can be initiated the editor has already accessed the main page of the article manager.', 'the editor selects to addupdate author.', 'the system presents choice of adding or updating.', 'the editor chooses to add or to update.', 'if the editor is updating an author the system presents list of authors to choose from and presents grid filling in with the information else the system presents blank grid.', 'the editor fills in the information and submits the form.', 'the system verifies the information and returns the editor to the article manager main page.', 'xref section.', 'add author section.', 'update person use case update reviewer diagram brief description the editor enters new reviewer or updates information about current reviewer.', 'initial stepbystep description before this use case can be initiated the editor has already accessed the main page of the article manager.', 'the editor selects to addupdate reviewer.', 'the system presents choice of adding or updating.', 'the editor chooses to add or to update.', 'the system links to the historical society database.', 'if the editor is updating reviewer the system and presents grid with the information about the reviewer else the system presents list of members for the editor to select reviewer and presents grid for the person selected.', 'the editor fills in the information and submits the form.', 'the system verifies the information and returns the editor to the article manager main page.', 'xref section.', 'add reviewer section.', 'update person use case update article diagram brief description the editor enters information about an existing article.', 'initial stepbystep description before this use case can be initiated the editor has already accessed the main page of the article manager.', 'the editor selects to update article.', 'the system presents list of active articles.', 'the system presents the information about the chosen article.', 'the editor updates and submits the form.', 'the system verifies the information and returns the editor to the article manager main page.', 'xref section.', 'update article status handle article use cases use case receive article diagram brief description the editor enters new or revised article into the system.', 'initial stepbystep description before this use case can be initiated the editor has already accessed the main page of the article manager and has file containing the article available.', 'the editor selects to receive article.', 'the system presents choice of entering new article or updating an existing article.', 'the editor chooses to add or to update.', 'if the editor is updating an article the system presents list of articles to choose from and presents grid for filling with the information else the system presents blank grid.', 'the editor fills in the information and submits the form.', 'the system verifies the information and returns the editor to the article manager main page.', 'xref section.', 'enter communication use case assign reviewer this use case extends the update article use case.', 'diagram brief description the editor assigns one or more reviewers to an article.', 'initial stepbystep description before this use case can be initiated the editor has already accessed the article using the update article use case.', 'the editor selects to assign reviewer.', 'the system presents list of reviewers with their status see data description is section.', 'below.', 'the editor selects reviewer.', 'the system verifies that the person is still an active member using the historical society database.', 'the editor repeats steps and until sufficient reviewers are assigned.', 'the system emails the reviewers attaching the article and requesting that they do the review.', 'the system returns the editor to the update article use case.', 'xref section.', 'assign reviewer use case receive review this use case extends the update article use case.', 'diagram brief description the editor enters review into the system.', 'initial stepbystep description before this use case can be initiated the editor has already accessed the article using the update article use case.', 'the editor selects to receive review.', 'the system presents grid for filling with the information.', 'the editor fills in the information and submits the form.', 'the system verifies the information and returns the editor to the article manager main page.', 'xref section.', 'enter communication check status use case use case check status diagram brief description the editor checks the status of all active articles.', 'initial stepbystep description before this use case can be initiated the editor has already accessed the main page of the article manager.', '.', 'the editor selects to check status.', 'the system returns scrollable list of all active articles with their status see data description in section.', 'below.', 'the system returns the editor to the article manager main page.', 'xref section.', 'check status send recommendation use cases use case send response this use case extends the update article use case.', 'diagram brief description the editor sends response to an author.', 'initial stepbystep description before this use case can be initiated the editor has already accessed the article using the update article use case.', 'the editor selects to send response.', 'the system calls the email system and puts the authors email address in the recipient line and the name of the article on the subject line.', 'the editor fills out the email text and sends the message.', 'the system returns the editor to the article manager main page.', 'xref section.', 'send communication use case send copyright this use case extends the update article use case.', 'diagram brief description the editor sends copyright form to an author.', 'initial stepbystep description before this use case can be initiated the editor has already accessed the article using the update article use case.', 'the editor selects to send copyright.', 'the system calls the email system and puts the authors email address in the recipient line the name of the article on the subject line and attaches the copyright form.', 'the editor fills out the email text and sends the message.', 'the system returns the editor to the article manager main page.', 'xref section.', 'send communication use case remove article this use case extends the update article use case.', 'diagram brief description the editor removes an article from the active category.', 'initial stepbystep description before this use case can be initiated the editor has already accessed the article using the update article use case.', 'the editor selects to remove an article from the active database.', 'the system provides list of articles with the status of each.', 'the editor selects an article for removal.', 'the system removes the article from the active article database and returns the editor to the article manager main page.', 'xref section.', 'remove article publish article use case use case publish article this use case extends the update article use case.', 'diagram brief description the editor transfers an accepted article to the online journal.', 'initial stepbystep description before this use case can be initiated the editor has already accessed the article using the update article use case.', 'the editor selects to publish article.', 'the system transfers the article to the online journal and updates the search information there.', 'the system removes the article from the active article database and returns the editor to the article manager home page.', 'xref section.', 'publish article since three of the actors only have one use case each the summary diagram only involves the editor.', 'adapt the rules to the needs of the document rather than adapt the document to fit the rules.', '.', 'user characteristics the reader is expected to be internet literate and be able to use search engine.', 'the main screen of the online journal website will have the search function and link to authorreviewer information.', 'the author and reviewer are expected to be internet literate and to be able to use email with attachments.', 'the editor is expected to be windows literate and to be able to use button pulldown menus and similar tools.', 'the detailed look of these pages is discussed in section.', 'below.', 'nonfunctional requirements the online journal will be on server with high speed internet capability.', 'the physical machine to be used will be determined by the historical society.', 'the software developed here assumes the use of tool such as tomcat for connection between the web pages and the database.', 'the speed of the readers connection will depend on the hardware used rather than characteristics of this system.', 'the article manager will run on the editors pc and will contain an access database.', 'access is already installed on this computer and is windows operating system.', '.', 'requirements specification.', 'external interface requirements the only link to an external system is the link to the historical society hs database to verify the membership of reviewer.', 'the editor believes that society member is much more likely to be an effective reviewer and has imposed membership requirement for reviewer.', 'the hs database fields of interest to the web publishing systems are members name membership id number and email address an optional field for the hs database.', 'the assign reviewer use case sends the reviewer id to the hs database and boolean is returned denoting membership status.', 'the update reviewer use case requests list of member names membership numbers and optional email addresses when adding new reviewer.', 'it returns boolean for membership status when updating reviewer.', 'functional requirements the logical structure of the data is contained in section.', '.', 'search article use case name search article xref section.', 'search article sdd section.', 'trigger the reader assesses the online journal website precondition the web is displayed with grids for searching basic path.', 'the reader chooses how to search the web site.', 'the choices are by author by category and by keyword.', 'if the search is by author the system creates and presents an alphabetical list of all authors in the database.', 'in the case of an article with multiple authors each is contained in the list.', 'the reader selects an author.', 'the system creates and presents list of all articles by that author in the database.', 'the reader selects an article.', 'the system displays the abstract for the article.', 'the reader selects to download the article or to return to the article list or to the previous list.', 'alternative paths in step if the reader selects to search by category the system creates and presents list of all categories in the database.', 'the reader selects category.', 'the system creates and presents list of all articles in that category in the database.', 'return to step.', 'in step if the reader selects to search by keyword the system presents dialog box to enter the keyword or phrase.', 'the reader enters keyword or phrase.', 'the system searches the abstracts for all articles with that keyword or phrase and creates and presents list of all such articles in the database.', 'return to step.', 'postcondition the selected article is downloaded to the client machine.', 'exception paths the reader may abandon the search at any time.', 'other the categories list is generated from the information provided when article are published and not predefined in the online journal database.', 'communicate use case name communicate xref section.', 'submit article section.', 'submit review sdd section.', 'trigger the user selects mailto link.', 'precondition the user is on the communicate page linked from the online journal main page.', 'basic path this use case uses the mailto html tag.', 'this invokes the client email facility.', 'alternative paths if the user prefers to use his or her own email directly sufficient information will be contained on the web page to do so.', 'postcondition the message is sent.', 'exception paths the attempt may be abandoned at any time.', 'other none.', 'add author use case name add author xref section.', 'update author sdd section.', 'trigger the editor selects to add new author to the database.', 'precondition the editor has accessed the article manager main screen.', 'basic path.', 'the system presents blank grid to enter the author information.', 'the editor enters the information and submits the form.', 'the system checks that the name and email address fields are not blank and updates the database.', 'alternative paths if in step either field is blank the editor is instructed to add an entry.', 'no validation for correctness is made.', 'postcondition the author has been added to the database.', 'exception paths the editor may abandon the operation at any time.', 'other the author information includes the name mailing address and email address.', '.', 'add reviewer use case name add reviewer xref section.', 'update reviewer sdd section.', 'trigger the editor selects to add new reviewer to the database.', 'precondition the editor has accessed the article manager main screen.', 'basic path.', 'the system accesses the historical society hs database and presents an alphabetical list of the society members.', 'the editor selects person.', 'the system transfers the member information from the hs database to the article manager am database.', 'if there is no email address in the hs database the editor is prompted for an entry in that field.', 'the information is entered into the am database.', 'alternative paths in step if there is no entry for the email address in the hs database or on this grid the editor will be reprompted for an entry.', 'no validation for correctness is made.', 'postcondition the reviewer has been added to the database.', 'exception paths the editor may abandon the operation at any time.', 'other the reviewer information includes name membership number mailing address categories of interest and email address.', 'update person use case name update person xref sec.', 'update author sec.', 'update reviewer sdd section.', 'trigger the editor selects to update an author or reviewer and the person is already in the database.', 'precondition the editor has accessed the article manager main screen.', 'basic path.', 'the editor selects author or reviewer.', 'the system creates and presents an alphabetical list of people in the category.', 'the editor selects person to update.', 'the system presents the database information in grid form for modification.', 'the editor updates the information and submits the form.', 'the system checks that required fields are not blank.', 'alternative paths in step if any required field is blank the editor is instructed to add an entry.', 'no validation for correctness is made.', 'postcondition the database has been updated.', 'exception paths if the person is not already in the database the use case is abandoned.', 'in addition the editor may abandon the operation at any time.', 'other this use case is not used when one of the other use cases is more appropriate such as to add an article or reviewer for an article.', 'update article status use case name update article status xref section.', 'update article sdd section.', 'trigger the editor selects to update the status of an article in the database.', 'precondition the editor has accessed the article manager main screen and the article is already in the database.', 'basic path.', 'the system creates and presents an alphabetical list of all active articles.', 'the editor selects the article to update.', 'the system presents the information about the article in grid format.', 'the editor updates the information and resubmits the form.', 'alternative paths in step the use case enter communication may be invoked.', 'postcondition the database has been updated.', 'exception paths if the article is not already in the database the use case is abandoned.', 'in addition the editor may abandon the operation at any time.', 'other this use case can be used to add categories for an article to correct typographical errors or to remove reviewer who has missed deadline for returning review.', 'it may also be used to allow access to the named use case to enter an updated article or review for an article.', '.', 'enter communication use case name enter communication xref section.', 'receive article section.', 'receive review sdd section.', 'trigger the editor selects to add document to the system.', 'precondition the editor has accessed the article manager main screen and has the file of the item to be entered available.', 'basic path.', 'the editor selects the article using the.', 'update article status use case.', 'the editor attaches the file to the grid presented and updates the respective information about the article.', 'when the editor updates the article status to indicate that review is returned the respective entry in the reviewer table is updated.', 'alternative paths none postcondition the article entry is updated in the database.', 'exception paths the editor may abandon the operation at any time.', 'other this use case extends.', 'update article status.', 'assign reviewer use case name assign reviewer xref section.', 'assign reviewer sdd section.', 'trigger the editor selects to assign reviewer to an article.', 'precondition the editor has accessed the article manager main screen and the article is already in the database.', 'basic path.', 'the editor selects the article using the.', 'update article status use case.', 'the system presents an alphabetical list of reviewers with their information.', 'the editor selects reviewer for the article.', 'the system updates the article database entry and emails the reviewer with the standard message and attaches the text of the article without author information.', 'the editor has the option of repeating this use case from step.', 'alternative paths none.', 'postcondition at least one reviewer has been added to the article information and the appropriate communication has been sent.', 'exception paths the editor may abandon the operation at any time.', 'other this use case extends.', 'update article status.', 'the editor prior to implementation of this use case will provide the message text.', 'check status use case name check status xref section.', 'check status sdd section.', 'trigger the editor has selected to check status of all active articles.', 'precondition the editor has accessed the article manager main screen.', 'basic path.', 'the system creates and presents list of all active articles organized by their status.', 'the editor may request to see the full information about an article.', 'alternative paths none.', 'postcondition the requested information has been displayed.', 'exception paths the editor may abandon the operation at any time.', 'other the editor may provide an enhanced list of status later.', 'at present the following categories must be provided.', 'received but no further action taken.', 'reviewers have been assigned but not all reviews are returned include dates that reviewers were assigned and order by this criterion.', 'reviews returned but no further action taken.', 'recommendations for revision sent to author but no response as of yet.', 'author has revised article but no action has been taken.', 'article has been accepted and copyright form has been sent.', 'copyright form has been returned but article is not yet published.', 'published article is automatically removed from the active article list.', 'send communication use case name send communication xref section.', 'send response section.', 'send copyright sdd section.', 'trigger the editor selects to send communication to an author.', 'precondition the editor has accessed the article manager main screen.', 'basic path.', 'the system presents an alphabetical list of authors.', 'the editor selects an author.', 'the system invokes the editors email system entering the authors email address into the to entry.', 'the editor uses the email facility.', 'alternative paths none.', 'postcondition the communication has been sent.', 'exception paths the editor may abandon the operation at any time.', 'other the standard copyright form will be available in the editors directory for attaching to the email message if desired.', 'publish article use case name publish article xref section.', 'publish article sdd section.', 'trigger the editor selects to transfer an approved article to the online journal.', 'precondition the editor has accessed the article manager main screen.', 'basic path.', 'the system creates and presents an alphabetical list of the active articles that are flagged as having their copyright form returned.', 'the editor selects an article to publish.', 'the system accesses the online database and transfers the article and its accompanying information to the online journal database.', 'the article is removed from the active article database.', 'alternative paths none.', 'postcondition the article is properly transferred.', 'exception paths the editor may abandon the operation at any time.', 'other find out from the editor to see if the article information should be archived somewhere.', 'remove article use case name remove article xref section.', 'remove article sdd section.', 'trigger the editor selects to remove an article from the active article database.', 'precondition the editor has accessed the article manager main screen.', 'basic path.', 'the system provides an alphabetized list of all active articles.', 'the editor selects an article.', 'the system displays the information about the article and requires that the editor confirm the deletion.', 'the editor confirms the deletion.', 'alternative paths none.', 'postcondition the article is removed from the database.', 'exception paths the editor may abandon the operation at any time.', 'other find out from the editor to see if the article and its information information should be archived somewhere.', 'detailed nonfunctional requirements.', 'logical structure of the data the logical structure of the data to be stored in the internal article manager database is given below.', 'figure logical structure of the article manager data the data descriptions of each of these data entities is as follows author data entity data item type description comment name text name of principle author email address text internet address article pointer article entity may be several reviewer data entity data item type description comment name text name of principle author id integer id number of historical society member used as key in historical society database email address text internet address article pointer article entity of may be several num review integer review entity number of not returned reviews history text comments on past performance specialty category area of expertise may be several review data entity data item type description comment article pointer article entity reviewer pointer reviewer entity single reviewer date sent date date sent to reviewer returned date date returned null if not returned contents text text of review article data entity data item type description comment name text name of article author pointer author entity name of principle author other authors text other authors is any else null not pointer to an author entity reviewer pointer reviewer entity will be several review pointer review entity set up when reviewer is set up contents text body of article contains abstract as first paragraph.', 'category text area of content may be several accepted boolean article has been accepted for publication needs copyright form returned copyright boolean copyright form has been returned not relevant unless accepted is true.', 'published boolean sent to online journal not relevant unless accepted is true.', 'article is no longer active and does not appear in status checks.', 'the logical structure of the data to be stored in the online journal database on the server is as follows published article entity data item type description comment name text name of article author text name of one author may be several abstract text abstract of article used for keyword search content text body of article category text area of content may be several.', 'security the server on which the online journal resides will have its own security to prevent unauthorized writedelete access.', 'there is no restriction on read access.', 'the use of email by an author or reviewer is on the client systems and thus is external to the system.', 'the pc on which the article manager resides will have its own security.', 'only the editor will have physical access to the machine and the program on it.', 'there is no special protection built into this system other than to provide the editor with write access to the online journal to publish an article.', 'index abstract add add article article manager author category database editor field form grid historical society online journal reader review reviewer security status update update user web publishing system ii srs.', 'april.']\n"
          ]
        },
        {
          "output_type": "error",
          "ename": "NameError",
          "evalue": "ignored",
          "traceback": [
            "\u001b[0;31m---------------------------------------------------------------------------\u001b[0m",
            "\u001b[0;31mNameError\u001b[0m                                 Traceback (most recent call last)",
            "\u001b[0;32m<ipython-input-142-764a08114b92>\u001b[0m in \u001b[0;36m<module>\u001b[0;34m()\u001b[0m\n\u001b[1;32m      1\u001b[0m \u001b[0;31m#predict UCS from SRS\u001b[0m\u001b[0;34m\u001b[0m\u001b[0;34m\u001b[0m\u001b[0;34m\u001b[0m\u001b[0m\n\u001b[1;32m      2\u001b[0m \u001b[0mprint\u001b[0m\u001b[0;34m(\u001b[0m\u001b[0mclean_text\u001b[0m\u001b[0;34m)\u001b[0m\u001b[0;34m\u001b[0m\u001b[0;34m\u001b[0m\u001b[0m\n\u001b[0;32m----> 3\u001b[0;31m \u001b[0mpreds\u001b[0m\u001b[0;34m=\u001b[0m\u001b[0mpredict_UCS\u001b[0m\u001b[0;34m(\u001b[0m\u001b[0mbert_base_model\u001b[0m\u001b[0;34m,\u001b[0m \u001b[0mclean_text\u001b[0m\u001b[0;34m)\u001b[0m\u001b[0;34m\u001b[0m\u001b[0;34m\u001b[0m\u001b[0m\n\u001b[0m\u001b[1;32m      4\u001b[0m \u001b[0mprint\u001b[0m\u001b[0;34m(\u001b[0m\u001b[0mpreds\u001b[0m\u001b[0;34m)\u001b[0m\u001b[0;34m\u001b[0m\u001b[0;34m\u001b[0m\u001b[0m\n\u001b[1;32m      5\u001b[0m \u001b[0;31m#df_ucs=get_UCS(clean_text,preds)\u001b[0m\u001b[0;34m\u001b[0m\u001b[0;34m\u001b[0m\u001b[0;34m\u001b[0m\u001b[0m\n",
            "\u001b[0;31mNameError\u001b[0m: name 'predict_UCS' is not defined"
          ]
        }
      ]
    }
  ]
}
