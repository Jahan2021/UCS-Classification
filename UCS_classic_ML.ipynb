{
  "nbformat": 4,
  "nbformat_minor": 0,
  "metadata": {
    "colab": {
      "name": "UCS_classic_ML.ipynb",
      "provenance": [],
      "include_colab_link": true
    },
    "kernelspec": {
      "name": "python3",
      "display_name": "Python 3"
    }
  },
  "cells": [
    {
      "cell_type": "markdown",
      "metadata": {
        "id": "view-in-github",
        "colab_type": "text"
      },
      "source": [
        "<a href=\"https://colab.research.google.com/github/Jahan2021/UCS-Classification/blob/main/UCS_classic_ML.ipynb\" target=\"_parent\"><img src=\"https://colab.research.google.com/assets/colab-badge.svg\" alt=\"Open In Colab\"/></a>"
      ]
    },
    {
      "cell_type": "code",
      "metadata": {
        "id": "o4mZtmIr88Mm",
        "colab": {
          "base_uri": "https://localhost:8080/"
        },
        "outputId": "ab7c946b-c1ff-4dbf-d404-e0f67d680c57"
      },
      "source": [
        "#Importing the colab drive library to get the dataset\n",
        "import numpy as np\n",
        "import pandas as pd\n",
        "import matplotlib.pyplot as plt\n",
        "import seaborn as sns\n",
        "import scipy as sp\n",
        "from google.colab import drive\n",
        "from sklearn import feature_extraction, model_selection, naive_bayes, metrics, svm\n",
        "from sklearn.ensemble import RandomForestClassifier\n",
        "from sklearn.model_selection import train_test_split\n",
        "from sklearn.metrics import precision_recall_fscore_support as score\n",
        "%matplotlib inline\n",
        "drive.mount('/content/drive')"
      ],
      "execution_count": 1,
      "outputs": [
        {
          "output_type": "stream",
          "name": "stdout",
          "text": [
            "Mounted at /content/drive\n"
          ]
        }
      ]
    },
    {
      "cell_type": "code",
      "metadata": {
        "id": "KwjX77yI9JGN"
      },
      "source": [
        "dataset = pd.read_csv(\"/content/drive/MyDrive/Colab Notebooks/data/ucsdata.csv\", encoding='latin-1')\n"
      ],
      "execution_count": 2,
      "outputs": []
    },
    {
      "cell_type": "code",
      "metadata": {
        "id": "xeROP7Wg9dRM",
        "colab": {
          "base_uri": "https://localhost:8080/",
          "height": 206
        },
        "outputId": "36617268-a350-4e43-d7eb-ad4d3ad6516d"
      },
      "source": [
        "dataset.head()"
      ],
      "execution_count": 5,
      "outputs": [
        {
          "output_type": "execute_result",
          "data": {
            "text/html": [
              "<div>\n",
              "<style scoped>\n",
              "    .dataframe tbody tr th:only-of-type {\n",
              "        vertical-align: middle;\n",
              "    }\n",
              "\n",
              "    .dataframe tbody tr th {\n",
              "        vertical-align: top;\n",
              "    }\n",
              "\n",
              "    .dataframe thead th {\n",
              "        text-align: right;\n",
              "    }\n",
              "</style>\n",
              "<table border=\"1\" class=\"dataframe\">\n",
              "  <thead>\n",
              "    <tr style=\"text-align: right;\">\n",
              "      <th></th>\n",
              "      <th>label</th>\n",
              "      <th>text</th>\n",
              "    </tr>\n",
              "  </thead>\n",
              "  <tbody>\n",
              "    <tr>\n",
              "      <th>0</th>\n",
              "      <td>1</td>\n",
              "      <td>user accesses the main inventory screen.</td>\n",
              "    </tr>\n",
              "    <tr>\n",
              "      <th>1</th>\n",
              "      <td>1</td>\n",
              "      <td>system displays the add department button.</td>\n",
              "    </tr>\n",
              "    <tr>\n",
              "      <th>2</th>\n",
              "      <td>1</td>\n",
              "      <td>user navigates to a department or category see...</td>\n",
              "    </tr>\n",
              "    <tr>\n",
              "      <th>3</th>\n",
              "      <td>1</td>\n",
              "      <td>system displays the add category buttons.</td>\n",
              "    </tr>\n",
              "    <tr>\n",
              "      <th>4</th>\n",
              "      <td>1</td>\n",
              "      <td>user clicks the desired add category button.</td>\n",
              "    </tr>\n",
              "  </tbody>\n",
              "</table>\n",
              "</div>"
            ],
            "text/plain": [
              "   label                                               text\n",
              "0      1           user accesses the main inventory screen.\n",
              "1      1         system displays the add department button.\n",
              "2      1  user navigates to a department or category see...\n",
              "3      1          system displays the add category buttons.\n",
              "4      1       user clicks the desired add category button."
            ]
          },
          "metadata": {},
          "execution_count": 5
        }
      ]
    },
    {
      "cell_type": "code",
      "metadata": {
        "id": "rndTDtNUFlDS"
      },
      "source": [
        "#dataset = dataset.rename(columns = {'Category':'label','Message':'message'})"
      ],
      "execution_count": null,
      "outputs": []
    },
    {
      "cell_type": "code",
      "metadata": {
        "id": "2DtvXve5ygbp",
        "colab": {
          "base_uri": "https://localhost:8080/",
          "height": 175
        },
        "outputId": "9fe4c7ca-c193-4004-d802-6f0d10819e87"
      },
      "source": [
        "dataset.groupby('label').describe()"
      ],
      "execution_count": 3,
      "outputs": [
        {
          "output_type": "execute_result",
          "data": {
            "text/html": [
              "<div>\n",
              "<style scoped>\n",
              "    .dataframe tbody tr th:only-of-type {\n",
              "        vertical-align: middle;\n",
              "    }\n",
              "\n",
              "    .dataframe tbody tr th {\n",
              "        vertical-align: top;\n",
              "    }\n",
              "\n",
              "    .dataframe thead tr th {\n",
              "        text-align: left;\n",
              "    }\n",
              "\n",
              "    .dataframe thead tr:last-of-type th {\n",
              "        text-align: right;\n",
              "    }\n",
              "</style>\n",
              "<table border=\"1\" class=\"dataframe\">\n",
              "  <thead>\n",
              "    <tr>\n",
              "      <th></th>\n",
              "      <th colspan=\"4\" halign=\"left\">text</th>\n",
              "    </tr>\n",
              "    <tr>\n",
              "      <th></th>\n",
              "      <th>count</th>\n",
              "      <th>unique</th>\n",
              "      <th>top</th>\n",
              "      <th>freq</th>\n",
              "    </tr>\n",
              "    <tr>\n",
              "      <th>label</th>\n",
              "      <th></th>\n",
              "      <th></th>\n",
              "      <th></th>\n",
              "      <th></th>\n",
              "    </tr>\n",
              "  </thead>\n",
              "  <tbody>\n",
              "    <tr>\n",
              "      <th>0</th>\n",
              "      <td>678</td>\n",
              "      <td>652</td>\n",
              "      <td>components consist of household devices e.</td>\n",
              "      <td>2</td>\n",
              "    </tr>\n",
              "    <tr>\n",
              "      <th>1</th>\n",
              "      <td>515</td>\n",
              "      <td>450</td>\n",
              "      <td>end of use case.</td>\n",
              "      <td>6</td>\n",
              "    </tr>\n",
              "  </tbody>\n",
              "</table>\n",
              "</div>"
            ],
            "text/plain": [
              "       text                                                        \n",
              "      count unique                                         top freq\n",
              "label                                                              \n",
              "0       678    652  components consist of household devices e.    2\n",
              "1       515    450                            end of use case.    6"
            ]
          },
          "metadata": {},
          "execution_count": 3
        }
      ]
    },
    {
      "cell_type": "code",
      "metadata": {
        "id": "uD5MljD31w4Q",
        "colab": {
          "base_uri": "https://localhost:8080/",
          "height": 278
        },
        "outputId": "cae0dd32-fcad-42e9-b84f-1cc5f87ffcfb"
      },
      "source": [
        "count_Class=pd.value_counts(dataset[\"label\"], sort= True)\n",
        "count_Class.plot(kind = 'bar',color = [\"green\",\"red\"])\n",
        "plt.title('Bar Plot')\n",
        "plt.show();"
      ],
      "execution_count": 4,
      "outputs": [
        {
          "output_type": "display_data",
          "data": {
            "image/png": "[encoded data removed]",
            "text/plain": [
              "<Figure size 432x288 with 1 Axes>"
            ]
          },
          "metadata": {
            "needs_background": "light"
          }
        }
      ]
    },
    {
      "cell_type": "code",
      "source": [
        ""
      ],
      "metadata": {
        "id": "pix6t-09QNRU"
      },
      "execution_count": null,
      "outputs": []
    },
    {
      "cell_type": "code",
      "metadata": {
        "id": "OvPpoaZJLr29"
      },
      "source": [
        "df=dataset\n",
        "df=df.drop_duplicates(keep='last', ignore_index=True)"
      ],
      "execution_count": 5,
      "outputs": []
    },
    {
      "cell_type": "code",
      "metadata": {
        "colab": {
          "base_uri": "https://localhost:8080/"
        },
        "id": "CZUmGca4hrq4",
        "outputId": "8bddc552-5b2f-43eb-8ebd-5ec2233875db"
      },
      "source": [
        "df_not_usecase = df[df['label']==0]\n",
        "df_not_usecase.shape\n",
        "df_usecase = df[df['label']==1]\n",
        "df_usecase.shape\n",
        "#down sample the dataset to make it balanced\n",
        "df_not_usecase_downsampled = df_not_usecase.sample(df_usecase.shape[0])\n",
        "df_not_usecase_downsampled.shape\n",
        "df_balanced = pd.concat([df_not_usecase_downsampled, df_usecase])\n",
        "df_balanced.shape\n",
        "df_balanced['label'].value_counts()"
      ],
      "execution_count": 7,
      "outputs": [
        {
          "output_type": "execute_result",
          "data": {
            "text/plain": [
              "1    450\n",
              "0    450\n",
              "Name: label, dtype: int64"
            ]
          },
          "metadata": {},
          "execution_count": 7
        }
      ]
    },
    {
      "cell_type": "code",
      "metadata": {
        "id": "RGhCRxTeF5WN",
        "colab": {
          "base_uri": "https://localhost:8080/"
        },
        "outputId": "f0eed800-9967-4e56-9d64-04f8feb1daf3"
      },
      "source": [
        "dataset=df_balanced\n",
        "f = feature_extraction.text.CountVectorizer()\n",
        "#f = feature_extraction.text.TfidfVectorizer()\n",
        "X = f.fit_transform(dataset[\"text\"])\n",
        "np.shape(X)"
      ],
      "execution_count": 21,
      "outputs": [
        {
          "output_type": "execute_result",
          "data": {
            "text/plain": [
              "(900, 1895)"
            ]
          },
          "metadata": {},
          "execution_count": 21
        }
      ]
    },
    {
      "cell_type": "code",
      "source": [
        "dataset[\"text\"]"
      ],
      "metadata": {
        "id": "Ca2jwKNopns5"
      },
      "execution_count": null,
      "outputs": []
    },
    {
      "cell_type": "markdown",
      "metadata": {
        "id": "YB_wSIqeIEfv"
      },
      "source": [
        "**Implementing Naive Bayes**"
      ]
    },
    {
      "cell_type": "code",
      "metadata": {
        "id": "2d-TvYtgH8XA"
      },
      "source": [
        "# Classifying spam and not spam msgs as 1 and 0\n",
        "\n",
        "#dataset[\"label\"]=dataset[\"label\"].map({'spam':1,'ham':0})\n",
        "X_train, X_test, y_train, y_test = model_selection.train_test_split(X, dataset['label'], test_size=0.70, random_state=42)"
      ],
      "execution_count": 22,
      "outputs": []
    },
    {
      "cell_type": "code",
      "metadata": {
        "id": "vIQD09AZIid8"
      },
      "source": [
        "list_alpha = np.arange(1/100000, 20, 0.11)\n",
        "score_train = np.zeros(len(list_alpha))\n",
        "score_test = np.zeros(len(list_alpha))\n",
        "recall_test = np.zeros(len(list_alpha))\n",
        "precision_test= np.zeros(len(list_alpha))\n",
        "count = 0\n",
        "for alpha in list_alpha:\n",
        "    bayes = naive_bayes.MultinomialNB(alpha=alpha)\n",
        "    bayes.fit(X_train, y_train)\n",
        "    score_train[count] = bayes.score(X_train, y_train)\n",
        "    score_test[count]= bayes.score(X_test, y_test)\n",
        "    recall_test[count] = metrics.recall_score(y_test, bayes.predict(X_test))\n",
        "    precision_test[count] = metrics.precision_score(y_test, bayes.predict(X_test))\n",
        "    count = count + 1 "
      ],
      "execution_count": 23,
      "outputs": []
    },
    {
      "cell_type": "code",
      "metadata": {
        "id": "s9BMRkPlI9zb",
        "colab": {
          "base_uri": "https://localhost:8080/",
          "height": 363
        },
        "outputId": "69f5c8a3-9ee0-46ba-e01e-78767960649d"
      },
      "source": [
        "matrix = np.matrix(np.c_[list_alpha, score_train, score_test, recall_test, precision_test])\n",
        "models = pd.DataFrame(data = matrix, columns = \n",
        "             ['alpha', 'Train Accuracy', 'Test Accuracy', 'Test Recall', 'Test Precision'])\n",
        "models.head(n=10)\n",
        "\n",
        "\n"
      ],
      "execution_count": 24,
      "outputs": [
        {
          "output_type": "execute_result",
          "data": {
            "text/html": [
              "<div>\n",
              "<style scoped>\n",
              "    .dataframe tbody tr th:only-of-type {\n",
              "        vertical-align: middle;\n",
              "    }\n",
              "\n",
              "    .dataframe tbody tr th {\n",
              "        vertical-align: top;\n",
              "    }\n",
              "\n",
              "    .dataframe thead th {\n",
              "        text-align: right;\n",
              "    }\n",
              "</style>\n",
              "<table border=\"1\" class=\"dataframe\">\n",
              "  <thead>\n",
              "    <tr style=\"text-align: right;\">\n",
              "      <th></th>\n",
              "      <th>alpha</th>\n",
              "      <th>Train Accuracy</th>\n",
              "      <th>Test Accuracy</th>\n",
              "      <th>Test Recall</th>\n",
              "      <th>Test Precision</th>\n",
              "    </tr>\n",
              "  </thead>\n",
              "  <tbody>\n",
              "    <tr>\n",
              "      <th>0</th>\n",
              "      <td>0.00001</td>\n",
              "      <td>0.992593</td>\n",
              "      <td>0.882540</td>\n",
              "      <td>0.950658</td>\n",
              "      <td>0.830460</td>\n",
              "    </tr>\n",
              "    <tr>\n",
              "      <th>1</th>\n",
              "      <td>0.11001</td>\n",
              "      <td>0.992593</td>\n",
              "      <td>0.887302</td>\n",
              "      <td>0.957237</td>\n",
              "      <td>0.833811</td>\n",
              "    </tr>\n",
              "    <tr>\n",
              "      <th>2</th>\n",
              "      <td>0.22001</td>\n",
              "      <td>0.981481</td>\n",
              "      <td>0.887302</td>\n",
              "      <td>0.960526</td>\n",
              "      <td>0.831909</td>\n",
              "    </tr>\n",
              "    <tr>\n",
              "      <th>3</th>\n",
              "      <td>0.33001</td>\n",
              "      <td>0.981481</td>\n",
              "      <td>0.890476</td>\n",
              "      <td>0.967105</td>\n",
              "      <td>0.832861</td>\n",
              "    </tr>\n",
              "    <tr>\n",
              "      <th>4</th>\n",
              "      <td>0.44001</td>\n",
              "      <td>0.981481</td>\n",
              "      <td>0.884127</td>\n",
              "      <td>0.960526</td>\n",
              "      <td>0.827195</td>\n",
              "    </tr>\n",
              "    <tr>\n",
              "      <th>5</th>\n",
              "      <td>0.55001</td>\n",
              "      <td>0.981481</td>\n",
              "      <td>0.882540</td>\n",
              "      <td>0.960526</td>\n",
              "      <td>0.824859</td>\n",
              "    </tr>\n",
              "    <tr>\n",
              "      <th>6</th>\n",
              "      <td>0.66001</td>\n",
              "      <td>0.981481</td>\n",
              "      <td>0.880952</td>\n",
              "      <td>0.957237</td>\n",
              "      <td>0.824363</td>\n",
              "    </tr>\n",
              "    <tr>\n",
              "      <th>7</th>\n",
              "      <td>0.77001</td>\n",
              "      <td>0.981481</td>\n",
              "      <td>0.882540</td>\n",
              "      <td>0.960526</td>\n",
              "      <td>0.824859</td>\n",
              "    </tr>\n",
              "    <tr>\n",
              "      <th>8</th>\n",
              "      <td>0.88001</td>\n",
              "      <td>0.981481</td>\n",
              "      <td>0.882540</td>\n",
              "      <td>0.960526</td>\n",
              "      <td>0.824859</td>\n",
              "    </tr>\n",
              "    <tr>\n",
              "      <th>9</th>\n",
              "      <td>0.99001</td>\n",
              "      <td>0.977778</td>\n",
              "      <td>0.882540</td>\n",
              "      <td>0.963816</td>\n",
              "      <td>0.823034</td>\n",
              "    </tr>\n",
              "  </tbody>\n",
              "</table>\n",
              "</div>"
            ],
            "text/plain": [
              "     alpha  Train Accuracy  Test Accuracy  Test Recall  Test Precision\n",
              "0  0.00001        0.992593       0.882540     0.950658        0.830460\n",
              "1  0.11001        0.992593       0.887302     0.957237        0.833811\n",
              "2  0.22001        0.981481       0.887302     0.960526        0.831909\n",
              "3  0.33001        0.981481       0.890476     0.967105        0.832861\n",
              "4  0.44001        0.981481       0.884127     0.960526        0.827195\n",
              "5  0.55001        0.981481       0.882540     0.960526        0.824859\n",
              "6  0.66001        0.981481       0.880952     0.957237        0.824363\n",
              "7  0.77001        0.981481       0.882540     0.960526        0.824859\n",
              "8  0.88001        0.981481       0.882540     0.960526        0.824859\n",
              "9  0.99001        0.977778       0.882540     0.963816        0.823034"
            ]
          },
          "metadata": {},
          "execution_count": 24
        }
      ]
    },
    {
      "cell_type": "code",
      "source": [
        "mat = np.matrix(np.c_[ score_train, score_test])\n",
        "mat=pd.DataFrame(data = mat, columns = ['Train Accuracy', 'Test Accuracy'])\n",
        "mat.reindex(index=mat.index[::-1])\n",
        "mat.head()"
      ],
      "metadata": {
        "colab": {
          "base_uri": "https://localhost:8080/",
          "height": 206
        },
        "id": "yCCrsdgajFjK",
        "outputId": "8706cca5-daab-4e57-bc5f-380e0e515be9"
      },
      "execution_count": 25,
      "outputs": [
        {
          "output_type": "execute_result",
          "data": {
            "text/html": [
              "<div>\n",
              "<style scoped>\n",
              "    .dataframe tbody tr th:only-of-type {\n",
              "        vertical-align: middle;\n",
              "    }\n",
              "\n",
              "    .dataframe tbody tr th {\n",
              "        vertical-align: top;\n",
              "    }\n",
              "\n",
              "    .dataframe thead th {\n",
              "        text-align: right;\n",
              "    }\n",
              "</style>\n",
              "<table border=\"1\" class=\"dataframe\">\n",
              "  <thead>\n",
              "    <tr style=\"text-align: right;\">\n",
              "      <th></th>\n",
              "      <th>Train Accuracy</th>\n",
              "      <th>Test Accuracy</th>\n",
              "    </tr>\n",
              "  </thead>\n",
              "  <tbody>\n",
              "    <tr>\n",
              "      <th>0</th>\n",
              "      <td>0.992593</td>\n",
              "      <td>0.882540</td>\n",
              "    </tr>\n",
              "    <tr>\n",
              "      <th>1</th>\n",
              "      <td>0.992593</td>\n",
              "      <td>0.887302</td>\n",
              "    </tr>\n",
              "    <tr>\n",
              "      <th>2</th>\n",
              "      <td>0.981481</td>\n",
              "      <td>0.887302</td>\n",
              "    </tr>\n",
              "    <tr>\n",
              "      <th>3</th>\n",
              "      <td>0.981481</td>\n",
              "      <td>0.890476</td>\n",
              "    </tr>\n",
              "    <tr>\n",
              "      <th>4</th>\n",
              "      <td>0.981481</td>\n",
              "      <td>0.884127</td>\n",
              "    </tr>\n",
              "  </tbody>\n",
              "</table>\n",
              "</div>"
            ],
            "text/plain": [
              "   Train Accuracy  Test Accuracy\n",
              "0        0.992593       0.882540\n",
              "1        0.992593       0.887302\n",
              "2        0.981481       0.887302\n",
              "3        0.981481       0.890476\n",
              "4        0.981481       0.884127"
            ]
          },
          "metadata": {},
          "execution_count": 25
        }
      ]
    },
    {
      "cell_type": "code",
      "metadata": {
        "id": "XEmJr7bJJBQL",
        "colab": {
          "base_uri": "https://localhost:8080/"
        },
        "outputId": "c09d1d36-a2df-4f20-8847-5a26997ff420"
      },
      "source": [
        "best_index = models['Test Precision'].idxmax()\n",
        "models.iloc[best_index, :]"
      ],
      "execution_count": 27,
      "outputs": [
        {
          "output_type": "execute_result",
          "data": {
            "text/plain": [
              "alpha             0.110010\n",
              "Train Accuracy    0.992593\n",
              "Test Accuracy     0.887302\n",
              "Test Recall       0.957237\n",
              "Test Precision    0.833811\n",
              "Name: 1, dtype: float64"
            ]
          },
          "metadata": {},
          "execution_count": 27
        }
      ]
    },
    {
      "cell_type": "code",
      "metadata": {
        "id": "beisshlgvop_"
      },
      "source": [
        "#nb = RandomForestClassifier(n_estimators=100,max_depth=None,n_jobs=-1)\n",
        "#nb_model = rf.fit(X_train,y_train)\n",
        "bayes = naive_bayes.MultinomialNB(alpha=alpha)\n",
        "nb_model=bayes.fit(X_train, y_train)"
      ],
      "execution_count": 29,
      "outputs": []
    },
    {
      "cell_type": "code",
      "metadata": {
        "id": "OG2LbVs8vtkK"
      },
      "source": [
        "y_pred1=bayes.predict(X_test)"
      ],
      "execution_count": 30,
      "outputs": []
    },
    {
      "cell_type": "code",
      "metadata": {
        "colab": {
          "base_uri": "https://localhost:8080/"
        },
        "id": "8LdQCl8kvc-z",
        "outputId": "049de836-5b77-407e-8a0f-f47569cc34bd"
      },
      "source": [
        "from sklearn.metrics import classification_report, confusion_matrix, accuracy_score \n",
        "\n",
        "print(confusion_matrix(y_test,y_pred1)) \n",
        "print(classification_report(y_test,y_pred1)) \n",
        "print(accuracy_score(y_test,y_pred1))"
      ],
      "execution_count": 31,
      "outputs": [
        {
          "output_type": "stream",
          "name": "stdout",
          "text": [
            "[[196 130]\n",
            " [  6 298]]\n",
            "              precision    recall  f1-score   support\n",
            "\n",
            "           0       0.97      0.60      0.74       326\n",
            "           1       0.70      0.98      0.81       304\n",
            "\n",
            "    accuracy                           0.78       630\n",
            "   macro avg       0.83      0.79      0.78       630\n",
            "weighted avg       0.84      0.78      0.78       630\n",
            "\n",
            "0.7841269841269841\n"
          ]
        }
      ]
    },
    {
      "cell_type": "code",
      "source": [
        "#AUC curve\n"
      ],
      "metadata": {
        "id": "djkpFzPZj2eL"
      },
      "execution_count": null,
      "outputs": []
    },
    {
      "cell_type": "markdown",
      "metadata": {
        "id": "_xu4BP5EJtN5"
      },
      "source": [
        "**Random Forest Method**"
      ]
    },
    {
      "cell_type": "code",
      "metadata": {
        "id": "no3hqQoCJvyn"
      },
      "source": [
        "rf = RandomForestClassifier(n_estimators=100,max_depth=None,n_jobs=-1)\n",
        "rf_model = rf.fit(X_train,y_train)"
      ],
      "execution_count": 100,
      "outputs": []
    },
    {
      "cell_type": "code",
      "metadata": {
        "id": "2JrMpC5CJxtK",
        "colab": {
          "base_uri": "https://localhost:8080/"
        },
        "outputId": "9c7e54b4-759f-4311-db5e-56940b462b6f"
      },
      "source": [
        "y_pred2=rf_model.predict(X_test)\n",
        "precision,recall,fscore,support =score(y_test,y_pred2,pos_label=1, average ='binary')\n",
        "print('Precision : {} / Recall : {} / fscore : {} / Accuracy: {}'.format(round(precision,3),round(recall,3),round(fscore,3),round((y_pred2==y_test).sum()/len(y_test),3)))"
      ],
      "execution_count": 101,
      "outputs": [
        {
          "output_type": "stream",
          "name": "stdout",
          "text": [
            "Precision : 0.857 / Recall : 0.888 / fscore : 0.872 / Accuracy: 0.875\n"
          ]
        }
      ]
    },
    {
      "cell_type": "code",
      "metadata": {
        "colab": {
          "base_uri": "https://localhost:8080/"
        },
        "id": "kwaoHdeSu5O7",
        "outputId": "cb336089-b8cc-4d9e-e9cd-0f59087d9711"
      },
      "source": [
        "from sklearn.metrics import classification_report, confusion_matrix, accuracy_score \n",
        "\n",
        "print(confusion_matrix(y_test,y_pred2)) \n",
        "print(classification_report(y_test,y_pred2)) \n",
        "print(accuracy_score(y_test,y_pred2))"
      ],
      "execution_count": 102,
      "outputs": [
        {
          "output_type": "stream",
          "name": "stdout",
          "text": [
            "[[281  45]\n",
            " [ 34 270]]\n",
            "              precision    recall  f1-score   support\n",
            "\n",
            "           0       0.89      0.86      0.88       326\n",
            "           1       0.86      0.89      0.87       304\n",
            "\n",
            "    accuracy                           0.87       630\n",
            "   macro avg       0.87      0.88      0.87       630\n",
            "weighted avg       0.88      0.87      0.87       630\n",
            "\n",
            "0.8746031746031746\n"
          ]
        }
      ]
    },
    {
      "cell_type": "code",
      "metadata": {
        "id": "8hDtx4MCxLkw"
      },
      "source": [
        "from sklearn import metrics\n",
        "targets=y_test\n",
        "fpr1, tpr1, thresh1 = metrics.roc_curve(targets, y_pred1, pos_label=1)\n",
        "fpr2, tpr2, thresh2 = metrics.roc_curve(y_test, y_pred2, pos_label=1)\n",
        "\n",
        "# roc curve for tpr = fpr \n",
        "random_probs = [0 for i in range(len(targets))]\n",
        "p_fpr, p_tpr, _ = metrics.roc_curve(targets, random_probs, pos_label=1)\n",
        "auc_score1 = metrics.roc_auc_score(targets, y_pred1)\n",
        "auc_score2 = metrics.roc_auc_score(targets, y_pred2)"
      ],
      "execution_count": 103,
      "outputs": []
    },
    {
      "cell_type": "code",
      "metadata": {
        "colab": {
          "base_uri": "https://localhost:8080/",
          "height": 376
        },
        "id": "tRvMB7Svw9gv",
        "outputId": "4bff5d96-42b0-4770-ce02-813370d0afb6"
      },
      "source": [
        "# matplotlib\n",
        "import matplotlib.pyplot as plt\n",
        "plt.style.use('seaborn')\n",
        "\n",
        "# plot roc curves\n",
        "plt.plot(fpr1, tpr1, linestyle='--',color='orange', label='Naive Bayes ('+str(auc_score1.round(2))+')')\n",
        "plt.plot(fpr2, tpr2, linestyle='--',color='green', label='Random Forest('+str(auc_score2.round(2))+')')\n",
        "plt.plot(p_fpr, p_tpr, linestyle='--', color='blue')\n",
        "# title\n",
        "plt.title('ROC curve')\n",
        "# x label\n",
        "plt.xlabel('False Positive Rate')\n",
        "# y label\n",
        "plt.ylabel('True Positive rate')\n",
        "\n",
        "plt.legend(loc='lower right')\n",
        "\n",
        "plt.savefig('ROC_CML.png',dpi=300)\n",
        "plt.show();"
      ],
      "execution_count": 104,
      "outputs": [
        {
          "output_type": "display_data",
          "data": {
            "image/png": "[encoded data removed]",
            "text/plain": [
              "<Figure size 576x396 with 1 Axes>"
            ]
          },
          "metadata": {}
        }
      ]
    },
    {
      "cell_type": "code",
      "metadata": {
        "id": "3QBb0i-1r2Ft"
      },
      "source": [
        "#write functions to detect if the message is spam or not\n",
        "def find(x):\n",
        "    if x == 1:\n",
        "        print (\"Message is UCS\")\n",
        "    else:\n",
        "        print (\"Message is NOT UCS\")"
      ],
      "execution_count": 105,
      "outputs": []
    },
    {
      "cell_type": "code",
      "source": [
        "test3 = [\"User selects a transformation language program file to parse. \",\n",
        "\"The HATS-GUI compares the time stamps on the lexical specification and grammar files to the time.\",\n",
        "          \"agentMom shall 1-2 support the ability to send unicast message.\"]"
      ],
      "metadata": {
        "id": "TFPirZAVmWas"
      },
      "execution_count": 106,
      "outputs": []
    },
    {
      "cell_type": "code",
      "metadata": {
        "id": "kG7Suz8_r3hS"
      },
      "source": [
        "newtext = ['User selects a transformation language program file to parse.']\n",
        "f = feature_extraction.text.CountVectorizer()\n",
        "f.fit(dataset[\"text\"])\n",
        "x = f.transform(test3)\n",
        "\n"
      ],
      "execution_count": 119,
      "outputs": []
    },
    {
      "cell_type": "code",
      "source": [
        "x.shape"
      ],
      "metadata": {
        "colab": {
          "base_uri": "https://localhost:8080/"
        },
        "id": "nlxB2qFDnd6m",
        "outputId": "fccd35d2-ee2e-4316-a9e5-025ee3cad387"
      },
      "execution_count": 72,
      "outputs": [
        {
          "output_type": "execute_result",
          "data": {
            "text/plain": [
              "(1, 1705)"
            ]
          },
          "metadata": {},
          "execution_count": 72
        }
      ]
    },
    {
      "cell_type": "code",
      "source": [
        ""
      ],
      "metadata": {
        "id": "D8Mn5z4r3MV2"
      },
      "execution_count": null,
      "outputs": []
    },
    {
      "cell_type": "code",
      "metadata": {
        "colab": {
          "base_uri": "https://localhost:8080/"
        },
        "id": "vTee1x44scPH",
        "outputId": "c1a7960f-8c93-493e-e445-e9acfe152217"
      },
      "source": [
        "y = rf_model.predict_proba(x)\n",
        "#find(x) \n",
        "print(y)\n",
        "print(rf_model.predict(x))"
      ],
      "execution_count": 120,
      "outputs": [
        {
          "output_type": "stream",
          "name": "stdout",
          "text": [
            "[[0.09 0.91]\n",
            " [0.41 0.59]\n",
            " [0.72 0.28]]\n",
            "[1 1 0]\n"
          ]
        }
      ]
    },
    {
      "cell_type": "code",
      "source": [
        "y=bayes.predict_proba(x)\n",
        "print(y)\n",
        "print(bayes.predict(x))"
      ],
      "metadata": {
        "colab": {
          "base_uri": "https://localhost:8080/"
        },
        "id": "sQ828n032U22",
        "outputId": "42faa704-4d05-430a-cf8a-5e168c961715"
      },
      "execution_count": 121,
      "outputs": [
        {
          "output_type": "stream",
          "name": "stdout",
          "text": [
            "[[0.06715065 0.93284935]\n",
            " [0.15578585 0.84421415]\n",
            " [0.35549735 0.64450265]]\n",
            "[1 1 1]\n"
          ]
        }
      ]
    },
    {
      "cell_type": "code",
      "source": [
        "T=[\"Store assistant checks status of the tape to be returned by customer. \",\"PDF Split and Merge was created prior to this document, so all requirements stated here are already satisfied.\",\"Cashier enters item identifier.\",\n",
        "\"System updates the sale line item.\"]\n",
        "x=f.transform(T)\n",
        "y=bayes.predict(x)\n",
        "y"
      ],
      "metadata": {
        "colab": {
          "base_uri": "https://localhost:8080/"
        },
        "id": "3gNvNSCc0Hkt",
        "outputId": "12ca37fb-c3f6-48ed-ceec-3e108103ca59"
      },
      "execution_count": 118,
      "outputs": [
        {
          "output_type": "execute_result",
          "data": {
            "text/plain": [
              "array([0, 0, 1, 1])"
            ]
          },
          "metadata": {},
          "execution_count": 118
        }
      ]
    },
    {
      "cell_type": "code",
      "source": [
        "y=rf_model.predict(x)\n",
        "y"
      ],
      "metadata": {
        "colab": {
          "base_uri": "https://localhost:8080/"
        },
        "id": "HmE_aSgc0X3c",
        "outputId": "44f2086d-5b95-4213-f276-4c21b5950ce5"
      },
      "execution_count": 112,
      "outputs": [
        {
          "output_type": "execute_result",
          "data": {
            "text/plain": [
              "array([0, 0, 1, 1])"
            ]
          },
          "metadata": {},
          "execution_count": 112
        }
      ]
    }
  ]
}